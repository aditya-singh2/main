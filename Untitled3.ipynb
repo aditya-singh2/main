{
 "cells": [
  {
   "cell_type": "code",
   "execution_count": 3,
   "id": "9222b14c",
   "metadata": {},
   "outputs": [
    {
     "name": "stdout",
     "output_type": "stream",
     "text": [
      "\u001b[33mWARNING: The directory '/home/mosaic-ai/.cache/pip/http' or its parent directory is not owned by the current user and the cache has been disabled. Please check the permissions and owner of that directory. If executing pip with sudo, you may want sudo's -H flag.\u001b[0m\n",
      "\u001b[33mWARNING: The directory '/home/mosaic-ai/.cache/pip' or its parent directory is not owned by the current user and caching wheels has been disabled. check the permissions and owner of that directory. If executing pip with sudo, you may want sudo's -H flag.\u001b[0m\n",
      "Collecting pip\n",
      "\u001b[?25l  Downloading https://files.pythonhosted.org/packages/47/6a/453160888fab7c6a432a6e25f8afe6256d0d9f2cbd25971021da6491d899/pip-23.3.1-py3-none-any.whl (2.1MB)\n",
      "\u001b[K     |████████████████████████████████| 2.1MB 7.4MB/s eta 0:00:01\n",
      "\u001b[?25hCollecting setuptools\n",
      "\u001b[?25l  Downloading https://files.pythonhosted.org/packages/bb/e1/ed2dd0850446b8697ad28d118df885ad04140c64ace06c4bd559f7c8a94f/setuptools-69.0.2-py3-none-any.whl (819kB)\n",
      "\u001b[K     |████████████████████████████████| 829kB 53.7MB/s eta 0:00:01\n",
      "\u001b[?25hInstalling collected packages: pip, setuptools\n",
      "Successfully installed pip-23.3.1 setuptools-69.0.2\n",
      "\u001b[33mWARNING: You are using pip version 19.3.1; however, version 23.3.1 is available.\n",
      "You should consider upgrading via the 'pip install --upgrade pip' command.\u001b[0m\n"
     ]
    }
   ],
   "source": [
    "!pip install -U pip setuptools"
   ]
  },
  {
   "cell_type": "code",
   "execution_count": 2,
   "id": "108e16aa",
   "metadata": {
    "scrolled": true
   },
   "outputs": [
    {
     "name": "stdout",
     "output_type": "stream",
     "text": [
      "\u001b[33mWARNING: The directory '/home/mosaic-ai/.cache/pip/http' or its parent directory is not owned by the current user and the cache has been disabled. Please check the permissions and owner of that directory. If executing pip with sudo, you may want sudo's -H flag.\u001b[0m\n",
      "\u001b[33mWARNING: The directory '/home/mosaic-ai/.cache/pip' or its parent directory is not owned by the current user and caching wheels has been disabled. check the permissions and owner of that directory. If executing pip with sudo, you may want sudo's -H flag.\u001b[0m\n",
      "Collecting chromadb\n",
      "\u001b[?25l  Downloading https://files.pythonhosted.org/packages/0d/e9/117169df4027a5475ec6406c49f4c5f0ed2b7a7e46d10f02ab5fc049e9ca/chromadb-0.4.18-py3-none-any.whl (502kB)\n",
      "\u001b[K     |████████████████████████████████| 512kB 7.1MB/s eta 0:00:01\n",
      "\u001b[?25hCollecting PyYAML>=6.0.0\n",
      "\u001b[?25l  Downloading https://files.pythonhosted.org/packages/c8/6b/6600ac24725c7388255b2f5add93f91e58a5d7efaf4af244fdbcc11a541b/PyYAML-6.0.1-cp38-cp38-manylinux_2_17_x86_64.manylinux2014_x86_64.whl (736kB)\n",
      "\u001b[K     |████████████████████████████████| 737kB 18.9MB/s eta 0:00:01\n",
      "\u001b[?25hCollecting opentelemetry-sdk>=1.2.0\n",
      "\u001b[?25l  Downloading https://files.pythonhosted.org/packages/c3/08/ca8b1ef7a2fa3f1ea2f12770eca8976098066adb442b1da81fea3b370123/opentelemetry_sdk-1.21.0-py3-none-any.whl (105kB)\n",
      "\u001b[K     |████████████████████████████████| 112kB 40.2MB/s eta 0:00:01\n",
      "\u001b[?25hCollecting opentelemetry-exporter-otlp-proto-grpc>=1.2.0\n",
      "  Downloading https://files.pythonhosted.org/packages/75/59/ec3e39fe164c61306998cdd3cd30a857c4da2f8d3141204a929e57668eee/opentelemetry_exporter_otlp_proto_grpc-1.21.0-py3-none-any.whl\n",
      "Collecting onnxruntime>=1.14.1\n",
      "\u001b[?25l  Downloading https://files.pythonhosted.org/packages/ce/de/689d34a5524721330e03389e5d3171cb759dd5b332d7ee2576f6a2fa678e/onnxruntime-1.16.3-cp38-cp38-manylinux_2_17_x86_64.manylinux2014_x86_64.whl (6.4MB)\n",
      "\u001b[K     |████████████████████████████████| 6.4MB 38.8MB/s eta 0:00:01\n",
      "\u001b[?25hCollecting numpy>=1.22.5; python_version >= \"3.8\"\n",
      "\u001b[?25l  Downloading https://files.pythonhosted.org/packages/98/5d/5738903efe0ecb73e51eb44feafba32bdba2081263d40c5043568ff60faf/numpy-1.24.4-cp38-cp38-manylinux_2_17_x86_64.manylinux2014_x86_64.whl (17.3MB)\n",
      "\u001b[K     |████████████████████████████████| 17.3MB 120.7MB/s eta 0:00:01\n",
      "\u001b[?25hCollecting pulsar-client>=3.1.0\n",
      "\u001b[?25l  Downloading https://files.pythonhosted.org/packages/54/6a/82247e2be137d60a486f37997c0098b7984ad9407fc5e92aa4acfe425428/pulsar_client-3.3.0-cp38-cp38-manylinux_2_17_x86_64.manylinux2014_x86_64.whl (5.4MB)\n",
      "\u001b[K     |████████████████████████████████| 5.4MB 99.5MB/s eta 0:00:01\n",
      "\u001b[?25hCollecting typing-extensions>=4.5.0\n",
      "  Downloading https://files.pythonhosted.org/packages/24/21/7d397a4b7934ff4028987914ac1044d3b7d52712f30e2ac7a2ae5bc86dd0/typing_extensions-4.8.0-py3-none-any.whl\n",
      "Collecting grpcio>=1.58.0\n",
      "\u001b[?25l  Downloading https://files.pythonhosted.org/packages/2f/29/03a7b9b054534c3aaeb9ee71685aca2e391a90f55412b3a52f02c598d319/grpcio-1.59.3-cp38-cp38-manylinux_2_17_x86_64.manylinux2014_x86_64.whl (5.3MB)\n",
      "\u001b[K     |████████████████████████████████| 5.3MB 85.5MB/s eta 0:00:01\n",
      "\u001b[?25hCollecting chroma-hnswlib==0.7.3\n",
      "\u001b[?25l  Downloading https://files.pythonhosted.org/packages/1a/ed/90526fb263945e72760603958c43cdef1a8725d2f6de70dcb21a4b4fa977/chroma_hnswlib-0.7.3-cp38-cp38-manylinux_2_17_x86_64.manylinux2014_x86_64.whl (2.4MB)\n",
      "\u001b[K     |████████████████████████████████| 2.4MB 109.0MB/s eta 0:00:01\n",
      "\u001b[?25hCollecting overrides>=7.3.1\n",
      "  Downloading https://files.pythonhosted.org/packages/da/28/3fa6ef8297302fc7b3844980b6c5dbc71cdbd4b61e9b2591234214d5ab39/overrides-7.4.0-py3-none-any.whl\n",
      "Collecting pypika>=0.48.9\n",
      "\u001b[?25l  Downloading https://files.pythonhosted.org/packages/c7/2c/94ed7b91db81d61d7096ac8f2d325ec562fc75e35f3baea8749c85b28784/PyPika-0.48.9.tar.gz (67kB)\n",
      "\u001b[K     |████████████████████████████████| 71kB 96.4MB/s eta 0:00:01\n",
      "\u001b[?25h  Installing build dependencies ... \u001b[?25lerror\n",
      "\u001b[31m  ERROR: Command errored out with exit status 2:\n",
      "   command: /opt/conda/bin/python /opt/conda/lib/python3.8/site-packages/pip install --ignore-installed --no-user --prefix /tmp/pip-build-env-lu32gynn/overlay --no-warn-script-location --no-binary :none: --only-binary :none: -i https://pypi.org/simple -- 'setuptools>=40.8.0' wheel\n",
      "       cwd: None\n",
      "  Complete output (26 lines):\n",
      "  WARNING: The directory '/home/mosaic-ai/.cache/pip/http' or its parent directory is not owned by the current user and the cache has been disabled. Please check the permissions and owner of that directory. If executing pip with sudo, you may want sudo's -H flag.\n",
      "  WARNING: The directory '/home/mosaic-ai/.cache/pip' or its parent directory is not owned by the current user and caching wheels has been disabled. check the permissions and owner of that directory. If executing pip with sudo, you may want sudo's -H flag.\n",
      "  Collecting setuptools>=40.8.0\n",
      "    Downloading https://files.pythonhosted.org/packages/bb/e1/ed2dd0850446b8697ad28d118df885ad04140c64ace06c4bd559f7c8a94f/setuptools-69.0.2-py3-none-any.whl (819kB)\n",
      "  Collecting wheel\n",
      "    Downloading https://files.pythonhosted.org/packages/c7/c3/55076fc728723ef927521abaa1955213d094933dc36d4a2008d5101e1af5/wheel-0.42.0-py3-none-any.whl (65kB)\n",
      "  Installing collected packages: setuptools, wheel\n",
      "  ERROR: Exception:\n",
      "  Traceback (most recent call last):\n",
      "    File \"/opt/conda/lib/python3.8/site-packages/pip/_internal/cli/base_command.py\", line 153, in _main\n",
      "      status = self.run(options, args)\n",
      "    File \"/opt/conda/lib/python3.8/site-packages/pip/_internal/commands/install.py\", line 446, in run\n",
      "      installed = install_given_reqs(\n",
      "    File \"/opt/conda/lib/python3.8/site-packages/pip/_internal/req/__init__.py\", line 58, in install_given_reqs\n",
      "      requirement.install(\n",
      "    File \"/opt/conda/lib/python3.8/site-packages/pip/_internal/req/req_install.py\", line 858, in install\n",
      "      self.move_wheel_files(\n",
      "    File \"/opt/conda/lib/python3.8/site-packages/pip/_internal/req/req_install.py\", line 487, in move_wheel_files\n",
      "      wheel.move_wheel_files(\n",
      "    File \"/opt/conda/lib/python3.8/site-packages/pip/_internal/wheel.py\", line 353, in move_wheel_files\n",
      "      scheme = distutils_scheme(\n",
      "    File \"/opt/conda/lib/python3.8/site-packages/pip/_internal/locations.py\", line 118, in distutils_scheme\n",
      "      assert not (home and prefix), \"home={} prefix={}\".format(home, prefix)\n",
      "  AssertionError: home=/tmp/pip-target-9d3uc7vd prefix=/tmp/pip-build-env-lu32gynn/overlay\n",
      "  WARNING: You are using pip version 19.3.1; however, version 23.3.1 is available.\n",
      "  You should consider upgrading via the 'pip install --upgrade pip' command.\n",
      "  ----------------------------------------\u001b[0m\n",
      "\u001b[31mERROR: Command errored out with exit status 2: /opt/conda/bin/python /opt/conda/lib/python3.8/site-packages/pip install --ignore-installed --no-user --prefix /tmp/pip-build-env-lu32gynn/overlay --no-warn-script-location --no-binary :none: --only-binary :none: -i https://pypi.org/simple -- 'setuptools>=40.8.0' wheel Check the logs for full command output.\u001b[0m\n",
      "\u001b[33mWARNING: You are using pip version 19.3.1; however, version 23.3.1 is available.\n",
      "You should consider upgrading via the 'pip install --upgrade pip' command.\u001b[0m\n",
      "\u001b[?25h"
     ]
    }
   ],
   "source": [
    "!pip install chromadb --user"
   ]
  },
  {
   "cell_type": "code",
   "execution_count": null,
   "id": "06acd395",
   "metadata": {},
   "outputs": [],
   "source": []
  }
 ],
 "metadata": {
  "kernelspec": {
   "display_name": "Python 3",
   "language": "python",
   "name": "python3"
  },
  "language_info": {
   "codemirror_mode": {
    "name": "ipython",
    "version": 3
   },
   "file_extension": ".py",
   "mimetype": "text/x-python",
   "name": "python",
   "nbconvert_exporter": "python",
   "pygments_lexer": "ipython3",
   "version": "3.8.18"
  }
 },
 "nbformat": 4,
 "nbformat_minor": 5
}
