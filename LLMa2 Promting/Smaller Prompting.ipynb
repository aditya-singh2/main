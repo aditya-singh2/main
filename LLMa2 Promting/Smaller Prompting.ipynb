{
 "cells": [
  {
   "cell_type": "code",
   "execution_count": 1,
   "id": "b5f73afb",
   "metadata": {},
   "outputs": [],
   "source": [
    "!sudo pip install --upgrade transformers"
   ]
  },
  {
   "cell_type": "code",
   "execution_count": 1,
   "id": "ecf50507",
   "metadata": {},
   "outputs": [
    {
     "name": "stdout",
     "output_type": "stream",
     "text": [
      "4.34.1\n"
     ]
    }
   ],
   "source": [
    "import os\n",
    "import torch\n",
    "from transformers import AutoModelForCausalLM, AutoTokenizer,BitsAndBytesConfig\n",
    "import json\n",
    "#from Gpt4_OpenAI_Prompt import system_msg,context,postprocess\n",
    "#from prompt1 import system_msg\n",
    "import transformers\n",
    "print(transformers.__version__)"
   ]
  },
  {
   "cell_type": "code",
   "execution_count": 2,
   "id": "19a77e63",
   "metadata": {},
   "outputs": [
    {
     "name": "stdout",
     "output_type": "stream",
     "text": [
      "True\n",
      "Tesla T4\n"
     ]
    }
   ],
   "source": [
    "print(torch.cuda.is_available())\n",
    "print(torch.cuda.get_device_name())"
   ]
  },
  {
   "cell_type": "code",
   "execution_count": 16,
   "id": "c840ecf2",
   "metadata": {},
   "outputs": [],
   "source": [
    "################################################################################\n",
    "# bitsandbytes parameters\n",
    "################################################################################\n",
    "\n",
    "# Activate 4-bit precision base model loading\n",
    "use_4bit = True\n",
    "\n",
    "# Compute dtype for 4-bit base models\n",
    "bnb_4bit_compute_dtype = \"float32\"\n",
    "\n",
    "# Quantization type (fp4 or nf4)\n",
    "bnb_4bit_quant_type = \"fp4\"\n",
    "\n",
    "compute_dtype = getattr(torch, bnb_4bit_compute_dtype)\n",
    "\n",
    "# Activate nested quantization for 4-bit base models (double quantization)\n",
    "use_nested_quant = False\n",
    "\n",
    "bnb_config = BitsAndBytesConfig(\n",
    "    load_in_4bit=use_4bit,\n",
    "    bnb_4bit_quant_type=bnb_4bit_quant_type,\n",
    "    bnb_4bit_compute_dtype=compute_dtype,\n",
    "    bnb_4bit_use_double_quant=use_nested_quant,\n",
    ")\n",
    "# Load the entire model on the GPU 0\n",
    "device_map = {\"\": 0}\n"
   ]
  },
  {
   "cell_type": "code",
   "execution_count": 17,
   "id": "d30e2279",
   "metadata": {},
   "outputs": [
    {
     "data": {
      "application/vnd.jupyter.widget-view+json": {
       "model_id": "7600a5ce3610426abba081ae0378c1f5",
       "version_major": 2,
       "version_minor": 0
      },
      "text/plain": [
       "Loading checkpoint shards:   0%|          | 0/2 [00:00<?, ?it/s]"
      ]
     },
     "metadata": {},
     "output_type": "display_data"
    }
   ],
   "source": [
    "# Load model directly\n",
    "from transformers import AutoTokenizer, AutoModelForCausalLM\n",
    "\n",
    "model_name = \"mistralai/Mistral-7B-Instruct-v0.1\"\n",
    "model_mistral = AutoModelForCausalLM.from_pretrained(model_name,quantization_config=bnb_config,\n",
    "    device_map=device_map)\n",
    "tokenizer_mistral = AutoTokenizer.from_pretrained(model_name)"
   ]
  },
  {
   "cell_type": "code",
   "execution_count": 5,
   "id": "f6c89170",
   "metadata": {},
   "outputs": [],
   "source": [
    "def gereneate_output_mistral(prompt):\n",
    "    #prompt = json.dumps(prompt)\n",
    "    model_input = tokenizer_mistral(prompt, return_tensors=\"pt\").to(\"cuda\")\n",
    "    #model.eval()\n",
    "    response = tokenizer_mistral.decode(model_mistral.generate(**model_input, max_length=4069*2)[0], skip_special_tokens=True)\n",
    "    return response"
   ]
  },
  {
   "cell_type": "code",
   "execution_count": 38,
   "id": "de6aacb9",
   "metadata": {},
   "outputs": [],
   "source": [
    "################################################################################\n",
    "# Setting the same prompt which is used for GPT4 open AI\n",
    "################################################################################\n",
    "\n",
    "def get_user_question_for_open_ai_prompt(question):\n",
    "    #return \"\"\"Now Based on this following \"CONTEXT\" data lookup:\\n\"\"\" + str(context) + \"\\n return a response for the question:\\n\" + question + \"\\n\"\n",
    "    return \"\\n Now detect from this question:\\n\" + question + \"\\n\"\n",
    "\n",
    "def compose_prompt_open_ai_prompt(question,base_prompt):\n",
    "    return f\"\"\"[INST]<<SYS>>\n",
    "            {base_prompt}\n",
    "            <</SYS>>\n",
    "            {get_user_question_for_open_ai_prompt(question)}\n",
    "            [/INST]\n",
    "            [END]\"\"\"\n",
    "\n",
    "def post_process_open_ai_prompt_response(output):\n",
    "    mql = output.split(\"[END]\")[1].split(\"\\n\\nReasoning:\\n\\n\")[0]\n",
    "    reason = output.split(\"[END]\")[1].split(\"\\n\\nReasoning:\\n\\n\")[1]\n",
    "    print(\"*\"*50+\"MQL\"+\"*\"*50)\n",
    "    print(mql)\n",
    "    print(\"\\n\"+\"*\"*50+\"Reason\"+\"*\"*50)\n",
    "    print(reason)\n",
    "    #return mql,reason"
   ]
  },
  {
   "cell_type": "code",
   "execution_count": 39,
   "id": "d76bbf2e",
   "metadata": {},
   "outputs": [],
   "source": [
    "METRIC_CONSTRAINT= \"\"\"\n",
    "\n",
    "**Task**: Extract \"COMPARISON OPERATOR,\" \"COMPARISON VALUE,\" and the Targeted ENTITY\n",
    "\n",
    "**Instructions**:\n",
    "\n",
    "1. Read the input question carefully.\n",
    "2. Determine if there is a comparison intent present, such as \"greater than,\" \"less than,\" or \"equals to.\" etc, If there is a comparison intent, please proceed to extract the relevant information.\n",
    "3. Extract the \"COMPARISON OPERATOR\" based on the detected intent. Examples of \"COMPARISON OPERATORS\" include \"greater than,\" \"less than,\" and \"equals to.\"\n",
    "4. Identify and extract the \"COMPARISON VALUE\" from the sentence. This should be a numerical or scalar value.\n",
    "5. Detect the ENTITY (e.g., \"Sales\") on which these comparisons are applied. Please extract the relevant entity.\n",
    "6. Provide the following information:\n",
    "   - COMPARISON OPERATOR: (If detected else None) \n",
    "   - COMPARISON VALUE: (If detected else None)\n",
    "   - ENTITY: (If detected else None)\n",
    "\n",
    "**Input Sentence**: \"When was the first time sales of segments was 0\"\n",
    "\n",
    "**Output**:\n",
    "- COMPARISON OPERATOR: (If detected)\n",
    "- COMPARISON VALUE: (If detected)\n",
    "- ENTITY: Sales (If detected)\n",
    "\n",
    "*Note*: If the input sentence does not contain any comparison intent or the entity, you can indicate that they were not detected.\n",
    "\n",
    "\"\"\""
   ]
  },
  {
   "cell_type": "code",
   "execution_count": 35,
   "id": "e5a7c77c",
   "metadata": {},
   "outputs": [
    {
     "name": "stderr",
     "output_type": "stream",
     "text": [
      "Setting `pad_token_id` to `eos_token_id`:2 for open-end generation.\n"
     ]
    },
    {
     "name": "stdout",
     "output_type": "stream",
     "text": [
      "CPU times: user 26 s, sys: 653 ms, total: 26.6 s\n",
      "Wall time: 26.7 s\n"
     ]
    }
   ],
   "source": [
    "%%time\n",
    "question = \"show me quantities > 100K\"\n",
    "output=gereneate_output_mistral(compose_prompt_open_ai_prompt(question,METRIC_CONSTRAINT))\n",
    "#post_process_open_ai_prompt_response(output)"
   ]
  },
  {
   "cell_type": "code",
   "execution_count": 36,
   "id": "7c945bd0",
   "metadata": {},
   "outputs": [
    {
     "name": "stdout",
     "output_type": "stream",
     "text": [
      "[INST]<<SYS>>\n",
      "            \n",
      "\n",
      "**Task**: Extract \"COMPARISON OPERATOR,\" \"COMPARISON VALUE,\" and the Targeted ENTITY\n",
      "\n",
      "**Instructions**:\n",
      "\n",
      "1. Read the input question carefully.\n",
      "2. Determine if there is a comparison intent present, such as \"greater than,\" \"less than,\" or \"equals to.\" etc, If there is a comparison intent, please proceed to extract the relevant information.\n",
      "3. Extract the \"COMPARISON OPERATOR\" based on the detected intent. Examples of \"COMPARISON OPERATORS\" include \"greater than,\" \"less than,\" and \"equals to.\"\n",
      "4. Identify and extract the \"COMPARISON VALUE\" from the sentence. This should be a numerical or scalar value.\n",
      "5. Detect the ENTITY (e.g., \"Sales\") on which these comparisons are applied. Please extract the relevant entity.\n",
      "6. Provide the following information:\n",
      "   - COMPARISON OPERATOR: (If detected else None) \n",
      "   - COMPARISON VALUE: (If detected else None)\n",
      "   - ENTITY: (If detected else None)\n",
      "\n",
      "**Input Sentence**: \"When was the first time sales of segments was 0\"\n",
      "\n",
      "**Output**:\n",
      "- COMPARISON OPERATOR: (If detected)\n",
      "- COMPARISON VALUE: (If detected)\n",
      "- ENTITY: Sales (If detected)\n",
      "\n",
      "*Note*: If the input sentence does not contain any comparison intent or the entity, you can indicate that they were not detected.\n",
      "\n",
      "\n",
      "            <</SYS>>\n",
      "            \n",
      " Now detect from this question:\n",
      "show me quantities > 100K\n",
      "\n",
      "            [/INST]\n",
      "            [_Sepa_]\n",
      "\n",
      "**Task**: Extract \"COMPARISON OPERATOR,\" \"COMPARISON VALUE,\" and the Targeted ENTITY\n",
      "\n",
      "**Instructions**:\n",
      "\n",
      "1. Read the input question carefully.\n",
      "2. Determine if there is a comparison intent present, such as \"greater than,\" \"less than,\" or \"equals to.\" etc, If there is a comparison intent, please proceed to extract the relevant information.\n",
      "3. Extract the \"COMPARISON OPERATOR\" based on the detected intent. Examples of \"COMPARISON OPERATORS\" include \"greater than,\" \"less than,\" and \"equals to.\"\n",
      "4. Identify and extract the \"COMPARISON VALUE\" from the sentence. This should be a numerical or scalar value.\n",
      "5. Detect the ENTITY (e.g., \"Sales\") on which these comparisons are applied. Please extract the relevant entity.\n",
      "6. Provide the following information:\n",
      "   - COMPARISON OPERATOR: (If detected)\n",
      "   - COMPARISON VALUE: (If detected)\n",
      "   - ENTITY: (If detected)\n",
      "\n",
      "**Input Sentence**: \"show me quantities > 100K\"\n",
      "\n",
      "**Output**:\n",
      "- COMPARISON OPERATOR: greater than\n",
      "- COMPARISON VALUE: 100K\n",
      "- ENTITY: quantities\n"
     ]
    }
   ],
   "source": [
    "print(output)"
   ]
  },
  {
   "cell_type": "code",
   "execution_count": null,
   "id": "6b31910c",
   "metadata": {},
   "outputs": [],
   "source": []
  }
 ],
 "metadata": {
  "kernelspec": {
   "display_name": "Python 3",
   "language": "python",
   "name": "python3"
  },
  "language_info": {
   "codemirror_mode": {
    "name": "ipython",
    "version": 3
   },
   "file_extension": ".py",
   "mimetype": "text/x-python",
   "name": "python",
   "nbconvert_exporter": "python",
   "pygments_lexer": "ipython3",
   "version": "3.8.16"
  }
 },
 "nbformat": 4,
 "nbformat_minor": 5
}
