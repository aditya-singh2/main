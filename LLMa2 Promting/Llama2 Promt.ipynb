{
 "cells": [
  {
   "cell_type": "code",
   "execution_count": 1,
   "id": "f0305521",
   "metadata": {},
   "outputs": [],
   "source": [
    "import os\n",
    "import torch\n",
    "from transformers import AutoModelForCausalLM, AutoTokenizer,BitsAndBytesConfig\n",
    "import json\n",
    "from query_to_mql_tt_integrated import system_msg,context"
   ]
  },
  {
   "cell_type": "code",
   "execution_count": 2,
   "id": "5cdcb45e",
   "metadata": {},
   "outputs": [
    {
     "name": "stdout",
     "output_type": "stream",
     "text": [
      "True\n",
      "Tesla T4\n"
     ]
    }
   ],
   "source": [
    "print(torch.cuda.is_available())\n",
    "print(torch.cuda.get_device_name())"
   ]
  },
  {
   "cell_type": "code",
   "execution_count": 3,
   "id": "3957d714",
   "metadata": {},
   "outputs": [],
   "source": [
    "################################################################################\n",
    "# bitsandbytes parameters\n",
    "################################################################################\n",
    "\n",
    "# Activate 4-bit precision base model loading\n",
    "use_4bit = True\n",
    "\n",
    "# Compute dtype for 4-bit base models\n",
    "bnb_4bit_compute_dtype = \"float16\"\n",
    "\n",
    "# Quantization type (fp4 or nf4)\n",
    "bnb_4bit_quant_type = \"nf4\"\n",
    "\n",
    "compute_dtype = getattr(torch, bnb_4bit_compute_dtype)\n",
    "\n",
    "# Activate nested quantization for 4-bit base models (double quantization)\n",
    "use_nested_quant = False\n",
    "bnb_config = BitsAndBytesConfig(\n",
    "    load_in_4bit=use_4bit,\n",
    "    bnb_4bit_quant_type=bnb_4bit_quant_type,\n",
    "    bnb_4bit_compute_dtype=compute_dtype,\n",
    "    bnb_4bit_use_double_quant=use_nested_quant,\n",
    ")\n",
    "# Load the entire model on the GPU 0\n",
    "device_map = {\"\": 0}\n"
   ]
  },
  {
   "cell_type": "code",
   "execution_count": 4,
   "id": "5e6d6830",
   "metadata": {},
   "outputs": [
    {
     "data": {
      "application/vnd.jupyter.widget-view+json": {
       "model_id": "1970747df7ea4c7b9982fc9f605f9d22",
       "version_major": 2,
       "version_minor": 0
      },
      "text/plain": [
       "Loading checkpoint shards:   0%|          | 0/2 [00:00<?, ?it/s]"
      ]
     },
     "metadata": {},
     "output_type": "display_data"
    }
   ],
   "source": [
    "model_name = \"NousResearch/llama-2-7b-chat-hf\"\n",
    "model = AutoModelForCausalLM.from_pretrained(model_name,quantization_config=bnb_config,\n",
    "    device_map=device_map)\n",
    "tokenizer = AutoTokenizer.from_pretrained(model_name)"
   ]
  },
  {
   "cell_type": "code",
   "execution_count": 21,
   "id": "4a7a18d9",
   "metadata": {},
   "outputs": [],
   "source": [
    "#Testing prompt\n",
    "\n",
    "# question = \"what are the sales in africa\"\n",
    "# prompt = f\"\"\"[INST]<<SYS>>\n",
    "# Assume you are a system that detects the month and year in the given secentance, user will give only provide the input in english.\n",
    "# For example if user gives \"top  orders in march 2020\", you should only return march 2020.\n",
    "\n",
    "# <</SYS>>\n",
    "# {question}\n",
    "# [/INST]\n",
    "# [END]\"\"\""
   ]
  },
  {
   "cell_type": "code",
   "execution_count": 10,
   "id": "121ba1af",
   "metadata": {
    "scrolled": false
   },
   "outputs": [],
   "source": [
    "def gereneate_output_llama2(prompt):\n",
    "    #prompt = json.dumps(prompt)\n",
    "    model_input = tokenizer(prompt, return_tensors=\"pt\").to(\"cuda\")\n",
    "    #model.eval()\n",
    "    response = tokenizer.decode(model.generate(**model_input, max_length=4096)[0], skip_special_tokens=True)\n",
    "    return response"
   ]
  },
  {
   "cell_type": "code",
   "execution_count": 6,
   "id": "c3891448",
   "metadata": {},
   "outputs": [],
   "source": [
    "def get_user_question(question):\n",
    "    return \"Based on the following context:\\n\" + str(context) + \"\\n return a response for the question:\\n\" + question + \"\\n\""
   ]
  },
  {
   "cell_type": "code",
   "execution_count": 13,
   "id": "642d98be",
   "metadata": {},
   "outputs": [],
   "source": [
    "def compose_prompt(question):\n",
    "    return f\"\"\"[INST]<<SYS>>\n",
    "            {system_msg}\n",
    "            <</SYS>>\n",
    "            {get_user_question(question)}\n",
    "            [/INST]\n",
    "            [END]\"\"\""
   ]
  },
  {
   "cell_type": "code",
   "execution_count": 9,
   "id": "2742c7ae",
   "metadata": {},
   "outputs": [
    {
     "data": {
      "text/plain": [
       "\"Based on the following context:\\n{'MEASURE': [{'ENTITY': 'Discount', 'other names': ['discount', 'discount rate', 'discount value', 'deduction']}, {'ENTITY': 'Purchase Vol', 'other names': ['purchase', 'purchase value', 'purchase model']}, {'ENTITY': 'Quantity', 'other names': ['quantity', 'volume']}, {'ENTITY': 'Sales', 'other names': ['sales', 'sale']}], 'DIMENSION': [{'ENTITY': 'Sub-Category', 'other names': ['sub-category', 'sub category', 'categories', 'section']}, {'ENTITY': 'Segment', 'other names': ['segment', 'segments', 'units', 'divisions']}, {'ENTITY': 'Parts', 'other names': ['parts', 'part', 'section', 'divisions']}, {'ENTITY': 'Country', 'other names': ['country', 'countries']}], 'FILTER': [{'ENTITY': 'Consumer', 'other names': ['consumers', 'consumer'], 'parent': 'Segment'}, {'ENTITY': 'Phone', 'other names': ['phone', 'phones', 'mobile phones'], 'parent': 'Sub-Category'}, {'ENTITY': 'Binder', 'other names': ['binders', 'binder'], 'parent': 'Sub-Category'}, {'ENTITY': 'Corporate', 'other names': ['corporates', 'corporate'], 'parent': 'Segment'}, {'ENTITY': 'India', 'other names': ['india'], 'parent': 'Country'}, {'ENTITY': 'Dubai', 'other names': ['dubai'], 'parent': 'Country'}], 'DERIVED MEASURE': [{'ENTITY': 'Ratio', 'other names': ['ratio', 'share', 'contribution', 'percentage', 'proportion', 'contributing']}, {'ENTITY': 'Why', 'other names': ['why', 'cause of', 'reason for', 'diagnose']}, {'ENTITY': 'contribution_to_growth', 'other names': ['contribution to growth', 'growth', 'grown']}, {'ENTITY': 'kda_transactional', 'other names': ['kda', 'key drivers', 'key driver', 'drivers', 'driver']}, {'ENTITY': 'Growth Rate', 'other names': ['growth rate', 'growth', 'grown']}, {'ENTITY': 'correlation', 'other names': ['associate', 'associated', 'association', 'associations', 'correlate', 'correlated', 'correlation', 'correlations', 'relate', 'related', 'relation', 'relations', 'relationship', 'relationships']}], 'DATE VARIABLE': [{'ENTITY': 'Order Date', 'other names': ['order date', 'date', 'trend', 'time', 'when', 'mom', 'yoy']}]}\\n return a response for the question:\\ntop 5 segments basis discount\\n\""
      ]
     },
     "execution_count": 9,
     "metadata": {},
     "output_type": "execute_result"
    }
   ],
   "source": [
    "get_user_question(question)"
   ]
  },
  {
   "cell_type": "code",
   "execution_count": null,
   "id": "2e99cbe5",
   "metadata": {},
   "outputs": [
    {
     "name": "stdout",
     "output_type": "stream",
     "text": [
      "Enter any question:when was quantity greater than 10k for phone\n"
     ]
    }
   ],
   "source": [
    "question = input(\"Enter any question:\" )\n",
    "output=gereneate_output_llama2(compose_prompt(question))"
   ]
  },
  {
   "cell_type": "code",
   "execution_count": null,
   "id": "8fb0977c",
   "metadata": {},
   "outputs": [],
   "source": []
  }
 ],
 "metadata": {
  "kernelspec": {
   "display_name": "Python 3",
   "language": "python",
   "name": "python3"
  },
  "language_info": {
   "codemirror_mode": {
    "name": "ipython",
    "version": 3
   },
   "file_extension": ".py",
   "mimetype": "text/x-python",
   "name": "python",
   "nbconvert_exporter": "python",
   "pygments_lexer": "ipython3",
   "version": "3.8.16"
  }
 },
 "nbformat": 4,
 "nbformat_minor": 5
}
