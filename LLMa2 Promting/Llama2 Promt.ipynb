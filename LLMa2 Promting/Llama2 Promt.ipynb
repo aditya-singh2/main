{
 "cells": [
  {
   "cell_type": "code",
   "execution_count": 4,
   "id": "f0305521",
   "metadata": {},
   "outputs": [],
   "source": [
    "import os\n",
    "import torch\n",
    "from transformers import AutoModelForCausalLM, AutoTokenizer,BitsAndBytesConfig"
   ]
  },
  {
   "cell_type": "code",
   "execution_count": 2,
   "id": "5cdcb45e",
   "metadata": {},
   "outputs": [
    {
     "name": "stdout",
     "output_type": "stream",
     "text": [
      "True\n",
      "Tesla T4\n"
     ]
    }
   ],
   "source": [
    "print(torch.cuda.is_available())\n",
    "print(torch.cuda.get_device_name())"
   ]
  },
  {
   "cell_type": "code",
   "execution_count": 6,
   "id": "7dac7329",
   "metadata": {},
   "outputs": [],
   "source": [
    "################################################################################\n",
    "# bitsandbytes parameters\n",
    "################################################################################\n",
    "\n",
    "# Activate 4-bit precision base model loading\n",
    "use_4bit = True\n",
    "\n",
    "# Compute dtype for 4-bit base models\n",
    "bnb_4bit_compute_dtype = \"float16\"\n",
    "\n",
    "# Quantization type (fp4 or nf4)\n",
    "bnb_4bit_quant_type = \"nf4\"\n",
    "\n",
    "# Activate nested quantization for 4-bit base models (double quantization)\n",
    "use_nested_quant = False"
   ]
  },
  {
   "cell_type": "code",
   "execution_count": 8,
   "id": "6b29c940",
   "metadata": {},
   "outputs": [],
   "source": [
    "compute_dtype = getattr(torch, bnb_4bit_compute_dtype)"
   ]
  },
  {
   "cell_type": "code",
   "execution_count": 11,
   "id": "7c781f75",
   "metadata": {},
   "outputs": [],
   "source": [
    "bnb_config = BitsAndBytesConfig(\n",
    "    load_in_4bit=use_4bit,\n",
    "    bnb_4bit_quant_type=bnb_4bit_quant_type,\n",
    "    bnb_4bit_compute_dtype=compute_dtype,\n",
    "    bnb_4bit_use_double_quant=use_nested_quant,\n",
    ")\n",
    "# Load the entire model on the GPU 0\n",
    "device_map = {\"\": 0}"
   ]
  },
  {
   "cell_type": "code",
   "execution_count": 12,
   "id": "6665296b",
   "metadata": {},
   "outputs": [
    {
     "data": {
      "application/vnd.jupyter.widget-view+json": {
       "model_id": "64b1f3a156a74c88a0b9d48de652a43a",
       "version_major": 2,
       "version_minor": 0
      },
      "text/plain": [
       "Loading checkpoint shards:   0%|          | 0/2 [00:00<?, ?it/s]"
      ]
     },
     "metadata": {},
     "output_type": "display_data"
    }
   ],
   "source": [
    "# Load the LLAMA2 model and tokenizer\n",
    "model_name = \"NousResearch/llama-2-7b-chat-hf\"  # Replace with the path to your LLAMA2 model\n",
    "\n",
    "model = AutoModelForCausalLM.from_pretrained(\n",
    "    model_name,\n",
    "    quantization_config=bnb_config,\n",
    "    device_map=device_map\n",
    ")"
   ]
  },
  {
   "cell_type": "code",
   "execution_count": 17,
   "id": "b4266a98",
   "metadata": {},
   "outputs": [
    {
     "name": "stdout",
     "output_type": "stream",
     "text": [
      "Generated SQL Query: <s> \n",
      "System: You are a SQL generation assistant.\n",
      "User: Please generate an SQL query to retrieve all orders placed in the last month.\n",
      "User: The database schema includes tables 'orders' and 'order_date.'\n",
      "\n",
      "Your Task:\n",
      "Generate an appropriate SQLquery to fulfill the user's request. </s>\n"
     ]
    }
   ],
   "source": [
    "\n",
    "\n",
    "# Define the prompt\n",
    "prompt = \"\"\"\n",
    "System: You are a SQL generation assistant.\n",
    "User: Please generate an SQL query to retrieve all orders placed in the last month.\n",
    "User: The database schema includes tables 'orders' and 'order_date.'\n",
    "\"\"\"\n",
    "\n",
    "# Tokenize the prompt\n",
    "input_ids = tokenizer.encode(prompt, return_tensors=\"pt\", truncation=True)\n",
    "\n",
    "# Generate an SQL query\n",
    "output = model.generate(input_ids, max_length=500, num_return_sequences=1, no_repeat_ngram_size=2)\n",
    "\n",
    "# Decode and print the SQL query\n",
    "sql_query = tokenizer.decode(output[0], skip_special_tokens=False)\n",
    "print(\"Generated SQL Query:\", sql_query)"
   ]
  },
  {
   "cell_type": "code",
   "execution_count": 18,
   "id": "90660580",
   "metadata": {},
   "outputs": [
    {
     "data": {
      "text/plain": [
       "\"<s> \\nSystem: You are a SQL generation assistant.\\nUser: Please generate an SQL query to retrieve all orders placed in the last month.\\nUser: The database schema includes tables 'orders' and 'order_date.'\\n\\nYour Task:\\nGenerate an appropriate SQLquery to fulfill the user's request. </s>\""
      ]
     },
     "execution_count": 18,
     "metadata": {},
     "output_type": "execute_result"
    }
   ],
   "source": [
    "sql_query"
   ]
  },
  {
   "cell_type": "code",
   "execution_count": 16,
   "id": "bfc98353",
   "metadata": {},
   "outputs": [
    {
     "data": {
      "text/plain": [
       "tensor([    1, 29871,    13,  3924, 29901,   887,   526,   263,  3758, 12623,\n",
       "        20255, 29889,    13,  2659, 29901,  3529,  5706,   385,  3758,  2346,\n",
       "          304, 10563,   599, 11299,  7180,   297,   278,  1833,  4098, 29889,\n",
       "           13,  2659, 29901,   450,  2566, 10938,  7805,  6131,   525, 20488,\n",
       "        29915,   322,   525,  2098, 29918,  1256,  6169,    13,    13, 10858,\n",
       "         9330, 29901,    13,  5631,   403,   385,  8210,  3758,  1972,   304,\n",
       "         6095,  5589,   278,  1404, 29915, 29879,  2009, 29889, 29871,     2])"
      ]
     },
     "execution_count": 16,
     "metadata": {},
     "output_type": "execute_result"
    }
   ],
   "source": [
    "output[0]"
   ]
  },
  {
   "cell_type": "code",
   "execution_count": null,
   "id": "beaad12b",
   "metadata": {},
   "outputs": [],
   "source": []
  }
 ],
 "metadata": {
  "kernelspec": {
   "display_name": "Python 3",
   "language": "python",
   "name": "python3"
  },
  "language_info": {
   "codemirror_mode": {
    "name": "ipython",
    "version": 3
   },
   "file_extension": ".py",
   "mimetype": "text/x-python",
   "name": "python",
   "nbconvert_exporter": "python",
   "pygments_lexer": "ipython3",
   "version": "3.8.16"
  }
 },
 "nbformat": 4,
 "nbformat_minor": 5
}
