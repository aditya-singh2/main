{
 "cells": [
  {
   "cell_type": "code",
   "execution_count": 21,
   "id": "f0305521",
   "metadata": {},
   "outputs": [],
   "source": [
    "import os\n",
    "import torch\n",
    "from transformers import AutoModelForCausalLM, AutoTokenizer,BitsAndBytesConfig\n",
    "import json\n",
    "from query_to_mql_tt_integrated import system_msg,context,postprocess"
   ]
  },
  {
   "cell_type": "code",
   "execution_count": 2,
   "id": "5cdcb45e",
   "metadata": {},
   "outputs": [
    {
     "name": "stdout",
     "output_type": "stream",
     "text": [
      "True\n",
      "Tesla T4\n"
     ]
    }
   ],
   "source": [
    "print(torch.cuda.is_available())\n",
    "print(torch.cuda.get_device_name())"
   ]
  },
  {
   "cell_type": "code",
   "execution_count": 3,
   "id": "3957d714",
   "metadata": {},
   "outputs": [],
   "source": [
    "################################################################################\n",
    "# bitsandbytes parameters\n",
    "################################################################################\n",
    "\n",
    "# Activate 4-bit precision base model loading\n",
    "use_4bit = True\n",
    "\n",
    "# Compute dtype for 4-bit base models\n",
    "bnb_4bit_compute_dtype = \"float16\"\n",
    "\n",
    "# Quantization type (fp4 or nf4)\n",
    "bnb_4bit_quant_type = \"nf4\"\n",
    "\n",
    "compute_dtype = getattr(torch, bnb_4bit_compute_dtype)\n",
    "\n",
    "# Activate nested quantization for 4-bit base models (double quantization)\n",
    "use_nested_quant = False\n",
    "bnb_config = BitsAndBytesConfig(\n",
    "    load_in_4bit=use_4bit,\n",
    "    bnb_4bit_quant_type=bnb_4bit_quant_type,\n",
    "    bnb_4bit_compute_dtype=compute_dtype,\n",
    "    bnb_4bit_use_double_quant=use_nested_quant,\n",
    ")\n",
    "# Load the entire model on the GPU 0\n",
    "device_map = {\"\": 0}\n"
   ]
  },
  {
   "cell_type": "code",
   "execution_count": 4,
   "id": "5e6d6830",
   "metadata": {},
   "outputs": [
    {
     "data": {
      "application/vnd.jupyter.widget-view+json": {
       "model_id": "1970747df7ea4c7b9982fc9f605f9d22",
       "version_major": 2,
       "version_minor": 0
      },
      "text/plain": [
       "Loading checkpoint shards:   0%|          | 0/2 [00:00<?, ?it/s]"
      ]
     },
     "metadata": {},
     "output_type": "display_data"
    }
   ],
   "source": [
    "model_name = \"NousResearch/llama-2-7b-chat-hf\"\n",
    "model = AutoModelForCausalLM.from_pretrained(model_name,quantization_config=bnb_config,\n",
    "    device_map=device_map)\n",
    "tokenizer = AutoTokenizer.from_pretrained(model_name)"
   ]
  },
  {
   "cell_type": "code",
   "execution_count": 21,
   "id": "4a7a18d9",
   "metadata": {},
   "outputs": [],
   "source": [
    "#Testing prompt\n",
    "\n",
    "# question = \"what are the sales in africa\"\n",
    "# prompt = f\"\"\"[INST]<<SYS>>\n",
    "# Assume you are a system that detects the month and year in the given secentance, user will give only provide the input in english.\n",
    "# For example if user gives \"top  orders in march 2020\", you should only return march 2020.\n",
    "\n",
    "# <</SYS>>\n",
    "# {question}\n",
    "# [/INST]\n",
    "# [END]\"\"\""
   ]
  },
  {
   "cell_type": "code",
   "execution_count": 10,
   "id": "121ba1af",
   "metadata": {
    "scrolled": false
   },
   "outputs": [],
   "source": [
    "def gereneate_output_llama2(prompt):\n",
    "    #prompt = json.dumps(prompt)\n",
    "    model_input = tokenizer(prompt, return_tensors=\"pt\").to(\"cuda\")\n",
    "    #model.eval()\n",
    "    response = tokenizer.decode(model.generate(**model_input, max_length=4096)[0], skip_special_tokens=True)\n",
    "    return response"
   ]
  },
  {
   "cell_type": "code",
   "execution_count": 6,
   "id": "c3891448",
   "metadata": {},
   "outputs": [],
   "source": [
    "def get_user_question(question):\n",
    "    return \"Based on the following context:\\n\" + str(context) + \"\\n return a response for the question:\\n\" + question + \"\\n\""
   ]
  },
  {
   "cell_type": "code",
   "execution_count": 13,
   "id": "642d98be",
   "metadata": {},
   "outputs": [],
   "source": [
    "def compose_prompt(question):\n",
    "    return f\"\"\"[INST]<<SYS>>\n",
    "            {system_msg}\n",
    "            <</SYS>>\n",
    "            {get_user_question(question)}\n",
    "            [/INST]\n",
    "            [END]\"\"\""
   ]
  },
  {
   "cell_type": "code",
   "execution_count": 42,
   "id": "e5ef8d94",
   "metadata": {},
   "outputs": [],
   "source": [
    "def post_process(output):\n",
    "    mql = json.loads((output.split(\"[END]\")[1].split(\"\\n\\nReasoning:\\n\\n\")[0]).split(\" would be:\\n\\n\")[1])\n",
    "    reason = output.split(\"[END]\")[1].split(\"\\n\\nReasoning:\\n\\n\")[1]\n",
    "    print(\"*\"*50+\"MQL\"+\"*\"*50)\n",
    "    print(mql)\n",
    "    print(\"\\n\"+\"*\"*50+\"Reason\"+\"*\"*50)\n",
    "    print(reason)\n",
    "    return mql,reason"
   ]
  },
  {
   "cell_type": "code",
   "execution_count": 57,
   "id": "6b4040d7",
   "metadata": {},
   "outputs": [
    {
     "ename": "IndexError",
     "evalue": "list index out of range",
     "output_type": "error",
     "traceback": [
      "\u001b[0;31m---------------------------------------------------------------------------\u001b[0m",
      "\u001b[0;31mIndexError\u001b[0m                                Traceback (most recent call last)",
      "File \u001b[0;32m<timed exec>:3\u001b[0m\n",
      "Cell \u001b[0;32mIn[42], line 2\u001b[0m, in \u001b[0;36mpost_process\u001b[0;34m(output)\u001b[0m\n\u001b[1;32m      1\u001b[0m \u001b[38;5;28;01mdef\u001b[39;00m \u001b[38;5;21mpost_process\u001b[39m(output):\n\u001b[0;32m----> 2\u001b[0m     mql \u001b[38;5;241m=\u001b[39m json\u001b[38;5;241m.\u001b[39mloads(\u001b[43m(\u001b[49m\u001b[43moutput\u001b[49m\u001b[38;5;241;43m.\u001b[39;49m\u001b[43msplit\u001b[49m\u001b[43m(\u001b[49m\u001b[38;5;124;43m\"\u001b[39;49m\u001b[38;5;124;43m[END]\u001b[39;49m\u001b[38;5;124;43m\"\u001b[39;49m\u001b[43m)\u001b[49m\u001b[43m[\u001b[49m\u001b[38;5;241;43m1\u001b[39;49m\u001b[43m]\u001b[49m\u001b[38;5;241;43m.\u001b[39;49m\u001b[43msplit\u001b[49m\u001b[43m(\u001b[49m\u001b[38;5;124;43m\"\u001b[39;49m\u001b[38;5;130;43;01m\\n\u001b[39;49;00m\u001b[38;5;130;43;01m\\n\u001b[39;49;00m\u001b[38;5;124;43mReasoning:\u001b[39;49m\u001b[38;5;130;43;01m\\n\u001b[39;49;00m\u001b[38;5;130;43;01m\\n\u001b[39;49;00m\u001b[38;5;124;43m\"\u001b[39;49m\u001b[43m)\u001b[49m\u001b[43m[\u001b[49m\u001b[38;5;241;43m0\u001b[39;49m\u001b[43m]\u001b[49m\u001b[43m)\u001b[49m\u001b[38;5;241;43m.\u001b[39;49m\u001b[43msplit\u001b[49m\u001b[43m(\u001b[49m\u001b[38;5;124;43m\"\u001b[39;49m\u001b[38;5;124;43m would be:\u001b[39;49m\u001b[38;5;130;43;01m\\n\u001b[39;49;00m\u001b[38;5;130;43;01m\\n\u001b[39;49;00m\u001b[38;5;124;43m\"\u001b[39;49m\u001b[43m)\u001b[49m\u001b[43m[\u001b[49m\u001b[38;5;241;43m1\u001b[39;49m\u001b[43m]\u001b[49m)\n\u001b[1;32m      3\u001b[0m     reason \u001b[38;5;241m=\u001b[39m output\u001b[38;5;241m.\u001b[39msplit(\u001b[38;5;124m\"\u001b[39m\u001b[38;5;124m[END]\u001b[39m\u001b[38;5;124m\"\u001b[39m)[\u001b[38;5;241m1\u001b[39m]\u001b[38;5;241m.\u001b[39msplit(\u001b[38;5;124m\"\u001b[39m\u001b[38;5;130;01m\\n\u001b[39;00m\u001b[38;5;130;01m\\n\u001b[39;00m\u001b[38;5;124mReasoning:\u001b[39m\u001b[38;5;130;01m\\n\u001b[39;00m\u001b[38;5;130;01m\\n\u001b[39;00m\u001b[38;5;124m\"\u001b[39m)[\u001b[38;5;241m1\u001b[39m]\n\u001b[1;32m      4\u001b[0m     \u001b[38;5;28mprint\u001b[39m(\u001b[38;5;124m\"\u001b[39m\u001b[38;5;124m*\u001b[39m\u001b[38;5;124m\"\u001b[39m\u001b[38;5;241m*\u001b[39m\u001b[38;5;241m50\u001b[39m\u001b[38;5;241m+\u001b[39m\u001b[38;5;124m\"\u001b[39m\u001b[38;5;124mMQL\u001b[39m\u001b[38;5;124m\"\u001b[39m\u001b[38;5;241m+\u001b[39m\u001b[38;5;124m\"\u001b[39m\u001b[38;5;124m*\u001b[39m\u001b[38;5;124m\"\u001b[39m\u001b[38;5;241m*\u001b[39m\u001b[38;5;241m50\u001b[39m)\n",
      "\u001b[0;31mIndexError\u001b[0m: list index out of range"
     ]
    }
   ],
   "source": [
    "%%time\n",
    "question = \"quantity across category except phone in corporate\"\n",
    "output=gereneate_output_llama2(compose_prompt(question))\n",
    "post_process(output)"
   ]
  },
  {
   "cell_type": "code",
   "execution_count": null,
   "id": "93acb7ef",
   "metadata": {},
   "outputs": [],
   "source": [
    "import re\n",
    "\n",
    "text = \n",
    "pattern = r'\\{.*?\\}'  # Matches content within curly braces\n",
    "json_data = re.findall(pattern, text)"
   ]
  },
  {
   "cell_type": "code",
   "execution_count": 58,
   "id": "8fb0977c",
   "metadata": {
    "scrolled": false
   },
   "outputs": [
    {
     "data": {
      "text/plain": [
       "'[INST]<<SYS>>\\n            You are an assistant that helps to map the user question to the context for a question answering system.\\n You might also need to act as a time tagger expert to convert the date elements present in the question to a standard format and to find possible date ranges for the same.\\nStep 1: Identify the n-grams match between question and context\\nMap the n-gram or their lemma or their inflections from the question with the \\'other names\\' in the passed context.\\nAlways consider the longest n-gram match, not the sub-string.\\nIf there are multiple matches for an n-gram with context, return all such ENTITY in response.\\nIf you are returning any match which is not exactly present with the \\'other names\\', make sure that it is a noun phrase and there is a high similarity between the match and the matched \"ENTITY\". \\nStep 2: Applying other conditions\\nOnce the match is identified, next step is to identify other conditions from user question and apply it to the identified matches.\\nRefer to the following statements to understand about different types of conditions to be applied:\\n    1. METRIC CONSTRAINT : METRIC can be MEASURE or DERIVED MEASURE. User is asking for a comparison limit to be applied on the METRIC. It has two parts: \"COMPARISON VALUE\" is the value applied on a METRIC and \"COMPARSION OPERATOR\" is the operator (in symbols) applied between METRIC and COMPARISON VALUE.\\n    2. ADJECTIVE and TONE : Identify the adjectives (like least, highest performing etc.) applied on the matched ENTITY. TONE is the intent of adjective and it can be postive or negative.\\n    3. EXCEPTION : Excluded FILTER of a DIMENSION asked in question if any. DIMENSION should be the parent of the FILTER. Add a key \"EXCLUDE\" for such excluded FILTERS and set the value as \"True\" in the response.\\n    4. RANK : Rank applied on a DIMENSION if any like top 5, bottom 3 etc. It has two parts: \"RANK ADJECTIVE\", the adjective like top, bottom etc. and \"RANK VALUE\", a number that comes along with the RANK ADJECTIVE, immediately before or after. If there is no explicit RANK VALUE in question, make it as 1. Based on the meaning of the RANK ADJECTIVE, make it as either top or bottom.\\n    5. RATIO FILTERS : This is applicable only for ENTITY \"Ratio\" in DERIVED MEASURE. Identify the FILTER on which Ratio needs to be calculated. Example 1: Question: bike share of sales in area, (where ENTITY of \\'bike\\' is \\'Bikes\\'), RATIO FILTERS = [{\\'bike\\': \\'Bikes\\'}]. Example 2: Question: in area, share of bike and cycle basis sales, (where ENTITY of \\'Bike\\' is \\'Bikes\\' and \\'cycle\\' is \\'Cycle\\') RATIO FILTERS = [{\\'bike\\': \\'Bikes\\', \\'cycle\\': \\'Cycles\\'}]. If there are no matched FILTERS, then keep RATIO FILTERS = []\"\\n    6. APPLIED MEASURES: This is applicable only for DERVIED MEASURE. Identify the MEASURE on which the DERIVED MEASURE needs to be calculated. \\n    \\n    Step 3: Applying time tagger rules only if time elements are present in question\\n    \\n    Identify the TIME ELEMENTS in the input question and convert it to a standard format (if not already) by applying the general time tagging rules. If the TIME ELEMENT is already in a standard format, then no need to convert it.\\n    TIME ELEMENT can be either a temporal interval (across months, yoy, mom, qoq, wow, quarterly etc.) or a temporal expression (time points such as specific dates, relative expressions etc.).\\n    Calculate date range for each time points based on the following conditions:\\n    1. For relative time expressions, calculate the date range based on a reference date - By default the reference date is the end_date in date input: \\n{\\'start_date\\': \\'01/01/2020\\', \\'end_date\\': \\'15/09/2023\\'}\\n\\n    2. To calculate the date range for \"last X years\", strictly follow the below conditions:\\n            For \"last 1 year\", consider exactly one year before the reference year and set start date as January 1 and end date as Decemebr 31 of that year.\\n            For \"last X years\", where X is greater than 1, consider starting year = (reference year - X+1) and set start date as January 1 of starting year and end date as the reference date.\\n    3. To calculate the date range for \"last X months\", strictly follow the below conditions:\\n            Consider the reference month as the month in reference date\\n            For \"last 1 month\", consider exactly one month before the reference month and set start date as first day and end date as last day of that month .\\n            For \"last X months\", where X is greater than 1, consider starting month = (reference month - X+1) and set start date as first day of starting month and end date as the reference date. (Example: if reference date is 14/09/2022, then last 3 months = 01/07/2022 - 14/09/2022)\\n    4. To calculate the date range for \"last X quarters\", strictly follow the below conditions:\\n            For \"last 1 quarter\", consider exactly one quarter before the reference quarter and set start date as first day and end date as last day of that quarter .\\n            For \"last X quarter\", where X is greater than 1, consider starting quarter = (reference quarter - X+1) and set start date as first day of starting quarter and end date as the reference date.\\n    5. To calculate the date range for \"last X weeks\", strictly follow the below conditions:\\n            For \"last 1 week\", consider exactly one week before the reference week and set start date as Monday and end date as Sunday of that week .\\n            For \"last X weeks\", where X is greater than 1, consider starting week = (reference week - X+1) and set start date as Monday of starting week and end date as the reference date.\\n    6. Provide the date range of each time point in start date - end date format always.\\n    \\n    Step 4: Creating the response JSON\\n    Strictly return the response in the exact same JSON format as follows. \\n    Fill the information identified from above steps in the JSON. \\n    The keys mentioned in upper case in the response are constant.\\n    Return only if match is found from the context and non empty values are present\\n    {\\n        \"MEASURE\": {\\n            \"n-gram matched to MEASURE\": [\\n                {\\n                    \"ENTITY\": \"Matched MEASURE\",\\n                    \"MEASURE CONSTRAINT\": [\\n                        {\\n                            \"COMPARISON VALUE\": \"\",\\n                            \"COMPARSION OPERATOR\": \"\"\\n                        }\\n                    ],\\n                    \"ADJECTIVE\": [],\\n                    \"TONE\": \"\"\\n                }\\n            ]\\n        },\\n        \"DIMENSION\": {\\n            \"n-gram matched to DIMENSION\": [\\n                {\\n                    \"ENTITY\": \"Matched DIMENSION\",\\n                    \"RANK\": [{\"RANK ADJECTIVE\":\"\", \"RANK VALUE\": \"\"}],\\n                    \"ADJECTIVE\": [],\\n                    \"TONE\": \"\"\\n                }\\n            ]\\n        },\\n        \"FILTER\": {\\n            \"n-gram matched to FILTER\": [\\n                {\\n                    \"ENTITY\": \"Matched FILTER\",\\n                    \"PARENT\": \"parent of the Matched FILTER\",\\n                    \"EXCLUDE\": \"\"\\n                }\\n            ]\\n        },\\n        \"DERIVED MEASURE\": {\\n            \"n-gram matched to DERIVED MEASURE\": [\\n                {\\n                    \"ENTITY\": \"Matched DERIVED MEASURE\",\\n                    \"RATIO FILTER\": [{}],\\n                    \"APPLIED MEASURE\": [{\"n-gram matched to MEASURE\": Matched MEASURE}],\\n                    \"DERIVED MEASURE CONSTRAINT\": [\\n                        {\\n                            \"COMPARISON VALUE\": \"\",\\n                            \"COMPARSION OPERATOR\": \"\"\\n                        }\\n                    ],\\n                    \"ADJECTIVE\": [],\\n                    \"TONE\": \"\"\\n                }\\n            ]\\n        },\\n        \"DATE VARIABLE\": {\\n            \"asked time element\": [{\"ENTITY\": \"Matched DATE VARIABLE\"\\n                \"DATE RANGE\": \"date range\",\\n                \"CONVERTED TIME ELEMENT\": \"converted time element\"\\n                }]\\n        }\\n    }\\n    \\n    Provide reasoning\\n    \\n            <</SYS>>\\n            Based on the following context:\\n{\\'MEASURE\\': [{\\'ENTITY\\': \\'Discount\\', \\'other names\\': [\\'discount\\', \\'discount rate\\', \\'discount value\\', \\'deduction\\']}, {\\'ENTITY\\': \\'Purchase Vol\\', \\'other names\\': [\\'purchase\\', \\'purchase value\\', \\'purchase model\\']}, {\\'ENTITY\\': \\'Quantity\\', \\'other names\\': [\\'quantity\\', \\'volume\\']}, {\\'ENTITY\\': \\'Sales\\', \\'other names\\': [\\'sales\\', \\'sale\\']}], \\'DIMENSION\\': [{\\'ENTITY\\': \\'Sub-Category\\', \\'other names\\': [\\'sub-category\\', \\'sub category\\', \\'categories\\', \\'section\\']}, {\\'ENTITY\\': \\'Segment\\', \\'other names\\': [\\'segment\\', \\'segments\\', \\'units\\', \\'divisions\\']}, {\\'ENTITY\\': \\'Parts\\', \\'other names\\': [\\'parts\\', \\'part\\', \\'section\\', \\'divisions\\']}, {\\'ENTITY\\': \\'Country\\', \\'other names\\': [\\'country\\', \\'countries\\']}], \\'FILTER\\': [{\\'ENTITY\\': \\'Consumer\\', \\'other names\\': [\\'consumers\\', \\'consumer\\'], \\'parent\\': \\'Segment\\'}, {\\'ENTITY\\': \\'Phone\\', \\'other names\\': [\\'phone\\', \\'phones\\', \\'mobile phones\\'], \\'parent\\': \\'Sub-Category\\'}, {\\'ENTITY\\': \\'Binder\\', \\'other names\\': [\\'binders\\', \\'binder\\'], \\'parent\\': \\'Sub-Category\\'}, {\\'ENTITY\\': \\'Corporate\\', \\'other names\\': [\\'corporates\\', \\'corporate\\'], \\'parent\\': \\'Segment\\'}, {\\'ENTITY\\': \\'India\\', \\'other names\\': [\\'india\\'], \\'parent\\': \\'Country\\'}, {\\'ENTITY\\': \\'Dubai\\', \\'other names\\': [\\'dubai\\'], \\'parent\\': \\'Country\\'}], \\'DERIVED MEASURE\\': [{\\'ENTITY\\': \\'Ratio\\', \\'other names\\': [\\'ratio\\', \\'share\\', \\'contribution\\', \\'percentage\\', \\'proportion\\', \\'contributing\\']}, {\\'ENTITY\\': \\'Why\\', \\'other names\\': [\\'why\\', \\'cause of\\', \\'reason for\\', \\'diagnose\\']}, {\\'ENTITY\\': \\'contribution_to_growth\\', \\'other names\\': [\\'contribution to growth\\', \\'growth\\', \\'grown\\']}, {\\'ENTITY\\': \\'kda_transactional\\', \\'other names\\': [\\'kda\\', \\'key drivers\\', \\'key driver\\', \\'drivers\\', \\'driver\\']}, {\\'ENTITY\\': \\'Growth Rate\\', \\'other names\\': [\\'growth rate\\', \\'growth\\', \\'grown\\']}, {\\'ENTITY\\': \\'correlation\\', \\'other names\\': [\\'associate\\', \\'associated\\', \\'association\\', \\'associations\\', \\'correlate\\', \\'correlated\\', \\'correlation\\', \\'correlations\\', \\'relate\\', \\'related\\', \\'relation\\', \\'relations\\', \\'relationship\\', \\'relationships\\']}], \\'DATE VARIABLE\\': [{\\'ENTITY\\': \\'Order Date\\', \\'other names\\': [\\'order date\\', \\'date\\', \\'trend\\', \\'time\\', \\'when\\', \\'mom\\', \\'yoy\\']}]}\\n return a response for the question:\\nquantity across category except phone in corporate\\n\\n            [/INST]\\n            [END] \\n\\nThe response for the question \"quantity across category except phone in corporate\" is:\\n\\n{\\n\"MEASURE\": [\\n    {\\n        \"n-gram matched to MEASURE\": [\\n            {\\n                \"ENTITY\": \"Matched MEASURE\",\\n                \"MEASURE CONSTRAINT\": [\\n                    {\\n                        \"COMPARISON VALUE\": \"Except\",\\n                        \"COMPARISION OPERATOR\": \"!\"\\n                    }\\n                ],\\n                \"ADJECTIVE\": [],\\n                \"TONE\": \"\"\\n            }\\n        ]\\n    }\\n],\\n\"DIMENSION\": [\\n    {\\n        \"n-gram matched to DIMENSION\": [\\n            {\\n                \"ENTITY\": \"Matched DIMENSION\",\\n                \"RANK\": [\\n                    {\\n                        \"RANK ADJECTIVE\": \"Top\",\\n                        \"RANK VALUE\": \"1\"\\n                    }\\n                ],\\n                \"ADJECTIVE\": [],\\n                \"TONE\": \"\"\\n            }\\n        ]\\n    }\\n],\\n\"FILTER\": [\\n    {\\n        \"n-gram matched to FILTER\": [\\n            {\\n                \"ENTITY\": \"Matched FILTER\",\\n                \"PARENT\": \"parent of the Matched FILTER\",\\n                \"EXCLUDE\": \"\"\\n            }\\n        ]\\n    }\\n],\\n\"DERIVED MEASURE\": [\\n    {\\n        \"n-gram matched to DERIVED MEASURE\": [\\n            {\\n                \"ENTITY\": \"Matched DERIVED MEASURE\",\\n                \"RATIO FILTER\": [\\n                    {\\n                        \"ENTITY\": \"Phone\",\\n                        \"RATIO\": \"1:1\"\\n                    }\\n                ],\\n                \"APPLIED MEASURE\": [\\n                    {\\n                        \"n-gram matched to MEASURE\": [\\n                            {\\n                                \"ENTITY\": \"Matched MEASURE\",\\n                                \"MEASURE CONSTRAINT\": [\\n                                    {\\n                                        \"COMPARISON VALUE\": \"Except\",\\n                                        \"COMPARISION OPERATOR\": \"!\"\\n                                    }\\n                                ],\\n                                \"ADJECTIVE\": [],\\n                                \"TONE\": \"\"\\n                            }\\n                        ]\\n                    }\\n                ],\\n                \"DERIVED MEASURE CONSTRAINT\": [\\n                    {\\n                        \"COMPARISON VALUE\": \"Except\",\\n                        \"COMPARISION OPERATOR\": \"!\"\\n                    }\\n                ],\\n                \"ADJECTIVE\": [],\\n                \"TONE\": \"\"\\n            }\\n        ]\\n    }\\n],\\n\"DATE VARIABLE\": [\\n    {\\n        \"asked time element\": [\\n            {\\n                \"ENTITY\": \"Matched DATE VARIABLE\",\\n                \"DATE RANGE\": \"last 3 months\",\\n                \"CONVERTED TIME ELEMENT\": \"01/07/2022 - 14/09/2022\"\\n            }\\n        ]\\n    }\\n]\\n}\\n\\nReasoning:\\n\\nBased on the input question, the following entities were identified:\\n\\n* MEASURE: quantity\\n* DIMENSION: category\\n* FILTER: corporate\\n\\nThe n-gram matching was performed to identify the possible matches for the input question. The following entities were found to match:\\n\\n* MEASURE: Matched MEASURE\\n* DIMENSION: Matched DIMENSION\\n* FILTER: Matched FILTER\\n\\nThe measure constraint was applied to the identified entities, and the following results were obtained:\\n\\n* Matched MEASURE: Except\\n* Matched DIMENSION: Top\\n* Matched FILTER: Phone\\n\\nThe date variable was identified based on the input question, and the following information was obtained:\\n\\n* Asked time element: last 3 months\\n* Converted time element: 01/07/2022 - 14/09/2022\\n\\nThe response JSON includes the identified entities, their constraints, and the date variable information.'"
      ]
     },
     "execution_count": 58,
     "metadata": {},
     "output_type": "execute_result"
    }
   ],
   "source": [
    "output"
   ]
  }
 ],
 "metadata": {
  "kernelspec": {
   "display_name": "Python 3",
   "language": "python",
   "name": "python3"
  },
  "language_info": {
   "codemirror_mode": {
    "name": "ipython",
    "version": 3
   },
   "file_extension": ".py",
   "mimetype": "text/x-python",
   "name": "python",
   "nbconvert_exporter": "python",
   "pygments_lexer": "ipython3",
   "version": "3.8.16"
  }
 },
 "nbformat": 4,
 "nbformat_minor": 5
}
