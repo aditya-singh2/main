{
 "cells": [
  {
   "cell_type": "code",
   "execution_count": 21,
   "id": "f0305521",
   "metadata": {},
   "outputs": [],
   "source": [
    "import os\n",
    "import torch\n",
    "from transformers import AutoModelForCausalLM, AutoTokenizer,BitsAndBytesConfig\n",
    "import json\n",
    "from query_to_mql_tt_integrated import system_msg,context,postprocess"
   ]
  },
  {
   "cell_type": "code",
   "execution_count": 2,
   "id": "5cdcb45e",
   "metadata": {},
   "outputs": [
    {
     "name": "stdout",
     "output_type": "stream",
     "text": [
      "True\n",
      "Tesla T4\n"
     ]
    }
   ],
   "source": [
    "print(torch.cuda.is_available())\n",
    "print(torch.cuda.get_device_name())"
   ]
  },
  {
   "cell_type": "code",
   "execution_count": 3,
   "id": "3957d714",
   "metadata": {},
   "outputs": [],
   "source": [
    "################################################################################\n",
    "# bitsandbytes parameters\n",
    "################################################################################\n",
    "\n",
    "# Activate 4-bit precision base model loading\n",
    "use_4bit = True\n",
    "\n",
    "# Compute dtype for 4-bit base models\n",
    "bnb_4bit_compute_dtype = \"float16\"\n",
    "\n",
    "# Quantization type (fp4 or nf4)\n",
    "bnb_4bit_quant_type = \"nf4\"\n",
    "\n",
    "compute_dtype = getattr(torch, bnb_4bit_compute_dtype)\n",
    "\n",
    "# Activate nested quantization for 4-bit base models (double quantization)\n",
    "use_nested_quant = False\n",
    "bnb_config = BitsAndBytesConfig(\n",
    "    load_in_4bit=use_4bit,\n",
    "    bnb_4bit_quant_type=bnb_4bit_quant_type,\n",
    "    bnb_4bit_compute_dtype=compute_dtype,\n",
    "    bnb_4bit_use_double_quant=use_nested_quant,\n",
    ")\n",
    "# Load the entire model on the GPU 0\n",
    "device_map = {\"\": 0}\n"
   ]
  },
  {
   "cell_type": "code",
   "execution_count": 4,
   "id": "5e6d6830",
   "metadata": {},
   "outputs": [
    {
     "data": {
      "application/vnd.jupyter.widget-view+json": {
       "model_id": "1970747df7ea4c7b9982fc9f605f9d22",
       "version_major": 2,
       "version_minor": 0
      },
      "text/plain": [
       "Loading checkpoint shards:   0%|          | 0/2 [00:00<?, ?it/s]"
      ]
     },
     "metadata": {},
     "output_type": "display_data"
    }
   ],
   "source": [
    "model_name = \"NousResearch/llama-2-7b-chat-hf\"\n",
    "model = AutoModelForCausalLM.from_pretrained(model_name,quantization_config=bnb_config,\n",
    "    device_map=device_map)\n",
    "tokenizer = AutoTokenizer.from_pretrained(model_name)"
   ]
  },
  {
   "cell_type": "code",
   "execution_count": 21,
   "id": "4a7a18d9",
   "metadata": {},
   "outputs": [],
   "source": [
    "#Testing prompt\n",
    "\n",
    "# question = \"what are the sales in africa\"\n",
    "# prompt = f\"\"\"[INST]<<SYS>>\n",
    "# Assume you are a system that detects the month and year in the given secentance, user will give only provide the input in english.\n",
    "# For example if user gives \"top  orders in march 2020\", you should only return march 2020.\n",
    "\n",
    "# <</SYS>>\n",
    "# {question}\n",
    "# [/INST]\n",
    "# [END]\"\"\""
   ]
  },
  {
   "cell_type": "code",
   "execution_count": 10,
   "id": "121ba1af",
   "metadata": {
    "scrolled": false
   },
   "outputs": [],
   "source": [
    "def gereneate_output_llama2(prompt):\n",
    "    #prompt = json.dumps(prompt)\n",
    "    model_input = tokenizer(prompt, return_tensors=\"pt\").to(\"cuda\")\n",
    "    #model.eval()\n",
    "    response = tokenizer.decode(model.generate(**model_input, max_length=4096)[0], skip_special_tokens=True)\n",
    "    return response"
   ]
  },
  {
   "cell_type": "code",
   "execution_count": 6,
   "id": "c3891448",
   "metadata": {},
   "outputs": [],
   "source": [
    "def get_user_question(question):\n",
    "    return \"Based on the following context:\\n\" + str(context) + \"\\n return a response for the question:\\n\" + question + \"\\n\""
   ]
  },
  {
   "cell_type": "code",
   "execution_count": 13,
   "id": "642d98be",
   "metadata": {},
   "outputs": [],
   "source": [
    "def compose_prompt(question):\n",
    "    return f\"\"\"[INST]<<SYS>>\n",
    "            {system_msg}\n",
    "            <</SYS>>\n",
    "            {get_user_question(question)}\n",
    "            [/INST]\n",
    "            [END]\"\"\""
   ]
  },
  {
   "cell_type": "code",
   "execution_count": 65,
   "id": "ef1b1296",
   "metadata": {},
   "outputs": [],
   "source": [
    "def post_process(output):\n",
    "    mql = output.split(\"[END]\")[1].split(\"\\n\\nReasoning:\\n\\n\")[0]\n",
    "    reason = output.split(\"[END]\")[1].split(\"\\n\\nReasoning:\\n\\n\")[1]\n",
    "    print(\"*\"*50+\"MQL\"+\"*\"*50)\n",
    "    print(mql)\n",
    "    print(\"\\n\"+\"*\"*50+\"Reason\"+\"*\"*50)\n",
    "    print(reason)\n",
    "    #return mql,reason"
   ]
  },
  {
   "cell_type": "code",
   "execution_count": 66,
   "id": "e5dd60ff",
   "metadata": {
    "scrolled": false
   },
   "outputs": [
    {
     "name": "stdout",
     "output_type": "stream",
     "text": [
      "**************************************************MQL**************************************************\n",
      " \n",
      "\n",
      "The response for the question \"quantity across category except phone in corporate\" is:\n",
      "\n",
      "{\n",
      "\"MEASURE\": [\n",
      "    {\n",
      "        \"n-gram matched to MEASURE\": [\n",
      "            {\n",
      "                \"ENTITY\": \"Matched MEASURE\",\n",
      "                \"MEASURE CONSTRAINT\": [\n",
      "                    {\n",
      "                        \"COMPARISON VALUE\": \"Except\",\n",
      "                        \"COMPARISION OPERATOR\": \"!\"\n",
      "                    }\n",
      "                ],\n",
      "                \"ADJECTIVE\": [],\n",
      "                \"TONE\": \"\"\n",
      "            }\n",
      "        ]\n",
      "    }\n",
      "],\n",
      "\"DIMENSION\": [\n",
      "    {\n",
      "        \"n-gram matched to DIMENSION\": [\n",
      "            {\n",
      "                \"ENTITY\": \"Matched DIMENSION\",\n",
      "                \"RANK\": [\n",
      "                    {\n",
      "                        \"RANK ADJECTIVE\": \"Top\",\n",
      "                        \"RANK VALUE\": \"1\"\n",
      "                    }\n",
      "                ],\n",
      "                \"ADJECTIVE\": [],\n",
      "                \"TONE\": \"\"\n",
      "            }\n",
      "        ]\n",
      "    }\n",
      "],\n",
      "\"FILTER\": [\n",
      "    {\n",
      "        \"n-gram matched to FILTER\": [\n",
      "            {\n",
      "                \"ENTITY\": \"Matched FILTER\",\n",
      "                \"PARENT\": \"parent of the Matched FILTER\",\n",
      "                \"EXCLUDE\": \"\"\n",
      "            }\n",
      "        ]\n",
      "    }\n",
      "],\n",
      "\"DERIVED MEASURE\": [\n",
      "    {\n",
      "        \"n-gram matched to DERIVED MEASURE\": [\n",
      "            {\n",
      "                \"ENTITY\": \"Matched DERIVED MEASURE\",\n",
      "                \"RATIO FILTER\": [\n",
      "                    {\n",
      "                        \"ENTITY\": \"Phone\",\n",
      "                        \"RATIO\": \"1:1\"\n",
      "                    }\n",
      "                ],\n",
      "                \"APPLIED MEASURE\": [\n",
      "                    {\n",
      "                        \"n-gram matched to MEASURE\": [\n",
      "                            {\n",
      "                                \"ENTITY\": \"Matched MEASURE\",\n",
      "                                \"MEASURE CONSTRAINT\": [\n",
      "                                    {\n",
      "                                        \"COMPARISON VALUE\": \"Except\",\n",
      "                                        \"COMPARISION OPERATOR\": \"!\"\n",
      "                                    }\n",
      "                                ],\n",
      "                                \"ADJECTIVE\": [],\n",
      "                                \"TONE\": \"\"\n",
      "                            }\n",
      "                        ]\n",
      "                    }\n",
      "                ],\n",
      "                \"DERIVED MEASURE CONSTRAINT\": [\n",
      "                    {\n",
      "                        \"COMPARISON VALUE\": \"Except\",\n",
      "                        \"COMPARISION OPERATOR\": \"!\"\n",
      "                    }\n",
      "                ],\n",
      "                \"ADJECTIVE\": [],\n",
      "                \"TONE\": \"\"\n",
      "            }\n",
      "        ]\n",
      "    }\n",
      "],\n",
      "\"DATE VARIABLE\": [\n",
      "    {\n",
      "        \"asked time element\": [\n",
      "            {\n",
      "                \"ENTITY\": \"Matched DATE VARIABLE\",\n",
      "                \"DATE RANGE\": \"last 3 months\",\n",
      "                \"CONVERTED TIME ELEMENT\": \"01/07/2022 - 14/09/2022\"\n",
      "            }\n",
      "        ]\n",
      "    }\n",
      "]\n",
      "}\n",
      "\n",
      "**************************************************Reason**************************************************\n",
      "Based on the input question, the following entities were identified:\n",
      "\n",
      "* MEASURE: quantity\n",
      "* DIMENSION: category\n",
      "* FILTER: corporate\n",
      "\n",
      "The n-gram matching was performed to identify the possible matches for the input question. The following entities were found to match:\n",
      "\n",
      "* MEASURE: Matched MEASURE\n",
      "* DIMENSION: Matched DIMENSION\n",
      "* FILTER: Matched FILTER\n",
      "\n",
      "The measure constraint was applied to the identified entities, and the following results were obtained:\n",
      "\n",
      "* Matched MEASURE: Except\n",
      "* Matched DIMENSION: Top\n",
      "* Matched FILTER: Phone\n",
      "\n",
      "The date variable was identified based on the input question, and the following information was obtained:\n",
      "\n",
      "* Asked time element: last 3 months\n",
      "* Converted time element: 01/07/2022 - 14/09/2022\n",
      "\n",
      "The response JSON includes the identified entities, their constraints, and the date variable information.\n",
      "CPU times: user 1min 6s, sys: 1.53 s, total: 1min 7s\n",
      "Wall time: 1min 7s\n"
     ]
    }
   ],
   "source": [
    "%%time\n",
    "question = \"quantity across category except phone in corporate\"\n",
    "output=gereneate_output_llama2(compose_prompt(question))\n",
    "post_process(output)"
   ]
  }
 ],
 "metadata": {
  "kernelspec": {
   "display_name": "Python 3",
   "language": "python",
   "name": "python3"
  },
  "language_info": {
   "codemirror_mode": {
    "name": "ipython",
    "version": 3
   },
   "file_extension": ".py",
   "mimetype": "text/x-python",
   "name": "python",
   "nbconvert_exporter": "python",
   "pygments_lexer": "ipython3",
   "version": "3.8.16"
  }
 },
 "nbformat": 4,
 "nbformat_minor": 5
}
