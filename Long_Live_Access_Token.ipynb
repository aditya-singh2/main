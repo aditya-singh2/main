{
 "cells": [
  {
   "cell_type": "code",
   "execution_count": 35,
   "id": "d72a71dd",
   "metadata": {},
   "outputs": [],
   "source": [
    "import json\n",
    "def application_scorecard(payload):\n",
    "    Access_token = \"eyJhbGciOiJSUzI1NiIsInR5cCIgOiAiSldUIiwia2lkIiA6ICJ4WTdTd3k5UE1xaXRDQmNSMm5qcVl6bmoxS3NqZzV3TmdOV0xDVzdyUkhvIn0.eyJleHAiOjE3MzA4ODM3MzgsImlhdCI6MTY5OTI2MTMzOCwiYXV0aF90aW1lIjoxNjk5MjUyMDQ0LCJqdGkiOiJmN2EzMzQwYy1kNDQwLTRlMzUtYjk2ZS04YzBiMTc0Y2RhODAiLCJpc3MiOiJodHRwczovL3JlZnJhY3QtbG9naW4uZm9zZm9yLmNvbS9hdXRoL3JlYWxtcy9tb3NhaWMiLCJhdWQiOlsibW9zYWljLWdhdGVrZWVwZXIiLCJhY2NvdW50Il0sInN1YiI6IjZjMjU4MWU3LWZmMTItNDljNy04MDJmLWI2ZjQzOWQxZDIwMSIsInR5cCI6IkJlYXJlciIsImF6cCI6Im1vc2FpYy1nYXRla2VlcGVyIiwic2Vzc2lvbl9zdGF0ZSI6IjBhY2Y3YWZhLTVmMzMtNGRhZS05OGM3LTQyZDQwYTdlZTM2NiIsImFsbG93ZWQtb3JpZ2lucyI6WyIqIl0sInJlYWxtX2FjY2VzcyI6eyJyb2xlcyI6WyJNTE9QUyIsImxvbmdfbGl2ZWRfdG9rZW4iLCJzcGVjdHJhLWRldmVsb3BlciIsImRlZmF1bHQtcm9sZXMtbW9zYWljIiwicmVmcmFjdC1kZXZlbG9wZXIiLCJvZmZsaW5lX2FjY2VzcyIsImFkbWluIiwidW1hX2F1dGhvcml6YXRpb24iLCJyZWZyYWN0LWFkbWluIl19LCJyZXNvdXJjZV9hY2Nlc3MiOnsiYWNjb3VudCI6eyJyb2xlcyI6WyJtYW5hZ2UtYWNjb3VudCIsIm1hbmFnZS1hY2NvdW50LWxpbmtzIiwidmlldy1wcm9maWxlIl19fSwic2NvcGUiOiJvcGVuaWQgZW1haWwgcHJvZmlsZSIsInNpZCI6IjBhY2Y3YWZhLTVmMzMtNGRhZS05OGM3LTQyZDQwYTdlZTM2NiIsImVtYWlsX3ZlcmlmaWVkIjp0cnVlLCJuYW1lIjoiUmVmcmFjdCBCRlNJIiwicHJlZmVycmVkX3VzZXJuYW1lIjoicmVmcmFjdC5iZnNpQGZvc2Zvci5jb20iLCJnaXZlbl9uYW1lIjoiUmVmcmFjdCIsImZhbWlseV9uYW1lIjoiQkZTSSIsImVtYWlsIjoicmVmcmFjdC5iZnNpQGZvc2Zvci5jb20ifQ.b6SYLgjo9Veo3GmJ8eZjCTNupQjpfMhzsoXdYjWwRtvRnNjBfx0gOqcugO9OcGn-mm8wwpSGI5uiL30-I6SdWBjsf1ur6GztoX7j-nP_3SrJJn3UhNNqIO8LbsPi5gGRTzWtnfjz92BF1YaCXxQwPY0P_aa8vJ6JxZz5Uctn9aIPIJZZnnjC_GPXtXurmshM_tEN2kwCjhEyr7wYzRqUoMtBGfpLjZREBzgZY-x6JyYiXNtycb1d6PFcCXf7nJVV8ienEC_x7OuciDzfeqd-SQnImvAHH7rqFdi9smBN08AbkDS2uAbMrokHrmbiBpaimrR013VwCWz2KL5QYlWleA\"\n",
    "    headers = {'Content-Type': 'application/json',\n",
    "               'Authorization': 'Bearer ' + Access_token}\n",
    "    url = \"https://refract.fosfor.com/starchatbeta5workertest/746254b5-39f1-4c3e-9520-04ed064c6a28/score\"\n",
    "    #data = {\"payload\": payload}\n",
    "    #inp_data = json.dumps(data)\n",
    "    #inp_payload = json.dumps(payload)\n",
    "    #print(type(inp_payload))\n",
    "    #print(inp_payload)\n",
    "    response_json = requests.post(url, json=payload, headers=headers)\n",
    "    print(response_json.status_code)\n",
    "\n",
    "    # st.text_input(\"API Response: \",response_json.content)\n",
    "    print(type(response_json.json()))\n",
    "    print(response_json.json())\n",
    "    #response = response_json.json()\n",
    "    try:\n",
    "        print(\"success\")\n",
    "        print(response_json.json())\n",
    "        return response_json.json()\n",
    "    except ValueError:\n",
    "        print(\"failure\")\n",
    "        #return response_json.status_code\n",
    "\n"
   ]
  },
  {
   "cell_type": "code",
   "execution_count": 36,
   "id": "25db35f6",
   "metadata": {},
   "outputs": [],
   "source": [
    "inp1={\"payload\":\"How do I sort a list in Python?\"}"
   ]
  },
  {
   "cell_type": "code",
   "execution_count": 37,
   "id": "aff5abeb",
   "metadata": {},
   "outputs": [
    {
     "name": "stdout",
     "output_type": "stream",
     "text": [
      "200\n",
      "<class 'dict'>\n",
      "{'data': [{'_uuid': '09e6aebd-800e-4f7d-992b-c595de7361bb', 'clean_payload': 'How do I sort a list in Python?', 'clean_payload_validated': False, 'request_processed_payload': 'How do I sort a list in Python?', 'rp_payload_validated': False, 'score_request': [], 'score_response': \"\\nYou can sort a list in Python using the sort() method. Here's an example:\\n\\n```\\nnumbers = [3, 1, 4, 1, 5, 9, 2, 6, 5, 3, 5]\\nnumbers.sort()\\nprint(numbers)\\n```\\n\\nThis will sort the list in place and print the sorted list.\", 'timestamp': '11/03/2023, 11:06:42'}], 'request_id': '7d2845ee-912e-4ffc-a168-d87456119999'}\n",
      "success\n",
      "{'data': [{'_uuid': '09e6aebd-800e-4f7d-992b-c595de7361bb', 'clean_payload': 'How do I sort a list in Python?', 'clean_payload_validated': False, 'request_processed_payload': 'How do I sort a list in Python?', 'rp_payload_validated': False, 'score_request': [], 'score_response': \"\\nYou can sort a list in Python using the sort() method. Here's an example:\\n\\n```\\nnumbers = [3, 1, 4, 1, 5, 9, 2, 6, 5, 3, 5]\\nnumbers.sort()\\nprint(numbers)\\n```\\n\\nThis will sort the list in place and print the sorted list.\", 'timestamp': '11/03/2023, 11:06:42'}], 'request_id': '7d2845ee-912e-4ffc-a168-d87456119999'}\n"
     ]
    }
   ],
   "source": [
    "output=application_scorecard(inp1)"
   ]
  },
  {
   "cell_type": "code",
   "execution_count": 38,
   "id": "4d6e7826",
   "metadata": {},
   "outputs": [
    {
     "name": "stdout",
     "output_type": "stream",
     "text": [
      "\n",
      "You can sort a list in Python using the sort() method. Here's an example:\n",
      "\n",
      "```\n",
      "numbers = [3, 1, 4, 1, 5, 9, 2, 6, 5, 3, 5]\n",
      "numbers.sort()\n",
      "print(numbers)\n",
      "```\n",
      "\n",
      "This will sort the list in place and print the sorted list.\n"
     ]
    }
   ],
   "source": [
    "print((output[\"data\"][0][\"score_response\"]))"
   ]
  },
  {
   "cell_type": "code",
   "execution_count": 8,
   "id": "d1bdea05",
   "metadata": {},
   "outputs": [
    {
     "name": "stdout",
     "output_type": "stream",
     "text": [
      "<bound method Response.json of <Response [500]>>\n"
     ]
    }
   ],
   "source": [
    "print(output)"
   ]
  },
  {
   "cell_type": "code",
   "execution_count": null,
   "id": "2243e26e",
   "metadata": {},
   "outputs": [],
   "source": []
  }
 ],
 "metadata": {
  "kernelspec": {
   "display_name": "Python 3",
   "language": "python",
   "name": "python3"
  },
  "language_info": {
   "codemirror_mode": {
    "name": "ipython",
    "version": 3
   },
   "file_extension": ".py",
   "mimetype": "text/x-python",
   "name": "python",
   "nbconvert_exporter": "python",
   "pygments_lexer": "ipython3",
   "version": "3.8.16"
  }
 },
 "nbformat": 4,
 "nbformat_minor": 5
}
