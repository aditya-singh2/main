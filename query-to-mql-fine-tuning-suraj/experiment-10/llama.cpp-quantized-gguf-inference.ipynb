{
 "cells": [
  {
   "cell_type": "code",
   "execution_count": 2,
   "id": "540b0377",
   "metadata": {
    "scrolled": true
   },
   "outputs": [],
   "source": [
    "from llama_cpp import Llama"
   ]
  },
  {
   "cell_type": "code",
   "execution_count": 12,
   "id": "54570056",
   "metadata": {},
   "outputs": [
    {
     "name": "stderr",
     "output_type": "stream",
     "text": [
      "AVX = 1 | AVX2 = 1 | AVX512 = 1 | AVX512_VBMI = 1 | AVX512_VNNI = 1 | FMA = 1 | NEON = 0 | ARM_FMA = 0 | F16C = 1 | FP16_VA = 0 | WASM_SIMD = 0 | BLAS = 0 | SSE3 = 1 | SSSE3 = 1 | VSX = 0 | \n"
     ]
    }
   ],
   "source": [
    "llm = Llama(model_path=\"/data/mistral/query-to-mql/exp-10/nov-20/merged-model/ggml-model-q4_0/ggml-model-q4_0.gguf\", n_threads=8)"
   ]
  },
  {
   "cell_type": "code",
   "execution_count": 13,
   "id": "82636260",
   "metadata": {},
   "outputs": [],
   "source": [
    "query_template_v1 = \"\"\"Given the context : {context} and date reference: {date_input}, the query: {user_query}, is converted into below shown structured output.\n",
    "[MQL]\n",
    "\"\"\"\n",
    "\n",
    "context = \"\"\"{\n",
    "    \"MEASURE\": [{\"ENTITY\": \"Sales\", \"other names\": [\"sales\", \"sale\"]}],\n",
    "    \"DIMENSION\": [{\"ENTITY\": \"Sub-Category\", \"other names\": [\"sub-category\", \"sub category\", \"categories\", \"section\"]}],\n",
    "    \"FILTER\": [{\"ENTITY\": \"Dubai\", \"other names\": [\"dubai\"], \"parent\": \"Country\"}],\n",
    "    \"DERIVED MEASURE\": [],\n",
    "    \"DATE VARIABLE\": [{\"ENTITY\": \"Order Date\", \"other names\": [\"order date\"]}]\n",
    "    }\"\"\"\n",
    "\n",
    "date_input = {\n",
    "    \"start_date\": \"01/01/2020\",\n",
    "    \"end_date\": \"15/09/2023\"\n",
    "}"
   ]
  },
  {
   "cell_type": "code",
   "execution_count": 14,
   "id": "a2e102b0",
   "metadata": {},
   "outputs": [],
   "source": [
    "user_query = 'sales in nov 2020 to may 2021 vs Q3 2021'\n",
    "\n",
    "inp = query_template_v1.format(context=context,\n",
    "                                   user_query=user_query,\n",
    "                                  date_input=date_input)"
   ]
  },
  {
   "cell_type": "code",
   "execution_count": 16,
   "id": "536bdd32",
   "metadata": {},
   "outputs": [],
   "source": [
    "import time"
   ]
  },
  {
   "cell_type": "code",
   "execution_count": 18,
   "id": "6e2bb5af",
   "metadata": {},
   "outputs": [
    {
     "name": "stderr",
     "output_type": "stream",
     "text": [
      "Llama.generate: prefix-match hit\n"
     ]
    },
    {
     "name": "stdout",
     "output_type": "stream",
     "text": [
      "time taken :  20.393362283706665\n"
     ]
    }
   ],
   "source": [
    "start = time.time()\n",
    "output = llm(\n",
    "  inp, # Prompt\n",
    "  max_tokens=200, # Generate up to 32 tokens\n",
    "  echo=True, # Echo the prompt back in the output\n",
    "    temperature=0,\n",
    ")\n",
    "print(\"time taken : \", time.time()-start)"
   ]
  },
  {
   "cell_type": "code",
   "execution_count": 19,
   "id": "b4fb3b03",
   "metadata": {},
   "outputs": [
    {
     "name": "stdout",
     "output_type": "stream",
     "text": [
      "{'id': 'cmpl-89fcd03f-1524-414c-bc5d-738edb0ed24b', 'object': 'text_completion', 'created': 1700931069, 'model': '/data/mistral/query-to-mql/exp-10/nov-20/merged-model/ggml-model-q4_0/ggml-model-q4_0.gguf', 'choices': [{'text': 'Given the context : {\\n    \"MEASURE\": [{\"ENTITY\": \"Sales\", \"other names\": [\"sales\", \"sale\"]}],\\n    \"DIMENSION\": [{\"ENTITY\": \"Sub-Category\", \"other names\": [\"sub-category\", \"sub category\", \"categories\", \"section\"]}],\\n    \"FILTER\": [{\"ENTITY\": \"Dubai\", \"other names\": [\"dubai\"], \"parent\": \"Country\"}],\\n    \"DERIVED MEASURE\": [],\\n    \"DATE VARIABLE\": [{\"ENTITY\": \"Order Date\", \"other names\": [\"order date\"]}]\\n    } and date reference: {\\'start_date\\': \\'01/01/2020\\', \\'end_date\\': \\'15/09/2023\\'}, the query: sales in nov 2020 to may 2021 vs Q3 2021, is converted into below shown structured output.\\n[MQL]\\n{\\'DATE VARIABLE\\': {\\'nov 2020 to may 2021\\': [{\\'CONVERTED TIME ELEMENT\\': \\'nov 2020 to may 2021\\', \\'DATE RANGE\\': \\'2020/11/01 - 2021/05/31\\', \\'ENTITY\\': \\'Order Date\\'}]}, \\'MEASURE\\': {\\'sales\\': [{\\'ENTITY\\': \\'Sales\\'}]}}\\n[/MQL]\\nthe steps and rationale used to achieve above structured output is as below.\\nStep 1: Identify the components in the query\\n- The query mentions \"sales\" which is a measure.\\n- The query also mentions \"nov 2020 to may 2021\" and \"Q3 2021\" which are date variables.\\n\\nStep 2: Match the components', 'index': 0, 'logprobs': None, 'finish_reason': 'length'}], 'usage': {'prompt_tokens': 225, 'completion_tokens': 200, 'total_tokens': 425}}\n"
     ]
    }
   ],
   "source": [
    "print(output)"
   ]
  },
  {
   "cell_type": "code",
   "execution_count": null,
   "id": "12b26612",
   "metadata": {},
   "outputs": [],
   "source": []
  },
  {
   "cell_type": "code",
   "execution_count": null,
   "id": "9ecd0190",
   "metadata": {},
   "outputs": [],
   "source": []
  },
  {
   "cell_type": "code",
   "execution_count": null,
   "id": "157bfee3",
   "metadata": {},
   "outputs": [],
   "source": []
  },
  {
   "cell_type": "code",
   "execution_count": null,
   "id": "49008b77",
   "metadata": {},
   "outputs": [],
   "source": []
  }
 ],
 "metadata": {
  "kernelspec": {
   "display_name": "Python 3",
   "language": "python",
   "name": "python3"
  },
  "language_info": {
   "codemirror_mode": {
    "name": "ipython",
    "version": 3
   },
   "file_extension": ".py",
   "mimetype": "text/x-python",
   "name": "python",
   "nbconvert_exporter": "python",
   "pygments_lexer": "ipython3",
   "version": "3.8.16"
  }
 },
 "nbformat": 4,
 "nbformat_minor": 5
}
