{
 "cells": [
  {
   "cell_type": "code",
   "execution_count": 1,
   "id": "1e45a29b",
   "metadata": {},
   "outputs": [],
   "source": [
    "!sudo pip install -q transformers --upgrade"
   ]
  },
  {
   "cell_type": "code",
   "execution_count": 2,
   "id": "2c22a9c2",
   "metadata": {},
   "outputs": [],
   "source": [
    "from transformers import AutoModelForCausalLM"
   ]
  },
  {
   "cell_type": "code",
   "execution_count": 3,
   "id": "ab1a62ff",
   "metadata": {},
   "outputs": [],
   "source": [
    "import torch"
   ]
  },
  {
   "cell_type": "code",
   "execution_count": 6,
   "id": "5e67b9e8",
   "metadata": {},
   "outputs": [],
   "source": [
    "!sudo pip install -q git+https://github.com/huggingface/optimum.git"
   ]
  },
  {
   "cell_type": "code",
   "execution_count": 4,
   "id": "d2ca8102",
   "metadata": {},
   "outputs": [
    {
     "data": {
      "application/vnd.jupyter.widget-view+json": {
       "model_id": "6cdbb1b7740e4ab88408fec6daf5d0cf",
       "version_major": 2,
       "version_minor": 0
      },
      "text/plain": [
       "Loading checkpoint shards:   0%|          | 0/3 [00:00<?, ?it/s]"
      ]
     },
     "metadata": {},
     "output_type": "display_data"
    }
   ],
   "source": [
    "model = AutoModelForCausalLM.from_pretrained(\"/data/mistral/query-to-mql/exp-10/nov-20/merged-model\",\n",
    "                                            torch_dtype=torch.float16, device_map=\"auto\")"
   ]
  },
  {
   "cell_type": "code",
   "execution_count": 7,
   "id": "6ec8c3f7",
   "metadata": {},
   "outputs": [],
   "source": [
    "import optimum"
   ]
  },
  {
   "cell_type": "code",
   "execution_count": 5,
   "id": "bcbd007d",
   "metadata": {},
   "outputs": [
    {
     "ename": "ImportError",
     "evalue": "The package `optimum` is required to use Better Transformer.",
     "output_type": "error",
     "traceback": [
      "\u001b[0;31m---------------------------------------------------------------------------\u001b[0m",
      "\u001b[0;31mImportError\u001b[0m                               Traceback (most recent call last)",
      "Cell \u001b[0;32mIn[5], line 1\u001b[0m\n\u001b[0;32m----> 1\u001b[0m \u001b[43mmodel\u001b[49m\u001b[38;5;241;43m.\u001b[39;49m\u001b[43mto_bettertransformer\u001b[49m\u001b[43m(\u001b[49m\u001b[43m)\u001b[49m\n",
      "File \u001b[0;32m/opt/conda/lib/python3.8/site-packages/transformers/modeling_utils.py:4068\u001b[0m, in \u001b[0;36mPreTrainedModel.to_bettertransformer\u001b[0;34m(self)\u001b[0m\n\u001b[1;32m   4054\u001b[0m \u001b[38;5;250m\u001b[39m\u001b[38;5;124;03m\"\"\"\u001b[39;00m\n\u001b[1;32m   4055\u001b[0m \u001b[38;5;124;03mConverts the model to use [PyTorch's native attention\u001b[39;00m\n\u001b[1;32m   4056\u001b[0m \u001b[38;5;124;03mimplementation](https://pytorch.org/docs/stable/generated/torch.nn.MultiheadAttention.html), integrated to\u001b[39;00m\n\u001b[0;32m   (...)\u001b[0m\n\u001b[1;32m   4065\u001b[0m \u001b[38;5;124;03m    [`PreTrainedModel`]: The model converted to BetterTransformer.\u001b[39;00m\n\u001b[1;32m   4066\u001b[0m \u001b[38;5;124;03m\"\"\"\u001b[39;00m\n\u001b[1;32m   4067\u001b[0m \u001b[38;5;28;01mif\u001b[39;00m \u001b[38;5;129;01mnot\u001b[39;00m is_optimum_available():\n\u001b[0;32m-> 4068\u001b[0m     \u001b[38;5;28;01mraise\u001b[39;00m \u001b[38;5;167;01mImportError\u001b[39;00m(\u001b[38;5;124m\"\u001b[39m\u001b[38;5;124mThe package `optimum` is required to use Better Transformer.\u001b[39m\u001b[38;5;124m\"\u001b[39m)\n\u001b[1;32m   4070\u001b[0m \u001b[38;5;28;01mfrom\u001b[39;00m \u001b[38;5;21;01moptimum\u001b[39;00m\u001b[38;5;21;01m.\u001b[39;00m\u001b[38;5;21;01mversion\u001b[39;00m \u001b[38;5;28;01mimport\u001b[39;00m __version__ \u001b[38;5;28;01mas\u001b[39;00m optimum_version\n\u001b[1;32m   4072\u001b[0m \u001b[38;5;28;01mif\u001b[39;00m version\u001b[38;5;241m.\u001b[39mparse(optimum_version) \u001b[38;5;241m<\u001b[39m version\u001b[38;5;241m.\u001b[39mparse(\u001b[38;5;124m\"\u001b[39m\u001b[38;5;124m1.7.0\u001b[39m\u001b[38;5;124m\"\u001b[39m):\n",
      "\u001b[0;31mImportError\u001b[0m: The package `optimum` is required to use Better Transformer."
     ]
    }
   ],
   "source": [
    "model.to_bettertransformer()"
   ]
  },
  {
   "cell_type": "code",
   "execution_count": null,
   "id": "d511ecd8",
   "metadata": {},
   "outputs": [],
   "source": []
  },
  {
   "cell_type": "code",
   "execution_count": null,
   "id": "5faf7161",
   "metadata": {},
   "outputs": [],
   "source": []
  },
  {
   "cell_type": "code",
   "execution_count": null,
   "id": "ef2c4a39",
   "metadata": {},
   "outputs": [],
   "source": []
  },
  {
   "cell_type": "code",
   "execution_count": null,
   "id": "ca24d6d1",
   "metadata": {},
   "outputs": [],
   "source": []
  }
 ],
 "metadata": {
  "kernelspec": {
   "display_name": "Python 3",
   "language": "python",
   "name": "python3"
  },
  "language_info": {
   "codemirror_mode": {
    "name": "ipython",
    "version": 3
   },
   "file_extension": ".py",
   "mimetype": "text/x-python",
   "name": "python",
   "nbconvert_exporter": "python",
   "pygments_lexer": "ipython3",
   "version": "3.8.16"
  }
 },
 "nbformat": 4,
 "nbformat_minor": 5
}
