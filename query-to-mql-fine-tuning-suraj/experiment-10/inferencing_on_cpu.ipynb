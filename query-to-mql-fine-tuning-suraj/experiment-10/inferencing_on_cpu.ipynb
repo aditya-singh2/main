{
 "cells": [
  {
   "cell_type": "code",
   "execution_count": 1,
   "id": "1e45a29b",
   "metadata": {},
   "outputs": [],
   "source": [
    "!sudo pip install -q transformers --upgrade"
   ]
  },
  {
   "cell_type": "code",
   "execution_count": 2,
   "id": "2c22a9c2",
   "metadata": {},
   "outputs": [],
   "source": [
    "from transformers import AutoModelForCausalLM"
   ]
  },
  {
   "cell_type": "code",
   "execution_count": null,
   "id": "d2ca8102",
   "metadata": {},
   "outputs": [],
   "source": [
    "model = AutoModelForCausalLM.from_pretrained(\"/data/mistral/query-to-mql/exp-10/nov-20/merged-model\")\n",
    "model.to_bettertransformer()"
   ]
  },
  {
   "cell_type": "code",
   "execution_count": 4,
   "id": "5c9ab66d",
   "metadata": {},
   "outputs": [],
   "source": [
    "!sudo pip install -q git+https://github.com/huggingface/optimum.git"
   ]
  },
  {
   "cell_type": "code",
   "execution_count": 10,
   "id": "092db01f",
   "metadata": {
    "scrolled": true
   },
   "outputs": [
    {
     "name": "stdout",
     "output_type": "stream",
     "text": [
      "Collecting onnxruntime\n",
      "\u001b[?25l  Downloading https://files.pythonhosted.org/packages/ce/de/689d34a5524721330e03389e5d3171cb759dd5b332d7ee2576f6a2fa678e/onnxruntime-1.16.3-cp38-cp38-manylinux_2_17_x86_64.manylinux2014_x86_64.whl (6.4MB)\n",
      "\u001b[K     |████████████████████████████████| 6.4MB 7.2MB/s eta 0:00:01\n",
      "\u001b[?25hCollecting flatbuffers\n",
      "  Downloading https://files.pythonhosted.org/packages/6f/12/d5c79ee252793ffe845d58a913197bfa02ae9a0b5c9bc3dc4b58d477b9e7/flatbuffers-23.5.26-py2.py3-none-any.whl\n",
      "Requirement already satisfied: packaging in /opt/conda/lib/python3.8/site-packages (from onnxruntime) (23.0)\n",
      "Requirement already satisfied: sympy in /opt/conda/lib/python3.8/site-packages (from onnxruntime) (1.11.1)\n",
      "Collecting numpy>=1.21.6\n",
      "\u001b[?25l  Downloading https://files.pythonhosted.org/packages/98/5d/5738903efe0ecb73e51eb44feafba32bdba2081263d40c5043568ff60faf/numpy-1.24.4-cp38-cp38-manylinux_2_17_x86_64.manylinux2014_x86_64.whl (17.3MB)\n",
      "\u001b[K     |████████████████████████████████| 17.3MB 105.4MB/s eta 0:00:01\n",
      "\u001b[?25hRequirement already satisfied: protobuf in /opt/conda/lib/python3.8/site-packages (from onnxruntime) (4.23.4)\n",
      "Requirement already satisfied: coloredlogs in /opt/conda/lib/python3.8/site-packages (from onnxruntime) (15.0.1)\n",
      "Requirement already satisfied: mpmath>=0.19 in /opt/conda/lib/python3.8/site-packages (from sympy->onnxruntime) (1.2.1)\n",
      "Requirement already satisfied: humanfriendly>=9.1 in /opt/conda/lib/python3.8/site-packages (from coloredlogs->onnxruntime) (10.0)\n",
      "Installing collected packages: flatbuffers, numpy, onnxruntime\n",
      "  Found existing installation: numpy 1.21.1\n",
      "    Uninstalling numpy-1.21.1:\n",
      "      Successfully uninstalled numpy-1.21.1\n",
      "Successfully installed flatbuffers-23.5.26 numpy-1.24.4 onnxruntime-1.16.3\n"
     ]
    }
   ],
   "source": [
    "!sudo pip install onnxruntime"
   ]
  },
  {
   "cell_type": "code",
   "execution_count": 12,
   "id": "cbcd159a",
   "metadata": {},
   "outputs": [],
   "source": [
    "from optimum.pipelines import pipeline"
   ]
  },
  {
   "cell_type": "code",
   "execution_count": 11,
   "id": "4923e7f9",
   "metadata": {},
   "outputs": [],
   "source": [
    "from transformers import AutoTokenizer\n",
    "from optimum.onnxruntime import ORTModelForCausalLM\n",
    "import torch"
   ]
  },
  {
   "cell_type": "code",
   "execution_count": null,
   "id": "6763da97",
   "metadata": {},
   "outputs": [],
   "source": [
    "\n",
    "\n",
    "model_path = \"path/to/gpt-something.onnx\"\n",
    "# the model_path also needs to include the `config.json` from the original model\n",
    "tokenizer_name = \"gpt2\"\n",
    "\n",
    "tokenizer = AutoTokenizer.from_pretrained(tokenizer_name)\n",
    "model = ORTModelForCausalLM.from_pretrained(model_path)\n",
    "\n",
    "inputs = tokenizer(\"My name is Philipp and I live in Germany.\", return_tensors=\"pt\")\n",
    "\n",
    "gen_tokens = model.generate(**inputs,do_sample=True,temperature=0.9, min_length=20,max_length=20)\n",
    "tokenizer.batch_decode(gen_tokens)"
   ]
  },
  {
   "cell_type": "code",
   "execution_count": null,
   "id": "e78d313a",
   "metadata": {},
   "outputs": [],
   "source": []
  },
  {
   "cell_type": "code",
   "execution_count": 13,
   "id": "17729c83",
   "metadata": {},
   "outputs": [
    {
     "ename": "ValueError",
     "evalue": "Task question-answering is not supported for the ONNX Runtime pipeline. Supported tasks are []",
     "output_type": "error",
     "traceback": [
      "\u001b[0;31m---------------------------------------------------------------------------\u001b[0m",
      "\u001b[0;31mValueError\u001b[0m                                Traceback (most recent call last)",
      "Cell \u001b[0;32mIn[13], line 1\u001b[0m\n\u001b[0;32m----> 1\u001b[0m onnx \u001b[38;5;241m=\u001b[39m \u001b[43mpipeline\u001b[49m\u001b[43m(\u001b[49m\u001b[38;5;124;43m\"\u001b[39;49m\u001b[38;5;124;43mquestion-answering\u001b[39;49m\u001b[38;5;124;43m\"\u001b[39;49m\u001b[43m,\u001b[49m\u001b[43m \u001b[49m\u001b[43mmodel\u001b[49m\u001b[38;5;241;43m=\u001b[39;49m\u001b[38;5;124;43m\"\u001b[39;49m\u001b[38;5;124;43m/data/mistral/query-to-mql/exp-10/nov-20/merged-model\u001b[39;49m\u001b[38;5;124;43m\"\u001b[39;49m\u001b[43m,\u001b[49m\u001b[43m \u001b[49m\u001b[43maccelerator\u001b[49m\u001b[38;5;241;43m=\u001b[39;49m\u001b[38;5;124;43m\"\u001b[39;49m\u001b[38;5;124;43mort\u001b[39;49m\u001b[38;5;124;43m\"\u001b[39;49m\u001b[43m)\u001b[49m\n",
      "File \u001b[0;32m/opt/conda/lib/python3.8/site-packages/optimum/pipelines/pipelines_base.py:306\u001b[0m, in \u001b[0;36mpipeline\u001b[0;34m(task, model, tokenizer, feature_extractor, use_fast, token, accelerator, revision, trust_remote_code, *model_kwargs, **kwargs)\u001b[0m\n\u001b[1;32m    304\u001b[0m \u001b[38;5;28;01mif\u001b[39;00m accelerator \u001b[38;5;241m==\u001b[39m \u001b[38;5;124m\"\u001b[39m\u001b[38;5;124mort\u001b[39m\u001b[38;5;124m\"\u001b[39m:\n\u001b[1;32m    305\u001b[0m     \u001b[38;5;28;01mif\u001b[39;00m targeted_task \u001b[38;5;129;01mnot\u001b[39;00m \u001b[38;5;129;01min\u001b[39;00m \u001b[38;5;28mlist\u001b[39m(ORT_SUPPORTED_TASKS\u001b[38;5;241m.\u001b[39mkeys()):\n\u001b[0;32m--> 306\u001b[0m         \u001b[38;5;28;01mraise\u001b[39;00m \u001b[38;5;167;01mValueError\u001b[39;00m(\n\u001b[1;32m    307\u001b[0m             \u001b[38;5;124mf\u001b[39m\u001b[38;5;124m\"\u001b[39m\u001b[38;5;124mTask \u001b[39m\u001b[38;5;132;01m{\u001b[39;00mtargeted_task\u001b[38;5;132;01m}\u001b[39;00m\u001b[38;5;124m is not supported for the ONNX Runtime pipeline. Supported tasks are \u001b[39m\u001b[38;5;132;01m{\u001b[39;00m\u001b[38;5;250m \u001b[39m\u001b[38;5;28mlist\u001b[39m(ORT_SUPPORTED_TASKS\u001b[38;5;241m.\u001b[39mkeys())\u001b[38;5;132;01m}\u001b[39;00m\u001b[38;5;124m\"\u001b[39m\n\u001b[1;32m    308\u001b[0m         )\n\u001b[1;32m    310\u001b[0m \u001b[38;5;28;01mif\u001b[39;00m accelerator \u001b[38;5;129;01mnot\u001b[39;00m \u001b[38;5;129;01min\u001b[39;00m MAPPING_LOADING_FUNC:\n\u001b[1;32m    311\u001b[0m     \u001b[38;5;28;01mraise\u001b[39;00m \u001b[38;5;167;01mValueError\u001b[39;00m(\n\u001b[1;32m    312\u001b[0m         \u001b[38;5;124mf\u001b[39m\u001b[38;5;124m'\u001b[39m\u001b[38;5;124mAccelerator \u001b[39m\u001b[38;5;132;01m{\u001b[39;00maccelerator\u001b[38;5;132;01m}\u001b[39;00m\u001b[38;5;124m is not supported. Supported accelerators are \u001b[39m\u001b[38;5;124m\"\u001b[39m\u001b[38;5;124mort\u001b[39m\u001b[38;5;124m\"\u001b[39m\u001b[38;5;124m and \u001b[39m\u001b[38;5;124m\"\u001b[39m\u001b[38;5;124mbettertransformer\u001b[39m\u001b[38;5;124m\"\u001b[39m\u001b[38;5;124m.\u001b[39m\u001b[38;5;124m'\u001b[39m\n\u001b[1;32m    313\u001b[0m     )\n",
      "\u001b[0;31mValueError\u001b[0m: Task question-answering is not supported for the ONNX Runtime pipeline. Supported tasks are []"
     ]
    }
   ],
   "source": [
    "onnx = pipeline(\"question-answering\", model=\"/data/mistral/query-to-mql/exp-10/nov-20/merged-model\", accelerator=\"ort\")"
   ]
  },
  {
   "cell_type": "code",
   "execution_count": null,
   "id": "a169218c",
   "metadata": {},
   "outputs": [],
   "source": [
    "question = \"What's my name?\"\n",
    "context = \"My name is Philipp and I live in Nuremberg.\"\n",
    "\n",
    "pred = onnx_qa(question=question, context=context)"
   ]
  }
 ],
 "metadata": {
  "kernelspec": {
   "display_name": "Python 3",
   "language": "python",
   "name": "python3"
  },
  "language_info": {
   "codemirror_mode": {
    "name": "ipython",
    "version": 3
   },
   "file_extension": ".py",
   "mimetype": "text/x-python",
   "name": "python",
   "nbconvert_exporter": "python",
   "pygments_lexer": "ipython3",
   "version": "3.8.16"
  }
 },
 "nbformat": 4,
 "nbformat_minor": 5
}
