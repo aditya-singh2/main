{
 "cells": [
  {
   "cell_type": "code",
   "execution_count": 1,
   "id": "c2888966",
   "metadata": {},
   "outputs": [],
   "source": [
    "!sudo pip install -q transformers --upgrade"
   ]
  },
  {
   "cell_type": "code",
   "execution_count": null,
   "id": "8f8c3f52",
   "metadata": {},
   "outputs": [],
   "source": [
    "!sudo pip install -q autoawq"
   ]
  },
  {
   "cell_type": "code",
   "execution_count": 3,
   "id": "1c6dec1c",
   "metadata": {},
   "outputs": [],
   "source": [
    "model = '/data/mistral/query-to-mql/exp-10/nov-20/merged-model'\n",
    "tokenizer = '/data/mistral/query-to-mql/exp-10/nov-20/merged-model'"
   ]
  },
  {
   "cell_type": "code",
   "execution_count": null,
   "id": "9bc4296c",
   "metadata": {},
   "outputs": [],
   "source": [
    "from transformers import AutoModelForCausalLM, AutoTokenizer\n",
    "model = AutoModelForCausalLM.from_pretrained(model)\n",
    "tokenizer = AutoTokenizer.from_pretrained(model)"
   ]
  },
  {
   "cell_type": "code",
   "execution_count": null,
   "id": "1ed12e6a",
   "metadata": {},
   "outputs": [],
   "source": [
    "from transformers import BitsAndBytesConfig\n",
    "    bnb_config = BitsAndBytesConfig(\n",
    "        load_in_4bit=True,\n",
    "        bnb_4bit_quant_type=\"nf4\",\n",
    "        bnb_4bit_use_double_quant=True,\n",
    "    )"
   ]
  },
  {
   "cell_type": "code",
   "execution_count": null,
   "id": "8ac7542b",
   "metadata": {},
   "outputs": [],
   "source": [
    "from autoawq import AWQQuantizer\n",
    "    quantizer = AWQQuantizer(\n",
    "        model=model,\n",
    "        tokenizer=tokenizer,\n",
    "        bnb_config=bnb_config,\n",
    "        quant_method=\"awq\",\n",
    "        num_epochs=10,\n",
    "        lr=1e-4,\n",
    "        batch_size=1,\n",
    "        eval_batch_size=1,\n",
    "        max_length=2048,\n",
    "        device=\"cuda\",\n",
    "    )"
   ]
  },
  {
   "cell_type": "code",
   "execution_count": null,
   "id": "5a06bd86",
   "metadata": {},
   "outputs": [],
   "source": []
  }
 ],
 "metadata": {
  "kernelspec": {
   "display_name": "Python 3",
   "language": "python",
   "name": "python3"
  },
  "language_info": {
   "codemirror_mode": {
    "name": "ipython",
    "version": 3
   },
   "file_extension": ".py",
   "mimetype": "text/x-python",
   "name": "python",
   "nbconvert_exporter": "python",
   "pygments_lexer": "ipython3",
   "version": "3.8.16"
  }
 },
 "nbformat": 4,
 "nbformat_minor": 5
}
