{
 "cells": [
  {
   "cell_type": "code",
   "execution_count": null,
   "id": "265233d8",
   "metadata": {},
   "outputs": [],
   "source": []
  },
  {
   "cell_type": "code",
   "execution_count": null,
   "id": "ac804ffe",
   "metadata": {},
   "outputs": [],
   "source": []
  },
  {
   "cell_type": "code",
   "execution_count": 1,
   "id": "4f991b53",
   "metadata": {
    "scrolled": true
   },
   "outputs": [
    {
     "name": "stdout",
     "output_type": "stream",
     "text": [
      "Updating Subscription Management repositories.\n",
      "Unable to read consumer identity\n",
      "Subscription Manager is operating in container mode.\n",
      "\n",
      "This system is not registered with an entitlement server. You can use subscription-manager to register.\n",
      "\n",
      "Red Hat Universal Base Image 9 (RPMs) - BaseOS   18 kB/s | 3.8 kB     00:00    \n",
      "Red Hat Universal Base Image 9 (RPMs) - BaseOS  876 kB/s | 514 kB     00:00    \n",
      "Red Hat Universal Base Image 9 (RPMs) - AppStre  18 kB/s | 4.2 kB     00:00    \n",
      "Red Hat Universal Base Image 9 (RPMs) - AppStre 1.5 MB/s | 1.8 MB     00:01    \n",
      "Red Hat Universal Base Image 9 (RPMs) - CodeRea  57 kB/s | 4.2 kB     00:00    \n",
      "Red Hat Universal Base Image 9 (RPMs) - CodeRea 194 kB/s | 192 kB     00:00    \n",
      "Dependencies resolved.\n",
      "================================================================================\n",
      " Package            Arch      Version             Repository               Size\n",
      "================================================================================\n",
      "Installing:\n",
      " \u001b[1m\u001b[32mgcc-c++           \u001b[m x86_64    11.4.1-2.1.el9      ubi-9-appstream-rpms     13 M\n",
      "Upgrading:\n",
      " \u001b[1m\u001b[32mcpp               \u001b[m x86_64    11.4.1-2.1.el9      ubi-9-appstream-rpms     11 M\n",
      " \u001b[1m\u001b[32mgcc               \u001b[m x86_64    11.4.1-2.1.el9      ubi-9-appstream-rpms     32 M\n",
      " \u001b[1m\u001b[32mlibgcc            \u001b[m x86_64    11.4.1-2.1.el9      ubi-9-baseos-rpms        98 k\n",
      " \u001b[1m\u001b[32mlibgomp           \u001b[m x86_64    11.4.1-2.1.el9      ubi-9-baseos-rpms       273 k\n",
      " \u001b[1m\u001b[32mlibstdc++         \u001b[m x86_64    11.4.1-2.1.el9      ubi-9-baseos-rpms       744 k\n",
      "Installing dependencies:\n",
      " \u001b[1m\u001b[32mlibstdc++-devel   \u001b[m x86_64    11.4.1-2.1.el9      ubi-9-appstream-rpms    2.4 M\n",
      "\n",
      "Transaction Summary\n",
      "================================================================================\n",
      "Install  2 Packages\n",
      "Upgrade  5 Packages\n",
      "\n",
      "Total download size: 59 M\n",
      "Downloading Packages:\n",
      "(1/7): libgcc-11.4.1-2.1.el9.x86_64.rpm         494 kB/s |  98 kB     00:00    \n",
      "(2/7): libgomp-11.4.1-2.1.el9.x86_64.rpm        5.6 MB/s | 273 kB     00:00    \n",
      "(3/7): libstdc++-11.4.1-2.1.el9.x86_64.rpm       12 MB/s | 744 kB     00:00    \n",
      "(4/7): libstdc++-devel-11.4.1-2.1.el9.x86_64.rp 4.3 MB/s | 2.4 MB     00:00    \n",
      "(5/7): gcc-c++-11.4.1-2.1.el9.x86_64.rpm         14 MB/s |  13 MB     00:00    \n",
      "(6/7): cpp-11.4.1-2.1.el9.x86_64.rpm             13 MB/s |  11 MB     00:00    \n",
      "(7/7): gcc-11.4.1-2.1.el9.x86_64.rpm             26 MB/s |  32 MB     00:01    \n",
      "--------------------------------------------------------------------------------\n",
      "Total                                            33 MB/s |  59 MB     00:01     \n",
      "Running transaction check\n",
      "Transaction check succeeded.\n",
      "Running transaction test\n",
      "Transaction test succeeded.\n",
      "Running transaction\n",
      "  Preparing        :                                                        1/1 \n",
      "  Upgrading        : libgcc-11.4.1-2.1.el9.x86_64                          1/12 \n",
      "  Running scriptlet: libgcc-11.4.1-2.1.el9.x86_64                          1/12 \n",
      "  Upgrading        : libstdc++-11.4.1-2.1.el9.x86_64                       2/12 \n",
      "  Installing       : libstdc++-devel-11.4.1-2.1.el9.x86_64                 3/12 \n",
      "  Upgrading        : cpp-11.4.1-2.1.el9.x86_64                             4/12 \n",
      "  Upgrading        : libgomp-11.4.1-2.1.el9.x86_64                         5/12 \n",
      "  Upgrading        : gcc-11.4.1-2.1.el9.x86_64                             6/12 \n",
      "  Installing       : gcc-c++-11.4.1-2.1.el9.x86_64                         7/12 \n",
      "  Cleanup          : gcc-11.3.1-4.3.el9.x86_64                             8/12 \n",
      "  Cleanup          : libstdc++-11.3.1-4.3.el9.x86_64                       9/12 \n",
      "  Cleanup          : libgcc-11.3.1-4.3.el9.x86_64                         10/12 \n",
      "  Running scriptlet: libgcc-11.3.1-4.3.el9.x86_64                         10/12 \n",
      "  Cleanup          : cpp-11.3.1-4.3.el9.x86_64                            11/12 \n",
      "  Cleanup          : libgomp-11.3.1-4.3.el9.x86_64                        12/12 \n",
      "  Running scriptlet: libgomp-11.3.1-4.3.el9.x86_64                        12/12 \n",
      "  Verifying        : gcc-c++-11.4.1-2.1.el9.x86_64                         1/12 \n",
      "  Verifying        : libstdc++-devel-11.4.1-2.1.el9.x86_64                 2/12 \n",
      "  Verifying        : libgcc-11.4.1-2.1.el9.x86_64                          3/12 \n",
      "  Verifying        : libgcc-11.3.1-4.3.el9.x86_64                          4/12 \n",
      "  Verifying        : libgomp-11.4.1-2.1.el9.x86_64                         5/12 \n",
      "  Verifying        : libgomp-11.3.1-4.3.el9.x86_64                         6/12 \n",
      "  Verifying        : libstdc++-11.4.1-2.1.el9.x86_64                       7/12 \n",
      "  Verifying        : libstdc++-11.3.1-4.3.el9.x86_64                       8/12 \n",
      "  Verifying        : cpp-11.4.1-2.1.el9.x86_64                             9/12 \n",
      "  Verifying        : cpp-11.3.1-4.3.el9.x86_64                            10/12 \n",
      "  Verifying        : gcc-11.4.1-2.1.el9.x86_64                            11/12 \n",
      "  Verifying        : gcc-11.3.1-4.3.el9.x86_64                            12/12 \n",
      "Installed products updated.\n",
      "\n",
      "Upgraded:\n",
      "  cpp-11.4.1-2.1.el9.x86_64               gcc-11.4.1-2.1.el9.x86_64            \n",
      "  libgcc-11.4.1-2.1.el9.x86_64            libgomp-11.4.1-2.1.el9.x86_64        \n",
      "  libstdc++-11.4.1-2.1.el9.x86_64        \n",
      "Installed:\n",
      "  gcc-c++-11.4.1-2.1.el9.x86_64      libstdc++-devel-11.4.1-2.1.el9.x86_64     \n",
      "\n",
      "Complete!\n"
     ]
    }
   ],
   "source": [
    "!sudo dnf install gcc-c++ -y"
   ]
  },
  {
   "cell_type": "code",
   "execution_count": 2,
   "id": "c4d58333",
   "metadata": {
    "scrolled": true
   },
   "outputs": [
    {
     "name": "stdout",
     "output_type": "stream",
     "text": [
      "Updating Subscription Management repositories.\n",
      "Unable to read consumer identity\n",
      "Subscription Manager is operating in container mode.\n",
      "\n",
      "This system is not registered with an entitlement server. You can use subscription-manager to register.\n",
      "\n",
      "Last metadata expiration check: 0:00:17 ago on Thu Dec  7 04:23:22 2023.\n",
      "Dependencies resolved.\n",
      "================================================================================\n",
      " Package            Arch     Version               Repository              Size\n",
      "================================================================================\n",
      "Installing:\n",
      " \u001b[1m\u001b[32mcmake             \u001b[m x86_64   3.20.2-8.el9          ubi-9-appstream-rpms   6.7 M\n",
      "Installing dependencies:\n",
      " \u001b[1m\u001b[32mcmake-data        \u001b[m noarch   3.20.2-8.el9          ubi-9-appstream-rpms   2.1 M\n",
      " \u001b[1m\u001b[32mcmake-filesystem  \u001b[m x86_64   3.20.2-8.el9          ubi-9-appstream-rpms    23 k\n",
      " \u001b[1m\u001b[32mcmake-rpm-macros  \u001b[m noarch   3.20.2-8.el9          ubi-9-appstream-rpms    13 k\n",
      " \u001b[1m\u001b[32mlibuv             \u001b[m x86_64   1:1.42.0-1.el9        ubi-9-appstream-rpms   153 k\n",
      " \u001b[1m\u001b[32mvim-filesystem    \u001b[m noarch   2:8.2.2637-20.el9_1   ubi-9-baseos-rpms       22 k\n",
      "\n",
      "Transaction Summary\n",
      "================================================================================\n",
      "Install  6 Packages\n",
      "\n",
      "Total download size: 9.1 M\n",
      "Installed size: 34 M\n",
      "Downloading Packages:\n",
      "(1/6): vim-filesystem-8.2.2637-20.el9_1.noarch. 177 kB/s |  22 kB     00:00    \n",
      "(2/6): cmake-filesystem-3.20.2-8.el9.x86_64.rpm  60 kB/s |  23 kB     00:00    \n",
      "(3/6): cmake-rpm-macros-3.20.2-8.el9.noarch.rpm  42 kB/s |  13 kB     00:00    \n",
      "(4/6): cmake-data-3.20.2-8.el9.noarch.rpm       3.9 MB/s | 2.1 MB     00:00    \n",
      "(5/6): libuv-1.42.0-1.el9.x86_64.rpm            428 kB/s | 153 kB     00:00    \n",
      "(6/6): cmake-3.20.2-8.el9.x86_64.rpm             13 MB/s | 6.7 MB     00:00    \n",
      "--------------------------------------------------------------------------------\n",
      "Total                                           9.5 MB/s | 9.1 MB     00:00     \n",
      "Running transaction check\n",
      "Transaction check succeeded.\n",
      "Running transaction test\n",
      "Transaction test succeeded.\n",
      "Running transaction\n",
      "  Preparing        :                                                        1/1 \n",
      "  Installing       : cmake-rpm-macros-3.20.2-8.el9.noarch                   1/6 \n",
      "  Installing       : cmake-filesystem-3.20.2-8.el9.x86_64                   2/6 \n",
      "  Installing       : libuv-1:1.42.0-1.el9.x86_64                            3/6 \n",
      "  Installing       : vim-filesystem-2:8.2.2637-20.el9_1.noarch              4/6 \n",
      "  Installing       : cmake-3.20.2-8.el9.x86_64                              5/6 \n",
      "  Installing       : cmake-data-3.20.2-8.el9.noarch                         6/6 \n",
      "  Running scriptlet: cmake-data-3.20.2-8.el9.noarch                         6/6 \n",
      "  Verifying        : vim-filesystem-2:8.2.2637-20.el9_1.noarch              1/6 \n",
      "  Verifying        : cmake-data-3.20.2-8.el9.noarch                         2/6 \n",
      "  Verifying        : cmake-filesystem-3.20.2-8.el9.x86_64                   3/6 \n",
      "  Verifying        : cmake-rpm-macros-3.20.2-8.el9.noarch                   4/6 \n",
      "  Verifying        : libuv-1:1.42.0-1.el9.x86_64                            5/6 \n",
      "  Verifying        : cmake-3.20.2-8.el9.x86_64                              6/6 \n",
      "Installed products updated.\n",
      "\n",
      "Installed:\n",
      "  cmake-3.20.2-8.el9.x86_64                                                     \n",
      "  cmake-data-3.20.2-8.el9.noarch                                                \n",
      "  cmake-filesystem-3.20.2-8.el9.x86_64                                          \n",
      "  cmake-rpm-macros-3.20.2-8.el9.noarch                                          \n",
      "  libuv-1:1.42.0-1.el9.x86_64                                                   \n",
      "  vim-filesystem-2:8.2.2637-20.el9_1.noarch                                     \n",
      "\n",
      "Complete!\n"
     ]
    }
   ],
   "source": [
    "!sudo dnf install cmake -y"
   ]
  },
  {
   "cell_type": "code",
   "execution_count": 3,
   "id": "eb2fb0f9",
   "metadata": {},
   "outputs": [
    {
     "name": "stdout",
     "output_type": "stream",
     "text": [
      "Collecting pip\n",
      "\u001b[?25l  Downloading https://files.pythonhosted.org/packages/47/6a/453160888fab7c6a432a6e25f8afe6256d0d9f2cbd25971021da6491d899/pip-23.3.1-py3-none-any.whl (2.1MB)\n",
      "\u001b[K     |████████████████████████████████| 2.1MB 7.0MB/s eta 0:00:01\n",
      "\u001b[?25hInstalling collected packages: pip\n",
      "  Found existing installation: pip 19.3.1\n",
      "    Uninstalling pip-19.3.1:\n",
      "      Successfully uninstalled pip-19.3.1\n",
      "Successfully installed pip-23.3.1\n"
     ]
    }
   ],
   "source": [
    "!sudo -H pip install --upgrade pip"
   ]
  },
  {
   "cell_type": "code",
   "execution_count": 4,
   "id": "228fa786",
   "metadata": {},
   "outputs": [
    {
     "name": "stdout",
     "output_type": "stream",
     "text": [
      "\u001b[33mWARNING: The directory '/home/mosaic-ai/.cache/pip' or its parent directory is not owned or is not writable by the current user. The cache has been disabled. Check the permissions and owner of that directory. If executing pip with sudo, you should use sudo's -H flag.\u001b[0m\u001b[33m\r\n",
      "\u001b[0mWriting to /home/mosaic-ai/.config/pip/pip.conf\r\n"
     ]
    }
   ],
   "source": [
    "!pip config unset global.target"
   ]
  },
  {
   "cell_type": "code",
   "execution_count": 5,
   "id": "c49439ba",
   "metadata": {
    "scrolled": true
   },
   "outputs": [
    {
     "name": "stdout",
     "output_type": "stream",
     "text": [
      "Collecting llama-cpp-python\n",
      "  Downloading llama_cpp_python-0.2.20.tar.gz (8.7 MB)\n",
      "\u001b[2K     \u001b[90m━━━━━━━━━━━━━━━━━━━━━━━━━━━━━━━━━━━━━━━━\u001b[0m \u001b[32m8.7/8.7 MB\u001b[0m \u001b[31m28.4 MB/s\u001b[0m eta \u001b[36m0:00:00\u001b[0m00:01\u001b[0m00:01\u001b[0m\n",
      "\u001b[?25h  Installing build dependencies ... \u001b[?25ldone\n",
      "\u001b[?25h  Getting requirements to build wheel ... \u001b[?25ldone\n",
      "\u001b[?25h  Installing backend dependencies ... \u001b[?25ldone\n",
      "\u001b[?25h  Preparing metadata (pyproject.toml) ... \u001b[?25ldone\n",
      "\u001b[?25hCollecting typing-extensions>=4.5.0 (from llama-cpp-python)\n",
      "  Downloading typing_extensions-4.8.0-py3-none-any.whl.metadata (3.0 kB)\n",
      "Requirement already satisfied: numpy>=1.20.0 in /opt/conda/lib/python3.8/site-packages (from llama-cpp-python) (1.21.1)\n",
      "Collecting diskcache>=5.6.1 (from llama-cpp-python)\n",
      "  Downloading diskcache-5.6.3-py3-none-any.whl.metadata (20 kB)\n",
      "Downloading diskcache-5.6.3-py3-none-any.whl (45 kB)\n",
      "\u001b[2K   \u001b[90m━━━━━━━━━━━━━━━━━━━━━━━━━━━━━━━━━━━━━━━━\u001b[0m \u001b[32m45.5/45.5 kB\u001b[0m \u001b[31m1.6 MB/s\u001b[0m eta \u001b[36m0:00:00\u001b[0m\n",
      "\u001b[?25hDownloading typing_extensions-4.8.0-py3-none-any.whl (31 kB)\n",
      "Building wheels for collected packages: llama-cpp-python\n",
      "  Building wheel for llama-cpp-python (pyproject.toml) ... \u001b[?25ldone\n",
      "\u001b[?25h  Created wheel for llama-cpp-python: filename=llama_cpp_python-0.2.20-cp38-cp38-manylinux_2_34_x86_64.whl size=1957098 sha256=48530d36f7007c92501d2c6c91a65dcf2a46024f1eaafb42eadaa9094c7304c5\n",
      "  Stored in directory: /root/.cache/pip/wheels/5e/af/01/ee3b4963fbd2e49c604e3d3abd4d525bb283164873c171434d\n",
      "Successfully built llama-cpp-python\n",
      "Installing collected packages: typing-extensions, diskcache, llama-cpp-python\n",
      "  Attempting uninstall: typing-extensions\n",
      "    Found existing installation: typing_extensions 4.1.1\n",
      "    Uninstalling typing_extensions-4.1.1:\n",
      "      Successfully uninstalled typing_extensions-4.1.1\n",
      "\u001b[31mERROR: pip's dependency resolver does not currently take into account all the packages that are installed. This behaviour is the source of the following dependency conflicts.\n",
      "jupyterlab 3.2.4 requires jupyter-server~=1.4, but you have jupyter-server 2.0.0a1 which is incompatible.\u001b[0m\u001b[31m\n",
      "\u001b[0mSuccessfully installed diskcache-5.6.3 llama-cpp-python-0.2.20 typing-extensions-4.8.0\n",
      "\u001b[33mWARNING: Running pip as the 'root' user can result in broken permissions and conflicting behaviour with the system package manager. It is recommended to use a virtual environment instead: https://pip.pypa.io/warnings/venv\u001b[0m\u001b[33m\n",
      "\u001b[0m"
     ]
    }
   ],
   "source": [
    "!sudo pip install llama-cpp-python"
   ]
  },
  {
   "cell_type": "code",
   "execution_count": 1,
   "id": "31e84b58",
   "metadata": {
    "scrolled": true
   },
   "outputs": [],
   "source": [
    "from llama_cpp import Llama"
   ]
  },
  {
   "cell_type": "code",
   "execution_count": 2,
   "id": "f1fc2c43",
   "metadata": {},
   "outputs": [
    {
     "name": "stderr",
     "output_type": "stream",
     "text": [
      "AVX = 1 | AVX2 = 1 | AVX512 = 1 | AVX512_VBMI = 1 | AVX512_VNNI = 1 | FMA = 1 | NEON = 0 | ARM_FMA = 0 | F16C = 1 | FP16_VA = 0 | WASM_SIMD = 0 | BLAS = 0 | SSE3 = 1 | SSSE3 = 1 | VSX = 0 | \n"
     ]
    }
   ],
   "source": [
    "llm = Llama(model_path=\"/data/mistral/query-to-mql/exp-10/nov-20/merged-model/ggml-model-q4_0/ggml-model-q4_0.gguf\", n_threads=8)"
   ]
  },
  {
   "cell_type": "code",
   "execution_count": 3,
   "id": "44bcdfc4",
   "metadata": {},
   "outputs": [],
   "source": [
    "query_template_v1 = \"\"\"Given the context : {context} and date reference: {date_input}, the query: {user_query}, is converted into below shown structured output.\n",
    "[MQL]\n",
    "\"\"\"\n",
    "\n",
    "context = \"\"\"{\n",
    "    \"MEASURE\": [{\"ENTITY\": \"Sales\", \"other names\": [\"sales\", \"sale\"]}],\n",
    "    \"DIMENSION\": [{\"ENTITY\": \"Sub-Category\", \"other names\": [\"sub-category\", \"sub category\", \"categories\", \"section\"]}],\n",
    "    \"FILTER\": [{\"ENTITY\": \"Dubai\", \"other names\": [\"dubai\"], \"parent\": \"Country\"}],\n",
    "    \"DERIVED MEASURE\": [],\n",
    "    \"DATE VARIABLE\": [{\"ENTITY\": \"Order Date\", \"other names\": [\"order date\"]}]\n",
    "    }\"\"\"\n",
    "\n",
    "date_input = {\n",
    "    \"start_date\": \"01/01/2020\",\n",
    "    \"end_date\": \"15/09/2023\"\n",
    "}"
   ]
  },
  {
   "cell_type": "code",
   "execution_count": 4,
   "id": "e0012449",
   "metadata": {},
   "outputs": [],
   "source": [
    "user_query = 'sales in nov 2020'\n",
    "\n",
    "inp = query_template_v1.format(context=context,\n",
    "                                   user_query=user_query,\n",
    "                                  date_input=date_input)"
   ]
  },
  {
   "cell_type": "code",
   "execution_count": 5,
   "id": "fcf56329",
   "metadata": {},
   "outputs": [],
   "source": [
    "import time"
   ]
  },
  {
   "cell_type": "code",
   "execution_count": 8,
   "id": "1efdc371",
   "metadata": {},
   "outputs": [
    {
     "name": "stderr",
     "output_type": "stream",
     "text": [
      "Llama.generate: prefix-match hit\n"
     ]
    },
    {
     "name": "stdout",
     "output_type": "stream",
     "text": [
      "time taken :  33.70725464820862\n"
     ]
    }
   ],
   "source": [
    "start = time.time()\n",
    "\n",
    "output = llm(\n",
    "    inp, # Prompt\n",
    "    max_tokens=1000,\n",
    "    echo=True,\n",
    "    temperature=0\n",
    ")\n",
    "\n",
    "print(\"time taken : \", time.time()-start)"
   ]
  },
  {
   "cell_type": "code",
   "execution_count": null,
   "id": "cf2486b5",
   "metadata": {},
   "outputs": [],
   "source": []
  },
  {
   "cell_type": "code",
   "execution_count": 9,
   "id": "f32f5d87",
   "metadata": {},
   "outputs": [
    {
     "name": "stdout",
     "output_type": "stream",
     "text": [
      "{'DATE VARIABLE': {'nov 2020': [{'CONVERTED TIME ELEMENT': 'november 2020', 'DATE RANGE': '2020/11/01 - 2020/11/30', 'ENTITY': 'Order Date'}]}, 'MEASURE': {'sales': [{'ENTITY': 'Sales'}]}}\n"
     ]
    }
   ],
   "source": [
    "print(output['choices'][0]['text'].split('[MQL]\\n')[1].split('\\n[/MQL]')[0])"
   ]
  },
  {
   "cell_type": "code",
   "execution_count": null,
   "id": "dc390290",
   "metadata": {},
   "outputs": [],
   "source": []
  },
  {
   "cell_type": "markdown",
   "id": "69839631",
   "metadata": {},
   "source": [
    "#### Steps\n",
    "1. Install c++ compile\n",
    "    sudo dnf install gcc-c++ -y\n",
    "2. Install cmake\n",
    "    sudo dnf install cmake -y\n",
    "3. clone and build llama.cpp from - https://github.com/ggerganov/llama.cpp\n",
    "\n",
    "4. Install llama.cpp python client\n",
    "    a. pip install --upgrade pip\n",
    "    b. remove any content from pip.conf/pip.ini as it creates issue during building wheel for llama-cpp-python.\n",
    "    c. pip install llama-cpp-python"
   ]
  },
  {
   "cell_type": "code",
   "execution_count": 3,
   "id": "cef6c23f",
   "metadata": {},
   "outputs": [],
   "source": [
    "# Inference on un-quantized model"
   ]
  },
  {
   "cell_type": "code",
   "execution_count": 1,
   "id": "00f5d937",
   "metadata": {},
   "outputs": [],
   "source": [
    "!sudo -H pip install -Uq transformers"
   ]
  },
  {
   "cell_type": "code",
   "execution_count": 1,
   "id": "7ae80b23",
   "metadata": {},
   "outputs": [],
   "source": [
    "from transformers import AutoModelForCausalLM, AutoTokenizer\n",
    "import torch"
   ]
  },
  {
   "cell_type": "code",
   "execution_count": 2,
   "id": "eaabbba2",
   "metadata": {},
   "outputs": [
    {
     "data": {
      "application/vnd.jupyter.widget-view+json": {
       "model_id": "fc03da3ad69d45a1a9bd70c697bea024",
       "version_major": 2,
       "version_minor": 0
      },
      "text/plain": [
       "Loading checkpoint shards:   0%|          | 0/3 [00:00<?, ?it/s]"
      ]
     },
     "metadata": {},
     "output_type": "display_data"
    }
   ],
   "source": [
    "unq_model = AutoModelForCausalLM.from_pretrained(\"/data/mistral/query-to-mql/exp-10/nov-20/merged-model\",\n",
    "                                                 torch_dtype= torch.bfloat16, device_map=\"cpu\")"
   ]
  },
  {
   "cell_type": "code",
   "execution_count": 3,
   "id": "0a335062",
   "metadata": {},
   "outputs": [],
   "source": [
    "tokenizer = AutoTokenizer.from_pretrained(\"/data/mistral/query-to-mql/exp-10/nov-20/merged-model\",\n",
    "                                          trust_remote_code=True,\n",
    "                                          # add_eos_token=True,\n",
    "                                          use_fast=False)\n",
    "tokenizer.pad_token = tokenizer.eos_token\n",
    "tokenizer.padding_side = \"right\""
   ]
  },
  {
   "cell_type": "code",
   "execution_count": 7,
   "id": "b4079ee5",
   "metadata": {},
   "outputs": [],
   "source": [
    "def predict_template_query_v1(user_query):\n",
    "    inp = query_template_v1.format(context=context,\n",
    "                                   user_query=user_query,\n",
    "                                  date_input=date_input)\n",
    "    _inputs = tokenizer.encode(inp, return_tensors=\"pt\")\n",
    "    print(\"generating ouput\")\n",
    "    outputs = unq_model.generate(input_ids=_inputs, max_length= 500, pad_token_id=tokenizer.eos_token_id)\n",
    "    output = tokenizer.decode(outputs[0])\n",
    "    return output\n",
    "#     output_new = output.split('[MQL]\\n')[1]\n",
    "#     return output_new.split('\\n[/MQL]')[0], output"
   ]
  },
  {
   "cell_type": "code",
   "execution_count": 8,
   "id": "ffc3b198",
   "metadata": {},
   "outputs": [
    {
     "name": "stdout",
     "output_type": "stream",
     "text": [
      "generating ouput\n",
      "time taken:  301.7619378566742\n"
     ]
    }
   ],
   "source": [
    "import time\n",
    "user_query = 'sales in nov 2020'\n",
    "start = time.time()\n",
    "output = predict_template_query_v1(user_query)\n",
    "print(\"time taken: \", time.time()-start)"
   ]
  },
  {
   "cell_type": "code",
   "execution_count": null,
   "id": "3d3e914f",
   "metadata": {},
   "outputs": [],
   "source": [
    "46 -> [0.1,0.3,0,000]"
   ]
  }
 ],
 "metadata": {
  "kernelspec": {
   "display_name": "Python 3",
   "language": "python",
   "name": "python3"
  },
  "language_info": {
   "codemirror_mode": {
    "name": "ipython",
    "version": 3
   },
   "file_extension": ".py",
   "mimetype": "text/x-python",
   "name": "python",
   "nbconvert_exporter": "python",
   "pygments_lexer": "ipython3",
   "version": "3.8.16"
  }
 },
 "nbformat": 4,
 "nbformat_minor": 5
}
