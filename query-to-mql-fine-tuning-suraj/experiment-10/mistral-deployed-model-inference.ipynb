{
 "cells": [
  {
   "cell_type": "code",
   "execution_count": null,
   "id": "7de3699c",
   "metadata": {},
   "outputs": [],
   "source": []
  },
  {
   "cell_type": "code",
   "execution_count": 1,
   "id": "977ee3c8",
   "metadata": {},
   "outputs": [],
   "source": [
    "import requests "
   ]
  },
  {
   "cell_type": "code",
   "execution_count": 2,
   "id": "20972153",
   "metadata": {},
   "outputs": [],
   "source": [
    "API_KEY = \"eyJhbGciOiJSUzI1NiIsInR5cCIgOiAiSldUIiwia2lkIiA6ICJ4WTdTd3k5UE1xaXRDQmNSMm5qcVl6bmoxS3NqZzV3TmdOV0xDVzdyUkhvIn0.eyJleHAiOjE3MDI1NzI3NTksImlhdCI6MTcwMjUzNjc1OSwiYXV0aF90aW1lIjoxNzAyNTMwNTY1LCJqdGkiOiIyNTcwNTlhYy0yODlkLTQ3ZDctYjFhZS1mNTQyNTM4MTNjYjIiLCJpc3MiOiJodHRwczovL3JlZnJhY3QtbG9naW4uZm9zZm9yLmNvbS9hdXRoL3JlYWxtcy9tb3NhaWMiLCJhdWQiOlsibW9zYWljLWdhdGVrZWVwZXIiLCJhY2NvdW50Il0sInN1YiI6IjM0ZGEwZjE3LWQ1ODItNGFhOC1iNDAwLTU4MTA5OWEyZGUwZSIsInR5cCI6IkJlYXJlciIsImF6cCI6Im1vc2FpYy1nYXRla2VlcGVyIiwic2Vzc2lvbl9zdGF0ZSI6IjdiMjkyM2MwLTlmYzEtNGNmZS05OTcxLTJjMzEwMDkwNzBhMCIsImFsbG93ZWQtb3JpZ2lucyI6WyIqIl0sInJlYWxtX2FjY2VzcyI6eyJyb2xlcyI6WyJNTE9QUyIsInNwZWN0cmEtZGV2ZWxvcGVyIiwiZGVmYXVsdC1yb2xlcy1tb3NhaWMiLCJyZWZyYWN0LWRldmVsb3BlciIsIm9mZmxpbmVfYWNjZXNzIiwidW1hX2F1dGhvcml6YXRpb24iXX0sInJlc291cmNlX2FjY2VzcyI6eyJhY2NvdW50Ijp7InJvbGVzIjpbIm1hbmFnZS1hY2NvdW50IiwibWFuYWdlLWFjY291bnQtbGlua3MiLCJ2aWV3LXByb2ZpbGUiXX19LCJzY29wZSI6Im9wZW5pZCBlbWFpbCBwcm9maWxlIiwic2lkIjoiN2IyOTIzYzAtOWZjMS00Y2ZlLTk5NzEtMmMzMTAwOTA3MGEwIiwiZW1haWxfdmVyaWZpZWQiOnRydWUsIm5hbWUiOiJTdXJhaiBLdW1hciIsInByZWZlcnJlZF91c2VybmFtZSI6InN1cmFqIiwiZ2l2ZW5fbmFtZSI6IlN1cmFqIiwiZmFtaWx5X25hbWUiOiJLdW1hciIsImVtYWlsIjoic3VyYWo1Lmt1bWFyQGxudGluZm90ZWNoLmNvbSJ9.HXBEmzjoZAQ--4dBb8OLxoS4J-OzyNqRBLjRozfDAq_KL6Z7214iGm1F9NSu2nEFPLYEEoloDF5Ewgrfeirj3GRB7iZ2quMRdtX2drpmIRAxGn-n6L2R--kP8TbSaqUWT5AvL3m1IBvqoZTlUcpFOsYmp_CAOLInwafx17rTDQ4xwCGoLhlFE4ubC9I6Np7vxgwAWMa9m0tK3e3blxqVcHZ9IZGJyBV-xVZw3HQ5FOgx8GkdnZAbLZhnRUBzjSXnI6d9sH6cW1fdgj4AsmMyieoUPRg-nRHnSAyqRRFa4zFabc7Ay-McRKfOb7okwirDX57badpS_sKpEKHqSCVUiA\""
   ]
  },
  {
   "cell_type": "code",
   "execution_count": null,
   "id": "da8ec1bc",
   "metadata": {},
   "outputs": [],
   "source": [
    "\n",
    "headers={\"Content-type\":\"application/json\",\"Accept\":\"application/json\",\"Authorization\":API_KEY}\n",
    "\n",
    "url='https://refract.fosfor.com/mistralfinetunedforquerytoimqlv2/1c277dad-0388-4dbb-828a-826d631fd891/score \n",
    "\n",
    "data={\"payload\":\"{your_sample_payload}\" \n"
   ]
  },
  {
   "cell_type": "code",
   "execution_count": null,
   "id": "f847bb1a",
   "metadata": {},
   "outputs": [],
   "source": [
    "response = requests.post(url, json=data, headers=headers) \n",
    "response.json()"
   ]
  }
 ],
 "metadata": {
  "kernelspec": {
   "display_name": "Python 3",
   "language": "python",
   "name": "python3"
  },
  "language_info": {
   "codemirror_mode": {
    "name": "ipython",
    "version": 3
   },
   "file_extension": ".py",
   "mimetype": "text/x-python",
   "name": "python",
   "nbconvert_exporter": "python",
   "pygments_lexer": "ipython3",
   "version": "3.8.16"
  }
 },
 "nbformat": 4,
 "nbformat_minor": 5
}
