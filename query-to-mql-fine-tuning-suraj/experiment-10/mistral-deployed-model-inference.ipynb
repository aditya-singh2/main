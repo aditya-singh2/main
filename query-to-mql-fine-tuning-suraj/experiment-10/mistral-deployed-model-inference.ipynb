{
 "cells": [
  {
   "cell_type": "code",
   "execution_count": 5,
   "id": "5a2e7c0a",
   "metadata": {},
   "outputs": [],
   "source": [
    "import pandas as pd"
   ]
  },
  {
   "cell_type": "code",
   "execution_count": 1,
   "id": "49015633",
   "metadata": {},
   "outputs": [],
   "source": [
    "import requests "
   ]
  },
  {
   "cell_type": "code",
   "execution_count": 18,
   "id": "ef000b26",
   "metadata": {},
   "outputs": [],
   "source": [
    "API_KEY = \"eyJhbGciOiJSUzI1NiIsInR5cCIgOiAiSldUIiwia2lkIiA6ICJ4WTdTd3k5UE1xaXRDQmNSMm5qcVl6bmoxS3NqZzV3TmdOV0xDVzdyUkhvIn0.eyJleHAiOjE3MDI1NzI3NTksImlhdCI6MTcwMjUzNjc1OSwiYXV0aF90aW1lIjoxNzAyNTMwNTY1LCJqdGkiOiIyNTcwNTlhYy0yODlkLTQ3ZDctYjFhZS1mNTQyNTM4MTNjYjIiLCJpc3MiOiJodHRwczovL3JlZnJhY3QtbG9naW4uZm9zZm9yLmNvbS9hdXRoL3JlYWxtcy9tb3NhaWMiLCJhdWQiOlsibW9zYWljLWdhdGVrZWVwZXIiLCJhY2NvdW50Il0sInN1YiI6IjM0ZGEwZjE3LWQ1ODItNGFhOC1iNDAwLTU4MTA5OWEyZGUwZSIsInR5cCI6IkJlYXJlciIsImF6cCI6Im1vc2FpYy1nYXRla2VlcGVyIiwic2Vzc2lvbl9zdGF0ZSI6IjdiMjkyM2MwLTlmYzEtNGNmZS05OTcxLTJjMzEwMDkwNzBhMCIsImFsbG93ZWQtb3JpZ2lucyI6WyIqIl0sInJlYWxtX2FjY2VzcyI6eyJyb2xlcyI6WyJNTE9QUyIsInNwZWN0cmEtZGV2ZWxvcGVyIiwiZGVmYXVsdC1yb2xlcy1tb3NhaWMiLCJyZWZyYWN0LWRldmVsb3BlciIsIm9mZmxpbmVfYWNjZXNzIiwidW1hX2F1dGhvcml6YXRpb24iXX0sInJlc291cmNlX2FjY2VzcyI6eyJhY2NvdW50Ijp7InJvbGVzIjpbIm1hbmFnZS1hY2NvdW50IiwibWFuYWdlLWFjY291bnQtbGlua3MiLCJ2aWV3LXByb2ZpbGUiXX19LCJzY29wZSI6Im9wZW5pZCBlbWFpbCBwcm9maWxlIiwic2lkIjoiN2IyOTIzYzAtOWZjMS00Y2ZlLTk5NzEtMmMzMTAwOTA3MGEwIiwiZW1haWxfdmVyaWZpZWQiOnRydWUsIm5hbWUiOiJTdXJhaiBLdW1hciIsInByZWZlcnJlZF91c2VybmFtZSI6InN1cmFqIiwiZ2l2ZW5fbmFtZSI6IlN1cmFqIiwiZmFtaWx5X25hbWUiOiJLdW1hciIsImVtYWlsIjoic3VyYWo1Lmt1bWFyQGxudGluZm90ZWNoLmNvbSJ9.HXBEmzjoZAQ--4dBb8OLxoS4J-OzyNqRBLjRozfDAq_KL6Z7214iGm1F9NSu2nEFPLYEEoloDF5Ewgrfeirj3GRB7iZ2quMRdtX2drpmIRAxGn-n6L2R--kP8TbSaqUWT5AvL3m1IBvqoZTlUcpFOsYmp_CAOLInwafx17rTDQ4xwCGoLhlFE4ubC9I6Np7vxgwAWMa9m0tK3e3blxqVcHZ9IZGJyBV-xVZw3HQ5FOgx8GkdnZAbLZhnRUBzjSXnI6d9sH6cW1fdgj4AsmMyieoUPRg-nRHnSAyqRRFa4zFabc7Ay-McRKfOb7okwirDX57badpS_sKpEKHqSCVUiA\""
   ]
  },
  {
   "cell_type": "code",
   "execution_count": 19,
   "id": "11a19ebb",
   "metadata": {},
   "outputs": [],
   "source": [
    "\n",
    "headers={\"Content-type\":\"application/json\",\"Accept\":\"application/json\",\"Authorization\":API_KEY}\n",
    "\n",
    "url='https://refract.fosfor.com/mistralfinetunedforquerytoimqlv2/1c277dad-0388-4dbb-828a-826d631fd891/score'"
   ]
  },
  {
   "cell_type": "code",
   "execution_count": 3,
   "id": "595548e9",
   "metadata": {},
   "outputs": [],
   "source": [
    "query_template_v1 = \"\"\"Given the context : {context} and date reference: {date_input}, the query: {user_query}, is converted into below shown structured output.\n",
    "[MQL]\n",
    "\"\"\"\n",
    "\n",
    "context = \"\"\"{\n",
    "    \"MEASURE\": [{\"ENTITY\": \"Discount\", \"other names\": [\"discount\", \"discount rate\", \"discount value\", \"deduction\"]},\n",
    "                {\"ENTITY\": \"Purchase Vol\", \"other names\": [\"purchase\", \"purchase value\", \"purchase model\"]},\n",
    "                {\"ENTITY\": \"Quantity\", \"other names\": [\"quantity\", \"volume\"]},\n",
    "                {\"ENTITY\": \"Sales\", \"other names\": [\"sales\", \"sale\"]}],\n",
    "    \"DIMENSION\": [{\"ENTITY\": \"Sub-Category\", \"other names\": [\"sub-category\", \"sub category\", \"categories\", \"section\"]},\n",
    "                  {\"ENTITY\": \"Segment\", \"other names\": [\"segment\", \"segments\", \"units\", \"divisions\"]},\n",
    "                  {\"ENTITY\": \"Parts\", \"other names\": [\"parts\", \"part\", \"section\", \"divisions\"]},\n",
    "                  {\"ENTITY\": \"Country\", \"other names\": [\"country\", \"countries\"]}],\n",
    "    \"FILTER\": [{\"ENTITY\": \"Consumer\", \"other names\": [\"consumers\", \"consumer\"], \"parent\": \"Segment\"},\n",
    "               {\"ENTITY\": \"Phone\", \"other names\": [\"phone\", \"phones\", \"mobile phones\"], \"parent\": \"Sub-Category\"},\n",
    "               {\"ENTITY\": \"Binder\", \"other names\": [\"binders\", \"binder\"], \"parent\": \"Sub-Category\"},\n",
    "               {\"ENTITY\": \"Corporate\", \"other names\": [\"corporates\", \"corporate\"], \"parent\": \"Segment\"},\n",
    "               {\"ENTITY\": \"India\", \"other names\": [\"india\"], \"parent\": \"Country\"},\n",
    "               {\"ENTITY\": \"Dubai\", \"other names\": [\"dubai\"], \"parent\": \"Country\"}],\n",
    "    \"DERIVED MEASURE\": [{\"ENTITY\": \"Ratio\",\n",
    "             \"other names\": [\"ratio\", \"share\", \"contribution\", \"percentage\", \"proportion\", \"contributing\"]},\n",
    "            {\"ENTITY\": \"Why\", \"other names\": [\"why\", \"cause of\", \"reason for\", \"diagnose\"]},\n",
    "            {\"ENTITY\": \"contribution_to_growth\", \"other names\": [\"contribution to growth\", \"growth\", \"grown\"]},\n",
    "            {\"ENTITY\": \"kda_transactional\", \"other names\": [\"kda\", \"key drivers\", \"key driver\", \"drivers\", \"driver\"]},\n",
    "            {\"ENTITY\": \"Growth Rate\", \"other names\": [\"growth rate\", \"growth\", \"grown\"]},\n",
    "            {\"ENTITY\": \"correlation\",\n",
    "             \"other names\": [\"associate\", \"associated\", \"association\", \"associations\", \"correlate\", \"correlated\",\n",
    "                             \"correlation\", \"correlations\", \"relate\", \"related\", \"relation\", \"relations\",\n",
    "                             \"relationship\",\n",
    "                             \"relationships\"]}\n",
    "            ],\n",
    "    \"DATE VARIABLE\": [{\"ENTITY\": \"Order Date\", \"other names\": [\"order date\", \"date\", \"trend\", \"time\", \"when\", \"mom\", \"yoy\"]}]\n",
    "    }\"\"\"\n",
    "\n",
    "\n",
    "date_input = {\n",
    "    \"start_date\": \"01/01/2020\",\n",
    "    \"end_date\": \"15/09/2023\"\n",
    "}"
   ]
  },
  {
   "cell_type": "code",
   "execution_count": 6,
   "id": "61bc99b1",
   "metadata": {},
   "outputs": [],
   "source": [
    "df = pd.read_csv('/data/mistral/query-to-mql/exp-10/training_data.csv')"
   ]
  },
  {
   "cell_type": "code",
   "execution_count": 7,
   "id": "c539c753",
   "metadata": {},
   "outputs": [],
   "source": [
    "df = df.head(100)"
   ]
  },
  {
   "cell_type": "code",
   "execution_count": 8,
   "id": "c26ba9e0",
   "metadata": {},
   "outputs": [
    {
     "data": {
      "text/plain": [
       "(100, 3)"
      ]
     },
     "execution_count": 8,
     "metadata": {},
     "output_type": "execute_result"
    }
   ],
   "source": [
    "df.shape"
   ]
  },
  {
   "cell_type": "code",
   "execution_count": 12,
   "id": "fe340129",
   "metadata": {},
   "outputs": [],
   "source": [
    "user_query = 'sales in 2020'"
   ]
  },
  {
   "cell_type": "code",
   "execution_count": 13,
   "id": "83ad3d81",
   "metadata": {},
   "outputs": [],
   "source": [
    "inp = query_template_v1.format(context=context,\n",
    "                                   user_query=user_query,\n",
    "                                  date_input=date_input)"
   ]
  },
  {
   "cell_type": "code",
   "execution_count": null,
   "id": "06788c0e",
   "metadata": {},
   "outputs": [],
   "source": []
  },
  {
   "cell_type": "code",
   "execution_count": 15,
   "id": "30556b30",
   "metadata": {},
   "outputs": [],
   "source": [
    "data={\"payload\":inp}"
   ]
  },
  {
   "cell_type": "code",
   "execution_count": 23,
   "id": "70728a05",
   "metadata": {},
   "outputs": [],
   "source": [
    "response = requests.post(url, json=data, headers=headers) \n",
    "resp = response.json()"
   ]
  },
  {
   "cell_type": "code",
   "execution_count": 24,
   "id": "a7f74351",
   "metadata": {},
   "outputs": [
    {
     "data": {
      "text/plain": [
       "{'data': {'error': 'Validation Failed. Please run with dry_run=True to see all exceptions.'},\n",
       " 'request_id': 'b8d4473f-ff78-4733-a3cf-bff72f8132d5'}"
      ]
     },
     "execution_count": 24,
     "metadata": {},
     "output_type": "execute_result"
    }
   ],
   "source": [
    "resp"
   ]
  },
  {
   "cell_type": "code",
   "execution_count": null,
   "id": "b7eccf27",
   "metadata": {},
   "outputs": [],
   "source": [
    "from tqdm import tqdm"
   ]
  },
  {
   "cell_type": "code",
   "execution_count": null,
   "id": "edb558ca",
   "metadata": {},
   "outputs": [],
   "source": [
    "for i, row in tqdm(df.iterrows()):\n",
    "    user_query = row['Query']\n",
    "    inp = query_template_v1.format(context=context,\n",
    "                                   user_query=user_query,\n",
    "                                  date_input=date_input)\n",
    "    response = requests.post(url, json=data, headers=headers) \n",
    "    resp = response.json()\n",
    "    predicted_mql[user_query]=output['choices'][0]['text'].split('[MQL]\\n')[1].split('\\n[/MQL]')[0]"
   ]
  },
  {
   "cell_type": "code",
   "execution_count": null,
   "id": "a5f841c4",
   "metadata": {},
   "outputs": [],
   "source": []
  },
  {
   "cell_type": "code",
   "execution_count": null,
   "id": "b1264f75",
   "metadata": {},
   "outputs": [],
   "source": []
  },
  {
   "cell_type": "code",
   "execution_count": null,
   "id": "8f559688",
   "metadata": {},
   "outputs": [],
   "source": [
    "response = requests.post(url, json=data, headers=headers) \n",
    "response.json()"
   ]
  }
 ],
 "metadata": {
  "kernelspec": {
   "display_name": "Python 3",
   "language": "python",
   "name": "python3"
  },
  "language_info": {
   "codemirror_mode": {
    "name": "ipython",
    "version": 3
   },
   "file_extension": ".py",
   "mimetype": "text/x-python",
   "name": "python",
   "nbconvert_exporter": "python",
   "pygments_lexer": "ipython3",
   "version": "3.8.16"
  }
 },
 "nbformat": 4,
 "nbformat_minor": 5
}
