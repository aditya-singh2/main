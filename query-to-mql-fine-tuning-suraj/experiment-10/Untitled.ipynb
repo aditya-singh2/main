{
 "cells": [
  {
   "cell_type": "code",
   "execution_count": null,
   "id": "3d98abce",
   "metadata": {
    "scrolled": true
   },
   "outputs": [],
   "source": [
    "from llama_cpp import Llama\n",
    "llm = Llama(model_path=\"./models/7B/llama-model.gguf\")\n",
    "output = llm(\n",
    "  \"Q: Name the planets in the solar system? A: \", # Prompt\n",
    "  max_tokens=32, # Generate up to 32 tokens\n",
    "  stop=[\"Q:\", \"\\n\"], # Stop generating just before the model would generate a new question\n",
    "  echo=True # Echo the prompt back in the output\n",
    ")\n"
   ]
  },
  {
   "cell_type": "code",
   "execution_count": null,
   "id": "573ea3cc",
   "metadata": {},
   "outputs": [],
   "source": [
    ">>> print(output)"
   ]
  },
  {
   "cell_type": "code",
   "execution_count": null,
   "id": "bba01a8a",
   "metadata": {},
   "outputs": [],
   "source": []
  },
  {
   "cell_type": "code",
   "execution_count": null,
   "id": "8ee049cb",
   "metadata": {},
   "outputs": [],
   "source": []
  },
  {
   "cell_type": "code",
   "execution_count": null,
   "id": "5f4d636a",
   "metadata": {},
   "outputs": [],
   "source": []
  },
  {
   "cell_type": "code",
   "execution_count": null,
   "id": "6e92a345",
   "metadata": {},
   "outputs": [],
   "source": []
  }
 ],
 "metadata": {
  "kernelspec": {
   "display_name": "Python 3",
   "language": "python",
   "name": "python3"
  },
  "language_info": {
   "codemirror_mode": {
    "name": "ipython",
    "version": 3
   },
   "file_extension": ".py",
   "mimetype": "text/x-python",
   "name": "python",
   "nbconvert_exporter": "python",
   "pygments_lexer": "ipython3",
   "version": "3.8.16"
  }
 },
 "nbformat": 4,
 "nbformat_minor": 5
}
