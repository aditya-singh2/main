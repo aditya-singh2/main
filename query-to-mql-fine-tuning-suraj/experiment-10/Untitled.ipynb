{
 "cells": [
  {
   "cell_type": "code",
   "execution_count": 1,
   "id": "d2d88a8f",
   "metadata": {},
   "outputs": [
    {
     "name": "stdout",
     "output_type": "stream",
     "text": [
      "Collecting llama-cpp-python\n",
      "\u001b[?25l  Downloading https://files.pythonhosted.org/packages/9d/1a/f74ce61893791530a9af61fe8925bd569d8fb087545dc1973d617c03ce11/llama_cpp_python-0.2.19.tar.gz (7.8MB)\n",
      "\u001b[K     |████████████████████████████████| 7.8MB 7.7MB/s eta 0:00:01\n",
      "\u001b[31mERROR: Exception:\n",
      "Traceback (most recent call last):\n",
      "  File \"/opt/conda/lib/python3.8/site-packages/pip/_internal/cli/base_command.py\", line 153, in _main\n",
      "    status = self.run(options, args)\n",
      "  File \"/opt/conda/lib/python3.8/site-packages/pip/_internal/commands/install.py\", line 382, in run\n",
      "    resolver.resolve(requirement_set)\n",
      "  File \"/opt/conda/lib/python3.8/site-packages/pip/_internal/legacy_resolve.py\", line 201, in resolve\n",
      "    self._resolve_one(requirement_set, req)\n",
      "  File \"/opt/conda/lib/python3.8/site-packages/pip/_internal/legacy_resolve.py\", line 365, in _resolve_one\n",
      "    abstract_dist = self._get_abstract_dist_for(req_to_install)\n",
      "  File \"/opt/conda/lib/python3.8/site-packages/pip/_internal/legacy_resolve.py\", line 312, in _get_abstract_dist_for\n",
      "    abstract_dist = self.preparer.prepare_linked_requirement(\n",
      "  File \"/opt/conda/lib/python3.8/site-packages/pip/_internal/operations/prepare.py\", line 223, in prepare_linked_requirement\n",
      "    abstract_dist = _get_prepared_distribution(\n",
      "  File \"/opt/conda/lib/python3.8/site-packages/pip/_internal/operations/prepare.py\", line 49, in _get_prepared_distribution\n",
      "    abstract_dist.prepare_distribution_metadata(finder, build_isolation)\n",
      "  File \"/opt/conda/lib/python3.8/site-packages/pip/_internal/distributions/source/legacy.py\", line 34, in prepare_distribution_metadata\n",
      "    self.req.load_pyproject_toml()\n",
      "  File \"/opt/conda/lib/python3.8/site-packages/pip/_internal/req/req_install.py\", line 533, in load_pyproject_toml\n",
      "    pyproject_toml_data = load_pyproject_toml(\n",
      "  File \"/opt/conda/lib/python3.8/site-packages/pip/_internal/pyproject.py\", line 66, in load_pyproject_toml\n",
      "    pp_toml = pytoml.load(f)\n",
      "  File \"/opt/conda/lib/python3.8/site-packages/pip/_vendor/pytoml/parser.py\", line 11, in load\n",
      "    return loads(fin.read(), translate=translate, object_pairs_hook=object_pairs_hook, filename=getattr(fin, 'name', repr(fin)))\n",
      "  File \"/opt/conda/lib/python3.8/site-packages/pip/_vendor/pytoml/parser.py\", line 24, in loads\n",
      "    ast = _p_toml(src, object_pairs_hook=object_pairs_hook)\n",
      "  File \"/opt/conda/lib/python3.8/site-packages/pip/_vendor/pytoml/parser.py\", line 341, in _p_toml\n",
      "    s.expect_eof()\n",
      "  File \"/opt/conda/lib/python3.8/site-packages/pip/_vendor/pytoml/parser.py\", line 123, in expect_eof\n",
      "    return self._expect(self.consume_eof())\n",
      "  File \"/opt/conda/lib/python3.8/site-packages/pip/_vendor/pytoml/parser.py\", line 163, in _expect\n",
      "    raise TomlError('msg', self._pos[0], self._pos[1], self._filename)\n",
      "pip._vendor.pytoml.core.TomlError: /tmp/pip-install-_5tob98s/llama-cpp-python/pyproject.toml(56, 1): msg\u001b[0m\n",
      "\u001b[?25h"
     ]
    }
   ],
   "source": [
    "!sudo pip install llama-cpp-python"
   ]
  },
  {
   "cell_type": "code",
   "execution_count": null,
   "id": "5923f7f2",
   "metadata": {},
   "outputs": [],
   "source": []
  },
  {
   "cell_type": "code",
   "execution_count": null,
   "id": "3f5c85e4",
   "metadata": {},
   "outputs": [],
   "source": []
  },
  {
   "cell_type": "code",
   "execution_count": null,
   "id": "13455d26",
   "metadata": {},
   "outputs": [],
   "source": []
  },
  {
   "cell_type": "code",
   "execution_count": null,
   "id": "18eb1eea",
   "metadata": {},
   "outputs": [],
   "source": []
  },
  {
   "cell_type": "code",
   "execution_count": null,
   "id": "f0fb207f",
   "metadata": {},
   "outputs": [],
   "source": []
  }
 ],
 "metadata": {
  "kernelspec": {
   "display_name": "Python 3",
   "language": "python",
   "name": "python3"
  },
  "language_info": {
   "codemirror_mode": {
    "name": "ipython",
    "version": 3
   },
   "file_extension": ".py",
   "mimetype": "text/x-python",
   "name": "python",
   "nbconvert_exporter": "python",
   "pygments_lexer": "ipython3",
   "version": "3.8.16"
  }
 },
 "nbformat": 4,
 "nbformat_minor": 5
}
