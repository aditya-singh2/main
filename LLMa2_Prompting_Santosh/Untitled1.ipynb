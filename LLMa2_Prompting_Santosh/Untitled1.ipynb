{
 "cells": [
  {
   "cell_type": "code",
   "execution_count": null,
   "id": "60859a63",
   "metadata": {},
   "outputs": [],
   "source": [
    "res = ['\\n                    {\\n                        \"MEASURE\": {\\n                            \"Discount\": [\\n                                {\\n                                    \"ENTITY\": \"Discount\",\\n                                    \"MEASURE CONSTRAINT\": [\\n                                        {\\n                                            \"COMPARISON VALUE\": \"\",\\n                                            \"COMPARSION OPERATOR\": \"\"\\n                                        }\\n                                    ],\\n                                    \"ADJECTIVE\": [],\\n                                    \"TONE\": \"\"\\n                                }\\n                            ],\\n                            \"Purchase Vol\": [\\n                                {\\n                                    \"ENTITY\": \"Purchase Vol\",\\n                                    \"MEASURE CONSTRAINT\": [\\n                                        {\\n                                            \"COMPARISON VALUE\": \"\",\\n                                            \"COMPARSION OPERATOR\": \"\"\\n                                        }\\n                                    ],\\n                                    \"ADJECTIVE\": [],\\n                                    \"TONE\": \"\"\\n                                }\\n                            ],\\n                            \"Quantity\": [\\n                                {\\n                                    \"ENTITY\": \"Quantity\",\\n                                    \"MEASURE CONSTRAINT\": [\\n                                        {\\n                                            \"COMPARISON VALUE\": \"\",\\n                                            \"COMPARSION OPERATOR\": \"\"\\n                                        }\\n                                    ],\\n                                    \"ADJECTIVE\": [],\\n                                    \"TONE\": \"\"\\n                                }\\n                            ],\\n                            \"Sales\": [\\n                                {\\n                                    \"ENTITY\": \"Sales\",\\n                                    \"MEASURE CONSTRAINT\": [\\n                                        {\\n                                            \"COMPARISON VALUE\": \"\",\\n                                            \"COMPARSION OPERATOR\": \"\"\\n                                        }\\n                                    ],\\n                                    \"ADJECTIVE\": [],\\n                                    \"TONE\": \"\"\\n                                }\\n                            ]\\n                        },\\n                        \"DIMENSION\": {\\n                            \"Segment\": [\\n                                {\\n                                    \"ENTITY\": \"Segment\",\\n                                    \"RANK\": [],\\n                                    \"ADJECTIVE\": [],\\n                                    \"TONE\": \"\"\\n                                }\\n                            ]\\n                        },\\n                        \"FILTER\": {},\\n                        \"DERIVED MEASURE\": {},\\n                        \"DATE VARIABLE\": {\\n                            \"Order Date\": [\\n                                {\\n                                    \"ENTITY\": \"Order Date\",\\n                                    \"DATE RANGE\": \"date range\",\\n                                    \"CONVERTED TIME ELEMENT\": \"date range\"\\n                                }\\n                            ]\\n                        }\\n                    }\\n                    ']"
   ]
  }
 ],
 "metadata": {
  "kernelspec": {
   "display_name": "Python 3",
   "language": "python",
   "name": "python3"
  }
 },
 "nbformat": 4,
 "nbformat_minor": 5
}
