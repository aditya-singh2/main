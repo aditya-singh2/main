{
 "cells": [
  {
   "cell_type": "code",
   "execution_count": 4,
   "id": "ca90f9cb",
   "metadata": {},
   "outputs": [],
   "source": [
    "token = \"eyJhbGciOiJSUzI1NiIsInR5cCIgOiAiSldUIiwia2lkIiA6ICJ4WTdTd3k5UE1xaXRDQmNSMm5qcVl6bmoxS3NqZzV3TmdOV0xDVzdyUkhvIn0.eyJleHAiOjE3MzU2MjcxNDMsImlhdCI6MTcwMTA2NzE0MywiYXV0aF90aW1lIjoxNzAxMDU4MTIyLCJqdGkiOiJmMDJkNDA3Ni02YzNlLTRiYzItYWYwZS04MzNmNjY5OTUzYzciLCJpc3MiOiJodHRwczovL3JlZnJhY3QtbG9naW4uZm9zZm9yLmNvbS9hdXRoL3JlYWxtcy9tb3NhaWMiLCJhdWQiOlsibW9zYWljLWdhdGVrZWVwZXIiLCJhY2NvdW50Il0sInN1YiI6ImU4NDhkYjlkLTYwYTEtNDM1MS05YzU3LTRmOThmOTA5MTVjYSIsInR5cCI6IkJlYXJlciIsImF6cCI6Im1vc2FpYy1nYXRla2VlcGVyIiwic2Vzc2lvbl9zdGF0ZSI6ImJlMGY0YTA4LWFhZjItNDMwNi1hZjY5LTUzNjQ5ZGE4YmViNCIsImFsbG93ZWQtb3JpZ2lucyI6WyIqIl0sInJlYWxtX2FjY2VzcyI6eyJyb2xlcyI6WyJNTE9QUyIsImxvbmdfbGl2ZWRfdG9rZW4iLCJzcGVjdHJhLWRldmVsb3BlciIsImRlZmF1bHQtcm9sZXMtbW9zYWljIiwicmVmcmFjdC1kZXZlbG9wZXIiLCJvZmZsaW5lX2FjY2VzcyIsInVtYV9hdXRob3JpemF0aW9uIl19LCJyZXNvdXJjZV9hY2Nlc3MiOnsiYWNjb3VudCI6eyJyb2xlcyI6WyJtYW5hZ2UtYWNjb3VudCIsIm1hbmFnZS1hY2NvdW50LWxpbmtzIiwidmlldy1wcm9maWxlIl19fSwic2NvcGUiOiJvcGVuaWQgZW1haWwgcHJvZmlsZSIsInNpZCI6ImJlMGY0YTA4LWFhZjItNDMwNi1hZjY5LTUzNjQ5ZGE4YmViNCIsImVtYWlsX3ZlcmlmaWVkIjp0cnVlLCJuYW1lIjoiU2FudG9zaCBQb3RoYWJhdHR1bGEiLCJwcmVmZXJyZWRfdXNlcm5hbWUiOiJzYW50b3NoIiwiZ2l2ZW5fbmFtZSI6IlNhbnRvc2giLCJmYW1pbHlfbmFtZSI6IlBvdGhhYmF0dHVsYSIsImVtYWlsIjoic2FudG9zaC5wb3RoYWJhdHR1bGFAbG50aW5mb3RlY2guY29tIn0.FyY0ngyfgCzkOc_HS8vJDMc73vYyp5pbfIIr1XLqDfqBLObG5AiSHSZDKhlD8_EwWt23cOM7_2OKKRDvQBfjCLqQrmZgVrFoOqq80hyE92p_WXu2zMH1SxAfBDeT5pp-jr37VhSXX7tr58O4t4D02WoshBCPDoPA8OnoLelS_L2TNSPc-wjV7qj5iWKnsJeWdWXg59KDahbhMUQ9DYU5cdOV37MfKC58iGdOnFMiQEIt4DPpu93gLgMQZYkA691I5gqs2-zgRVlHca3njWawPfMXALORIOTjKrPMfarZm6dCJ2Q4vfkAg80VuqbkICFFCEQEpL76xhKEFLWN6dL3Xw\""
   ]
  },
  {
   "cell_type": "code",
   "execution_count": 31,
   "id": "dfb0f281",
   "metadata": {},
   "outputs": [],
   "source": []
  },
  {
   "cell_type": "code",
   "execution_count": 34,
   "id": "52a353c9",
   "metadata": {},
   "outputs": [],
   "source": [
    "import requests \n",
    "def Api_call(question,context):\n",
    "    data = {\"payload\":[{\"question\":question,\"context\":context,\"date_info\":{\"start_date\": \"01/01/2020\",\"end_date\": \"15/09/2023\"}}]}\n",
    "    headers={\"Content-type\":\"application/json\",\"Accept\":\"application/json\",\"Authorization\":token} \n",
    "    url='https://refract.fosfor.com/openchatimqlgeneratorforgpu01/6ed23fdd-6fff-4354-9047-913b00cf916a/score' \n",
    "    response = requests.post(url, json=data, headers=headers) \n",
    "    res = response.json()\n",
    "    return res[\"data\"][0][\"score_response\"]"
   ]
  },
  {
   "cell_type": "code",
   "execution_count": 33,
   "id": "73f6d218",
   "metadata": {},
   "outputs": [
    {
     "name": "stdout",
     "output_type": "stream",
     "text": [
      "\n",
      "                    {\n",
      "                        \"MEASURE\": {\n",
      "                            \"purchase\": [\n",
      "                                {\n",
      "                                    \"ENTITY\": \"Purchase Vol\",\n",
      "                                    \"MEASURE CONSTRAINT\": [\n",
      "                                        {\n",
      "                                            \"COMPARISON VALUE\": \"\",\n",
      "                                            \"COMPARSION OPERATOR\": \"\"\n",
      "                                        }\n",
      "                                    ],\n",
      "                                    \"ADJECTIVE\": [],\n",
      "                                    \"TONE\": \"\"\n",
      "                                }\n",
      "                            ]\n",
      "                        },\n",
      "                        \"DIMENSION\": {\n",
      "                            \"segment\": [\n",
      "                                {\n",
      "                                    \"ENTITY\": \"Segment\",\n",
      "                                    \"RANK\": [],\n",
      "                                    \"ADJECTIVE\": [],\n",
      "                                    \"TONE\": \"\"\n",
      "                                }\n",
      "                            ]\n",
      "                        },\n",
      "                        \"FILTER\": {},\n",
      "                        \"DERIVED MEASURE\": {},\n",
      "                        \"DATE VARIABLE\": {\n",
      "                            \"Order Date\": [\n",
      "                                {\n",
      "                                    \"ENTITY\": \"Order Date\",\n",
      "                                    \"DATE RANGE\": \"01/01/2020 - 15/09/2023\",\n",
      "                                    \"CONVERTED TIME ELEMENT\": \"01/01/2020 - 15/09/2023\"\n",
      "                                }\n",
      "                            ]\n",
      "                        }\n",
      "                    }\n",
      "                    \n"
     ]
    }
   ],
   "source": [
    "context = {\n",
    "    \"MEASURE\": [\n",
    "                #{\"ENTITY\": \"Discount\", \"other names\": [\"discount\", \"discount rate\", \"discount value\", \"deduction\"]},\n",
    "                {\"ENTITY\": \"Purchase Vol\", \"other names\": [\"purchase\", \"purchase value\", \"purchase model\"]}],\n",
    "                #{\"ENTITY\": \"Quantity\", \"other names\": [\"quantity\", \"volume\"]},\n",
    "                #{\"ENTITY\": \"Sales\", \"other names\": [\"sales\", \"sale\"]}],\n",
    "    \"DIMENSSION\":{\"ENTITY\": \"Segment\", \"other names\": [\"segment\", \"segments\", \"units\", \"divisions\"]},\n",
    "    \"DATE VARIABLE\": [\n",
    "        {\"ENTITY\": \"Order Date\", \"other names\": [\"order date\", \"date\", \"trend\", \"time\", \"when\", \"mom\", \"yoy\"]}]\n",
    "}\n",
    "question = \"what is purchase across segments\"\n",
    "res=Api_call(question,context)\n",
    "print(res[0])"
   ]
  },
  {
   "cell_type": "code",
   "execution_count": 18,
   "id": "fedda14e",
   "metadata": {},
   "outputs": [
    {
     "data": {
      "text/plain": [
       "['\\n                    {\\n                        \"MEASURE\": {\\n                            \"Quantity\": [\\n                                {\\n                                    \"ENTITY\": \"Quantity\",\\n                                    \"MEASURE CONSTRAINT\": [\\n                                        {\\n                                            \"COMPARISON VALUE\": \"\",\\n                                            \"COMPARSION OPERATOR\": \"\"\\n                                        }\\n                                    ],\\n                                    \"ADJECTIVE\": [],\\n                                    \"TONE\": \"\"\\n                                }\\n                            ]\\n                        },\\n                        \"DIMENSION\": {\\n                            \"Segment\": [\\n                                {\\n                                    \"ENTITY\": \"Segment']"
      ]
     },
     "execution_count": 18,
     "metadata": {},
     "output_type": "execute_result"
    }
   ],
   "source": [
    "context = context ={\n",
    "    \"MEASURE\": [{\"ENTITY\": \"Discount\", \"other names\": [\"discount\", \"discount rate\", \"discount value\", \"deduction\"]},\n",
    "                {\"ENTITY\": \"Purchase Vol\", \"other names\": [\"purchase\", \"purchase value\", \"purchase model\"]},\n",
    "                {\"ENTITY\": \"Quantity\", \"other names\": [\"quantity\", \"volume\"]},\n",
    "                {\"ENTITY\": \"Sales\", \"other names\": [\"sales\", \"sale\"]}\n",
    "               ],\n",
    "    \"DIMENSION\": [\n",
    "        {\"ENTITY\": \"Sub-Category\", \"other names\": [\"sub-category\", \"sub category\", \"categories\", \"section\"]},\n",
    "                  {\"ENTITY\": \"Segment\", \"other names\": [\"segment\", \"segments\", \"units\", \"divisions\"]},\n",
    "                  {\"ENTITY\": \"Parts\", \"other names\": [\"parts\", \"part\", \"section\", \"divisions\"]},\n",
    "                  {\"ENTITY\": \"Country\", \"other names\": [\"country\", \"countries\"]}],\n",
    "    \"FILTER\": [{\"ENTITY\": \"Consumer\", \"other names\": [\"consumers\", \"consumer\"], \"parent\": \"Segment\"},\n",
    "               {\"ENTITY\": \"Phone\", \"other names\": [\"phone\", \"phones\", \"mobile phones\"], \"parent\": \"Sub-Category\"},\n",
    "               {\"ENTITY\": \"Binder\", \"other names\": [\"binders\", \"binder\"], \"parent\": \"Sub-Category\"},\n",
    "               {\"ENTITY\": \"Corporate\", \"other names\": [\"corporates\", \"corporate\"], \"parent\": \"Segment\"},\n",
    "               {\"ENTITY\": \"India\", \"other names\": [\"india\"], \"parent\": \"Country\"},\n",
    "               {\"ENTITY\": \"Dubai\", \"other names\": [\"dubai\"], \"parent\": \"Country\"}],\n",
    "    \"DERIVED MEASURE\": [{\"ENTITY\": \"Ratio\",\n",
    "                         \"other names\": [\"ratio\", \"share\", \"contribution\", \"percentage\", \"proportion\", \"contributing\"]},\n",
    "                        {\"ENTITY\": \"Why\", \"other names\": [\"why\", \"cause of\", \"reason for\", \"diagnose\"]},\n",
    "                        {\"ENTITY\": \"contribution_to_growth\",\n",
    "                         \"other names\": [\"contribution to growth\", \"growth\", \"grown\"]},\n",
    "                        {\"ENTITY\": \"kda_transactional\",\n",
    "                         \"other names\": [\"kda\", \"key drivers\", \"key driver\", \"drivers\", \"driver\"]},\n",
    "                        {\"ENTITY\": \"Growth Rate\", \"other names\": [\"growth rate\", \"growth\", \"grown\"]},\n",
    "                        {\"ENTITY\": \"correlation\",\n",
    "                         \"other names\": [\"associate\", \"associated\", \"association\", \"associations\", \"correlate\",\n",
    "                                         \"correlated\",\n",
    "                                         \"correlation\", \"correlations\", \"relate\", \"related\", \"relation\", \"relations\",\n",
    "                                         \"relationship\",\n",
    "                                         \"relationships\"]}\n",
    "                        ],\n",
    "    \"DATE VARIABLE\": [\n",
    "        {\"ENTITY\": \"Order Date\", \"other names\": [\"order date\", \"date\", \"trend\", \"time\", \"when\", \"mom\", \"yoy\"]}]\n",
    "}\n",
    "question = \"discount rate of phone and binders\"\n",
    "Api_call(question)"
   ]
  },
  {
   "cell_type": "code",
   "execution_count": null,
   "id": "f38a29cd",
   "metadata": {},
   "outputs": [],
   "source": [
    "question = \"discount rate of overall sub-category in corporate\"\n",
    "Api_call(question)"
   ]
  },
  {
   "cell_type": "code",
   "execution_count": null,
   "id": "c76d5a42",
   "metadata": {},
   "outputs": [],
   "source": []
  }
 ],
 "metadata": {
  "kernelspec": {
   "display_name": "Python 3",
   "language": "python",
   "name": "python3"
  },
  "language_info": {
   "codemirror_mode": {
    "name": "ipython",
    "version": 3
   },
   "file_extension": ".py",
   "mimetype": "text/x-python",
   "name": "python",
   "nbconvert_exporter": "python",
   "pygments_lexer": "ipython3",
   "version": "3.8.16"
  }
 },
 "nbformat": 4,
 "nbformat_minor": 5
}
