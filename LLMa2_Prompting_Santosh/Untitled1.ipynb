{
 "cells": [
  {
   "cell_type": "code",
   "execution_count": 4,
   "id": "e7febf4e",
   "metadata": {},
   "outputs": [],
   "source": [
    "token = \"eyJhbGciOiJSUzI1NiIsInR5cCIgOiAiSldUIiwia2lkIiA6ICJ4WTdTd3k5UE1xaXRDQmNSMm5qcVl6bmoxS3NqZzV3TmdOV0xDVzdyUkhvIn0.eyJleHAiOjE3MzU2MjcxNDMsImlhdCI6MTcwMTA2NzE0MywiYXV0aF90aW1lIjoxNzAxMDU4MTIyLCJqdGkiOiJmMDJkNDA3Ni02YzNlLTRiYzItYWYwZS04MzNmNjY5OTUzYzciLCJpc3MiOiJodHRwczovL3JlZnJhY3QtbG9naW4uZm9zZm9yLmNvbS9hdXRoL3JlYWxtcy9tb3NhaWMiLCJhdWQiOlsibW9zYWljLWdhdGVrZWVwZXIiLCJhY2NvdW50Il0sInN1YiI6ImU4NDhkYjlkLTYwYTEtNDM1MS05YzU3LTRmOThmOTA5MTVjYSIsInR5cCI6IkJlYXJlciIsImF6cCI6Im1vc2FpYy1nYXRla2VlcGVyIiwic2Vzc2lvbl9zdGF0ZSI6ImJlMGY0YTA4LWFhZjItNDMwNi1hZjY5LTUzNjQ5ZGE4YmViNCIsImFsbG93ZWQtb3JpZ2lucyI6WyIqIl0sInJlYWxtX2FjY2VzcyI6eyJyb2xlcyI6WyJNTE9QUyIsImxvbmdfbGl2ZWRfdG9rZW4iLCJzcGVjdHJhLWRldmVsb3BlciIsImRlZmF1bHQtcm9sZXMtbW9zYWljIiwicmVmcmFjdC1kZXZlbG9wZXIiLCJvZmZsaW5lX2FjY2VzcyIsInVtYV9hdXRob3JpemF0aW9uIl19LCJyZXNvdXJjZV9hY2Nlc3MiOnsiYWNjb3VudCI6eyJyb2xlcyI6WyJtYW5hZ2UtYWNjb3VudCIsIm1hbmFnZS1hY2NvdW50LWxpbmtzIiwidmlldy1wcm9maWxlIl19fSwic2NvcGUiOiJvcGVuaWQgZW1haWwgcHJvZmlsZSIsInNpZCI6ImJlMGY0YTA4LWFhZjItNDMwNi1hZjY5LTUzNjQ5ZGE4YmViNCIsImVtYWlsX3ZlcmlmaWVkIjp0cnVlLCJuYW1lIjoiU2FudG9zaCBQb3RoYWJhdHR1bGEiLCJwcmVmZXJyZWRfdXNlcm5hbWUiOiJzYW50b3NoIiwiZ2l2ZW5fbmFtZSI6IlNhbnRvc2giLCJmYW1pbHlfbmFtZSI6IlBvdGhhYmF0dHVsYSIsImVtYWlsIjoic2FudG9zaC5wb3RoYWJhdHR1bGFAbG50aW5mb3RlY2guY29tIn0.FyY0ngyfgCzkOc_HS8vJDMc73vYyp5pbfIIr1XLqDfqBLObG5AiSHSZDKhlD8_EwWt23cOM7_2OKKRDvQBfjCLqQrmZgVrFoOqq80hyE92p_WXu2zMH1SxAfBDeT5pp-jr37VhSXX7tr58O4t4D02WoshBCPDoPA8OnoLelS_L2TNSPc-wjV7qj5iWKnsJeWdWXg59KDahbhMUQ9DYU5cdOV37MfKC58iGdOnFMiQEIt4DPpu93gLgMQZYkA691I5gqs2-zgRVlHca3njWawPfMXALORIOTjKrPMfarZm6dCJ2Q4vfkAg80VuqbkICFFCEQEpL76xhKEFLWN6dL3Xw\""
   ]
  },
  {
   "cell_type": "code",
   "execution_count": 19,
   "id": "1375cb33",
   "metadata": {},
   "outputs": [],
   "source": [
    "context = context = {\n",
    "    \"MEASURE\": [{\"ENTITY\": \"Discount\", \"other names\": [\"discount\", \"discount rate\", \"discount value\", \"deduction\"]},\n",
    "                {\"ENTITY\": \"Purchase Vol\", \"other names\": [\"purchase\", \"purchase value\", \"purchase model\"]},\n",
    "                {\"ENTITY\": \"Quantity\", \"other names\": [\"quantity\", \"volume\"]},\n",
    "                {\"ENTITY\": \"Sales\", \"other names\": [\"sales\", \"sale\"]}],\n",
    "    \"DATE VARIABLE\": [\n",
    "        {\"ENTITY\": \"Order Date\", \"other names\": [\"order date\", \"date\", \"trend\", \"time\", \"when\", \"mom\", \"yoy\"]}]\n",
    "}"
   ]
  },
  {
   "cell_type": "code",
   "execution_count": 20,
   "id": "dd6dad58",
   "metadata": {},
   "outputs": [],
   "source": [
    "import requests \n",
    "def Api_call(question):\n",
    "    data = {\"payload\":[{\"question\":question,\"context\":context,\"date_info\":{\"start_date\": \"01/01/2020\",\"end_date\": \"15/09/2023\"}}]}\n",
    "    headers={\"Content-type\":\"application/json\",\"Accept\":\"application/json\",\"Authorization\":token} \n",
    "    url='https://refract.fosfor.com/openchatimqlgeneratorforgpu01/6ed23fdd-6fff-4354-9047-913b00cf916a/score' \n",
    "    response = requests.post(url, json=data, headers=headers) \n",
    "    res = response.json()\n",
    "    return res[\"data\"][0][\"score_response\"]"
   ]
  },
  {
   "cell_type": "code",
   "execution_count": 22,
   "id": "ffa7fcd3",
   "metadata": {},
   "outputs": [
    {
     "data": {
      "text/plain": [
       "['\\n                    {\\n                        \"MEASURE\": {\\n                            \"Discount\": [\\n                                {\\n                                    \"ENTITY\": \"Discount\",\\n                                    \"MEASURE CONSTRAINT\": [\\n                                        {\\n                                            \"COMPARISON VALUE\": \"\",\\n                                            \"COMPARSION OPERATOR\": \"\"\\n                                        }\\n                                    ],\\n                                    \"ADJECTIVE\": [],\\n                                    \"TONE\": \"\"\\n                                }\\n                            ],\\n                            \"Purchase Vol\": [\\n                                {\\n                                    \"ENTITY\": \"Purchase Vol\",\\n                                    \"MEASURE CONSTRAINT\": [\\n                                        {\\n                                            \"COMPARISON VALUE\": \"\",\\n                                            \"COMPARSION OPERATOR\": \"\"\\n                                        }\\n                                    ],\\n                                    \"ADJECTIVE\": [],\\n                                    \"TONE\": \"\"\\n                                }\\n                            ],\\n                            \"Quantity\": [\\n                                {\\n                                    \"ENTITY\": \"Quantity\",\\n                                    \"MEASURE CONSTRAINT\": [\\n                                        {\\n                                            \"COMPARISON VALUE\": \"\",\\n                                            \"COMPARSION OPERATOR\": \"\"\\n                                        }\\n                                    ],\\n                                    \"ADJECTIVE\": [],\\n                                    \"TONE\": \"\"\\n                                }\\n                            ],\\n                            \"Sales\": [\\n                                {\\n                                    \"ENTITY\": \"Sales\",\\n                                    \"MEASURE CONSTRAINT\": [\\n                                        {\\n                                            \"COMPARISON VALUE\": \"\",\\n                                            \"COMPARSION OPERATOR\": \"\"\\n                                        }\\n                                    ],\\n                                    \"ADJECTIVE\": [],\\n                                    \"TONE\": \"\"\\n                                }\\n                            ]\\n                        },\\n                        \"DIMENSION\": {\\n                            \"Segment\": [\\n                                {\\n                                    \"ENTITY\": \"Segment\",\\n                                    \"RANK\": [],\\n                                    \"ADJECTIVE\": [],\\n                                    \"TONE\": \"\"\\n                                }\\n                            ]\\n                        },\\n                        \"FILTER\": {},\\n                        \"DERIVED MEASURE\": {},\\n                        \"DATE VARIABLE\": {\\n                            \"Order Date\": [\\n                                {\\n                                    \"ENTITY\": \"Order Date\",\\n                                    \"DATE RANGE\": \"date range\",\\n                                    \"CONVERTED TIME ELEMENT\": \"date range\"\\n                                }\\n                            ]\\n                        }\\n                    }\\n                    ']"
      ]
     },
     "execution_count": 22,
     "metadata": {},
     "output_type": "execute_result"
    }
   ],
   "source": [
    "question = \"what is purchase across segments\"\n",
    "res=Api_call(question)\n",
    "(res)"
   ]
  },
  {
   "cell_type": "code",
   "execution_count": 18,
   "id": "5997ef1b",
   "metadata": {},
   "outputs": [
    {
     "data": {
      "text/plain": [
       "['\\n                    {\\n                        \"MEASURE\": {\\n                            \"Quantity\": [\\n                                {\\n                                    \"ENTITY\": \"Quantity\",\\n                                    \"MEASURE CONSTRAINT\": [\\n                                        {\\n                                            \"COMPARISON VALUE\": \"\",\\n                                            \"COMPARSION OPERATOR\": \"\"\\n                                        }\\n                                    ],\\n                                    \"ADJECTIVE\": [],\\n                                    \"TONE\": \"\"\\n                                }\\n                            ]\\n                        },\\n                        \"DIMENSION\": {\\n                            \"Segment\": [\\n                                {\\n                                    \"ENTITY\": \"Segment']"
      ]
     },
     "execution_count": 18,
     "metadata": {},
     "output_type": "execute_result"
    }
   ],
   "source": [
    "question = \"top 2 segments and bottom 3 sub-category basis quantity\"\n",
    "Api_call(question)"
   ]
  },
  {
   "cell_type": "code",
   "execution_count": null,
   "id": "a8c1a5a0",
   "metadata": {},
   "outputs": [],
   "source": [
    "question = \"discount rate of overall sub-category in corporate\"\n",
    "Api_call(question)"
   ]
  },
  {
   "cell_type": "code",
   "execution_count": null,
   "id": "caee278e",
   "metadata": {},
   "outputs": [],
   "source": []
  }
 ],
 "metadata": {
  "kernelspec": {
   "display_name": "Python 3",
   "language": "python",
   "name": "python3"
  },
  "language_info": {
   "codemirror_mode": {
    "name": "ipython",
    "version": 3
   },
   "file_extension": ".py",
   "mimetype": "text/x-python",
   "name": "python",
   "nbconvert_exporter": "python",
   "pygments_lexer": "ipython3",
   "version": "3.8.16"
  }
 },
 "nbformat": 4,
 "nbformat_minor": 5
}
