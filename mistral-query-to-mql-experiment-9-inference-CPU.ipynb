{
 "cells": [
  {
   "cell_type": "markdown",
   "id": "73377c2e",
   "metadata": {},
   "source": [
    "### Distill step by step finetuning approach - trying enhanced rationale with specific reasoning for date conversion"
   ]
  },
  {
   "cell_type": "code",
   "execution_count": null,
   "id": "baff667f",
   "metadata": {},
   "outputs": [],
   "source": []
  },
  {
   "cell_type": "code",
   "execution_count": 1,
   "id": "06dcc636",
   "metadata": {
    "scrolled": true
   },
   "outputs": [],
   "source": [
    "!sudo pip install -q transformers --upgrade\n",
    "!sudo pip install -q peft"
   ]
  },
  {
   "cell_type": "code",
   "execution_count": 2,
   "id": "a1b437fa",
   "metadata": {},
   "outputs": [
    {
     "data": {
      "text/plain": [
       "'4.35.0'"
      ]
     },
     "execution_count": 2,
     "metadata": {},
     "output_type": "execute_result"
    }
   ],
   "source": [
    "import transformers\n",
    "transformers.__version__"
   ]
  },
  {
   "cell_type": "code",
   "execution_count": 3,
   "id": "57fbc6b6",
   "metadata": {},
   "outputs": [],
   "source": [
    "import os\n",
    "import torch\n",
    "from datasets import load_dataset\n",
    "from datasets import Dataset\n",
    "from transformers import (\n",
    "    AutoModelForCausalLM,\n",
    "    AutoTokenizer,\n",
    "    BitsAndBytesConfig,\n",
    "    HfArgumentParser,\n",
    "    TrainingArguments,\n",
    "    pipeline,\n",
    "    logging,\n",
    ")\n",
    "from peft import LoraConfig, PeftModel\n",
    "import pandas as pd\n",
    "import torch"
   ]
  },
  {
   "cell_type": "code",
   "execution_count": 4,
   "id": "c37f45b7",
   "metadata": {},
   "outputs": [],
   "source": [
    "# The model that you want to train from the Hugging Face hub\n",
    "model_name = \"mistralai/Mistral-7B-Instruct-v0.1\""
   ]
  },
  {
   "cell_type": "code",
   "execution_count": 16,
   "id": "47730f44",
   "metadata": {},
   "outputs": [],
   "source": [
    "# context = \"\"\"{\n",
    "#     \"MEASURE\": [{\"ENTITY\": \"Discount\", \"other names\": [\"discount\", \"discount rate\", \"discount value\", \"deduction\"]},\n",
    "#                 {\"ENTITY\": \"Purchase Vol\", \"other names\": [\"purchase\", \"purchase value\", \"purchase model\"]},\n",
    "#                 {\"ENTITY\": \"Quantity\", \"other names\": [\"quantity\", \"volume\"]},\n",
    "#                 {\"ENTITY\": \"Sales\", \"other names\": [\"sales\", \"sale\"]}],\n",
    "#     \"DIMENSION\": [{\"ENTITY\": \"Sub-Category\", \"other names\": [\"sub-category\", \"sub category\", \"categories\", \"section\"]},\n",
    "#                   {\"ENTITY\": \"Segment\", \"other names\": [\"segment\", \"segments\", \"units\", \"divisions\"]},\n",
    "#                   {\"ENTITY\": \"Parts\", \"other names\": [\"parts\", \"part\", \"section\", \"divisions\"]},\n",
    "#                   {\"ENTITY\": \"Country\", \"other names\": [\"country\", \"countries\"]}],\n",
    "#     \"FILTER\": [{\"ENTITY\": \"Consumer\", \"other names\": [\"consumers\", \"consumer\"], \"parent\": \"Segment\"},\n",
    "#                {\"ENTITY\": \"Phone\", \"other names\": [\"phone\", \"phones\", \"mobile phones\"], \"parent\": \"Sub-Category\"},\n",
    "#                {\"ENTITY\": \"Binder\", \"other names\": [\"binders\", \"binder\"], \"parent\": \"Sub-Category\"},\n",
    "#                {\"ENTITY\": \"Corporate\", \"other names\": [\"corporates\", \"corporate\"], \"parent\": \"Segment\"},\n",
    "#                {\"ENTITY\": \"India\", \"other names\": [\"india\"], \"parent\": \"Country\"},\n",
    "#                {\"ENTITY\": \"Dubai\", \"other names\": [\"dubai\"], \"parent\": \"Country\"}],\n",
    "#     \"DERIVED MEASURE\": [{\"ENTITY\": \"Ratio\",\n",
    "#              \"other names\": [\"ratio\", \"share\", \"contribution\", \"percentage\", \"proportion\", \"contributing\"]},\n",
    "#             {\"ENTITY\": \"Why\", \"other names\": [\"why\", \"cause of\", \"reason for\", \"diagnose\"]},\n",
    "#             {\"ENTITY\": \"contribution_to_growth\", \"other names\": [\"contribution to growth\", \"growth\", \"grown\"]},\n",
    "#             {\"ENTITY\": \"kda_transactional\", \"other names\": [\"kda\", \"key drivers\", \"key driver\", \"drivers\", \"driver\"]},\n",
    "#             {\"ENTITY\": \"Growth Rate\", \"other names\": [\"growth rate\", \"growth\", \"grown\"]},\n",
    "#             {\"ENTITY\": \"correlation\",\n",
    "#              \"other names\": [\"associate\", \"associated\", \"association\", \"associations\", \"correlate\", \"correlated\",\n",
    "#                              \"correlation\", \"correlations\", \"relate\", \"related\", \"relation\", \"relations\",\n",
    "#                              \"relationship\",\n",
    "#                              \"relationships\"]}\n",
    "#             ],\n",
    "#     \"DATE VARIABLE\": [{\"ENTITY\": \"Order Date\", \"other names\": [\"order date\", \"date\", \"trend\", \"time\", \"when\", \"mom\", \"yoy\"]}]\n",
    "#     }\"\"\""
   ]
  },
  {
   "cell_type": "code",
   "execution_count": 19,
   "id": "23e4b92f",
   "metadata": {},
   "outputs": [],
   "source": [
    "context = \"\"\"{\n",
    "    \"MEASURE\": [{\"ENTITY\": \"Insurance covergae\", \"other names\": [\"insurance amount\", \"total insurance coverage\", \"coverage\"]},\n",
    "                {\"ENTITY\": \"Hospital bill\", \"other names\": [\"bill\", \"hospital expenses\", \"expenses\"]},\n",
    "                {\"ENTITY\": \"Count\", \"other names\": [\"quantity\", \"counts\"]}],\n",
    "    \"DIMENSION\": [{\"ENTITY\": \"Disease\", \"other names\": [\"disease\", \"Diseases\", \"health issues\"]},\n",
    "                  {\"ENTITY\": \"State\", \"other names\": [\"segment\", \"segments\", \"units\", \"divisions\"]},\n",
    "                  {\"ENTITY\": \"Insurer\", \"other names\": [\"insurer\", \"insurance provider\"]}],\n",
    "    \"FILTER\": [{\"ENTITY\": \"Covid\", \"other names\": [\"covid-19\", \"covid19\",\"Covid 19\"], \"parent\": \"Disease\"},\n",
    "               {\"ENTITY\": \"Cancer\", \"other names\": [\"cancers\", \"cancer\", \"tumour\"], \"parent\": \"Disease\"},\n",
    "               {\"ENTITY\": \"Delhi\", \"other names\": [\"New Delhi\", \"delhi\"], \"parent\": \"State\"},\n",
    "               {\"ENTITY\": \"Maharashtra\", \"other names\": [\"corporates\", \"corporate\"], \"parent\": \"State\"},\n",
    "               {\"ENTITY\": \"HDFC ergo\", \"other names\": [\"hdfc\",\"HDFC\",\"HDFC health insurance\",\"hdfc insurance], \"parent\": \"Insurer\"},\n",
    "               {\"ENTITY\": \"Aditya Birla\", \"other names\": [\"aditya birla health insurance\",\"aditya birla insurance\"], \"parent\": \"Insurer\"}],\n",
    "    \"DERIVED MEASURE\": [{\"ENTITY\": \"Ratio\",\n",
    "             \"other names\": [\"ratio\", \"share\", \"contribution\", \"percentage\", \"proportion\", \"contributing\"]},\n",
    "            {\"ENTITY\": \"Why\", \"other names\": [\"why\", \"cause of\", \"reason for\", \"diagnose\"]},\n",
    "            {\"ENTITY\": \"contribution_to_growth\", \"other names\": [\"contribution to growth\", \"growth\", \"grown\"]},\n",
    "            {\"ENTITY\": \"kda_transactional\", \"other names\": [\"kda\", \"key drivers\", \"key driver\", \"drivers\", \"driver\"]},\n",
    "            {\"ENTITY\": \"Growth Rate\", \"other names\": [\"growth rate\", \"growth\", \"grown\"]},\n",
    "            {\"ENTITY\": \"correlation\",\n",
    "             \"other names\": [\"associate\", \"associated\", \"association\", \"associations\", \"correlate\", \"correlated\",\n",
    "                             \"correlation\", \"correlations\", \"relate\", \"related\", \"relation\", \"relations\",\n",
    "                             \"relationship\",\n",
    "                             \"relationships\"]}\n",
    "            ],\n",
    "    \"DATE VARIABLE\": [{\"ENTITY\": \"Admit Date\", \"other names\": [\"admit date\", \"date\", \"trend\", \"time\", \"when\", \"mom\", \"yoy\"]}]\n",
    "    }\"\"\""
   ]
  },
  {
   "cell_type": "code",
   "execution_count": 20,
   "id": "78a95227",
   "metadata": {},
   "outputs": [],
   "source": [
    "date_input = {\n",
    "    \"start_date\": \"01/01/2029\",\n",
    "    \"end_date\": \"01/11/2023\"\n",
    "}"
   ]
  },
  {
   "cell_type": "code",
   "execution_count": 21,
   "id": "202bb865",
   "metadata": {},
   "outputs": [
    {
     "data": {
      "text/plain": [
       "False"
      ]
     },
     "execution_count": 21,
     "metadata": {},
     "output_type": "execute_result"
    }
   ],
   "source": [
    "torch.cuda.is_available()"
   ]
  },
  {
   "cell_type": "code",
   "execution_count": 8,
   "id": "ef60f964",
   "metadata": {},
   "outputs": [],
   "source": [
    "# Load LLaMA tokenizer\n",
    "tokenizer = AutoTokenizer.from_pretrained(model_name, trust_remote_code=True,\n",
    "                                          # add_eos_token=True,\n",
    "                                          use_fast=False)\n",
    "tokenizer.pad_token = tokenizer.eos_token\n",
    "tokenizer.padding_side = \"right\""
   ]
  },
  {
   "cell_type": "code",
   "execution_count": 9,
   "id": "84916548",
   "metadata": {},
   "outputs": [],
   "source": [
    "from peft import PeftModel, PeftConfig"
   ]
  },
  {
   "cell_type": "code",
   "execution_count": 10,
   "id": "e3ad3884",
   "metadata": {},
   "outputs": [],
   "source": [
    "new_model_name = \"/data/mistral/query-to-mql/exp-9/nov-01/checkpoint-4000\""
   ]
  },
  {
   "cell_type": "code",
   "execution_count": 11,
   "id": "e10ab609",
   "metadata": {},
   "outputs": [
    {
     "data": {
      "application/vnd.jupyter.widget-view+json": {
       "model_id": "44bae82e31ba41f7bd0df9c3e9fe03f6",
       "version_major": 2,
       "version_minor": 0
      },
      "text/plain": [
       "Loading checkpoint shards:   0%|          | 0/2 [00:00<?, ?it/s]"
      ]
     },
     "metadata": {},
     "output_type": "display_data"
    }
   ],
   "source": [
    "from peft import AutoPeftModelForCausalLM\n",
    "\n",
    "model = AutoPeftModelForCausalLM.from_pretrained(new_model_name, device_map=\"auto\", torch_dtype=torch.bfloat16)\n",
    "model = model.merge_and_unload()"
   ]
  },
  {
   "cell_type": "code",
   "execution_count": 22,
   "id": "7be81f79",
   "metadata": {},
   "outputs": [],
   "source": [
    "query_template_v1 = \"\"\"Given the context : {context} and date reference: {date_input}, the query: {user_query}, is converted into below shown structured output.\n",
    "[MQL]\n",
    "\"\"\""
   ]
  },
  {
   "cell_type": "code",
   "execution_count": 23,
   "id": "8a9a2513",
   "metadata": {},
   "outputs": [],
   "source": [
    "def predict_template_query_v1(user_query):\n",
    "    inp = query_template_v1.format(context=context,\n",
    "                                   user_query=user_query,\n",
    "                                  date_input=date_input)\n",
    "    _inputs = tokenizer.encode(inp, return_tensors=\"pt\")\n",
    "    outputs = model.generate(input_ids=_inputs, max_length= 1700, pad_token_id=tokenizer.eos_token_id)\n",
    "    output = tokenizer.decode(outputs[0])\n",
    "    output_new = output.split('[MQL]\\n')[1]\n",
    "    return output_new.split('\\n[/MQL]')[0], output\n",
    "#     return output"
   ]
  },
  {
   "cell_type": "code",
   "execution_count": 24,
   "id": "5c56a945",
   "metadata": {},
   "outputs": [
    {
     "name": "stdout",
     "output_type": "stream",
     "text": [
      "user query:  covid count in 2020\n",
      "----------------------------------------------------------------------------------------------------\n",
      "{'DATE VARIABLE': {'2020': [{'CONVERTED TIME ELEMENT': 'year', 'DATE RANGE': '2020/01/01 - 2020/12/31', 'ENTITY': 'Admit Date'}]}, 'MEASURE': {'covid count': [{'ENTITY': 'Hospital bill'}]}}\n",
      "----------------------------------------------------------------------------------------------------\n",
      "Step 1: Identify components in the query\n",
      "- The query mentions \"covid count\" which is a measure.\n",
      "- The query also mentions \"2020\" which is a date component.\n",
      "\n",
      "Step 2: Match components to the context\n",
      "- \"covid count\" can be matched to the \"Hospital bill\" entity in the context under MEASURE.\n",
      "- \"2020\" needs to be converted into a date range using the date reference provided.\n",
      "\n",
      "Step 3: Convert date component\n",
      "- The query mentions \"2020\" which is a specific year.\n",
      "- Using the date reference, we can calculate the date range for the year 2020 as \"2020/01/01 - 2020/12/31\".\n",
      "- The date reference is not utilized here as the query specifically asks for the year 2020, and the start_date and end_date are not needed in this case.\n",
      "\n",
      "Step 4: Create structured output\n",
      "- The structured output is created by combining the matched components and the converted date component.\n",
      "- The MEASURE section includes the \"Hospital bill\" entity.\n",
      "- The DATE VARIABLE section includes the \"Admit Date\" entity and the date range \"2020/01/01 - 2020/12/31\" for the year 2020.\n",
      "\n",
      "Rationale:\n",
      "- The query asks for the covid count in the year 2020, so we need to match the measure component to the \"Hospital bill\" entity in the context.\n",
      "- We then convert the date component \"2020\" to a date range using the date reference provided, considering that the query specifically asks for the year 2020 and not the date range within that year.\n",
      "- Finally, we create the structured output by combining the matched components and the converted date component.\n",
      "\n",
      "Note: The date reference is not utilized in this case as the query specifically asks for the year 2020, and the start_date and end_date are not needed in this case.\n",
      "\n",
      "[MQL]\n",
      "{\n",
      "  \"DATE VARIABLE\": {\n",
      "    \"2020\": [\n",
      "      {\n",
      "        \"CONVERTED TIME ELEMENT\": \"year\",\n",
      "        \"DATE RANGE\": \"2020/01/01 - 2020/12/31\",\n",
      "        \"ENTITY\": \"Admit Date\"\n",
      "      }\n",
      "    ]\n",
      "  },\n",
      "  \"MEASURE\": {\n",
      "    \"covid count\": [\n",
      "      {\n",
      "        \"ENTITY\": \"Hospital bill\"\n",
      "      }\n",
      "    ]\n",
      "  }\n",
      "}\n",
      "[/MQL]\n",
      "the above structured output is generated by following the steps and rationale mentioned above.\n",
      "If you have any further questions or need more information, please let me know.</s>\n",
      "CPU times: user 44min 17s, sys: 5.7 s, total: 44min 22s\n",
      "Wall time: 5min 50s\n"
     ]
    }
   ],
   "source": [
    "%%time\n",
    "user_query = 'covid count in 2020'\n",
    "print('user query: ', user_query)\n",
    "print('-'*100)\n",
    "output, raw = predict_template_query_v1(user_query=user_query)\n",
    "print(eval(output))\n",
    "print('-'*100)\n",
    "print('Step 1:' +raw.split('\\nStep 1:')[1])"
   ]
  },
  {
   "cell_type": "code",
   "execution_count": null,
   "id": "a87b6abc",
   "metadata": {},
   "outputs": [],
   "source": []
  },
  {
   "cell_type": "code",
   "execution_count": null,
   "id": "cdf57786",
   "metadata": {},
   "outputs": [],
   "source": []
  },
  {
   "cell_type": "code",
   "execution_count": null,
   "id": "5dc6d320",
   "metadata": {},
   "outputs": [],
   "source": []
  },
  {
   "cell_type": "code",
   "execution_count": null,
   "id": "5e1443dd",
   "metadata": {},
   "outputs": [],
   "source": []
  },
  {
   "cell_type": "code",
   "execution_count": null,
   "id": "d140cdc8",
   "metadata": {},
   "outputs": [],
   "source": []
  },
  {
   "cell_type": "code",
   "execution_count": null,
   "id": "3fd08f1b",
   "metadata": {},
   "outputs": [],
   "source": []
  },
  {
   "cell_type": "code",
   "execution_count": 14,
   "id": "dc44339e",
   "metadata": {},
   "outputs": [],
   "source": [
    "def inference(user_query):\n",
    "    output, raw = predict_template_query_v1(user_query=user_query)\n",
    "    mql = eval(output)\n",
    "    steps = 'Step 1:' +raw.split('\\nStep 1:')[1]\n",
    "    return mql, steps"
   ]
  },
  {
   "cell_type": "code",
   "execution_count": null,
   "id": "154aff9d",
   "metadata": {},
   "outputs": [],
   "source": [
    "%%time\n",
    "user_query = 'why sales changed in last 2 weeks of Nov 2021'\n",
    "inference(user_query)"
   ]
  }
 ],
 "metadata": {
  "kernelspec": {
   "display_name": "Python 3",
   "language": "python",
   "name": "python3"
  },
  "language_info": {
   "codemirror_mode": {
    "name": "ipython",
    "version": 3
   },
   "file_extension": ".py",
   "mimetype": "text/x-python",
   "name": "python",
   "nbconvert_exporter": "python",
   "pygments_lexer": "ipython3",
   "version": "3.8.16"
  }
 },
 "nbformat": 4,
 "nbformat_minor": 5
}
