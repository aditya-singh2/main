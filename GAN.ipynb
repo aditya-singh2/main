{
 "cells": [
  {
   "cell_type": "markdown",
   "id": "d907a2bc",
   "metadata": {},
   "source": [
    "# import tensorflow as tf\n",
    "from tensorflow import keras\n",
    "from tensorflow.keras import layers\n",
    "import numpy as np\n",
    "import matplotlib.pyplot as plt\n",
    "\n",
    "# Define the GAN model\n",
    "latent_dim = 100  # Dimension of the random noise input\n",
    "generator = keras.Sequential([\n",
    "    layers.Input(shape=(latent_dim,)),\n",
    "    layers.Dense(128 * 16 * 16),\n",
    "    layers.Reshape((16, 16, 128)),\n",
    "    layers.Conv2DTranspose(128, (4, 4), strides=(2, 2), padding=\"same\"),\n",
    "    layers.Conv2DTranspose(128, (4, 4), strides=(2, 2), padding=\"same\"),\n",
    "    layers.Conv2D(3, (3, 3), activation=\"sigmoid\", padding=\"same\")\n",
    "])\n",
    "\n",
    "discriminator = keras.Sequential([\n",
    "    layers.Input(shape=(128, 128, 3)),\n",
    "    layers.Conv2D(128, (3, 3)),\n",
    "    layers.LeakyReLU(0.2),\n",
    "    layers.Conv2D(128, (3, 3)),\n",
    "    layers.LeakyReLU(0.2),\n",
    "    layers.Flatten(),\n",
    "    layers.Dense(1)\n",
    "])\n",
    "\n",
    "discriminator.compile(loss=\"binary_crossentropy\", optimizer=\"adam\")\n",
    "discriminator.trainable = False\n",
    "\n",
    "gan_input = keras.Input(shape=(latent_dim,))\n",
    "gan_output = discriminator(generator(gan_input))\n",
    "gan = keras.Model(gan_input, gan_output)\n",
    "gan.compile(loss=\"binary_crossentropy\", optimizer=\"adam\")\n",
    "\n",
    "# Load an art dataset or provide your own\n",
    "# Replace this with loading your art dataset or generating your own art data\n",
    "# Example: art_data = load_art_dataset()\n",
    "\n",
    "# Preprocess and normalize the art data\n",
    "# art_data = preprocess_and_normalize(art_data)\n",
    "\n",
    "# Training loop\n",
    "epochs = 5000\n",
    "batch_size = 32\n",
    "for epoch in range(epochs):\n",
    "    for _ in range(len(art_data) // batch_size):\n",
    "        noise = np.random.normal(0, 1, (batch_size, latent_dim))\n",
    "        generated_art = generator.predict(noise)\n",
    "        real_art = art_data[np.random.randint(0, len(art_data), batch_size)]\n",
    "        combined_images = np.concatenate([generated_art, real_art])\n",
    "        labels = np.concatenate([np.zeros((batch_size, 1)), np.ones((batch_size, 1))])\n",
    "        d_loss = discriminator.train_on_batch(combined_images, labels)\n",
    "\n",
    "        noise = np.random.normal(0, 1, (batch_size, latent_dim))\n",
    "        misleading_labels = np.ones((batch_size, 1))\n",
    "        a_loss = gan.train_on_batch(noise, misleading_labels)\n",
    "\n",
    "    if epoch % 100 == 0:\n",
    "        print(f\"Epoch: {epoch}, D Loss: {d_loss}, G Loss: {a_loss}\")\n",
    "\n",
    "    if epoch % 500 == 0:\n",
    "        # Save generated art\n",
    "        generated_images = generator.predict(noise)\n",
    "        for i in range(9):\n",
    "            plt.subplot(3, 3, i + 1)\n",
    "            plt.imshow(generated_images[i])\n",
    "            plt.axis('off')\n",
    "        plt.savefig(f\"art_generated_epoch_{epoch}.png\")\n",
    "        plt.show()\n"
   ]
  },
  {
   "cell_type": "code",
   "execution_count": null,
   "id": "dbc59147",
   "metadata": {},
   "outputs": [
    {
     "name": "stdout",
     "output_type": "stream",
     "text": [
      "\u001b[33mWARNING: The directory '/home/mosaic-ai/.cache/pip/http' or its parent directory is not owned by the current user and the cache has been disabled. Please check the permissions and owner of that directory. If executing pip with sudo, you may want sudo's -H flag.\u001b[0m\n",
      "\u001b[33mWARNING: The directory '/home/mosaic-ai/.cache/pip' or its parent directory is not owned by the current user and caching wheels has been disabled. check the permissions and owner of that directory. If executing pip with sudo, you may want sudo's -H flag.\u001b[0m\n",
      "Collecting tensorflow\n",
      "\u001b[?25l  Downloading https://files.pythonhosted.org/packages/c2/20/b15abac0be474f12cf51a104c9dd935b053081b502c103e9e947e8be7b84/tensorflow-2.13.1-cp38-cp38-manylinux_2_17_x86_64.manylinux2014_x86_64.whl (479.6MB)\n",
      "\u001b[K     |█████████████▋                  | 204.1MB 147.1MB/s eta 0:00:02"
     ]
    }
   ],
   "source": [
    "!pip install tensorflow"
   ]
  },
  {
   "cell_type": "code",
   "execution_count": 1,
   "id": "3786495b",
   "metadata": {},
   "outputs": [
    {
     "ename": "ModuleNotFoundError",
     "evalue": "No module named 'tensorflow'",
     "output_type": "error",
     "traceback": [
      "\u001b[0;31m---------------------------------------------------------------------------\u001b[0m",
      "\u001b[0;31mModuleNotFoundError\u001b[0m                       Traceback (most recent call last)",
      "Cell \u001b[0;32mIn[1], line 1\u001b[0m\n\u001b[0;32m----> 1\u001b[0m \u001b[38;5;28;01mfrom\u001b[39;00m \u001b[38;5;21;01mtensorflow\u001b[39;00m \u001b[38;5;28;01mimport\u001b[39;00m keras\n\u001b[1;32m      2\u001b[0m \u001b[38;5;28;01mfrom\u001b[39;00m \u001b[38;5;21;01mtensorflow\u001b[39;00m\u001b[38;5;21;01m.\u001b[39;00m\u001b[38;5;21;01mkeras\u001b[39;00m \u001b[38;5;28;01mimport\u001b[39;00m layers\n\u001b[1;32m      3\u001b[0m \u001b[38;5;28;01mimport\u001b[39;00m \u001b[38;5;21;01mnumpy\u001b[39;00m \u001b[38;5;28;01mas\u001b[39;00m \u001b[38;5;21;01mnp\u001b[39;00m\n",
      "\u001b[0;31mModuleNotFoundError\u001b[0m: No module named 'tensorflow'"
     ]
    }
   ],
   "source": [
    "from tensorflow import keras\n",
    "from tensorflow.keras import layers\n",
    "import numpy as np\n",
    "import matplotlib.pyplot as plt"
   ]
  },
  {
   "cell_type": "code",
   "execution_count": null,
   "id": "351cd431",
   "metadata": {},
   "outputs": [],
   "source": []
  }
 ],
 "metadata": {
  "kernelspec": {
   "display_name": "Python 3",
   "language": "python",
   "name": "python3"
  },
  "language_info": {
   "codemirror_mode": {
    "name": "ipython",
    "version": 3
   },
   "file_extension": ".py",
   "mimetype": "text/x-python",
   "name": "python",
   "nbconvert_exporter": "python",
   "pygments_lexer": "ipython3",
   "version": "3.8.16"
  }
 },
 "nbformat": 4,
 "nbformat_minor": 5
}
