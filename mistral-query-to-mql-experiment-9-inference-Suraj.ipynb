{
 "cells": [
  {
   "cell_type": "markdown",
   "id": "73377c2e",
   "metadata": {},
   "source": [
    "### Distill step by step finetuning approach - trying enhanced rationale with specific reasoning for date conversion"
   ]
  },
  {
   "cell_type": "code",
   "execution_count": 1,
   "id": "06dcc636",
   "metadata": {
    "scrolled": true
   },
   "outputs": [],
   "source": [
    "!sudo pip install -q transformers --upgrade\n",
    "!sudo pip install -q peft"
   ]
  },
  {
   "cell_type": "code",
   "execution_count": 2,
   "id": "a1b437fa",
   "metadata": {},
   "outputs": [
    {
     "data": {
      "text/plain": [
       "'4.35.0'"
      ]
     },
     "execution_count": 2,
     "metadata": {},
     "output_type": "execute_result"
    }
   ],
   "source": [
    "import transformers\n",
    "transformers.__version__"
   ]
  },
  {
   "cell_type": "code",
   "execution_count": 3,
   "id": "57fbc6b6",
   "metadata": {},
   "outputs": [],
   "source": [
    "import os\n",
    "import torch\n",
    "from datasets import load_dataset\n",
    "from datasets import Dataset\n",
    "from transformers import (\n",
    "    AutoModelForCausalLM,\n",
    "    AutoTokenizer,\n",
    "    BitsAndBytesConfig,\n",
    "    HfArgumentParser,\n",
    "    TrainingArguments,\n",
    "    pipeline,\n",
    "    logging,\n",
    ")\n",
    "from peft import LoraConfig, PeftModel\n",
    "import pandas as pd\n",
    "import torch"
   ]
  },
  {
   "cell_type": "code",
   "execution_count": 4,
   "id": "c37f45b7",
   "metadata": {},
   "outputs": [],
   "source": [
    "# The model that you want to train from the Hugging Face hub\n",
    "model_name = \"mistralai/Mistral-7B-Instruct-v0.1\""
   ]
  },
  {
   "cell_type": "code",
   "execution_count": 5,
   "id": "47730f44",
   "metadata": {},
   "outputs": [],
   "source": [
    "# context = \"\"\"{\n",
    "#     \"MEASURE\": [{\"ENTITY\": \"Discount\", \"other names\": [\"discount\", \"discount rate\", \"discount value\", \"deduction\"]},\n",
    "#                 {\"ENTITY\": \"Purchase Vol\", \"other names\": [\"purchase\", \"purchase value\", \"purchase model\"]},\n",
    "#                 {\"ENTITY\": \"Quantity\", \"other names\": [\"quantity\", \"volume\"]},\n",
    "#                 {\"ENTITY\": \"Sales\", \"other names\": [\"sales\", \"sale\"]}],\n",
    "#     \"DIMENSION\": [{\"ENTITY\": \"Sub-Category\", \"other names\": [\"sub-category\", \"sub category\", \"categories\", \"section\"]},\n",
    "#                   {\"ENTITY\": \"Segment\", \"other names\": [\"segment\", \"segments\", \"units\", \"divisions\"]},\n",
    "#                   {\"ENTITY\": \"Parts\", \"other names\": [\"parts\", \"part\", \"section\", \"divisions\"]},\n",
    "#                   {\"ENTITY\": \"Country\", \"other names\": [\"country\", \"countries\"]}],\n",
    "#     \"FILTER\": [{\"ENTITY\": \"Consumer\", \"other names\": [\"consumers\", \"consumer\"], \"parent\": \"Segment\"},\n",
    "#                {\"ENTITY\": \"Phone\", \"other names\": [\"phone\", \"phones\", \"mobile phones\"], \"parent\": \"Sub-Category\"},\n",
    "#                {\"ENTITY\": \"Binder\", \"other names\": [\"binders\", \"binder\"], \"parent\": \"Sub-Category\"},\n",
    "#                {\"ENTITY\": \"Corporate\", \"other names\": [\"corporates\", \"corporate\"], \"parent\": \"Segment\"},\n",
    "#                {\"ENTITY\": \"India\", \"other names\": [\"india\"], \"parent\": \"Country\"},\n",
    "#                {\"ENTITY\": \"Dubai\", \"other names\": [\"dubai\"], \"parent\": \"Country\"}],\n",
    "#     \"DERIVED MEASURE\": [{\"ENTITY\": \"Ratio\",\n",
    "#              \"other names\": [\"ratio\", \"share\", \"contribution\", \"percentage\", \"proportion\", \"contributing\"]},\n",
    "#             {\"ENTITY\": \"Why\", \"other names\": [\"why\", \"cause of\", \"reason for\", \"diagnose\"]},\n",
    "#             {\"ENTITY\": \"contribution_to_growth\", \"other names\": [\"contribution to growth\", \"growth\", \"grown\"]},\n",
    "#             {\"ENTITY\": \"kda_transactional\", \"other names\": [\"kda\", \"key drivers\", \"key driver\", \"drivers\", \"driver\"]},\n",
    "#             {\"ENTITY\": \"Growth Rate\", \"other names\": [\"growth rate\", \"growth\", \"grown\"]},\n",
    "#             {\"ENTITY\": \"correlation\",\n",
    "#              \"other names\": [\"associate\", \"associated\", \"association\", \"associations\", \"correlate\", \"correlated\",\n",
    "#                              \"correlation\", \"correlations\", \"relate\", \"related\", \"relation\", \"relations\",\n",
    "#                              \"relationship\",\n",
    "#                              \"relationships\"]}\n",
    "#             ],\n",
    "#     \"DATE VARIABLE\": [{\"ENTITY\": \"Order Date\", \"other names\": [\"order date\", \"date\", \"trend\", \"time\", \"when\", \"mom\", \"yoy\"]}]\n",
    "#     }\"\"\""
   ]
  },
  {
   "cell_type": "code",
   "execution_count": 6,
   "id": "1d55d834",
   "metadata": {},
   "outputs": [],
   "source": [
    "context = \"\"\"{\n",
    "    \"MEASURE\": [{'ENTITY': 'TRx', 'other names': ['total_prescriptions', 'overall_rx', 'complete_rx_count', 'full_prescription_volume', 'entire_rx_number']},\n",
    "                {'ENTITY': 'NRx', 'other names': ['new_prescriptions', 'fresh_rx', 'recent_rx_count', 'initial_prescription_volume', 'first_rx_number']},\n",
    "                {'ENTITY': 'NBRx', 'other names': ['new_to_brand_prescriptions', 'fresh_brand_rx', 'recent_brand_rx_count', 'initial_brand_prescription_volume', 'first_brand_rx_number']},\n",
    "                {'ENTITY': 'NTS', 'other names': ['new_to_specialty', 'fresh_specialty_patients', 'recent_specialty_count', 'initial_specialty_volume', 'first_specialty_number']},\n",
    "                {'ENTITY': 'Switch', 'other names': ['transition', 'change', 'shift', 'swap', 'alteration']}],\n",
    "    \"DIMENSION\": [{'ENTITY': 'Physician ID', 'other names': ['doctor_identifier', 'medical_practitioner_id', 'healthcare_provider_id', 'doc_id', 'practitioner_code']},\n",
    "                  {'ENTITY': 'IMS_ID', 'other names': ['ims_identifier', 'ims_code', 'ims_number', 'ims_reference', 'ims_key']},\n",
    "                  {'ENTITY': 'NPI ID', 'other names': ['national_provider_id', 'npi_number', 'npi_code', 'npi_identifier', 'npi_key']},\n",
    "                  {'ENTITY': 'Address', 'other names': ['location', 'street', 'residence', 'place', 'site']},\n",
    "                  {'ENTITY': 'State', 'other names': ['province', 'region', 'territory', 'district', 'area']},\n",
    "                  {'ENTITY': 'City', 'other names': ['town', 'municipality', 'urban_area', 'locality', 'metropolis']},\n",
    "                  {'ENTITY': 'Zip_Code', 'other names': ['postal_code', 'zipcode', 'post_code', 'mailing_code', 'zip']},\n",
    "                  {'ENTITY': 'Physician Name', 'other names': ['doctor_name', 'medical_practitioner', 'healthcare_provider', 'doc_fullname', 'practitioner']},\n",
    "                  {'ENTITY': 'Specialty', 'other names': ['expertise', 'medical_field', 'healthcare_area', 'practice_focus', 'specialization']},\n",
    "                  {'ENTITY': 'Specialty Group', 'other names': ['expertise_group', 'medical_field_category', 'healthcare_area_group', 'practice_focus_group', 'specialization_group']},\n",
    "                  {'ENTITY': 'Brand', 'other names': ['product', 'trademark', 'label', 'make', 'marque']},\n",
    "                  {'ENTITY': 'Therapy Area', 'other names': ['treatment_field', 'therapy_domain', 'care_area', 'intervention_zone', 'healing_sector']},\n",
    "                  {'ENTITY': 'Market', 'other names': ['industry', 'sector', 'commerce', 'trade', 'business_area']},\n",
    "                  {'ENTITY': 'Payer Channel', 'other names': ['payment_method', 'insurance_type', 'reimbursement_channel', 'coverage_mode', 'financial_route']},\n",
    "                  {'ENTITY': 'Payer', 'other names': ['insurer', 'payment_provider', 'coverage_source', 'financial_institution', 'insurance_company']},\n",
    "                  {'ENTITY': 'Zip Code', 'other names': ['postal_code', 'zipcode', 'post_code', 'mailing_code', 'zip']},\n",
    "                  {'ENTITY': 'Territory', 'other names': ['domain', 'area', 'zone', 'region', 'expanse']},\n",
    "                  {'ENTITY': 'Region', 'other names': ['geographical_area', 'locale', 'district', 'sector', 'division']},\n",
    "                  {'ENTITY': 'District', 'other names': ['administrative_area', 'territory', 'region', 'zone', 'jurisdiction']},\n",
    "                  {'ENTITY': 'Sales Force', 'other names': ['sales_team', 'sales_representatives', 'sales_agents', 'sales_personnel', 'sales_staff']}],\n",
    "    \"FILTER\": [{\"ENTITY\": \"Covid\", \"other names\": [\"covid-19\", \"covid19\",\"Covid 19\"], \"parent\": \"Disease\"},\n",
    "               {\"ENTITY\": \"Cancer\", \"other names\": [\"cancers\", \"cancer\", \"tumour\"], \"parent\": \"Disease\"},\n",
    "               {\"ENTITY\": \"Delhi\", \"other names\": [\"New Delhi\", \"delhi\"], \"parent\": \"State\"},\n",
    "               {\"ENTITY\": \"Maharashtra\", \"other names\": [\"corporates\", \"corporate\"], \"parent\": \"State\"},\n",
    "               {\"ENTITY\": \"HDFC ergo\", \"other names\": [\"hdfc\",\"HDFC\",\"HDFC health insurance\",\"hdfc insurance], \"parent\": \"Insurer\"},\n",
    "               {\"ENTITY\": \"Aditya Birla\", \"other names\": [\"aditya birla health insurance\",\"aditya birla insurance\"], \"parent\": \"Insurer\"}],\n",
    "    \"DERIVED MEASURE\": [{\"ENTITY\": \"Ratio\",\n",
    "             \"other names\": [\"ratio\", \"share\", \"contribution\", \"percentage\", \"proportion\", \"contributing\"]},\n",
    "            {\"ENTITY\": \"Why\", \"other names\": [\"why\", \"cause of\", \"reason for\", \"diagnose\"]},\n",
    "            {\"ENTITY\": \"contribution_to_growth\", \"other names\": [\"contribution to growth\", \"growth\", \"grown\"]},\n",
    "            {\"ENTITY\": \"kda_transactional\", \"other names\": [\"kda\", \"key drivers\", \"key driver\", \"drivers\", \"driver\"]},\n",
    "            {\"ENTITY\": \"Growth Rate\", \"other names\": [\"growth rate\", \"growth\", \"grown\"]},\n",
    "            {\"ENTITY\": \"correlation\",\n",
    "             \"other names\": [\"associate\", \"associated\", \"association\", \"associations\", \"correlate\", \"correlated\",\n",
    "                             \"correlation\", \"correlations\", \"relate\", \"related\", \"relation\", \"relations\",\n",
    "                             \"relationship\",\n",
    "                             \"relationships\"]}\n",
    "            ],\n",
    "    \"DATE VARIABLE\": [{\"ENTITY\": \"Admit Date\", \"other names\": [\"admit date\", \"date\", \"trend\", \"time\", \"when\", \"mom\", \"yoy\"]}]\n",
    "    }\"\"\""
   ]
  },
  {
   "cell_type": "code",
   "execution_count": null,
   "id": "bcca9365",
   "metadata": {},
   "outputs": [],
   "source": [
    "context1 = \"\"\"{\n",
    "    \"MEASURE\": [{\"ENTITY\": \"Insurance covergae\", \"other names\": [\"insurance amount\", \"total insurance coverage\", \"coverage\"]},\n",
    "                {\"ENTITY\": \"Hospital bill\", \"other names\": [\"bill\", \"hospital expenses\", \"expenses\"]},\n",
    "                {\"ENTITY\": \"Count\", \"other names\": [\"quantity\", \"counts\"]}],\n",
    "    \"DIMENSION\": [{\"ENTITY\": \"Disease\", \"other names\": [\"disease\", \"Diseases\", \"health issues\"]},\n",
    "                  {\"ENTITY\": \"State\", \"other names\": [\"segment\", \"segments\", \"units\", \"divisions\"]},\n",
    "                  {\"ENTITY\": \"Insurer\", \"other names\": [\"insurer\", \"insurance provider\"]}],\n",
    "    \"FILTER\": [{\"ENTITY\": \"Covid\", \"other names\": [\"covid-19\", \"covid19\",\"Covid 19\"], \"parent\": \"Disease\"},\n",
    "               {\"ENTITY\": \"Cancer\", \"other names\": [\"cancers\", \"cancer\", \"tumour\"], \"parent\": \"Disease\"},\n",
    "               {\"ENTITY\": \"Delhi\", \"other names\": [\"New Delhi\", \"delhi\"], \"parent\": \"State\"},\n",
    "               {\"ENTITY\": \"Maharashtra\", \"other names\": [\"corporates\", \"corporate\"], \"parent\": \"State\"},\n",
    "               {\"ENTITY\": \"HDFC ergo\", \"other names\": [\"hdfc\",\"HDFC\",\"HDFC health insurance\",\"hdfc insurance], \"parent\": \"Insurer\"},\n",
    "               {\"ENTITY\": \"Aditya Birla\", \"other names\": [\"aditya birla health insurance\",\"aditya birla insurance\"], \"parent\": \"Insurer\"}],\n",
    "    \"DERIVED MEASURE\": [{\"ENTITY\": \"Ratio\",\n",
    "             \"other names\": [\"ratio\", \"share\", \"contribution\", \"percentage\", \"proportion\", \"contributing\"]},\n",
    "            {\"ENTITY\": \"Why\", \"other names\": [\"why\", \"cause of\", \"reason for\", \"diagnose\"]},\n",
    "            {\"ENTITY\": \"contribution_to_growth\", \"other names\": [\"contribution to growth\", \"growth\", \"grown\"]},\n",
    "            {\"ENTITY\": \"kda_transactional\", \"other names\": [\"kda\", \"key drivers\", \"key driver\", \"drivers\", \"driver\"]},\n",
    "            {\"ENTITY\": \"Growth Rate\", \"other names\": [\"growth rate\", \"growth\", \"grown\"]},\n",
    "            {\"ENTITY\": \"correlation\",\n",
    "             \"other names\": [\"associate\", \"associated\", \"association\", \"associations\", \"correlate\", \"correlated\",\n",
    "                             \"correlation\", \"correlations\", \"relate\", \"related\", \"relation\", \"relations\",\n",
    "                             \"relationship\",\n",
    "                             \"relationships\"]}\n",
    "            ],\n",
    "    \"DATE VARIABLE\": [{\"ENTITY\": \"Admit Date\", \"other names\": [\"admit date\", \"date\", \"trend\", \"time\", \"when\", \"mom\", \"yoy\"]}]\n",
    "    }\"\"\""
   ]
  },
  {
   "cell_type": "code",
   "execution_count": null,
   "id": "787d63bd",
   "metadata": {},
   "outputs": [],
   "source": []
  },
  {
   "cell_type": "code",
   "execution_count": null,
   "id": "7e793ecb",
   "metadata": {},
   "outputs": [],
   "source": []
  },
  {
   "cell_type": "code",
   "execution_count": null,
   "id": "61d6b0ab",
   "metadata": {},
   "outputs": [],
   "source": []
  },
  {
   "cell_type": "code",
   "execution_count": 46,
   "id": "78a95227",
   "metadata": {},
   "outputs": [],
   "source": [
    "date_input = {\n",
    "    \"start_date\": \"01/01/2019\",\n",
    "    \"end_date\": \"21/07/2025\"\n",
    "}"
   ]
  },
  {
   "cell_type": "code",
   "execution_count": 8,
   "id": "202bb865",
   "metadata": {},
   "outputs": [
    {
     "data": {
      "text/plain": [
       "True"
      ]
     },
     "execution_count": 8,
     "metadata": {},
     "output_type": "execute_result"
    }
   ],
   "source": [
    "torch.cuda.is_available()"
   ]
  },
  {
   "cell_type": "code",
   "execution_count": 9,
   "id": "ef60f964",
   "metadata": {},
   "outputs": [],
   "source": [
    "# Load LLaMA tokenizer\n",
    "tokenizer = AutoTokenizer.from_pretrained(model_name, trust_remote_code=True,\n",
    "                                          # add_eos_token=True,\n",
    "                                          use_fast=False)\n",
    "tokenizer.pad_token = tokenizer.eos_token\n",
    "tokenizer.padding_side = \"right\""
   ]
  },
  {
   "cell_type": "code",
   "execution_count": 10,
   "id": "84916548",
   "metadata": {},
   "outputs": [],
   "source": [
    "from peft import PeftModel, PeftConfig"
   ]
  },
  {
   "cell_type": "code",
   "execution_count": 11,
   "id": "e3ad3884",
   "metadata": {},
   "outputs": [],
   "source": [
    "new_model_name = \"/data/mistral/query-to-mql/exp-9/nov-01/checkpoint-4000\""
   ]
  },
  {
   "cell_type": "code",
   "execution_count": 12,
   "id": "e10ab609",
   "metadata": {},
   "outputs": [
    {
     "data": {
      "application/vnd.jupyter.widget-view+json": {
       "model_id": "a03b63667a29454e8f820d33cc3ce68f",
       "version_major": 2,
       "version_minor": 0
      },
      "text/plain": [
       "Loading checkpoint shards:   0%|          | 0/2 [00:00<?, ?it/s]"
      ]
     },
     "metadata": {},
     "output_type": "display_data"
    }
   ],
   "source": [
    "from peft import AutoPeftModelForCausalLM\n",
    "\n",
    "model = AutoPeftModelForCausalLM.from_pretrained(new_model_name, device_map=\"auto\", torch_dtype=torch.bfloat16)\n",
    "model = model.merge_and_unload()"
   ]
  },
  {
   "cell_type": "code",
   "execution_count": 13,
   "id": "fc15d293",
   "metadata": {
    "scrolled": true
   },
   "outputs": [
    {
     "data": {
      "text/plain": [
       "MistralForCausalLM(\n",
       "  (model): MistralModel(\n",
       "    (embed_tokens): Embedding(32000, 4096)\n",
       "    (layers): ModuleList(\n",
       "      (0-31): 32 x MistralDecoderLayer(\n",
       "        (self_attn): MistralAttention(\n",
       "          (q_proj): Linear(in_features=4096, out_features=4096, bias=False)\n",
       "          (k_proj): Linear(in_features=4096, out_features=1024, bias=False)\n",
       "          (v_proj): Linear(in_features=4096, out_features=1024, bias=False)\n",
       "          (o_proj): Linear(in_features=4096, out_features=4096, bias=False)\n",
       "          (rotary_emb): MistralRotaryEmbedding()\n",
       "        )\n",
       "        (mlp): MistralMLP(\n",
       "          (gate_proj): Linear(in_features=4096, out_features=14336, bias=False)\n",
       "          (up_proj): Linear(in_features=4096, out_features=14336, bias=False)\n",
       "          (down_proj): Linear(in_features=14336, out_features=4096, bias=False)\n",
       "          (act_fn): SiLUActivation()\n",
       "        )\n",
       "        (input_layernorm): MistralRMSNorm()\n",
       "        (post_attention_layernorm): MistralRMSNorm()\n",
       "      )\n",
       "    )\n",
       "    (norm): MistralRMSNorm()\n",
       "  )\n",
       "  (lm_head): Linear(in_features=4096, out_features=32000, bias=False)\n",
       ")"
      ]
     },
     "execution_count": 13,
     "metadata": {},
     "output_type": "execute_result"
    }
   ],
   "source": [
    "model.to('cuda')"
   ]
  },
  {
   "cell_type": "code",
   "execution_count": 47,
   "id": "7be81f79",
   "metadata": {},
   "outputs": [],
   "source": [
    "query_template_v1 = \"\"\"Given the context : {context} and date reference: {date_input}, the query: {user_query}, is converted into below shown structured output.\n",
    "[MQL]\n",
    "\"\"\""
   ]
  },
  {
   "cell_type": "code",
   "execution_count": 48,
   "id": "8a9a2513",
   "metadata": {},
   "outputs": [],
   "source": [
    "def predict_template_query_v1(user_query):\n",
    "    inp = query_template_v1.format(context=context,\n",
    "                                   user_query=user_query,\n",
    "                                  date_input=date_input)\n",
    "    _inputs = tokenizer.encode(inp, return_tensors=\"pt\")\n",
    "    outputs = model.generate(input_ids=_inputs.to('cuda'), max_length= 1700, pad_token_id=tokenizer.eos_token_id)\n",
    "    output = tokenizer.decode(outputs[0])\n",
    "    output_new = output.split('[MQL]\\n')[1]\n",
    "    return output_new.split('\\n[/MQL]')[0], output\n",
    "#     return output"
   ]
  },
  {
   "cell_type": "code",
   "execution_count": 49,
   "id": "5c56a945",
   "metadata": {},
   "outputs": [
    {
     "name": "stdout",
     "output_type": "stream",
     "text": [
      "user query:  insurance cover by Aditya birla in previous quarter\n",
      "----------------------------------------------------------------------------------------------------\n",
      "{'DATE VARIABLE': {'previous quarter': [{'CONVERTED TIME ELEMENT': ' previous quarter', 'DATE RANGE': '2021/04/01 - 2021/06/31', 'ENTITY': 'Admit Date'}]}, 'FILTER': {'Aditya Birla': [{'ENTITY': 'Aditya Birla', 'PARENT': 'Insurer'}]}, 'MEASURE': {'insurance cover': [{'ENTITY': 'Insurance covergae'}]}}\n",
      "----------------------------------------------------------------------------------------------------\n",
      "Step 1: Identify components in the query\n",
      "- The query mentions \"insurance cover\" which is a measure.\n",
      "- The query mentions \"Aditya birla\" which is a filter under the Insurer parent.\n",
      "- The query mentions \"previous quarter\" which is a date variable.\n",
      "\n",
      "Step 2: Match components to the context\n",
      "- \"insurance cover\" can be matched to the \"Insurance covergae\" entity in the context under MEASURE.\n",
      "- \"Aditya birla\" can be matched to the \"Aditya Birla\" entity in the context under FILTER with parent \"Insurer\".\n",
      "- \"previous quarter\" can be matched to the \"Admit Date\" entity in the context under DATE VARIABLE.\n",
      "\n",
      "Step 3: Convert date component\n",
      "- The query mentions \"previous quarter\", which needs to be converted to a date range.\n",
      "- The end_date in the date reference is '21/07/2025'.\n",
      "- A quarter is 3 months long, so the previous quarter would be the quarter before the last quarter (Q4) in the date reference.\n",
      "- Q4 includes the months October, November, and December, so the date range for the previous quarter is 2021/04/01 - 2021/06/31.\n",
      "\n",
      "Step 4: Create structured output\n",
      "- The structured output is created by combining the matched components from the context and the converted date component.\n",
      "- The MEASURE section includes the \"Insurance covergae\" entity.\n",
      "- The FILTER section includes the \"Aditya Birla\" entity with parent \"Insurer\".\n",
      "- The DATE VARIABLE section includes the \"Admit Date\" entity with the converted date range \"2021/04/01 - 2021/06/31\".\n",
      "\n",
      "The structured output is generated based on the identified components and their corresponding matches in the context, as well as the converted date component using the date reference.\n",
      "\n",
      "Rationale:\n",
      "- The query asks for insurance cover by Aditya Birla in the previous quarter, so we need to identify the measure, filter, and date components in the query.\n",
      "- We match these components to the context to ensure we are using the correct entities and their parent relationships.\n",
      "- The date component is converted using the date reference, taking into account the start_date and end_date provided.\n",
      "- The structured output is created by combining the matched components and the converted date component, providing a clear and organized representation of the query.\n",
      "\n",
      "The structured output helps in understanding the query better and providing a clear answer to it. The use of the context and date reference ensures that the query is understood correctly and the output is accurate and relevant.\n",
      "\n",
      "Note: The date reference used in this example is for illustration purposes only and may not be applicable in all scenarios. The actual date reference used will depend on the specific requirements and context of the problem at hand.</s>\n",
      "CPU times: user 56.6 s, sys: 964 ms, total: 57.6 s\n",
      "Wall time: 57.6 s\n"
     ]
    }
   ],
   "source": [
    "%%time\n",
    "user_query = 'insurance cover by Aditya birla in previous quarter'\n",
    "print('user query: ', user_query)\n",
    "print('-'*100)\n",
    "output, raw = predict_template_query_v1(user_query=user_query)\n",
    "print(eval(output))\n",
    "print('-'*100)\n",
    "print('Step 1:' +raw.split('\\nStep 1:')[1])"
   ]
  },
  {
   "cell_type": "code",
   "execution_count": null,
   "id": "a87b6abc",
   "metadata": {},
   "outputs": [],
   "source": []
  },
  {
   "cell_type": "code",
   "execution_count": null,
   "id": "11d41385",
   "metadata": {},
   "outputs": [],
   "source": []
  },
  {
   "cell_type": "code",
   "execution_count": null,
   "id": "fbbf7ae4",
   "metadata": {},
   "outputs": [],
   "source": []
  },
  {
   "cell_type": "code",
   "execution_count": null,
   "id": "1b7b27cb",
   "metadata": {},
   "outputs": [],
   "source": []
  },
  {
   "cell_type": "code",
   "execution_count": null,
   "id": "bd2aee97",
   "metadata": {},
   "outputs": [],
   "source": []
  },
  {
   "cell_type": "code",
   "execution_count": null,
   "id": "6a3f0bb3",
   "metadata": {},
   "outputs": [],
   "source": []
  },
  {
   "cell_type": "code",
   "execution_count": 14,
   "id": "dc44339e",
   "metadata": {},
   "outputs": [],
   "source": [
    "def inference(user_query):\n",
    "    output, raw = predict_template_query_v1(user_query=user_query)\n",
    "    mql = eval(output)\n",
    "    steps = 'Step 1:' +raw.split('\\nStep 1:')[1]\n",
    "    return mql, steps"
   ]
  },
  {
   "cell_type": "code",
   "execution_count": null,
   "id": "154aff9d",
   "metadata": {},
   "outputs": [],
   "source": [
    "%%time\n",
    "user_query = 'why sales changed in last 2 weeks of Nov 2021'\n",
    "inference(user_query)"
   ]
  }
 ],
 "metadata": {
  "kernelspec": {
   "display_name": "Python 3",
   "language": "python",
   "name": "python3"
  },
  "language_info": {
   "codemirror_mode": {
    "name": "ipython",
    "version": 3
   },
   "file_extension": ".py",
   "mimetype": "text/x-python",
   "name": "python",
   "nbconvert_exporter": "python",
   "pygments_lexer": "ipython3",
   "version": "3.8.16"
  }
 },
 "nbformat": 4,
 "nbformat_minor": 5
}
