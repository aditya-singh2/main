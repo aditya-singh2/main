{
 "cells": [
  {
   "cell_type": "code",
   "execution_count": null,
   "id": "02e6a50b",
   "metadata": {},
   "outputs": [],
   "source": [
    "!pip install  sentence_transformers  unstructured -q"
   ]
  },
  {
   "cell_type": "code",
   "execution_count": null,
   "id": "cd61df87",
   "metadata": {},
   "outputs": [],
   "source": [
    "#!pip install -U pip setuptools"
   ]
  },
  {
   "cell_type": "code",
   "execution_count": 4,
   "id": "315a6e15",
   "metadata": {
    "scrolled": true
   },
   "outputs": [
    {
     "name": "stdout",
     "output_type": "stream",
     "text": [
      "Collecting chromadb\n",
      "\u001b[?25l  Downloading https://files.pythonhosted.org/packages/0d/e9/117169df4027a5475ec6406c49f4c5f0ed2b7a7e46d10f02ab5fc049e9ca/chromadb-0.4.18-py3-none-any.whl (502kB)\n",
      "\u001b[K     |████████████████████████████████| 512kB 7.7MB/s eta 0:00:01\n",
      "\u001b[?25hRequirement already satisfied: PyYAML>=6.0.0 in /opt/conda/lib/python3.8/site-packages (from chromadb) (6.0)\n",
      "Collecting onnxruntime>=1.14.1\n",
      "\u001b[?25l  Downloading https://files.pythonhosted.org/packages/ce/de/689d34a5524721330e03389e5d3171cb759dd5b332d7ee2576f6a2fa678e/onnxruntime-1.16.3-cp38-cp38-manylinux_2_17_x86_64.manylinux2014_x86_64.whl (6.4MB)\n",
      "\u001b[K     |████████████████████████████████| 6.4MB 22.0MB/s eta 0:00:01\n",
      "\u001b[?25hCollecting fastapi>=0.95.2\n",
      "\u001b[?25l  Downloading https://files.pythonhosted.org/packages/f3/4f/0ce34195b63240b6693086496c9bab4ef23999112184399a3e88854c7674/fastapi-0.104.1-py3-none-any.whl (92kB)\n",
      "\u001b[K     |████████████████████████████████| 102kB 8.5MB/s eta 0:00:01\n",
      "\u001b[?25hCollecting tenacity>=8.2.3\n",
      "  Downloading https://files.pythonhosted.org/packages/f4/f1/990741d5bb2487d529d20a433210ffa136a367751e454214013b441c4575/tenacity-8.2.3-py3-none-any.whl\n",
      "Collecting opentelemetry-exporter-otlp-proto-grpc>=1.2.0\n",
      "  Downloading https://files.pythonhosted.org/packages/75/59/ec3e39fe164c61306998cdd3cd30a857c4da2f8d3141204a929e57668eee/opentelemetry_exporter_otlp_proto_grpc-1.21.0-py3-none-any.whl\n",
      "Requirement already satisfied: requests>=2.28 in /opt/conda/lib/python3.8/site-packages (from chromadb) (2.29.0)\n",
      "Collecting graphlib-backport>=1.0.3; python_version < \"3.9\"\n",
      "  Downloading https://files.pythonhosted.org/packages/b0/2a/d77491343f72546943dd79974133a5261b9bc12a80806c34f51a058c0732/graphlib_backport-1.0.3-py3-none-any.whl\n",
      "Collecting mmh3>=4.0.1\n",
      "\u001b[?25l  Downloading https://files.pythonhosted.org/packages/3f/23/50b0ef2bb470d964eda3b1874dfa5aac0ecd296eba5a8644d4db973d23c8/mmh3-4.0.1-cp38-cp38-manylinux_2_5_x86_64.manylinux1_x86_64.manylinux_2_17_x86_64.manylinux2014_x86_64.whl (72kB)\n",
      "\u001b[K     |████████████████████████████████| 81kB 4.7MB/s s eta 0:00:01\n",
      "\u001b[?25hRequirement already satisfied: tokenizers>=0.13.2 in /opt/conda/lib/python3.8/site-packages (from chromadb) (0.13.3)\n",
      "Collecting opentelemetry-api>=1.2.0\n",
      "\u001b[?25l  Downloading https://files.pythonhosted.org/packages/51/3a/945e6c21f405ac4ea526f91ee09cc1568c04e0c95d3392903e6984c8f0e0/opentelemetry_api-1.21.0-py3-none-any.whl (57kB)\n",
      "\u001b[K     |████████████████████████████████| 61kB 4.8MB/s  eta 0:00:01\n",
      "\u001b[?25hCollecting kubernetes>=28.1.0\n",
      "\u001b[?25l  Downloading https://files.pythonhosted.org/packages/f5/6a/1f69c2d8b1ff03f8d8e10d801f4ac3016ed4c1b00aa9795732c6ec900bba/kubernetes-28.1.0-py2.py3-none-any.whl (1.6MB)\n",
      "\u001b[K     |████████████████████████████████| 1.6MB 91.6MB/s eta 0:00:01\n",
      "\u001b[?25hCollecting bcrypt>=4.0.1\n",
      "\u001b[?25l  Downloading https://files.pythonhosted.org/packages/a0/13/259124a851d361a2549560f9a3ccd286d17ef936017314a58cf7dffce8f7/bcrypt-4.1.1-cp37-abi3-manylinux_2_17_x86_64.manylinux2014_x86_64.whl (699kB)\n",
      "\u001b[K     |████████████████████████████████| 706kB 102.2MB/s eta 0:00:01\n",
      "\u001b[?25hCollecting posthog>=2.4.0\n",
      "  Downloading https://files.pythonhosted.org/packages/3b/82/441cb77a43499661228048dcd0d21e0ae3235b442d0f1b9b606e29c2a5ed/posthog-3.1.0-py2.py3-none-any.whl\n",
      "Collecting pulsar-client>=3.1.0\n",
      "\u001b[?25l  Downloading https://files.pythonhosted.org/packages/54/6a/82247e2be137d60a486f37997c0098b7984ad9407fc5e92aa4acfe425428/pulsar_client-3.3.0-cp38-cp38-manylinux_2_17_x86_64.manylinux2014_x86_64.whl (5.4MB)\n",
      "\u001b[K     |████████████████████████████████| 5.4MB 83.4MB/s eta 0:00:01\n",
      "\u001b[?25hRequirement already satisfied: importlib-resources in /opt/conda/lib/python3.8/site-packages (from chromadb) (5.12.0)\n",
      "Collecting overrides>=7.3.1\n",
      "  Downloading https://files.pythonhosted.org/packages/da/28/3fa6ef8297302fc7b3844980b6c5dbc71cdbd4b61e9b2591234214d5ab39/overrides-7.4.0-py3-none-any.whl\n",
      "Collecting grpcio>=1.58.0\n",
      "\u001b[?25l  Downloading https://files.pythonhosted.org/packages/2f/29/03a7b9b054534c3aaeb9ee71685aca2e391a90f55412b3a52f02c598d319/grpcio-1.59.3-cp38-cp38-manylinux_2_17_x86_64.manylinux2014_x86_64.whl (5.3MB)\n",
      "\u001b[K     |████████████████████████████████| 5.3MB 72.5MB/s eta 0:00:01\n",
      "\u001b[?25hCollecting opentelemetry-sdk>=1.2.0\n",
      "\u001b[?25l  Downloading https://files.pythonhosted.org/packages/c3/08/ca8b1ef7a2fa3f1ea2f12770eca8976098066adb442b1da81fea3b370123/opentelemetry_sdk-1.21.0-py3-none-any.whl (105kB)\n",
      "\u001b[K     |████████████████████████████████| 112kB 97.5MB/s eta 0:00:01\n",
      "\u001b[?25hCollecting typer>=0.9.0\n",
      "\u001b[?25l  Downloading https://files.pythonhosted.org/packages/bf/0e/c68adf10adda05f28a6ed7b9f4cd7b8e07f641b44af88ba72d9c89e4de7a/typer-0.9.0-py3-none-any.whl (45kB)\n",
      "\u001b[K     |████████████████████████████████| 51kB 5.7MB/s  eta 0:00:01\n",
      "\u001b[?25hCollecting chroma-hnswlib==0.7.3\n",
      "\u001b[?25l  Downloading https://files.pythonhosted.org/packages/1a/ed/90526fb263945e72760603958c43cdef1a8725d2f6de70dcb21a4b4fa977/chroma_hnswlib-0.7.3-cp38-cp38-manylinux_2_17_x86_64.manylinux2014_x86_64.whl (2.4MB)\n",
      "\u001b[K     |████████████████████████████████| 2.4MB 102.0MB/s eta 0:00:01\n",
      "\u001b[?25hRequirement already satisfied: tqdm>=4.65.0 in /opt/conda/lib/python3.8/site-packages (from chromadb) (4.65.0)\n",
      "Collecting pypika>=0.48.9\n",
      "\u001b[?25l  Downloading https://files.pythonhosted.org/packages/c7/2c/94ed7b91db81d61d7096ac8f2d325ec562fc75e35f3baea8749c85b28784/PyPika-0.48.9.tar.gz (67kB)\n",
      "\u001b[K     |████████████████████████████████| 71kB 4.5MB/s  eta 0:00:01\n",
      "\u001b[?25h  Installing build dependencies ... \u001b[?25ldone\n",
      "\u001b[?25h  Getting requirements to build wheel ... \u001b[?25ldone\n",
      "\u001b[?25h    Preparing wheel metadata ... \u001b[?25ldone\n",
      "\u001b[?25hCollecting opentelemetry-instrumentation-fastapi>=0.41b0\n",
      "  Downloading https://files.pythonhosted.org/packages/0a/47/411f4dd5560f004c4d59e977fb6e1f511babfc399f3656b6eafd8f67c0ce/opentelemetry_instrumentation_fastapi-0.42b0-py3-none-any.whl\n",
      "Collecting uvicorn[standard]>=0.18.3\n",
      "\u001b[?25l  Downloading https://files.pythonhosted.org/packages/7e/17/4b7a76fffa7babf397481040d8aef2725b2b81ae19f1a31b5ca0c17d49e6/uvicorn-0.24.0.post1-py3-none-any.whl (59kB)\n",
      "\u001b[K     |████████████████████████████████| 61kB 5.9MB/s  eta 0:00:01\n",
      "\u001b[?25hCollecting numpy>=1.22.5; python_version >= \"3.8\"\n",
      "\u001b[?25l  Downloading https://files.pythonhosted.org/packages/98/5d/5738903efe0ecb73e51eb44feafba32bdba2081263d40c5043568ff60faf/numpy-1.24.4-cp38-cp38-manylinux_2_17_x86_64.manylinux2014_x86_64.whl (17.3MB)\n",
      "\u001b[K     |████████████████████████████████| 17.3MB 77.4MB/s eta 0:00:01\n",
      "\u001b[?25hCollecting pydantic>=1.9\n",
      "\u001b[?25l  Downloading https://files.pythonhosted.org/packages/0a/2b/64066de1c4cf3d4ed623beeb3bbf3f8d0cc26661f1e7d180ec5eb66b75a5/pydantic-2.5.2-py3-none-any.whl (381kB)\n",
      "\u001b[K     |████████████████████████████████| 389kB 105.7MB/s eta 0:00:01\n",
      "\u001b[?25hCollecting typing-extensions>=4.5.0\n",
      "  Downloading https://files.pythonhosted.org/packages/24/21/7d397a4b7934ff4028987914ac1044d3b7d52712f30e2ac7a2ae5bc86dd0/typing_extensions-4.8.0-py3-none-any.whl\n",
      "Requirement already satisfied: protobuf in /opt/conda/lib/python3.8/site-packages (from onnxruntime>=1.14.1->chromadb) (4.23.4)\n",
      "Collecting flatbuffers\n",
      "  Downloading https://files.pythonhosted.org/packages/6f/12/d5c79ee252793ffe845d58a913197bfa02ae9a0b5c9bc3dc4b58d477b9e7/flatbuffers-23.5.26-py2.py3-none-any.whl\n",
      "Requirement already satisfied: sympy in /opt/conda/lib/python3.8/site-packages (from onnxruntime>=1.14.1->chromadb) (1.11.1)\n",
      "Requirement already satisfied: packaging in /opt/conda/lib/python3.8/site-packages (from onnxruntime>=1.14.1->chromadb) (23.0)\n",
      "Collecting coloredlogs\n",
      "\u001b[?25l  Downloading https://files.pythonhosted.org/packages/a7/06/3d6badcf13db419e25b07041d9c7b4a2c331d3f4e7134445ec5df57714cd/coloredlogs-15.0.1-py2.py3-none-any.whl (46kB)\n",
      "\u001b[K     |████████████████████████████████| 51kB 5.2MB/s  eta 0:00:01\n",
      "\u001b[?25hCollecting starlette<0.28.0,>=0.27.0\n",
      "\u001b[?25l  Downloading https://files.pythonhosted.org/packages/58/f8/e2cca22387965584a409795913b774235752be4176d276714e15e1a58884/starlette-0.27.0-py3-none-any.whl (66kB)\n",
      "\u001b[K     |████████████████████████████████| 71kB 6.6MB/s s eta 0:00:01\n",
      "\u001b[?25hCollecting anyio<4.0.0,>=3.7.1\n",
      "\u001b[?25l  Downloading https://files.pythonhosted.org/packages/19/24/44299477fe7dcc9cb58d0a57d5a7588d6af2ff403fdd2d47a246c91a3246/anyio-3.7.1-py3-none-any.whl (80kB)\n"
     ]
    },
    {
     "name": "stdout",
     "output_type": "stream",
     "text": [
      "\u001b[K     |████████████████████████████████| 81kB 7.1MB/s  eta 0:00:01\n",
      "\u001b[?25hCollecting googleapis-common-protos~=1.52\n",
      "\u001b[?25l  Downloading https://files.pythonhosted.org/packages/21/49/12996dc0238e017504dceea1d121a48bd49fb3f4416f40d59fc3e924b4f3/googleapis_common_protos-1.61.0-py2.py3-none-any.whl (230kB)\n",
      "\u001b[K     |████████████████████████████████| 235kB 109.6MB/s eta 0:00:01\n",
      "\u001b[?25hCollecting backoff<3.0.0,>=1.10.0; python_version >= \"3.7\"\n",
      "  Downloading https://files.pythonhosted.org/packages/df/73/b6e24bd22e6720ca8ee9a85a0c4a2971af8497d8f3193fa05390cbd46e09/backoff-2.2.1-py3-none-any.whl\n",
      "Collecting deprecated>=1.2.6\n",
      "  Downloading https://files.pythonhosted.org/packages/20/8d/778b7d51b981a96554f29136cd59ca7880bf58094338085bcf2a979a0e6a/Deprecated-1.2.14-py2.py3-none-any.whl\n",
      "Collecting opentelemetry-proto==1.21.0\n",
      "\u001b[?25l  Downloading https://files.pythonhosted.org/packages/69/c2/d11b5fbf95adf68440ff4c953e2d8d027c9c62ece79b78372af95af590c9/opentelemetry_proto-1.21.0-py3-none-any.whl (50kB)\n",
      "\u001b[K     |████████████████████████████████| 51kB 5.4MB/s  eta 0:00:01\n",
      "\u001b[?25hCollecting opentelemetry-exporter-otlp-proto-common==1.21.0\n",
      "  Downloading https://files.pythonhosted.org/packages/2a/60/ec618caf8fd8a4ac50500565eb49038ec42b7b168df9a316494085a740a6/opentelemetry_exporter_otlp_proto_common-1.21.0-py3-none-any.whl\n",
      "Requirement already satisfied: idna<4,>=2.5 in /opt/conda/lib/python3.8/site-packages (from requests>=2.28->chromadb) (3.4)\n",
      "Requirement already satisfied: charset-normalizer<4,>=2 in /opt/conda/lib/python3.8/site-packages (from requests>=2.28->chromadb) (2.0.4)\n",
      "Requirement already satisfied: certifi>=2017.4.17 in /opt/conda/lib/python3.8/site-packages (from requests>=2.28->chromadb) (2023.5.7)\n",
      "Requirement already satisfied: urllib3<1.27,>=1.21.1 in /opt/conda/lib/python3.8/site-packages (from requests>=2.28->chromadb) (1.26.15)\n",
      "Requirement already satisfied: importlib-metadata<7.0,>=6.0 in /opt/conda/lib/python3.8/site-packages (from opentelemetry-api>=1.2.0->chromadb) (6.7.0)\n",
      "Requirement already satisfied: six>=1.9.0 in /opt/conda/lib/python3.8/site-packages (from kubernetes>=28.1.0->chromadb) (1.16.0)\n",
      "Requirement already satisfied: oauthlib>=3.2.2 in /opt/conda/lib/python3.8/site-packages (from kubernetes>=28.1.0->chromadb) (3.2.2)\n",
      "Requirement already satisfied: websocket-client!=0.40.0,!=0.41.*,!=0.42.*,>=0.32.0 in /opt/conda/lib/python3.8/site-packages (from kubernetes>=28.1.0->chromadb) (1.6.0)\n",
      "Requirement already satisfied: requests-oauthlib in /opt/conda/lib/python3.8/site-packages (from kubernetes>=28.1.0->chromadb) (1.3.1)\n",
      "Requirement already satisfied: python-dateutil>=2.5.3 in /opt/conda/lib/python3.8/site-packages (from kubernetes>=28.1.0->chromadb) (2.8.2)\n",
      "Requirement already satisfied: google-auth>=1.0.1 in /opt/conda/lib/python3.8/site-packages (from kubernetes>=28.1.0->chromadb) (2.22.0)\n",
      "Collecting monotonic>=1.5\n",
      "  Downloading https://files.pythonhosted.org/packages/9a/67/7e8406a29b6c45be7af7740456f7f37025f0506ae2e05fb9009a53946860/monotonic-1.6-py2.py3-none-any.whl\n",
      "Requirement already satisfied: zipp>=3.1.0; python_version < \"3.10\" in /opt/conda/lib/python3.8/site-packages (from importlib-resources->chromadb) (3.15.0)\n",
      "Collecting opentelemetry-semantic-conventions==0.42b0\n",
      "  Downloading https://files.pythonhosted.org/packages/c3/0c/4c99cbe85b65fbba5a638cb7d913cb3acead3d83b4c47763be28d418bb95/opentelemetry_semantic_conventions-0.42b0-py3-none-any.whl\n",
      "Collecting click<9.0.0,>=7.1.1\n",
      "\u001b[?25l  Downloading https://files.pythonhosted.org/packages/00/2e/d53fa4befbf2cfa713304affc7ca780ce4fc1fd8710527771b58311a3229/click-8.1.7-py3-none-any.whl (97kB)\n",
      "\u001b[K     |████████████████████████████████| 102kB 6.9MB/s  eta 0:00:01\n",
      "\u001b[?25hCollecting opentelemetry-util-http==0.42b0\n",
      "  Downloading https://files.pythonhosted.org/packages/3f/33/7528bd28710e3fd669ee7c5d98bc3392eb4588d451e28352696bb23c1520/opentelemetry_util_http-0.42b0-py3-none-any.whl\n",
      "Collecting opentelemetry-instrumentation-asgi==0.42b0\n",
      "  Downloading https://files.pythonhosted.org/packages/a9/ef/ac6ef3e2c03750588dab596247204e7f960b509af37f0001ac1e4ac23f2a/opentelemetry_instrumentation_asgi-0.42b0-py3-none-any.whl\n",
      "Collecting opentelemetry-instrumentation==0.42b0\n",
      "  Downloading https://files.pythonhosted.org/packages/84/33/8e6b97dcb807c1ba5fd84910c091ae4b1b52d74ea24b0574e19f58cce99c/opentelemetry_instrumentation-0.42b0-py3-none-any.whl\n",
      "Collecting h11>=0.8\n",
      "\u001b[?25l  Downloading https://files.pythonhosted.org/packages/95/04/ff642e65ad6b90db43e668d70ffb6736436c7ce41fcc549f4e9472234127/h11-0.14.0-py3-none-any.whl (58kB)\n",
      "\u001b[K     |████████████████████████████████| 61kB 4.4MB/s  eta 0:00:01\n",
      "\u001b[?25hCollecting httptools>=0.5.0; extra == \"standard\"\n",
      "\u001b[?25l  Downloading https://files.pythonhosted.org/packages/c8/4d/1e14e818a086ce800a57c5025707ecbc66083921754b77f5e41879e132cd/httptools-0.6.1-cp38-cp38-manylinux_2_5_x86_64.manylinux1_x86_64.manylinux_2_17_x86_64.manylinux2014_x86_64.whl (354kB)\n",
      "\u001b[K     |████████████████████████████████| 358kB 80.7MB/s eta 0:00:01\n",
      "\u001b[?25hCollecting uvloop!=0.15.0,!=0.15.1,>=0.14.0; sys_platform != \"win32\" and (sys_platform != \"cygwin\" and platform_python_implementation != \"PyPy\") and extra == \"standard\"\n",
      "\u001b[?25l  Downloading https://files.pythonhosted.org/packages/13/b6/a5cb14acb1417c1660d722c554757e134462f09eb917e6c49907d990d63a/uvloop-0.19.0-cp38-cp38-manylinux_2_17_x86_64.manylinux2014_x86_64.whl (4.0MB)\n",
      "\u001b[K     |████████████████████████████████| 4.0MB 100.5MB/s eta 0:00:01\n",
      "\u001b[?25hCollecting python-dotenv>=0.13; extra == \"standard\"\n",
      "  Downloading https://files.pythonhosted.org/packages/44/2f/62ea1c8b593f4e093cc1a7768f0d46112107e790c3e478532329e434f00b/python_dotenv-1.0.0-py3-none-any.whl\n",
      "Collecting websockets>=10.4; extra == \"standard\"\n",
      "\u001b[?25l  Downloading https://files.pythonhosted.org/packages/e9/bc/646bfbd9badbf59efb48db7265b097e9f626c3530c9d1329a826ef4db6a0/websockets-12.0-cp38-cp38-manylinux_2_5_x86_64.manylinux1_x86_64.manylinux_2_17_x86_64.manylinux2014_x86_64.whl (130kB)\n",
      "\u001b[K     |████████████████████████████████| 133kB 104.3MB/s eta 0:00:01\n",
      "\u001b[?25hCollecting watchfiles>=0.13; extra == \"standard\"\n",
      "\u001b[?25l  Downloading https://files.pythonhosted.org/packages/da/42/90669adbc6293b6543a77ea104c84d8db56a0021cdd51274c8404f10e7d0/watchfiles-0.21.0-cp38-cp38-manylinux_2_17_x86_64.manylinux2014_x86_64.whl (1.3MB)\n",
      "\u001b[K     |████████████████████████████████| 1.4MB 100.7MB/s eta 0:00:01\n",
      "\u001b[?25hCollecting annotated-types>=0.4.0\n",
      "  Downloading https://files.pythonhosted.org/packages/28/78/d31230046e58c207284c6b2c4e8d96e6d3cb4e52354721b944d3e1ee4aa5/annotated_types-0.6.0-py3-none-any.whl\n",
      "Collecting pydantic-core==2.14.5\n",
      "\u001b[?25l  Downloading https://files.pythonhosted.org/packages/ba/95/d1104b88d5e3ad42db30935a4c258da2385139dd216ec8dfbc347a32dbff/pydantic_core-2.14.5-cp38-cp38-manylinux_2_17_x86_64.manylinux2014_x86_64.whl (2.1MB)\n",
      "\u001b[K     |████████████████████████████████| 2.1MB 103.8MB/s eta 0:00:01\n",
      "\u001b[?25hRequirement already satisfied: mpmath>=0.19 in /opt/conda/lib/python3.8/site-packages (from sympy->onnxruntime>=1.14.1->chromadb) (1.2.1)\n",
      "Collecting humanfriendly>=9.1\n",
      "\u001b[?25l  Downloading https://files.pythonhosted.org/packages/f0/0f/310fb31e39e2d734ccaa2c0fb981ee41f7bd5056ce9bc29b2248bd569169/humanfriendly-10.0-py2.py3-none-any.whl (86kB)\n",
      "\u001b[K     |████████████████████████████████| 92kB 7.5MB/s  eta 0:00:01\n",
      "\u001b[?25hRequirement already satisfied: exceptiongroup; python_version < \"3.11\" in /opt/conda/lib/python3.8/site-packages (from anyio<4.0.0,>=3.7.1->fastapi>=0.95.2->chromadb) (1.1.1)\n",
      "Requirement already satisfied: sniffio>=1.1 in /opt/conda/lib/python3.8/site-packages (from anyio<4.0.0,>=3.7.1->fastapi>=0.95.2->chromadb) (1.3.0)\n",
      "Collecting wrapt<2,>=1.10\n",
      "\u001b[?25l  Downloading https://files.pythonhosted.org/packages/ef/c6/56e718e2c58a4078518c14d97e531ef1e9e8a5c1ddafdc0d264a92be1a1a/wrapt-1.16.0-cp38-cp38-manylinux_2_5_x86_64.manylinux1_x86_64.manylinux_2_17_x86_64.manylinux2014_x86_64.whl (83kB)\n",
      "\u001b[K     |████████████████████████████████| 92kB 7.3MB/s s eta 0:00:01\n",
      "\u001b[?25hRequirement already satisfied: rsa<5,>=3.1.4 in /opt/conda/lib/python3.8/site-packages (from google-auth>=1.0.1->kubernetes>=28.1.0->chromadb) (4.9)\n",
      "Requirement already satisfied: cachetools<6.0,>=2.0.0 in /opt/conda/lib/python3.8/site-packages (from google-auth>=1.0.1->kubernetes>=28.1.0->chromadb) (5.3.1)\n",
      "Requirement already satisfied: pyasn1-modules>=0.2.1 in /opt/conda/lib/python3.8/site-packages (from google-auth>=1.0.1->kubernetes>=28.1.0->chromadb) (0.3.0)\n"
     ]
    },
    {
     "name": "stdout",
     "output_type": "stream",
     "text": [
      "Collecting asgiref~=3.0\n",
      "  Downloading https://files.pythonhosted.org/packages/9b/80/b9051a4a07ad231558fcd8ffc89232711b4e618c15cb7a392a17384bbeef/asgiref-3.7.2-py3-none-any.whl\n",
      "Requirement already satisfied: setuptools>=16.0 in /opt/conda/lib/python3.8/site-packages (from opentelemetry-instrumentation==0.42b0->opentelemetry-instrumentation-fastapi>=0.41b0->chromadb) (67.8.0)\n",
      "Requirement already satisfied: pyasn1>=0.1.3 in /opt/conda/lib/python3.8/site-packages (from rsa<5,>=3.1.4->google-auth>=1.0.1->kubernetes>=28.1.0->chromadb) (0.5.0)\n",
      "Building wheels for collected packages: pypika\n",
      "  Building wheel for pypika (PEP 517) ... \u001b[?25ldone\n",
      "\u001b[?25h  Created wheel for pypika: filename=PyPika-0.48.9-cp38-none-any.whl size=53723 sha256=9dc4ab5ec7c004c840fbc04ea0b421df04bea5816d0f7ec962bb510e467711fe\n",
      "  Stored in directory: /root/.cache/pip/wheels/90/54/8b/fb9a88971be610a53c7aeebd5d0c69646a2c24d9f770e2e7ac\n",
      "Successfully built pypika\n",
      "Installing collected packages: flatbuffers, numpy, humanfriendly, coloredlogs, onnxruntime, anyio, typing-extensions, starlette, annotated-types, pydantic-core, pydantic, fastapi, tenacity, googleapis-common-protos, wrapt, deprecated, opentelemetry-api, opentelemetry-semantic-conventions, opentelemetry-sdk, backoff, grpcio, opentelemetry-proto, opentelemetry-exporter-otlp-proto-common, opentelemetry-exporter-otlp-proto-grpc, graphlib-backport, mmh3, kubernetes, bcrypt, monotonic, posthog, pulsar-client, overrides, click, typer, chroma-hnswlib, pypika, opentelemetry-util-http, asgiref, opentelemetry-instrumentation, opentelemetry-instrumentation-asgi, opentelemetry-instrumentation-fastapi, h11, httptools, uvloop, python-dotenv, websockets, watchfiles, uvicorn, chromadb\n",
      "  Found existing installation: numpy 1.21.1\n",
      "    Uninstalling numpy-1.21.1:\n",
      "      Successfully uninstalled numpy-1.21.1\n",
      "  Found existing installation: anyio 3.7.0\n",
      "    Uninstalling anyio-3.7.0:\n",
      "      Successfully uninstalled anyio-3.7.0\n",
      "  Found existing installation: typing-extensions 4.1.1\n",
      "    Uninstalling typing-extensions-4.1.1:\n",
      "      Successfully uninstalled typing-extensions-4.1.1\n",
      "  Found existing installation: grpcio 1.56.2\n",
      "    Uninstalling grpcio-1.56.2:\n",
      "      Successfully uninstalled grpcio-1.56.2\n",
      "Successfully installed annotated-types-0.6.0 anyio-3.7.1 asgiref-3.7.2 backoff-2.2.1 bcrypt-4.1.1 chroma-hnswlib-0.7.3 chromadb-0.4.18 click-8.1.7 coloredlogs-15.0.1 deprecated-1.2.14 fastapi-0.104.1 flatbuffers-23.5.26 googleapis-common-protos-1.61.0 graphlib-backport-1.0.3 grpcio-1.59.3 h11-0.14.0 httptools-0.6.1 humanfriendly-10.0 kubernetes-28.1.0 mmh3-4.0.1 monotonic-1.6 numpy-1.24.4 onnxruntime-1.16.3 opentelemetry-api-1.21.0 opentelemetry-exporter-otlp-proto-common-1.21.0 opentelemetry-exporter-otlp-proto-grpc-1.21.0 opentelemetry-instrumentation-0.42b0 opentelemetry-instrumentation-asgi-0.42b0 opentelemetry-instrumentation-fastapi-0.42b0 opentelemetry-proto-1.21.0 opentelemetry-sdk-1.21.0 opentelemetry-semantic-conventions-0.42b0 opentelemetry-util-http-0.42b0 overrides-7.4.0 posthog-3.1.0 pulsar-client-3.3.0 pydantic-2.5.2 pydantic-core-2.14.5 pypika-0.48.9 python-dotenv-1.0.0 starlette-0.27.0 tenacity-8.2.3 typer-0.9.0 typing-extensions-4.8.0 uvicorn-0.24.0.post1 uvloop-0.19.0 watchfiles-0.21.0 websockets-12.0 wrapt-1.16.0\n"
     ]
    }
   ],
   "source": [
    "!sudo -H pip install chromadb"
   ]
  },
  {
   "cell_type": "code",
   "execution_count": null,
   "id": "260cae8f",
   "metadata": {},
   "outputs": [],
   "source": [
    "#!pip install chromadb"
   ]
  },
  {
   "cell_type": "code",
   "execution_count": null,
   "id": "9390700d",
   "metadata": {},
   "outputs": [],
   "source": [
    "!pip install  openai langchain"
   ]
  },
  {
   "cell_type": "code",
   "execution_count": null,
   "id": "cb885a0a",
   "metadata": {},
   "outputs": [],
   "source": [
    "from langchain.vectorstores import Chroma\n",
    "db = Chroma.from_documents(docs, embeddings)"
   ]
  },
  {
   "cell_type": "code",
   "execution_count": null,
   "id": "1edb5714",
   "metadata": {},
   "outputs": [],
   "source": [
    "from langchain.document_loaders import DirectoryLoader\n",
    "\n",
    "directory = '/data/chromadb_testing'\n",
    "\n",
    "def load_docs(directory):\n",
    "  loader = DirectoryLoader(directory)\n",
    "  documents = loader.load()\n",
    "  return documents\n",
    "\n",
    "documents = load_docs(directory)\n",
    "len(documents)"
   ]
  },
  {
   "cell_type": "code",
   "execution_count": null,
   "id": "0bb11f1d",
   "metadata": {},
   "outputs": [],
   "source": [
    "from langchain.text_splitter import RecursiveCharacterTextSplitter\n",
    "\n",
    "def split_docs(documents,chunk_size=1000,chunk_overlap=20):\n",
    "  text_splitter = RecursiveCharacterTextSplitter(chunk_size=chunk_size, chunk_overlap=chunk_overlap)\n",
    "  docs = text_splitter.split_documents(documents)\n",
    "  return docs\n",
    "\n",
    "docs = split_docs(documents)\n",
    "print(len(docs))"
   ]
  },
  {
   "cell_type": "code",
   "execution_count": null,
   "id": "6e8eba25",
   "metadata": {},
   "outputs": [],
   "source": [
    "from langchain.embeddings import SentenceTransformerEmbeddings\n",
    "embeddings = SentenceTransformerEmbeddings(model_name=\"all-MiniLM-L6-v2\")"
   ]
  },
  {
   "cell_type": "code",
   "execution_count": null,
   "id": "51f90673",
   "metadata": {},
   "outputs": [],
   "source": [
    "!sudo chown mosaic-ai:mosaic-ai /home/mosaic-ai/.cache"
   ]
  },
  {
   "cell_type": "code",
   "execution_count": null,
   "id": "ed9d398a",
   "metadata": {},
   "outputs": [],
   "source": [
    "from langchain.vectorstores import Chroma\n",
    "db = Chroma.from_documents(docs, embeddings)"
   ]
  },
  {
   "cell_type": "code",
   "execution_count": null,
   "id": "ce2a6111",
   "metadata": {},
   "outputs": [],
   "source": [
    "query = \"user guide\"\n",
    "matching_docs = db.similarity_search(query)\n",
    "\n",
    "matching_docs[0]"
   ]
  },
  {
   "cell_type": "code",
   "execution_count": null,
   "id": "6047fd4c",
   "metadata": {},
   "outputs": [],
   "source": [
    "persist_directory = \"/data/chroma_db\"\n",
    "\n",
    "vectordb = Chroma.from_documents(\n",
    "    documents=docs, embedding=embeddings, persist_directory=persist_directory\n",
    ")\n",
    "\n",
    "vectordb.persist()"
   ]
  },
  {
   "cell_type": "code",
   "execution_count": null,
   "id": "75c30f5e",
   "metadata": {},
   "outputs": [],
   "source": []
  }
 ],
 "metadata": {
  "kernelspec": {
   "display_name": "Python 3",
   "language": "python",
   "name": "python3"
  },
  "language_info": {
   "codemirror_mode": {
    "name": "ipython",
    "version": 3
   },
   "file_extension": ".py",
   "mimetype": "text/x-python",
   "name": "python",
   "nbconvert_exporter": "python",
   "pygments_lexer": "ipython3",
   "version": "3.8.16"
  }
 },
 "nbformat": 4,
 "nbformat_minor": 5
}
