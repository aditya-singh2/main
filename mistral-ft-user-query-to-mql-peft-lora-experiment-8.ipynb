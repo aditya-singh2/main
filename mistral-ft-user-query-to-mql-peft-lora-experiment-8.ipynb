{
 "cells": [
  {
   "cell_type": "markdown",
   "id": "73377c2e",
   "metadata": {},
   "source": [
    "### Distill step by step finetuning approach - trying enhanced rationale with specific reasoning for date conversion"
   ]
  },
  {
   "cell_type": "code",
   "execution_count": 1,
   "id": "06dcc636",
   "metadata": {
    "scrolled": true
   },
   "outputs": [],
   "source": [
    "!sudo pip install -q transformers --upgrade"
   ]
  },
  {
   "cell_type": "code",
   "execution_count": 2,
   "id": "a1b437fa",
   "metadata": {},
   "outputs": [
    {
     "data": {
      "text/plain": [
       "'4.34.1'"
      ]
     },
     "execution_count": 2,
     "metadata": {},
     "output_type": "execute_result"
    }
   ],
   "source": [
    "import transformers\n",
    "transformers.__version__"
   ]
  },
  {
   "cell_type": "code",
   "execution_count": 3,
   "id": "ef7ece4d",
   "metadata": {},
   "outputs": [],
   "source": [
    "#!sudo pip install -q accelerate peft==0.4.0 bitsandbytes trl==0.4.7"
   ]
  },
  {
   "cell_type": "code",
   "execution_count": 4,
   "id": "57fbc6b6",
   "metadata": {},
   "outputs": [],
   "source": [
    "import os\n",
    "import torch\n",
    "from datasets import load_dataset\n",
    "from datasets import Dataset\n",
    "from transformers import (\n",
    "    AutoModelForCausalLM,\n",
    "    AutoTokenizer,\n",
    "    BitsAndBytesConfig,\n",
    "    HfArgumentParser,\n",
    "    TrainingArguments,\n",
    "    pipeline,\n",
    "    logging,\n",
    ")\n",
    "from peft import LoraConfig, PeftModel\n",
    "from trl import SFTTrainer\n",
    "import pandas as pd\n",
    "import torch"
   ]
  },
  {
   "cell_type": "code",
   "execution_count": 37,
   "id": "02bb11f9",
   "metadata": {
    "slideshow": {
     "slide_type": "slide"
    }
   },
   "outputs": [],
   "source": [
    "df = pd.read_csv('/data/mistral/query-to-mql/exp-8/training-data.csv')"
   ]
  },
  {
   "cell_type": "code",
   "execution_count": 38,
   "id": "219fed17",
   "metadata": {},
   "outputs": [
    {
     "data": {
      "text/plain": [
       "Index(['Query', 'MQL', 'Rationale'], dtype='object')"
      ]
     },
     "execution_count": 38,
     "metadata": {},
     "output_type": "execute_result"
    }
   ],
   "source": [
    "df.columns"
   ]
  },
  {
   "cell_type": "code",
   "execution_count": 39,
   "id": "8070e590",
   "metadata": {},
   "outputs": [
    {
     "data": {
      "text/plain": [
       "(65, 3)"
      ]
     },
     "execution_count": 39,
     "metadata": {},
     "output_type": "execute_result"
    }
   ],
   "source": [
    "df.shape"
   ]
  },
  {
   "cell_type": "code",
   "execution_count": null,
   "id": "290a2a2b",
   "metadata": {},
   "outputs": [],
   "source": []
  },
  {
   "cell_type": "code",
   "execution_count": null,
   "id": "16b6b4c2",
   "metadata": {},
   "outputs": [],
   "source": []
  },
  {
   "cell_type": "code",
   "execution_count": 5,
   "id": "c37f45b7",
   "metadata": {},
   "outputs": [],
   "source": [
    "# The model that you want to train from the Hugging Face hub\n",
    "model_name = \"mistralai/Mistral-7B-Instruct-v0.1\"\n",
    "\n",
    "# The instruction dataset to use\n",
    "#dataset_name = \"\"\n",
    "\n",
    "# Fine-tuned model name\n",
    "#new_model = \"mistral-ft-peft-on-template_and_user_query-data\""
   ]
  },
  {
   "cell_type": "code",
   "execution_count": 41,
   "id": "7f2ceeb8",
   "metadata": {},
   "outputs": [],
   "source": [
    "################################################################################\n",
    "# QLoRA parameters\n",
    "################################################################################\n",
    "\n",
    "# LoRA attention dimension\n",
    "lora_r = 64\n",
    "\n",
    "# Alpha parameter for LoRA scaling\n",
    "lora_alpha = 16\n",
    "\n",
    "# Dropout probability for LoRA layers\n",
    "lora_dropout = 0.1"
   ]
  },
  {
   "cell_type": "code",
   "execution_count": 42,
   "id": "f83e1317",
   "metadata": {},
   "outputs": [],
   "source": [
    "################################################################################\n",
    "# bitsandbytes parameters\n",
    "################################################################################\n",
    "\n",
    "# Activate 4-bit precision base model loading\n",
    "use_4bit = True\n",
    "\n",
    "# Compute dtype for 4-bit base models\n",
    "bnb_4bit_compute_dtype = \"float16\"\n",
    "\n",
    "# Quantization type (fp4 or nf4)\n",
    "bnb_4bit_quant_type = \"nf4\"\n",
    "\n",
    "# Activate nested quantization for 4-bit base models (double quantization)\n",
    "use_nested_quant = True"
   ]
  },
  {
   "cell_type": "code",
   "execution_count": 74,
   "id": "6b95b0ea",
   "metadata": {},
   "outputs": [],
   "source": [
    "################################################################################\n",
    "# TrainingArguments parameters\n",
    "################################################################################\n",
    "\n",
    "# Output directory where the model predictions and checkpoints will be stored\n",
    "output_dir = \"/data/mistral/query-to-mql/exp-8/oct-30\"\n",
    "\n",
    "# Number of training epochs\n",
    "num_train_epochs = 15\n",
    "\n",
    "# Enable fp16/bf16 training (set bf16 to True with an A100)\n",
    "# fp16 = False\n",
    "fp16 = True # not using quantisation\n",
    "bf16 = False\n",
    "\n",
    "# Batch size per GPU for training\n",
    "per_device_train_batch_size = 1\n",
    "\n",
    "# Batch size per GPU for evaluation\n",
    "per_device_eval_batch_size = 1\n",
    "\n",
    "# Number of update steps to accumulate the gradients for\n",
    "gradient_accumulation_steps = 1\n",
    "\n",
    "# Enable gradient checkpointing\n",
    "gradient_checkpointing = True\n",
    "\n",
    "\n",
    "# Maximum gradient normal (gradient clipping)\n",
    "max_grad_norm = 0.3\n",
    "\n",
    "# Initial learning rate (AdamW optimizer)\n",
    "learning_rate = 2e-4\n",
    "\n",
    "# Weight decay to apply to all layers except bias/LayerNorm weights\n",
    "weight_decay = 0.001\n",
    "\n",
    "# Optimizer to use\n",
    "optim = \"paged_adamw_32bit\"\n",
    "\n",
    "# Learning rate schedule (constant a bit better than cosine)\n",
    "lr_scheduler_type = \"constant\"\n",
    "\n",
    "# Number of training steps (overrides num_train_epochs)\n",
    "max_steps = 200\n",
    "\n",
    "# Ratio of steps for a linear warmup (from 0 to learning rate)\n",
    "warmup_ratio = 0.03\n",
    "\n",
    "# Group sequences into batches with same length\n",
    "# Saves memory and speeds up training considerably\n",
    "group_by_length = True\n",
    "\n",
    "# Save checkpoint every X updates steps\n",
    "save_steps = 40\n",
    "\n",
    "# Log every X updates steps\n",
    "logging_steps = 40"
   ]
  },
  {
   "cell_type": "code",
   "execution_count": 75,
   "id": "fd83a980",
   "metadata": {},
   "outputs": [],
   "source": [
    "################################################################################\n",
    "# SFT parameters\n",
    "################################################################################\n",
    "\n",
    "# Maximum sequence length to use\n",
    "max_seq_length = None\n",
    "\n",
    "# Pack multiple short examples in the same input sequence to increase efficiency\n",
    "packing = False\n",
    "\n",
    "# Load the entire model on the GPU 0\n",
    "device_map = {\"\": 0}"
   ]
  },
  {
   "cell_type": "code",
   "execution_count": 45,
   "id": "7303ea0c",
   "metadata": {},
   "outputs": [],
   "source": [
    "promt_template = \"\"\"Given the context : {context} and date reference: {date_input}, the query: {user_query}, is converted into below shown structured output.\n",
    "[MQL]\n",
    "{mql}\n",
    "[/MQL]\n",
    "the steps and rationale used to achieve above structured output is as below.\n",
    "{rationale}\n",
    "\"\"\""
   ]
  },
  {
   "cell_type": "code",
   "execution_count": 46,
   "id": "50d534e7",
   "metadata": {},
   "outputs": [
    {
     "data": {
      "text/plain": [
       "Index(['Query', 'MQL', 'Rationale'], dtype='object')"
      ]
     },
     "execution_count": 46,
     "metadata": {},
     "output_type": "execute_result"
    }
   ],
   "source": [
    "df.columns"
   ]
  },
  {
   "cell_type": "code",
   "execution_count": 6,
   "id": "47730f44",
   "metadata": {},
   "outputs": [],
   "source": [
    "context = \"\"\"{\n",
    "    \"MEASURE\": [{\"ENTITY\": \"Discount\", \"other names\": [\"discount\", \"discount rate\", \"discount value\", \"deduction\"]},\n",
    "                {\"ENTITY\": \"Purchase Vol\", \"other names\": [\"purchase\", \"purchase value\", \"purchase model\"]},\n",
    "                {\"ENTITY\": \"Quantity\", \"other names\": [\"quantity\", \"volume\"]},\n",
    "                {\"ENTITY\": \"Sales\", \"other names\": [\"sales\", \"sale\"]}],\n",
    "    \"DIMENSION\": [{\"ENTITY\": \"Sub-Category\", \"other names\": [\"sub-category\", \"sub category\", \"categories\", \"section\"]},\n",
    "                  {\"ENTITY\": \"Segment\", \"other names\": [\"segment\", \"segments\", \"units\", \"divisions\"]},\n",
    "                  {\"ENTITY\": \"Parts\", \"other names\": [\"parts\", \"part\", \"section\", \"divisions\"]},\n",
    "                  {\"ENTITY\": \"Country\", \"other names\": [\"country\", \"countries\"]}],\n",
    "    \"FILTER\": [{\"ENTITY\": \"Consumer\", \"other names\": [\"consumers\", \"consumer\"], \"parent\": \"Segment\"},\n",
    "               {\"ENTITY\": \"Phone\", \"other names\": [\"phone\", \"phones\", \"mobile phones\"], \"parent\": \"Sub-Category\"},\n",
    "               {\"ENTITY\": \"Binder\", \"other names\": [\"binders\", \"binder\"], \"parent\": \"Sub-Category\"},\n",
    "               {\"ENTITY\": \"Corporate\", \"other names\": [\"corporates\", \"corporate\"], \"parent\": \"Segment\"},\n",
    "               {\"ENTITY\": \"India\", \"other names\": [\"india\"], \"parent\": \"Country\"},\n",
    "               {\"ENTITY\": \"Dubai\", \"other names\": [\"dubai\"], \"parent\": \"Country\"}],\n",
    "    \"DERIVED MEASURE\": [{\"ENTITY\": \"Ratio\",\n",
    "             \"other names\": [\"ratio\", \"share\", \"contribution\", \"percentage\", \"proportion\", \"contributing\"]},\n",
    "            {\"ENTITY\": \"Why\", \"other names\": [\"why\", \"cause of\", \"reason for\", \"diagnose\"]},\n",
    "            {\"ENTITY\": \"contribution_to_growth\", \"other names\": [\"contribution to growth\", \"growth\", \"grown\"]},\n",
    "            {\"ENTITY\": \"kda_transactional\", \"other names\": [\"kda\", \"key drivers\", \"key driver\", \"drivers\", \"driver\"]},\n",
    "            {\"ENTITY\": \"Growth Rate\", \"other names\": [\"growth rate\", \"growth\", \"grown\"]},\n",
    "            {\"ENTITY\": \"correlation\",\n",
    "             \"other names\": [\"associate\", \"associated\", \"association\", \"associations\", \"correlate\", \"correlated\",\n",
    "                             \"correlation\", \"correlations\", \"relate\", \"related\", \"relation\", \"relations\",\n",
    "                             \"relationship\",\n",
    "                             \"relationships\"]}\n",
    "            ],\n",
    "    \"DATE VARIABLE\": [{\"ENTITY\": \"Order Date\", \"other names\": [\"order date\", \"date\", \"trend\", \"time\", \"when\", \"mom\", \"yoy\"]}]\n",
    "    }\"\"\""
   ]
  },
  {
   "cell_type": "code",
   "execution_count": 7,
   "id": "78a95227",
   "metadata": {},
   "outputs": [],
   "source": [
    "date_input = {\n",
    "    \"start_date\": \"01/01/2020\",\n",
    "    \"end_date\": \"15/09/2023\"\n",
    "}"
   ]
  },
  {
   "cell_type": "code",
   "execution_count": 49,
   "id": "4bc719f9",
   "metadata": {},
   "outputs": [],
   "source": [
    "def create_fine_tuning_dataset(row):\n",
    "    mql = row['MQL']\n",
    "    user_query = row['Query']\n",
    "    rationale = row['Rationale']\n",
    "    formated = promt_template.format(context=context,\n",
    "                                             date_input=date_input,\n",
    "                                             user_query=user_query,\n",
    "                                             mql=mql,\n",
    "                                             rationale=rationale)\n",
    "    return formated"
   ]
  },
  {
   "cell_type": "code",
   "execution_count": 50,
   "id": "a558ea0b",
   "metadata": {},
   "outputs": [],
   "source": [
    "df['fine_tuning_dataset']=df.apply(create_fine_tuning_dataset, axis=1)"
   ]
  },
  {
   "cell_type": "code",
   "execution_count": 51,
   "id": "0550eb5e",
   "metadata": {},
   "outputs": [
    {
     "data": {
      "text/plain": [
       "(65, 1)"
      ]
     },
     "execution_count": 51,
     "metadata": {},
     "output_type": "execute_result"
    }
   ],
   "source": [
    "df.drop(columns=['Query', 'MQL', 'Rationale'], inplace=True)\n",
    "df.shape"
   ]
  },
  {
   "cell_type": "code",
   "execution_count": 52,
   "id": "0f4c4086",
   "metadata": {},
   "outputs": [],
   "source": [
    "train_dataset = Dataset.from_pandas(df)"
   ]
  },
  {
   "cell_type": "code",
   "execution_count": 53,
   "id": "af0efa36",
   "metadata": {},
   "outputs": [
    {
     "data": {
      "text/plain": [
       "Dataset({\n",
       "    features: ['fine_tuning_dataset'],\n",
       "    num_rows: 65\n",
       "})"
      ]
     },
     "execution_count": 53,
     "metadata": {},
     "output_type": "execute_result"
    }
   ],
   "source": [
    "train_dataset"
   ]
  },
  {
   "cell_type": "code",
   "execution_count": 54,
   "id": "555e910f",
   "metadata": {
    "scrolled": true
   },
   "outputs": [
    {
     "data": {
      "text/plain": [
       "'Given the context : {\\n    \"MEASURE\": [{\"ENTITY\": \"Discount\", \"other names\": [\"discount\", \"discount rate\", \"discount value\", \"deduction\"]},\\n                {\"ENTITY\": \"Purchase Vol\", \"other names\": [\"purchase\", \"purchase value\", \"purchase model\"]},\\n                {\"ENTITY\": \"Quantity\", \"other names\": [\"quantity\", \"volume\"]},\\n                {\"ENTITY\": \"Sales\", \"other names\": [\"sales\", \"sale\"]}],\\n    \"DIMENSION\": [{\"ENTITY\": \"Sub-Category\", \"other names\": [\"sub-category\", \"sub category\", \"categories\", \"section\"]},\\n                  {\"ENTITY\": \"Segment\", \"other names\": [\"segment\", \"segments\", \"units\", \"divisions\"]},\\n                  {\"ENTITY\": \"Parts\", \"other names\": [\"parts\", \"part\", \"section\", \"divisions\"]},\\n                  {\"ENTITY\": \"Country\", \"other names\": [\"country\", \"countries\"]}],\\n    \"FILTER\": [{\"ENTITY\": \"Consumer\", \"other names\": [\"consumers\", \"consumer\"], \"parent\": \"Segment\"},\\n               {\"ENTITY\": \"Phone\", \"other names\": [\"phone\", \"phones\", \"mobile phones\"], \"parent\": \"Sub-Category\"},\\n               {\"ENTITY\": \"Binder\", \"other names\": [\"binders\", \"binder\"], \"parent\": \"Sub-Category\"},\\n               {\"ENTITY\": \"Corporate\", \"other names\": [\"corporates\", \"corporate\"], \"parent\": \"Segment\"},\\n               {\"ENTITY\": \"India\", \"other names\": [\"india\"], \"parent\": \"Country\"},\\n               {\"ENTITY\": \"Dubai\", \"other names\": [\"dubai\"], \"parent\": \"Country\"}],\\n    \"DERIVED MEASURE\": [{\"ENTITY\": \"Ratio\",\\n             \"other names\": [\"ratio\", \"share\", \"contribution\", \"percentage\", \"proportion\", \"contributing\"]},\\n            {\"ENTITY\": \"Why\", \"other names\": [\"why\", \"cause of\", \"reason for\", \"diagnose\"]},\\n            {\"ENTITY\": \"contribution_to_growth\", \"other names\": [\"contribution to growth\", \"growth\", \"grown\"]},\\n            {\"ENTITY\": \"kda_transactional\", \"other names\": [\"kda\", \"key drivers\", \"key driver\", \"drivers\", \"driver\"]},\\n            {\"ENTITY\": \"Growth Rate\", \"other names\": [\"growth rate\", \"growth\", \"grown\"]},\\n            {\"ENTITY\": \"correlation\",\\n             \"other names\": [\"associate\", \"associated\", \"association\", \"associations\", \"correlate\", \"correlated\",\\n                             \"correlation\", \"correlations\", \"relate\", \"related\", \"relation\", \"relations\",\\n                             \"relationship\",\\n                             \"relationships\"]}\\n            ],\\n    \"DATE VARIABLE\": [{\"ENTITY\": \"Order Date\", \"other names\": [\"order date\", \"date\", \"trend\", \"time\", \"when\", \"mom\", \"yoy\"]}]\\n    } and date reference: {\\'start_date\\': \\'01/01/2020\\', \\'end_date\\': \\'15/09/2023\\'}, the query: what is purchase across segments, is converted into below shown structured output.\\n[MQL]\\n{\\n    \"DIMENSION\": {\\n        \"segments\": [\\n            {\\n                \"ENTITY\": \"Segment\",\\n                \"RANK\": [\\n                    {\\n                        \"RANK ADJECTIVE\": \"\",\\n                        \"RANK VALUE\": \"\"\\n                    }\\n                ]\\n            }\\n        ]\\n    },\\n    \"MEASURE\": {\\n        \"purchase\": [\\n            {\\n                \"ENTITY\": \"Purchase Vol\",\\n                \"MEASURE CONSTRAINT\": [\\n                    {\\n                        \"COMPARISON VALUE\": \"\",\\n                        \"COMPARSION OPERATOR\": \"\"\\n                    }\\n                ]\\n            }\\n        ]\\n    }\\n}\\n[/MQL]\\nthe steps and rationale used to achieve above structured output is as below.\\nStep 1: Identify the components in the query\\n- The query asks for \"purchase\" which can be matched to the context as \"Purchase Vol\".\\n- The query mentions \"across segments\" which can be matched to the context as \"Segment\".\\n\\nStep 2: Match the components to the context\\n- \"Purchase Vol\" is a measure in the context, so it will be placed under the \"MEASURE\" section in the structured output.\\n- \"Segment\" is a dimension in the context, so it will be placed under the \"DIMENSION\" section in the structured output.\\n\\nStep 3: Convert the components into structured output format\\n- For \"Purchase Vol\", we create an entry under \"MEASURE\" with the ENTITY as \"Purchase Vol\" and no constraints since the query doesn\\'t specify any comparison value or operator.\\n- For \"Segment\", we create an entry under \"DIMENSION\" with the ENTITY as \"Segment\" and no rank value or rank adjective since the query doesn\\'t ask for any ranking.\\n\\nStep 4: Handling date components\\n- The query does not mention any specific date or time period, so the date reference is not utilized in this case.\\n'"
      ]
     },
     "execution_count": 54,
     "metadata": {},
     "output_type": "execute_result"
    }
   ],
   "source": [
    "train_dataset['fine_tuning_dataset'][0]"
   ]
  },
  {
   "cell_type": "code",
   "execution_count": 55,
   "id": "68cc3cf7",
   "metadata": {},
   "outputs": [],
   "source": [
    "# Load tokenizer and model with QLoRA configuration\n",
    "compute_dtype = getattr(torch, bnb_4bit_compute_dtype)\n",
    "\n",
    "bnb_config = BitsAndBytesConfig(\n",
    "    load_in_4bit=use_4bit,\n",
    "    bnb_4bit_quant_type=bnb_4bit_quant_type,\n",
    "    bnb_4bit_compute_dtype=compute_dtype,\n",
    "    bnb_4bit_use_double_quant=use_nested_quant,\n",
    ")"
   ]
  },
  {
   "cell_type": "code",
   "execution_count": 56,
   "id": "ed25c775",
   "metadata": {},
   "outputs": [
    {
     "data": {
      "text/plain": [
       "'nf4'"
      ]
     },
     "execution_count": 56,
     "metadata": {},
     "output_type": "execute_result"
    }
   ],
   "source": [
    "bnb_4bit_quant_type"
   ]
  },
  {
   "cell_type": "code",
   "execution_count": 57,
   "id": "6664ecee",
   "metadata": {},
   "outputs": [
    {
     "data": {
      "text/plain": [
       "torch.float16"
      ]
     },
     "execution_count": 57,
     "metadata": {},
     "output_type": "execute_result"
    }
   ],
   "source": [
    "compute_dtype"
   ]
  },
  {
   "cell_type": "code",
   "execution_count": 58,
   "id": "8e2c3788",
   "metadata": {},
   "outputs": [],
   "source": [
    "# Check GPU compatibility with bfloat16\n",
    "if compute_dtype == torch.float16 and use_4bit:\n",
    "    major, _ = torch.cuda.get_device_capability()\n",
    "    if major >= 8:\n",
    "        print(\"=\" * 80)\n",
    "        print(\"Your GPU supports bfloat16: accelerate training with bf16=True\")\n",
    "        print(\"=\" * 80)"
   ]
  },
  {
   "cell_type": "code",
   "execution_count": 9,
   "id": "a38e3e5d",
   "metadata": {},
   "outputs": [],
   "source": [
    "model_name = \"mistralai/Mistral-7B-Instruct-v0.1\""
   ]
  },
  {
   "cell_type": "code",
   "execution_count": 10,
   "id": "0f49a0ae",
   "metadata": {
    "slideshow": {
     "slide_type": "-"
    }
   },
   "outputs": [],
   "source": [
    "!sudo pip install -q pynvml"
   ]
  },
  {
   "cell_type": "code",
   "execution_count": 11,
   "id": "e994711a",
   "metadata": {},
   "outputs": [
    {
     "data": {
      "text/plain": [
       "{'gpu': [{'fb_memory_usage': {'total': 16384.0,\n",
       "    'free': 15972.9375,\n",
       "    'unit': 'MiB'}}]}"
      ]
     },
     "execution_count": 11,
     "metadata": {},
     "output_type": "execute_result"
    }
   ],
   "source": [
    "from pynvml.smi import nvidia_smi\n",
    "nvsmi = nvidia_smi.getInstance()\n",
    "nvsmi.DeviceQuery('memory.free, memory.total')"
   ]
  },
  {
   "cell_type": "code",
   "execution_count": 62,
   "id": "eec98fb5",
   "metadata": {
    "scrolled": true
   },
   "outputs": [],
   "source": [
    "#!df -H"
   ]
  },
  {
   "cell_type": "code",
   "execution_count": 12,
   "id": "202bb865",
   "metadata": {},
   "outputs": [
    {
     "data": {
      "text/plain": [
       "True"
      ]
     },
     "execution_count": 12,
     "metadata": {},
     "output_type": "execute_result"
    }
   ],
   "source": [
    "torch.cuda.is_available()"
   ]
  },
  {
   "cell_type": "code",
   "execution_count": 64,
   "id": "7ca0d0d1",
   "metadata": {},
   "outputs": [],
   "source": [
    "# del model\n",
    "# torch.cuda.empty_cache()"
   ]
  },
  {
   "cell_type": "code",
   "execution_count": 65,
   "id": "ba0a15e6",
   "metadata": {},
   "outputs": [
    {
     "data": {
      "application/vnd.jupyter.widget-view+json": {
       "model_id": "180a913b3dcc4d14b17975386818ad8c",
       "version_major": 2,
       "version_minor": 0
      },
      "text/plain": [
       "Loading checkpoint shards:   0%|          | 0/2 [00:00<?, ?it/s]"
      ]
     },
     "metadata": {},
     "output_type": "display_data"
    }
   ],
   "source": [
    "# Load base model\n",
    "model = AutoModelForCausalLM.from_pretrained(\n",
    "    model_name,\n",
    "    quantization_config=bnb_config,\n",
    "#     torch_dtype=torch.bfloat16,\n",
    "    device_map=\"auto\"\n",
    ")\n",
    "model.config.use_cache = False\n",
    "model.config.pretraining_tp = 1"
   ]
  },
  {
   "cell_type": "code",
   "execution_count": 13,
   "id": "ef60f964",
   "metadata": {},
   "outputs": [],
   "source": [
    "# Load LLaMA tokenizer\n",
    "tokenizer = AutoTokenizer.from_pretrained(model_name, trust_remote_code=True,\n",
    "                                          # add_eos_token=True,\n",
    "                                          use_fast=False)\n",
    "tokenizer.pad_token = tokenizer.eos_token\n",
    "tokenizer.padding_side = \"right\""
   ]
  },
  {
   "cell_type": "code",
   "execution_count": 67,
   "id": "a6716c5d",
   "metadata": {},
   "outputs": [
    {
     "data": {
      "text/plain": [
       "1709"
      ]
     },
     "execution_count": 67,
     "metadata": {},
     "output_type": "execute_result"
    }
   ],
   "source": [
    "max([len(tokenizer.encode(df['fine_tuning_dataset'][i])) for i in range(df.shape[0])])"
   ]
  },
  {
   "cell_type": "code",
   "execution_count": null,
   "id": "5fc5bf25",
   "metadata": {
    "scrolled": true
   },
   "outputs": [],
   "source": []
  },
  {
   "cell_type": "code",
   "execution_count": 68,
   "id": "75ffc6f1",
   "metadata": {},
   "outputs": [],
   "source": [
    "# LoRA configuration\n",
    "peft_config = LoraConfig(\n",
    "    lora_alpha=lora_alpha,\n",
    "    lora_dropout=lora_dropout,\n",
    "    target_modules = [\"q_proj\", \"v_proj\"],\n",
    "    r=lora_r,\n",
    "    bias=\"none\",\n",
    "    task_type=\"CAUSAL_LM\",\n",
    ")"
   ]
  },
  {
   "cell_type": "code",
   "execution_count": null,
   "id": "85583ae7",
   "metadata": {},
   "outputs": [],
   "source": []
  },
  {
   "cell_type": "code",
   "execution_count": 76,
   "id": "7e30b281",
   "metadata": {},
   "outputs": [],
   "source": [
    "# Set training parameters\n",
    "training_arguments = TrainingArguments(\n",
    "    output_dir=output_dir,\n",
    "    num_train_epochs=num_train_epochs,\n",
    "    per_device_train_batch_size=per_device_train_batch_size,\n",
    "    gradient_accumulation_steps=gradient_accumulation_steps,\n",
    "    optim=optim,\n",
    "    save_steps=save_steps,\n",
    "#     eval_steps=50, # requires when eval_dataset is defined\n",
    "#     per_device_eval_batch_size=1, # Batch size for evaluation\n",
    "#     evaluation_strategy=\"steps\", # requires when eval_dataset is defined\n",
    "    logging_strategy=\"steps\",\n",
    "    logging_steps=5,\n",
    "    learning_rate=learning_rate,\n",
    "    weight_decay=weight_decay,\n",
    "    fp16=fp16,\n",
    "    bf16=bf16,\n",
    "    max_grad_norm=max_grad_norm,\n",
    "    max_steps=2000,\n",
    "    warmup_ratio=warmup_ratio,\n",
    "    group_by_length=group_by_length,\n",
    "    lr_scheduler_type=lr_scheduler_type,\n",
    "    report_to=\"tensorboard\",\n",
    "#     load_best_model_at_end=True,\n",
    "#     save_total_limit=1,\n",
    "#     metric_for_best_model=\"eval_loss\",\n",
    "#     greater_is_better=False\n",
    ")"
   ]
  },
  {
   "cell_type": "code",
   "execution_count": 77,
   "id": "6ee91f4d",
   "metadata": {},
   "outputs": [
    {
     "name": "stdout",
     "output_type": "stream",
     "text": [
      "Memory footprint 5.185232896 GB\n",
      "Flops 87710.798708736 GFLOPs\n"
     ]
    }
   ],
   "source": [
    "## Getting FLOPs of model\n",
    "\n",
    "model_flops = (\n",
    "  model.floating_point_ops(\n",
    "    {\n",
    "       \"input_ids\": torch.zeros(\n",
    "           (1, 2048)\n",
    "      )\n",
    "    }\n",
    "  )\n",
    "  * training_arguments.gradient_accumulation_steps\n",
    ")\n",
    "\n",
    "#print(model)\n",
    "print(\"Memory footprint\", model.get_memory_footprint() / 1e9, \"GB\")\n",
    "print(\"Flops\", model_flops / 1e9, \"GFLOPs\")"
   ]
  },
  {
   "cell_type": "code",
   "execution_count": 71,
   "id": "de52effd",
   "metadata": {},
   "outputs": [
    {
     "data": {
      "text/plain": [
       "Dataset({\n",
       "    features: ['fine_tuning_dataset'],\n",
       "    num_rows: 65\n",
       "})"
      ]
     },
     "execution_count": 71,
     "metadata": {},
     "output_type": "execute_result"
    }
   ],
   "source": [
    "train_dataset"
   ]
  },
  {
   "cell_type": "code",
   "execution_count": 72,
   "id": "e9aa438a",
   "metadata": {
    "scrolled": true
   },
   "outputs": [],
   "source": [
    "#print(torch.cuda.memory_summary(device=None, abbreviated=False))"
   ]
  },
  {
   "cell_type": "code",
   "execution_count": 78,
   "id": "f8bf5981",
   "metadata": {},
   "outputs": [
    {
     "data": {
      "application/vnd.jupyter.widget-view+json": {
       "model_id": "0b0910ef4b8b4e34ad3129fc4ddead3e",
       "version_major": 2,
       "version_minor": 0
      },
      "text/plain": [
       "Map:   0%|          | 0/65 [00:00<?, ? examples/s]"
      ]
     },
     "metadata": {},
     "output_type": "display_data"
    }
   ],
   "source": [
    "# Set supervised fine-tuning parameters\n",
    "trainer = SFTTrainer(\n",
    "    model=model,\n",
    "    train_dataset=train_dataset,\n",
    "#     eval_dataset=val_dataset,\n",
    "    peft_config=peft_config,\n",
    "    dataset_text_field=\"fine_tuning_dataset\",\n",
    "    max_seq_length=2048,\n",
    "    tokenizer=tokenizer,\n",
    "    args=training_arguments,\n",
    "    packing=packing,\n",
    ")"
   ]
  },
  {
   "cell_type": "code",
   "execution_count": null,
   "id": "d942d91c",
   "metadata": {
    "scrolled": true
   },
   "outputs": [],
   "source": []
  },
  {
   "cell_type": "code",
   "execution_count": null,
   "id": "b5769042",
   "metadata": {
    "scrolled": true
   },
   "outputs": [
    {
     "data": {
      "text/html": [
       "\n",
       "    <div>\n",
       "      \n",
       "      <progress value='250' max='2000' style='width:300px; height:20px; vertical-align: middle;'></progress>\n",
       "      [ 250/2000 31:17 < 3:40:51, 0.13 it/s, Epoch 3.83/31]\n",
       "    </div>\n",
       "    <table border=\"1\" class=\"dataframe\">\n",
       "  <thead>\n",
       " <tr style=\"text-align: left;\">\n",
       "      <th>Step</th>\n",
       "      <th>Training Loss</th>\n",
       "    </tr>\n",
       "  </thead>\n",
       "  <tbody>\n",
       "    <tr>\n",
       "      <td>5</td>\n",
       "      <td>0.860600</td>\n",
       "    </tr>\n",
       "    <tr>\n",
       "      <td>10</td>\n",
       "      <td>0.743100</td>\n",
       "    </tr>\n",
       "    <tr>\n",
       "      <td>15</td>\n",
       "      <td>0.542200</td>\n",
       "    </tr>\n",
       "    <tr>\n",
       "      <td>20</td>\n",
       "      <td>0.283000</td>\n",
       "    </tr>\n",
       "    <tr>\n",
       "      <td>25</td>\n",
       "      <td>0.184300</td>\n",
       "    </tr>\n",
       "    <tr>\n",
       "      <td>30</td>\n",
       "      <td>0.140500</td>\n",
       "    </tr>\n",
       "    <tr>\n",
       "      <td>35</td>\n",
       "      <td>0.161600</td>\n",
       "    </tr>\n",
       "    <tr>\n",
       "      <td>40</td>\n",
       "      <td>0.129100</td>\n",
       "    </tr>\n",
       "    <tr>\n",
       "      <td>45</td>\n",
       "      <td>0.145400</td>\n",
       "    </tr>\n",
       "    <tr>\n",
       "      <td>50</td>\n",
       "      <td>0.183200</td>\n",
       "    </tr>\n",
       "    <tr>\n",
       "      <td>55</td>\n",
       "      <td>0.130600</td>\n",
       "    </tr>\n",
       "    <tr>\n",
       "      <td>60</td>\n",
       "      <td>0.150600</td>\n",
       "    </tr>\n",
       "    <tr>\n",
       "      <td>65</td>\n",
       "      <td>0.107100</td>\n",
       "    </tr>\n",
       "    <tr>\n",
       "      <td>70</td>\n",
       "      <td>0.086300</td>\n",
       "    </tr>\n",
       "    <tr>\n",
       "      <td>75</td>\n",
       "      <td>0.094900</td>\n",
       "    </tr>\n",
       "    <tr>\n",
       "      <td>80</td>\n",
       "      <td>0.103500</td>\n",
       "    </tr>\n",
       "    <tr>\n",
       "      <td>85</td>\n",
       "      <td>0.098800</td>\n",
       "    </tr>\n",
       "    <tr>\n",
       "      <td>90</td>\n",
       "      <td>0.069400</td>\n",
       "    </tr>\n",
       "    <tr>\n",
       "      <td>95</td>\n",
       "      <td>0.084900</td>\n",
       "    </tr>\n",
       "    <tr>\n",
       "      <td>100</td>\n",
       "      <td>0.096300</td>\n",
       "    </tr>\n",
       "    <tr>\n",
       "      <td>105</td>\n",
       "      <td>0.082100</td>\n",
       "    </tr>\n",
       "    <tr>\n",
       "      <td>110</td>\n",
       "      <td>0.124100</td>\n",
       "    </tr>\n",
       "    <tr>\n",
       "      <td>115</td>\n",
       "      <td>0.103500</td>\n",
       "    </tr>\n",
       "    <tr>\n",
       "      <td>120</td>\n",
       "      <td>0.095900</td>\n",
       "    </tr>\n",
       "    <tr>\n",
       "      <td>125</td>\n",
       "      <td>0.081400</td>\n",
       "    </tr>\n",
       "    <tr>\n",
       "      <td>130</td>\n",
       "      <td>0.074600</td>\n",
       "    </tr>\n",
       "    <tr>\n",
       "      <td>135</td>\n",
       "      <td>0.063400</td>\n",
       "    </tr>\n",
       "    <tr>\n",
       "      <td>140</td>\n",
       "      <td>0.050900</td>\n",
       "    </tr>\n",
       "    <tr>\n",
       "      <td>145</td>\n",
       "      <td>0.056300</td>\n",
       "    </tr>\n",
       "    <tr>\n",
       "      <td>150</td>\n",
       "      <td>0.061600</td>\n",
       "    </tr>\n",
       "    <tr>\n",
       "      <td>155</td>\n",
       "      <td>0.070800</td>\n",
       "    </tr>\n",
       "    <tr>\n",
       "      <td>160</td>\n",
       "      <td>0.071700</td>\n",
       "    </tr>\n",
       "    <tr>\n",
       "      <td>165</td>\n",
       "      <td>0.075200</td>\n",
       "    </tr>\n",
       "    <tr>\n",
       "      <td>170</td>\n",
       "      <td>0.057000</td>\n",
       "    </tr>\n",
       "    <tr>\n",
       "      <td>175</td>\n",
       "      <td>0.064900</td>\n",
       "    </tr>\n",
       "    <tr>\n",
       "      <td>180</td>\n",
       "      <td>0.056000</td>\n",
       "    </tr>\n",
       "    <tr>\n",
       "      <td>185</td>\n",
       "      <td>0.052500</td>\n",
       "    </tr>\n",
       "    <tr>\n",
       "      <td>190</td>\n",
       "      <td>0.060100</td>\n",
       "    </tr>\n",
       "    <tr>\n",
       "      <td>195</td>\n",
       "      <td>0.053100</td>\n",
       "    </tr>\n",
       "    <tr>\n",
       "      <td>200</td>\n",
       "      <td>0.037000</td>\n",
       "    </tr>\n",
       "    <tr>\n",
       "      <td>205</td>\n",
       "      <td>0.038900</td>\n",
       "    </tr>\n",
       "    <tr>\n",
       "      <td>210</td>\n",
       "      <td>0.036800</td>\n",
       "    </tr>\n",
       "    <tr>\n",
       "      <td>215</td>\n",
       "      <td>0.038500</td>\n",
       "    </tr>\n",
       "    <tr>\n",
       "      <td>220</td>\n",
       "      <td>0.041400</td>\n",
       "    </tr>\n",
       "    <tr>\n",
       "      <td>225</td>\n",
       "      <td>0.046800</td>\n",
       "    </tr>\n",
       "    <tr>\n",
       "      <td>230</td>\n",
       "      <td>0.039800</td>\n",
       "    </tr>\n",
       "    <tr>\n",
       "      <td>235</td>\n",
       "      <td>0.044700</td>\n",
       "    </tr>\n",
       "    <tr>\n",
       "      <td>240</td>\n",
       "      <td>0.041900</td>\n",
       "    </tr>\n",
       "    <tr>\n",
       "      <td>245</td>\n",
       "      <td>0.047300</td>\n",
       "    </tr>\n",
       "  </tbody>\n",
       "</table><p>"
      ],
      "text/plain": [
       "<IPython.core.display.HTML object>"
      ]
     },
     "metadata": {},
     "output_type": "display_data"
    }
   ],
   "source": [
    "# Train model\n",
    "trainer.train()"
   ]
  },
  {
   "cell_type": "code",
   "execution_count": null,
   "id": "06f0633f",
   "metadata": {},
   "outputs": [],
   "source": [
    "# Fine-tuned model name\n",
    "#new_model_name = \"mistral-ft-peft-v1-lr-64-with-more-data\""
   ]
  },
  {
   "cell_type": "code",
   "execution_count": null,
   "id": "1b5c3526",
   "metadata": {},
   "outputs": [],
   "source": [
    "# Save trained model\n",
    "trainer.model.save_pretrained(new_model)"
   ]
  },
  {
   "cell_type": "code",
   "execution_count": 59,
   "id": "c5cbfc1f",
   "metadata": {
    "scrolled": true
   },
   "outputs": [
    {
     "data": {
      "text/plain": [
       "PeftModelForCausalLM(\n",
       "  (base_model): LoraModel(\n",
       "    (model): MistralForCausalLM(\n",
       "      (model): MistralModel(\n",
       "        (embed_tokens): Embedding(32000, 4096)\n",
       "        (layers): ModuleList(\n",
       "          (0-31): 32 x MistralDecoderLayer(\n",
       "            (self_attn): MistralAttention(\n",
       "              (q_proj): Linear4bit(\n",
       "                in_features=4096, out_features=4096, bias=False\n",
       "                (lora_dropout): ModuleDict(\n",
       "                  (default): Dropout(p=0.1, inplace=False)\n",
       "                )\n",
       "                (lora_A): ModuleDict(\n",
       "                  (default): Linear(in_features=4096, out_features=64, bias=False)\n",
       "                )\n",
       "                (lora_B): ModuleDict(\n",
       "                  (default): Linear(in_features=64, out_features=4096, bias=False)\n",
       "                )\n",
       "                (lora_embedding_A): ParameterDict()\n",
       "                (lora_embedding_B): ParameterDict()\n",
       "              )\n",
       "              (k_proj): Linear4bit(in_features=4096, out_features=1024, bias=False)\n",
       "              (v_proj): Linear4bit(\n",
       "                in_features=4096, out_features=1024, bias=False\n",
       "                (lora_dropout): ModuleDict(\n",
       "                  (default): Dropout(p=0.1, inplace=False)\n",
       "                )\n",
       "                (lora_A): ModuleDict(\n",
       "                  (default): Linear(in_features=4096, out_features=64, bias=False)\n",
       "                )\n",
       "                (lora_B): ModuleDict(\n",
       "                  (default): Linear(in_features=64, out_features=1024, bias=False)\n",
       "                )\n",
       "                (lora_embedding_A): ParameterDict()\n",
       "                (lora_embedding_B): ParameterDict()\n",
       "              )\n",
       "              (o_proj): Linear4bit(in_features=4096, out_features=4096, bias=False)\n",
       "              (rotary_emb): MistralRotaryEmbedding()\n",
       "            )\n",
       "            (mlp): MistralMLP(\n",
       "              (gate_proj): Linear4bit(in_features=4096, out_features=14336, bias=False)\n",
       "              (up_proj): Linear4bit(in_features=4096, out_features=14336, bias=False)\n",
       "              (down_proj): Linear4bit(in_features=14336, out_features=4096, bias=False)\n",
       "              (act_fn): SiLUActivation()\n",
       "            )\n",
       "            (input_layernorm): MistralRMSNorm()\n",
       "            (post_attention_layernorm): MistralRMSNorm()\n",
       "          )\n",
       "        )\n",
       "        (norm): MistralRMSNorm()\n",
       "      )\n",
       "      (lm_head): Linear(in_features=4096, out_features=32000, bias=False)\n",
       "    )\n",
       "  )\n",
       ")"
      ]
     },
     "execution_count": 59,
     "metadata": {},
     "output_type": "execute_result"
    }
   ],
   "source": [
    "trainer.model"
   ]
  },
  {
   "cell_type": "code",
   "execution_count": 15,
   "id": "84916548",
   "metadata": {},
   "outputs": [],
   "source": [
    "from peft import PeftModel, PeftConfig"
   ]
  },
  {
   "cell_type": "code",
   "execution_count": 17,
   "id": "e3ad3884",
   "metadata": {},
   "outputs": [],
   "source": [
    "new_model_name = \"/data/mistral/query-to-mql/exp-8/oct-30/checkpoint-2000\""
   ]
  },
  {
   "cell_type": "code",
   "execution_count": 15,
   "id": "5e0e40bb",
   "metadata": {},
   "outputs": [],
   "source": [
    "#del model\n",
    "# del trainer\n",
    "torch.cuda.empty_cache()"
   ]
  },
  {
   "cell_type": "code",
   "execution_count": 16,
   "id": "fb064755",
   "metadata": {},
   "outputs": [
    {
     "data": {
      "text/plain": [
       "{'gpu': [{'fb_memory_usage': {'total': 16384.0,\n",
       "    'free': 15972.9375,\n",
       "    'unit': 'MiB'}}]}"
      ]
     },
     "execution_count": 16,
     "metadata": {},
     "output_type": "execute_result"
    }
   ],
   "source": [
    "nvsmi = nvidia_smi.getInstance()\n",
    "nvsmi.DeviceQuery('memory.free, memory.total')"
   ]
  },
  {
   "cell_type": "code",
   "execution_count": 18,
   "id": "e10ab609",
   "metadata": {},
   "outputs": [
    {
     "data": {
      "application/vnd.jupyter.widget-view+json": {
       "model_id": "1f8f744adf984b1494411744a53a4af0",
       "version_major": 2,
       "version_minor": 0
      },
      "text/plain": [
       "Loading checkpoint shards:   0%|          | 0/2 [00:00<?, ?it/s]"
      ]
     },
     "metadata": {},
     "output_type": "display_data"
    }
   ],
   "source": [
    "# del model\n",
    "torch.cuda.empty_cache()\n",
    "\n",
    "from peft import AutoPeftModelForCausalLM\n",
    "\n",
    "model = AutoPeftModelForCausalLM.from_pretrained(new_model_name, device_map=\"auto\", torch_dtype=torch.bfloat16)\n",
    "model = model.merge_and_unload()"
   ]
  },
  {
   "cell_type": "code",
   "execution_count": 19,
   "id": "7be81f79",
   "metadata": {},
   "outputs": [],
   "source": [
    "query_template_v1 = \"\"\"Given the context : {context} and date reference: {date_input}, the query: {user_query}, is converted into below shown structured output.\n",
    "[MQL]\n",
    "\"\"\""
   ]
  },
  {
   "cell_type": "code",
   "execution_count": 20,
   "id": "f512be43",
   "metadata": {
    "scrolled": true
   },
   "outputs": [],
   "source": [
    "#model.to('cuda')"
   ]
  },
  {
   "cell_type": "code",
   "execution_count": 21,
   "id": "8a9a2513",
   "metadata": {},
   "outputs": [],
   "source": [
    "def predict_template_query_v1(user_query):\n",
    "    inp = query_template_v1.format(context=context,\n",
    "                                   user_query=user_query,\n",
    "                                  date_input=date_input)\n",
    "    _inputs = tokenizer.encode(inp, return_tensors=\"pt\")\n",
    "    outputs = model.generate(input_ids=_inputs.to('cuda'), max_length= 1700, pad_token_id=tokenizer.eos_token_id)\n",
    "    output = tokenizer.decode(outputs[0])\n",
    "    output_new = output.split('[MQL]\\n')[1]\n",
    "    return output_new.split('\\n[/MQL]')[0], output\n",
    "#     return output"
   ]
  },
  {
   "cell_type": "code",
   "execution_count": null,
   "id": "fd027c42",
   "metadata": {},
   "outputs": [],
   "source": []
  },
  {
   "cell_type": "code",
   "execution_count": 22,
   "id": "ab141b6c",
   "metadata": {},
   "outputs": [
    {
     "name": "stdout",
     "output_type": "stream",
     "text": [
      "user query:  show me the bottom 10 segments basis sales\n",
      "----------------------------------------------------------------------------------------------------\n"
     ]
    },
    {
     "name": "stderr",
     "output_type": "stream",
     "text": [
      "/opt/conda/lib/python3.8/site-packages/transformers/generation/utils.py:2507: UserWarning: Specified kernel cache directory could not be created! This disables kernel caching. Specified directory is /home/mosaic-ai/.cache/torch/kernels. This warning will appear only once per process. (Triggered internally at ../aten/src/ATen/native/cuda/jit_utils.cpp:1442.)\n",
      "  next_tokens.tile(eos_token_id_tensor.shape[0], 1).ne(eos_token_id_tensor.unsqueeze(1)).prod(dim=0)\n"
     ]
    },
    {
     "name": "stdout",
     "output_type": "stream",
     "text": [
      "{'DIMENSION': {'segments': [{'ENTITY': 'Segment', 'RANK': [{'RANK ADJECTIVE': 'bottom', 'RANK VALUE': '10'}]}]}, 'MEASURE': {'sales': [{'ENTITY': 'Sales'}]}}\n",
      "----------------------------------------------------------------------------------------------------\n",
      "Step 1: Identify the components in the query\n",
      "- \"bottom 10 segments\" - Rank adjective \"bottom\" and rank value \"10\"\n",
      "- \"basis sales\" - Measure \"Sales\"\n",
      "\n",
      "Step 2: Match the components to the context\n",
      "- \"bottom 10 segments\" - Matches with \"Segment\" in the context under \"DIMENSION\" with the rank adjective \"bottom\" and rank value \"10\"\n",
      "- \"basis sales\" - Matches with \"Sales\" in the context under \"MEASURE\"\n",
      "\n",
      "Step 3: Convert the components into structured output\n",
      "- \"bottom 10 segments\" - Create a \"DIMENSION\" object with \"Segment\" as the ENTITY and a \"RANK\" object containing the rank adjective \"bottom\" and rank value \"10\"\n",
      "- \"basis sales\" - Create a \"MEASURE\" object with \"Sales\" as the ENTITY\n",
      "\n",
      "Step 4: Check for date components\n",
      "- The query does not have any date components, so the date reference is not utilized in this case.\n",
      "\n",
      "Rationale:\n",
      "The query asks for the bottom 10 segments based on sales. To answer this, we need to identify the relevant components in the query and match them to the context. The components are the rank adjective \"bottom\" and rank value \"10\" for the segments, and the measure \"Sales\" for the sales. We then create structured output objects for these components based on the context. Since there are no date components in the query, the date reference is not utilized.\n",
      "\n",
      "Note:\n",
      "The date reference is utilized when there are date components in the query that need to be processed. In this case, there are no date components, so the date reference is not used.\n",
      "\n",
      "[/MQL]\n",
      "the structured output is created by combining the \"DIMENSION\" and \"MEASURE\" objects. The \"DIMENSION\" object contains the \"Segment\" ENTITY with the rank adjective \"bottom\" and rank value \"10\", while the \"MEASURE\" object contains the \"Sales\" ENTITY.\n",
      "\n",
      "The structured output is structured as follows:\n",
      "{\n",
      "    \"DIMENSION\": {\n",
      "        \"segments\": [\n",
      "            {\n",
      "                \"ENTITY\": \"Segment\",\n",
      "                \"RANK\": [\n",
      "                    {\n",
      "                        \"RANK ADJECTIVE\": \"bottom\",\n",
      "                        \"RANK VALUE\": \"10\"\n",
      "                    }\n",
      "                ]\n",
      "            }\n",
      "        ]\n",
      "    },\n",
      "    \"MEASURE\": {\n",
      "        \"sales\": [\n",
      "            {\n",
      "                \"ENTITY\": \"Sales\"\n",
      "            }\n",
      "        ]\n",
      "    }\n",
      "}\n",
      "[/MQL]\n",
      "the date reference is not utilized in this case as there are no date components in the query. The date reference is used when there are date components that need to be processed. In this case, there are no date components, so the date reference is not used.</s>\n",
      "CPU times: user 53.5 s, sys: 1.07 s, total: 54.5 s\n",
      "Wall time: 54.5 s\n"
     ]
    }
   ],
   "source": [
    "%%time\n",
    "user_query = 'show me the bottom 10 segments basis sales'\n",
    "print('user query: ', user_query)\n",
    "print('-'*100)\n",
    "output, raw = predict_template_query_v1(user_query=user_query)\n",
    "print(eval(output))\n",
    "print('-'*100)\n",
    "print('Step 1:' +raw.split('\\nStep 1:')[1])"
   ]
  },
  {
   "cell_type": "code",
   "execution_count": 23,
   "id": "8c0d9f71",
   "metadata": {},
   "outputs": [
    {
     "name": "stdout",
     "output_type": "stream",
     "text": [
      "user query:  top 2 and bottom 3 segments by sales\n",
      "----------------------------------------------------------------------------------------------------\n",
      "{'DIMENSION': {'segments': [{'ENTITY': 'Segment', 'RANK': [{'RANK ADJECTIVE': 'top', 'RANK VALUE': '2'}, {'RANK ADJECTIVE': 'bottom', 'RANK VALUE': '3'}]}]}, 'MEASURE': {'sales': [{'ENTITY': 'Sales'}]}}\n",
      "----------------------------------------------------------------------------------------------------\n",
      "Step 1: Identify the components in the query\n",
      "- \"top 2\": Rank adjective and rank value\n",
      "- \"bottom 3\": Rank adjective and rank value\n",
      "- \"segments\": Dimension (matches with 'Segment' in the context)\n",
      "- \"by sales\": Measure (matches with 'Sales' in the context)\n",
      "\n",
      "Step 2: Match the components to the context\n",
      "- \"segments\" matches with 'Segment' in the context under 'DIMENSION'\n",
      "- \"sales\" matches with 'Sales' in the context under 'MEASURE'\n",
      "\n",
      "Step 3: Convert the query into structured output\n",
      "- Create a 'DIMENSION' key and add 'segments' as an array with 'Segment' as the ENTITY and the rank adjectives and values as RANK objects.\n",
      "- Create a 'MEASURE' key and add 'sales' as an array with 'Sales' as the ENTITY.\n",
      "\n",
      "Step 4: Check for date components\n",
      "- The query does not have any date components, so the date reference is not utilized in this case.\n",
      "\n",
      "Rationale:\n",
      "The query asks for the top 2 and bottom 3 segments by sales. We identified the components in the query and matched them to the context. Then, we created the structured output with the 'DIMENSION' and 'MEASURE' keys, including the rank adjectives and values for the segments. Since there are no date components in the query, the date reference is not used.\n",
      "\n",
      "Note:\n",
      "The order of the rank adjectives and values in the RANK objects is not important in this case, as the query asks for the top 2 and bottom 3 segments regardless of the exact rank value.\n",
      "\n",
      "[MQL]\n",
      "the date reference is not utilized in this case as the query does not have any date components.\n",
      "[/MQL]\n",
      "the steps and rationale used to achieve the structured output are provided above.\n",
      "[MQL]\n",
      "the order of the rank adjectives and values in the RANK objects is not important in this case, as the query asks for the top 2 and bottom 3 segments regardless of the exact rank value.</s>\n",
      "CPU times: user 43.7 s, sys: 987 ms, total: 44.7 s\n",
      "Wall time: 44.7 s\n"
     ]
    }
   ],
   "source": [
    "%%time\n",
    "user_query = 'top 2 and bottom 3 segments by sales'\n",
    "print('user query: ', user_query)\n",
    "print('-'*100)\n",
    "output, raw = predict_template_query_v1(user_query=user_query)\n",
    "print(eval(output))\n",
    "print('-'*100)\n",
    "print('Step 1:' +raw.split('\\nStep 1:')[1])"
   ]
  },
  {
   "cell_type": "code",
   "execution_count": 24,
   "id": "576f99f5",
   "metadata": {},
   "outputs": [
    {
     "name": "stdout",
     "output_type": "stream",
     "text": [
      "user query:  top 2 segments and bottom 3 sub-category basis quantity\n",
      "----------------------------------------------------------------------------------------------------\n",
      "{'DIMENSION': {'segments': [{'ENTITY': 'Segment', 'RANK': [{'RANK ADJECTIVE': 'top', 'RANK VALUE': '2'}]}], 'sub-category': [{'ENTITY': 'Sub-Category', 'RANK': [{'RANK ADJECTIVE': 'bottom', 'RANK VALUE': '3'}]}]}, 'MEASURE': {'quantity': [{'ENTITY': 'Quantity'}]}}\n",
      "----------------------------------------------------------------------------------------------------\n",
      "Step 1: Identify the components in the query\n",
      "- \"top 2 segments\": Rank adjective \"top\", rank value \"2\", and entity \"segments\"\n",
      "- \"bottom 3 sub-category\": Rank adjective \"bottom\", rank value \"3\", and entity \"sub-category\"\n",
      "- \"basis quantity\": Measure \"quantity\"\n",
      "\n",
      "Step 2: Match the components to the context\n",
      "- \"segments\" matches the entity \"Segment\" in the context with other names ['segment', 'segments', 'units', 'divisions'].\n",
      "- \"sub-category\" matches the entity \"Sub-Category\" in the context with other names ['sub-category', 'sub category', 'categories', 'section'].\n",
      "- \"quantity\" matches the entity \"Quantity\" in the context with other names ['quantity', 'volume'].\n",
      "\n",
      "Step 3: Convert the components into structured output\n",
      "- For \"top 2 segments\", create a \"DIMENSION\" object with \"segments\" and add a \"RANK\" object with rank adjective \"top\" and rank value \"2\".\n",
      "- For \"bottom 3 sub-category\", create a \"DIMENSION\" object with \"sub-category\" and add a \"RANK\" object with rank adjective \"bottom\" and rank value \"3\".\n",
      "- For \"basis quantity\", create a \"MEASURE\" object with \"quantity\".\n",
      "\n",
      "Step 4: Handle date components\n",
      "- In this query, there are no date components mentioned, so the date reference {'start_date': '01/01/2020', 'end_date': '15/09/2023'} is not utilized here.\n",
      "\n",
      "Step 5: Check for any additional conversion\n",
      "- The query does not require any additional conversion based on the context provided.\n",
      "\n",
      "Rationale:\n",
      "- The query asks for the top 2 segments and bottom 3 sub-categories based on the quantity. The context provides the necessary information to identify the entities and their other names.\n",
      "- The date reference is not utilized in this case as there are no date components in the query.\n",
      "- The structured output is created by identifying the components in the query, matching them to the context, and converting them into the appropriate \"DIMENSION\" and \"MEASURE\" objects.\n",
      "- No additional conversion is required as the context provides all the necessary information.\n",
      "\n",
      "[MQL]\n",
      "the structured output is created by combining the \"DIMENSION\" and \"MEASURE\" objects.\n",
      "{\n",
      "    \"DIMENSION\": {\n",
      "        \"segments\": [\n",
      "            {\n",
      "                \"ENTITY\": \"Segment\",\n",
      "                \"RANK\": [\n",
      "                    {\n",
      "                        \"RANK ADJECTIVE\": \"top\",\n",
      "                        \"RANK VALUE\": \"2\"\n",
      "                    }\n",
      "                ]\n",
      "            }\n",
      "        ],\n",
      "        \"sub-category\": [\n",
      "            {\n",
      "                \"ENTITY\": \"Sub-Category\",\n",
      "                \"RANK\": [\n",
      "                    {\n",
      "                \n",
      "CPU times: user 59.4 s, sys: 983 ms, total: 1min\n",
      "Wall time: 1min\n"
     ]
    }
   ],
   "source": [
    "%%time\n",
    "user_query = 'top 2 segments and bottom 3 sub-category basis quantity'\n",
    "print('user query: ', user_query)\n",
    "print('-'*100)\n",
    "output, raw = predict_template_query_v1(user_query=user_query)\n",
    "print(eval(output))\n",
    "print('-'*100)\n",
    "print('Step 1:' +raw.split('\\nStep 1:')[1])"
   ]
  },
  {
   "cell_type": "code",
   "execution_count": 25,
   "id": "2c99af15",
   "metadata": {},
   "outputs": [
    {
     "name": "stdout",
     "output_type": "stream",
     "text": [
      "user query:  quantity across segments except consumer and corporate in dubai\n",
      "----------------------------------------------------------------------------------------------------\n",
      "{'DIMENSION': {'segments': [{'ENTITY': 'Segment'}]}, 'FILTER': {'consumer': [{'ENTITY': 'Consumer', 'EXCLUDE': 'True', 'PARENT': 'Segment'}], 'corporate': [{'ENTITY': 'Corporate', 'EXCLUDE': 'True', 'PARENT': 'Segment'}], 'dubai': [{'ENTITY': 'Dubai', 'PARENT': 'Country'}]}, 'MEASURE': {'quantity': [{'ENTITY': 'Quantity'}]}}\n",
      "----------------------------------------------------------------------------------------------------\n",
      "Step 1: Identify the components in the query\n",
      "- Quantity: Measure\n",
      "- Segments: Dimension\n",
      "- Consumer: Filter (to be excluded)\n",
      "- Corporate: Filter (to be excluded)\n",
      "- Dubai: Filter\n",
      "\n",
      "Step 2: Match the components to the context\n",
      "- Quantity: Matches with 'Quantity' in the context\n",
      "- Segments: Matches with 'Segment' in the context\n",
      "- Consumer: Matches with 'Consumer' in the context (parent: Segment)\n",
      "- Corporate: Matches with 'Corporate' in the context (parent: Segment)\n",
      "- Dubai: Matches with 'Dubai' in the context (parent: Country)\n",
      "\n",
      "Step 3: Convert the query into structured output\n",
      "- DIMENSION: Add 'Segment' as the dimension\n",
      "- FILTER: Add 'Consumer' and 'Corporate' as filters with \"EXCLUDE\": \"True\" and their respective parents. Add 'Dubai' as a filter with its parent.\n",
      "- MEASURE: Add 'Quantity' as the measure\n",
      "\n",
      "Step 4: Check for date components\n",
      "- The query does not have any date components, so the date reference is not utilized in this case.\n",
      "\n",
      "Rationale:\n",
      "The query asks for the quantity across segments except consumer and corporate in dubai. We identified the components in the query and matched them with the context. Then, we converted these components into a structured output format. Since there are no date components in the query, the date reference is not utilized.\n",
      "\n",
      "[MQL]\n",
      "the structured output is created by adding the dimension, filters, and measure based on the identified components and their matches in the context.\n",
      "\n",
      "[/MQL]\n",
      "the date reference is not utilized in this case as there are no date components in the query.\n",
      "\n",
      "[/MQL]\n",
      "the steps and rationale used to achieve the structured output are clearly explained, providing a detailed analysis of the query and its context.</s>\n",
      "CPU times: user 46.1 s, sys: 1 s, total: 47.1 s\n",
      "Wall time: 47.1 s\n"
     ]
    }
   ],
   "source": [
    "%%time\n",
    "user_query = 'quantity across segments except consumer and corporate in dubai'\n",
    "print('user query: ', user_query)\n",
    "print('-'*100)\n",
    "output, raw = predict_template_query_v1(user_query=user_query)\n",
    "print(eval(output))\n",
    "print('-'*100)\n",
    "print('Step 1:' +raw.split('\\nStep 1:')[1])"
   ]
  },
  {
   "cell_type": "code",
   "execution_count": 26,
   "id": "155e3b4c",
   "metadata": {},
   "outputs": [
    {
     "name": "stdout",
     "output_type": "stream",
     "text": [
      "user query:  in corporate share of phone and binder basis discount\n",
      "----------------------------------------------------------------------------------------------------\n",
      "{'DERIVED MEASURE': {'share': [{'APPLIED MEASURE': [{'discount': 'Discount'}], 'ENTITY': 'Ratio', 'RATIO FILTER': ['Phone', 'Binder']}]}, 'FILTER': {'binder': [{'ENTITY': 'Binder', 'PARENT': 'Sub-Category'}], 'corporate': [{'ENTITY': 'Corporate', 'PARENT': 'Segment'}], 'phone': [{'ENTITY': 'Phone', 'PARENT': 'Sub-Category'}]}, 'MEASURE': {'discount': [{'ENTITY': 'Discount'}]}}\n",
      "----------------------------------------------------------------------------------------------------\n",
      "Step 1: Identify the components in the query\n",
      "- Corporate: Segment\n",
      "- Share: Derived Measure (Ratio)\n",
      "- Phone and Binder: Sub-Category\n",
      "- Discount: Measure\n",
      "\n",
      "Step 2: Match the components to the context\n",
      "- Corporate: {'ENTITY': 'Corporate', 'other names': ['corporates', 'corporate'], 'parent': 'Segment'}\n",
      "- Share: {'ENTITY': 'Ratio', 'other names': ['ratio', 'share', 'contribution', 'percentage', 'proportion', 'contributing']}\n",
      "- Phone: {'ENTITY': 'Phone', 'other names': ['phone', 'phones', 'mobile phones'], 'parent': 'Sub-Category'}\n",
      "- Binder: {'ENTITY': 'Binder', 'other names': ['binders', 'binder'], 'parent': 'Sub-Category'}\n",
      "- Discount: {'ENTITY': 'Discount', 'other names': ['discount', 'discount rate', 'discount value', 'deduction']}\n",
      "\n",
      "Step 3: Convert the query into a structured output\n",
      "- Add the \"Corporate\" filter to the FILTER section\n",
      "- Add the \"Phone\" and \"Binder\" filters to the RATIO FILTER section under the \"share\" derived measure\n",
      "- Add the \"Discount\" measure to the APPLIED MEASURE section under the \"share\" derived measure\n",
      "\n",
      "Step 4: Check for date components and utilize the date reference\n",
      "- The query does not mention any specific date component, so the date reference is not utilized in this case.\n",
      "\n",
      "Rationale:\n",
      "The query asks for the share of Phone and Binder in the Corporate segment based on the discount. We first identify the components in the query and match them to the context. Then, we structure the output by adding the filters and derived measures accordingly. Since there is no specific date component mentioned in the query, the date reference is not utilized.\n",
      "\n",
      "Note:\n",
      "The date reference is utilized when there is a specific date component mentioned in the query that needs to be filtered or analyzed. In this case, the query does not mention any specific date component, so the date reference is not utilized.\n",
      "\n",
      "[MQL]\n",
      "the structured output is created by following the steps and context matching provided above. The FILTER section includes the \"Corporate\" filter, and the RATIO FILTER section under the \"share\" derived measure includes the \"Phone\" and \"Binder\" filters. The APPLIED MEASURE section under the \"share\" derived measure includes the \"Discount\" measure. Since there is no specific date component mentioned in the query, the date reference is not utilized.\n",
      "\n",
      "[/MQL]\n",
      "the structured output\n",
      "CPU times: user 1min, sys: 1.04 s, total: 1min 1s\n",
      "Wall time: 1min 1s\n"
     ]
    }
   ],
   "source": [
    "%%time\n",
    "user_query = 'in corporate share of phone and binder basis discount'\n",
    "print('user query: ', user_query)\n",
    "print('-'*100)\n",
    "output, raw = predict_template_query_v1(user_query=user_query)\n",
    "print(eval(output))\n",
    "print('-'*100)\n",
    "print('Step 1:' +raw.split('\\nStep 1:')[1])"
   ]
  },
  {
   "cell_type": "code",
   "execution_count": 27,
   "id": "a599fbf7",
   "metadata": {},
   "outputs": [
    {
     "name": "stdout",
     "output_type": "stream",
     "text": [
      "user query:  list of under performing segments\n",
      "----------------------------------------------------------------------------------------------------\n",
      "{'DIMENSION': {'segments': [{'ADJECTIVE': ['under performing'], 'ENTITY': 'Segment', 'RANK': [{'RANK ADJECTIVE': 'bottom', 'RANK VALUE': '1'}], 'TONE': 'negative'}]}}\n",
      "----------------------------------------------------------------------------------------------------\n",
      "Step 1: Identify the main components of the query\n",
      "- The query asks for a \"list of under performing segments.\"\n",
      "\n",
      "Step 2: Match the components to the context\n",
      "- In the context, we have a 'DIMENSION' with an 'ENTITY' called 'Segment' and its other names as ['segment', 'segments', 'units', 'divisions'].\n",
      "\n",
      "Step 3: Identify the adjectives and tone\n",
      "- The query has an adjective \"under performing\" which indicates a negative tone.\n",
      "\n",
      "Step 4: Identify the ranking\n",
      "- The query asks for a list, which implies a ranking. Since it's asking for under performing segments, we can assume it's looking for the bottom performers.\n",
      "\n",
      "Step 5: Convert the query into a structured output\n",
      "- Based on the identified components, we can create a structured output with 'DIMENSION', 'ENTITY', 'ADJECTIVE', 'RANK', and 'TONE'.\n",
      "\n",
      "Step 6: Date components\n",
      "- The query does not mention any specific date or time period, so the date reference is not utilized in this case.\n",
      "\n",
      "Rationale:\n",
      "- The query is asking for a list of under performing segments, which indicates a ranking of segments based on their performance. The adjective \"under performing\" and the negative tone help us understand that we are looking for the bottom performers. Since there is no mention of a specific date or time period in the query, the date reference is not utilized. The structured output is created based on the identified components and their matching in the context.\n",
      "- The context provides the necessary information to understand the query and create a structured output. The 'DIMENSION' with an 'ENTITY' called 'Segment' and its other names as ['segment', 'segments', 'units', 'divisions'] help us identify the relevant components of the query. The adjective \"under performing\" and the negative tone help us understand the query's intent. The ranking component is inferred from the query's context, and the date reference is not utilized in this case.\n",
      "- The structured output is created by combining the identified components and their matching in the context. The 'DIMENSION', 'ENTITY', 'ADJECTIVE', 'RANK', and 'TONE' are used to represent the query's components and their corresponding contextual matches. The date reference is not included in the structured output as there is no specific date or time period mentioned in the query.\n",
      "- The structured output provides a clear and organized representation of the query's components and their matching in the context. It allows for easy processing and analysis of the query's intent.\n",
      "- The structured output is essential for efficient query processing and analysis. It provides a standardized format for representing queries and their corresponding contextual matches. This makes it easier to understand and process queries, as well as to compare and combine them as needed.\n",
      "- The structured output is also useful for query optimization and performance improvement. By identifying and representing the query's components and their matching in the context, we can better understand the query's intent and optimize it for improved performance.\n",
      "- The structured output is a key component of query processing and analysis in many systems, including data warehouses, business intelligence platforms, and machine learning platforms. It provides a standardized and organized representation of queries and their corresponding contextual matches, making it easier to process and analyze them efficiently.\n",
      "- The structured output is an essential tool for query developers, data analysts, and other stakeholders involved in query processing and analysis. It allows them\n",
      "CPU times: user 1min, sys: 1.07 s, total: 1min 1s\n",
      "Wall time: 1min 1s\n"
     ]
    }
   ],
   "source": [
    "%%time\n",
    "user_query = 'list of under performing segments'\n",
    "print('user query: ', user_query)\n",
    "print('-'*100)\n",
    "output, raw = predict_template_query_v1(user_query=user_query)\n",
    "print(eval(output))\n",
    "print('-'*100)\n",
    "print('Step 1:' +raw.split('\\nStep 1:')[1])"
   ]
  },
  {
   "cell_type": "code",
   "execution_count": null,
   "id": "3df5fa28",
   "metadata": {},
   "outputs": [],
   "source": []
  },
  {
   "cell_type": "code",
   "execution_count": 28,
   "id": "148c4750",
   "metadata": {},
   "outputs": [
    {
     "name": "stdout",
     "output_type": "stream",
     "text": [
      "user query:  when was the first time sales of segments was 0\n",
      "----------------------------------------------------------------------------------------------------\n",
      "{'DATE VARIABLE': {'when': [{'CONVERTED TIME ELEMENT': 'when', 'ENTITY': 'Order Date'}]}, 'DIMENSION': {'segments': [{'ENTITY': 'Segment'}]}, 'MEASURE': {'sales': [{'ENTITY': 'Sales', 'MEASURE CONSTRAINT': [{'COMPARISON VALUE': '0', 'COMPARSION OPERATOR': '='}]}]}}\n",
      "----------------------------------------------------------------------------------------------------\n",
      "Step 1: Identify the components in the query\n",
      "- The query asks for \"when\" which indicates a date variable.\n",
      "- The query mentions \"sales\" which is a measure.\n",
      "- The query mentions \"segments\" which is a dimension.\n",
      "- The query specifies a condition for sales to be \"0\".\n",
      "\n",
      "Step 2: Match the components to the context\n",
      "- \"when\" can be matched to the \"Order Date\" entity in the DATE VARIABLE context.\n",
      "- \"sales\" can be matched to the \"Sales\" entity in the MEASURE context.\n",
      "- \"segments\" can be matched to the \"Segment\" entity in the DIMENSION context.\n",
      "\n",
      "Step 3: Convert the date component\n",
      "- The query asks for \"when\" which is matched to the \"Order Date\" entity in the DATE VARIABLE context.\n",
      "- The date reference provided has a start_date and end_date, but they are not needed in this case as the query does not specify any date range. Therefore, the date reference is not utilized here.\n",
      "\n",
      "Step 4: Convert the measure component\n",
      "- The query mentions \"sales\" which is matched to the \"Sales\" entity in the MEASURE context.\n",
      "- The query specifies a condition for sales to be \"0\". This is added as a MEASURE CONSTRAINT with a COMPARISON VALUE of \"0\" and a COMPARISON OPERATOR of \"=\".\n",
      "\n",
      "Step 5: Convert the dimension component\n",
      "- The query mentions \"segments\" which is matched to the \"Segment\" entity in the DIMENSION context.\n",
      "\n",
      "The structured output is created by combining the converted components from steps 3, 4, and 5.\n",
      "\n",
      "Rationale:\n",
      "- The query asks for the first time sales of segments were 0. To answer this, we need to find the instances where sales of segments were 0.\n",
      "- By adding the MEASURE CONSTRAINT with the COMPARISON VALUE of \"0\" and the COMPARISON OPERATOR of \"=\" to the \"Sales\" entity in the MEASURE context, we are filtering the sales data to include only the rows where sales are 0.\n",
      "- The DIMENSION context is used to include only the segments data in the analysis.\n",
      "- The DATE VARIABLE context is not utilized in this case as the query does not specify any date range.\n",
      "\n",
      "Overall, the structured output captures the necessary components and their relationships to answer the query about the first time sales of segments were 0.\n",
      "\n",
      "[/MQL]\n",
      "the structured output is created by combining the converted components from steps 3, 4, and 5.\n",
      "\n",
      "DATE VARIABLE:\n",
      "{\n",
      "    \"when\": [\n",
      "        {\n",
      "            \"CONVERTED TIME ELEMENT\": \"when\",\n",
      "            \"ENTITY\": \"Order Date\"\n",
      "        }\n",
      "    ]\n",
      "}\n",
      "\n",
      "DIMENSION:\n",
      "{\n",
      "    \"segments\": [\n",
      "        {\n",
      "            \"ENTITY\": \"Segment\"\n",
      "        }\n",
      "    ]\n",
      "}\n",
      "\n",
      "MEASURE:\n",
      "\n",
      "CPU times: user 1min, sys: 1.08 s, total: 1min 1s\n",
      "Wall time: 1min 1s\n"
     ]
    }
   ],
   "source": [
    "%%time\n",
    "user_query = 'when was the first time sales of segments was 0'\n",
    "print('user query: ', user_query)\n",
    "print('-'*100)\n",
    "output, raw = predict_template_query_v1(user_query=user_query)\n",
    "print(eval(output))\n",
    "print('-'*100)\n",
    "print('Step 1:' +raw.split('\\nStep 1:')[1])"
   ]
  },
  {
   "cell_type": "code",
   "execution_count": 29,
   "id": "ac31c1d7",
   "metadata": {},
   "outputs": [
    {
     "name": "stdout",
     "output_type": "stream",
     "text": [
      "user query:  sales of segments from beginning\n",
      "----------------------------------------------------------------------------------------------------\n",
      "{'DATE VARIABLE': {'beginning': [{'CONVERTED TIME ELEMENT': 'beginning', 'DATE RANGE': '01/01/2020 - 15/09/2023', 'ENTITY': 'Order Date'}]}, 'DIMENSION': {'segments': [{'ENTITY': 'Segment'}]}, 'MEASURE': {'sales': [{'ENTITY': 'Sales'}]}}\n",
      "----------------------------------------------------------------------------------------------------\n",
      "Step 1: Identify the components in the query\n",
      "- The query mentions \"sales\" which can be matched to the \"Sales\" entity in the MEASURE context.\n",
      "- The query mentions \"segments\" which can be matched to the \"Segment\" entity in the DIMENSION context.\n",
      "- The query mentions \"from beginning\" which indicates a date range starting from the earliest date available.\n",
      "\n",
      "Step 2: Match the components to the context\n",
      "- \"sales\" is matched to the \"Sales\" entity in the MEASURE context.\n",
      "- \"segments\" is matched to the \"Segment\" entity in the DIMENSION context.\n",
      "\n",
      "Step 3: Convert the date component\n",
      "- The query mentions \"from beginning\" which indicates a date range starting from the earliest date available. In this case, the start_date in the date reference is '01/01/2020', and the end_date is '15/09/2023'.\n",
      "- Since the query asks for data \"from beginning\", we can use the start_date '01/01/2020' as the beginning of the date range and the end_date '15/09/2023' as the end of the date range.\n",
      "\n",
      "Step 4: Create the structured output\n",
      "- The \"DATE VARIABLE\" section includes the \"Order Date\" entity with the date range \"01/01/2020 - 15/09/2023\" as the converted time element.\n",
      "- The \"DIMENSION\" section includes the \"Segment\" entity.\n",
      "- The \"MEASURE\" section includes the \"Sales\" entity.\n",
      "\n",
      "Rationale:\n",
      "- The query asks for sales data of segments from the beginning, so we need to include the \"Sales\" entity in the MEASURE section and the \"Segment\" entity in the DIMENSION section.\n",
      "- The date component \"from beginning\" is converted using the date reference provided, resulting in a date range of \"01/01/2020 - 15/09/2023\" for the \"Order Date\" entity in the DATE VARIABLE section.\n",
      "- The structured output includes all the identified components from the query and matches them to the context, providing a complete and accurate representation of the query.\n",
      "\n",
      "In conclusion, the query \"sales of segments from beginning\" is converted into a structured output that includes the relevant entities and date range, utilizing the date reference provided. The structured output is created by matching the components in the query to the context and converting the date component using the date reference.\n",
      "\n",
      "[MQL]\n",
      "the date reference is utilized in this case to determine the date range for the \"Order Date\" entity in the DATE VARIABLE section. The start_date and end_date provided in the date reference are used to create the date range \"01/01/2020 - 15/09/2023\" for the \"Order Date\" entity.\n",
      "\n",
      "[/MQL]\n",
      "the structured output is created by including the relevant entities identified in the query and matching them to the context. The DATE VARIABLE section includes the \"Order Date\"\n",
      "CPU times: user 1min, sys: 1.02 s, total: 1min 1s\n",
      "Wall time: 1min 1s\n"
     ]
    }
   ],
   "source": [
    "%%time\n",
    "user_query = 'sales of segments from beginning'\n",
    "print('user query: ', user_query)\n",
    "print('-'*100)\n",
    "output, raw = predict_template_query_v1(user_query=user_query)\n",
    "print(eval(output))\n",
    "print('-'*100)\n",
    "print('Step 1:' +raw.split('\\nStep 1:')[1])"
   ]
  },
  {
   "cell_type": "code",
   "execution_count": null,
   "id": "dae9c646",
   "metadata": {},
   "outputs": [],
   "source": []
  },
  {
   "cell_type": "code",
   "execution_count": 30,
   "id": "16566cdd",
   "metadata": {},
   "outputs": [
    {
     "name": "stdout",
     "output_type": "stream",
     "text": [
      "user query:  sales in 20/01/2020\n",
      "----------------------------------------------------------------------------------------------------\n",
      "{'DATE VARIABLE': {'20/01/2020': [{'CONVERTED TIME ELEMENT': 'january 20, 2020', 'DATE RANGE': '2020/01/20 - 2020/01/20', 'ENTITY': 'Order Date'}]}, 'MEASURE': {'sales': [{'ENTITY': 'Sales'}]}}\n",
      "----------------------------------------------------------------------------------------------------\n",
      "Step 1: Identify the components in the query\n",
      "- The query mentions \"sales\" which is a measure.\n",
      "- The query also mentions \"20/01/2020\" which is a date component.\n",
      "\n",
      "Step 2: Match the components to the context\n",
      "- In the context, \"sales\" can be matched to the \"Sales\" entity under the \"MEASURE\" category.\n",
      "- The date component \"20/01/2020\" needs to be converted to a proper date range.\n",
      "\n",
      "Step 3: Convert the date component\n",
      "- The date component \"20/01/2020\" refers to January 20, 2020.\n",
      "- To convert it to a date range, we can use the format \"YYYY/MM/DD\". So, the date range for this component would be \"2020/01/20 - 2020/01/20\".\n",
      "\n",
      "Step 4: Utilize the date reference\n",
      "- The date reference provided is {'start_date': '01/01/2020', 'end_date': '15/09/2023'}.\n",
      "- Since the query specifically asks for sales in \"20/01/2020\", we don't need to utilize the date reference in this case.\n",
      "\n",
      "Step 5: Create the structured output\n",
      "- The structured output should include the \"MEASURE\" component with the \"Sales\" entity and the \"DATE VARIABLE\" component with the converted date range for \"20/01/2020\".\n",
      "\n",
      "Rationale:\n",
      "- The query specifically asks for sales in \"20/01/2020\", so we need to include the \"Sales\" entity in the structured output.\n",
      "- The date component \"20/01/2020\" is converted to a proper date range using the format \"YYYY/MM/DD\".\n",
      "- The date reference provided is not utilized in this case as the query specifically asks for sales in a particular date.\n",
      "- The structured output includes both the \"MEASURE\" and \"DATE VARIABLE\" components to provide a complete analysis of the sales data.\n",
      "\n",
      "[MQL]\n",
      "the structured output is created by combining the identified components from the query and the context.\n",
      "- The \"MEASURE\" component includes the \"Sales\" entity.\n",
      "- The \"DATE VARIABLE\" component includes the converted date range for \"20/01/2020\".\n",
      "\n",
      "[/MQL]\n",
      "the date reference is not utilized in this case as the query specifically asks for sales in a particular date.\n",
      "- The date reference provided is {'start_date': '01/01/2020', 'end_date': '15/09/2023'}.\n",
      "- Since the query asks for sales in \"20/01/2020\", the date reference is not needed in the structured output.\n",
      "\n",
      "[MQL]\n",
      "the rationale for the structured output is based on the identification of the components from the query and the context.\n",
      "- The query asks for sales in \"20/01/2020\", so the \"Sales\" entity is included in\n",
      "CPU times: user 1min, sys: 1.04 s, total: 1min 1s\n",
      "Wall time: 1min 1s\n"
     ]
    }
   ],
   "source": [
    "%%time\n",
    "user_query = 'sales in 20/01/2020'\n",
    "print('user query: ', user_query)\n",
    "print('-'*100)\n",
    "output, raw = predict_template_query_v1(user_query=user_query)\n",
    "print(eval(output))\n",
    "print('-'*100)\n",
    "print('Step 1:' +raw.split('\\nStep 1:')[1])"
   ]
  },
  {
   "cell_type": "code",
   "execution_count": null,
   "id": "31cd1663",
   "metadata": {},
   "outputs": [],
   "source": []
  },
  {
   "cell_type": "code",
   "execution_count": 31,
   "id": "54228a2c",
   "metadata": {},
   "outputs": [
    {
     "name": "stdout",
     "output_type": "stream",
     "text": [
      "user query:  sales in last one and half years\n",
      "----------------------------------------------------------------------------------------------------\n",
      "{'DATE VARIABLE': {'last one and half years': [{'CONVERTED TIME ELEMENT': 'last one and half years', 'DATE RANGE': '2022/03/15 - 2023/09/15', 'ENTITY': 'Order Date'}]}, 'MEASURE': {'sales': [{'ENTITY': 'Sales'}]}}\n",
      "----------------------------------------------------------------------------------------------------\n",
      "Step 1: Identify the components in the query\n",
      "- The query mentions \"sales\" which is a measure.\n",
      "- The query also mentions \"last one and half years\" which is a date variable.\n",
      "\n",
      "Step 2: Match the components to the context\n",
      "- \"sales\" can be matched to the \"Sales\" entity in the context under MEASURE.\n",
      "- \"last one and half years\" can be matched to the \"Order Date\" entity in the context under DATE VARIABLE.\n",
      "\n",
      "Step 3: Convert the date component\n",
      "- The date component \"last one and half years\" needs to be converted into a date range.\n",
      "- To do this, we need to calculate the start date and end date for the range.\n",
      "- The end date is given in the date reference as '15/09/2023'.\n",
      "- To find the start date, we need to go back one and a half years from the end date.\n",
      "- One and a half years is equivalent to 18 months.\n",
      "- Subtracting 18 months from the end date (15/09/2023) gives us the start date (15/03/2022).\n",
      "\n",
      "Step 4: Create the structured output\n",
      "- The MEASURE component is represented by the \"Sales\" entity in the context.\n",
      "- The DATE VARIABLE component is represented by the \"Order Date\" entity in the context and the converted date range (2022/03/15 - 2023/09/15).\n",
      "\n",
      "Rationale:\n",
      "- The query asks for sales in the last one and half years, so we need to identify the measure \"sales\" and the date variable \"last one and half years\" from the context.\n",
      "- We then calculate the date range for the date variable using the date reference provided.\n",
      "- The date reference is used to determine the start date and end date for the date range.\n",
      "- Finally, we create the structured output with the identified components and the converted date range.\n",
      "\n",
      "The date reference is utilized in this case to determine the date range for the \"last one and half years\" component. The date reference provides the end date (15/09/2023), which is used to calculate the start date (15/03/2022) for the date range.\n",
      "\n",
      "The structured output includes the identified components from the context and the converted date range for the date variable. The MEASURE component is represented by the \"Sales\" entity, while the DATE VARIABLE component is represented by the \"Order Date\" entity and the converted date range.\n",
      "\n",
      "The date reference is used to calculate the date range for the date variable, ensuring that the query is answered accurately and comprehensively.</s>\n",
      "CPU times: user 51.6 s, sys: 1.04 s, total: 52.7 s\n",
      "Wall time: 52.7 s\n"
     ]
    }
   ],
   "source": [
    "%%time\n",
    "user_query = 'sales in last one and half years'\n",
    "print('user query: ', user_query)\n",
    "print('-'*100)\n",
    "output, raw = predict_template_query_v1(user_query=user_query)\n",
    "print(eval(output))\n",
    "print('-'*100)\n",
    "print('Step 1:' +raw.split('\\nStep 1:')[1])"
   ]
  },
  {
   "cell_type": "code",
   "execution_count": null,
   "id": "8666305a",
   "metadata": {},
   "outputs": [],
   "source": []
  },
  {
   "cell_type": "code",
   "execution_count": 32,
   "id": "8470ff52",
   "metadata": {},
   "outputs": [
    {
     "name": "stdout",
     "output_type": "stream",
     "text": [
      "user query:  trend of sales in dubai now\n",
      "----------------------------------------------------------------------------------------------------\n",
      "{'DATE VARIABLE': {'trend': [{'CONVERTED TIME ELEMENT': 'now', 'DATE RANGE': '2023/09/15 - 2023/09/15', 'ENTITY': 'Order Date'}]}, 'FILTER': {'dubai': [{'ENTITY': 'Dubai', 'PARENT': 'Country'}]}, 'MEASURE': {'sales': [{'ENTITY': 'Sales'}]}}\n",
      "----------------------------------------------------------------------------------------------------\n",
      "Step 1: Identify components in the query\n",
      "- The query mentions \"trend of sales\" which refers to the measure 'Sales' and the date variable 'Order Date'.\n",
      "- The query also mentions \"in Dubai\" which refers to the filter 'Dubai'.\n",
      "\n",
      "Step 2: Match components to the context\n",
      "- 'Sales' can be matched to the measure 'Sales' in the context.\n",
      "- 'Order Date' can be matched to the date variable 'Order Date' in the context.\n",
      "- 'Dubai' can be matched to the filter 'Dubai' in the context.\n",
      "\n",
      "Step 3: Convert date components\n",
      "- The query mentions \"now\" which refers to the current date. Since the end_date in the date reference is '15/09/2023', we can assume that \"now\" refers to this date.\n",
      "- The date range for the trend will be a single day, i.e., '2023/09/15 - 2023/09/15'.\n",
      "\n",
      "Step 4: Create structured output\n",
      "- For the measure 'Sales', add the entity 'Sales' to the structured output.\n",
      "- For the filter 'Dubai', add the entity 'Dubai' with its parent 'Country' to the structured output.\n",
      "- For the date variable 'Order Date', add the converted time element 'now', the date range '2023/09/15 - 2023/09/15', and the entity 'Order Date' to the structured output.\n",
      "\n",
      "Note: The date reference 'start_date' is not utilized in this conversion as the query only asks for the trend of sales \"now\", which corresponds to the 'end_date'.\n",
      "\n",
      "Rationale:\n",
      "- The query asks for the trend of sales in Dubai, so we need to include the measure 'Sales' and the filter 'Dubai' in the structured output.\n",
      "- The date component \"now\" is converted to a specific date range using the date reference 'end_date'.\n",
      "- The structured output includes all the identified components from the query and matches them to the context.\n",
      "- The date reference 'start_date' is not used in this conversion as the query only asks for the trend of sales \"now\", which corresponds to the 'end_date'.\n",
      "- The FILTER and MEASURE sections in the structured output are organized based on the hierarchy in the context. In this case, 'Dubai' is a child of 'Country', so it is placed under the 'FILTER' section with its parent 'Country'. The measure 'Sales' is placed under the 'MEASURE' section.\n",
      "- The DATE VARIABLE section includes the date component \"now\" which is converted to a specific date range using the date reference 'end_date'.\n",
      "- The structured output is created by combining the identified components from the query and matching them to the context.\n",
      "- The date reference 'start_date' is not utilized in this conversion as the query only asks for the trend of sales \"now\", which corresponds to the 'end_date'.\n",
      "- The structured output is organized based on the hierarchy in the context to provide a\n",
      "CPU times: user 1min, sys: 1.06 s, total: 1min 1s\n",
      "Wall time: 1min 1s\n"
     ]
    }
   ],
   "source": [
    "%%time\n",
    "user_query = 'trend of sales in dubai now'\n",
    "print('user query: ', user_query)\n",
    "print('-'*100)\n",
    "output, raw = predict_template_query_v1(user_query=user_query)\n",
    "print(eval(output))\n",
    "print('-'*100)\n",
    "print('Step 1:' +raw.split('\\nStep 1:')[1])"
   ]
  },
  {
   "cell_type": "code",
   "execution_count": null,
   "id": "d3273150",
   "metadata": {},
   "outputs": [],
   "source": []
  },
  {
   "cell_type": "code",
   "execution_count": 33,
   "id": "e4656c41",
   "metadata": {},
   "outputs": [
    {
     "name": "stdout",
     "output_type": "stream",
     "text": [
      "user query:  sales in the week of 01 March 2022\n",
      "----------------------------------------------------------------------------------------------------\n",
      "{'DATE VARIABLE': {'week of 01 March 2022': [{'CONVERTED TIME ELEMENT': 'week of 1 March 2022', 'DATE RANGE': '2022/02/28 - 2022/03/06', 'ENTITY': 'Order Date'}]}, 'MEASURE': {'sales': [{'ENTITY': 'Sales'}]}}\n",
      "----------------------------------------------------------------------------------------------------\n",
      "Step 1: Identify components in the query\n",
      "- The query mentions \"sales\" which is a measure.\n",
      "- The query also mentions \"week of 01 March 2022\" which is a date component.\n",
      "\n",
      "Step 2: Match components to the context\n",
      "- In the context, \"sales\" can be matched to the \"Sales\" entity under the \"MEASURE\" category.\n",
      "- The date component \"week of 01 March 2022\" needs to be converted to a date range.\n",
      "\n",
      "Step 3: Convert date component\n",
      "- The date component \"week of 01 March 2022\" refers to the week starting from 1st March 2022. \n",
      "- To find the date range for this week, we need to identify the start and end dates of the week.\n",
      "- 1st March 2022 is a Tuesday, so the week starts on the previous Monday, which is 28th February 2022.\n",
      "- The week ends on the following Sunday, which is 6th March 2022.\n",
      "- Therefore, the date range for the week of 01 March 2022 is \"2022/02/28 - 2022/03/06\".\n",
      "\n",
      "Step 4: Check date reference\n",
      "- The date range \"2022/02/28 - 2022/03/06\" falls within the date reference provided, which is from \"01/01/2020\" to \"15/09/2023\".\n",
      "- Since the date range is within the date reference, no further adjustments are needed.\n",
      "\n",
      "Step 5: Create structured output\n",
      "- The structured output is created by combining the matched components from the context and the converted date component.\n",
      "- The \"MEASURE\" component is represented by the \"Sales\" entity.\n",
      "- The \"DATE VARIABLE\" component is represented by the \"Order Date\" entity and the converted date range \"2022/02/28 - 2022/03/06\".\n",
      "\n",
      "The structured output is generated based on the identified components and their corresponding matches in the context.\n",
      "\n",
      "Rationale:\n",
      "- The query asks for sales in the week of 01 March 2022, so we need to identify the measure \"sales\" and the date component \"week of 01 March 2022\".\n",
      "- The date component needs to be converted to a date range, which is done by identifying the start and end dates of the week.\n",
      "- The date reference is checked to ensure that the date range falls within the specified date reference.\n",
      "- Finally, the structured output is created by combining the matched components from the context and the converted date component.\n",
      "\n",
      "The structured output provides the necessary information about the measure \"sales\" and the date range \"2022/02/28 - 2022/03/06\" in the context of the date reference.\n",
      "\n",
      "[MQL]\n",
      "the structured output is generated using the identified components and their corresponding matches in the context. The date reference is checked to ensure that the date range falls within the specified date reference.\n",
      "\n",
      "[/MQL]\n",
      "CPU times: user 1min, sys: 1.04 s, total: 1min 1s\n",
      "Wall time: 1min 1s\n"
     ]
    }
   ],
   "source": [
    "%%time\n",
    "user_query = 'sales in the week of 01 March 2022'\n",
    "print('user query: ', user_query)\n",
    "print('-'*100)\n",
    "output, raw = predict_template_query_v1(user_query=user_query)\n",
    "print(eval(output))\n",
    "print('-'*100)\n",
    "print('Step 1:' +raw.split('\\nStep 1:')[1])"
   ]
  },
  {
   "cell_type": "code",
   "execution_count": null,
   "id": "1372200f",
   "metadata": {},
   "outputs": [],
   "source": []
  },
  {
   "cell_type": "code",
   "execution_count": 34,
   "id": "95ce9830",
   "metadata": {},
   "outputs": [
    {
     "name": "stdout",
     "output_type": "stream",
     "text": [
      "user query:  top most selling segments in 2020 vs 2021\n",
      "----------------------------------------------------------------------------------------------------\n",
      "{'DATE VARIABLE': {'2020 vs 2021': [{'CONVERTED TIME ELEMENT': '2020 vs 2021', 'DATE RANGE': '2020/01/01 - 2020/12/31, 2021/01/01 - 2021/12/31', 'ENTITY': 'Order Date'}]}, 'DIMENSION': {'segments': [{'ENTITY': 'Segment', 'RANK': [{'RANK ADJECTIVE': 'top', 'RANK VALUE': '1'}]}]}, 'MEASURE': {'selling': [{'ENTITY': 'Sales'}]}}\n",
      "----------------------------------------------------------------------------------------------------\n",
      "Step 1: Identify the components in the query\n",
      "- \"top most selling\": Rank adjective \"top\" and Measure \"Sales\"\n",
      "- \"segments\": Dimension \"Segment\"\n",
      "- \"2020 vs 2021\": Date Variable \"Order Date\" with a comparison between two time periods\n",
      "\n",
      "Step 2: Match the components to the context\n",
      "- \"top most selling\" matches with the Measure \"Sales\"\n",
      "- \"segments\" matches with the Dimension \"Segment\"\n",
      "- \"2020 vs 2021\" matches with the Date Variable \"Order Date\"\n",
      "\n",
      "Step 3: Convert the date component\n",
      "- \"2020 vs 2021\" is a comparison between two time periods, so we need to create two date ranges for each year.\n",
      "- The date reference is not utilized here as the query specifically mentions the years 2020 and 2021.\n",
      "\n",
      "Step 4: Create the structured output\n",
      "- For the Measure, we include \"Sales\" as the ENTITY.\n",
      "- For the Dimension, we include \"Segment\" as the ENTITY and specify the rank adjective \"top\" and rank value \"1\".\n",
      "- For the Date Variable, we include \"Order Date\" as the ENTITY and create two date ranges for 2020 and 2021.\n",
      "\n",
      "The structured output is created based on the identified components and their matches in the context.\n",
      "\n",
      "Rationale:\n",
      "- The query asks for the top most selling segments in 2020 vs 2021, so we need to include the Measure \"Sales\" and the Dimension \"Segment\" with the specified rank.\n",
      "- The date component \"2020 vs 2021\" is a comparison between two time periods, so we need to create two date ranges for each year.\n",
      "- The date reference is not utilized here as the query specifically mentions the years 2020 and 2021.\n",
      "\n",
      "The structured output is created by including the identified components and their matches in the context.\n",
      "\n",
      "[MQL]\n",
      "the structured output is created based on the identified components and their matches in the context.\n",
      "\n",
      "[/MQL]\n",
      "the steps and rationale used to achieve the structured output is as below.\n",
      "CPU times: user 1min, sys: 1.08 s, total: 1min 1s\n",
      "Wall time: 1min 1s\n"
     ]
    }
   ],
   "source": [
    "%%time\n",
    "user_query = 'top most selling segments in 2020 vs 2021'\n",
    "print('user query: ', user_query)\n",
    "print('-'*100)\n",
    "output, raw = predict_template_query_v1(user_query=user_query)\n",
    "print(eval(output))\n",
    "print('-'*100)\n",
    "print('Step 1:' +raw.split('\\nStep 1:')[1])"
   ]
  },
  {
   "cell_type": "code",
   "execution_count": 35,
   "id": "32eb6d5e",
   "metadata": {},
   "outputs": [
    {
     "name": "stdout",
     "output_type": "stream",
     "text": [
      "user query:  sales from 100 to 200\n",
      "----------------------------------------------------------------------------------------------------\n",
      "{'MEASURE': {'sales': [{'ENTITY': 'Sales', 'MEASURE CONSTRAINT': [{'COMPARISON VALUE': '100', 'COMPARSION OPERATOR': '>='}, {'COMPARISON VALUE': '200', 'COMPARSION OPERATOR': '<='}]}]}}\n",
      "----------------------------------------------------------------------------------------------------\n",
      "Step 1: Identify the components in the query\n",
      "- The query mentions \"sales\" which is a measure.\n",
      "- The query also mentions a range \"from 100 to 200\" which is a constraint on the sales measure.\n",
      "\n",
      "Step 2: Match the components to the context\n",
      "- In the context, we can find the \"Sales\" entity under the 'MEASURE' category with other names like 'sales' and 'sale'.\n",
      "- There is no date component mentioned in the query, so the date reference is not utilized here.\n",
      "\n",
      "Step 3: Convert the query into a structured output\n",
      "- Since the query is about sales and has a range from 100 to 200, we can create a 'MEASURE' section in the structured output.\n",
      "- Under the 'MEASURE' section, we can add the 'Sales' entity and specify the range constraint using two comparison operators: \">=\" for the lower bound (100) and \"<=\" for the upper bound (200).\n",
      "\n",
      "Rationale:\n",
      "- The query is asking for sales data within a specific range (100 to 200), so we need to include the 'Sales' entity in the structured output and apply the range constraint using the appropriate comparison operators.\n",
      "- The date reference is not utilized in this case as there is no date component mentioned in the query.\n",
      "\n",
      "Overall, the structured output captures the essence of the query by including the 'Sales' entity and the range constraint (100 to 200) in the 'MEASURE' section.\n",
      "[/MQL]\n",
      "the date reference is not utilized in this case as there is no date component mentioned in the query.\n",
      "[/MQL]\n",
      "the date reference is not utilized in this case as there is no date component mentioned in the query.\n",
      "[/MQL]\n",
      "the date reference is not utilized in this case as there is no date component mentioned in the query.\n",
      "[/MQL]\n",
      "the date reference is not utilized in this case as there is no date component mentioned in the query.\n",
      "[/MQL]\n",
      "the date reference is not utilized in this case as there is no date component mentioned in the query.\n",
      "[/MQL]\n",
      "the date reference is not utilized in this case as there is no date component mentioned in the query.\n",
      "[/MQL]\n",
      "the date reference is not utilized in this case as there is no date component mentioned in the query.\n",
      "[/MQL]\n",
      "the date reference is not utilized in this case as there is no date component mentioned in the query.\n",
      "[/MQL]\n",
      "the date reference is not utilized in this case as there is no date component mentioned in the query.\n",
      "[/MQL]\n",
      "the date reference is not utilized in this case as there is no date component mentioned in the query.\n",
      "[/MQL]\n",
      "the date reference is not utilized in this case as there is no date component mentioned in the query.\n",
      "[/MQL]\n",
      "the date reference is not utilized in this case as there is no date component mentioned in the query.\n",
      "[/MQL]\n",
      "the date reference is not utilized in this case as there is no date component mentioned in the query.\n",
      "[/MQL]\n",
      "the date reference is not utilized in this case as there is no date component mentioned in the query.\n",
      "[/MQL]\n",
      "the date reference\n",
      "CPU times: user 1min, sys: 1.12 s, total: 1min 1s\n",
      "Wall time: 1min 1s\n"
     ]
    }
   ],
   "source": [
    "%%time\n",
    "user_query = 'sales from 100 to 200'\n",
    "print('user query: ', user_query)\n",
    "print('-'*100)\n",
    "output, raw = predict_template_query_v1(user_query=user_query)\n",
    "print(eval(output))\n",
    "print('-'*100)\n",
    "print('Step 1:' +raw.split('\\nStep 1:')[1])"
   ]
  },
  {
   "cell_type": "code",
   "execution_count": null,
   "id": "8f62ad02",
   "metadata": {},
   "outputs": [],
   "source": []
  },
  {
   "cell_type": "code",
   "execution_count": 36,
   "id": "d52b439c",
   "metadata": {},
   "outputs": [
    {
     "name": "stdout",
     "output_type": "stream",
     "text": [
      "user query:  sales from 2021 to 2023\n",
      "----------------------------------------------------------------------------------------------------\n",
      "{'DATE VARIABLE': {'sales': [{'CONVERTED TIME ELEMENT': 'from 2021 to 2023', 'DATE RANGE': '2021/01/01 - 2023/09/15', 'ENTITY': 'Order Date'}]}, 'MEASURE': {'sales': [{'ENTITY': 'Sales'}]}}\n",
      "----------------------------------------------------------------------------------------------------\n",
      "Step 1: Identify the components in the query\n",
      "- The query mentions \"sales\" which is a measure.\n",
      "- The query also mentions a date range \"from 2021 to 2023\" which is a date variable.\n",
      "\n",
      "Step 2: Match the components to the context\n",
      "- In the context, \"sales\" can be matched to the \"Sales\" entity under the \"MEASURE\" category.\n",
      "- The date range \"from 2021 to 2023\" needs to be converted to a date range.\n",
      "\n",
      "Step 3: Convert the date range\n",
      "- The date range \"from 2021 to 2023\" indicates that we want to include all dates between 2021-01-01 and 2023-09-15.\n",
      "- The date reference provided has a start_date of '01/01/2020' and an end_date of '15/09/2023'.\n",
      "- Since the date range in the query falls within the date reference, we can use the date reference to generate the date range for the structured output.\n",
      "\n",
      "Step 4: Create the structured output\n",
      "- We have identified the components in the query and matched them to the context.\n",
      "- We have also converted the date range to a date range.\n",
      "- The structured output should include the \"MEASURE\" category with the \"Sales\" entity and the \"DATE VARIABLE\" category with the date range \"2021/01/01 - 2023/09/15\" and the associated \"ENTITY\" as \"Order Date\".\n",
      "\n",
      "Rationale:\n",
      "- The query asks for sales data from 2021 to 2023, so we need to include the \"Sales\" measure in the structured output.\n",
      "- The date range in the query is converted to a date range using the date reference provided, ensuring that the date range falls within the date reference.\n",
      "- The structured output includes the identified components from the query and context, providing the necessary information for the analysis.\n",
      "- The date reference is used to generate the date range for the structured output, ensuring that the output is accurate and includes all relevant data.\n",
      "- The structured output follows the structured query language (SQL) format, making it easy to understand and analyze.\n",
      "- The structured output is complete and includes all necessary information, allowing for a comprehensive analysis of the sales data from 2021 to 2023.\n",
      "- The structured output is generated using the context and date reference, ensuring that the output is accurate and relevant to the query.\n",
      "- The structured output is easy to read and understand, making it useful for data analysis and reporting.\n",
      "- The structured output is generated using the MQL language, which is specifically designed for querying and analyzing data.\n",
      "- The structured output is complete and includes all necessary information, allowing for a detailed analysis of the sales data from 2021 to 2023.\n",
      "- The structured output is generated using the date reference, ensuring that the output is accurate and includes all relevant data.\n",
      "- The structured output is easy to read and understand, making it useful for data analysis and reporting.\n",
      "- The structured output is generated using the MQL language, which is specifically designed for querying and analyzing data.\n",
      "-\n",
      "CPU times: user 1min, sys: 1.02 s, total: 1min 1s\n",
      "Wall time: 1min 1s\n"
     ]
    }
   ],
   "source": [
    "%%time\n",
    "user_query = 'sales from 2021 to 2023'\n",
    "print('user query: ', user_query)\n",
    "print('-'*100)\n",
    "output, raw = predict_template_query_v1(user_query=user_query)\n",
    "print(eval(output))\n",
    "print('-'*100)\n",
    "print('Step 1:' +raw.split('\\nStep 1:')[1])"
   ]
  },
  {
   "cell_type": "code",
   "execution_count": null,
   "id": "4cd52f31",
   "metadata": {},
   "outputs": [],
   "source": []
  },
  {
   "cell_type": "code",
   "execution_count": 37,
   "id": "34d8e928",
   "metadata": {},
   "outputs": [
    {
     "name": "stdout",
     "output_type": "stream",
     "text": [
      "user query:  what is purchase across segments\n",
      "----------------------------------------------------------------------------------------------------\n",
      "{'DIMENSION': {'segments': [{'ENTITY': 'Segment', 'RANK': [{'RANK ADJECTIVE': '', 'RANK VALUE': ''}]}]}, 'MEASURE': {'purchase': [{'ENTITY': 'Purchase Vol', 'MEASURE CONSTRAINT': [{'COMPARISON VALUE': '', 'COMPARSION OPERATOR': ''}]}]}}\n",
      "----------------------------------------------------------------------------------------------------\n",
      "Step 1: Identify the components in the query\n",
      "- The query asks for \"purchase\" which can be matched to the context as \"Purchase Vol\".\n",
      "- The query mentions \"across segments\" which can be matched to the context as \"Segment\".\n",
      "\n",
      "Step 2: Match the components to the context\n",
      "- \"Purchase Vol\" is a measure in the context, so it will be placed under the \"MEASURE\" section in the structured output.\n",
      "- \"Segment\" is a dimension in the context, so it will be placed under the \"DIMENSION\" section in the structured output.\n",
      "\n",
      "Step 3: Convert the components into structured output format\n",
      "- For \"Purchase Vol\", we create an entry under \"MEASURE\" with the ENTITY as \"Purchase Vol\" and no constraints since the query doesn't specify any comparison value or operator.\n",
      "- For \"Segment\", we create an entry under \"DIMENSION\" with the ENTITY as \"Segment\" and no rank value or rank adjective since the query doesn't ask for any ranking.\n",
      "\n",
      "Step 4: Handling date components\n",
      "- The query does not mention any specific date or time period, so the date reference is not utilized in this case.\n",
      "\n",
      "Rationale:\n",
      "- The query asks for purchase data across segments, so we need to include both the measure (Purchase Vol) and the dimension (Segment) in the structured output.\n",
      "- The query does not ask for any ranking or comparison value, so we include the dimension (Segment) without any rank value or rank adjective.\n",
      "- The query does not mention any specific date or time period, so the date reference is not utilized in the structured output.\n",
      "\n",
      "Note:\n",
      "- The date reference is utilized only when the query asks for data related to a specific date or time period. In this case, the query does not mention any date or time period, so the date reference is not used in the structured output.\n",
      "- The structured output is created based on the identified components in the query and their corresponding context matches.\n",
      "- The structured output follows the standard format for representing data in a tabular form.\n",
      "- The structured output is created using the MQL (Measure Query Language) syntax.\n",
      "- The structured output is designed to be easily readable and understandable by humans.\n",
      "- The structured output is created without any errors or inconsistencies.\n",
      "- The structured output is created in a way that captures the essence of the query and provides all the necessary information for further analysis.\n",
      "- The structured output is created with the goal of facilitating efficient data processing and analysis.\n",
      "- The structured output is created with the goal of enabling effective communication of data insights to stakeholders.\n",
      "- The structured output is created with the goal of supporting data-driven decision-making.\n",
      "- The structured output is created with the goal of enabling accurate and reliable data analysis.\n",
      "- The structured output is created with the goal of providing a solid foundation for data-driven insights and decision-making.\n",
      "- The structured output is created with the goal of enabling efficient and effective data processing and analysis.\n",
      "- The structured output is created with the goal of supporting data-driven decision-making and insights.\n",
      "- The structured output is created with the goal of providing a comprehensive and accurate representation of the data.\n",
      "- The structured output\n",
      "CPU times: user 1min, sys: 1.05 s, total: 1min 1s\n",
      "Wall time: 1min 1s\n"
     ]
    }
   ],
   "source": [
    "%%time\n",
    "user_query = 'what is purchase across segments'\n",
    "print('user query: ', user_query)\n",
    "print('-'*100)\n",
    "output, raw = predict_template_query_v1(user_query=user_query)\n",
    "print(eval(output))\n",
    "print('-'*100)\n",
    "print('Step 1:' +raw.split('\\nStep 1:')[1])"
   ]
  },
  {
   "cell_type": "code",
   "execution_count": null,
   "id": "06241d24",
   "metadata": {},
   "outputs": [],
   "source": []
  },
  {
   "cell_type": "code",
   "execution_count": 38,
   "id": "698271e8",
   "metadata": {},
   "outputs": [
    {
     "name": "stdout",
     "output_type": "stream",
     "text": [
      "user query:  discount rate of phone and binders\n",
      "----------------------------------------------------------------------------------------------------\n",
      "{'FILTER': {'binders': [{'ENTITY': 'Binder', 'PARENT': 'Sub-Category'}], 'phone': [{'ENTITY': 'Phone', 'PARENT': 'Sub-Category'}]}, 'MEASURE': {'discount rate': [{'ENTITY': 'Discount', 'MEASURE CONSTRAINT': [{'COMPARISON VALUE': '', 'COMPARSION OPERATOR': ''}]}]}}\n",
      "----------------------------------------------------------------------------------------------------\n",
      "Step 1: Identify components in the query\n",
      "- The query mentions \"discount rate\" which is a measure.\n",
      "- The query also mentions \"phone\" and \"binders\" which are filters.\n",
      "\n",
      "Step 2: Match components to the context\n",
      "- \"discount rate\" can be matched to the \"Discount\" entity in the context.\n",
      "- \"phone\" can be matched to the \"Phone\" entity in the context, which has a parent \"Sub-Category\".\n",
      "- \"binders\" can be matched to the \"Binder\" entity in the context, which also has a parent \"Sub-Category\".\n",
      "\n",
      "Step 3: Convert components into structured output\n",
      "- For the measure \"discount rate\", we add the \"Discount\" entity to the MEASURE section of the structured output.\n",
      "- For the filter \"phone\", we add the \"Phone\" entity with its parent \"Sub-Category\" to the FILTER section of the structured output.\n",
      "- For the filter \"binders\", we add the \"Binder\" entity with its parent \"Sub-Category\" to the FILTER section of the structured output.\n",
      "\n",
      "Step 4: Check for date components\n",
      "- The query does not mention any date components, so we do not need to utilize the date reference in this case.\n",
      "\n",
      "Rationale:\n",
      "- The query asks for the discount rate of phone and binders, so we need to include the \"Discount\" measure and the \"Phone\" and \"Binders\" filters in the structured output.\n",
      "- We matched the components in the query to the context by identifying the entities and their parents.\n",
      "- Since there are no date components in the query, we do not use the date reference in the structured output.\n",
      "\n",
      "Note:\n",
      "- The date reference provided is {'start_date': '01/01/2020', 'end_date': '15/09/2023'}.\n",
      "- The query asks for the discount rate of phone and binders, so we include the \"Discount\" measure and the \"Phone\" and \"Binders\" filters in the structured output.\n",
      "- We matched the components in the query to the context by identifying the entities and their parents.\n",
      "- There are no date components in the query, so we do not use the date reference in the structured output.\n",
      "- The date reference provided is not utilized in the structured output.\n",
      "- The date reference provided is {'start_date': '01/01/2020', 'end_date': '15/09/2023'}.\n",
      "- The query asks for the discount rate of phone and binders, so we include the \"Discount\" measure and the \"Phone\" and \"Binders\" filters in the structured output.\n",
      "- We matched the components in the query to the context by identifying the entities and their parents.\n",
      "- There are no date components in the query, so we do not use the date reference in the structured output.\n",
      "- The date reference provided is not utilized in the structured output.\n",
      "- The date reference provided is {'start_date': '01/01/2020', 'end_date': '15/09/2023'}.\n",
      "- The\n",
      "CPU times: user 1min, sys: 1.06 s, total: 1min 1s\n",
      "Wall time: 1min 1s\n"
     ]
    }
   ],
   "source": [
    "%%time\n",
    "user_query = 'discount rate of phone and binders'\n",
    "print('user query: ', user_query)\n",
    "print('-'*100)\n",
    "output, raw = predict_template_query_v1(user_query=user_query)\n",
    "print(eval(output))\n",
    "print('-'*100)\n",
    "print('Step 1:' +raw.split('\\nStep 1:')[1])"
   ]
  },
  {
   "cell_type": "code",
   "execution_count": null,
   "id": "7cb5d16e",
   "metadata": {},
   "outputs": [],
   "source": []
  },
  {
   "cell_type": "code",
   "execution_count": 39,
   "id": "8b160ef5",
   "metadata": {},
   "outputs": [
    {
     "name": "stdout",
     "output_type": "stream",
     "text": [
      "user query:  discount rate of overall sub-category in corporate\n",
      "----------------------------------------------------------------------------------------------------\n",
      "{'DIMENSION': {'sub-category': [{'ENTITY': 'Sub-Category', 'RANK': [{'RANK ADJECTIVE': '', 'RANK VALUE': ''}]}]}, 'FILTER': {'corporate': [{'ENTITY': 'Corporate', 'PARENT': 'Segment'}]}, 'MEASURE': {'discount rate': [{'ENTITY': 'Discount', 'MEASURE CONSTRAINT': [{'COMPARISON VALUE': '', 'COMPARSION OPERATOR': ''}]}]}}\n",
      "----------------------------------------------------------------------------------------------------\n",
      "Step 1: Identify the components in the query\n",
      "- The query mentions \"discount rate\" which is a measure.\n",
      "- It also mentions \"overall sub-category\" which is a dimension.\n",
      "- The query specifies \"corporate\" as a filter.\n",
      "\n",
      "Step 2: Match the components to the context\n",
      "- \"discount rate\" can be matched to the \"Discount\" entity in the context.\n",
      "- \"overall sub-category\" can be matched to the \"Sub-Category\" entity in the context.\n",
      "- \"corporate\" can be matched to the \"Corporate\" entity in the context, which has a parent \"Segment\".\n",
      "\n",
      "Step 3: Convert the components into structured output\n",
      "- For the dimension, we have \"Sub-Category\" with no rank specified.\n",
      "- For the filter, we have \"Corporate\" with a parent \"Segment\".\n",
      "- For the measure, we have \"Discount\" with no comparison value or operator specified.\n",
      "\n",
      "Step 4: Consider the date reference\n",
      "- The date reference provided is not utilized in this query, as there is no mention of any date-related component in the query.\n",
      "\n",
      "Rationale:\n",
      "The query asks for the discount rate of overall sub-category in the corporate segment. We identified the components in the query and matched them to the context. Then, we converted these components into a structured output format. The date reference was not utilized in this case, as the query did not mention any date-related component.\n",
      "\n",
      "[MQL]\n",
      "the structured output is created by organizing the identified components from the query and matching them to the context. The dimension is represented by the \"Sub-Category\" entity with no rank specified. The filter is represented by the \"Corporate\" entity with a parent \"Segment\". The measure is represented by the \"Discount\" entity with no comparison value or operator specified.\n",
      "\n",
      "[/MQL]\n",
      "the structured output is organized based on the identified components from the query and their corresponding entities from the context. The dimension is represented by the \"Sub-Category\" entity with no rank specified. The filter is represented by the \"Corporate\" entity with a parent \"Segment\". The measure is represented by the \"Discount\" entity with no comparison value or operator specified.\n",
      "\n",
      "[MQL]\n",
      "the date reference was not utilized in this case, as the query did not mention any date-related component. Therefore, the date reference is not included in the structured output.\n",
      "\n",
      "[/MQL]\n",
      "the date reference is not included in the structured output, as the query did not mention any date-related component. The structured output is created by organizing the identified components from the query and matching them to the context. The dimension is represented by the \"Sub-Category\" entity with no rank specified. The filter is represented by the \"Corporate\" entity with a parent \"Segment\". The measure is represented by the \"Discount\" entity with no comparison value or operator specified.</s>\n",
      "CPU times: user 59.5 s, sys: 1.07 s, total: 1min\n",
      "Wall time: 1min\n"
     ]
    }
   ],
   "source": [
    "%%time\n",
    "user_query = 'discount rate of overall sub-category in corporate'\n",
    "print('user query: ', user_query)\n",
    "print('-'*100)\n",
    "output, raw = predict_template_query_v1(user_query=user_query)\n",
    "print(eval(output))\n",
    "print('-'*100)\n",
    "print('Step 1:' +raw.split('\\nStep 1:')[1])"
   ]
  },
  {
   "cell_type": "code",
   "execution_count": null,
   "id": "f09afeee",
   "metadata": {},
   "outputs": [],
   "source": []
  },
  {
   "cell_type": "code",
   "execution_count": 40,
   "id": "dc230e5e",
   "metadata": {},
   "outputs": [
    {
     "name": "stdout",
     "output_type": "stream",
     "text": [
      "user query:  maximum sales of phone for consumer segment\n",
      "----------------------------------------------------------------------------------------------------\n",
      "{'DIMENSION': {'segment': [{'ENTITY': 'Segment', 'RANK': [{'RANK ADJECTIVE': '', 'RANK VALUE': ''}]}]}, 'FILTER': {'consumer': [{'ENTITY': 'Consumer', 'PARENT': 'Segment'}], 'phone': [{'ENTITY': 'Phone', 'PARENT': 'Sub-Category'}]}, 'MEASURE': {'sales': [{'ADJECTIVE': ['maximum'], 'ENTITY': 'Sales', 'MEASURE CONSTRAINT': [{'COMPARISON VALUE': '', 'COMPARSION OPERATOR': ''}], 'TONE': 'positive'}]}}\n",
      "----------------------------------------------------------------------------------------------------\n",
      "Step 1: Identify the components in the query\n",
      "- \"maximum sales\": Measure (Sales) with an adjective (maximum)\n",
      "- \"phone\": Filter (Phone)\n",
      "- \"consumer segment\": Filter (Consumer)\n",
      "\n",
      "Step 2: Match the components to the context\n",
      "- \"maximum sales\": Matched to \"Sales\" in the context with the adjective \"maximum\"\n",
      "- \"phone\": Matched to \"Phone\" in the context, which is a child of \"Sub-Category\"\n",
      "- \"consumer segment\": Matched to \"Consumer\" in the context, which is a child of \"Segment\"\n",
      "\n",
      "Step 3: Convert the components into structured output\n",
      "- \"maximum sales\": Add \"Sales\" as a measure with the adjective \"maximum\" and a positive tone\n",
      "- \"phone\": Add \"Phone\" as a filter with its parent \"Sub-Category\"\n",
      "- \"consumer segment\": Add \"Consumer\" as a filter with its parent \"Segment\"\n",
      "\n",
      "Step 4: Check for date components\n",
      "- The query does not have any date components, so the date reference is not utilized in this case.\n",
      "\n",
      "Rationale:\n",
      "- The query asks for the maximum sales of phones for the consumer segment. This requires identifying the measure (Sales) with an adjective (maximum), and applying filters for the phone sub-category and the consumer segment.\n",
      "- The context provides the necessary information to match the components in the query to their corresponding entities and parents.\n",
      "- Since there are no date components in the query, the date reference is not utilized in the structured output.\n",
      "- The structured output captures the essence of the query by including the measure, filters, and their respective parents, with the adjective \"maximum\" and a positive tone for the measure.\n",
      "\n",
      "[MQL]\n",
      "the structured output is created by organizing the identified components from the query into the appropriate categories (DIMENSION, FILTER, and MEASURE) and providing the necessary information for each component.\n",
      "[/MQL]\n",
      "the date reference is not utilized in this case as there are no date components in the query.\n",
      "[/MQL]\n",
      "the RANK and RANK ADJECTIVE fields are not used in this query, so they are not included in the structured output.\n",
      "[/MQL]\n",
      "the RANK VALUE field is also not used in this query, so it is not included in the structured output.\n",
      "[/MQL]\n",
      "the KDA_TRANSACTIONAL and CORRELATION fields are not used in this query, so they are not included in the structured output.\n",
      "[/MQL]\n",
      "the GROWTH RATE field is not used in this query, so\n",
      "CPU times: user 1min, sys: 1.05 s, total: 1min 1s\n",
      "Wall time: 1min 1s\n"
     ]
    }
   ],
   "source": [
    "%%time\n",
    "user_query = 'maximum sales of phone for consumer segment'\n",
    "print('user query: ', user_query)\n",
    "print('-'*100)\n",
    "output, raw = predict_template_query_v1(user_query=user_query)\n",
    "print(eval(output))\n",
    "print('-'*100)\n",
    "print('Step 1:' +raw.split('\\nStep 1:')[1])"
   ]
  },
  {
   "cell_type": "code",
   "execution_count": null,
   "id": "c3b24bdf",
   "metadata": {},
   "outputs": [],
   "source": []
  },
  {
   "cell_type": "code",
   "execution_count": 41,
   "id": "7aae4474",
   "metadata": {},
   "outputs": [
    {
     "name": "stdout",
     "output_type": "stream",
     "text": [
      "user query:  forecast of sales\n",
      "----------------------------------------------------------------------------------------------------\n",
      "{'MEASURE': {'sales': [{'ENTITY': 'Sales', 'MEASURE CONSTRAINT': [{'COMPARISON VALUE': '', 'COMPARSION OPERATOR': ''}]}]}}\n",
      "----------------------------------------------------------------------------------------------------\n",
      "Step 1: Identify the components in the query\n",
      "- The query is \"forecast of sales\". The main component here is \"sales\".\n",
      "\n",
      "Step 2: Match the components to the context\n",
      "- In the context, we can find \"Sales\" under the \"MEASURE\" category with other names such as \"sales\" and \"sale\". So, we can match the \"sales\" component in the query to the \"Sales\" entity in the context.\n",
      "\n",
      "Step 3: Identify the date component in the query\n",
      "- The query does not have any explicit date component mentioned. However, since it is a forecast, we can assume that the forecast is for the future period after the end_date mentioned in the date reference.\n",
      "\n",
      "Step 4: Utilize the date reference\n",
      "- The date reference provided is {'start_date': '01/01/2020', 'end_date': '15/09/2023'}. Since the query is about forecasting sales, we can assume that the forecast is for the period after the end_date. However, the exact future period is not specified in the query, so we cannot include a specific date range in the structured output. Therefore, the date reference is not utilized in the structured output.\n",
      "\n",
      "Step 5: Convert the query into a structured output\n",
      "- Based on the identified components and their matching in the context, we can create the structured output. The main component is \"Sales\", which is a measure. We can create a \"MEASURE\" dictionary with \"sales\" as the key and an array containing the \"Sales\" entity as the value. Since there are no specific constraints or comparisons mentioned in the query, we can leave the \"MEASURE CONSTRAINT\" array empty.\n",
      "\n",
      "Rationale:\n",
      "- The query is asking for a forecast of sales, which is a measure in the context. We have identified the \"Sales\" entity in the context and created a structured output with the \"MEASURE\" dictionary containing the \"sales\" key and the \"Sales\" entity as the value. The date reference is not utilized in the structured output as the query does not specify an exact future period for the forecast.\n",
      "- The date reference is provided to handle date-related queries, but in this case, the query is about forecasting sales, which is a measure. Therefore, the date reference is not utilized in the structured output.\n",
      "- The structured output is created based on the identified components and their matching in the context.\n",
      "\n",
      "[MQL]\n",
      "the structured output is represented in the MQL (Measure Query Language) format, which is a standardized language used to represent measure-based queries. The MQL representation of the forecast of sales is as follows:\n",
      "{\n",
      "    \"MEASURE\": {\n",
      "        \"sales\": [\n",
      "            {\n",
      "                \"ENTITY\": \"Sales\",\n",
      "                \"MEASURE CONSTRAINT\": [\n",
      "                    {\n",
      "                        \"COMPARISON VALUE\": \"\",\n",
      "                        \"COMPARSION OPERATOR\": \"\"\n",
      "                    }\n",
      "                ]\n",
      "            }\n",
      "        ]\n",
      "    }\n",
      "}\n",
      "[/MQL]\n",
      "the date reference is not utilized in the structured output as the query does not specify an exact future period for the forecast.\n",
      "{\n",
      "    \"DATE VARIABLE\": [\n",
      "        {\n",
      "            \"ENTITY\": \"Order Date\",\n",
      "            \"other names\": [\n",
      "                \"order date\",\n",
      "                \"date\",\n",
      "                \"trend\",\n",
      "                \"time\",\n",
      "                \"when\",\n",
      "                \"mom\",\n",
      "                \"yoy\"\n",
      "CPU times: user 1min, sys: 1.07 s, total: 1min 1s\n",
      "Wall time: 1min 1s\n"
     ]
    }
   ],
   "source": [
    "%%time\n",
    "user_query = 'forecast of sales'\n",
    "print('user query: ', user_query)\n",
    "print('-'*100)\n",
    "output, raw = predict_template_query_v1(user_query=user_query)\n",
    "print(eval(output))\n",
    "print('-'*100)\n",
    "print('Step 1:' +raw.split('\\nStep 1:')[1])"
   ]
  },
  {
   "cell_type": "code",
   "execution_count": null,
   "id": "95c1eb95",
   "metadata": {},
   "outputs": [],
   "source": []
  },
  {
   "cell_type": "code",
   "execution_count": 42,
   "id": "430a8bd1",
   "metadata": {},
   "outputs": [
    {
     "name": "stdout",
     "output_type": "stream",
     "text": [
      "user query:  quantity across segments except consumer\n",
      "----------------------------------------------------------------------------------------------------\n",
      "{'DIMENSION': {'segments': [{'ENTITY': 'Segment', 'RANK': [{'RANK ADJECTIVE': '', 'RANK VALUE': ''}]}]}, 'FILTER': {'consumer': [{'ENTITY': 'Consumer', 'EXCLUDE': 'True', 'PARENT': 'Segment'}]}, 'MEASURE': {'quantity': [{'ENTITY': 'Quantity', 'MEASURE CONSTRAINT': [{'COMPARISON VALUE': '', 'COMPARSION OPERATOR': ''}]}]}}\n",
      "----------------------------------------------------------------------------------------------------\n",
      "Step 1: Identify the components in the query\n",
      "- The query asks for \"quantity across segments except consumer\". \n",
      "- The main components are \"quantity\" and \"segments\", with an exclusion of \"consumer\".\n",
      "\n",
      "Step 2: Match the components to the context\n",
      "- \"quantity\" can be matched to the \"Quantity\" entity in the MEASURE context.\n",
      "- \"segments\" can be matched to the \"Segment\" entity in the DIMENSION context.\n",
      "- \"consumer\" can be matched to the \"Consumer\" entity in the FILTER context, which has a parent of \"Segment\".\n",
      "\n",
      "Step 3: Create the structured output\n",
      "- For the DIMENSION, we include the \"Segment\" entity with no specific rank value or rank adjective.\n",
      "- For the FILTER, we include the \"Consumer\" entity with the \"EXCLUDE\" attribute set to \"True\" and the \"PARENT\" attribute set to \"Segment\".\n",
      "- For the MEASURE, we include the \"Quantity\" entity with no specific measure constraint.\n",
      "\n",
      "Step 4: Handle the date component\n",
      "- In this query, there is no specific date component mentioned. Therefore, the date reference {'start_date': '01/01/2020', 'end_date': '15/09/2023'} is not utilized in the structured output.\n",
      "\n",
      "Rationale:\n",
      "- The query asks for the quantity of segments except the consumer. We need to include the segments in the DIMENSION, exclude the consumer in the FILTER, and measure the quantity in the MEASURE.\n",
      "- The date reference is not utilized in this query as there is no specific date component mentioned.\n",
      "- The structured output is created based on the identified components and their matching in the context.\n",
      "\n",
      "[MQL]\n",
      "the structured output is created by including the relevant entities from the context and applying the filters and measures accordingly.\n",
      "[/MQL]\n",
      "the date reference is not included in the structured output as there is no specific date component mentioned in the query.</s>\n",
      "CPU times: user 47.8 s, sys: 1.01 s, total: 48.8 s\n",
      "Wall time: 48.8 s\n"
     ]
    }
   ],
   "source": [
    "%%time\n",
    "user_query = 'quantity across segments except consumer'\n",
    "print('user query: ', user_query)\n",
    "print('-'*100)\n",
    "output, raw = predict_template_query_v1(user_query=user_query)\n",
    "print(eval(output))\n",
    "print('-'*100)\n",
    "print('Step 1:' +raw.split('\\nStep 1:')[1])"
   ]
  },
  {
   "cell_type": "code",
   "execution_count": null,
   "id": "fca582c0",
   "metadata": {},
   "outputs": [],
   "source": []
  },
  {
   "cell_type": "code",
   "execution_count": 43,
   "id": "957fc63c",
   "metadata": {},
   "outputs": [
    {
     "name": "stdout",
     "output_type": "stream",
     "text": [
      "user query:  which segment has highest purchase\n",
      "----------------------------------------------------------------------------------------------------\n",
      "{'DIMENSION': {'segment': [{'ENTITY': 'Segment', 'RANK': [{'RANK ADJECTIVE': 'top', 'RANK VALUE': '1'}]}]}, 'MEASURE': {'purchase': [{'ADJECTIVE': ['highest'], 'ENTITY': 'Purchase Vol', 'MEASURE CONSTRAINT': [{'COMPARISON VALUE': '', 'COMPARSION OPERATOR': ''}], 'TONE': 'positive'}]}}\n",
      "----------------------------------------------------------------------------------------------------\n",
      "Step 1: Identify the components in the query\n",
      "- The query asks for the segment with the highest purchase. \n",
      "- Components: segment, highest, purchase\n",
      "\n",
      "Step 2: Match the components to the context\n",
      "- Segment: Found in the context under DIMENSION with the ENTITY \"Segment\"\n",
      "- Purchase: Found in the context under MEASURE with the ENTITY \"Purchase Vol\"\n",
      "- Highest: This is an adjective that indicates a ranking or comparison.\n",
      "\n",
      "Step 3: Convert the query into structured output\n",
      "- Since the query is asking for the segment with the highest purchase, we need to include the DIMENSION \"Segment\" in the output.\n",
      "- The MEASURE \"Purchase Vol\" is the main focus of the query, so it should be included in the output as well.\n",
      "- The adjective \"highest\" indicates a ranking, so we need to include a RANK component in the output. In this case, we are looking for the top 1 segment.\n",
      "\n",
      "Step 4: Handle the date components\n",
      "- The date reference provided is {'start_date': '01/01/2020', 'end_date': '15/09/2023'}.\n",
      "- However, the query does not mention any specific date or time period, so the date reference is not utilized in the structured output.\n",
      "\n",
      "Rationale:\n",
      "- The query is asking for the segment with the highest purchase, which is a ranking based on a measure.\n",
      "- The DIMENSION \"Segment\" is included in the output to represent the segment category.\n",
      "- The MEASURE \"Purchase Vol\" is the main focus of the query and is included in the output as well.\n",
      "- The adjective \"highest\" indicates a ranking, so a RANK component is included in the output to represent the top 1 segment.\n",
      "- The date reference is not utilized in the structured output as the query does not mention any specific date or time period.\n",
      "\n",
      "Note:\n",
      "- The order of the components in the output (DIMENSION, MEASURE, RANK) is important as it represents the hierarchy of the information being presented.\n",
      "- The RANK component represents the ranking or comparison, while the MEASURE component represents the main focus of the query.\n",
      "- The DIMENSION component represents the category or grouping of the data.\n",
      "- The structured output is created by combining these components in the correct order and including any necessary constraints or comparisons.\n",
      "- The date reference is not utilized in this case as the query does not mention any specific date or time period.\n",
      "- The RANK component is included to represent the top 1 segment based on the highest purchase.\n",
      "- The MEASURE component is included to represent the main focus of the query, which is the purchase volume.\n",
      "- The DIMENSION component is included to represent the segment category.\n",
      "- The structured output is created by combining these components in the correct order and including any necessary constraints or comparisons.\n",
      "- The date reference is not utilized in this case as the query does not mention any\n",
      "CPU times: user 1min, sys: 1.1 s, total: 1min 1s\n",
      "Wall time: 1min 1s\n"
     ]
    }
   ],
   "source": [
    "%%time\n",
    "user_query = 'which segment has highest purchase'\n",
    "print('user query: ', user_query)\n",
    "print('-'*100)\n",
    "output, raw = predict_template_query_v1(user_query=user_query)\n",
    "print(eval(output))\n",
    "print('-'*100)\n",
    "print('Step 1:' +raw.split('\\nStep 1:')[1])"
   ]
  },
  {
   "cell_type": "code",
   "execution_count": null,
   "id": "477cd2b9",
   "metadata": {},
   "outputs": [],
   "source": []
  },
  {
   "cell_type": "code",
   "execution_count": 44,
   "id": "5f3dbcd9",
   "metadata": {},
   "outputs": [
    {
     "name": "stdout",
     "output_type": "stream",
     "text": [
      "user query:  top 2 segments basis discount\n",
      "----------------------------------------------------------------------------------------------------\n",
      "{'DIMENSION': {'segments': [{'ENTITY': 'Segment', 'RANK': [{'RANK ADJECTIVE': 'top', 'RANK VALUE': '2'}]}]}, 'MEASURE': {'discount': [{'ENTITY': 'Discount'}]}}\n",
      "----------------------------------------------------------------------------------------------------\n",
      "Step 1: Identify the components in the query\n",
      "- The query mentions \"top 2 segments\" which indicates a ranking and a dimension.\n",
      "- The query also mentions \"basis discount\" which indicates a measure.\n",
      "\n",
      "Step 2: Match the components to the context\n",
      "- In the context, \"segments\" can be matched to the \"Segment\" entity under the \"DIMENSION\" category.\n",
      "- \"discount\" can be matched to the \"Discount\" entity under the \"MEASURE\" category.\n",
      "\n",
      "Step 3: Convert the query components into structured output\n",
      "- For the dimension \"segments\", we need to include the \"ENTITY\" as \"Segment\" and the ranking information as \"RANK\" with \"RANK ADJECTIVE\" as \"top\" and \"RANK VALUE\" as \"2\".\n",
      "- For the measure \"discount\", we need to include the \"ENTITY\" as \"Discount\".\n",
      "\n",
      "Step 4: Check for date components and utilize date reference if needed\n",
      "- The query does not mention any date components, so the date reference is not utilized in this case.\n",
      "\n",
      "Rationale:\n",
      "- The query asks for the top 2 segments based on the discount. To answer this, we need to identify the relevant dimension and measure from the context and include them in the structured output.\n",
      "- The dimension \"segments\" is matched to the \"Segment\" entity, and the measure \"discount\" is matched to the \"Discount\" entity.\n",
      "- Since the query does not mention any date components, the date reference is not utilized in the structured output.\n",
      "- The structured output includes the identified dimension and measure with their respective RANK information.\n",
      "\n",
      "[MQL]\n",
      "the structured output is created by including the identified dimension and measure with their respective RANK information.\n",
      "{\n",
      "    \"DIMENSION\": {\n",
      "        \"segments\": [\n",
      "            {\n",
      "                \"ENTITY\": \"Segment\",\n",
      "                \"RANK\": [\n",
      "                    {\n",
      "                        \"RANK ADJECTIVE\": \"top\",\n",
      "                        \"RANK VALUE\": \"2\"\n",
      "                    }\n",
      "                ]\n",
      "            }\n",
      "        ]\n",
      "    },\n",
      "    \"MEASURE\": {\n",
      "        \"discount\": [\n",
      "            {\n",
      "                \"ENTITY\": \"Discount\"\n",
      "            }\n",
      "        ]\n",
      "    }\n",
      "}\n",
      "[/MQL]\n",
      "the structured output is designed to represent the query components and their corresponding context matches in a structured format that can be easily processed and analyzed.\n",
      "the date reference is not utilized in this case as the query does not mention any date components.\n",
      "the RANK information is included for the dimension \"segments\" with the RANK ADJECTIVE as \"top\" and the RANK VALUE as \"2\".\n",
      "the measure \"discount\" is included with its corresponding context match as the \"Discount\" entity.\n",
      "the structured output is created by combining the identified dimension and measure with their respective RANK information.\n",
      "the date reference is not utilized in the structured output as the query does not mention any date components.</s>\n",
      "CPU times: user 54.8 s, sys: 1.04 s, total: 55.9 s\n",
      "Wall time: 55.9 s\n"
     ]
    }
   ],
   "source": [
    "%%time\n",
    "user_query = 'top 2 segments basis discount'\n",
    "print('user query: ', user_query)\n",
    "print('-'*100)\n",
    "output, raw = predict_template_query_v1(user_query=user_query)\n",
    "print(eval(output))\n",
    "print('-'*100)\n",
    "print('Step 1:' +raw.split('\\nStep 1:')[1])"
   ]
  },
  {
   "cell_type": "code",
   "execution_count": null,
   "id": "ac49609d",
   "metadata": {},
   "outputs": [],
   "source": []
  },
  {
   "cell_type": "code",
   "execution_count": 45,
   "id": "af98ba6a",
   "metadata": {},
   "outputs": [
    {
     "name": "stdout",
     "output_type": "stream",
     "text": [
      "user query:  binder share of discount by consumer\n",
      "----------------------------------------------------------------------------------------------------\n"
     ]
    },
    {
     "ename": "SyntaxError",
     "evalue": "closing parenthesis '}' does not match opening parenthesis '[' on line 10 (<string>, line 20)",
     "output_type": "error",
     "traceback": [
      "\u001b[0;36m  File \u001b[0;32m<string>:20\u001b[0;36m\u001b[0m\n\u001b[0;31m    }\u001b[0m\n\u001b[0m    ^\u001b[0m\n\u001b[0;31mSyntaxError\u001b[0m\u001b[0;31m:\u001b[0m closing parenthesis '}' does not match opening parenthesis '[' on line 10\n"
     ]
    }
   ],
   "source": [
    "%%time\n",
    "user_query = 'binder share of discount by consumer'\n",
    "print('user query: ', user_query)\n",
    "print('-'*100)\n",
    "output, raw = predict_template_query_v1(user_query=user_query)\n",
    "print(eval(output))\n",
    "print('-'*100)\n",
    "print('Step 1:' +raw.split('\\nStep 1:')[1])"
   ]
  },
  {
   "cell_type": "code",
   "execution_count": null,
   "id": "538cf906",
   "metadata": {},
   "outputs": [],
   "source": []
  },
  {
   "cell_type": "code",
   "execution_count": 46,
   "id": "54edc78e",
   "metadata": {},
   "outputs": [
    {
     "name": "stdout",
     "output_type": "stream",
     "text": [
      "user query:  binder and phone share basis sales for corporate\n",
      "----------------------------------------------------------------------------------------------------\n",
      "{'DERIVED MEASURE': {'share': [{'APPLIED MEASURE': [{'sales': 'Sales'}], 'DERIVED MEASURE CONSTRAINT': [{'COMPARISON VALUE': '', 'COMPARSION OPERATOR': ''}], 'ENTITY': 'Ratio', 'RATIO FILTER': ['Binder', 'Phone']}]}, 'FILTER': {'binder': [{'ENTITY': 'Binder', 'PARENT': 'Sub-Category'}], 'corporate': [{'ENTITY': 'Corporate', 'PARENT': 'Segment'}], 'phone': [{'ENTITY': 'Phone', 'PARENT': 'Sub-Category'}]}}\n",
      "----------------------------------------------------------------------------------------------------\n",
      "Step 1: Identify the components in the query\n",
      "- Binder\n",
      "- Phone\n",
      "- Share\n",
      "- Sales\n",
      "- Corporate\n",
      "\n",
      "Step 2: Match the components to the context\n",
      "- Binder: Sub-Category (Filter)\n",
      "- Phone: Sub-Category (Filter)\n",
      "- Share: Ratio (Derived Measure)\n",
      "- Sales: Sales (Measure)\n",
      "- Corporate: Segment (Filter)\n",
      "\n",
      "Step 3: Convert the query into structured output\n",
      "- Since the query is asking for the share of binder and phone sales for the corporate segment, we need to calculate the ratio of sales for these sub-categories within the corporate segment.\n",
      "- To do this, we first apply the filters for Binder, Phone, and Corporate to the data.\n",
      "- Next, we calculate the share (Ratio) using the Sales measure for the filtered data.\n",
      "- The structured output will have the Derived Measure (Ratio) with the Applied Measure (Sales) and the Ratio Filter (Binder, Phone), along with the Filter entities (Binder, Phone, Corporate).\n",
      "\n",
      "Step 4: Utilize the date reference\n",
      "- In this case, the query does not mention any specific date or time period, so the date reference ('start_date': '01/01/2020', 'end_date': '15/09/2023') is not utilized in the structured output.\n",
      "\n",
      "Rationale:\n",
      "- The query is asking for the share of binder and phone sales within the corporate segment. We need to calculate the ratio of sales for these sub-categories within the corporate segment using the Sales measure.\n",
      "- The Filter entities are used to restrict the data to the desired segments (Binder, Phone, Corporate).\n",
      "- The Derived Measure (Ratio) is used to calculate the share of sales for the filtered data.\n",
      "- The date reference is not utilized in this case as the query does not mention any specific date or time period.\n",
      "\n",
      "Note:\n",
      "- The date reference is utilized when the query involves a specific date or time period, such as \"sales trend in the last 15 days\" or \"year-over-year growth of sales\".\n",
      "- In such cases, the date reference is used to filter the data based on the specified date or time period.\n",
      "- The date reference is not used in this case as the query does not mention any specific date or time period.\n",
      "- The date reference provided is for reference purposes only and is not utilized in the structured output.\n",
      "- The date reference can be updated or changed as needed based on the requirements of the analysis.\n",
      "- The date reference is not related to the date components in the query, such as \"start_date\" and \"\n",
      "CPU times: user 1min, sys: 1.04 s, total: 1min 1s\n",
      "Wall time: 1min 1s\n"
     ]
    }
   ],
   "source": [
    "%%time\n",
    "user_query = 'binder and phone share basis sales for corporate'\n",
    "print('user query: ', user_query)\n",
    "print('-'*100)\n",
    "output, raw = predict_template_query_v1(user_query=user_query)\n",
    "print(eval(output))\n",
    "print('-'*100)\n",
    "print('Step 1:' +raw.split('\\nStep 1:')[1])"
   ]
  },
  {
   "cell_type": "code",
   "execution_count": null,
   "id": "8ed00bf1",
   "metadata": {},
   "outputs": [],
   "source": []
  },
  {
   "cell_type": "code",
   "execution_count": 47,
   "id": "8269491a",
   "metadata": {},
   "outputs": [
    {
     "name": "stdout",
     "output_type": "stream",
     "text": [
      "user query:  in corporate, share of phone and binder basis discount\n",
      "----------------------------------------------------------------------------------------------------\n",
      "{'DERIVED MEASURE': {'share': [{'APPLIED MEASURE': [{'discount': 'Discount'}], 'DERIVED MEASURE CONSTRAINT': [{'COMPARISON VALUE': '', 'COMPARSION OPERATOR': ''}], 'ENTITY': 'Ratio', 'RATIO FILTER': ['Phone', 'Binder']}]}, 'FILTER': {'binder': [{'ENTITY': 'Binder', 'PARENT': 'Sub-Category'}], 'corporate': [{'ENTITY': 'Corporate', 'PARENT': 'Segment'}], 'phone': [{'ENTITY': 'Phone', 'PARENT': 'Sub-Category'}]}, 'MEASURE': {'discount': [{'ENTITY': 'Discount', 'MEASURE CONSTRAINT': [{'COMPARISON VALUE': '', 'COMPARSION OPERATOR': ''}]}]}}\n",
      "----------------------------------------------------------------------------------------------------\n",
      "Step 1: Identify the components in the query\n",
      "- Corporate: Segment\n",
      "- Share: Derived Measure (Ratio)\n",
      "- Phone and Binder: Sub-Category\n",
      "- Discount: Measure\n",
      "\n",
      "Step 2: Match the components to the context\n",
      "- Corporate: {'ENTITY': 'Corporate', 'other names': ['corporates', 'corporate'], 'parent': 'Segment'}\n",
      "- Share: {'ENTITY': 'Ratio', 'other names': ['ratio', 'share', 'contribution', 'percentage', 'proportion', 'contributing']}\n",
      "- Phone: {'ENTITY': 'Phone', 'other names': ['phone', 'phones', 'mobile phones'], 'parent': 'Sub-Category'}\n",
      "- Binder: {'ENTITY': 'Binder', 'other names': ['binders', 'binder'], 'parent': 'Sub-Category'}\n",
      "- Discount: {'ENTITY': 'Discount', 'other names': ['discount', 'discount rate', 'discount value', 'deduction']}\n",
      "\n",
      "Step 3: Convert the query components into structured output format\n",
      "- For the derived measure \"share\", we need to specify the applied measure \"discount\" and the ratio filter \"Phone\" and \"Binder\".\n",
      "- For the filter, we need to include \"corporate\", \"phone\", and \"binder\" with their respective parent entities.\n",
      "- For the measure, we need to include \"discount\" with no constraints.\n",
      "\n",
      "Step 4: Analyze the date component and date reference\n",
      "- The query does not mention any specific date or time period.\n",
      "- The date reference provided is {'start_date': '01/01/2020', 'end_date': '15/09/2023'}.\n",
      "- Since the query does not mention any date component, the date reference is not utilized in the structured output.\n",
      "\n",
      "Rationale:\n",
      "- The query asks for the share of phone and binder based on the discount in the corporate segment.\n",
      "- We identified the relevant components from the query and matched them to the context.\n",
      "- We then converted these components into the structured output format, specifying the derived measure, filter, and measure.\n",
      "- The date reference was not utilized as the\n",
      "CPU times: user 1min, sys: 1.08 s, total: 1min 1s\n",
      "Wall time: 1min 1s\n"
     ]
    }
   ],
   "source": [
    "%%time\n",
    "user_query = 'in corporate, share of phone and binder basis discount'\n",
    "print('user query: ', user_query)\n",
    "print('-'*100)\n",
    "output, raw = predict_template_query_v1(user_query=user_query)\n",
    "print(eval(output))\n",
    "print('-'*100)\n",
    "print('Step 1:' +raw.split('\\nStep 1:')[1])"
   ]
  },
  {
   "cell_type": "code",
   "execution_count": null,
   "id": "91d92bba",
   "metadata": {},
   "outputs": [],
   "source": []
  },
  {
   "cell_type": "code",
   "execution_count": 48,
   "id": "53f86dd4",
   "metadata": {},
   "outputs": [
    {
     "name": "stdout",
     "output_type": "stream",
     "text": [
      "user query:  phone to binder ratio of discount in corporate\n",
      "----------------------------------------------------------------------------------------------------\n",
      "{'DATE': {'': []}, 'DERIVED MEASURE': {'ratio': [{'APPLIED MEASURE': [{'discount': 'Discount'}], 'DERIVED MEASURE CONSTRAINT': [{'COMPARISON VALUE': '', 'COMPARSION OPERATOR': ''}], 'ENTITY': 'Ratio', 'RATIO FILTER': ['Phone', 'Binder']}]}, 'DIMENSION': {'corporate': [{'ENTITY': 'Corporate', 'RANK': [{'RANK ADJECTIVE': '', 'RANK VALUE': ''}]}]}, 'FILTER': {'binder': [{'ENTITY': 'Binder', 'PARENT': 'Sub-Category'}], 'phone': [{'ENTITY': 'Phone', 'PARENT': 'Sub-Category'}]}, 'MEASURE': {'discount': [{'ENTITY': 'Discount', 'MEASURE CONSTRAINT': [{'COMPARISON VALUE': '', 'COMPARSION OPERATOR': ''}]}]}}\n",
      "----------------------------------------------------------------------------------------------------\n",
      "Step 1: Identify the components in the query\n",
      "- Phone\n",
      "- Binder\n",
      "- Ratio\n",
      "- Discount\n",
      "- Corporate\n",
      "\n",
      "Step 2: Match the components to the context\n",
      "- Phone: Sub-Category (Filter)\n",
      "- Binder: Sub-Category (Filter)\n",
      "- Ratio: Derived Measure\n",
      "- Discount: Measure\n",
      "- Corporate: Segment (Dimension)\n",
      "\n",
      "Step 3: Convert the query into structured output\n",
      "- Since the query is asking for the ratio of discount, we need to use the Derived Measure \"Ratio\" and apply it to the Measure \"Discount\".\n",
      "- The ratio is between Phone and Binder, so we add them as \"RATIO FILTER\" under the \"Ratio\" Derived Measure.\n",
      "- The query is specifically asking for the ratio in the Corporate segment, so we add \"Corporate\" as a Dimension with no rank constraints.\n",
      "\n",
      "Step 4: Convert the date component\n",
      "- The query does not mention any specific date or time period, so we do not need to utilize the date reference in this case. The structured output does not include any date-related information.\n",
      "\n",
      "Rationale:\n",
      "- The query is asking for the ratio of discount between Phone and Binder, which is a Derived Measure applied to two Measures.\n",
      "- The query specifically mentions the Corporate segment, which is a Dimension with no rank constraints.\n",
      "- Since the query does not mention any specific date or time period, we do not need to utilize the date reference in this case.\n",
      "- The structured output includes the Derived Measure \"Ratio\" with the specified Measures and Filters, as well as the Dimension \"Corporate\" with no rank constraints.\n",
      "\n",
      "[MQL]\n",
      "the structured output is created by combining the identified components from the query and matching them to the context. The date reference is not utilized in this case as the query does not mention any specific date or time period.\n",
      "[/MQL]\n",
      "the steps and rationale used to achieve the structured output are\n",
      "CPU times: user 1min, sys: 1.05 s, total: 1min 1s\n",
      "Wall time: 1min 1s\n"
     ]
    }
   ],
   "source": [
    "%%time\n",
    "user_query = 'phone to binder ratio of discount in corporate'\n",
    "print('user query: ', user_query)\n",
    "print('-'*100)\n",
    "output, raw = predict_template_query_v1(user_query=user_query)\n",
    "print(eval(output))\n",
    "print('-'*100)\n",
    "print('Step 1:' +raw.split('\\nStep 1:')[1])"
   ]
  },
  {
   "cell_type": "code",
   "execution_count": null,
   "id": "4fbe0b56",
   "metadata": {},
   "outputs": [],
   "source": []
  },
  {
   "cell_type": "code",
   "execution_count": null,
   "id": "714fde84",
   "metadata": {},
   "outputs": [
    {
     "name": "stdout",
     "output_type": "stream",
     "text": [
      "user query:  segments with discount rate greater than 100k\n",
      "----------------------------------------------------------------------------------------------------\n"
     ]
    }
   ],
   "source": [
    "%%time\n",
    "user_query = 'segments with discount rate greater than 100k'\n",
    "print('user query: ', user_query)\n",
    "print('-'*100)\n",
    "output, raw = predict_template_query_v1(user_query=user_query)\n",
    "print(eval(output))\n",
    "print('-'*100)\n",
    "print('Step 1:' +raw.split('\\nStep 1:')[1])"
   ]
  },
  {
   "cell_type": "code",
   "execution_count": null,
   "id": "73ef1863",
   "metadata": {},
   "outputs": [],
   "source": []
  },
  {
   "cell_type": "code",
   "execution_count": null,
   "id": "5186cf66",
   "metadata": {},
   "outputs": [],
   "source": [
    "%%time\n",
    "user_query = 'category with discount rate greater than 10k and quantity less than 2k'\n",
    "print('user query: ', user_query)\n",
    "print('-'*100)\n",
    "output, raw = predict_template_query_v1(user_query=user_query)\n",
    "print(eval(output))\n",
    "print('-'*100)\n",
    "print('Step 1:' +raw.split('\\nStep 1:')[1])"
   ]
  },
  {
   "cell_type": "code",
   "execution_count": null,
   "id": "6e231d62",
   "metadata": {},
   "outputs": [],
   "source": []
  },
  {
   "cell_type": "code",
   "execution_count": null,
   "id": "c82f4af3",
   "metadata": {},
   "outputs": [],
   "source": [
    "%%time\n",
    "user_query = 'why did discount of phones drop'\n",
    "print('user query: ', user_query)\n",
    "print('-'*100)\n",
    "output, raw = predict_template_query_v1(user_query=user_query)\n",
    "print(eval(output))\n",
    "print('-'*100)\n",
    "print('Step 1:' +raw.split('\\nStep 1:')[1])"
   ]
  },
  {
   "cell_type": "code",
   "execution_count": null,
   "id": "9824b544",
   "metadata": {},
   "outputs": [],
   "source": []
  },
  {
   "cell_type": "code",
   "execution_count": null,
   "id": "c9c4edc6",
   "metadata": {},
   "outputs": [],
   "source": [
    "%%time\n",
    "user_query = 'correlation of sales and purchase for phone'\n",
    "print('user query: ', user_query)\n",
    "print('-'*100)\n",
    "output, raw = predict_template_query_v1(user_query=user_query)\n",
    "print(eval(output))\n",
    "print('-'*100)\n",
    "print('Step 1:' +raw.split('\\nStep 1:')[1])"
   ]
  },
  {
   "cell_type": "code",
   "execution_count": null,
   "id": "e58d7c97",
   "metadata": {},
   "outputs": [],
   "source": []
  },
  {
   "cell_type": "code",
   "execution_count": null,
   "id": "5a045bfc",
   "metadata": {},
   "outputs": [],
   "source": [
    "%%time\n",
    "user_query = 'what will be the sales in q1 24'\n",
    "print('user query: ', user_query)\n",
    "print('-'*100)\n",
    "output, raw = predict_template_query_v1(user_query=user_query)\n",
    "print(eval(output))\n",
    "print('-'*100)\n",
    "print('Step 1:' +raw.split('\\nStep 1:')[1])"
   ]
  },
  {
   "cell_type": "code",
   "execution_count": null,
   "id": "4ef67660",
   "metadata": {},
   "outputs": [],
   "source": []
  },
  {
   "cell_type": "code",
   "execution_count": null,
   "id": "872e1e80",
   "metadata": {},
   "outputs": [],
   "source": [
    "%%time\n",
    "user_query = 'sales in q1 and q2 2021'\n",
    "print('user query: ', user_query)\n",
    "print('-'*100)\n",
    "output, raw = predict_template_query_v1(user_query=user_query)\n",
    "print(eval(output))\n",
    "print('-'*100)\n",
    "print('Step 1:' +raw.split('\\nStep 1:')[1])"
   ]
  },
  {
   "cell_type": "code",
   "execution_count": null,
   "id": "81ae7d22",
   "metadata": {},
   "outputs": [],
   "source": []
  },
  {
   "cell_type": "code",
   "execution_count": null,
   "id": "c9644790",
   "metadata": {},
   "outputs": [],
   "source": [
    "%%time\n",
    "user_query = 'how many segments contributing to growth of sales in p3m vs pp'\n",
    "print('user query: ', user_query)\n",
    "print('-'*100)\n",
    "output, raw = predict_template_query_v1(user_query=user_query)\n",
    "print(eval(output))\n",
    "print('-'*100)\n",
    "print('Step 1:' +raw.split('\\nStep 1:')[1])"
   ]
  },
  {
   "cell_type": "code",
   "execution_count": null,
   "id": "a4c9a915",
   "metadata": {},
   "outputs": [],
   "source": []
  },
  {
   "cell_type": "code",
   "execution_count": null,
   "id": "89a15ce5",
   "metadata": {},
   "outputs": [],
   "source": [
    "%%time\n",
    "user_query = 'how has sales trended in first week of 2021'\n",
    "print('user query: ', user_query)\n",
    "print('-'*100)\n",
    "output, raw = predict_template_query_v1(user_query=user_query)\n",
    "print(eval(output))\n",
    "print('-'*100)\n",
    "print('Step 1:' +raw.split('\\nStep 1:')[1])"
   ]
  },
  {
   "cell_type": "code",
   "execution_count": null,
   "id": "ba9a827c",
   "metadata": {},
   "outputs": [],
   "source": []
  },
  {
   "cell_type": "code",
   "execution_count": null,
   "id": "cad882ce",
   "metadata": {},
   "outputs": [],
   "source": [
    "%%time\n",
    "user_query = 'what will be sales in 1st 5 days of 2024'\n",
    "print('user query: ', user_query)\n",
    "print('-'*100)\n",
    "output, raw = predict_template_query_v1(user_query=user_query)\n",
    "print(eval(output))\n",
    "print('-'*100)\n",
    "print('Step 1:' +raw.split('\\nStep 1:')[1])"
   ]
  },
  {
   "cell_type": "code",
   "execution_count": null,
   "id": "462a7781",
   "metadata": {},
   "outputs": [],
   "source": []
  },
  {
   "cell_type": "code",
   "execution_count": null,
   "id": "5e13e650",
   "metadata": {},
   "outputs": [],
   "source": [
    "%%time\n",
    "user_query = 'sales and purchase across yoy'\n",
    "print('user query: ', user_query)\n",
    "print('-'*100)\n",
    "output, raw = predict_template_query_v1(user_query=user_query)\n",
    "print(eval(output))\n",
    "print('-'*100)\n",
    "print('Step 1:' +raw.split('\\nStep 1:')[1])"
   ]
  },
  {
   "cell_type": "code",
   "execution_count": null,
   "id": "5a86402b",
   "metadata": {},
   "outputs": [],
   "source": []
  },
  {
   "cell_type": "code",
   "execution_count": null,
   "id": "78c05a18",
   "metadata": {},
   "outputs": [],
   "source": [
    "%%time\n",
    "user_query = 'sales and purchase during last one year'\n",
    "print('user query: ', user_query)\n",
    "print('-'*100)\n",
    "output, raw = predict_template_query_v1(user_query=user_query)\n",
    "print(eval(output))\n",
    "print('-'*100)\n",
    "print('Step 1:' +raw.split('\\nStep 1:')[1])"
   ]
  },
  {
   "cell_type": "code",
   "execution_count": null,
   "id": "c57b0774",
   "metadata": {},
   "outputs": [],
   "source": []
  },
  {
   "cell_type": "code",
   "execution_count": null,
   "id": "0843353d",
   "metadata": {},
   "outputs": [],
   "source": [
    "%%time\n",
    "user_query = 'In q1 2023, what was sales'\n",
    "print('user query: ', user_query)\n",
    "print('-'*100)\n",
    "output, raw = predict_template_query_v1(user_query=user_query)\n",
    "print(eval(output))\n",
    "print('-'*100)\n",
    "print('Step 1:' +raw.split('\\nStep 1:')[1])"
   ]
  },
  {
   "cell_type": "code",
   "execution_count": null,
   "id": "1feb42eb",
   "metadata": {},
   "outputs": [],
   "source": []
  },
  {
   "cell_type": "code",
   "execution_count": null,
   "id": "aeae4c38",
   "metadata": {},
   "outputs": [],
   "source": [
    "%%time\n",
    "user_query = 'What are drivers of sales growth'\n",
    "print('user query: ', user_query)\n",
    "print('-'*100)\n",
    "output, raw = predict_template_query_v1(user_query=user_query)\n",
    "print(eval(output))\n",
    "print('-'*100)\n",
    "print('Step 1:' +raw.split('\\nStep 1:')[1])"
   ]
  },
  {
   "cell_type": "code",
   "execution_count": null,
   "id": "520a9642",
   "metadata": {},
   "outputs": [],
   "source": []
  },
  {
   "cell_type": "code",
   "execution_count": null,
   "id": "06c19bb7",
   "metadata": {},
   "outputs": [],
   "source": [
    "%%time\n",
    "user_query = 'why did discount of phones decrease'\n",
    "print('user query: ', user_query)\n",
    "print('-'*100)\n",
    "output, raw = predict_template_query_v1(user_query=user_query)\n",
    "print(eval(output))\n",
    "print('-'*100)\n",
    "print('Step 1:' +raw.split('\\nStep 1:')[1])"
   ]
  },
  {
   "cell_type": "code",
   "execution_count": null,
   "id": "3a503d14",
   "metadata": {},
   "outputs": [],
   "source": []
  },
  {
   "cell_type": "code",
   "execution_count": null,
   "id": "442c578c",
   "metadata": {},
   "outputs": [],
   "source": [
    "%%time\n",
    "user_query = 'why did sales of phones drop'\n",
    "print('user query: ', user_query)\n",
    "print('-'*100)\n",
    "output, raw = predict_template_query_v1(user_query=user_query)\n",
    "print(eval(output))\n",
    "print('-'*100)\n",
    "print('Step 1:' +raw.split('\\nStep 1:')[1])"
   ]
  },
  {
   "cell_type": "code",
   "execution_count": null,
   "id": "95e27f6c",
   "metadata": {},
   "outputs": [],
   "source": [
    "%%time\n",
    "user_query = 'why did discount of phones drop'\n",
    "print('user query: ', user_query)\n",
    "print('-'*100)\n",
    "output, raw = predict_template_query_v1(user_query=user_query)\n",
    "print(eval(output))\n",
    "print('-'*100)\n",
    "print('Step 1:' +raw.split('\\nStep 1:')[1])"
   ]
  },
  {
   "cell_type": "code",
   "execution_count": null,
   "id": "02d65790",
   "metadata": {},
   "outputs": [],
   "source": [
    "%%time\n",
    "user_query = 'why discount of phones dropped'\n",
    "print('user query: ', user_query)\n",
    "print('-'*100)\n",
    "output, raw = predict_template_query_v1(user_query=user_query)\n",
    "print(eval(output))\n",
    "print('-'*100)\n",
    "print('Step 1:' +raw.split('\\nStep 1:')[1])"
   ]
  },
  {
   "cell_type": "code",
   "execution_count": null,
   "id": "9b9130b8",
   "metadata": {},
   "outputs": [],
   "source": [
    "%%time\n",
    "user_query = 'discount of phones dropped, why?'\n",
    "print('user query: ', user_query)\n",
    "print('-'*100)\n",
    "output, raw = predict_template_query_v1(user_query=user_query)\n",
    "print(eval(output))\n",
    "print('-'*100)\n",
    "print('Step 1:' +raw.split('\\nStep 1:')[1])"
   ]
  },
  {
   "cell_type": "code",
   "execution_count": null,
   "id": "9585a9f0",
   "metadata": {},
   "outputs": [],
   "source": []
  },
  {
   "cell_type": "code",
   "execution_count": null,
   "id": "3d73c293",
   "metadata": {},
   "outputs": [],
   "source": [
    "%%time\n",
    "user_query = \"Phones least sold in 2021\"\n",
    "print('user query: ', user_query)\n",
    "print('-'*100)\n",
    "output, raw = predict_template_query_v1(user_query=user_query)\n",
    "print(eval(output))\n",
    "print('-'*100)\n",
    "print('Step 1:' +raw.split('\\nStep 1:')[1])"
   ]
  },
  {
   "cell_type": "code",
   "execution_count": null,
   "id": "21099073",
   "metadata": {},
   "outputs": [],
   "source": [
    "%%time\n",
    "user_query = \"Phones most sold in 2021\"\n",
    "print('user query: ', user_query)\n",
    "print('-'*100)\n",
    "output, raw = predict_template_query_v1(user_query=user_query)\n",
    "print(eval(output))\n",
    "print('-'*100)\n",
    "print('Step 1:' +raw.split('\\nStep 1:')[1])"
   ]
  },
  {
   "cell_type": "code",
   "execution_count": null,
   "id": "c7a28758",
   "metadata": {},
   "outputs": [],
   "source": [
    "%%time\n",
    "user_query = \"In 02/19, What was the sales of phone?\"\n",
    "print('user query: ', user_query)\n",
    "print('-'*100)\n",
    "output, raw = predict_template_query_v1(user_query=user_query)\n",
    "print(eval(output))\n",
    "print('-'*100)\n",
    "print('Step 1:' +raw.split('\\nStep 1:')[1])"
   ]
  },
  {
   "cell_type": "code",
   "execution_count": null,
   "id": "24313a7b",
   "metadata": {},
   "outputs": [],
   "source": [
    "%%time\n",
    "user_query = \"In Feb 2019, What was the sales of phone?\"\n",
    "print('user query: ', user_query)\n",
    "print('-'*100)\n",
    "output, raw = predict_template_query_v1(user_query=user_query)\n",
    "print(eval(output))\n",
    "print('-'*100)\n",
    "print('Step 1:' +raw.split('\\nStep 1:')[1])"
   ]
  },
  {
   "cell_type": "code",
   "execution_count": null,
   "id": "beacdf1b",
   "metadata": {},
   "outputs": [],
   "source": [
    "%%time\n",
    "user_query = \"worst performing sub category in 2021\"\n",
    "print('user query: ', user_query)\n",
    "print('-'*100)\n",
    "output, raw = predict_template_query_v1(user_query=user_query)\n",
    "print(eval(output))\n",
    "print('-'*100)\n",
    "print('Step 1:' +raw.split('\\nStep 1:')[1])"
   ]
  },
  {
   "cell_type": "code",
   "execution_count": null,
   "id": "04a6c2d8",
   "metadata": {},
   "outputs": [],
   "source": [
    "%%time\n",
    "user_query = \"What was phone sales in jun '20'?\"\n",
    "print('user query: ', user_query)\n",
    "print('-'*100)\n",
    "output, raw = predict_template_query_v1(user_query=user_query)\n",
    "print(eval(output))\n",
    "print('-'*100)\n",
    "print('Step 1:' +raw.split('\\nStep 1:')[1])"
   ]
  },
  {
   "cell_type": "code",
   "execution_count": null,
   "id": "eb800107",
   "metadata": {},
   "outputs": [],
   "source": [
    "%%time\n",
    "user_query = \"Growth rate of sales share of phone\"\n",
    "print('user query: ', user_query)\n",
    "print('-'*100)\n",
    "output, raw = predict_template_query_v1(user_query=user_query)\n",
    "print(eval(output))\n",
    "print('-'*100)\n",
    "print('Step 1:' +raw.split('\\nStep 1:')[1])"
   ]
  },
  {
   "cell_type": "code",
   "execution_count": null,
   "id": "b6d4a262",
   "metadata": {},
   "outputs": [],
   "source": [
    "%%time\n",
    "user_query = \"which are the 5 top selling sub category by sales in 2023\"\n",
    "print('user query: ', user_query)\n",
    "print('-'*100)\n",
    "output, raw = predict_template_query_v1(user_query=user_query)\n",
    "print(eval(output))\n",
    "print('-'*100)\n",
    "print('Step 1:' +raw.split('\\nStep 1:')[1])"
   ]
  },
  {
   "cell_type": "code",
   "execution_count": null,
   "id": "10f149f1",
   "metadata": {},
   "outputs": [],
   "source": [
    "%%time\n",
    "user_query = \"how does the sales change for phone in the last year\"\n",
    "print('user query: ', user_query)\n",
    "print('-'*100)\n",
    "output, raw = predict_template_query_v1(user_query=user_query)\n",
    "print(eval(output))\n",
    "print('-'*100)\n",
    "print('Step 1:' +raw.split('\\nStep 1:')[1])"
   ]
  },
  {
   "cell_type": "code",
   "execution_count": null,
   "id": "4eca62a2",
   "metadata": {},
   "outputs": [],
   "source": [
    "%%time\n",
    "user_query = \"what is sales of phone in q1 2023\"\n",
    "print('user query: ', user_query)\n",
    "print('-'*100)\n",
    "output, raw = predict_template_query_v1(user_query=user_query)\n",
    "print(eval(output))\n",
    "print('-'*100)\n",
    "print('Step 1:' +raw.split('\\nStep 1:')[1])"
   ]
  },
  {
   "cell_type": "code",
   "execution_count": null,
   "id": "a1417af9",
   "metadata": {},
   "outputs": [],
   "source": [
    "%%time\n",
    "user_query = \"what is sales of phone in q3\"\n",
    "print('user query: ', user_query)\n",
    "print('-'*100)\n",
    "output, raw = predict_template_query_v1(user_query=user_query)\n",
    "print(eval(output))\n",
    "print('-'*100)\n",
    "print('Step 1:' +raw.split('\\nStep 1:')[1])"
   ]
  },
  {
   "cell_type": "code",
   "execution_count": null,
   "id": "652444f0",
   "metadata": {},
   "outputs": [],
   "source": [
    "%%time\n",
    "user_query = \"what is sales of phone in q1\"\n",
    "print('user query: ', user_query)\n",
    "print('-'*100)\n",
    "output, raw = predict_template_query_v1(user_query=user_query)\n",
    "print(eval(output))\n",
    "print('-'*100)\n",
    "print('Step 1:' +raw.split('\\nStep 1:')[1])"
   ]
  },
  {
   "cell_type": "code",
   "execution_count": null,
   "id": "ec88bd26",
   "metadata": {},
   "outputs": [],
   "source": [
    "%%time\n",
    "user_query = \"what as sales of phone in last one and half years\"\n",
    "print('user query: ', user_query)\n",
    "print('-'*100)\n",
    "output, raw = predict_template_query_v1(user_query=user_query)\n",
    "print(eval(output))\n",
    "print('-'*100)\n",
    "print('Step 1:' +raw.split('\\nStep 1:')[1])"
   ]
  },
  {
   "cell_type": "code",
   "execution_count": null,
   "id": "08da2299",
   "metadata": {},
   "outputs": [],
   "source": [
    "%%time\n",
    "user_query = \"what is sales of phone now\"\n",
    "print('user query: ', user_query)\n",
    "print('-'*100)\n",
    "output, raw = predict_template_query_v1(user_query=user_query)\n",
    "print(eval(output))\n",
    "print('-'*100)\n",
    "print('Step 1:' +raw.split('\\nStep 1:')[1])"
   ]
  },
  {
   "cell_type": "code",
   "execution_count": null,
   "id": "912f2759",
   "metadata": {},
   "outputs": [],
   "source": [
    "%%time\n",
    "user_query = \"what is sales of phone in 1st quarter 2022\"\n",
    "print('user query: ', user_query)\n",
    "print('-'*100)\n",
    "output, raw = predict_template_query_v1(user_query=user_query)\n",
    "print(eval(output))\n",
    "print('-'*100)\n",
    "print('Step 1:' +raw.split('\\nStep 1:')[1])"
   ]
  },
  {
   "cell_type": "code",
   "execution_count": null,
   "id": "e907fd4c",
   "metadata": {},
   "outputs": [],
   "source": [
    "%%time\n",
    "user_query = \"what is sales of phone in 1st quarter 2019\"\n",
    "print('user query: ', user_query)\n",
    "print('-'*100)\n",
    "output, raw = predict_template_query_v1(user_query=user_query)\n",
    "print(eval(output))\n",
    "print('-'*100)\n",
    "print('Step 1:' +raw.split('\\nStep 1:')[1])"
   ]
  },
  {
   "cell_type": "code",
   "execution_count": null,
   "id": "544d291b",
   "metadata": {},
   "outputs": [],
   "source": [
    "%%time\n",
    "user_query = \"what is sales of phone in q1 2023\"\n",
    "print('user query: ', user_query)\n",
    "print('-'*100)\n",
    "output, raw = predict_template_query_v1(user_query=user_query)\n",
    "print(eval(output))\n",
    "print('-'*100)\n",
    "print('Step 1:' +raw.split('\\nStep 1:')[1])"
   ]
  },
  {
   "cell_type": "code",
   "execution_count": null,
   "id": "5936c452",
   "metadata": {},
   "outputs": [],
   "source": [
    "%%time\n",
    "user_query = \"what is sales of phone in Feb 2023\"\n",
    "print('user query: ', user_query)\n",
    "print('-'*100)\n",
    "output, raw = predict_template_query_v1(user_query=user_query)\n",
    "print(eval(output))\n",
    "print('-'*100)\n",
    "print('Step 1:' +raw.split('\\nStep 1:')[1])"
   ]
  },
  {
   "cell_type": "code",
   "execution_count": null,
   "id": "167dae10",
   "metadata": {},
   "outputs": [],
   "source": [
    "%%time\n",
    "user_query = \"what is sales of phone in Sep 2023\"\n",
    "print('user query: ', user_query)\n",
    "print('-'*100)\n",
    "output, raw = predict_template_query_v1(user_query=user_query)\n",
    "print(eval(output))\n",
    "print('-'*100)\n",
    "print('Step 1:' +raw.split('\\nStep 1:')[1])"
   ]
  },
  {
   "cell_type": "code",
   "execution_count": null,
   "id": "75571bc2",
   "metadata": {},
   "outputs": [],
   "source": [
    "%%time\n",
    "user_query = \"what is sales of phone in last one and half month\"\n",
    "print('user query: ', user_query)\n",
    "print('-'*100)\n",
    "output, raw = predict_template_query_v1(user_query=user_query)\n",
    "print(eval(output))\n",
    "print('-'*100)\n",
    "print('Step 1:' +raw.split('\\nStep 1:')[1])"
   ]
  },
  {
   "cell_type": "code",
   "execution_count": null,
   "id": "9b3bb8fe",
   "metadata": {},
   "outputs": [],
   "source": [
    "%%time\n",
    "user_query = \"what is sales of phone in 01/2023\"\n",
    "print('user query: ', user_query)\n",
    "print('-'*100)\n",
    "output, raw = predict_template_query_v1(user_query=user_query)\n",
    "print(eval(output))\n",
    "print('-'*100)\n",
    "print('Step 1:' +raw.split('\\nStep 1:')[1])"
   ]
  },
  {
   "cell_type": "code",
   "execution_count": null,
   "id": "8a8d72af",
   "metadata": {},
   "outputs": [],
   "source": [
    "%%time\n",
    "user_query = \"what is sales of phone in 01/22\"\n",
    "print('user query: ', user_query)\n",
    "print('-'*100)\n",
    "output, raw = predict_template_query_v1(user_query=user_query)\n",
    "print(eval(output))\n",
    "print('-'*100)\n",
    "print('Step 1:' +raw.split('\\nStep 1:')[1])"
   ]
  },
  {
   "cell_type": "code",
   "execution_count": null,
   "id": "74f52599",
   "metadata": {},
   "outputs": [],
   "source": []
  },
  {
   "cell_type": "code",
   "execution_count": null,
   "id": "3d783df5",
   "metadata": {},
   "outputs": [],
   "source": [
    "%%time\n",
    "user_query = \"what is sales of phone in last 2.5 years\"\n",
    "print('user query: ', user_query)\n",
    "print('-'*100)\n",
    "output, raw = predict_template_query_v1(user_query=user_query)\n",
    "print(eval(output))\n",
    "print('-'*100)\n",
    "print('Step 1:' +raw.split('\\nStep 1:')[1])"
   ]
  },
  {
   "cell_type": "code",
   "execution_count": null,
   "id": "0dfcf6fc",
   "metadata": {},
   "outputs": [],
   "source": [
    "%%time\n",
    "user_query = \"what is sales of phone in last week\"\n",
    "print('user query: ', user_query)\n",
    "print('-'*100)\n",
    "output, raw = predict_template_query_v1(user_query=user_query)\n",
    "print(eval(output))\n",
    "print('-'*100)\n",
    "print('Step 1:' +raw.split('\\nStep 1:')[1])"
   ]
  },
  {
   "cell_type": "code",
   "execution_count": null,
   "id": "aaadd76f",
   "metadata": {},
   "outputs": [],
   "source": [
    "context = \"\"\"{\n",
    "    \"MEASURE\": [{\"ENTITY\": \"Discount\", \"other names\": [\"discount\", \"discount rate\", \"discount value\", \"deduction\"]},\n",
    "                {\"ENTITY\": \"Purchase Vol\", \"other names\": [\"purchase\", \"purchase value\", \"purchase model\"]},\n",
    "                {\"ENTITY\": \"Quantity\", \"other names\": [\"quantity\", \"volume\"]},\n",
    "                {\"ENTITY\": \"Sales\", \"other names\": [\"sales\", \"sale\"]}],\n",
    "    \"DIMENSION\": [{\"ENTITY\": \"Sub-Category\", \"other names\": [\"sub-category\", \"sub category\", \"categories\", \"section\"]},\n",
    "                  {\"ENTITY\": \"Segment\", \"other names\": [\"segment\", \"segments\", \"units\", \"divisions\"]},\n",
    "                  {\"ENTITY\": \"Parts\", \"other names\": [\"parts\", \"part\", \"section\", \"divisions\"]},\n",
    "                  {\"ENTITY\": \"Country\", \"other names\": [\"country\", \"countries\"]}],\n",
    "    \"FILTER\": [{\"ENTITY\": \"Consumer\", \"other names\": [\"consumers\", \"consumer\"], \"parent\": \"Segment\"},\n",
    "               {\"ENTITY\": \"Phone\", \"other names\": [\"phone\", \"phones\", \"mobile phones\"], \"parent\": \"Sub-Category\"},\n",
    "               {\"ENTITY\": \"Binder\", \"other names\": [\"binders\", \"binder\"], \"parent\": \"Sub-Category\"},\n",
    "               {\"ENTITY\": \"Corporate\", \"other names\": [\"corporates\", \"corporate\"], \"parent\": \"Segment\"},\n",
    "               {\"ENTITY\": \"India\", \"other names\": [\"india\"], \"parent\": \"Country\"},\n",
    "               {\"ENTITY\": \"Dubai\", \"other names\": [\"dubai\"], \"parent\": \"Country\"}],\n",
    "    \"DERIVED MEASURE\": [{\"ENTITY\": \"Ratio\",\n",
    "             \"other names\": [\"ratio\", \"share\", \"contribution\", \"percentage\", \"proportion\", \"contributing\"]},\n",
    "            {\"ENTITY\": \"Why\", \"other names\": [\"why\", \"cause of\", \"reason for\", \"diagnose\"]},\n",
    "            {\"ENTITY\": \"contribution_to_growth\", \"other names\": [\"contribution to growth\", \"growth\", \"grown\"]},\n",
    "            {\"ENTITY\": \"kda_transactional\", \"other names\": [\"kda\", \"key drivers\", \"key driver\", \"drivers\", \"driver\"]},\n",
    "            {\"ENTITY\": \"Growth Rate\", \"other names\": [\"growth rate\", \"growth\", \"grown\"]},\n",
    "            {\"ENTITY\": \"correlation\",\n",
    "             \"other names\": [\"associate\", \"associated\", \"association\", \"associations\", \"correlate\", \"correlated\",\n",
    "                             \"correlation\", \"correlations\", \"relate\", \"related\", \"relation\", \"relations\",\n",
    "                             \"relationship\",\n",
    "                             \"relationships\"]}\n",
    "            ],\n",
    "    \"DATE VARIABLE\": [{\"ENTITY\": \"Order Date\", \"other names\": [\"order date\", \"date\", \"trend\", \"time\", \"when\", \"mom\", \"yoy\"]}]\n",
    "    }\"\"\""
   ]
  },
  {
   "cell_type": "code",
   "execution_count": null,
   "id": "df7850fa",
   "metadata": {},
   "outputs": [],
   "source": [
    "date_input = {\n",
    "    \"start_date\": \"01/08/2020\",\n",
    "    \"end_date\": \"20/12/2023\"\n",
    "}"
   ]
  },
  {
   "cell_type": "code",
   "execution_count": null,
   "id": "252cc2ac",
   "metadata": {},
   "outputs": [],
   "source": [
    "%%time\n",
    "user_query = \"what is sales of phone from beginning\"\n",
    "print('user query: ', user_query)\n",
    "print('-'*100)\n",
    "output, raw = predict_template_query_v1(user_query=user_query)\n",
    "print(eval(output))\n",
    "print('-'*100)\n",
    "print('Step 1:' +raw.split('\\nStep 1:')[1])"
   ]
  },
  {
   "cell_type": "code",
   "execution_count": null,
   "id": "1a279d9c",
   "metadata": {},
   "outputs": [],
   "source": [
    "%%time\n",
    "user_query = \"what is sales of phone in last one year\"\n",
    "print('user query: ', user_query)\n",
    "print('-'*100)\n",
    "output, raw = predict_template_query_v1(user_query=user_query)\n",
    "print(eval(output))\n",
    "print('-'*100)\n",
    "print('Step 1:' +raw.split('\\nStep 1:')[1])"
   ]
  },
  {
   "cell_type": "code",
   "execution_count": null,
   "id": "d0a9ea22",
   "metadata": {},
   "outputs": [],
   "source": [
    "%%time\n",
    "user_query = \"what is sales of phone in last 2 year\"\n",
    "print('user query: ', user_query)\n",
    "print('-'*100)\n",
    "output, raw = predict_template_query_v1(user_query=user_query)\n",
    "print(eval(output))\n",
    "print('-'*100)\n",
    "print('Step 1:' +raw.split('\\nStep 1:')[1])"
   ]
  },
  {
   "cell_type": "code",
   "execution_count": null,
   "id": "9893daa2",
   "metadata": {},
   "outputs": [],
   "source": [
    "%%time\n",
    "user_query = \"what is sales of phone in last two year\"\n",
    "print('user query: ', user_query)\n",
    "print('-'*100)\n",
    "output, raw = predict_template_query_v1(user_query=user_query)\n",
    "print(eval(output))\n",
    "print('-'*100)\n",
    "print('Step 1:' +raw.split('\\nStep 1:')[1])"
   ]
  },
  {
   "cell_type": "code",
   "execution_count": null,
   "id": "9b00f344",
   "metadata": {},
   "outputs": [],
   "source": [
    "%%time\n",
    "user_query = \"what is sales of phone in second month of last year\"\n",
    "print('user query: ', user_query)\n",
    "print('-'*100)\n",
    "output, raw = predict_template_query_v1(user_query=user_query)\n",
    "print(eval(output))\n",
    "print('-'*100)\n",
    "print('Step 1:' +raw.split('\\nStep 1:')[1])"
   ]
  },
  {
   "cell_type": "code",
   "execution_count": null,
   "id": "3fe75e45",
   "metadata": {},
   "outputs": [],
   "source": [
    "%%time\n",
    "user_query = \"what is sales of phone in last five years\"\n",
    "print('user query: ', user_query)\n",
    "print('-'*100)\n",
    "output, raw = predict_template_query_v1(user_query=user_query)\n",
    "print(eval(output))\n",
    "print('-'*100)\n",
    "print('Step 1:' +raw.split('\\nStep 1:')[1])"
   ]
  },
  {
   "cell_type": "code",
   "execution_count": null,
   "id": "c1eeda76",
   "metadata": {},
   "outputs": [],
   "source": [
    "%%time\n",
    "user_query = \"sales of segment in 2nd month of last year\"\n",
    "print('user query: ', user_query)\n",
    "print('-'*100)\n",
    "output, raw = predict_template_query_v1(user_query=user_query)\n",
    "print(eval(output))\n",
    "print('-'*100)\n",
    "print('Step 1:' +raw.split('\\nStep 1:')[1])"
   ]
  },
  {
   "cell_type": "code",
   "execution_count": null,
   "id": "e2f3ffd9",
   "metadata": {},
   "outputs": [],
   "source": [
    "%%time\n",
    "user_query = \"quantity of binders in fifth month of this year\"\n",
    "print('user query: ', user_query)\n",
    "print('-'*100)\n",
    "output, raw = predict_template_query_v1(user_query=user_query)\n",
    "print(eval(output))\n",
    "print('-'*100)\n",
    "print('Step 1:' +raw.split('\\nStep 1:')[1])"
   ]
  },
  {
   "cell_type": "code",
   "execution_count": null,
   "id": "1767eacb",
   "metadata": {},
   "outputs": [],
   "source": [
    "%%time\n",
    "user_query = \"discount of binders this year\"\n",
    "print('user query: ', user_query)\n",
    "print('-'*100)\n",
    "output, raw = predict_template_query_v1(user_query=user_query)\n",
    "print(eval(output))\n",
    "print('-'*100)\n",
    "print('Step 1:' +raw.split('\\nStep 1:')[1])"
   ]
  },
  {
   "cell_type": "code",
   "execution_count": null,
   "id": "b9fa9c4d",
   "metadata": {},
   "outputs": [],
   "source": [
    "%%time\n",
    "user_query = \"discount of phones in last four years\"\n",
    "print('user query: ', user_query)\n",
    "print('-'*100)\n",
    "output, raw = predict_template_query_v1(user_query=user_query)\n",
    "print(eval(output))\n",
    "print('-'*100)\n",
    "print('Step 1:' +raw.split('\\nStep 1:')[1])"
   ]
  },
  {
   "cell_type": "code",
   "execution_count": null,
   "id": "73d2b6c6",
   "metadata": {},
   "outputs": [],
   "source": [
    "%%time\n",
    "user_query = \"quantity of phones in feb 2021 vs mar 2023\"\n",
    "print('user query: ', user_query)\n",
    "print('-'*100)\n",
    "output, raw = predict_template_query_v1(user_query=user_query)\n",
    "print(eval(output))\n",
    "print('-'*100)\n",
    "print('Step 1:' +raw.split('\\nStep 1:')[1])"
   ]
  },
  {
   "cell_type": "code",
   "execution_count": null,
   "id": "f34b972e",
   "metadata": {},
   "outputs": [],
   "source": [
    "%%time\n",
    "user_query = \"quantity of binders in fifth month of last year\"\n",
    "print('user query: ', user_query)\n",
    "print('-'*100)\n",
    "output, raw = predict_template_query_v1(user_query=user_query)\n",
    "print(eval(output))\n",
    "print('-'*100)\n",
    "print('Step 1:' +raw.split('\\nStep 1:')[1])"
   ]
  },
  {
   "cell_type": "code",
   "execution_count": null,
   "id": "ed846f35",
   "metadata": {},
   "outputs": [],
   "source": [
    "%%time\n",
    "user_query = \"discount of phones in last 1 year\"\n",
    "print('user query: ', user_query)\n",
    "print('-'*100)\n",
    "output, raw = predict_template_query_v1(user_query=user_query)\n",
    "print(eval(output))\n",
    "print('-'*100)\n",
    "print('Step 1:' +raw.split('\\nStep 1:')[1])"
   ]
  },
  {
   "cell_type": "code",
   "execution_count": null,
   "id": "05709e96",
   "metadata": {},
   "outputs": [],
   "source": [
    "%%time\n",
    "user_query = \"sales of phones in last four months\"\n",
    "print('user query: ', user_query)\n",
    "print('-'*100)\n",
    "output, raw = predict_template_query_v1(user_query=user_query)\n",
    "print(eval(output))\n",
    "print('-'*100)\n",
    "print('Step 1:' +raw.split('\\nStep 1:')[1])"
   ]
  },
  {
   "cell_type": "code",
   "execution_count": null,
   "id": "141efca8",
   "metadata": {},
   "outputs": [],
   "source": [
    "%%time\n",
    "user_query = \"sales of segments current year\"\n",
    "print('user query: ', user_query)\n",
    "print('-'*100)\n",
    "output, raw = predict_template_query_v1(user_query=user_query)\n",
    "print(eval(output))\n",
    "print('-'*100)\n",
    "print('Step 1:' +raw.split('\\nStep 1:')[1])"
   ]
  },
  {
   "cell_type": "code",
   "execution_count": null,
   "id": "143d004f",
   "metadata": {},
   "outputs": [],
   "source": [
    "%%time\n",
    "user_query = \"sales of segments this year\"\n",
    "print('user query: ', user_query)\n",
    "print('-'*100)\n",
    "output, raw = predict_template_query_v1(user_query=user_query)\n",
    "print(eval(output))\n",
    "print('-'*100)\n",
    "print('Step 1:' +raw.split('\\nStep 1:')[1])"
   ]
  },
  {
   "cell_type": "code",
   "execution_count": null,
   "id": "2ff34c89",
   "metadata": {},
   "outputs": [],
   "source": [
    "%%time\n",
    "user_query = \"sales of segments last year\"\n",
    "print('user query: ', user_query)\n",
    "print('-'*100)\n",
    "output, raw = predict_template_query_v1(user_query=user_query)\n",
    "print(eval(output))\n",
    "print('-'*100)\n",
    "print('Step 1:' +raw.split('\\nStep 1:')[1])"
   ]
  },
  {
   "cell_type": "code",
   "execution_count": null,
   "id": "258554c3",
   "metadata": {},
   "outputs": [],
   "source": [
    "%%time\n",
    "user_query = \"sales in the last 2 weeks\"\n",
    "print('user query: ', user_query)\n",
    "print('-'*100)\n",
    "output, raw = predict_template_query_v1(user_query=user_query)\n",
    "print(eval(output))\n",
    "print('-'*100)\n",
    "print('Step 1:' +raw.split('\\nStep 1:')[1])"
   ]
  },
  {
   "cell_type": "code",
   "execution_count": null,
   "id": "31d38ed0",
   "metadata": {},
   "outputs": [],
   "source": [
    "%%time\n",
    "user_query = \"discount of segments in last three weeks\"\n",
    "print('user query: ', user_query)\n",
    "print('-'*100)\n",
    "output, raw = predict_template_query_v1(user_query=user_query)\n",
    "print(eval(output))\n",
    "print('-'*100)\n",
    "print('Step 1:' +raw.split('\\nStep 1:')[1])"
   ]
  },
  {
   "cell_type": "code",
   "execution_count": null,
   "id": "9a89b215",
   "metadata": {},
   "outputs": [],
   "source": [
    "%%time\n",
    "user_query = \"quantity of binders in 10th month of last year\"\n",
    "print('user query: ', user_query)\n",
    "print('-'*100)\n",
    "output, raw = predict_template_query_v1(user_query=user_query)\n",
    "print(eval(output))\n",
    "print('-'*100)\n",
    "print('Step 1:' +raw.split('\\nStep 1:')[1])"
   ]
  },
  {
   "cell_type": "code",
   "execution_count": null,
   "id": "cd026e99",
   "metadata": {},
   "outputs": [],
   "source": [
    "%%time\n",
    "user_query = \"what is sales of phone in 01/2023\"\n",
    "print('user query: ', user_query)\n",
    "print('-'*100)\n",
    "output, raw = predict_template_query_v1(user_query=user_query)\n",
    "print(eval(output))\n",
    "print('-'*100)\n",
    "print('Step 1:' +raw.split('\\nStep 1:')[1])"
   ]
  },
  {
   "cell_type": "code",
   "execution_count": null,
   "id": "819dc7a2",
   "metadata": {},
   "outputs": [],
   "source": [
    "%%time\n",
    "user_query = \"sales in 02/22\"\n",
    "print('user query: ', user_query)\n",
    "print('-'*100)\n",
    "output, raw = predict_template_query_v1(user_query=user_query)\n",
    "print(eval(output))\n",
    "print('-'*100)\n",
    "print('Step 1:' +raw.split('\\nStep 1:')[1])"
   ]
  },
  {
   "cell_type": "code",
   "execution_count": null,
   "id": "2b9e6a0a",
   "metadata": {},
   "outputs": [],
   "source": [
    "%%time\n",
    "user_query = \"discount of phones in 04/23\"\n",
    "print('user query: ', user_query)\n",
    "print('-'*100)\n",
    "output, raw = predict_template_query_v1(user_query=user_query)\n",
    "print(eval(output))\n",
    "print('-'*100)\n",
    "print('Step 1:' +raw.split('\\nStep 1:')[1])"
   ]
  },
  {
   "cell_type": "code",
   "execution_count": null,
   "id": "c30b7df2",
   "metadata": {},
   "outputs": [],
   "source": [
    "%%time\n",
    "user_query = \"quantity of binders in 04/2022\"\n",
    "print('user query: ', user_query)\n",
    "print('-'*100)\n",
    "output, raw = predict_template_query_v1(user_query=user_query)\n",
    "print(eval(output))\n",
    "print('-'*100)\n",
    "print('Step 1:' +raw.split('\\nStep 1:')[1])"
   ]
  },
  {
   "cell_type": "code",
   "execution_count": null,
   "id": "5f6ce53a",
   "metadata": {},
   "outputs": [],
   "source": [
    "%%time\n",
    "user_query = \"discount of segments in 07/23\"\n",
    "print('user query: ', user_query)\n",
    "print('-'*100)\n",
    "output, raw = predict_template_query_v1(user_query=user_query)\n",
    "print(eval(output))\n",
    "print('-'*100)\n",
    "print('Step 1:' +raw.split('\\nStep 1:')[1])"
   ]
  },
  {
   "cell_type": "code",
   "execution_count": null,
   "id": "2a6b0b1d",
   "metadata": {},
   "outputs": [],
   "source": []
  }
 ],
 "metadata": {
  "kernelspec": {
   "display_name": "Python 3",
   "language": "python",
   "name": "python3"
  },
  "language_info": {
   "codemirror_mode": {
    "name": "ipython",
    "version": 3
   },
   "file_extension": ".py",
   "mimetype": "text/x-python",
   "name": "python",
   "nbconvert_exporter": "python",
   "pygments_lexer": "ipython3",
   "version": "3.8.16"
  }
 },
 "nbformat": 4,
 "nbformat_minor": 5
}
