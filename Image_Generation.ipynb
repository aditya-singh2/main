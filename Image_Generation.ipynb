{
 "cells": [
  {
   "cell_type": "code",
   "execution_count": 1,
   "id": "0e88dfe4",
   "metadata": {},
   "outputs": [
    {
     "name": "stdout",
     "output_type": "stream",
     "text": [
      "Requirement already satisfied: tokenizers==0.11.1 in /opt/conda/lib/python3.8/site-packages (0.11.1)\r\n"
     ]
    }
   ],
   "source": [
    "!sudo pip install tokenizers==0.11.1"
   ]
  },
  {
   "cell_type": "code",
   "execution_count": 2,
   "id": "6eb7bbef",
   "metadata": {},
   "outputs": [],
   "source": [
    "!sudo pip install diffusers transformers matplotlib -q"
   ]
  },
  {
   "cell_type": "code",
   "execution_count": 5,
   "id": "7d6d8543",
   "metadata": {},
   "outputs": [
    {
     "name": "stdout",
     "output_type": "stream",
     "text": [
      "\u001b[33mWARNING: The directory '/home/mosaic-ai/.cache/pip/http' or its parent directory is not owned by the current user and the cache has been disabled. Please check the permissions and owner of that directory. If executing pip with sudo, you may want sudo's -H flag.\u001b[0m\n",
      "\u001b[33mWARNING: The directory '/home/mosaic-ai/.cache/pip' or its parent directory is not owned by the current user and caching wheels has been disabled. check the permissions and owner of that directory. If executing pip with sudo, you may want sudo's -H flag.\u001b[0m\n",
      "Collecting opencv-python-headless==4.5.3.56\n",
      "\u001b[?25l  Downloading https://files.pythonhosted.org/packages/9e/13/63b46fadfeb939f0bdfd636de76819b165420649c841ba57d44649613cd1/opencv_python_headless-4.5.3.56-cp38-cp38-manylinux2014_x86_64.whl (37.1MB)\n",
      "\u001b[K     |████████████████████████████████| 37.2MB 6.5MB/s eta 0:00:01\n",
      "\u001b[?25hCollecting numpy>=1.17.3\n",
      "\u001b[?25l  Downloading https://files.pythonhosted.org/packages/98/5d/5738903efe0ecb73e51eb44feafba32bdba2081263d40c5043568ff60faf/numpy-1.24.4-cp38-cp38-manylinux_2_17_x86_64.manylinux2014_x86_64.whl (17.3MB)\n",
      "\u001b[K     |████████████████████████████████| 17.3MB 105.9MB/s eta 0:00:01\n",
      "\u001b[31mERROR: mosaic-utils 1.0.2 has requirement scikit-learn==1.2.1; python_version >= \"3.8\", but you'll have scikit-learn 1.3.0 which is incompatible.\u001b[0m\n",
      "\u001b[?25hInstalling collected packages: numpy, opencv-python-headless\n",
      "Successfully installed numpy-1.24.4 opencv-python-headless-4.5.3.56\n",
      "\u001b[33mWARNING: Target directory /tmp/pip_packages/numpy.libs already exists. Specify --upgrade to force replacement.\u001b[0m\n",
      "\u001b[33mWARNING: Target directory /tmp/pip_packages/numpy-1.24.4.dist-info already exists. Specify --upgrade to force replacement.\u001b[0m\n",
      "\u001b[33mWARNING: Target directory /tmp/pip_packages/cv2 already exists. Specify --upgrade to force replacement.\u001b[0m\n",
      "\u001b[33mWARNING: Target directory /tmp/pip_packages/opencv_python_headless.libs already exists. Specify --upgrade to force replacement.\u001b[0m\n",
      "\u001b[33mWARNING: Target directory /tmp/pip_packages/numpy already exists. Specify --upgrade to force replacement.\u001b[0m\n",
      "\u001b[33mWARNING: Target directory /tmp/pip_packages/bin already exists. Specify --upgrade to force replacement.\u001b[0m\n"
     ]
    }
   ],
   "source": [
    "!pip install opencv-python-headless==4.5.3.56"
   ]
  },
  {
   "cell_type": "code",
   "execution_count": 8,
   "id": "8007bce6",
   "metadata": {},
   "outputs": [
    {
     "name": "stdout",
     "output_type": "stream",
     "text": [
      "Updating Subscription Management repositories.\n",
      "Unable to read consumer identity\n",
      "Subscription Manager is operating in container mode.\n",
      "\n",
      "This system is not registered with an entitlement server. You can use subscription-manager to register.\n",
      "\n",
      "Red Hat Universal Base Image 9 (RPMs) - BaseOS  9.5 kB/s | 3.8 kB     00:00    \n",
      "Red Hat Universal Base Image 9 (RPMs) - BaseOS  2.2 MB/s | 510 kB     00:00    \n",
      "Red Hat Universal Base Image 9 (RPMs) - AppStre  69 kB/s | 4.2 kB     00:00    \n",
      "Red Hat Universal Base Image 9 (RPMs) - AppStre 7.1 MB/s | 1.7 MB     00:00    \n",
      "Red Hat Universal Base Image 9 (RPMs) - CodeRea  66 kB/s | 4.2 kB     00:00    \n",
      "Red Hat Universal Base Image 9 (RPMs) - CodeRea 842 kB/s | 187 kB     00:00    \n",
      "Dependencies resolved.\n",
      "================================================================================\n",
      " Package           Arch       Version            Repository                Size\n",
      "================================================================================\n",
      "Installing:\n",
      " \u001b[1m\u001b[32mmesa-libGL       \u001b[m x86_64     22.3.0-2.el9       ubi-9-appstream-rpms     170 k\n",
      "Installing dependencies:\n",
      " \u001b[1m\u001b[32mhwdata           \u001b[m noarch     0.348-9.7.el9      ubi-9-baseos-rpms        1.6 M\n",
      " \u001b[1m\u001b[32mlibX11           \u001b[m x86_64     1.7.0-7.el9        ubi-9-appstream-rpms     648 k\n",
      " \u001b[1m\u001b[32mlibX11-common    \u001b[m noarch     1.7.0-7.el9        ubi-9-appstream-rpms     210 k\n",
      " \u001b[1m\u001b[32mlibX11-xcb       \u001b[m x86_64     1.7.0-7.el9        ubi-9-appstream-rpms      14 k\n",
      " \u001b[1m\u001b[32mlibXau           \u001b[m x86_64     1.0.9-8.el9        ubi-9-appstream-rpms      34 k\n",
      " \u001b[1m\u001b[32mlibXext          \u001b[m x86_64     1.3.4-8.el9        ubi-9-appstream-rpms      42 k\n",
      " \u001b[1m\u001b[32mlibXfixes        \u001b[m x86_64     5.0.3-16.el9       ubi-9-appstream-rpms      22 k\n",
      " \u001b[1m\u001b[32mlibXxf86vm       \u001b[m x86_64     1.1.4-18.el9       ubi-9-appstream-rpms      21 k\n",
      " \u001b[1m\u001b[32mlibdrm           \u001b[m x86_64     2.4.114-1.el9      ubi-9-appstream-rpms     164 k\n",
      " \u001b[1m\u001b[32mlibglvnd         \u001b[m x86_64     1:1.3.4-1.el9      ubi-9-appstream-rpms     137 k\n",
      " \u001b[1m\u001b[32mlibglvnd-glx     \u001b[m x86_64     1:1.3.4-1.el9      ubi-9-appstream-rpms     147 k\n",
      " \u001b[1m\u001b[32mlibpciaccess     \u001b[m x86_64     0.16-6.el9         ubi-9-baseos-rpms         30 k\n",
      " \u001b[1m\u001b[32mlibxcb           \u001b[m x86_64     1.13.1-9.el9       ubi-9-appstream-rpms     247 k\n",
      " \u001b[1m\u001b[32mlibxshmfence     \u001b[m x86_64     1.3-10.el9         ubi-9-appstream-rpms      14 k\n",
      " \u001b[1m\u001b[32mmesa-libglapi    \u001b[m x86_64     22.3.0-2.el9       ubi-9-appstream-rpms      51 k\n",
      "\n",
      "Transaction Summary\n",
      "================================================================================\n",
      "Install  16 Packages\n",
      "\n",
      "Total download size: 3.5 M\n",
      "Installed size: 15 M\n",
      "Downloading Packages:\n",
      "(1/16): libpciaccess-0.16-6.el9.x86_64.rpm      241 kB/s |  30 kB     00:00    \n",
      "(2/16): libX11-1.7.0-7.el9.x86_64.rpm           4.2 MB/s | 648 kB     00:00    \n",
      "(3/16): libX11-common-1.7.0-7.el9.noarch.rpm    5.2 MB/s | 210 kB     00:00    \n",
      "(4/16): libX11-xcb-1.7.0-7.el9.x86_64.rpm       987 kB/s |  14 kB     00:00    \n",
      "(5/16): hwdata-0.348-9.7.el9.noarch.rpm         9.3 MB/s | 1.6 MB     00:00    \n",
      "(6/16): libXext-1.3.4-8.el9.x86_64.rpm          3.2 MB/s |  42 kB     00:00    \n",
      "(7/16): libXau-1.0.9-8.el9.x86_64.rpm           2.3 MB/s |  34 kB     00:00    \n",
      "(8/16): libXfixes-5.0.3-16.el9.x86_64.rpm       1.7 MB/s |  22 kB     00:00    \n",
      "(9/16): libXxf86vm-1.1.4-18.el9.x86_64.rpm      1.6 MB/s |  21 kB     00:00    \n",
      "(10/16): libglvnd-glx-1.3.4-1.el9.x86_64.rpm     11 MB/s | 147 kB     00:00    \n",
      "(11/16): libglvnd-1.3.4-1.el9.x86_64.rpm        6.3 MB/s | 137 kB     00:00    \n",
      "(12/16): libxcb-1.13.1-9.el9.x86_64.rpm          17 MB/s | 247 kB     00:00    \n",
      "(13/16): libxshmfence-1.3-10.el9.x86_64.rpm     1.1 MB/s |  14 kB     00:00    \n",
      "(14/16): libdrm-2.4.114-1.el9.x86_64.rpm        9.3 MB/s | 164 kB     00:00    \n",
      "(15/16): mesa-libGL-22.3.0-2.el9.x86_64.rpm      12 MB/s | 170 kB     00:00    \n",
      "(16/16): mesa-libglapi-22.3.0-2.el9.x86_64.rpm  4.1 MB/s |  51 kB     00:00    \n",
      "--------------------------------------------------------------------------------\n",
      "Total                                            16 MB/s | 3.5 MB     00:00     \n",
      "Running transaction check\n",
      "Transaction check succeeded.\n",
      "Running transaction test\n",
      "Transaction test succeeded.\n",
      "Running transaction\n",
      "  Preparing        :                                                        1/1 \n",
      "  Installing       : mesa-libglapi-22.3.0-2.el9.x86_64                     1/16 \n",
      "  Installing       : libxshmfence-1.3-10.el9.x86_64                        2/16 \n",
      "  Installing       : libglvnd-1:1.3.4-1.el9.x86_64                         3/16 \n",
      "  Installing       : libXau-1.0.9-8.el9.x86_64                             4/16 \n",
      "  Installing       : libxcb-1.13.1-9.el9.x86_64                            5/16 \n",
      "  Installing       : libX11-xcb-1.7.0-7.el9.x86_64                         6/16 \n",
      "  Installing       : libX11-common-1.7.0-7.el9.noarch                      7/16 \n",
      "  Installing       : libX11-1.7.0-7.el9.x86_64                             8/16 \n",
      "  Installing       : libXext-1.3.4-8.el9.x86_64                            9/16 \n",
      "  Installing       : libXxf86vm-1.1.4-18.el9.x86_64                       10/16 \n",
      "  Installing       : libXfixes-5.0.3-16.el9.x86_64                        11/16 \n",
      "  Installing       : hwdata-0.348-9.7.el9.noarch                          12/16 \n",
      "  Installing       : libpciaccess-0.16-6.el9.x86_64                       13/16 \n",
      "  Installing       : libdrm-2.4.114-1.el9.x86_64                          14/16 \n",
      "  Installing       : libglvnd-glx-1:1.3.4-1.el9.x86_64                    15/16 \n",
      "  Installing       : mesa-libGL-22.3.0-2.el9.x86_64                       16/16 \n",
      "  Running scriptlet: mesa-libGL-22.3.0-2.el9.x86_64                       16/16 \n",
      "  Verifying        : hwdata-0.348-9.7.el9.noarch                           1/16 \n",
      "  Verifying        : libpciaccess-0.16-6.el9.x86_64                        2/16 \n",
      "  Verifying        : libX11-1.7.0-7.el9.x86_64                             3/16 \n",
      "  Verifying        : libX11-common-1.7.0-7.el9.noarch                      4/16 \n",
      "  Verifying        : libX11-xcb-1.7.0-7.el9.x86_64                         5/16 \n",
      "  Verifying        : libXau-1.0.9-8.el9.x86_64                             6/16 \n",
      "  Verifying        : libXext-1.3.4-8.el9.x86_64                            7/16 \n",
      "  Verifying        : libXfixes-5.0.3-16.el9.x86_64                         8/16 \n",
      "  Verifying        : libXxf86vm-1.1.4-18.el9.x86_64                        9/16 \n",
      "  Verifying        : libglvnd-1:1.3.4-1.el9.x86_64                        10/16 \n",
      "  Verifying        : libglvnd-glx-1:1.3.4-1.el9.x86_64                    11/16 \n",
      "  Verifying        : libxcb-1.13.1-9.el9.x86_64                           12/16 \n",
      "  Verifying        : libxshmfence-1.3-10.el9.x86_64                       13/16 \n",
      "  Verifying        : libdrm-2.4.114-1.el9.x86_64                          14/16 \n",
      "  Verifying        : mesa-libGL-22.3.0-2.el9.x86_64                       15/16 \n",
      "  Verifying        : mesa-libglapi-22.3.0-2.el9.x86_64                    16/16 \n",
      "Installed products updated.\n",
      "\n",
      "Installed:\n",
      "  hwdata-0.348-9.7.el9.noarch            libX11-1.7.0-7.el9.x86_64             \n",
      "  libX11-common-1.7.0-7.el9.noarch       libX11-xcb-1.7.0-7.el9.x86_64         \n",
      "  libXau-1.0.9-8.el9.x86_64              libXext-1.3.4-8.el9.x86_64            \n",
      "  libXfixes-5.0.3-16.el9.x86_64          libXxf86vm-1.1.4-18.el9.x86_64        \n",
      "  libdrm-2.4.114-1.el9.x86_64            libglvnd-1:1.3.4-1.el9.x86_64         \n",
      "  libglvnd-glx-1:1.3.4-1.el9.x86_64      libpciaccess-0.16-6.el9.x86_64        \n",
      "  libxcb-1.13.1-9.el9.x86_64             libxshmfence-1.3-10.el9.x86_64        \n",
      "  mesa-libGL-22.3.0-2.el9.x86_64         mesa-libglapi-22.3.0-2.el9.x86_64     \n",
      "\n",
      "Complete!\n"
     ]
    }
   ],
   "source": [
    "!sudo yum install mesa-libGL -y"
   ]
  },
  {
   "cell_type": "code",
   "execution_count": 10,
   "id": "695878c4",
   "metadata": {},
   "outputs": [],
   "source": [
    "\n",
    "from pathlib import Path\n",
    "import tqdm\n",
    "import torch\n",
    "import pandas as pd\n",
    "import numpy as np\n",
    "from diffusers import StableDiffusionPipeline\n",
    "from transformers import pipeline, set_seed\n",
    "import matplotlib.pyplot as plt\n",
    "import matplotlib.pyplot as plt\n",
    "import cv2"
   ]
  },
  {
   "cell_type": "code",
   "execution_count": null,
   "id": "9da0112c",
   "metadata": {},
   "outputs": [],
   "source": []
  }
 ],
 "metadata": {
  "kernelspec": {
   "display_name": "Python 3",
   "language": "python",
   "name": "python3"
  },
  "language_info": {
   "codemirror_mode": {
    "name": "ipython",
    "version": 3
   },
   "file_extension": ".py",
   "mimetype": "text/x-python",
   "name": "python",
   "nbconvert_exporter": "python",
   "pygments_lexer": "ipython3",
   "version": "3.8.16"
  }
 },
 "nbformat": 4,
 "nbformat_minor": 5
}
