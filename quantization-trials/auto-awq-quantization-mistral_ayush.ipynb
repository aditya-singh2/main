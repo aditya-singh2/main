{
 "cells": [
  {
   "cell_type": "code",
   "execution_count": 2,
   "id": "6091516f",
   "metadata": {
    "scrolled": true
   },
   "outputs": [],
   "source": [
    "# !pip install -U datasets"
   ]
  },
  {
   "cell_type": "code",
   "execution_count": 3,
   "id": "bc95442a",
   "metadata": {},
   "outputs": [],
   "source": [
    "# !sudo -H pip install -q transformers --upgrade"
   ]
  },
  {
   "cell_type": "code",
   "execution_count": 5,
   "id": "dc01db12",
   "metadata": {},
   "outputs": [],
   "source": [
    "# !pip uninstall autoawq -y"
   ]
  },
  {
   "cell_type": "code",
   "execution_count": null,
   "id": "8bc12a27",
   "metadata": {},
   "outputs": [],
   "source": [
    "# !pip install autoawq"
   ]
  },
  {
   "cell_type": "code",
   "execution_count": 7,
   "id": "b7c4a3ad",
   "metadata": {
    "scrolled": true
   },
   "outputs": [],
   "source": [
    "# !sudo -H pip install https://github.com/casper-hansen/AutoAWQ/releases/download/v0.1.7/autoawq-0.1.7+cu118-cp38-cp38-linux_x86_64.whl"
   ]
  },
  {
   "cell_type": "code",
   "execution_count": 9,
   "id": "779984ed",
   "metadata": {
    "scrolled": true
   },
   "outputs": [],
   "source": [
    "# !pip install transformers==4.35.2"
   ]
  },
  {
   "cell_type": "code",
   "execution_count": 1,
   "id": "f29fd336",
   "metadata": {},
   "outputs": [],
   "source": [
    "import pandas\n",
    "import numpy\n",
    "import os\n",
    "os.environ[\"PYTORCH_CUDA_ALLOC_CONF\"] = \"max_split_size_mb:128\"\n",
    "from awq import AutoAWQForCausalLM\n",
    "from transformers import AutoTokenizer,AutoModelForCausalLM\n",
    "import torch\n",
    "quant_path = '/llmmodels/quantized_model/awq_mistral'\n",
    "model_path='mistralai/Mistral-7B-v0.1'"
   ]
  },
  {
   "cell_type": "code",
   "execution_count": 2,
   "id": "f89d01c1",
   "metadata": {},
   "outputs": [],
   "source": [
    "quant_config = {\"zero_point\":True,\n",
    "               \"q_group_size\": 128,\n",
    "               \"w_bit\": 4,\n",
    "               \"version\": \"GEMM\"\n",
    "               }"
   ]
  },
  {
   "cell_type": "code",
   "execution_count": 8,
   "id": "1f853010",
   "metadata": {},
   "outputs": [
    {
     "data": {
      "application/vnd.jupyter.widget-view+json": {
       "model_id": "f0cca17da3c34fb38c633751336968bc",
       "version_major": 2,
       "version_minor": 0
      },
      "text/plain": [
       "Fetching 11 files:   0%|          | 0/11 [00:00<?, ?it/s]"
      ]
     },
     "metadata": {},
     "output_type": "display_data"
    },
    {
     "data": {
      "application/vnd.jupyter.widget-view+json": {
       "model_id": "acd7da91af68417e95b99f533793dd5d",
       "version_major": 2,
       "version_minor": 0
      },
      "text/plain": [
       "Loading checkpoint shards:   0%|          | 0/2 [00:00<?, ?it/s]"
      ]
     },
     "metadata": {},
     "output_type": "display_data"
    }
   ],
   "source": [
    "#load model\n",
    "# model = AutoAWQForCausalLM.from_pretrained(model_path, **{\"low_cpu_mem_usage\":True})\n",
    "model = AutoAWQForCausalLM.from_pretrained(model_path, device_map='auto')"
   ]
  },
  {
   "cell_type": "code",
   "execution_count": 9,
   "id": "e50621ff",
   "metadata": {},
   "outputs": [],
   "source": [
    "tokenizer = AutoTokenizer.from_pretrained(model_path, trust_remote_code=True)"
   ]
  },
  {
   "cell_type": "code",
   "execution_count": 10,
   "id": "21ffa0db",
   "metadata": {},
   "outputs": [],
   "source": [
    "import torch\n",
    "torch.cuda.empty_cache()"
   ]
  },
  {
   "cell_type": "code",
   "execution_count": 11,
   "id": "b8fa7742",
   "metadata": {},
   "outputs": [
    {
     "data": {
      "text/plain": [
       "31"
      ]
     },
     "execution_count": 11,
     "metadata": {},
     "output_type": "execute_result"
    }
   ],
   "source": [
    "import gc\n",
    "gc.collect()\n"
   ]
  },
  {
   "cell_type": "code",
   "execution_count": null,
   "id": "636aa93d",
   "metadata": {
    "scrolled": false
   },
   "outputs": [],
   "source": [
    "# torch.cuda.memory_summary(device=None, abbreviated=False)"
   ]
  },
  {
   "cell_type": "code",
   "execution_count": 12,
   "id": "48e2dc62",
   "metadata": {},
   "outputs": [
    {
     "name": "stderr",
     "output_type": "stream",
     "text": [
      "/tmp/pip_packages/huggingface_hub/repocard.py:105: UserWarning: Repo card metadata block was not found. Setting CardData to empty.\n",
      "  warnings.warn(\"Repo card metadata block was not found. Setting CardData to empty.\")\n",
      "AWQ: 100%|██████████| 32/32 [41:02<00:00, 76.96s/it]\n"
     ]
    }
   ],
   "source": [
    "#Quantize\n",
    "# dont run it again\n",
    "model.quantize(tokenizer, quant_config=quant_config)"
   ]
  },
  {
   "cell_type": "code",
   "execution_count": null,
   "id": "21de8591",
   "metadata": {},
   "outputs": [],
   "source": [
    "# model_quantized = AutoModelForCausalLM.from_pretrained(\n",
    "#     model,\n",
    "#     torch_dtype=torch.float16,\n",
    "#     device_map=\"auto\",\n",
    "#     quantization_config=quant_config\n",
    "# )"
   ]
  },
  {
   "cell_type": "code",
   "execution_count": 13,
   "id": "cb126257",
   "metadata": {},
   "outputs": [
    {
     "name": "stderr",
     "output_type": "stream",
     "text": [
      "WARNING:root:`quant_config.json` is being deprecated in the future in favor of quantization_config in config.json.\n"
     ]
    },
    {
     "data": {
      "text/plain": [
       "('/llmmodels/quantized_model/awq_mistral/tokenizer_config.json',\n",
       " '/llmmodels/quantized_model/awq_mistral/special_tokens_map.json',\n",
       " '/llmmodels/quantized_model/awq_mistral/tokenizer.model',\n",
       " '/llmmodels/quantized_model/awq_mistral/added_tokens.json',\n",
       " '/llmmodels/quantized_model/awq_mistral/tokenizer.json')"
      ]
     },
     "execution_count": 13,
     "metadata": {},
     "output_type": "execute_result"
    }
   ],
   "source": [
    "model.save_quantized(quant_path)\n",
    "tokenizer.save_pretrained(quant_path)"
   ]
  },
  {
   "cell_type": "markdown",
   "id": "dac71427",
   "metadata": {},
   "source": [
    "### Inference on quantized model"
   ]
  },
  {
   "cell_type": "code",
   "execution_count": 4,
   "id": "c2fc875c",
   "metadata": {},
   "outputs": [],
   "source": [
    "from transformers import pipeline\n",
    "quant_path = '/llmmodels/quantized_model/awq_mistral'\n",
    "model_path='mistralai/Mistral-7B-v0.1'"
   ]
  },
  {
   "cell_type": "code",
   "execution_count": 5,
   "id": "8ed7b2db",
   "metadata": {
    "scrolled": true
   },
   "outputs": [],
   "source": [
    "model_id = quant_path\n",
    "pipe = pipeline(\"text-generation\", model=model_id, device_map=\"auto\")"
   ]
  },
  {
   "cell_type": "code",
   "execution_count": 26,
   "id": "5ace8938",
   "metadata": {},
   "outputs": [
    {
     "name": "stderr",
     "output_type": "stream",
     "text": [
      "Setting `pad_token_id` to `eos_token_id`:2 for open-end generation.\n"
     ]
    },
    {
     "name": "stdout",
     "output_type": "stream",
     "text": [
      "time taken is : 40.28836369514465\n"
     ]
    }
   ],
   "source": [
    "import time\n",
    "start = time.time()\n",
    "output2 = pipe(\"what is art\",\n",
    "               max_new_tokens=1000,\n",
    "               num_return_sequences=1)[0][\"generated_text\"]\n",
    "print(\"time taken is :\", time.time()-start)"
   ]
  },
  {
   "cell_type": "code",
   "execution_count": 15,
   "id": "7b569deb",
   "metadata": {},
   "outputs": [
    {
     "name": "stdout",
     "output_type": "stream",
     "text": [
      "40.9 s ± 44.8 ms per loop (mean ± std. dev. of 7 runs, 1 loop each)\n"
     ]
    }
   ],
   "source": [
    "%%timeit\n",
    "output1 = predict_from_quant(\"what is art\")"
   ]
  },
  {
   "cell_type": "code",
   "execution_count": 27,
   "id": "484f1d27",
   "metadata": {
    "scrolled": false
   },
   "outputs": [
    {
     "name": "stdout",
     "output_type": "stream",
     "text": [
      "what is art?\n",
      "\n",
      "Art is a form of expression. It is a way to communicate ideas, emotions, and experiences. It can be used to tell a story, to make a statement, or to simply express oneself. Art can be created in many different forms, such as painting, sculpture, photography, and music. It can be created by individuals or groups, and it can be enjoyed by people of all ages and backgrounds.\n",
      "\n",
      "## What are the benefits of art?\n",
      "\n",
      "Art has many benefits. It can help people to express themselves, to communicate with others, and to understand the world around them. Art can also help people to relax and to enjoy life.\n",
      "\n",
      "## How can art be used to improve society?\n",
      "\n",
      "Art can be used to improve society in many ways. It can be used to communicate ideas, to educate people, and to inspire people. Art can also be used to bring people together and to create a sense of community.\n",
      "\n",
      "## What are some of the challenges of art?\n",
      "\n",
      "Some of the challenges of art include finding the time to create art, finding the resources to create art, and finding the audience for art.\n",
      "\n",
      "## What are some of the opportunities for art?\n",
      "\n",
      "Some of the opportunities for art include finding new ways to express oneself, finding new ways to communicate with others, and finding new ways to enjoy life.\n",
      "\n",
      "## What are some of the risks of art?\n",
      "\n",
      "Some of the risks of art include not being able to find the time to create art, not being able to find the resources to create art, and not being able to find the audience for art.\n",
      "\n",
      "## What are some of the rewards of art?\n",
      "\n",
      "Some of the rewards of art include being able to express oneself, being able to communicate with others, and being able to enjoy life.\n",
      "\n",
      "## What are some of the challenges of art?\n",
      "\n",
      "Some of the challenges of art include finding the time to create art, finding the resources to create art, and finding the audience for art.\n",
      "\n",
      "## What are some of the opportunities for art?\n",
      "\n",
      "Some of the opportunities for art include finding new ways to express oneself, finding new ways to communicate with others, and finding new ways to enjoy life.\n",
      "\n",
      "## What are some of the risks of art?\n",
      "\n",
      "Some of the risks of art include not being able to find the time to create art, not being able to find the resources to create art, and not being able to find the audience for art.\n",
      "\n",
      "## What are some of the rewards of art?\n",
      "\n",
      "Some of the rewards of art include being able to express oneself, being able to communicate with others, and being able to enjoy life.\n",
      "\n",
      "## What are some of the challenges of art?\n",
      "\n",
      "Some of the challenges of art include finding the time to create art, finding the resources to create art, and finding the audience for art.\n",
      "\n",
      "## What are some of the opportunities for art?\n",
      "\n",
      "Some of the opportunities for art include finding new ways to express oneself, finding new ways to communicate with others, and finding new ways to enjoy life.\n",
      "\n",
      "## What are some of the risks of art?\n",
      "\n",
      "Some of the risks of art include not being able to find the time to create art, not being able to find the resources to create art, and not being able to find the audience for art.\n",
      "\n",
      "## What are some of the rewards of art?\n",
      "\n",
      "Some of the rewards of art include being able to express oneself, being able to communicate with others, and being able to enjoy life.\n",
      "\n",
      "## What are some of the challenges of art?\n",
      "\n",
      "Some of the challenges of art include finding the time to create art, finding the resources to create art, and finding the audience for art.\n",
      "\n",
      "## What are some of the opportunities for art?\n",
      "\n",
      "Some of the opportunities for art include finding new ways to express oneself, finding new ways to communicate with others, and finding new ways to enjoy life.\n",
      "\n",
      "## What are some of the risks of art?\n",
      "\n",
      "Some of the risks of art include not being able to find the time to create art, not being able to find the resources to create art, and not being able to find the audience for art.\n",
      "\n",
      "## What are some of the rewards of art?\n",
      "\n",
      "Some of the rewards of art include being able to express oneself, being able to communicate with others, and being able to enjoy life.\n",
      "\n",
      "## What are some of the challenges of art?\n",
      "\n",
      "Some of the challenges of art include finding the time to create art, finding the resources to create art, and finding the audience for art.\n",
      "\n",
      "## What are some of the opportunities for art?\n",
      "\n",
      "Some of the opportunities for art include finding new ways to express oneself\n"
     ]
    }
   ],
   "source": [
    "print(output2)"
   ]
  },
  {
   "cell_type": "markdown",
   "id": "9d3fee82",
   "metadata": {},
   "source": [
    "### Inference on un-quantized model"
   ]
  },
  {
   "cell_type": "code",
   "execution_count": 3,
   "id": "cdf676e4",
   "metadata": {},
   "outputs": [],
   "source": [
    "from transformers import AutoModelForCausalLM, AutoTokenizer\n",
    "from transformers import pipeline"
   ]
  },
  {
   "cell_type": "code",
   "execution_count": null,
   "id": "ba90fb11",
   "metadata": {},
   "outputs": [],
   "source": [
    "# model_path = '/data/quantization-trials/merged-model'/"
   ]
  },
  {
   "cell_type": "code",
   "execution_count": 4,
   "id": "d4a6c0b0",
   "metadata": {},
   "outputs": [
    {
     "data": {
      "application/vnd.jupyter.widget-view+json": {
       "model_id": "19d7f58a2eac4248881ef7c7a136cf2d",
       "version_major": 2,
       "version_minor": 0
      },
      "text/plain": [
       "Loading checkpoint shards:   0%|          | 0/2 [00:00<?, ?it/s]"
      ]
     },
     "metadata": {},
     "output_type": "display_data"
    }
   ],
   "source": [
    "model_id = model_path\n",
    "pipe = pipeline(\"text-generation\", model=model_id, device_map=\"auto\")\n",
    "# model = AutoModelForCausalLM.from_pretrained(model_id, device_map=\"auto\",)\n",
    "# tokenizer = AutoTokenizer.from_pretrained(model_id, trust_remote_code=True)\n",
    "\n",
    "# def predict_from_normal(user_query):\n",
    "#     _inputs = tokenizer.encode(user_query, return_tensors=\"pt\").to('cuda')\n",
    "#     outputs = model.generate(input_ids=_inputs, max_length= 1000, pad_token_id=tokenizer.eos_token_id)\n",
    "#     output = tokenizer.decode(outputs[0])\n",
    "#     return output"
   ]
  },
  {
   "cell_type": "code",
   "execution_count": 13,
   "id": "010b00db",
   "metadata": {
    "scrolled": true
   },
   "outputs": [
    {
     "name": "stderr",
     "output_type": "stream",
     "text": [
      "Setting `pad_token_id` to `eos_token_id`:2 for open-end generation.\n"
     ]
    },
    {
     "name": "stdout",
     "output_type": "stream",
     "text": [
      "time taken is : 102.65577578544617\n"
     ]
    }
   ],
   "source": [
    "# Using unquant model\n",
    "import time\n",
    "start = time.time()\n",
    "output2 = pipe(\"what is art\", max_new_tokens=1000, num_return_sequences=1)[0][\"generated_text\"]\n",
    "print(\"time taken is :\", time.time()-start)"
   ]
  },
  {
   "cell_type": "code",
   "execution_count": 14,
   "id": "8b5b6f9c",
   "metadata": {
    "scrolled": false
   },
   "outputs": [
    {
     "name": "stdout",
     "output_type": "stream",
     "text": [
      "what is art?\n",
      "\n",
      "Art is a form of expression. It is a way to communicate ideas, emotions, and experiences through various mediums such as painting, sculpture, music, dance, and literature. Art can be created for a variety of reasons, including personal expression, social commentary, or simply for aesthetic pleasure.\n",
      "\n",
      "## What is the purpose of art?\n",
      "\n",
      "The purpose of art is to express the artist’s emotions, ideas, and experiences. It can also be used to communicate with others, to tell a story, or to simply make something beautiful. Art can be a form of self-expression, a way to connect with others, or a way to explore the world around us.\n",
      "\n",
      "## What is the importance of art?\n",
      "\n",
      "Art is important because it allows us to express ourselves in ways that words cannot. It can be a form of self-expression, a way to communicate with others, or a way to explore the world around us. Art can also be a form of therapy, helping us to process our emotions and experiences.\n",
      "\n",
      "## What is the role of art in society?\n",
      "\n",
      "Art plays an important role in society by providing a way for people to express themselves and communicate with others. It can also be used to educate, inspire, and entertain. Art can help us to understand different cultures and perspectives, and it can be a way to bring people together.\n",
      "\n",
      "## What is the role of art in education?\n",
      "\n",
      "Art plays an important role in education by providing a way for students to express themselves and communicate their ideas. It can also be used to teach students about different cultures and perspectives, and to help them develop critical thinking and problem-solving skills.\n",
      "\n",
      "## What is the role of art in the economy?\n",
      "\n",
      "Art plays an important role in the economy by providing jobs for artists and supporting the creative industries. It can also be a source of revenue for businesses and organizations, and it can help to attract tourists and visitors to a region.\n",
      "\n",
      "## What is the role of art in the environment?\n",
      "\n",
      "Art can play an important role in the environment by raising awareness about environmental issues and promoting sustainable practices. It can also be used to inspire people to take action and make a difference.\n",
      "\n",
      "## What is the role of art in politics?\n",
      "\n",
      "Art can play an important role in politics by providing a way for people to express their opinions and ideas. It can also be used to communicate with others and to inspire change. Art can help to raise awareness about political issues and to promote social justice.\n",
      "\n",
      "## What is the role of art in religion?\n",
      "\n",
      "Art can play an important role in religion by providing a way for people to express their spiritual beliefs and experiences. It can also be used to communicate with others and to inspire faith and devotion. Art can help to connect people with their spiritual traditions and to deepen their understanding of their faith.\n",
      "\n",
      "## What is the role of art in science?\n",
      "\n",
      "Art can play an important role in science by providing a way for scientists to communicate their ideas and findings. It can also be used to inspire new discoveries and to help people understand complex concepts. Art can help to bridge the gap between science and the public, and to make science more accessible and engaging.\n",
      "\n",
      "## What is the role of art in technology?\n",
      "\n",
      "Art can play an important role in technology by providing a way for people to express their ideas and experiences. It can also be used to communicate with others and to inspire innovation. Art can help to bridge the gap between technology and the public, and to make technology more accessible and engaging.\n",
      "\n",
      "## What is the role of art in health?\n",
      "\n",
      "Art can play an important role in health by providing a way for people to express their emotions and experiences. It can also be used to communicate with others and to inspire healing and wellness. Art can help to reduce stress and anxiety, and to promote relaxation and self-care.\n",
      "\n",
      "## What is the role of art in business?\n",
      "\n",
      "Art can play an important role in business by providing a way for businesses to communicate their brand and values. It can also be used to inspire creativity and innovation, and to help businesses stand out from the competition. Art can help to attract customers and clients, and to create a positive image for the business.\n",
      "\n",
      "## What is the role of art in fashion?\n",
      "\n",
      "Art can play an important role in fashion by providing a way for designers to express their ideas and experiences. It can also be used to communicate with others and to inspire creativity and innovation. Art can help to make fashion more accessible and engaging, and to create a unique and memorable look.\n",
      "\n",
      "## What is the role of art in architecture?\n",
      "\n",
      "Art can play an important role in architecture by providing a way for architects to express their ideas and experiences. It can\n"
     ]
    }
   ],
   "source": [
    "print(output2)"
   ]
  },
  {
   "cell_type": "code",
   "execution_count": null,
   "id": "e0949f05",
   "metadata": {
    "scrolled": true
   },
   "outputs": [],
   "source": [
    "model"
   ]
  },
  {
   "cell_type": "code",
   "execution_count": null,
   "id": "f139bb23",
   "metadata": {
    "scrolled": true
   },
   "outputs": [],
   "source": [
    "quant_model"
   ]
  }
 ],
 "metadata": {
  "kernelspec": {
   "display_name": "Python 3",
   "language": "python",
   "name": "python3"
  },
  "language_info": {
   "codemirror_mode": {
    "name": "ipython",
    "version": 3
   },
   "file_extension": ".py",
   "mimetype": "text/x-python",
   "name": "python",
   "nbconvert_exporter": "python",
   "pygments_lexer": "ipython3",
   "version": "3.8.16"
  }
 },
 "nbformat": 4,
 "nbformat_minor": 5
}
