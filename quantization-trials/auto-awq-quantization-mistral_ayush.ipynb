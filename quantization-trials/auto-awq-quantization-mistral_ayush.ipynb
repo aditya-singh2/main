{
 "cells": [
  {
   "cell_type": "code",
   "execution_count": 1,
   "id": "6091516f",
   "metadata": {
    "scrolled": true
   },
   "outputs": [],
   "source": [
    "# !pip install -U datasets"
   ]
  },
  {
   "cell_type": "code",
   "execution_count": 2,
   "id": "bc95442a",
   "metadata": {},
   "outputs": [],
   "source": [
    "# !sudo -H pip install -q transformers --upgrade"
   ]
  },
  {
   "cell_type": "code",
   "execution_count": 5,
   "id": "dc01db12",
   "metadata": {},
   "outputs": [],
   "source": [
    "# !pip uninstall autoawq -y"
   ]
  },
  {
   "cell_type": "code",
   "execution_count": null,
   "id": "8bc12a27",
   "metadata": {},
   "outputs": [],
   "source": [
    "# !pip install autoawq"
   ]
  },
  {
   "cell_type": "code",
   "execution_count": 3,
   "id": "b7c4a3ad",
   "metadata": {
    "scrolled": true
   },
   "outputs": [],
   "source": [
    "# !sudo -H pip install https://github.com/casper-hansen/AutoAWQ/releases/download/v0.1.7/autoawq-0.1.7+cu118-cp38-cp38-linux_x86_64.whl"
   ]
  },
  {
   "cell_type": "code",
   "execution_count": 4,
   "id": "779984ed",
   "metadata": {
    "scrolled": true
   },
   "outputs": [],
   "source": [
    "# !pip install transformers==4.35.2"
   ]
  },
  {
   "cell_type": "code",
   "execution_count": 5,
   "id": "f29fd336",
   "metadata": {},
   "outputs": [],
   "source": [
    "import pandas\n",
    "import numpy\n",
    "import os\n",
    "os.environ[\"PYTORCH_CUDA_ALLOC_CONF\"] = \"max_split_size_mb:128\"\n",
    "from awq import AutoAWQForCausalLM\n",
    "from transformers import AutoTokenizer,AutoModelForCausalLM\n",
    "import torch\n",
    "quant_path = '/llmmodels/quantized_model/awq_mistral'\n",
    "model_path='mistralai/Mistral-7B-v0.1'"
   ]
  },
  {
   "cell_type": "code",
   "execution_count": 6,
   "id": "f89d01c1",
   "metadata": {},
   "outputs": [],
   "source": [
    "quant_config = {\"zero_point\":True,\n",
    "               \"q_group_size\": 128,\n",
    "               \"w_bit\": 4,\n",
    "               \"version\": \"GEMM\"\n",
    "               }"
   ]
  },
  {
   "cell_type": "code",
   "execution_count": 8,
   "id": "1f853010",
   "metadata": {},
   "outputs": [
    {
     "data": {
      "application/vnd.jupyter.widget-view+json": {
       "model_id": "f0cca17da3c34fb38c633751336968bc",
       "version_major": 2,
       "version_minor": 0
      },
      "text/plain": [
       "Fetching 11 files:   0%|          | 0/11 [00:00<?, ?it/s]"
      ]
     },
     "metadata": {},
     "output_type": "display_data"
    },
    {
     "data": {
      "application/vnd.jupyter.widget-view+json": {
       "model_id": "acd7da91af68417e95b99f533793dd5d",
       "version_major": 2,
       "version_minor": 0
      },
      "text/plain": [
       "Loading checkpoint shards:   0%|          | 0/2 [00:00<?, ?it/s]"
      ]
     },
     "metadata": {},
     "output_type": "display_data"
    }
   ],
   "source": [
    "#load model\n",
    "# model = AutoAWQForCausalLM.from_pretrained(model_path, **{\"low_cpu_mem_usage\":True})\n",
    "model = AutoAWQForCausalLM.from_pretrained(model_path, device_map='auto')"
   ]
  },
  {
   "cell_type": "code",
   "execution_count": 9,
   "id": "e50621ff",
   "metadata": {},
   "outputs": [],
   "source": [
    "tokenizer = AutoTokenizer.from_pretrained(model_path, trust_remote_code=True)"
   ]
  },
  {
   "cell_type": "code",
   "execution_count": 10,
   "id": "21ffa0db",
   "metadata": {},
   "outputs": [],
   "source": [
    "import torch\n",
    "torch.cuda.empty_cache()"
   ]
  },
  {
   "cell_type": "code",
   "execution_count": 11,
   "id": "b8fa7742",
   "metadata": {},
   "outputs": [
    {
     "data": {
      "text/plain": [
       "31"
      ]
     },
     "execution_count": 11,
     "metadata": {},
     "output_type": "execute_result"
    }
   ],
   "source": [
    "import gc\n",
    "gc.collect()\n"
   ]
  },
  {
   "cell_type": "code",
   "execution_count": null,
   "id": "636aa93d",
   "metadata": {
    "scrolled": false
   },
   "outputs": [],
   "source": [
    "# torch.cuda.memory_summary(device=None, abbreviated=False)"
   ]
  },
  {
   "cell_type": "code",
   "execution_count": 12,
   "id": "48e2dc62",
   "metadata": {},
   "outputs": [
    {
     "name": "stderr",
     "output_type": "stream",
     "text": [
      "/tmp/pip_packages/huggingface_hub/repocard.py:105: UserWarning: Repo card metadata block was not found. Setting CardData to empty.\n",
      "  warnings.warn(\"Repo card metadata block was not found. Setting CardData to empty.\")\n",
      "AWQ: 100%|██████████| 32/32 [41:02<00:00, 76.96s/it]\n"
     ]
    }
   ],
   "source": [
    "#Quantize\n",
    "# dont run it again\n",
    "model.quantize(tokenizer, quant_config=quant_config)"
   ]
  },
  {
   "cell_type": "code",
   "execution_count": null,
   "id": "21de8591",
   "metadata": {},
   "outputs": [],
   "source": [
    "# model_quantized = AutoModelForCausalLM.from_pretrained(\n",
    "#     model,\n",
    "#     torch_dtype=torch.float16,\n",
    "#     device_map=\"auto\",\n",
    "#     quantization_config=quant_config\n",
    "# )"
   ]
  },
  {
   "cell_type": "code",
   "execution_count": 13,
   "id": "cb126257",
   "metadata": {},
   "outputs": [
    {
     "name": "stderr",
     "output_type": "stream",
     "text": [
      "WARNING:root:`quant_config.json` is being deprecated in the future in favor of quantization_config in config.json.\n"
     ]
    },
    {
     "data": {
      "text/plain": [
       "('/llmmodels/quantized_model/awq_mistral/tokenizer_config.json',\n",
       " '/llmmodels/quantized_model/awq_mistral/special_tokens_map.json',\n",
       " '/llmmodels/quantized_model/awq_mistral/tokenizer.model',\n",
       " '/llmmodels/quantized_model/awq_mistral/added_tokens.json',\n",
       " '/llmmodels/quantized_model/awq_mistral/tokenizer.json')"
      ]
     },
     "execution_count": 13,
     "metadata": {},
     "output_type": "execute_result"
    }
   ],
   "source": [
    "model.save_quantized(quant_path)\n",
    "tokenizer.save_pretrained(quant_path)"
   ]
  },
  {
   "cell_type": "markdown",
   "id": "dac71427",
   "metadata": {},
   "source": [
    "### Inference on quantized model"
   ]
  },
  {
   "cell_type": "code",
   "execution_count": 9,
   "id": "c2fc875c",
   "metadata": {},
   "outputs": [],
   "source": [
    "from transformers import pipeline\n",
    "quant_path = '/llmmodels/quantized_model/awq_mistral'\n",
    "model_path='mistralai/Mistral-7B-v0.1'"
   ]
  },
  {
   "cell_type": "code",
   "execution_count": 10,
   "id": "8ed7b2db",
   "metadata": {
    "scrolled": true
   },
   "outputs": [],
   "source": [
    "model_id = quant_path\n",
    "pipe = pipeline(\"text-generation\", model=model_id, device_map=\"auto\")"
   ]
  },
  {
   "cell_type": "code",
   "execution_count": 16,
   "id": "5a60755b",
   "metadata": {},
   "outputs": [
    {
     "ename": "AttributeError",
     "evalue": "module 'numpy' has no attribute 'seed'",
     "output_type": "error",
     "traceback": [
      "\u001b[0;31m---------------------------------------------------------------------------\u001b[0m",
      "\u001b[0;31mAttributeError\u001b[0m                            Traceback (most recent call last)",
      "Cell \u001b[0;32mIn[16], line 2\u001b[0m\n\u001b[1;32m      1\u001b[0m \u001b[38;5;28;01mimport\u001b[39;00m \u001b[38;5;21;01mnumpy\u001b[39;00m \u001b[38;5;28;01mas\u001b[39;00m \u001b[38;5;21;01mnp\u001b[39;00m\n\u001b[0;32m----> 2\u001b[0m \u001b[43mnp\u001b[49m\u001b[38;5;241;43m.\u001b[39;49m\u001b[43mseed\u001b[49m(\u001b[38;5;241m100\u001b[39m)\n",
      "File \u001b[0;32m/tmp/pip_packages/numpy/__init__.py:320\u001b[0m, in \u001b[0;36m__getattr__\u001b[0;34m(attr)\u001b[0m\n\u001b[1;32m    317\u001b[0m     \u001b[38;5;28;01mfrom\u001b[39;00m \u001b[38;5;21;01m.\u001b[39;00m\u001b[38;5;21;01mtesting\u001b[39;00m \u001b[38;5;28;01mimport\u001b[39;00m Tester\n\u001b[1;32m    318\u001b[0m     \u001b[38;5;28;01mreturn\u001b[39;00m Tester\n\u001b[0;32m--> 320\u001b[0m \u001b[38;5;28;01mraise\u001b[39;00m \u001b[38;5;167;01mAttributeError\u001b[39;00m(\u001b[38;5;124m\"\u001b[39m\u001b[38;5;124mmodule \u001b[39m\u001b[38;5;132;01m{!r}\u001b[39;00m\u001b[38;5;124m has no attribute \u001b[39m\u001b[38;5;124m\"\u001b[39m\n\u001b[1;32m    321\u001b[0m                      \u001b[38;5;124m\"\u001b[39m\u001b[38;5;132;01m{!r}\u001b[39;00m\u001b[38;5;124m\"\u001b[39m\u001b[38;5;241m.\u001b[39mformat(\u001b[38;5;18m__name__\u001b[39m, attr))\n",
      "\u001b[0;31mAttributeError\u001b[0m: module 'numpy' has no attribute 'seed'"
     ]
    }
   ],
   "source": [
    "import numpy as np\n",
    "np.seed(100)"
   ]
  },
  {
   "cell_type": "code",
   "execution_count": 13,
   "id": "5ace8938",
   "metadata": {},
   "outputs": [
    {
     "name": "stderr",
     "output_type": "stream",
     "text": [
      "Setting `pad_token_id` to `eos_token_id`:2 for open-end generation.\n"
     ]
    },
    {
     "name": "stdout",
     "output_type": "stream",
     "text": [
      "time taken is : 21.065829277038574\n"
     ]
    }
   ],
   "source": [
    "import time\n",
    "start = time.time()\n",
    "output2 = pipe(\"what is art\",\n",
    "               max_new_tokens=500,\n",
    "               num_return_sequences=1,\n",
    "               do_sample=True,\n",
    "               top_k=50,\n",
    "               top_p=0.95)[0][\"generated_text\"]\n",
    "print(\"time taken is :\", time.time()-start)"
   ]
  },
  {
   "cell_type": "code",
   "execution_count": 14,
   "id": "7b569deb",
   "metadata": {},
   "outputs": [
    {
     "name": "stdout",
     "output_type": "stream",
     "text": [
      "what is art, and what is not art. As one of the most important figures in art history, it is no wonder that he is known as the “Father of Art Criticism”.\n",
      "\n",
      "The concept of modern art has undergone a significant number of metamorphoses. In his early stage, this form of art was characterized by movements and trends that sought to change traditional conceptions and ideas. During this period, artists experimented in new ways to express their ideas. After the end of World War I, a new type of art began to emerge. This type of art was marked by an intense period of growth in which artists experimented and changed traditional art forms.\n",
      "\n",
      "Despite his many accomplishments, Clement Greenberg’s reputation as the “father of art criticism” has been a source of contention and controversy. There is a wide range of opinions about his contributions to the field, but most agree that he was a pioneer of the concept. In the 20th century, the definition of art has undergone a number of changes. The term “art” has become more precise and clearer as the discipline has evolved, but it has also become more complex and more complicated.\n",
      "\n",
      "The concept of art has changed throughout history. The first definition of art was created in 1889, when the artist Georges Diderot published his theory on the subject. The definition of art was further extended in the 1960s by Clement Greenberg, who argued that art could not be created by anyone without a certain degree of aesthetic value. But the definition of art is still subjective and not necessarily agreed on.\n",
      "\n",
      "The history of art is rich with various movements, trends, and ideas. In the 20th century, art was dominated by many different styles, including Dadaism, the Harlem Renaissance, and even the Cubists. There were many new forms of art, including modern art and postmodern art, as well as abstract art. However, these definitions are not mutually exclusive. So, what is art?\n",
      "\n",
      "In addition to the definition of art, the definition of aesthetics has evolved over the years. The term “art” has a complex and varied definition. While the term “art” has evolved since its inception in the 18th century, it has been refined in the past two centuries. Despite this, there are some\n"
     ]
    }
   ],
   "source": [
    "print(output2)"
   ]
  },
  {
   "cell_type": "code",
   "execution_count": 12,
   "id": "484f1d27",
   "metadata": {
    "scrolled": false
   },
   "outputs": [
    {
     "name": "stdout",
     "output_type": "stream",
     "text": [
      "what is art, why we need it, and how it matters. We learn to value, enjoy, and experience art in all its forms. We begin by focusing on artistic creation and production, as we learn to create our own works of art. We then move on to look at art as communication and expression of cultural, social, and spiritual concerns.\n",
      "\n",
      "### Introduction: Art in All Its Forms\n",
      "\n",
      "Arts are the things that are usually made or created by a particular person or a group of people or a single human being, who is the originator. These human-made things can be used to express emotions and to create a meaningful message.\n",
      "\n",
      "A person can create a great work of art, but at the same time, he or she can also destroy it. For instance, the Mona Lisa is a great work of art.\n",
      "\n",
      "I think the most common form of art is the visual arts. I also believe the most common form of art that people are likely to encounter is the verbal arts.\n",
      "\n",
      "### Artistic Creativity: Creative Expression and Communication\n",
      "\n",
      "Creativity is not the same as the act of making things. It is more like an attitude of looking at the world, the situation, and the people around us and seeing what we can do with it.\n",
      "\n",
      "### Forms of Arts in All Fields\n",
      "\n",
      "Art is a very broad concept that covers a wide range of activities that we engage in on a daily basis. Art is often defined as a form of expression and communication. In fact, many people think that art is only a way of communicating, or even expressing, our emotions.\n",
      "\n",
      "This is what is the main problem with our definition of art today. Art is a form of communication, but it is also an expression of emotions.\n",
      "\n",
      "### Social and Cultural Concerns: Identity and Community\n",
      "\n",
      "As humans, we are the only species that can experience social and cultural concerns. We are the only species who can know that our lives are meaningful, and we are the only species that is capable of expressing our thoughts and feelings.\n",
      "\n",
      "The only difference between us and other species is that we have the ability to express our thoughts and feelings through communication.\n",
      "\n",
      "### Spirituality: Self-Expression and the Artistic Process\n",
      "\n",
      "Spirituality is a great way to find yourself, to be able to express yourself through art, and to find inner peace. It\n"
     ]
    }
   ],
   "source": [
    "print(output2)"
   ]
  },
  {
   "cell_type": "markdown",
   "id": "9d3fee82",
   "metadata": {},
   "source": [
    "### Inference on un-quantized model"
   ]
  },
  {
   "cell_type": "code",
   "execution_count": 3,
   "id": "cdf676e4",
   "metadata": {},
   "outputs": [],
   "source": [
    "from transformers import AutoModelForCausalLM, AutoTokenizer\n",
    "from transformers import pipeline"
   ]
  },
  {
   "cell_type": "code",
   "execution_count": null,
   "id": "ba90fb11",
   "metadata": {},
   "outputs": [],
   "source": [
    "# model_path = '/data/quantization-trials/merged-model'/"
   ]
  },
  {
   "cell_type": "code",
   "execution_count": 4,
   "id": "d4a6c0b0",
   "metadata": {},
   "outputs": [
    {
     "data": {
      "application/vnd.jupyter.widget-view+json": {
       "model_id": "19d7f58a2eac4248881ef7c7a136cf2d",
       "version_major": 2,
       "version_minor": 0
      },
      "text/plain": [
       "Loading checkpoint shards:   0%|          | 0/2 [00:00<?, ?it/s]"
      ]
     },
     "metadata": {},
     "output_type": "display_data"
    }
   ],
   "source": [
    "model_id = model_path\n",
    "pipe = pipeline(\"text-generation\", model=model_id, device_map=\"auto\")\n",
    "# model = AutoModelForCausalLM.from_pretrained(model_id, device_map=\"auto\",)\n",
    "# tokenizer = AutoTokenizer.from_pretrained(model_id, trust_remote_code=True)\n",
    "\n",
    "# def predict_from_normal(user_query):\n",
    "#     _inputs = tokenizer.encode(user_query, return_tensors=\"pt\").to('cuda')\n",
    "#     outputs = model.generate(input_ids=_inputs, max_length= 1000, pad_token_id=tokenizer.eos_token_id)\n",
    "#     output = tokenizer.decode(outputs[0])\n",
    "#     return output"
   ]
  },
  {
   "cell_type": "code",
   "execution_count": 13,
   "id": "010b00db",
   "metadata": {
    "scrolled": true
   },
   "outputs": [
    {
     "name": "stderr",
     "output_type": "stream",
     "text": [
      "Setting `pad_token_id` to `eos_token_id`:2 for open-end generation.\n"
     ]
    },
    {
     "name": "stdout",
     "output_type": "stream",
     "text": [
      "time taken is : 102.65577578544617\n"
     ]
    }
   ],
   "source": [
    "# Using unquant model\n",
    "import time\n",
    "start = time.time()\n",
    "output2 = pipe(\"what is art\", max_new_tokens=1000, num_return_sequences=1)[0][\"generated_text\"]\n",
    "print(\"time taken is :\", time.time()-start)"
   ]
  },
  {
   "cell_type": "code",
   "execution_count": 14,
   "id": "8b5b6f9c",
   "metadata": {
    "scrolled": false
   },
   "outputs": [
    {
     "name": "stdout",
     "output_type": "stream",
     "text": [
      "what is art?\n",
      "\n",
      "Art is a form of expression. It is a way to communicate ideas, emotions, and experiences through various mediums such as painting, sculpture, music, dance, and literature. Art can be created for a variety of reasons, including personal expression, social commentary, or simply for aesthetic pleasure.\n",
      "\n",
      "## What is the purpose of art?\n",
      "\n",
      "The purpose of art is to express the artist’s emotions, ideas, and experiences. It can also be used to communicate with others, to tell a story, or to simply make something beautiful. Art can be a form of self-expression, a way to connect with others, or a way to explore the world around us.\n",
      "\n",
      "## What is the importance of art?\n",
      "\n",
      "Art is important because it allows us to express ourselves in ways that words cannot. It can be a form of self-expression, a way to communicate with others, or a way to explore the world around us. Art can also be a form of therapy, helping us to process our emotions and experiences.\n",
      "\n",
      "## What is the role of art in society?\n",
      "\n",
      "Art plays an important role in society by providing a way for people to express themselves and communicate with others. It can also be used to educate, inspire, and entertain. Art can help us to understand different cultures and perspectives, and it can be a way to bring people together.\n",
      "\n",
      "## What is the role of art in education?\n",
      "\n",
      "Art plays an important role in education by providing a way for students to express themselves and communicate their ideas. It can also be used to teach students about different cultures and perspectives, and to help them develop critical thinking and problem-solving skills.\n",
      "\n",
      "## What is the role of art in the economy?\n",
      "\n",
      "Art plays an important role in the economy by providing jobs for artists and supporting the creative industries. It can also be a source of revenue for businesses and organizations, and it can help to attract tourists and visitors to a region.\n",
      "\n",
      "## What is the role of art in the environment?\n",
      "\n",
      "Art can play an important role in the environment by raising awareness about environmental issues and promoting sustainable practices. It can also be used to inspire people to take action and make a difference.\n",
      "\n",
      "## What is the role of art in politics?\n",
      "\n",
      "Art can play an important role in politics by providing a way for people to express their opinions and ideas. It can also be used to communicate with others and to inspire change. Art can help to raise awareness about political issues and to promote social justice.\n",
      "\n",
      "## What is the role of art in religion?\n",
      "\n",
      "Art can play an important role in religion by providing a way for people to express their spiritual beliefs and experiences. It can also be used to communicate with others and to inspire faith and devotion. Art can help to connect people with their spiritual traditions and to deepen their understanding of their faith.\n",
      "\n",
      "## What is the role of art in science?\n",
      "\n",
      "Art can play an important role in science by providing a way for scientists to communicate their ideas and findings. It can also be used to inspire new discoveries and to help people understand complex concepts. Art can help to bridge the gap between science and the public, and to make science more accessible and engaging.\n",
      "\n",
      "## What is the role of art in technology?\n",
      "\n",
      "Art can play an important role in technology by providing a way for people to express their ideas and experiences. It can also be used to communicate with others and to inspire innovation. Art can help to bridge the gap between technology and the public, and to make technology more accessible and engaging.\n",
      "\n",
      "## What is the role of art in health?\n",
      "\n",
      "Art can play an important role in health by providing a way for people to express their emotions and experiences. It can also be used to communicate with others and to inspire healing and wellness. Art can help to reduce stress and anxiety, and to promote relaxation and self-care.\n",
      "\n",
      "## What is the role of art in business?\n",
      "\n",
      "Art can play an important role in business by providing a way for businesses to communicate their brand and values. It can also be used to inspire creativity and innovation, and to help businesses stand out from the competition. Art can help to attract customers and clients, and to create a positive image for the business.\n",
      "\n",
      "## What is the role of art in fashion?\n",
      "\n",
      "Art can play an important role in fashion by providing a way for designers to express their ideas and experiences. It can also be used to communicate with others and to inspire creativity and innovation. Art can help to make fashion more accessible and engaging, and to create a unique and memorable look.\n",
      "\n",
      "## What is the role of art in architecture?\n",
      "\n",
      "Art can play an important role in architecture by providing a way for architects to express their ideas and experiences. It can\n"
     ]
    }
   ],
   "source": [
    "print(output2)"
   ]
  },
  {
   "cell_type": "code",
   "execution_count": null,
   "id": "e0949f05",
   "metadata": {
    "scrolled": true
   },
   "outputs": [],
   "source": [
    "model"
   ]
  },
  {
   "cell_type": "code",
   "execution_count": null,
   "id": "f139bb23",
   "metadata": {
    "scrolled": true
   },
   "outputs": [],
   "source": [
    "quant_model"
   ]
  }
 ],
 "metadata": {
  "kernelspec": {
   "display_name": "Python 3",
   "language": "python",
   "name": "python3"
  },
  "language_info": {
   "codemirror_mode": {
    "name": "ipython",
    "version": 3
   },
   "file_extension": ".py",
   "mimetype": "text/x-python",
   "name": "python",
   "nbconvert_exporter": "python",
   "pygments_lexer": "ipython3",
   "version": "3.8.16"
  }
 },
 "nbformat": 4,
 "nbformat_minor": 5
}
