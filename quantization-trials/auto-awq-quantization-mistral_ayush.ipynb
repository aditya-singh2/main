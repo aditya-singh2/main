{
 "cells": [
  {
   "cell_type": "code",
   "execution_count": 2,
   "id": "6091516f",
   "metadata": {
    "scrolled": true
   },
   "outputs": [],
   "source": [
    "# !pip install -U datasets"
   ]
  },
  {
   "cell_type": "code",
   "execution_count": 3,
   "id": "bc95442a",
   "metadata": {},
   "outputs": [],
   "source": [
    "# !sudo -H pip install -q transformers --upgrade"
   ]
  },
  {
   "cell_type": "code",
   "execution_count": 5,
   "id": "dc01db12",
   "metadata": {},
   "outputs": [],
   "source": [
    "# !pip uninstall autoawq -y"
   ]
  },
  {
   "cell_type": "code",
   "execution_count": null,
   "id": "8bc12a27",
   "metadata": {},
   "outputs": [],
   "source": [
    "# !pip install autoawq"
   ]
  },
  {
   "cell_type": "code",
   "execution_count": 7,
   "id": "b7c4a3ad",
   "metadata": {
    "scrolled": true
   },
   "outputs": [],
   "source": [
    "# !sudo -H pip install https://github.com/casper-hansen/AutoAWQ/releases/download/v0.1.7/autoawq-0.1.7+cu118-cp38-cp38-linux_x86_64.whl"
   ]
  },
  {
   "cell_type": "code",
   "execution_count": 9,
   "id": "779984ed",
   "metadata": {
    "scrolled": true
   },
   "outputs": [],
   "source": [
    "# !pip install transformers==4.35.2"
   ]
  },
  {
   "cell_type": "code",
   "execution_count": 1,
   "id": "f29fd336",
   "metadata": {},
   "outputs": [],
   "source": [
    "import pandas\n",
    "import numpy\n",
    "import os\n",
    "os.environ[\"PYTORCH_CUDA_ALLOC_CONF\"] = \"max_split_size_mb:128\"\n",
    "from awq import AutoAWQForCausalLM\n",
    "from transformers import AutoTokenizer,AutoModelForCausalLM\n",
    "import torch\n",
    "quant_path = '/llmmodels/quantized_model/awq_mistral'\n",
    "model_path='mistralai/Mistral-7B-v0.1'"
   ]
  },
  {
   "cell_type": "code",
   "execution_count": 2,
   "id": "f89d01c1",
   "metadata": {},
   "outputs": [],
   "source": [
    "quant_config = {\"zero_point\":True,\n",
    "               \"q_group_size\": 128,\n",
    "               \"w_bit\": 4,\n",
    "               \"version\": \"GEMM\"\n",
    "               }"
   ]
  },
  {
   "cell_type": "code",
   "execution_count": 8,
   "id": "1f853010",
   "metadata": {},
   "outputs": [
    {
     "data": {
      "application/vnd.jupyter.widget-view+json": {
       "model_id": "f0cca17da3c34fb38c633751336968bc",
       "version_major": 2,
       "version_minor": 0
      },
      "text/plain": [
       "Fetching 11 files:   0%|          | 0/11 [00:00<?, ?it/s]"
      ]
     },
     "metadata": {},
     "output_type": "display_data"
    },
    {
     "data": {
      "application/vnd.jupyter.widget-view+json": {
       "model_id": "acd7da91af68417e95b99f533793dd5d",
       "version_major": 2,
       "version_minor": 0
      },
      "text/plain": [
       "Loading checkpoint shards:   0%|          | 0/2 [00:00<?, ?it/s]"
      ]
     },
     "metadata": {},
     "output_type": "display_data"
    }
   ],
   "source": [
    "#load model\n",
    "# model = AutoAWQForCausalLM.from_pretrained(model_path, **{\"low_cpu_mem_usage\":True})\n",
    "model = AutoAWQForCausalLM.from_pretrained(model_path, device_map='auto')"
   ]
  },
  {
   "cell_type": "code",
   "execution_count": 9,
   "id": "e50621ff",
   "metadata": {},
   "outputs": [],
   "source": [
    "tokenizer = AutoTokenizer.from_pretrained(model_path, trust_remote_code=True)"
   ]
  },
  {
   "cell_type": "code",
   "execution_count": 10,
   "id": "21ffa0db",
   "metadata": {},
   "outputs": [],
   "source": [
    "import torch\n",
    "torch.cuda.empty_cache()"
   ]
  },
  {
   "cell_type": "code",
   "execution_count": 11,
   "id": "b8fa7742",
   "metadata": {},
   "outputs": [
    {
     "data": {
      "text/plain": [
       "31"
      ]
     },
     "execution_count": 11,
     "metadata": {},
     "output_type": "execute_result"
    }
   ],
   "source": [
    "import gc\n",
    "gc.collect()\n"
   ]
  },
  {
   "cell_type": "code",
   "execution_count": null,
   "id": "636aa93d",
   "metadata": {
    "scrolled": false
   },
   "outputs": [],
   "source": [
    "# torch.cuda.memory_summary(device=None, abbreviated=False)"
   ]
  },
  {
   "cell_type": "code",
   "execution_count": 12,
   "id": "48e2dc62",
   "metadata": {},
   "outputs": [
    {
     "name": "stderr",
     "output_type": "stream",
     "text": [
      "/tmp/pip_packages/huggingface_hub/repocard.py:105: UserWarning: Repo card metadata block was not found. Setting CardData to empty.\n",
      "  warnings.warn(\"Repo card metadata block was not found. Setting CardData to empty.\")\n",
      "AWQ: 100%|██████████| 32/32 [41:02<00:00, 76.96s/it]\n"
     ]
    }
   ],
   "source": [
    "#Quantize\n",
    "# dont run it again\n",
    "model.quantize(tokenizer, quant_config=quant_config)"
   ]
  },
  {
   "cell_type": "code",
   "execution_count": null,
   "id": "21de8591",
   "metadata": {},
   "outputs": [],
   "source": [
    "# model_quantized = AutoModelForCausalLM.from_pretrained(\n",
    "#     model,\n",
    "#     torch_dtype=torch.float16,\n",
    "#     device_map=\"auto\",\n",
    "#     quantization_config=quant_config\n",
    "# )"
   ]
  },
  {
   "cell_type": "code",
   "execution_count": 13,
   "id": "cb126257",
   "metadata": {},
   "outputs": [
    {
     "name": "stderr",
     "output_type": "stream",
     "text": [
      "WARNING:root:`quant_config.json` is being deprecated in the future in favor of quantization_config in config.json.\n"
     ]
    },
    {
     "data": {
      "text/plain": [
       "('/llmmodels/quantized_model/awq_mistral/tokenizer_config.json',\n",
       " '/llmmodels/quantized_model/awq_mistral/special_tokens_map.json',\n",
       " '/llmmodels/quantized_model/awq_mistral/tokenizer.model',\n",
       " '/llmmodels/quantized_model/awq_mistral/added_tokens.json',\n",
       " '/llmmodels/quantized_model/awq_mistral/tokenizer.json')"
      ]
     },
     "execution_count": 13,
     "metadata": {},
     "output_type": "execute_result"
    }
   ],
   "source": [
    "model.save_quantized(quant_path)\n",
    "tokenizer.save_pretrained(quant_path)"
   ]
  },
  {
   "cell_type": "markdown",
   "id": "dac71427",
   "metadata": {},
   "source": [
    "### Inference on quantized model"
   ]
  },
  {
   "cell_type": "code",
   "execution_count": 4,
   "id": "c2fc875c",
   "metadata": {},
   "outputs": [],
   "source": [
    "from transformers import AutoModelForCausalLM, AutoTokenizer\n",
    "quant_path = '/llmmodels/quantized_model/awq_mistral'\n",
    "model_path='mistralai/Mistral-7B-v0.1'"
   ]
  },
  {
   "cell_type": "code",
   "execution_count": 9,
   "id": "8ed7b2db",
   "metadata": {
    "scrolled": true
   },
   "outputs": [],
   "source": [
    "model_id = quant_path\n",
    "quant_model = AutoModelForCausalLM.from_pretrained(model_id, device_map=\"cuda\")\n",
    "tokenizer = AutoTokenizer.from_pretrained(model_path, trust_remote_code=True)\n",
    "\n",
    "def predict_from_quant(user_query):\n",
    "    _inputs = tokenizer.encode(user_query, return_tensors=\"pt\").to('cuda')\n",
    "    outputs = quant_model.generate(input_ids=_inputs, max_length= 1000, pad_token_id=tokenizer.eos_token_id)\n",
    "    output = tokenizer.decode(outputs[0])\n",
    "    return output"
   ]
  },
  {
   "cell_type": "code",
   "execution_count": 10,
   "id": "574a42ac",
   "metadata": {},
   "outputs": [],
   "source": [
    "import time"
   ]
  },
  {
   "cell_type": "code",
   "execution_count": 11,
   "id": "5ace8938",
   "metadata": {},
   "outputs": [
    {
     "name": "stdout",
     "output_type": "stream",
     "text": [
      "time taken is : 42.05787110328674\n"
     ]
    }
   ],
   "source": [
    "# Using quant model\n",
    "start = time.time()\n",
    "output1 = predict_from_quant(\"what is art\")\n",
    "print(\"time taken is :\", time.time()-start)"
   ]
  },
  {
   "cell_type": "code",
   "execution_count": 15,
   "id": "e36aaa33",
   "metadata": {},
   "outputs": [
    {
     "name": "stdout",
     "output_type": "stream",
     "text": [
      "40.9 s ± 44.8 ms per loop (mean ± std. dev. of 7 runs, 1 loop each)\n"
     ]
    }
   ],
   "source": [
    "%%timeit\n",
    "output1 = predict_from_quant(\"what is art\")"
   ]
  },
  {
   "cell_type": "code",
   "execution_count": 14,
   "id": "484f1d27",
   "metadata": {
    "scrolled": true
   },
   "outputs": [
    {
     "name": "stdout",
     "output_type": "stream",
     "text": [
      "<s> what is art?\n",
      "\n",
      "I’ve been thinking about this a lot lately.\n",
      "\n",
      "I’ve been thinking about it because I’ve been reading a lot of books about art.\n",
      "\n",
      "I’ve been thinking about it because I’ve been reading a lot of books about art.\n",
      "\n",
      "I’ve been thinking about it because I’ve been reading a lot of books about art.\n",
      "\n",
      "I’ve been thinking about it because I’ve been reading a lot of books about art.\n",
      "\n",
      "I’ve been thinking about it because I’ve been reading a lot of books about art.\n",
      "\n",
      "I’ve been thinking about it because I’ve been reading a lot of books about art.\n",
      "\n",
      "I’ve been thinking about it because I’ve been reading a lot of books about art.\n",
      "\n",
      "I’ve been thinking about it because I’ve been reading a lot of books about art.\n",
      "\n",
      "I’ve been thinking about it because I’ve been reading a lot of books about art.\n",
      "\n",
      "I’ve been thinking about it because I’ve been reading a lot of books about art.\n",
      "\n",
      "I’ve been thinking about it because I’ve been reading a lot of books about art.\n",
      "\n",
      "I’ve been thinking about it because I’ve been reading a lot of books about art.\n",
      "\n",
      "I’ve been thinking about it because I’ve been reading a lot of books about art.\n",
      "\n",
      "I’ve been thinking about it because I’ve been reading a lot of books about art.\n",
      "\n",
      "I’ve been thinking about it because I’ve been reading a lot of books about art.\n",
      "\n",
      "I’ve been thinking about it because I’ve been reading a lot of books about art.\n",
      "\n",
      "I’ve been thinking about it because I’ve been reading a lot of books about art.\n",
      "\n",
      "I’ve been thinking about it because I’ve been reading a lot of books about art.\n",
      "\n",
      "I’ve been thinking about it because I’ve been reading a lot of books about art.\n",
      "\n",
      "I’ve been thinking about it because I’ve been reading a lot of books about art.\n",
      "\n",
      "I’ve been thinking about it because I’ve been reading a lot of books about art.\n",
      "\n",
      "I’ve been thinking about it because I’ve been reading a lot of books about art.\n",
      "\n",
      "I’ve been thinking about it because I’ve been reading a lot of books about art.\n",
      "\n",
      "I’ve been thinking about it because I’ve been reading a lot of books about art.\n",
      "\n",
      "I’ve been thinking about it because I’ve been reading a lot of books about art.\n",
      "\n",
      "I’ve been thinking about it because I’ve been reading a lot of books about art.\n",
      "\n",
      "I’ve been thinking about it because I’ve been reading a lot of books about art.\n",
      "\n",
      "I’ve been thinking about it because I’ve been reading a lot of books about art.\n",
      "\n",
      "I’ve been thinking about it because I’ve been reading a lot of books about art.\n",
      "\n",
      "I’ve been thinking about it because I’ve been reading a lot of books about art.\n",
      "\n",
      "I’ve been thinking about it because I’ve been reading a lot of books about art.\n",
      "\n",
      "I’ve been thinking about it because I’ve been reading a lot of books about art.\n",
      "\n",
      "I’ve been thinking about it because I’ve been reading a lot of books about art.\n",
      "\n",
      "I’ve been thinking about it because I’ve been reading a lot of books about art.\n",
      "\n",
      "I’ve been thinking about it because I’ve been reading a lot of books about art.\n",
      "\n",
      "I’ve been thinking about it because I’ve been reading a lot of books about art.\n",
      "\n",
      "I’ve been thinking about it because I’ve been reading a lot of books about art.\n",
      "\n",
      "I’ve been thinking about it because I’ve been reading a lot of books about art.\n",
      "\n",
      "I’ve been thinking about it because I’ve been reading a lot of books about art.\n",
      "\n",
      "I’ve been thinking about it because I’ve been reading a lot of books about art.\n",
      "\n",
      "I’ve been thinking about it because I’ve been reading a lot of books about art.\n",
      "\n",
      "I’ve been thinking about it because I’ve been reading a lot of books about art.\n",
      "\n",
      "I’ve been thinking about it because I’ve been reading a lot of books about art.\n",
      "\n",
      "I’ve been thinking about it because I’ve been reading a lot of books about art.\n",
      "\n",
      "I’ve been thinking about it because I’ve been\n"
     ]
    }
   ],
   "source": [
    "print(output1)"
   ]
  },
  {
   "cell_type": "markdown",
   "id": "9d3fee82",
   "metadata": {},
   "source": [
    "### Inference on un-quantized model"
   ]
  },
  {
   "cell_type": "code",
   "execution_count": 3,
   "id": "cdf676e4",
   "metadata": {},
   "outputs": [],
   "source": [
    "from transformers import AutoModelForCausalLM, AutoTokenizer\n",
    "from transformers import pipeline"
   ]
  },
  {
   "cell_type": "code",
   "execution_count": null,
   "id": "ba90fb11",
   "metadata": {},
   "outputs": [],
   "source": [
    "# model_path = '/data/quantization-trials/merged-model'/"
   ]
  },
  {
   "cell_type": "code",
   "execution_count": 4,
   "id": "d4a6c0b0",
   "metadata": {},
   "outputs": [
    {
     "data": {
      "application/vnd.jupyter.widget-view+json": {
       "model_id": "19d7f58a2eac4248881ef7c7a136cf2d",
       "version_major": 2,
       "version_minor": 0
      },
      "text/plain": [
       "Loading checkpoint shards:   0%|          | 0/2 [00:00<?, ?it/s]"
      ]
     },
     "metadata": {},
     "output_type": "display_data"
    }
   ],
   "source": [
    "model_id = model_path\n",
    "pipe = pipeline(\"text-generation\", model=model_id, device_map=\"auto\")\n",
    "# model = AutoModelForCausalLM.from_pretrained(model_id, device_map=\"auto\",)\n",
    "# tokenizer = AutoTokenizer.from_pretrained(model_id, trust_remote_code=True)\n",
    "\n",
    "# def predict_from_normal(user_query):\n",
    "#     _inputs = tokenizer.encode(user_query, return_tensors=\"pt\").to('cuda')\n",
    "#     outputs = model.generate(input_ids=_inputs, max_length= 1000, pad_token_id=tokenizer.eos_token_id)\n",
    "#     output = tokenizer.decode(outputs[0])\n",
    "#     return output"
   ]
  },
  {
   "cell_type": "code",
   "execution_count": 5,
   "id": "5f1885d6",
   "metadata": {},
   "outputs": [
    {
     "name": "stderr",
     "output_type": "stream",
     "text": [
      "Setting `pad_token_id` to `eos_token_id`:2 for open-end generation.\n",
      "/tmp/pip_packages/transformers/generation/utils.py:1273: UserWarning: Using the model-agnostic default `max_length` (=20) to control the generation length. We recommend setting `max_new_tokens` to control the maximum length of the generation.\n",
      "  warnings.warn(\n"
     ]
    },
    {
     "data": {
      "text/plain": [
       "[{'generated_text': 'what is art?\\n\\nArt is a form of expression. It is a way to communicate ideas'}]"
      ]
     },
     "execution_count": 5,
     "metadata": {},
     "output_type": "execute_result"
    }
   ],
   "source": [
    "pipe(\"what is art\", max_le)"
   ]
  },
  {
   "cell_type": "code",
   "execution_count": 5,
   "id": "010b00db",
   "metadata": {
    "scrolled": true
   },
   "outputs": [
    {
     "name": "stdout",
     "output_type": "stream",
     "text": [
      "time taken is : 103.04966878890991\n"
     ]
    }
   ],
   "source": [
    "# Using unquant model\n",
    "import time\n",
    "start = time.time()\n",
    "output2 = predict_from_normal(\"what is art\")\n",
    "print(\"time taken is :\", time.time()-start)"
   ]
  },
  {
   "cell_type": "code",
   "execution_count": 6,
   "id": "8b5b6f9c",
   "metadata": {
    "scrolled": false
   },
   "outputs": [
    {
     "name": "stdout",
     "output_type": "stream",
     "text": [
      "<s> what is art?\n",
      "\n",
      "# What is Art?\n",
      "\n",
      "Art is a form of expression that is created by an artist. It can be in the form of a painting, sculpture, or even a song. Art is a way for people to express themselves and their feelings. It can be used to communicate ideas, emotions, and thoughts.\n",
      "\n",
      "Art can be created in many different ways. It can be created with paint, clay, or even words. It can be created by hand or with the help of technology. Art can be created by anyone, regardless of their age or skill level.\n",
      "\n",
      "Art is a way for people to connect with each other. It can be used to bring people together and to create a sense of community. Art can also be used to express ideas and feelings that are difficult to put into words.\n",
      "\n",
      "Art is a way for people to express themselves and their feelings. It can be used to communicate ideas, emotions, and thoughts. Art can be created in many different ways and can be used to bring people together.\n",
      "\n",
      "## What is Art?\n",
      "\n",
      "Art is a form of expression that is created by an artist. It can be in the form of a painting, sculpture, or even a song. Art is a way for people to express themselves and their feelings. It can be used to communicate ideas, emotions, and thoughts.\n",
      "\n",
      "Art can be created in many different ways. It can be created with paint, clay, or even words. It can be created by hand or with the help of technology. Art can be created by anyone, regardless of their age or skill level.\n",
      "\n",
      "Art is a way for people to connect with each other. It can be used to bring people together and to create a sense of community. Art can also be used to express ideas and feelings that are difficult to put into words.\n",
      "\n",
      "Art is a way for people to express themselves and their feelings. It can be used to communicate ideas, emotions, and thoughts. Art can be created in many different ways and can be used to bring people together.\n",
      "\n",
      "## What is Art?\n",
      "\n",
      "Art is a form of expression that is created by an artist. It can be in the form of a painting, sculpture, or even a song. Art is a way for people to express themselves and their feelings. It can be used to communicate ideas, emotions, and thoughts.\n",
      "\n",
      "Art can be created in many different ways. It can be created with paint, clay, or even words. It can be created by hand or with the help of technology. Art can be created by anyone, regardless of their age or skill level.\n",
      "\n",
      "Art is a way for people to connect with each other. It can be used to bring people together and to create a sense of community. Art can also be used to express ideas and feelings that are difficult to put into words.\n",
      "\n",
      "Art is a way for people to express themselves and their feelings. It can be used to communicate ideas, emotions, and thoughts. Art can be created in many different ways and can be used to bring people together.\n",
      "\n",
      "## What is Art?\n",
      "\n",
      "Art is a form of expression that is created by an artist. It can be in the form of a painting, sculpture, or even a song. Art is a way for people to express themselves and their feelings. It can be used to communicate ideas, emotions, and thoughts.\n",
      "\n",
      "Art can be created in many different ways. It can be created with paint, clay, or even words. It can be created by hand or with the help of technology. Art can be created by anyone, regardless of their age or skill level.\n",
      "\n",
      "Art is a way for people to connect with each other. It can be used to bring people together and to create a sense of community. Art can also be used to express ideas and feelings that are difficult to put into words.\n",
      "\n",
      "Art is a way for people to express themselves and their feelings. It can be used to communicate ideas, emotions, and thoughts. Art can be created in many different ways and can be used to bring people together.\n",
      "\n",
      "## What is Art?\n",
      "\n",
      "Art is a form of expression that is created by an artist. It can be in the form of a painting, sculpture, or even a song. Art is a way for people to express themselves and their feelings. It can be used to communicate ideas, emotions, and thoughts.\n",
      "\n",
      "Art can be created in many different ways. It can be created with paint, clay, or even words. It can be created by hand or with the help of technology. Art can be created by anyone, regardless of their age or skill level.\n",
      "\n",
      "Art is a way for people to connect with each other. It can be used to bring people together and to create a sense of community. Art can also\n"
     ]
    }
   ],
   "source": [
    "print(output2)"
   ]
  },
  {
   "cell_type": "code",
   "execution_count": null,
   "id": "e0949f05",
   "metadata": {
    "scrolled": true
   },
   "outputs": [],
   "source": [
    "model"
   ]
  },
  {
   "cell_type": "code",
   "execution_count": null,
   "id": "f139bb23",
   "metadata": {
    "scrolled": true
   },
   "outputs": [],
   "source": [
    "quant_model"
   ]
  }
 ],
 "metadata": {
  "kernelspec": {
   "display_name": "Python 3",
   "language": "python",
   "name": "python3"
  },
  "language_info": {
   "codemirror_mode": {
    "name": "ipython",
    "version": 3
   },
   "file_extension": ".py",
   "mimetype": "text/x-python",
   "name": "python",
   "nbconvert_exporter": "python",
   "pygments_lexer": "ipython3",
   "version": "3.8.16"
  }
 },
 "nbformat": 4,
 "nbformat_minor": 5
}
