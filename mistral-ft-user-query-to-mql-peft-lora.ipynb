{
 "cells": [
  {
   "cell_type": "code",
   "execution_count": 1,
   "id": "06dcc636",
   "metadata": {
    "scrolled": true
   },
   "outputs": [
    {
     "name": "stdout",
     "output_type": "stream",
     "text": [
      "Collecting transformers\n",
      "\u001b[?25l  Downloading https://files.pythonhosted.org/packages/c1/bd/f64d67df4d3b05a460f281defe830ffab6d7940b7ca98ec085e94e024781/transformers-4.34.1-py3-none-any.whl (7.7MB)\n",
      "\u001b[K     |████████████████████████████████| 7.8MB 6.7MB/s eta 0:00:01\n",
      "\u001b[?25hRequirement already satisfied, skipping upgrade: huggingface-hub<1.0,>=0.16.4 in /opt/conda/lib/python3.8/site-packages (from transformers) (0.16.4)\n",
      "Requirement already satisfied, skipping upgrade: packaging>=20.0 in /opt/conda/lib/python3.8/site-packages (from transformers) (23.0)\n",
      "Requirement already satisfied, skipping upgrade: regex!=2019.12.17 in /opt/conda/lib/python3.8/site-packages (from transformers) (2023.8.8)\n",
      "Requirement already satisfied, skipping upgrade: requests in /opt/conda/lib/python3.8/site-packages (from transformers) (2.29.0)\n",
      "Requirement already satisfied, skipping upgrade: pyyaml>=5.1 in /opt/conda/lib/python3.8/site-packages (from transformers) (6.0.1)\n",
      "Requirement already satisfied, skipping upgrade: safetensors>=0.3.1 in /opt/conda/lib/python3.8/site-packages (from transformers) (0.3.2)\n",
      "Requirement already satisfied, skipping upgrade: filelock in /opt/conda/lib/python3.8/site-packages (from transformers) (3.12.2)\n",
      "Requirement already satisfied, skipping upgrade: numpy>=1.17 in /opt/conda/lib/python3.8/site-packages (from transformers) (1.21.1)\n",
      "Requirement already satisfied, skipping upgrade: tqdm>=4.27 in /opt/conda/lib/python3.8/site-packages (from transformers) (4.65.0)\n",
      "Collecting tokenizers<0.15,>=0.14\n",
      "\u001b[?25l  Downloading https://files.pythonhosted.org/packages/76/ee/7e35fb46c728989357e6ccb96df64c4364601cfbfdd6c25ccc872e6c16a0/tokenizers-0.14.1-cp38-cp38-manylinux_2_17_x86_64.manylinux2014_x86_64.whl (3.8MB)\n",
      "\u001b[K     |████████████████████████████████| 3.8MB 87.4MB/s eta 0:00:01\n",
      "\u001b[?25hRequirement already satisfied, skipping upgrade: typing-extensions>=3.7.4.3 in /opt/conda/lib/python3.8/site-packages (from huggingface-hub<1.0,>=0.16.4->transformers) (4.1.1)\n",
      "Requirement already satisfied, skipping upgrade: fsspec in /opt/conda/lib/python3.8/site-packages (from huggingface-hub<1.0,>=0.16.4->transformers) (2023.6.0)\n",
      "Requirement already satisfied, skipping upgrade: urllib3<1.27,>=1.21.1 in /opt/conda/lib/python3.8/site-packages (from requests->transformers) (1.26.15)\n",
      "Requirement already satisfied, skipping upgrade: charset-normalizer<4,>=2 in /opt/conda/lib/python3.8/site-packages (from requests->transformers) (2.0.4)\n",
      "Requirement already satisfied, skipping upgrade: idna<4,>=2.5 in /opt/conda/lib/python3.8/site-packages (from requests->transformers) (3.4)\n",
      "Requirement already satisfied, skipping upgrade: certifi>=2017.4.17 in /opt/conda/lib/python3.8/site-packages (from requests->transformers) (2023.5.7)\n",
      "Installing collected packages: tokenizers, transformers\n",
      "  Found existing installation: tokenizers 0.13.3\n",
      "    Uninstalling tokenizers-0.13.3:\n",
      "      Successfully uninstalled tokenizers-0.13.3\n",
      "  Found existing installation: transformers 4.31.0\n",
      "    Uninstalling transformers-4.31.0:\n",
      "      Successfully uninstalled transformers-4.31.0\n",
      "Successfully installed tokenizers-0.14.1 transformers-4.34.1\n"
     ]
    }
   ],
   "source": [
    "!sudo pip install transformers --upgrade"
   ]
  },
  {
   "cell_type": "code",
   "execution_count": 2,
   "id": "a1b437fa",
   "metadata": {},
   "outputs": [
    {
     "data": {
      "text/plain": [
       "'4.34.1'"
      ]
     },
     "execution_count": 2,
     "metadata": {},
     "output_type": "execute_result"
    }
   ],
   "source": [
    "import transformers\n",
    "transformers.__version__"
   ]
  },
  {
   "cell_type": "code",
   "execution_count": 3,
   "id": "ef7ece4d",
   "metadata": {},
   "outputs": [],
   "source": [
    "#!sudo pip install -q accelerate peft==0.4.0 bitsandbytes trl==0.4.7"
   ]
  },
  {
   "cell_type": "code",
   "execution_count": 4,
   "id": "57fbc6b6",
   "metadata": {},
   "outputs": [],
   "source": [
    "import os\n",
    "import torch\n",
    "from datasets import load_dataset\n",
    "from datasets import Dataset\n",
    "from transformers import (\n",
    "    AutoModelForCausalLM,\n",
    "    AutoTokenizer,\n",
    "    BitsAndBytesConfig,\n",
    "    HfArgumentParser,\n",
    "    TrainingArguments,\n",
    "    pipeline,\n",
    "    logging,\n",
    ")\n",
    "from peft import LoraConfig, PeftModel\n",
    "from trl import SFTTrainer\n",
    "import pandas as pd\n",
    "import torch"
   ]
  },
  {
   "cell_type": "code",
   "execution_count": 7,
   "id": "02bb11f9",
   "metadata": {
    "slideshow": {
     "slide_type": "slide"
    }
   },
   "outputs": [],
   "source": [
    "df = pd.read_csv('/data/mistral/query-to-mql/Live_Usage_queries_with_mql_formatted.csv')"
   ]
  },
  {
   "cell_type": "code",
   "execution_count": 8,
   "id": "8291ade2",
   "metadata": {},
   "outputs": [
    {
     "data": {
      "text/plain": [
       "Index(['query', 'mql', 'account_id', 'metadata', 'measure', 'dimension',\n",
       "       'derived_measure', 'date', 'measure_mql', 'dimension_mql', 'action_mql',\n",
       "       'date_mql', 'metadata_none_removed'],\n",
       "      dtype='object')"
      ]
     },
     "execution_count": 8,
     "metadata": {},
     "output_type": "execute_result"
    }
   ],
   "source": [
    "df.columns"
   ]
  },
  {
   "cell_type": "code",
   "execution_count": 9,
   "id": "8070e590",
   "metadata": {},
   "outputs": [
    {
     "data": {
      "text/plain": [
       "(17334, 13)"
      ]
     },
     "execution_count": 9,
     "metadata": {},
     "output_type": "execute_result"
    }
   ],
   "source": [
    "df.shape"
   ]
  },
  {
   "cell_type": "code",
   "execution_count": null,
   "id": "290a2a2b",
   "metadata": {},
   "outputs": [],
   "source": []
  },
  {
   "cell_type": "code",
   "execution_count": 10,
   "id": "e065f76d",
   "metadata": {},
   "outputs": [],
   "source": [
    "g = torch.Generator().manual_seed(1234)"
   ]
  },
  {
   "cell_type": "code",
   "execution_count": 11,
   "id": "575c9a95",
   "metadata": {},
   "outputs": [],
   "source": [
    "train_size = 500"
   ]
  },
  {
   "cell_type": "code",
   "execution_count": 12,
   "id": "9666f3ca",
   "metadata": {},
   "outputs": [],
   "source": [
    "rows = torch.randint(0,df.shape[0],(train_size,))"
   ]
  },
  {
   "cell_type": "code",
   "execution_count": 13,
   "id": "41714ad2",
   "metadata": {},
   "outputs": [],
   "source": [
    "train_df = df[['query','measure','measure_mql']].iloc[rows.tolist()]"
   ]
  },
  {
   "cell_type": "code",
   "execution_count": 16,
   "id": "699e8bb4",
   "metadata": {},
   "outputs": [],
   "source": [
    "val_df = df[['query','measure','measure_mql']].drop(rows.tolist())\n",
    "val_df = val_df[:10]"
   ]
  },
  {
   "cell_type": "code",
   "execution_count": 17,
   "id": "24d56f14",
   "metadata": {},
   "outputs": [
    {
     "data": {
      "text/plain": [
       "((10, 3), (500, 3))"
      ]
     },
     "execution_count": 17,
     "metadata": {},
     "output_type": "execute_result"
    }
   ],
   "source": [
    "val_df.shape, train_df.shape"
   ]
  },
  {
   "cell_type": "code",
   "execution_count": 18,
   "id": "4de7a082",
   "metadata": {},
   "outputs": [],
   "source": [
    "val_df.to_csv('val_df_query_to_mql.csv', index=True)\n",
    "train_df.to_csv('train_df_query_to_mql.csv', index=True)"
   ]
  },
  {
   "cell_type": "code",
   "execution_count": null,
   "id": "9060e905",
   "metadata": {},
   "outputs": [],
   "source": []
  },
  {
   "cell_type": "code",
   "execution_count": 19,
   "id": "c37f45b7",
   "metadata": {},
   "outputs": [],
   "source": [
    "# The model that you want to train from the Hugging Face hub\n",
    "model_name = \"mistralai/Mistral-7B-Instruct-v0.1\"\n",
    "\n",
    "# The instruction dataset to use\n",
    "#dataset_name = \"\"\n",
    "\n",
    "# Fine-tuned model name\n",
    "#new_model = \"mistral-ft-peft-on-template_and_user_query-data\""
   ]
  },
  {
   "cell_type": "code",
   "execution_count": 20,
   "id": "7f2ceeb8",
   "metadata": {},
   "outputs": [],
   "source": [
    "################################################################################\n",
    "# QLoRA parameters\n",
    "################################################################################\n",
    "\n",
    "# LoRA attention dimension\n",
    "lora_r = 64\n",
    "\n",
    "# Alpha parameter for LoRA scaling\n",
    "lora_alpha = 16\n",
    "\n",
    "# Dropout probability for LoRA layers\n",
    "lora_dropout = 0.1"
   ]
  },
  {
   "cell_type": "code",
   "execution_count": 21,
   "id": "f83e1317",
   "metadata": {},
   "outputs": [],
   "source": [
    "################################################################################\n",
    "# bitsandbytes parameters\n",
    "################################################################################\n",
    "\n",
    "# Activate 4-bit precision base model loading\n",
    "use_4bit = True\n",
    "\n",
    "# Compute dtype for 4-bit base models\n",
    "bnb_4bit_compute_dtype = \"float16\"\n",
    "\n",
    "# Quantization type (fp4 or nf4)\n",
    "bnb_4bit_quant_type = \"nf4\"\n",
    "\n",
    "# Activate nested quantization for 4-bit base models (double quantization)\n",
    "use_nested_quant = True"
   ]
  },
  {
   "cell_type": "code",
   "execution_count": 22,
   "id": "6b95b0ea",
   "metadata": {},
   "outputs": [],
   "source": [
    "################################################################################\n",
    "# TrainingArguments parameters\n",
    "################################################################################\n",
    "\n",
    "# Output directory where the model predictions and checkpoints will be stored\n",
    "output_dir = \"/data/mistral/query-to-mql/\"\n",
    "\n",
    "# Number of training epochs\n",
    "num_train_epochs = 15\n",
    "\n",
    "# Enable fp16/bf16 training (set bf16 to True with an A100)\n",
    "# fp16 = False\n",
    "fp16 = True # not using quantisation\n",
    "bf16 = False\n",
    "\n",
    "# Batch size per GPU for training\n",
    "per_device_train_batch_size = 1\n",
    "\n",
    "# Batch size per GPU for evaluation\n",
    "per_device_eval_batch_size = 1\n",
    "\n",
    "# Number of update steps to accumulate the gradients for\n",
    "gradient_accumulation_steps = 1\n",
    "\n",
    "# Enable gradient checkpointing\n",
    "gradient_checkpointing = True\n",
    "\n",
    "\n",
    "# Maximum gradient normal (gradient clipping)\n",
    "max_grad_norm = 0.3\n",
    "\n",
    "# Initial learning rate (AdamW optimizer)\n",
    "learning_rate = 2e-4\n",
    "\n",
    "# Weight decay to apply to all layers except bias/LayerNorm weights\n",
    "weight_decay = 0.001\n",
    "\n",
    "# Optimizer to use\n",
    "optim = \"paged_adamw_32bit\"\n",
    "\n",
    "# Learning rate schedule (constant a bit better than cosine)\n",
    "lr_scheduler_type = \"constant\"\n",
    "\n",
    "# Number of training steps (overrides num_train_epochs)\n",
    "max_steps = 1000\n",
    "\n",
    "# Ratio of steps for a linear warmup (from 0 to learning rate)\n",
    "warmup_ratio = 0.03\n",
    "\n",
    "# Group sequences into batches with same length\n",
    "# Saves memory and speeds up training considerably\n",
    "group_by_length = True\n",
    "\n",
    "# Save checkpoint every X updates steps\n",
    "save_steps = 50\n",
    "\n",
    "# Log every X updates steps\n",
    "logging_steps = 50"
   ]
  },
  {
   "cell_type": "code",
   "execution_count": 23,
   "id": "fd83a980",
   "metadata": {},
   "outputs": [],
   "source": [
    "################################################################################\n",
    "# SFT parameters\n",
    "################################################################################\n",
    "\n",
    "# Maximum sequence length to use\n",
    "max_seq_length = None\n",
    "\n",
    "# Pack multiple short examples in the same input sequence to increase efficiency\n",
    "packing = False\n",
    "\n",
    "# Load the entire model on the GPU 0\n",
    "device_map = {\"\": 0}"
   ]
  },
  {
   "cell_type": "code",
   "execution_count": 24,
   "id": "eb61daef",
   "metadata": {},
   "outputs": [],
   "source": [
    "promt_template_measure = \"\"\"<s>[INST]<<SYS>>\n",
    "Given the CONTEXT:{context}, convert the 'user query' into JSON format which captures basic measures asked by user and maps it to CONTEXT.\n",
    "\n",
    "<</SYS>>\n",
    "User query : {user_query}\n",
    "\n",
    "Converted JSON is as shown below: \n",
    "[/INST]\n",
    "[MEASUREMQL]\n",
    "{measure_mql}\n",
    "[/MEASUREMQL]</s>\n",
    "\"\"\""
   ]
  },
  {
   "cell_type": "code",
   "execution_count": 62,
   "id": "33b17057",
   "metadata": {},
   "outputs": [],
   "source": [
    "promt_template_v1 = \"\"\"<s>[INST]<<SYS>>\n",
    "You are an assistant that helps to map the user question to the a particular JSON format which contains info asked by user and also maps it the below CONTEXT. You might also need to act as a time tagger expert to convert the date elements present in the question to a standard format and to find possible date ranges for the same.\n",
    "\n",
    "CONTEXT:{context}\n",
    "\n",
    "Step 1: Identify the n-grams match between question and context\n",
    "\n",
    "        Map the n-gram or their lemma or their inflections from the question with the values in the passed context.\n",
    "        Always consider the longest n-gram match, not the sub-string.\n",
    "        If there are multiple matches for an n-gram with context, return all such ENTITY in response.\n",
    "        If you are returning any match which is not exactly present with the context, make sure that it is a noun phrase and there is a high similarity between the match and the matched value in context. \n",
    "\n",
    "\n",
    "Step 2: Applying time tagger rules only if time elements are present in question\n",
    "\n",
    "        Identify the TIME ELEMENTS in the input question and convert it to a standard format (if not already) by applying the general time tagging rules. If the TIME ELEMENT is already in a standard format, then no need to convert it.\n",
    "        TIME ELEMENT can be either a temporal interval (across months, yoy, mom, qoq, wow, quarterly etc.) or a temporal expression (time points such as specific dates, relative expressions etc.).\n",
    "        Calculate date range for each time points based on the following conditions:\n",
    "        1. For relative time expressions, calculate the date range based on a reference date - By default the reference date is the end_date in date input: {date_input}\n",
    "        2. To calculate the date range for \"last X years\", strictly follow below conditions:\n",
    "                For \"last 1 year\", consider exactly one year before the reference year and set start date as January 1 and end date as Decemebr 31 of that year.\n",
    "                For \"last X years\", where X is greater than 1, consider starting year = (reference year - X+1) and set start date as January 1 of starting year and end date as the reference date.\n",
    "        3. To calculate the date range for \"last X months\", strictly follow below conditions:\n",
    "                Consider reference month as the month in reference date.\n",
    "                For \"last 1 month\", consider exactly one month before the reference month and set start date as first day and end date as last day of that month.\n",
    "                For \"last X months\", where X is greater than 1, consider starting month = (reference month - X+1) and set start date as first day of starting month and end date as the reference date. (Example: if reference date is 14/09/2022, then last 3 months = 01/07/2022 - 14/09/2022)\n",
    "        4. To calculate the date range for \"last X quarters\", strictly follow below conditions:\n",
    "                For \"last 1 quarter\", consider exactly one quarter before the reference quarter and set start date as first day and end date as last day of that quarter .\n",
    "                For \"last X quarter\", where X is greater than 1, consider starting quarter = (reference quarter - X+1) and set start date as first day of starting quarter and end date as the reference date.\n",
    "        5. To calculate the date range for \"last X weeks\", strictly follow the below conditions:\n",
    "                Consider reference week as the week in reference week.\n",
    "                For \"last 1 week\", set start date as Monday and end date as Sunday of the previous week of reference week. (Example: if reference date is 14/09/2022, then last week = 05/09/2022 - 11/09/2022)\n",
    "                For \"last X weeks\", set start date as Monday of reference week and set start date as the Monday of that week and end date as reference date. \n",
    "        6. Provide the date range of each time point in \"start date - end date\" format always.\n",
    "\n",
    "<</SYS>>\n",
    "User question is : {user_query}\n",
    "\n",
    "Converted JSON is as shown below: \n",
    "[/INST]\n",
    "[MQL]\n",
    "{mql}\n",
    "[/MQL]</s>\"\"\""
   ]
  },
  {
   "cell_type": "code",
   "execution_count": 30,
   "id": "50d534e7",
   "metadata": {},
   "outputs": [
    {
     "data": {
      "text/plain": [
       "Index(['query', 'measure', 'measure_mql'], dtype='object')"
      ]
     },
     "execution_count": 30,
     "metadata": {},
     "output_type": "execute_result"
    }
   ],
   "source": [
    "train_df.columns"
   ]
  },
  {
   "cell_type": "code",
   "execution_count": 24,
   "id": "78a95227",
   "metadata": {},
   "outputs": [],
   "source": [
    "def create_fine_tuning_dataset(row):\n",
    "    mql = eval(row['mql'])[0]['mql']\n",
    "    user_query = row['query']\n",
    "    date_input = {\"start_date\": \"01/01/2020\", \"end_date\": \"15/09/2023\"}\n",
    "    context = row['metadata_none_removed']\n",
    "    formated = promt_template_v1.format(context=context,\n",
    "                                        date_input = date_input,\n",
    "                                        user_query=user_query,\n",
    "                                        mql=mql)\n",
    "    return formated"
   ]
  },
  {
   "cell_type": "code",
   "execution_count": 31,
   "id": "9fad1ffc",
   "metadata": {},
   "outputs": [],
   "source": [
    "def create_fine_tuning_dataset_measure(row):\n",
    "    measure_mql = row['measure_mql']\n",
    "    user_query = row['query']\n",
    "    context = row['measure']\n",
    "    formated = promt_template_measure.format(context=context,\n",
    "                                             user_query=user_query,\n",
    "                                             measure_mql=measure_mql)\n",
    "    return formated"
   ]
  },
  {
   "cell_type": "code",
   "execution_count": 32,
   "id": "7a7de690",
   "metadata": {},
   "outputs": [],
   "source": [
    "train_df['fine_tuning_dataset']=train_df.apply(create_fine_tuning_dataset_measure, axis=1)"
   ]
  },
  {
   "cell_type": "code",
   "execution_count": 33,
   "id": "d6859de9",
   "metadata": {},
   "outputs": [],
   "source": [
    "# train_df['fine_tuning_dataset']=train_df.apply(create_fine_tuning_dataset, axis=1)"
   ]
  },
  {
   "cell_type": "code",
   "execution_count": 26,
   "id": "8c4fcb76",
   "metadata": {},
   "outputs": [],
   "source": [
    "#val_df['fine_tuning_dataset']=val_df.apply(create_fine_tuning_dataset, axis=1)"
   ]
  },
  {
   "cell_type": "code",
   "execution_count": 34,
   "id": "589e2df3",
   "metadata": {},
   "outputs": [],
   "source": [
    "val_df['fine_tuning_dataset']=val_df.apply(create_fine_tuning_dataset_measure, axis=1)"
   ]
  },
  {
   "cell_type": "code",
   "execution_count": 35,
   "id": "0550eb5e",
   "metadata": {},
   "outputs": [
    {
     "data": {
      "text/plain": [
       "(500, 4)"
      ]
     },
     "execution_count": 35,
     "metadata": {},
     "output_type": "execute_result"
    }
   ],
   "source": [
    "train_df.shape"
   ]
  },
  {
   "cell_type": "code",
   "execution_count": 36,
   "id": "8af15320",
   "metadata": {},
   "outputs": [],
   "source": [
    "train_df = train_df[['fine_tuning_dataset']]"
   ]
  },
  {
   "cell_type": "code",
   "execution_count": 37,
   "id": "ffaf5ffa",
   "metadata": {},
   "outputs": [
    {
     "data": {
      "text/plain": [
       "(500, 1)"
      ]
     },
     "execution_count": 37,
     "metadata": {},
     "output_type": "execute_result"
    }
   ],
   "source": [
    "train_df.shape"
   ]
  },
  {
   "cell_type": "code",
   "execution_count": 38,
   "id": "2e5f8b69",
   "metadata": {},
   "outputs": [
    {
     "data": {
      "text/plain": [
       "(10, 1)"
      ]
     },
     "execution_count": 38,
     "metadata": {},
     "output_type": "execute_result"
    }
   ],
   "source": [
    "val_df = val_df[['fine_tuning_dataset']]\n",
    "val_df.shape"
   ]
  },
  {
   "cell_type": "code",
   "execution_count": 39,
   "id": "50718542",
   "metadata": {},
   "outputs": [],
   "source": [
    "val_df.reset_index(inplace=True)\n",
    "train_df.reset_index(inplace=True)"
   ]
  },
  {
   "cell_type": "code",
   "execution_count": 40,
   "id": "0f4c4086",
   "metadata": {},
   "outputs": [],
   "source": [
    "train_dataset = Dataset.from_pandas(train_df)\n",
    "val_dataset = Dataset.from_pandas(val_df)"
   ]
  },
  {
   "cell_type": "code",
   "execution_count": 41,
   "id": "af0efa36",
   "metadata": {},
   "outputs": [
    {
     "data": {
      "text/plain": [
       "Dataset({\n",
       "    features: ['index', 'fine_tuning_dataset'],\n",
       "    num_rows: 500\n",
       "})"
      ]
     },
     "execution_count": 41,
     "metadata": {},
     "output_type": "execute_result"
    }
   ],
   "source": [
    "train_dataset"
   ]
  },
  {
   "cell_type": "code",
   "execution_count": 42,
   "id": "555e910f",
   "metadata": {
    "scrolled": true
   },
   "outputs": [
    {
     "data": {
      "text/plain": [
       "Dataset({\n",
       "    features: ['index', 'fine_tuning_dataset'],\n",
       "    num_rows: 10\n",
       "})"
      ]
     },
     "execution_count": 42,
     "metadata": {},
     "output_type": "execute_result"
    }
   ],
   "source": [
    "val_dataset"
   ]
  },
  {
   "cell_type": "code",
   "execution_count": 43,
   "id": "68cc3cf7",
   "metadata": {},
   "outputs": [],
   "source": [
    "# Load tokenizer and model with QLoRA configuration\n",
    "compute_dtype = getattr(torch, bnb_4bit_compute_dtype)\n",
    "\n",
    "bnb_config = BitsAndBytesConfig(\n",
    "    load_in_4bit=use_4bit,\n",
    "    bnb_4bit_quant_type=bnb_4bit_quant_type,\n",
    "    bnb_4bit_compute_dtype=compute_dtype,\n",
    "    bnb_4bit_use_double_quant=use_nested_quant,\n",
    ")"
   ]
  },
  {
   "cell_type": "code",
   "execution_count": 44,
   "id": "ed25c775",
   "metadata": {},
   "outputs": [
    {
     "data": {
      "text/plain": [
       "'nf4'"
      ]
     },
     "execution_count": 44,
     "metadata": {},
     "output_type": "execute_result"
    }
   ],
   "source": [
    "bnb_4bit_quant_type"
   ]
  },
  {
   "cell_type": "code",
   "execution_count": 45,
   "id": "6664ecee",
   "metadata": {},
   "outputs": [
    {
     "data": {
      "text/plain": [
       "torch.float16"
      ]
     },
     "execution_count": 45,
     "metadata": {},
     "output_type": "execute_result"
    }
   ],
   "source": [
    "compute_dtype"
   ]
  },
  {
   "cell_type": "code",
   "execution_count": 46,
   "id": "8e2c3788",
   "metadata": {},
   "outputs": [],
   "source": [
    "# Check GPU compatibility with bfloat16\n",
    "if compute_dtype == torch.float16 and use_4bit:\n",
    "    major, _ = torch.cuda.get_device_capability()\n",
    "    if major >= 8:\n",
    "        print(\"=\" * 80)\n",
    "        print(\"Your GPU supports bfloat16: accelerate training with bf16=True\")\n",
    "        print(\"=\" * 80)"
   ]
  },
  {
   "cell_type": "code",
   "execution_count": 47,
   "id": "a38e3e5d",
   "metadata": {},
   "outputs": [],
   "source": [
    "model_name = \"mistralai/Mistral-7B-Instruct-v0.1\""
   ]
  },
  {
   "cell_type": "code",
   "execution_count": 48,
   "id": "0f49a0ae",
   "metadata": {
    "slideshow": {
     "slide_type": "-"
    }
   },
   "outputs": [
    {
     "name": "stdout",
     "output_type": "stream",
     "text": [
      "Collecting pynvml\n",
      "\u001b[?25l  Downloading https://files.pythonhosted.org/packages/5b/9c/adb8070059caaa15d5a572b66bccd95900d8c1b9fa54d6ecea6ae97448d1/pynvml-11.5.0-py3-none-any.whl (53kB)\n",
      "\u001b[K     |████████████████████████████████| 61kB 5.8MB/s eta 0:00:011\n",
      "\u001b[?25hInstalling collected packages: pynvml\n",
      "Successfully installed pynvml-11.5.0\n"
     ]
    }
   ],
   "source": [
    "!sudo pip install pynvml"
   ]
  },
  {
   "cell_type": "code",
   "execution_count": 49,
   "id": "e994711a",
   "metadata": {},
   "outputs": [
    {
     "data": {
      "text/plain": [
       "{'gpu': [{'fb_memory_usage': {'total': 16384.0,\n",
       "    'free': 15972.9375,\n",
       "    'unit': 'MiB'}}]}"
      ]
     },
     "execution_count": 49,
     "metadata": {},
     "output_type": "execute_result"
    }
   ],
   "source": [
    "from pynvml.smi import nvidia_smi\n",
    "nvsmi = nvidia_smi.getInstance()\n",
    "nvsmi.DeviceQuery('memory.free, memory.total')"
   ]
  },
  {
   "cell_type": "code",
   "execution_count": 42,
   "id": "eec98fb5",
   "metadata": {
    "scrolled": true
   },
   "outputs": [],
   "source": [
    "#!df -H"
   ]
  },
  {
   "cell_type": "code",
   "execution_count": 43,
   "id": "7ca0d0d1",
   "metadata": {},
   "outputs": [],
   "source": [
    "# del model\n",
    "# torch.cuda.empty_cache()"
   ]
  },
  {
   "cell_type": "code",
   "execution_count": 50,
   "id": "ba0a15e6",
   "metadata": {},
   "outputs": [
    {
     "data": {
      "application/vnd.jupyter.widget-view+json": {
       "model_id": "b2bdfac973ad41bea209366f38797fc3",
       "version_major": 2,
       "version_minor": 0
      },
      "text/plain": [
       "Loading checkpoint shards:   0%|          | 0/2 [00:00<?, ?it/s]"
      ]
     },
     "metadata": {},
     "output_type": "display_data"
    }
   ],
   "source": [
    "# Load base model\n",
    "model = AutoModelForCausalLM.from_pretrained(\n",
    "    model_name,\n",
    "    quantization_config=bnb_config,\n",
    "#     torch_dtype=torch.bfloat16,\n",
    "    device_map=\"auto\"\n",
    ")\n",
    "model.config.use_cache = False\n",
    "model.config.pretraining_tp = 1"
   ]
  },
  {
   "cell_type": "code",
   "execution_count": 51,
   "id": "ef60f964",
   "metadata": {},
   "outputs": [],
   "source": [
    "# Load LLaMA tokenizer\n",
    "tokenizer = AutoTokenizer.from_pretrained(model_name, trust_remote_code=True,\n",
    "                                          # add_eos_token=True,\n",
    "                                          use_fast=False)\n",
    "tokenizer.pad_token = tokenizer.eos_token\n",
    "tokenizer.padding_side = \"right\""
   ]
  },
  {
   "cell_type": "code",
   "execution_count": 52,
   "id": "a6716c5d",
   "metadata": {},
   "outputs": [
    {
     "data": {
      "text/plain": [
       "186"
      ]
     },
     "execution_count": 52,
     "metadata": {},
     "output_type": "execute_result"
    }
   ],
   "source": [
    "max([len(tokenizer.encode(train_df['fine_tuning_dataset'][i])) for i in range(train_size)])"
   ]
  },
  {
   "cell_type": "code",
   "execution_count": null,
   "id": "5fc5bf25",
   "metadata": {
    "scrolled": true
   },
   "outputs": [],
   "source": []
  },
  {
   "cell_type": "code",
   "execution_count": 53,
   "id": "75ffc6f1",
   "metadata": {},
   "outputs": [],
   "source": [
    "# LoRA configuration\n",
    "peft_config = LoraConfig(\n",
    "    lora_alpha=lora_alpha,\n",
    "    lora_dropout=lora_dropout,\n",
    "    target_modules = [\"q_proj\", \"v_proj\"],\n",
    "    r=lora_r,\n",
    "    bias=\"none\",\n",
    "    task_type=\"CAUSAL_LM\",\n",
    ")"
   ]
  },
  {
   "cell_type": "code",
   "execution_count": null,
   "id": "85583ae7",
   "metadata": {},
   "outputs": [],
   "source": []
  },
  {
   "cell_type": "code",
   "execution_count": 54,
   "id": "7e30b281",
   "metadata": {},
   "outputs": [],
   "source": [
    "# Set training parameters\n",
    "training_arguments = TrainingArguments(\n",
    "    output_dir=output_dir,\n",
    "    num_train_epochs=num_train_epochs,\n",
    "    per_device_train_batch_size=per_device_train_batch_size,\n",
    "    gradient_accumulation_steps=gradient_accumulation_steps,\n",
    "    optim=optim,\n",
    "    save_steps=save_steps,\n",
    "    eval_steps=50, # requires when eval_dataset is defined\n",
    "    per_device_eval_batch_size=1, # Batch size for evaluation\n",
    "    evaluation_strategy=\"steps\", # requires when eval_dataset is defined\n",
    "    logging_strategy=\"steps\",\n",
    "    logging_steps=1,\n",
    "    learning_rate=learning_rate,\n",
    "    weight_decay=weight_decay,\n",
    "    fp16=fp16,\n",
    "    bf16=bf16,\n",
    "    max_grad_norm=max_grad_norm,\n",
    "    max_steps=1000,\n",
    "    warmup_ratio=warmup_ratio,\n",
    "    group_by_length=group_by_length,\n",
    "    lr_scheduler_type=lr_scheduler_type,\n",
    "    report_to=\"tensorboard\",\n",
    "    load_best_model_at_end=True,\n",
    "    save_total_limit=1,\n",
    "    metric_for_best_model=\"eval_loss\",\n",
    "    greater_is_better=False\n",
    ")"
   ]
  },
  {
   "cell_type": "code",
   "execution_count": 55,
   "id": "6ee91f4d",
   "metadata": {},
   "outputs": [
    {
     "name": "stdout",
     "output_type": "stream",
     "text": [
      "Memory footprint 4.551360512 GB\n",
      "Flops 21843.947814912 GFLOPs\n"
     ]
    }
   ],
   "source": [
    "## Getting FLOPs of model\n",
    "\n",
    "model_flops = (\n",
    "  model.floating_point_ops(\n",
    "    {\n",
    "       \"input_ids\": torch.zeros(\n",
    "           (1, 512)\n",
    "      )\n",
    "    }\n",
    "  )\n",
    "  * training_arguments.gradient_accumulation_steps\n",
    ")\n",
    "\n",
    "#print(model)\n",
    "print(\"Memory footprint\", model.get_memory_footprint() / 1e9, \"GB\")\n",
    "print(\"Flops\", model_flops / 1e9, \"GFLOPs\")"
   ]
  },
  {
   "cell_type": "code",
   "execution_count": 56,
   "id": "de52effd",
   "metadata": {},
   "outputs": [
    {
     "data": {
      "text/plain": [
       "Dataset({\n",
       "    features: ['index', 'fine_tuning_dataset'],\n",
       "    num_rows: 500\n",
       "})"
      ]
     },
     "execution_count": 56,
     "metadata": {},
     "output_type": "execute_result"
    }
   ],
   "source": [
    "train_dataset"
   ]
  },
  {
   "cell_type": "code",
   "execution_count": 57,
   "id": "e9aa438a",
   "metadata": {
    "scrolled": true
   },
   "outputs": [],
   "source": [
    "#print(torch.cuda.memory_summary(device=None, abbreviated=False))"
   ]
  },
  {
   "cell_type": "code",
   "execution_count": 58,
   "id": "f8bf5981",
   "metadata": {},
   "outputs": [
    {
     "name": "stderr",
     "output_type": "stream",
     "text": [
      "/opt/conda/lib/python3.8/site-packages/peft/utils/other.py:122: FutureWarning: prepare_model_for_int8_training is deprecated and will be removed in a future version. Use prepare_model_for_kbit_training instead.\n",
      "  warnings.warn(\n"
     ]
    },
    {
     "data": {
      "application/vnd.jupyter.widget-view+json": {
       "model_id": "f9d523a96ee84558a3b381f8061af0d9",
       "version_major": 2,
       "version_minor": 0
      },
      "text/plain": [
       "Map:   0%|          | 0/500 [00:00<?, ? examples/s]"
      ]
     },
     "metadata": {},
     "output_type": "display_data"
    },
    {
     "data": {
      "application/vnd.jupyter.widget-view+json": {
       "model_id": "b0d18e87da024982b1c7b852d0d3827d",
       "version_major": 2,
       "version_minor": 0
      },
      "text/plain": [
       "Map:   0%|          | 0/10 [00:00<?, ? examples/s]"
      ]
     },
     "metadata": {},
     "output_type": "display_data"
    }
   ],
   "source": [
    "# Set supervised fine-tuning parameters\n",
    "trainer = SFTTrainer(\n",
    "    model=model,\n",
    "    train_dataset=train_dataset,\n",
    "    eval_dataset=val_dataset,\n",
    "    peft_config=peft_config,\n",
    "    dataset_text_field=\"fine_tuning_dataset\",\n",
    "    max_seq_length=512,\n",
    "    tokenizer=tokenizer,\n",
    "    args=training_arguments,\n",
    "    packing=packing,\n",
    ")"
   ]
  },
  {
   "cell_type": "code",
   "execution_count": null,
   "id": "d942d91c",
   "metadata": {
    "scrolled": true
   },
   "outputs": [],
   "source": []
  },
  {
   "cell_type": "code",
   "execution_count": null,
   "id": "b5769042",
   "metadata": {
    "scrolled": true
   },
   "outputs": [
    {
     "data": {
      "text/html": [
       "\n",
       "    <div>\n",
       "      \n",
       "      <progress value='266' max='1000' style='width:300px; height:20px; vertical-align: middle;'></progress>\n",
       "      [ 266/1000 07:54 < 21:58, 0.56 it/s, Epoch 0.53/2]\n",
       "    </div>\n",
       "    <table border=\"1\" class=\"dataframe\">\n",
       "  <thead>\n",
       " <tr style=\"text-align: left;\">\n",
       "      <th>Step</th>\n",
       "      <th>Training Loss</th>\n",
       "      <th>Validation Loss</th>\n",
       "    </tr>\n",
       "  </thead>\n",
       "  <tbody>\n",
       "    <tr>\n",
       "      <td>50</td>\n",
       "      <td>0.301600</td>\n",
       "      <td>0.699506</td>\n",
       "    </tr>\n",
       "    <tr>\n",
       "      <td>100</td>\n",
       "      <td>0.340200</td>\n",
       "      <td>0.613445</td>\n",
       "    </tr>\n",
       "    <tr>\n",
       "      <td>150</td>\n",
       "      <td>0.267100</td>\n",
       "      <td>0.608323</td>\n",
       "    </tr>\n",
       "    <tr>\n",
       "      <td>200</td>\n",
       "      <td>0.089300</td>\n",
       "      <td>0.367023</td>\n",
       "    </tr>\n",
       "    <tr>\n",
       "      <td>250</td>\n",
       "      <td>0.093600</td>\n",
       "      <td>0.425524</td>\n",
       "    </tr>\n",
       "  </tbody>\n",
       "</table><p>"
      ],
      "text/plain": [
       "<IPython.core.display.HTML object>"
      ]
     },
     "metadata": {},
     "output_type": "display_data"
    }
   ],
   "source": [
    "# Train model\n",
    "trainer.train()"
   ]
  },
  {
   "cell_type": "code",
   "execution_count": null,
   "id": "06f0633f",
   "metadata": {},
   "outputs": [],
   "source": [
    "# Fine-tuned model name\n",
    "new_model_name = \"mistral-ft-peft-v1-lr-64-with-more-data\""
   ]
  },
  {
   "cell_type": "code",
   "execution_count": null,
   "id": "1b5c3526",
   "metadata": {},
   "outputs": [],
   "source": [
    "# Save trained model\n",
    "trainer.model.save_pretrained(new_model)"
   ]
  },
  {
   "cell_type": "code",
   "execution_count": 41,
   "id": "c5cbfc1f",
   "metadata": {
    "scrolled": true
   },
   "outputs": [
    {
     "data": {
      "text/plain": [
       "PeftModelForCausalLM(\n",
       "  (base_model): LoraModel(\n",
       "    (model): LlamaForCausalLM(\n",
       "      (model): LlamaModel(\n",
       "        (embed_tokens): Embedding(32000, 4096, padding_idx=0)\n",
       "        (layers): ModuleList(\n",
       "          (0-31): 32 x LlamaDecoderLayer(\n",
       "            (self_attn): LlamaAttention(\n",
       "              (q_proj): Linear4bit(\n",
       "                in_features=4096, out_features=4096, bias=False\n",
       "                (lora_dropout): ModuleDict(\n",
       "                  (default): Dropout(p=0.1, inplace=False)\n",
       "                )\n",
       "                (lora_A): ModuleDict(\n",
       "                  (default): Linear(in_features=4096, out_features=8, bias=False)\n",
       "                )\n",
       "                (lora_B): ModuleDict(\n",
       "                  (default): Linear(in_features=8, out_features=4096, bias=False)\n",
       "                )\n",
       "                (lora_embedding_A): ParameterDict()\n",
       "                (lora_embedding_B): ParameterDict()\n",
       "              )\n",
       "              (k_proj): Linear4bit(in_features=4096, out_features=4096, bias=False)\n",
       "              (v_proj): Linear4bit(\n",
       "                in_features=4096, out_features=4096, bias=False\n",
       "                (lora_dropout): ModuleDict(\n",
       "                  (default): Dropout(p=0.1, inplace=False)\n",
       "                )\n",
       "                (lora_A): ModuleDict(\n",
       "                  (default): Linear(in_features=4096, out_features=8, bias=False)\n",
       "                )\n",
       "                (lora_B): ModuleDict(\n",
       "                  (default): Linear(in_features=8, out_features=4096, bias=False)\n",
       "                )\n",
       "                (lora_embedding_A): ParameterDict()\n",
       "                (lora_embedding_B): ParameterDict()\n",
       "              )\n",
       "              (o_proj): Linear4bit(in_features=4096, out_features=4096, bias=False)\n",
       "              (rotary_emb): LlamaRotaryEmbedding()\n",
       "            )\n",
       "            (mlp): LlamaMLP(\n",
       "              (gate_proj): Linear4bit(in_features=4096, out_features=11008, bias=False)\n",
       "              (up_proj): Linear4bit(in_features=4096, out_features=11008, bias=False)\n",
       "              (down_proj): Linear4bit(in_features=11008, out_features=4096, bias=False)\n",
       "              (act_fn): SiLUActivation()\n",
       "            )\n",
       "            (input_layernorm): LlamaRMSNorm()\n",
       "            (post_attention_layernorm): LlamaRMSNorm()\n",
       "          )\n",
       "        )\n",
       "        (norm): LlamaRMSNorm()\n",
       "      )\n",
       "      (lm_head): Linear(in_features=4096, out_features=32000, bias=False)\n",
       "    )\n",
       "  )\n",
       ")"
      ]
     },
     "execution_count": 41,
     "metadata": {},
     "output_type": "execute_result"
    }
   ],
   "source": [
    "trainer.model"
   ]
  },
  {
   "cell_type": "code",
   "execution_count": 43,
   "id": "84916548",
   "metadata": {},
   "outputs": [],
   "source": [
    "from peft import PeftModel, PeftConfig"
   ]
  },
  {
   "cell_type": "code",
   "execution_count": 78,
   "id": "e3ad3884",
   "metadata": {},
   "outputs": [],
   "source": [
    "new_model_name = \"/data/mistral/query-to-mql/checkpoint-1000\""
   ]
  },
  {
   "cell_type": "code",
   "execution_count": 79,
   "id": "e10ab609",
   "metadata": {},
   "outputs": [
    {
     "data": {
      "application/vnd.jupyter.widget-view+json": {
       "model_id": "76d0800c5d4f4924a4b2634512075a7e",
       "version_major": 2,
       "version_minor": 0
      },
      "text/plain": [
       "Loading checkpoint shards:   0%|          | 0/2 [00:00<?, ?it/s]"
      ]
     },
     "metadata": {},
     "output_type": "display_data"
    }
   ],
   "source": [
    "del model\n",
    "torch.cuda.empty_cache()\n",
    "\n",
    "from peft import AutoPeftModelForCausalLM\n",
    "\n",
    "model = AutoPeftModelForCausalLM.from_pretrained(new_model_name, device_map=\"auto\", torch_dtype=torch.bfloat16)\n",
    "model = model.merge_and_unload()"
   ]
  },
  {
   "cell_type": "code",
   "execution_count": 82,
   "id": "1a87991b",
   "metadata": {
    "scrolled": true
   },
   "outputs": [
    {
     "data": {
      "text/plain": [
       "MistralForCausalLM(\n",
       "  (model): MistralModel(\n",
       "    (embed_tokens): Embedding(32000, 4096)\n",
       "    (layers): ModuleList(\n",
       "      (0-31): 32 x MistralDecoderLayer(\n",
       "        (self_attn): MistralAttention(\n",
       "          (q_proj): Linear(in_features=4096, out_features=4096, bias=False)\n",
       "          (k_proj): Linear(in_features=4096, out_features=1024, bias=False)\n",
       "          (v_proj): Linear(in_features=4096, out_features=1024, bias=False)\n",
       "          (o_proj): Linear(in_features=4096, out_features=4096, bias=False)\n",
       "          (rotary_emb): MistralRotaryEmbedding()\n",
       "        )\n",
       "        (mlp): MistralMLP(\n",
       "          (gate_proj): Linear(in_features=4096, out_features=14336, bias=False)\n",
       "          (up_proj): Linear(in_features=4096, out_features=14336, bias=False)\n",
       "          (down_proj): Linear(in_features=14336, out_features=4096, bias=False)\n",
       "          (act_fn): SiLUActivation()\n",
       "        )\n",
       "        (input_layernorm): MistralRMSNorm()\n",
       "        (post_attention_layernorm): MistralRMSNorm()\n",
       "      )\n",
       "    )\n",
       "    (norm): MistralRMSNorm()\n",
       "  )\n",
       "  (lm_head): Linear(in_features=4096, out_features=32000, bias=False)\n",
       ")"
      ]
     },
     "execution_count": 82,
     "metadata": {},
     "output_type": "execute_result"
    }
   ],
   "source": [
    "model"
   ]
  },
  {
   "cell_type": "code",
   "execution_count": 83,
   "id": "b4ad5254",
   "metadata": {
    "scrolled": true
   },
   "outputs": [],
   "source": [
    "# output_merged_dir = os.path.join(new_model_name, \"final_merged_checkpoint\")\n",
    "# model.save_pretrained(output_merged_dir, safe_serialization=True)"
   ]
  },
  {
   "cell_type": "code",
   "execution_count": null,
   "id": "c83d80e5",
   "metadata": {},
   "outputs": [],
   "source": []
  },
  {
   "cell_type": "code",
   "execution_count": null,
   "id": "2d4d7fa6",
   "metadata": {},
   "outputs": [],
   "source": []
  },
  {
   "cell_type": "code",
   "execution_count": 92,
   "id": "7be81f79",
   "metadata": {},
   "outputs": [],
   "source": [
    "query_template_v1 = \"\"\"<s>[INST]<<SYS>>\n",
    "You are an assistant that helps to map the user question to the a particular JSON format which contains info asked by user and also maps it the below CONTEXT. You might also need to act as a time tagger expert to convert the date elements present in the question to a standard format and to find possible date ranges for the same.\n",
    "\n",
    "CONTEXT:{context}\n",
    "\n",
    "Step 1: Identify the n-grams match between question and context\n",
    "\n",
    "        Map the n-gram or their lemma or their inflections from the question with the values in the passed context.\n",
    "        Always consider the longest n-gram match, not the sub-string.\n",
    "        If there are multiple matches for an n-gram with context, return all such ENTITY in response.\n",
    "        If you are returning any match which is not exactly present with the context, make sure that it is a noun phrase and there is a high similarity between the match and the matched value in context. \n",
    "\n",
    "\n",
    "Step 2: Applying time tagger rules only if time elements are present in question\n",
    "\n",
    "        Identify the TIME ELEMENTS in the input question and convert it to a standard format (if not already) by applying the general time tagging rules. If the TIME ELEMENT is already in a standard format, then no need to convert it.\n",
    "        TIME ELEMENT can be either a temporal interval (across months, yoy, mom, qoq, wow, quarterly etc.) or a temporal expression (time points such as specific dates, relative expressions etc.).\n",
    "        Calculate date range for each time points based on the following conditions:\n",
    "        1. For relative time expressions, calculate the date range based on a reference date - By default the reference date is the end_date in date input: {date_input}\n",
    "        2. To calculate the date range for \"last X years\", strictly follow below conditions:\n",
    "                For \"last 1 year\", consider exactly one year before the reference year and set start date as January 1 and end date as Decemebr 31 of that year.\n",
    "                For \"last X years\", where X is greater than 1, consider starting year = (reference year - X+1) and set start date as January 1 of starting year and end date as the reference date.\n",
    "        3. To calculate the date range for \"last X months\", strictly follow below conditions:\n",
    "                Consider reference month as the month in reference date.\n",
    "                For \"last 1 month\", consider exactly one month before the reference month and set start date as first day and end date as last day of that month.\n",
    "                For \"last X months\", where X is greater than 1, consider starting month = (reference month - X+1) and set start date as first day of starting month and end date as the reference date. (Example: if reference date is 14/09/2022, then last 3 months = 01/07/2022 - 14/09/2022)\n",
    "        4. To calculate the date range for \"last X quarters\", strictly follow below conditions:\n",
    "                For \"last 1 quarter\", consider exactly one quarter before the reference quarter and set start date as first day and end date as last day of that quarter .\n",
    "                For \"last X quarter\", where X is greater than 1, consider starting quarter = (reference quarter - X+1) and set start date as first day of starting quarter and end date as the reference date.\n",
    "        5. To calculate the date range for \"last X weeks\", strictly follow the below conditions:\n",
    "                Consider reference week as the week in reference week.\n",
    "                For \"last 1 week\", set start date as Monday and end date as Sunday of the previous week of reference week. (Example: if reference date is 14/09/2022, then last week = 05/09/2022 - 11/09/2022)\n",
    "                For \"last X weeks\", set start date as Monday of reference week and set start date as the Monday of that week and end date as reference date. \n",
    "        6. Provide the date range of each time point in \"start date - end date\" format always.\n",
    "\n",
    "<</SYS>>\n",
    "User question is : {user_query}\n",
    "\n",
    "Converted JSON is as shown below: \n",
    "[/INST]\n",
    "[MQL]\n",
    "\"\"\""
   ]
  },
  {
   "cell_type": "code",
   "execution_count": 24,
   "id": "acbc1fd5",
   "metadata": {
    "scrolled": true
   },
   "outputs": [],
   "source": [
    "#model_to_merge.to('cuda')"
   ]
  },
  {
   "cell_type": "code",
   "execution_count": 87,
   "id": "e4530b9a",
   "metadata": {},
   "outputs": [
    {
     "data": {
      "text/plain": [
       "('trend of profit',\n",
       " \"[{'measure': 'PROFIT', 'measure_label': 'Profit in Dollars'}, None, None, {'date': 'AFS_SHIFT_DATE_START', 'date_label': 'Shift Date Start'}]\")"
      ]
     },
     "execution_count": 87,
     "metadata": {},
     "output_type": "execute_result"
    }
   ],
   "source": [
    "df['query'][0], df['metadata'][0]"
   ]
  },
  {
   "cell_type": "code",
   "execution_count": 97,
   "id": "8a9a2513",
   "metadata": {},
   "outputs": [],
   "source": [
    "def predict_template_query_v1(user_query, context, date_input):\n",
    "    inp = query_template_v1.format(context=context,\n",
    "                                   date_input = date_input,\n",
    "                                   user_query=user_query)\n",
    "    _inputs = tokenizer.encode(inp, return_tensors=\"pt\")\n",
    "    outputs = model.generate(input_ids=_inputs.to('cuda'), max_length= 2200, pad_token_id=tokenizer.eos_token_id)\n",
    "    output = tokenizer.decode(outputs[0])\n",
    "    #output_new = output.split('[MQL]\\n')[1]\n",
    "    #return output_new.split('\\n[/MQL]')[0]\n",
    "    return output"
   ]
  },
  {
   "cell_type": "code",
   "execution_count": null,
   "id": "f46bdccb",
   "metadata": {},
   "outputs": [],
   "source": []
  },
  {
   "cell_type": "code",
   "execution_count": 98,
   "id": "fa006df1",
   "metadata": {},
   "outputs": [
    {
     "name": "stdout",
     "output_type": "stream",
     "text": [
      "CPU times: user 16min 40s, sys: 57.1 s, total: 17min 37s\n",
      "Wall time: 17min 37s\n"
     ]
    },
    {
     "data": {
      "text/plain": [
       "'<s><s> [INST]<<SYS>>\\nYou are an assistant that helps to map the user question to the a particular JSON format which contains info asked by user and also maps it the below CONTEXT. You might also need to act as a time tagger expert to convert the date elements present in the question to a standard format and to find possible date ranges for the same.\\n\\nCONTEXT:[{\\'measure\\': \\'PROFIT\\', \\'measure_label\\': \\'Profit in Dollars\\'},\\n{\\'date\\': \\'AFS_SHIFT_DATE_START\\', \\'date_label\\': \\'Shift Date Start\\'}]\\n\\nStep 1: Identify the n-grams match between question and context\\n\\n        Map the n-gram or their lemma or their inflections from the question with the values in the passed context.\\n        Always consider the longest n-gram match, not the sub-string.\\n        If there are multiple matches for an n-gram with context, return all such ENTITY in response.\\n        If you are returning any match which is not exactly present with the context, make sure that it is a noun phrase and there is a high similarity between the match and the matched value in context. \\n\\n\\nStep 2: Applying time tagger rules only if time elements are present in question\\n\\n        Identify the TIME ELEMENTS in the input question and convert it to a standard format (if not already) by applying the general time tagging rules. If the TIME ELEMENT is already in a standard format, then no need to convert it.\\n        TIME ELEMENT can be either a temporal interval (across months, yoy, mom, qoq, wow, quarterly etc.) or a temporal expression (time points such as specific dates, relative expressions etc.).\\n        Calculate date range for each time points based on the following conditions:\\n        1. For relative time expressions, calculate the date range based on a reference date - By default the reference date is the end_date in date input: {\\'start_date\\': \\'01/01/2020\\', \\'end_date\\': \\'15/09/2023\\'}\\n        2. To calculate the date range for \"last X years\", strictly follow below conditions:\\n                For \"last 1 year\", consider exactly one year before the reference year and set start date as January 1 and end date as Decemebr 31 of that year.\\n                For \"last X years\", where X is greater than 1, consider starting year = (reference year - X+1) and set start date as January 1 of starting year and end date as the reference date.\\n        3. To calculate the date range for \"last X months\", strictly follow below conditions:\\n                Consider reference month as the month in reference date.\\n                For \"last 1 month\", consider exactly one month before the reference month and set start date as first day and end date as last day of that month.\\n                For \"last X months\", where X is greater than 1, consider starting month = (reference month - X+1) and set start date as first day of starting month and end date as the reference date. (Example: if reference date is 14/09/2022, then last 3 months = 01/07/2022 - 14/09/2022)\\n        4. To calculate the date range for \"last X quarters\", strictly follow below conditions:\\n                For \"last 1 quarter\", consider exactly one quarter before the reference quarter and set start date as first day and end date as last day of that quarter .\\n                For \"last X quarter\", where X is greater than 1, consider starting quarter = (reference quarter - X+1) and set start date as first day of starting quarter and end date as the reference date.\\n        5. To calculate the date range for \"last X weeks\", strictly follow the below conditions:\\n                Consider reference week as the week in reference week.\\n                For \"last 1 week\", set start date as Monday and end date as Sunday of the previous week of reference week. (Example: if reference date is 14/09/2022, then last week = 05/09/2022 - 11/09/2022)\\n                For \"last X weeks\", set start date as Monday of reference week and set start date as the Monday of that week and end date as reference date. \\n        6. Provide the date range of each time point in \"start date - end date\" format always.\\n\\n<</SYS>>\\nUser question is : trend of profit\\n\\nConverted JSON is as shown below: \\n[/INST]\\n[MQL]\\ngining a a a a a u a a a a a a a a a a a a a a a a a a a a a a a a a a a a a a a ainginggagagainginggagoninginginginginginginginginginginginginginginginginginginginginginginginginging a a a a a a a a aerroringerrorgaga a ainggagingin a a a a a a a a a a a agencygencygonerrorgongagongoninginginging ainginginggencygencygongencygongencygingingingingingingingingingingingingingingingingingingingingingingingingingingingingingingingingingingingingingingingingingingingingingingongongonerrorgongonerrorginginginginginginginginhamhamhamhamhamhamhamhamhamhamhamhamhamhamhamhamhamhamhamhamhamirehamireginham�����������������������gaga�gaerrorlee�leehamleehamleehamleehamleehamleehamlee�gonhamgonhamgonhamgon�gon�lee�gonhamq�gonhamqhamgonhamgon�gonhamqhamgonhamqhamgonhamqhamgonhamirehamqham aeryeryoxyeryeryeryeryoxymaz Tru Tru expos expos Trumaz spec spec specery Trueryerymaz spec spec spec spec spec spec specazueryeryeryeryeryery spec spec spec spec specmazmazmaz spec spec spec spec specery specazuery spec spec spec spec spec spec spec spec spec speceryery specery<unk><unk><unk><unk><unk><unk><unk><unk><unk><unk><unk><unk><unk><unk><unk><unk><unk><unk><unk><unk><unk><unk><unk><unk><unk><unk><unk><unk><unk><unk><unk><unk><unk><unk><unk><unk><unk><unk><unk><unk><unk><unk><unk><unk><unk><unk><unk><unk><unk><unk><unk><unk><unk><unk><unk><unk><unk><unk><unk><unk><unk><unk><unk><unk><unk><unk><unk><unk><unk><unk><unk><unk><unk><unk><unk><unk><unk><unk><unk><unk><unk><unk><unk><unk><unk><unk><unk><unk><unk><unk><unk><unk><unk><unk><unk><unk><unk><unk><unk><unk><unk><unk><unk><unk><unk><unk><unk><unk><unk><unk><unk><unk><unk><unk><unk><unk><unk><unk><unk><unk><unk><unk><unk><unk><unk><unk><unk><unk><unk><unk><unk><unk><unk><unk><unk><unk><unk><unk><unk><unk><unk><unk><unk><unk><unk><unk><unk><unk><unk><unk><unk><unk><unk><unk><unk><unk><unk><unk><unk><unk><unk><unk><unk><unk><unk><unk><unk><unk><unk><unk><unk><unk><unk><unk><unk><unk><unk><unk><unk><unk><unk><unk><unk><unk><unk><unk><unk><unk><unk><unk><unk><unk><unk><unk><unk><unk><unk><unk><unk><unk><unk><unk><unk><unk><unk><unk><unk><unk><unk><unk><unk><unk><unk><unk><unk><unk><unk><unk><unk><unk><unk><unk><unk><unk><unk><unk><unk><unk><unk><unk><unk><unk><unk><unk><unk><unk><unk><unk><unk><unk><unk><unk><unk><unk><unk><unk><unk><unk><unk><unk><unk><unk><unk><unk><unk><unk><unk><unk><unk><unk><unk><unk><unk><unk><unk><unk><unk><unk><unk><unk><unk><unk><unk><unk><unk><unk><unk><unk><unk><unk><unk><unk><unk><unk><unk><unk><unk><unk><unk><unk><unk><unk><unk><unk><unk><unk><unk><unk><unk><unk><unk><unk><unk><unk><unk><unk><unk><unk><unk><unk><unk><unk><unk><unk><unk><unk><unk><unk><unk><unk><unk><unk><unk><unk><unk><unk><unk><unk><unk><unk><unk><unk><unk><unk><unk><unk><unk><unk><unk><unk><unk><unk><unk><unk><unk><unk><unk><unk><unk><unk><unk><unk><unk><unk><unk><unk><unk><unk><unk><unk><unk><unk><unk><unk><unk><unk><unk><unk><unk><unk><unk><unk><unk><unk><unk><unk><unk><unk><unk><unk><unk><unk><unk><unk><unk><unk><unk><unk><unk><unk><unk><unk><unk><unk><unk><unk><unk><unk><unk><unk><unk><unk><unk><unk><unk><unk><unk><unk><unk><unk><unk><unk><unk><unk><unk><unk><unk><unk><unk><unk><unk><unk><unk><unk><unk><unk><unk><unk><unk><unk><unk><unk><unk><unk><unk><unk><unk><unk><unk><unk><unk><unk><unk><unk><unk><unk><unk><unk><unk><unk><unk><unk><unk><unk><unk><unk><unk><unk><unk><unk><unk><unk><unk><unk><unk><unk><unk><unk><unk><unk><unk><unk><unk><unk><unk><unk><unk><unk><unk><unk><unk><unk><unk><unk><unk><unk><unk><unk><unk><unk><unk><unk><unk><unk><unk><unk><unk><unk><unk><unk><unk><unk><unk><unk><unk><unk><unk><unk><unk><unk><unk><unk><unk><unk><unk><unk><unk><unk><unk><unk><unk><unk><unk><unk><unk><unk><unk><unk><unk><unk><unk><unk><unk><unk><unk><unk><unk><unk><unk><unk><unk><unk><unk><unk><unk><unk><unk><unk><unk><unk><unk><unk><unk><unk><unk><unk><unk><unk><unk><unk><unk><unk><unk><unk><unk><unk><unk><unk><unk><unk><unk><unk><unk><unk><unk><unk><unk><unk><unk><unk><unk><unk><unk><unk><unk><unk><unk><unk><unk><unk><unk><unk><unk><unk><unk><unk><unk><unk><unk><unk><unk><unk><unk><unk><unk><unk><unk><unk><unk><unk><unk><unk><unk><unk><unk><unk><unk><unk><unk><unk><unk><unk><unk><unk><unk><unk><unk><unk><unk><unk><unk><unk><unk><unk><unk><unk><unk><unk><unk><unk><unk><unk><unk><unk><unk><unk><unk><unk><unk><unk><unk><unk><unk><unk><unk><unk><unk><unk><unk><unk><unk><unk><unk><unk><unk><unk><unk><unk><unk><unk><unk><unk><unk><unk><unk><unk><unk><unk><unk><unk><unk><unk><unk><unk><unk><unk><unk><unk><unk><unk><unk><unk><unk><unk><unk><unk><unk><unk><unk><unk><unk><unk><unk><unk><unk><unk><unk><unk><unk><unk><unk><unk><unk><unk><unk><unk><unk><unk><unk><unk><unk><unk><unk><unk><unk><unk><unk><unk><unk><unk><unk><unk><unk><unk><unk><unk><unk><unk><unk><unk><unk><unk><unk><unk><unk><unk><unk><unk><unk><unk><unk><unk><unk><unk><unk><unk><unk><unk><unk><unk><unk><unk><unk><unk><unk><unk><unk><unk><unk><unk><unk><unk><unk><unk><unk><unk><unk><unk><unk><unk><unk><unk><unk><unk><unk><unk><unk>'"
      ]
     },
     "execution_count": 98,
     "metadata": {},
     "output_type": "execute_result"
    }
   ],
   "source": [
    "%%time\n",
    "user_query = 'trend of profit'\n",
    "context = \"\"\"[{'measure': 'PROFIT', 'measure_label': 'Profit in Dollars'},\n",
    "{'date': 'AFS_SHIFT_DATE_START', 'date_label': 'Shift Date Start'}]\"\"\"\n",
    "date_input = {\"start_date\": \"01/01/2020\", \"end_date\": \"15/09/2023\"}\n",
    "predict_template_query_v1(user_query=user_query,context=context,date_input=date_input)"
   ]
  },
  {
   "cell_type": "code",
   "execution_count": 17,
   "id": "55257a2e",
   "metadata": {},
   "outputs": [
    {
     "name": "stdout",
     "output_type": "stream",
     "text": [
      "CPU times: user 5.09 s, sys: 93.8 ms, total: 5.18 s\n",
      "Wall time: 5.18 s\n"
     ]
    },
    {
     "data": {
      "text/plain": [
       "'List of brands with lowest profit in 2021'"
      ]
     },
     "execution_count": 17,
     "metadata": {},
     "output_type": "execute_result"
    }
   ],
   "source": [
    "%%time\n",
    "predict_template_query_v3('brands least profitable in 2021')"
   ]
  },
  {
   "cell_type": "code",
   "execution_count": 18,
   "id": "be990ba5",
   "metadata": {},
   "outputs": [
    {
     "name": "stdout",
     "output_type": "stream",
     "text": [
      "CPU times: user 5 s, sys: 143 ms, total: 5.14 s\n",
      "Wall time: 5.15 s\n"
     ]
    },
    {
     "data": {
      "text/plain": [
       "'What is the trend of work hours in 2023'"
      ]
     },
     "execution_count": 18,
     "metadata": {},
     "output_type": "execute_result"
    }
   ],
   "source": [
    "%%time\n",
    "predict_template_query_v3('trend of work hours in 2023')"
   ]
  },
  {
   "cell_type": "code",
   "execution_count": 44,
   "id": "da27f85c",
   "metadata": {},
   "outputs": [],
   "source": [
    "model_to_merge = PeftModel.from_pretrained(\n",
    "    model,\n",
    "    '/data/sept-23/checkpoint-810')"
   ]
  },
  {
   "cell_type": "code",
   "execution_count": 49,
   "id": "99617b75",
   "metadata": {},
   "outputs": [],
   "source": [
    "model_to_merge = PeftModel.from_pretrained(\n",
    "    model,\n",
    "    'llama-2-7b-fine-tuned-peft-v2')"
   ]
  },
  {
   "cell_type": "code",
   "execution_count": 19,
   "id": "caa891cb",
   "metadata": {},
   "outputs": [
    {
     "name": "stdout",
     "output_type": "stream",
     "text": [
      "CPU times: user 4.86 s, sys: 205 ms, total: 5.06 s\n",
      "Wall time: 5.06 s\n"
     ]
    },
    {
     "data": {
      "text/plain": [
       "'Which are the top 3 sub category based on sales in 2022'"
      ]
     },
     "execution_count": 19,
     "metadata": {},
     "output_type": "execute_result"
    }
   ],
   "source": [
    "%%time\n",
    "predict_template_query_v3('which are the 3 top selling category by sales in 2022')"
   ]
  },
  {
   "cell_type": "code",
   "execution_count": 20,
   "id": "c7bfd305",
   "metadata": {},
   "outputs": [
    {
     "name": "stdout",
     "output_type": "stream",
     "text": [
      "CPU times: user 4.83 s, sys: 221 ms, total: 5.05 s\n",
      "Wall time: 5.05 s\n"
     ]
    },
    {
     "data": {
      "text/plain": [
       "'Which are the top 3 sub category based on profit in 2022'"
      ]
     },
     "execution_count": 20,
     "metadata": {},
     "output_type": "execute_result"
    }
   ],
   "source": [
    "%%time\n",
    "predict_template_query_v3('which are the 3 top selling category by profit in 2022')"
   ]
  },
  {
   "cell_type": "code",
   "execution_count": 21,
   "id": "afff895e",
   "metadata": {},
   "outputs": [
    {
     "name": "stdout",
     "output_type": "stream",
     "text": [
      "CPU times: user 4.98 s, sys: 214 ms, total: 5.19 s\n",
      "Wall time: 5.19 s\n"
     ]
    },
    {
     "data": {
      "text/plain": [
       "'What is the sales of paper in februaury 2019'"
      ]
     },
     "execution_count": 21,
     "metadata": {},
     "output_type": "execute_result"
    }
   ],
   "source": [
    "%%time\n",
    "predict_template_query_v3(\"In 02/19 What was the sales of paper?\")"
   ]
  },
  {
   "cell_type": "code",
   "execution_count": 35,
   "id": "edbab272",
   "metadata": {},
   "outputs": [
    {
     "name": "stdout",
     "output_type": "stream",
     "text": [
      "CPU times: user 5.07 s, sys: 134 ms, total: 5.2 s\n",
      "Wall time: 5.2 s\n"
     ]
    },
    {
     "data": {
      "text/plain": [
       "'What is the sales of notebook in 2020'"
      ]
     },
     "execution_count": 35,
     "metadata": {},
     "output_type": "execute_result"
    }
   ],
   "source": [
    "%%time\n",
    "predict_template_query_v3(\"notebook sales in '20'?\")"
   ]
  },
  {
   "cell_type": "code",
   "execution_count": 36,
   "id": "43d8ed79",
   "metadata": {},
   "outputs": [
    {
     "name": "stdout",
     "output_type": "stream",
     "text": [
      "CPU times: user 5.3 s, sys: 138 ms, total: 5.44 s\n",
      "Wall time: 5.43 s\n"
     ]
    },
    {
     "data": {
      "text/plain": [
       "'What is the monthly trend of sales'"
      ]
     },
     "execution_count": 36,
     "metadata": {},
     "output_type": "execute_result"
    }
   ],
   "source": [
    "%%time\n",
    "predict_template_query_v3(\"monthly trend of sales\")"
   ]
  },
  {
   "cell_type": "code",
   "execution_count": 28,
   "id": "24d48ca8",
   "metadata": {},
   "outputs": [
    {
     "name": "stdout",
     "output_type": "stream",
     "text": [
      "CPU times: user 5.01 s, sys: 155 ms, total: 5.16 s\n",
      "Wall time: 5.16 s\n"
     ]
    },
    {
     "data": {
      "text/plain": [
       "'top sub category basis sales contribution in 2021'"
      ]
     },
     "execution_count": 28,
     "metadata": {},
     "output_type": "execute_result"
    }
   ],
   "source": [
    "%%time\n",
    "predict_template_query_v3(\"worst sub category in 2021\")"
   ]
  },
  {
   "cell_type": "code",
   "execution_count": 38,
   "id": "5fd067ee",
   "metadata": {},
   "outputs": [
    {
     "name": "stdout",
     "output_type": "stream",
     "text": [
      "CPU times: user 5 s, sys: 195 ms, total: 5.2 s\n",
      "Wall time: 5.2 s\n"
     ]
    },
    {
     "data": {
      "text/plain": [
       "'What is the sales of laptop in quarter4 2011'"
      ]
     },
     "execution_count": 38,
     "metadata": {},
     "output_type": "execute_result"
    }
   ],
   "source": [
    "%%time\n",
    "predict_template_query_v3(\"What was laptop sales in 4th quarter '11?\")"
   ]
  },
  {
   "cell_type": "code",
   "execution_count": 32,
   "id": "8c588a5b",
   "metadata": {},
   "outputs": [
    {
     "name": "stdout",
     "output_type": "stream",
     "text": [
      "CPU times: user 4.98 s, sys: 148 ms, total: 5.13 s\n",
      "Wall time: 5.13 s\n"
     ]
    },
    {
     "data": {
      "text/plain": [
       "'Which are the top 5 brands based on profit contribution in 2021'"
      ]
     },
     "execution_count": 32,
     "metadata": {},
     "output_type": "execute_result"
    }
   ],
   "source": [
    "%%time\n",
    "predict_template_query_v3(\"worst brands basis profit in 2021\")"
   ]
  },
  {
   "cell_type": "code",
   "execution_count": null,
   "id": "1e7932a5",
   "metadata": {},
   "outputs": [],
   "source": []
  },
  {
   "cell_type": "code",
   "execution_count": null,
   "id": "14c74351",
   "metadata": {},
   "outputs": [],
   "source": []
  },
  {
   "cell_type": "code",
   "execution_count": null,
   "id": "24c1d81c",
   "metadata": {},
   "outputs": [],
   "source": []
  },
  {
   "cell_type": "code",
   "execution_count": null,
   "id": "4fbd68c1",
   "metadata": {},
   "outputs": [],
   "source": []
  },
  {
   "cell_type": "code",
   "execution_count": null,
   "id": "d4d65470",
   "metadata": {},
   "outputs": [],
   "source": []
  },
  {
   "cell_type": "code",
   "execution_count": 17,
   "id": "2d569ccf",
   "metadata": {},
   "outputs": [],
   "source": [
    "prompt = query_template_v2.format(user_query='brands least profitable in 2021')"
   ]
  },
  {
   "cell_type": "code",
   "execution_count": 18,
   "id": "4b8cc7d7",
   "metadata": {},
   "outputs": [],
   "source": [
    "tokens = tokenizer.encode(prompt, return_tensors=\"pt\")"
   ]
  },
  {
   "cell_type": "code",
   "execution_count": 22,
   "id": "b2b1c1d4",
   "metadata": {},
   "outputs": [
    {
     "name": "stdout",
     "output_type": "stream",
     "text": [
      "CPU times: user 6.61 s, sys: 135 ms, total: 6.75 s\n",
      "Wall time: 6.75 s\n"
     ]
    }
   ],
   "source": [
    "%%time\n",
    "outputs = model.generate(input_ids=tokens.to('cuda'), max_length= 180, )"
   ]
  },
  {
   "cell_type": "code",
   "execution_count": 23,
   "id": "c00ba884",
   "metadata": {},
   "outputs": [
    {
     "data": {
      "text/plain": [
       "'<s>[INST]<<SYS>>\\nYou are an advanced template converter that converts user question to a specific template which answers the user question.\\n\\n<</SYS>>\\n\\nbrands least profitable in 2021\\n[/INST]\\n[LUMINTEMPLATE]\\nList of brands with lowest profit in 2021\\n[/LUMINTEMPLATE]\\n\\nWhich are the top 5 brands based on profit share in 2021\\n[/LUMINTEMPLATE]\\n\\nWhich are the top 5 brands based on market share in 2021\\n[/LUMINTEMPLATE]\\n\\nWhich are the top 5 brands based on sales share in 2021\\n[/LUMINTEMPLATE]\\n\\nWhich are the top 5'"
      ]
     },
     "execution_count": 23,
     "metadata": {},
     "output_type": "execute_result"
    }
   ],
   "source": [
    "tokenizer.decode(outputs[0])"
   ]
  },
  {
   "cell_type": "code",
   "execution_count": 48,
   "id": "c874042c",
   "metadata": {},
   "outputs": [],
   "source": []
  },
  {
   "cell_type": "code",
   "execution_count": null,
   "id": "ea90dc53",
   "metadata": {},
   "outputs": [],
   "source": []
  },
  {
   "cell_type": "code",
   "execution_count": null,
   "id": "a2945308",
   "metadata": {},
   "outputs": [],
   "source": []
  },
  {
   "cell_type": "code",
   "execution_count": null,
   "id": "6edbc306",
   "metadata": {},
   "outputs": [],
   "source": []
  },
  {
   "cell_type": "code",
   "execution_count": null,
   "id": "21f88861",
   "metadata": {},
   "outputs": [],
   "source": []
  },
  {
   "cell_type": "code",
   "execution_count": null,
   "id": "ec88bd26",
   "metadata": {},
   "outputs": [],
   "source": []
  },
  {
   "cell_type": "code",
   "execution_count": null,
   "id": "08da2299",
   "metadata": {},
   "outputs": [],
   "source": []
  },
  {
   "cell_type": "code",
   "execution_count": 132,
   "id": "bcd79a8f",
   "metadata": {},
   "outputs": [
    {
     "name": "stdout",
     "output_type": "stream",
     "text": [
      "CPU times: user 1min 4s, sys: 30.3 s, total: 1min 34s\n",
      "Wall time: 1min 34s\n"
     ]
    },
    {
     "data": {
      "text/plain": [
       "'What is the growth contribution to overall sales for phone'"
      ]
     },
     "execution_count": 132,
     "metadata": {},
     "output_type": "execute_result"
    }
   ],
   "source": [
    "%%time\n",
    "predict_template_query_v3(\"Growth rate of sales share of phone\")"
   ]
  },
  {
   "cell_type": "code",
   "execution_count": 133,
   "id": "1027b412",
   "metadata": {},
   "outputs": [
    {
     "name": "stdout",
     "output_type": "stream",
     "text": [
      "CPU times: user 1min 2s, sys: 28.8 s, total: 1min 31s\n",
      "Wall time: 1min 31s\n"
     ]
    },
    {
     "data": {
      "text/plain": [
       "'What is the growth contribution to overall sales for phone in 2021'"
      ]
     },
     "execution_count": 133,
     "metadata": {},
     "output_type": "execute_result"
    }
   ],
   "source": [
    "%%time\n",
    "predict_template_query_v3(\"What is the growth contribution to overall sales for phone in 2021\")"
   ]
  },
  {
   "cell_type": "code",
   "execution_count": 134,
   "id": "6535f165",
   "metadata": {},
   "outputs": [
    {
     "name": "stdout",
     "output_type": "stream",
     "text": [
      "CPU times: user 59.8 s, sys: 27.6 s, total: 1min 27s\n",
      "Wall time: 1min 27s\n"
     ]
    },
    {
     "data": {
      "text/plain": [
       "'Which are the top 3 sub category based on contribution to overall sales except paper'"
      ]
     },
     "execution_count": 134,
     "metadata": {},
     "output_type": "execute_result"
    }
   ],
   "source": [
    "%%time\n",
    "predict_template_query_v3(\"Which are the top 3 sub category based on share/contribution of sales across segment except paper\")"
   ]
  },
  {
   "cell_type": "code",
   "execution_count": 135,
   "id": "be5896a0",
   "metadata": {},
   "outputs": [
    {
     "name": "stdout",
     "output_type": "stream",
     "text": [
      "CPU times: user 59.3 s, sys: 26.9 s, total: 1min 26s\n",
      "Wall time: 1min 26s\n"
     ]
    },
    {
     "data": {
      "text/plain": [
       "'Which are the top sub category basis sales in 2023'"
      ]
     },
     "execution_count": 135,
     "metadata": {},
     "output_type": "execute_result"
    }
   ],
   "source": [
    "%%time\n",
    "predict_template_query_v3(\"which are the 5 top selling sub category by sales in 2023\")"
   ]
  },
  {
   "cell_type": "code",
   "execution_count": 136,
   "id": "f1607893",
   "metadata": {},
   "outputs": [
    {
     "name": "stdout",
     "output_type": "stream",
     "text": [
      "CPU times: user 1min 4s, sys: 29.4 s, total: 1min 33s\n",
      "Wall time: 1min 33s\n"
     ]
    },
    {
     "data": {
      "text/plain": [
       "'What is the trend of sales for phone in 2020'"
      ]
     },
     "execution_count": 136,
     "metadata": {},
     "output_type": "execute_result"
    }
   ],
   "source": [
    "%%time\n",
    "predict_template_query_v3(\"how does the sales change for phone in the last year\")"
   ]
  },
  {
   "cell_type": "code",
   "execution_count": 137,
   "id": "a63bdd99",
   "metadata": {},
   "outputs": [
    {
     "name": "stdout",
     "output_type": "stream",
     "text": [
      "CPU times: user 1min 2s, sys: 28.6 s, total: 1min 30s\n",
      "Wall time: 1min 30s\n"
     ]
    },
    {
     "data": {
      "text/plain": [
       "'What is the average monthly share of paper sales over the last 2.5 years'"
      ]
     },
     "execution_count": 137,
     "metadata": {},
     "output_type": "execute_result"
    }
   ],
   "source": [
    "%%time\n",
    "predict_template_query_v3(\"what is the average monthly market share of paper for the last two and a half years\")"
   ]
  },
  {
   "cell_type": "code",
   "execution_count": 138,
   "id": "a0dac6a0",
   "metadata": {},
   "outputs": [
    {
     "name": "stdout",
     "output_type": "stream",
     "text": [
      "CPU times: user 1min 3s, sys: 29 s, total: 1min 32s\n",
      "Wall time: 1min 32s\n"
     ]
    },
    {
     "data": {
      "text/plain": [
       "'When was the last time that sales of paper across months was lowest'"
      ]
     },
     "execution_count": 138,
     "metadata": {},
     "output_type": "execute_result"
    }
   ],
   "source": [
    "%%time\n",
    "predict_template_query_v3(\"when was the monthly selling of paper recorded the lowest?\")"
   ]
  },
  {
   "cell_type": "code",
   "execution_count": null,
   "id": "4d6d84c1",
   "metadata": {},
   "outputs": [],
   "source": []
  },
  {
   "cell_type": "code",
   "execution_count": 49,
   "id": "0769d358",
   "metadata": {},
   "outputs": [
    {
     "name": "stderr",
     "output_type": "stream",
     "text": [
      "/opt/conda/lib/python3.8/site-packages/transformers/generation/utils.py:1270: UserWarning: You have modified the pretrained model configuration to control generation. This is a deprecated strategy to control generation and will be removed soon, in a future version. Please use a generation configuration file (see https://huggingface.co/docs/transformers/main_classes/text_generation )\n",
      "  warnings.warn(\n",
      "/opt/conda/lib/python3.8/site-packages/transformers/generation/utils.py:2415: UserWarning: Specified kernel cache directory could not be created! This disables kernel caching. Specified directory is /home/mosaic-ai/.cache/torch/kernels. This warning will appear only once per process. (Triggered internally at ../aten/src/ATen/native/cuda/jit_utils.cpp:1442.)\n",
      "  next_tokens.tile(eos_token_id_tensor.shape[0], 1).ne(eos_token_id_tensor.unsqueeze(1)).prod(dim=0)\n"
     ]
    },
    {
     "name": "stdout",
     "output_type": "stream",
     "text": [
      "CPU times: user 23.8 s, sys: 5.03 s, total: 28.8 s\n",
      "Wall time: 28.8 s\n"
     ]
    },
    {
     "data": {
      "text/plain": [
       "'What is the sales in 2023'"
      ]
     },
     "execution_count": 49,
     "metadata": {},
     "output_type": "execute_result"
    }
   ],
   "source": [
    "%%time\n",
    "predict_template_query_v3(\"What were the sales in '23?\")"
   ]
  },
  {
   "cell_type": "code",
   "execution_count": 50,
   "id": "8a7e5e92",
   "metadata": {},
   "outputs": [
    {
     "name": "stdout",
     "output_type": "stream",
     "text": [
      "CPU times: user 22.7 s, sys: 5.03 s, total: 27.8 s\n",
      "Wall time: 27.8 s\n"
     ]
    },
    {
     "data": {
      "text/plain": [
       "'What is the sales in 2022'"
      ]
     },
     "execution_count": 50,
     "metadata": {},
     "output_type": "execute_result"
    }
   ],
   "source": [
    "%%time\n",
    "predict_template_query_v3(\"sales number in year 2022?\")"
   ]
  },
  {
   "cell_type": "code",
   "execution_count": 53,
   "id": "1d5bbbb2",
   "metadata": {},
   "outputs": [
    {
     "name": "stdout",
     "output_type": "stream",
     "text": [
      "CPU times: user 1min 4s, sys: 30.3 s, total: 1min 34s\n",
      "Wall time: 1min 34s\n"
     ]
    },
    {
     "data": {
      "text/plain": [
       "'What is the sales in 2020'"
      ]
     },
     "execution_count": 53,
     "metadata": {},
     "output_type": "execute_result"
    }
   ],
   "source": [
    "%%time\n",
    "predict_template_query_v3(\"what was profit for the year 2020?\")"
   ]
  },
  {
   "cell_type": "code",
   "execution_count": 49,
   "id": "54524b28",
   "metadata": {},
   "outputs": [
    {
     "name": "stdout",
     "output_type": "stream",
     "text": [
      "CPU times: user 1min 10s, sys: 33.4 s, total: 1min 43s\n",
      "Wall time: 1min 43s\n"
     ]
    },
    {
     "data": {
      "text/plain": [
       "'What is the sales in 2020'"
      ]
     },
     "execution_count": 49,
     "metadata": {},
     "output_type": "execute_result"
    }
   ],
   "source": [
    "%%time\n",
    "predict_template_query_v3(\"what was sales in 11/20?\")"
   ]
  },
  {
   "cell_type": "code",
   "execution_count": 51,
   "id": "ce37bd02",
   "metadata": {
    "scrolled": true
   },
   "outputs": [
    {
     "name": "stdout",
     "output_type": "stream",
     "text": [
      "CPU times: user 1min 2s, sys: 29.1 s, total: 1min 31s\n",
      "Wall time: 1min 31s\n"
     ]
    },
    {
     "data": {
      "text/plain": [
       "'What is the sales and discount percentage in 1983 vs 1984'"
      ]
     },
     "execution_count": 51,
     "metadata": {},
     "output_type": "execute_result"
    }
   ],
   "source": [
    "%%time\n",
    "predict_template_query_v3(\"Compare 1983 and 1984 sales and discount percentages.\")"
   ]
  },
  {
   "cell_type": "code",
   "execution_count": 54,
   "id": "9753588d",
   "metadata": {},
   "outputs": [
    {
     "name": "stdout",
     "output_type": "stream",
     "text": [
      "CPU times: user 23.9 s, sys: 5.52 s, total: 29.4 s\n",
      "Wall time: 29.4 s\n"
     ]
    },
    {
     "data": {
      "text/plain": [
       "'What is the sales in 2022'"
      ]
     },
     "execution_count": 54,
     "metadata": {},
     "output_type": "execute_result"
    }
   ],
   "source": [
    "%%time\n",
    "predict_template_query_v3(\"what was sales in twenty twenty two?\")"
   ]
  },
  {
   "cell_type": "code",
   "execution_count": 52,
   "id": "9b50d7f1",
   "metadata": {},
   "outputs": [
    {
     "name": "stdout",
     "output_type": "stream",
     "text": [
      "CPU times: user 1min 7s, sys: 31.3 s, total: 1min 38s\n",
      "Wall time: 1min 38s\n"
     ]
    },
    {
     "data": {
      "text/plain": [
       "'What is the monthly trend of profit'"
      ]
     },
     "execution_count": 52,
     "metadata": {},
     "output_type": "execute_result"
    }
   ],
   "source": [
    "%%time\n",
    "predict_template_query_v3(\"what are profit each months\")"
   ]
  },
  {
   "cell_type": "code",
   "execution_count": 45,
   "id": "2b3e9fd1",
   "metadata": {},
   "outputs": [
    {
     "name": "stdout",
     "output_type": "stream",
     "text": [
      "CPU times: user 1min 5s, sys: 29.9 s, total: 1min 35s\n",
      "Wall time: 1min 35s\n"
     ]
    },
    {
     "data": {
      "text/plain": [
       "'When was the last time that sales of phone was lowest'"
      ]
     },
     "execution_count": 45,
     "metadata": {},
     "output_type": "execute_result"
    }
   ],
   "source": [
    "%%time\n",
    "predict_template_query_v3(\"When did the previous low in phone sales take place?\")"
   ]
  },
  {
   "cell_type": "code",
   "execution_count": 46,
   "id": "2053ff2a",
   "metadata": {},
   "outputs": [
    {
     "name": "stdout",
     "output_type": "stream",
     "text": [
      "CPU times: user 1min 8s, sys: 31.8 s, total: 1min 40s\n",
      "Wall time: 1min 40s\n"
     ]
    },
    {
     "data": {
      "text/plain": [
       "'When was the last time that sales of phone was lowest'"
      ]
     },
     "execution_count": 46,
     "metadata": {},
     "output_type": "execute_result"
    }
   ],
   "source": [
    "%%time\n",
    "predict_template_query_v3(\"When was phone sales lowest recently?\")"
   ]
  },
  {
   "cell_type": "code",
   "execution_count": null,
   "id": "17f34064",
   "metadata": {},
   "outputs": [],
   "source": []
  },
  {
   "cell_type": "code",
   "execution_count": null,
   "id": "75bf002e",
   "metadata": {},
   "outputs": [],
   "source": []
  },
  {
   "cell_type": "code",
   "execution_count": 67,
   "id": "ff5b23c6",
   "metadata": {
    "scrolled": true
   },
   "outputs": [
    {
     "name": "stdout",
     "output_type": "stream",
     "text": [
      "CPU times: user 1min 47s, sys: 50 s, total: 2min 37s\n",
      "Wall time: 2min 37s\n"
     ]
    }
   ],
   "source": [
    "%%time\n",
    "\n",
    "inp = 'what are you doing'\n",
    "inp = tokenizer.encode(inp, return_tensors='pt')\n",
    "output = model.generate(input_ids=inp.to('cuda'), max_length= 200)\n",
    "output = tokenizer.decode(outputs[0])"
   ]
  },
  {
   "cell_type": "code",
   "execution_count": 49,
   "id": "cb192915",
   "metadata": {},
   "outputs": [],
   "source": [
    "from tqdm import tqdm"
   ]
  },
  {
   "cell_type": "code",
   "execution_count": 50,
   "id": "c210030a",
   "metadata": {},
   "outputs": [],
   "source": [
    "df2 = pd.read_csv('template_and_user_query.csv')"
   ]
  },
  {
   "cell_type": "code",
   "execution_count": 51,
   "id": "621010b7",
   "metadata": {},
   "outputs": [],
   "source": [
    "val_df2 = df2.iloc[::10,:]\n",
    "val_df2.reset_index(drop=True, inplace=True)\n",
    "df2 = pd.concat([df2,val_df2]).drop_duplicates(keep=False).reset_index()\n",
    "df2.drop(columns=['index'], inplace=True)"
   ]
  },
  {
   "cell_type": "code",
   "execution_count": 57,
   "id": "00927e23",
   "metadata": {
    "scrolled": true
   },
   "outputs": [],
   "source": [
    "df2_new = df2[300:500]"
   ]
  },
  {
   "cell_type": "code",
   "execution_count": 60,
   "id": "eef5a6c3",
   "metadata": {},
   "outputs": [
    {
     "name": "stderr",
     "output_type": "stream",
     "text": [
      "200it [1:42:11, 30.66s/it]"
     ]
    },
    {
     "name": "stdout",
     "output_type": "stream",
     "text": [
      "CPU times: user 1h 21min 28s, sys: 20min 42s, total: 1h 42min 10s\n",
      "Wall time: 1h 42min 11s\n"
     ]
    },
    {
     "name": "stderr",
     "output_type": "stream",
     "text": [
      "\n"
     ]
    }
   ],
   "source": [
    "%%time\n",
    "output_list_300_500 = []\n",
    "for i, row in tqdm(df2_new.iterrows()):\n",
    "    inp = row['user query']\n",
    "    try:\n",
    "        output = predict_template_query_v3(inp)\n",
    "    except:\n",
    "        output = None\n",
    "        print(f\"Got exception while processing : {inp}\")\n",
    "    output_list_300_500.append(output)"
   ]
  },
  {
   "cell_type": "code",
   "execution_count": null,
   "id": "67ef0663",
   "metadata": {},
   "outputs": [],
   "source": []
  },
  {
   "cell_type": "code",
   "execution_count": 62,
   "id": "a21081b2",
   "metadata": {
    "scrolled": true
   },
   "outputs": [],
   "source": [
    "df = pd.DataFrame(output_list_300_500, columns=['predicted_template'])\n",
    "df.to_csv('predict_df_300_500.csv', index=False)"
   ]
  },
  {
   "cell_type": "code",
   "execution_count": 61,
   "id": "02e731ba",
   "metadata": {},
   "outputs": [
    {
     "data": {
      "text/plain": [
       "['What is the sales of phone and paper in 2020',\n",
       " 'What is the sales of phone and paper in 2020',\n",
       " 'What is the sales of phone and paper in 2020',\n",
       " 'What is the sales of phone and paper in 2020',\n",
       " 'What is the sales of phone and paper in 2020',\n",
       " 'What is the sales of phone and paper in 2020',\n",
       " 'What is the sales of phone and paper in 2020',\n",
       " 'What is the sales of phone and paper in 2020',\n",
       " 'What is the sales of phone and paper in 2020',\n",
       " 'What is the sales of phone and paper in 2020',\n",
       " 'What is the sales of phone and paper across months',\n",
       " 'What is the sales of phone and paper across months',\n",
       " 'What is the sales of phone and paper across months',\n",
       " 'What is the sales of phone and paper across months',\n",
       " 'What is the sales of phone and paper across months',\n",
       " 'What is the sales of phone and paper across months',\n",
       " 'What is the sales of phone and paper across months',\n",
       " 'What is the sales of phone and paper across months',\n",
       " 'What is the sales of phone and paper across months',\n",
       " 'What is the sales of phone and paper across months',\n",
       " 'What is the sales of phone and paper across months in 2020',\n",
       " 'What is the sales of phone and paper across months in 2020',\n",
       " 'What is the sales of phone and paper across months in 2020',\n",
       " 'What is the sales of phone and paper across months in 2020',\n",
       " 'What is the sales of phone and paper across months in 2020',\n",
       " 'What is the sales of phone and paper across months in 2020',\n",
       " 'What is the sales of phone and paper across months in 2020',\n",
       " 'What is the sales of phone and paper across months in 2020',\n",
       " 'What is the sales of phone and paper across months in 2020',\n",
       " 'What is the sales of phone and paper across months in 2020',\n",
       " 'List of sub category',\n",
       " 'List of sub category',\n",
       " 'List of sub category',\n",
       " 'List of sub category',\n",
       " 'List of sub category',\n",
       " 'List of sub category',\n",
       " 'List of sub category',\n",
       " 'List of sub category',\n",
       " 'List of sub category',\n",
       " 'List of sub category',\n",
       " 'List of sub category in 2020',\n",
       " 'List of sub category in 2020',\n",
       " 'List of sub category in 2020',\n",
       " 'List of sub category in 2020',\n",
       " 'List of sub category in 2020',\n",
       " 'List of sub category in 2020',\n",
       " 'List of sub category in 2020',\n",
       " 'List of sub category in 2020',\n",
       " 'List of sub category in 2020',\n",
       " 'List of sub category in 2020',\n",
       " 'List of sub category and country',\n",
       " 'List of sub category and country',\n",
       " 'List of sub category and country',\n",
       " 'List of sub category and country',\n",
       " 'List of sub category and country',\n",
       " 'List of sub category and country',\n",
       " 'List of sub category and country',\n",
       " 'List of sub category and country',\n",
       " 'List of sub category and country',\n",
       " 'List of sub category and country',\n",
       " 'List of sub category and country in 2020',\n",
       " 'List of sub category and country in 2020',\n",
       " 'List of sub category and country in 2020',\n",
       " 'List of sub category and country in 2020',\n",
       " 'List of sub category and country in 2020',\n",
       " 'List of sub category and country in 2020',\n",
       " 'List of sub category and country in 2020',\n",
       " 'List of sub category and country in 2020',\n",
       " 'List of sub category and country in 2020',\n",
       " 'List of sub category and country in 2020',\n",
       " 'List of sub category having sales more than 10k',\n",
       " 'List of sub category having sales contribution more than 10k',\n",
       " 'List of sub category having sales contribution more than 10k',\n",
       " 'List of sub category having sales contribution more than 10k',\n",
       " 'List of sub category having sales more than 10k',\n",
       " 'List of sub category having sales more than 10k',\n",
       " 'List of sub category having sales contribution more than 10k',\n",
       " 'List of sub category having sales more than 10k',\n",
       " 'List of sub category having sales more than 10k',\n",
       " 'List of sub category having sales more than 10k',\n",
       " 'List of sub category having sales more than 10k in 2020',\n",
       " 'List of sub category with sales contribution more than 10k in 2020',\n",
       " 'List of sub category having sales more than 10k in 2020',\n",
       " 'List of sub category having sales more than 10k in 2020',\n",
       " 'List of sub category with sales contribution more than 10k in 2020',\n",
       " 'List of sub category having sales more than 10k in 2020',\n",
       " 'List of sub category having sales contribution more than 10k in 2020',\n",
       " 'List of sub category having sales more than 10k in 2020',\n",
       " 'List of sub category having sales more than 10k in 2020',\n",
       " 'List of sub category having sales more than 10k in 2020',\n",
       " 'List of sub category and country having sales more than 10k',\n",
       " 'List of sub category and country having sales more than 10k',\n",
       " 'List of sub category and country having sales more than 10k',\n",
       " 'List of sub category and country having sales more than 10k',\n",
       " 'List of sub category and country having sales more than 10k',\n",
       " 'List of sub category and country having sales more than 10k',\n",
       " 'List of sub category and country having sales more than 10k',\n",
       " 'List of sub category and country having sales more than 10k',\n",
       " 'List of sub category and country having sales more than 10k',\n",
       " 'List of sub category and country having sales more than 10k',\n",
       " 'List of sub category and country having sales more than 10k in 2020',\n",
       " 'List of sub category and country having sales more than 10k in 2020',\n",
       " 'List of sub category and country having sales more than 10k in 2020',\n",
       " 'List of sub category and country having sales more than 10k in 2020',\n",
       " 'List of sub category and country having sales more than 10k in 2020',\n",
       " 'List of sub category and country having sales more than 10k in 2020',\n",
       " 'List of sub category and country having sales more than 10k in 2020',\n",
       " 'List of sub category and country having sales more than 10k in 2020',\n",
       " 'List of sub category and country having sales more than 10k in 2020',\n",
       " 'List of sub category and country having sales more than 10k in 2020',\n",
       " 'List of sub category except chairs',\n",
       " 'List of sub category except chairs',\n",
       " 'List of sub category except chairs',\n",
       " 'List of sub category except chairs',\n",
       " 'List of sub category except chairs',\n",
       " 'List of sub category except chairs',\n",
       " 'List of sub category except chairs',\n",
       " 'List of sub category except chairs',\n",
       " 'List of sub category except chairs',\n",
       " 'List of sub category except chairs',\n",
       " 'List of sub category across months',\n",
       " 'List of sub category across months',\n",
       " 'List of sub category across months',\n",
       " 'List of sub category across months',\n",
       " 'List of sub category across months',\n",
       " 'List of sub category across months',\n",
       " 'List of sub category across months',\n",
       " 'List of sub category across months',\n",
       " 'List of sub category across months',\n",
       " 'List of sub category across months',\n",
       " 'List of sub category except chairs across months',\n",
       " 'List of sub category except chairs across months',\n",
       " 'List of sub category except chairs across months',\n",
       " 'List of sub category except chairs across months',\n",
       " 'List of sub category except chairs across months',\n",
       " 'List of sub category except chairs across months',\n",
       " 'List of sub category except chairs across months',\n",
       " 'List of sub category except chairs across months',\n",
       " 'List of sub category except chairs across months',\n",
       " 'List of sub category except chairs across months',\n",
       " 'How many sub category are there',\n",
       " 'How many sub category are there',\n",
       " 'How many sub category are there',\n",
       " 'How many sub category are there',\n",
       " 'How many sub category are there',\n",
       " 'How many sub category are there',\n",
       " 'How many sub category are there',\n",
       " 'How many sub category are there',\n",
       " 'How many sub category are there',\n",
       " 'How many sub category are there',\n",
       " 'How many sub category across months',\n",
       " 'How many sub category across months',\n",
       " 'How many sub category across months',\n",
       " 'How many sub category across months',\n",
       " 'How many sub category across months',\n",
       " 'How many sub category across months',\n",
       " 'How many sub category across months',\n",
       " 'How many sub category across months',\n",
       " 'How many sub category across months',\n",
       " 'How many sub category across months',\n",
       " 'How many sub category where sales is more than 10k',\n",
       " 'How many sub category where sales is more than 10k',\n",
       " 'How many sub category where sales is more than 10k',\n",
       " 'How many sub category where sales is more than 10k',\n",
       " 'How many sub category where sales is more than 10k',\n",
       " 'How many sub category where sales is more than 10k',\n",
       " 'How many sub category where sales is more than 10k',\n",
       " 'How many sub category where sales is more than 10k',\n",
       " 'How many sub category where sales is more than 10k',\n",
       " 'How many sub category where sales is more than 10k',\n",
       " 'How many sub category across months where sales is more than 10k',\n",
       " 'How many sub category across months where sales is more than 10k',\n",
       " 'How many sub category across months where sales is more than 10k',\n",
       " 'How many sub category across months where sales is more than 10k',\n",
       " 'How many sub category across months where sales is more than 10k',\n",
       " 'How many sub category across months where sales is more than 10k',\n",
       " 'What are the sub category with sales more than 10k across months',\n",
       " 'How many sub category across months where sales is more than 10k',\n",
       " 'How many sub category across months where sales is more than 10k',\n",
       " 'How many sub category across months where sales is more than 10k',\n",
       " 'How many sub category contributing to growth of sales across months',\n",
       " 'How many sub category contributing to growth of sales across months',\n",
       " 'How many sub category contributing to growth of sales across months',\n",
       " 'How many sub category contributing to growth of sales across months',\n",
       " 'How many sub category contributing to growth of sales across months',\n",
       " 'How many sub category contributing to growth of sales across months',\n",
       " 'How many sub category contributing to growth of sales across months',\n",
       " 'How many sub category contributing to growth of sales across months',\n",
       " 'How many sub category contributing to growth of sales across months',\n",
       " 'How many sub category contributing to growth of sales across months',\n",
       " 'When was sales lowest',\n",
       " 'When was sales lowest',\n",
       " 'When was sales lowest',\n",
       " 'When was the last time that sales lowest',\n",
       " 'When was sales lowest',\n",
       " 'When was sales lowest',\n",
       " 'When was sales lowest',\n",
       " 'When was the last time that sales lowest',\n",
       " 'When was sales lowest',\n",
       " 'When was sales lowest']"
      ]
     },
     "execution_count": 61,
     "metadata": {},
     "output_type": "execute_result"
    }
   ],
   "source": [
    "output_list_300_500"
   ]
  },
  {
   "cell_type": "code",
   "execution_count": 86,
   "id": "eb6f4b81",
   "metadata": {
    "scrolled": true
   },
   "outputs": [
    {
     "data": {
      "text/plain": [
       "['What is the sales and discount percentage by sub category across months',\n",
       " 'What is the sales and discount percentage by sub category across months',\n",
       " 'What is the sales and discount percentage by sub category across months',\n",
       " 'What is the sales and discount percentage by sub category across months',\n",
       " 'What is the sales and discount percentage by sub category across months',\n",
       " 'What is the sales and discount percentage by sub category across months',\n",
       " 'What is the sales and discount percentage by sub category across months',\n",
       " 'What is the sales and discount percentage by sub category across months',\n",
       " 'What is the sales and discount percentage by sub category across months',\n",
       " 'What is the sales and discount percentage by sub category across months',\n",
       " 'What is the sales and discount percentage by sub category and country across months',\n",
       " 'What is the sales and discount percentage by sub category and country across months',\n",
       " 'What is the sales and discount percentage by sub category and country across months',\n",
       " 'What is the sales and discount percentage by sub category and country across months',\n",
       " 'What is the sales and discount percentage by sub category and country across months',\n",
       " 'What is the sales and discount percentage by sub category and country across months',\n",
       " 'What is the sales and discount percentage by sub category and country across months',\n",
       " 'What is the sales and discount percentage by sub category and country across months',\n",
       " 'What is the sales and discount percentage by sub category and country across months',\n",
       " 'What is the sales and discount percentage by sub category and country across months',\n",
       " 'List of sub category with sales contribution more than 10k across months',\n",
       " 'List of sub category with sales contribution more than 10k across months',\n",
       " 'List of sub category with sales contribution more than 10k across months',\n",
       " 'List of sub category with sales contribution more than 10k across months',\n",
       " 'Which are the top sub category with sales more than 10k across months',\n",
       " 'List of sub category with sales contribution more than 10k across months',\n",
       " 'What are the sub category with sales more than 10k across months',\n",
       " 'List of sub category with sales contribution more than 10k across months',\n",
       " 'What are the sub category with sales more than 10k across months',\n",
       " 'List of sub category having sales more than 10k across months',\n",
       " 'What is the sales of sub category except chairs across months',\n",
       " 'What is the sales of sub category except chairs across months',\n",
       " 'What is the sales of sub category except chairs across months',\n",
       " 'What is the sales of sub category except chairs across months',\n",
       " 'What is the sales of sub category except chairs across months',\n",
       " 'What is the sales of sub category except chairs across months',\n",
       " 'What is the sales by sub category except chairs across months',\n",
       " 'What is the sales of sub category except chairs across months',\n",
       " 'What is the sales of sub category except chairs across months',\n",
       " 'What is the sales of sub category except chairs across months',\n",
       " 'What is the sales , discount percentage and discount across months',\n",
       " 'What is the sales , discount percentage and discount across months',\n",
       " 'What is the sales , discount percentage and discount across months',\n",
       " 'What is the sales , discount percentage and discount across months',\n",
       " 'What is the sales , discount percentage and discount across months',\n",
       " 'What is the monthly trend of sales , discount percentage and discount',\n",
       " 'What is the sales , discount percentage and discount across months',\n",
       " 'What is the sales , discount percentage and discount across months',\n",
       " 'What is the sales , discount percentage and discount across months',\n",
       " 'What is the sales , discount percentage and discount across months',\n",
       " 'What is the sales , discount percentage and discount by sub category across months',\n",
       " 'What is the sales , discount percentage and discount by sub category across months',\n",
       " 'What is the sales , discount percentage and discount by sub category across months',\n",
       " 'What is the sales , discount percentage and discount by sub category across months',\n",
       " 'What is the sales , discount percentage and discount by sub category across months',\n",
       " 'What is the sales , discount percentage and discount by sub category across months',\n",
       " 'What is the sales , discount percentage and discount by sub category across months',\n",
       " 'What is the sales , discount percentage and discount by sub category across months',\n",
       " 'What is the sales , discount percentage and discount by sub category across months',\n",
       " 'What is the sales , discount percentage and discount by sub category across months',\n",
       " 'What is the sales , discount percentage and discount in 2020',\n",
       " 'What is the sales , discount percentage and discount in 2020',\n",
       " 'What is the sales , discount percentage and discount in 2020',\n",
       " 'What is the sales , discount percentage and discount in 2020',\n",
       " 'What is the sales , discount percentage and discount in 2020',\n",
       " 'What is the sales , discount percentage and discount in 2020',\n",
       " 'What is the sales , discount percentage and discount in 2020',\n",
       " 'Diagnose sales , discount percentage and discount in 2020',\n",
       " 'What is the sales , discount percentage and discount in 2020',\n",
       " 'What is the sales , discount percentage and discount in 2020',\n",
       " 'What is the sales , discount percentage and discount of sub category in 2020',\n",
       " 'What is the sales , discount percentage and discount of sub category in 2020',\n",
       " 'What is the sales , discount percentage and discount of sub category in 2020',\n",
       " 'What is the sales , discount percentage and discount by sub category in 2020',\n",
       " 'What is the sales , discount percentage and discount of sub category in 2020',\n",
       " 'What is the sales , discount percentage and discount of sub category in 2020',\n",
       " 'What is the sales , discount percentage and discount of sub category in 2020',\n",
       " 'What is the sales , discount percentage and discount of sub category in 2020',\n",
       " 'What is the sales , discount percentage and discount by sub category in 2020',\n",
       " 'What is the sales , discount percentage and discount of sub category in 2020',\n",
       " 'Which sub category have sales more than 10k',\n",
       " 'Which sub category have sales more than 10k',\n",
       " 'List the top sub category having sales more than 10k',\n",
       " 'Which sub category have sales more than 10k',\n",
       " 'Which sub category have sales more than 10k',\n",
       " 'Which sub category have sales more than 10k',\n",
       " 'Which sub category have sales more than 10k',\n",
       " 'Which sub category have sales more than 10k',\n",
       " 'Which sub category have sales more than 10k',\n",
       " 'Which sub category have sales more than 10k',\n",
       " 'Which sub category have sales more than 10k in 2020',\n",
       " 'Which sub category have sales more than 10k in 2020',\n",
       " 'List the top sub category having sales more than 10k in 2020',\n",
       " 'Which sub category have sales more than 10k in 2020',\n",
       " 'List the top sub category having sales more than 10k in 2020',\n",
       " 'Which sub category have sales more than 10k in 2020',\n",
       " 'Which sub category have sales more than 10k in 2020',\n",
       " 'Which sub category have sales more than 10k in 2020',\n",
       " 'Which sub category have sales more than 10k in 2020',\n",
       " 'Which sub category have sales more than 10k in 2020']"
      ]
     },
     "execution_count": 86,
     "metadata": {},
     "output_type": "execute_result"
    }
   ],
   "source": [
    "output_list_200_300"
   ]
  },
  {
   "cell_type": "code",
   "execution_count": 81,
   "id": "1a12e330",
   "metadata": {
    "scrolled": true
   },
   "outputs": [
    {
     "data": {
      "text/plain": [
       "['What is the sales and discount percentage by sub category and country in 2020',\n",
       " 'What is the sales and discount percentage by sub category and country in 2020',\n",
       " 'What is the sales and discount percentage by sub category and country in 2020',\n",
       " 'What is the sales and discount percentage by sub category and country in 2020',\n",
       " 'What is the sales and discount percentage by sub category and country in 2020',\n",
       " 'What is the sales and discount percentage by sub category and country in 2020',\n",
       " 'What is the sales and discount percentage by sub category and country in 2020',\n",
       " 'What is the sales and discount percentage by sub category and country in 2020',\n",
       " 'What is the sales and discount percentage by sub category and country in 2020',\n",
       " 'What is the sales and discount percentage by sub category and country in 2020',\n",
       " 'What is the sales and discount percentage in 2020 vs 2021',\n",
       " 'What is the sales and discount percentage in 2020 vs 2021',\n",
       " 'What is the sales and discount percentage in 2020 vs 2021',\n",
       " 'What is the sales and discount percentage in 2020 vs 2021',\n",
       " 'What is the sales and discount percentage in 2020 vs 2021',\n",
       " 'What is the sales and discount percentage in 2020 vs 2021',\n",
       " 'What is the sales and discount percentage in 2020 vs 2021',\n",
       " 'What is the sales and discount percentage change from 2020 to 2021',\n",
       " 'What is the sales and discount percentage in 2020 vs 2021',\n",
       " 'What is the sales and discount percentage in 2020 vs 2021',\n",
       " 'What is the sales and discount percentage by sub category in 2020 vs 2021',\n",
       " 'What is the sales and discount percentage by sub category in 2020 vs 2021',\n",
       " 'What is the sales and discount percentage by sub category in 2020 vs 2021',\n",
       " 'What is the sales and discount percentage by sub category in 2020 vs 2021',\n",
       " 'What is the sales and discount percentage by sub category in 2020 vs 2021',\n",
       " 'What is the sales and discount percentage by sub category in 2020 vs 2021',\n",
       " 'What is the trend of sales and discount percentage by sub category in 2020 vs 2021',\n",
       " 'What is the sales and discount percentage by sub category in 2020 vs 2021',\n",
       " 'What is the sales and discount percentage by sub category in 2020 vs 2021',\n",
       " 'What is the sales and discount percentage by sub category in 2020 vs 2021',\n",
       " 'What is the sales and discount percentage by sub category and country in 2020 vs 2021',\n",
       " 'What is the sales and discount percentage by sub category and country in 2020 vs 2021',\n",
       " 'What is the sales and discount percentage by sub category and country in 2020 vs 2021',\n",
       " 'What is the sales and discount percentage by sub category and country in 2020 vs 2021',\n",
       " 'What is the sales and discount percentage by sub category and country in 2020 vs 2021',\n",
       " 'What is the sales and discount percentage by sub category and country in 2020 vs 2021',\n",
       " 'What is the sales and discount percentage by sub category and country in 2020 vs 2021',\n",
       " 'What is the sales and discount percentage by sub category and country in 2020 vs 2021',\n",
       " 'What is the sales and discount percentage by sub category and country in 2020 vs 2021',\n",
       " 'What is the sales and discount percentage by sub category and country in 2020 vs 2021',\n",
       " 'List of sub category having sales more than 10k',\n",
       " 'List of sub category having sales contribution more than 10k',\n",
       " 'List of sub category having sales contribution more than 10k',\n",
       " 'List of sub category having sales contribution more than 10k',\n",
       " 'How many sub category where sales is more than 10k',\n",
       " 'List of sub category having sales contribution more than 10k',\n",
       " 'List of sub category having sales more than 10k',\n",
       " 'List of sub category having sales more than 10k',\n",
       " 'List of sub category having sales contribution more than 10k',\n",
       " 'What are the sub category with sales contribution more than 10k',\n",
       " 'What is the sales of sub category except chairs',\n",
       " 'What is the sales of sub category except chairs',\n",
       " 'What is the sales of sub category except chairs',\n",
       " 'What is the sales of sub category except chairs',\n",
       " 'What is the sales of sub category except chairs',\n",
       " 'What is the sales of sub category except chairs',\n",
       " 'What is the sales of sub category except chairs',\n",
       " 'What is the sales of sub category except chairs',\n",
       " 'What is the sales of sub category except chairs',\n",
       " 'What is the sales of sub category except chairs',\n",
       " 'What is the sales across months',\n",
       " 'What is the sales across months',\n",
       " 'What is the sales across months',\n",
       " 'What is the sales across months',\n",
       " 'What is the sales across months',\n",
       " 'What is the sales across months',\n",
       " 'What is the sales across months',\n",
       " 'What is the sales across months',\n",
       " 'What is the sales across months',\n",
       " 'What is the sales across months',\n",
       " 'What is the sales by sub category across months',\n",
       " 'What is the sales by sub category across months',\n",
       " 'What is the sales by sub category across months',\n",
       " 'What is the sales by sub category across months',\n",
       " 'What is the sales by sub category across months',\n",
       " 'What is the sales by sub category across months',\n",
       " 'What is the sales by sub category across months',\n",
       " 'What is the sales by sub category across months',\n",
       " 'What is the sales by sub category across months',\n",
       " 'What is the sales by sub category across months',\n",
       " 'What is the sales of phone across months',\n",
       " 'What is the sales of phone across months',\n",
       " 'What is the sales of phone across months',\n",
       " 'What is the sales of phone across months',\n",
       " 'What is the sales of phone across months',\n",
       " 'What is the sales of phone across months',\n",
       " 'What is the sales of phone across months',\n",
       " 'What is the sales of phone across months',\n",
       " 'What is the sales of phone across months',\n",
       " 'What is the sales of phone across months',\n",
       " 'What is the sales and discount percentage across months',\n",
       " 'What is the sales and discount percentage across months',\n",
       " 'What is the sales and discount percentage across months',\n",
       " 'What is the sales and discount percentage across months',\n",
       " 'What is the monthly trend of sales and discount percentage',\n",
       " 'What is the sales and discount percentage across months',\n",
       " 'What is the sales and discount percentage across months',\n",
       " 'What is the sales and discount percentage across months',\n",
       " 'What is the sales and discount percentage across months',\n",
       " 'What is the sales and discount percentage across months']"
      ]
     },
     "execution_count": 81,
     "metadata": {},
     "output_type": "execute_result"
    }
   ],
   "source": [
    "output_list_100_200"
   ]
  },
  {
   "cell_type": "code",
   "execution_count": 78,
   "id": "331e3190",
   "metadata": {
    "scrolled": true
   },
   "outputs": [
    {
     "data": {
      "text/plain": [
       "['What is the sales in 2020',\n",
       " 'What is the sales in 2020',\n",
       " 'What is the sales in 2020',\n",
       " 'What is the sales in 2020',\n",
       " 'What is the sales in 2020',\n",
       " 'What is the sales in 2020',\n",
       " 'What is the sales in 2020',\n",
       " 'What is the sales in 2020',\n",
       " 'What is the sales in 2020',\n",
       " 'What is the sales in 2020',\n",
       " 'What is the sales across months in 2020',\n",
       " 'What is the sales across months in 2020',\n",
       " 'What is the sales across months in 2020',\n",
       " 'What is the sales across months in 2020',\n",
       " 'What is the sales across months in 2020',\n",
       " 'What is the sales across months in 2020',\n",
       " 'What is the sales across months in 2020',\n",
       " 'What is the sales across months in 2020',\n",
       " 'What is the sales across months in 2020',\n",
       " 'What is the sales across months in 2020',\n",
       " 'What is the sales by sub category in 2020',\n",
       " 'What is the sales by sub category in 2020',\n",
       " 'What is the sales by sub category in 2020',\n",
       " 'What is the sales by sub category in 2020',\n",
       " 'What is the sales by sub category in 2020',\n",
       " 'What is the sales by sub category in 2020',\n",
       " 'What is the sales by sub category in 2020',\n",
       " 'What is the sales by sub category in 2020',\n",
       " 'What is the sales by sub category in 2020',\n",
       " 'What is the sales by sub category in 2020',\n",
       " 'What is the sales by sub category across months in 2020',\n",
       " 'What is the sales by sub category across months in 2020',\n",
       " 'What is the sales by sub category across months in 2020',\n",
       " 'What is the sales by sub category across months in 2020',\n",
       " 'What is the sales by sub category across months in 2020',\n",
       " 'What is the sales by sub category across months in 2020',\n",
       " 'What is the sales by sub category across months in 2020',\n",
       " 'What is the sales by sub category across months in 2020',\n",
       " 'What is the sales by sub category across months in 2020',\n",
       " 'What is the sales by sub category across months in 2020',\n",
       " 'What is the sales of phone in 2020',\n",
       " 'What is the sales of phone in 2020',\n",
       " 'What is the sales of phone in 2020',\n",
       " 'What is the sales of phone in 2020',\n",
       " 'What is the sales of phone in 2020',\n",
       " 'What is the sales of phone in 2020',\n",
       " 'What is the sales of phone in 2020',\n",
       " 'What is the sales of phone in 2020',\n",
       " 'What is the sales of phone in 2020',\n",
       " 'What is the sales of phone in 2020',\n",
       " 'What is the sales of phone across months in 2020',\n",
       " 'What is the sales of phone across months in 2020',\n",
       " 'What is the sales of phone across months in 2020',\n",
       " 'What is the sales of phone across months in 2020',\n",
       " 'What is the sales of phone across months in 2020',\n",
       " 'What is the sales of phone across months in 2020',\n",
       " 'What is the sales of phone across months in 2020',\n",
       " 'What is the sales of phone across months in 2020',\n",
       " 'What is the sales of phone across months in 2020',\n",
       " 'What is the sales of phone across months in 2020',\n",
       " 'What is the sales by sub category in 2020 vs 2021',\n",
       " 'What is the sales by sub category in 2020 vs 2021',\n",
       " 'What is the sales by sub category in 2020 vs 2021',\n",
       " 'What is the sales by sub category in 2020 vs 2021',\n",
       " 'What is the sales by sub category in 2020 vs 2021',\n",
       " 'What is the sales by sub category in 2020 vs 2021',\n",
       " 'Diagnose sales by sub category in 2020 vs 2021',\n",
       " 'What is the sales by sub category in 2020 vs 2021',\n",
       " 'What is the trend of sales by sub category in 2020 vs 2021',\n",
       " 'What is the sales by sub category in 2020 vs 2021',\n",
       " 'What is the sales in 2020 vs 2021',\n",
       " 'What is the sales in 2020 vs 2021',\n",
       " 'What is the sales in 2020 vs 2021',\n",
       " 'What is the sales in 2020 vs 2021',\n",
       " 'What is the sales in 2020 vs 2021',\n",
       " 'What is the sales in 2020 vs 2021',\n",
       " 'What is the sales in 2020 vs 2021',\n",
       " 'What is the sales in 2020 vs 2021',\n",
       " 'What is the sales in 2020 vs 2021',\n",
       " 'What is the sales in 2020 vs 2021',\n",
       " 'What is the sales and discount percentage in 2020',\n",
       " 'What is the sales and discount percentage in 2020',\n",
       " 'What is the sales and discount percentage in 2020',\n",
       " 'What is the contribution of sales and discounts in 2020',\n",
       " 'What is the sales and discount percentage in 2020',\n",
       " 'What is the sales and discount percentage in 2020',\n",
       " 'What is the sales and discount percentage in 2020',\n",
       " 'What is the sales and discount percentage in 2020',\n",
       " 'What is the sales and discount percentage in 2020',\n",
       " 'What is the sales and discount percentage in 2020',\n",
       " 'What is the sales and discount percentage by sub category in 2020',\n",
       " 'What is the sales and discount percentage by sub category in 2020',\n",
       " 'What is the sales and discount percentage by sub category in 2020',\n",
       " 'What is the sales and discount percentage by sub category in 2020',\n",
       " 'What is the sales and discount percentage by sub category in 2020',\n",
       " 'What is the sales and discount percentage by sub category in 2020',\n",
       " 'What is the sales and discount percentage by sub category in 2020',\n",
       " 'What is the sales and discount percentage by sub category in 2020',\n",
       " 'What is the sales and discount percentage by sub category in 2020',\n",
       " 'What is the sales and discount percentage by sub category in 2020']"
      ]
     },
     "execution_count": 78,
     "metadata": {},
     "output_type": "execute_result"
    }
   ],
   "source": [
    "output_list"
   ]
  },
  {
   "cell_type": "code",
   "execution_count": null,
   "id": "670ccb24",
   "metadata": {},
   "outputs": [],
   "source": []
  },
  {
   "cell_type": "code",
   "execution_count": null,
   "id": "cd9b8832",
   "metadata": {},
   "outputs": [],
   "source": []
  },
  {
   "cell_type": "code",
   "execution_count": null,
   "id": "eb61f802",
   "metadata": {},
   "outputs": [],
   "source": []
  },
  {
   "cell_type": "code",
   "execution_count": 40,
   "id": "196a3d84",
   "metadata": {},
   "outputs": [],
   "source": [
    "def predict_template_query(user_query):\n",
    "    question = query_template.format(user_query=user_query)\n",
    "    _input = str({'question': question})\n",
    "#     print(_input)\n",
    "    _inputs = tokenizer.encode(_input, return_tensors=\"pt\")\n",
    "#     print(_inputs)\n",
    "#     print(type(_inputs))\n",
    "    outputs = model_to_merge.generate(input_ids=_inputs.to('cuda'), max_length= 200)\n",
    "    output = tokenizer.decode(outputs[0])\n",
    "    # print(output)\n",
    "    # a = output.split(\"_LUMIN_ Answer\",1)[1]\n",
    "    #print(a)\n",
    "    return output"
   ]
  },
  {
   "cell_type": "code",
   "execution_count": null,
   "id": "5a3fb6e7",
   "metadata": {},
   "outputs": [],
   "source": [
    "model_to_merge.to('cuda')"
   ]
  },
  {
   "cell_type": "code",
   "execution_count": 63,
   "id": "7323583f",
   "metadata": {},
   "outputs": [],
   "source": [
    "def process_output(a):\n",
    "    b=a.split(\"### Answer\",1)[1]\n",
    "    return b.split(\"\\n\")[1]"
   ]
  },
  {
   "cell_type": "code",
   "execution_count": null,
   "id": "476faf99",
   "metadata": {},
   "outputs": [],
   "source": []
  },
  {
   "cell_type": "code",
   "execution_count": null,
   "id": "3972fa6e",
   "metadata": {},
   "outputs": [],
   "source": []
  },
  {
   "cell_type": "code",
   "execution_count": null,
   "id": "8c353855",
   "metadata": {},
   "outputs": [],
   "source": []
  },
  {
   "cell_type": "code",
   "execution_count": 5,
   "id": "7a1a7769",
   "metadata": {},
   "outputs": [],
   "source": [
    "# inp = \"why production dropped for bikes in 1st quarter 2022\"\n",
    "# predict_template_query(inp)"
   ]
  },
  {
   "cell_type": "code",
   "execution_count": 4,
   "id": "ac29f8f8",
   "metadata": {
    "scrolled": false
   },
   "outputs": [],
   "source": [
    "# inp = 'why sales of texas increase in 1st quarter 2023'\n",
    "# a = predict_template_query(inp)"
   ]
  },
  {
   "cell_type": "code",
   "execution_count": null,
   "id": "b83e75fc",
   "metadata": {},
   "outputs": [],
   "source": []
  },
  {
   "cell_type": "code",
   "execution_count": null,
   "id": "d2e6bd05",
   "metadata": {},
   "outputs": [],
   "source": []
  },
  {
   "cell_type": "code",
   "execution_count": 2,
   "id": "0e68c1d4",
   "metadata": {
    "scrolled": true
   },
   "outputs": [],
   "source": [
    "# inp = 'drivers of profit'\n",
    "# predict_template_query(inp)"
   ]
  },
  {
   "cell_type": "code",
   "execution_count": 3,
   "id": "b1023e87",
   "metadata": {},
   "outputs": [],
   "source": [
    "# inp = \"why sales dropped for bikes in 1st quarter 2022\"\n",
    "# predict_template_query(inp).split('\\n')[1]"
   ]
  },
  {
   "cell_type": "code",
   "execution_count": null,
   "id": "eba9f621",
   "metadata": {},
   "outputs": [],
   "source": []
  },
  {
   "cell_type": "code",
   "execution_count": null,
   "id": "912f2759",
   "metadata": {},
   "outputs": [],
   "source": []
  }
 ],
 "metadata": {
  "kernelspec": {
   "display_name": "Python 3",
   "language": "python",
   "name": "python3"
  },
  "language_info": {
   "codemirror_mode": {
    "name": "ipython",
    "version": 3
   },
   "file_extension": ".py",
   "mimetype": "text/x-python",
   "name": "python",
   "nbconvert_exporter": "python",
   "pygments_lexer": "ipython3",
   "version": "3.8.16"
  }
 },
 "nbformat": 4,
 "nbformat_minor": 5
}
