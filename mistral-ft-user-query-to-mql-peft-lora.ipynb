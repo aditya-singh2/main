{
 "cells": [
  {
   "cell_type": "code",
   "execution_count": 1,
   "id": "06dcc636",
   "metadata": {
    "scrolled": true
   },
   "outputs": [
    {
     "name": "stdout",
     "output_type": "stream",
     "text": [
      "Collecting git+https://github.com/huggingface/transformers\n",
      "  Cloning https://github.com/huggingface/transformers to /tmp/pip-req-build-osydzm2d\n",
      "  Running command git clone -q https://github.com/huggingface/transformers /tmp/pip-req-build-osydzm2d\n",
      "  Installing build dependencies ... \u001b[?25ldone\n",
      "\u001b[?25h  Getting requirements to build wheel ... \u001b[?25ldone\n",
      "\u001b[?25h    Preparing wheel metadata ... \u001b[?25ldone\n",
      "\u001b[?25hRequirement already satisfied: requests in /opt/conda/lib/python3.8/site-packages (from transformers==4.35.0.dev0) (2.29.0)\n",
      "Requirement already satisfied: numpy>=1.17 in /opt/conda/lib/python3.8/site-packages (from transformers==4.35.0.dev0) (1.21.1)\n",
      "Requirement already satisfied: pyyaml>=5.1 in /opt/conda/lib/python3.8/site-packages (from transformers==4.35.0.dev0) (6.0.1)\n",
      "Collecting tokenizers<0.15,>=0.14\n",
      "\u001b[?25l  Downloading https://files.pythonhosted.org/packages/76/ee/7e35fb46c728989357e6ccb96df64c4364601cfbfdd6c25ccc872e6c16a0/tokenizers-0.14.1-cp38-cp38-manylinux_2_17_x86_64.manylinux2014_x86_64.whl (3.8MB)\n",
      "\u001b[K     |████████████████████████████████| 3.8MB 6.7MB/s eta 0:00:01\n",
      "\u001b[?25hRequirement already satisfied: packaging>=20.0 in /opt/conda/lib/python3.8/site-packages (from transformers==4.35.0.dev0) (23.0)\n",
      "Requirement already satisfied: safetensors>=0.3.1 in /opt/conda/lib/python3.8/site-packages (from transformers==4.35.0.dev0) (0.3.2)\n",
      "Requirement already satisfied: regex!=2019.12.17 in /opt/conda/lib/python3.8/site-packages (from transformers==4.35.0.dev0) (2023.8.8)\n",
      "Requirement already satisfied: tqdm>=4.27 in /opt/conda/lib/python3.8/site-packages (from transformers==4.35.0.dev0) (4.65.0)\n",
      "Requirement already satisfied: huggingface-hub<1.0,>=0.16.4 in /opt/conda/lib/python3.8/site-packages (from transformers==4.35.0.dev0) (0.16.4)\n",
      "Requirement already satisfied: filelock in /opt/conda/lib/python3.8/site-packages (from transformers==4.35.0.dev0) (3.12.2)\n",
      "Requirement already satisfied: idna<4,>=2.5 in /opt/conda/lib/python3.8/site-packages (from requests->transformers==4.35.0.dev0) (3.4)\n",
      "Requirement already satisfied: charset-normalizer<4,>=2 in /opt/conda/lib/python3.8/site-packages (from requests->transformers==4.35.0.dev0) (2.0.4)\n",
      "Requirement already satisfied: urllib3<1.27,>=1.21.1 in /opt/conda/lib/python3.8/site-packages (from requests->transformers==4.35.0.dev0) (1.26.15)\n",
      "Requirement already satisfied: certifi>=2017.4.17 in /opt/conda/lib/python3.8/site-packages (from requests->transformers==4.35.0.dev0) (2023.5.7)\n",
      "Requirement already satisfied: fsspec in /opt/conda/lib/python3.8/site-packages (from huggingface-hub<1.0,>=0.16.4->transformers==4.35.0.dev0) (2023.6.0)\n",
      "Requirement already satisfied: typing-extensions>=3.7.4.3 in /opt/conda/lib/python3.8/site-packages (from huggingface-hub<1.0,>=0.16.4->transformers==4.35.0.dev0) (4.1.1)\n",
      "Building wheels for collected packages: transformers\n",
      "  Building wheel for transformers (PEP 517) ... \u001b[?25ldone\n",
      "\u001b[?25h  Created wheel for transformers: filename=transformers-4.35.0.dev0-cp38-none-any.whl size=7817286 sha256=9ddcadf7d7e766cb5a33afe02001ecd3998b318d96bb09a198315a44c6bcc743\n",
      "  Stored in directory: /tmp/pip-ephem-wheel-cache-obkb55bs/wheels/70/d3/52/b3fa4f8b8ef04167ac62e5bb2accb62ae764db2a378247490e\n",
      "Successfully built transformers\n",
      "Installing collected packages: tokenizers, transformers\n",
      "  Found existing installation: tokenizers 0.13.3\n",
      "    Uninstalling tokenizers-0.13.3:\n",
      "      Successfully uninstalled tokenizers-0.13.3\n",
      "  Found existing installation: transformers 4.31.0\n",
      "    Uninstalling transformers-4.31.0:\n",
      "      Successfully uninstalled transformers-4.31.0\n",
      "Successfully installed tokenizers-0.14.1 transformers-4.35.0.dev0\n"
     ]
    }
   ],
   "source": [
    "!sudo pip install git+https://github.com/huggingface/transformers"
   ]
  },
  {
   "cell_type": "code",
   "execution_count": 2,
   "id": "a1b437fa",
   "metadata": {},
   "outputs": [
    {
     "data": {
      "text/plain": [
       "'4.35.0.dev0'"
      ]
     },
     "execution_count": 2,
     "metadata": {},
     "output_type": "execute_result"
    }
   ],
   "source": [
    "import transformers\n",
    "transformers.__version__"
   ]
  },
  {
   "cell_type": "code",
   "execution_count": 3,
   "id": "ef7ece4d",
   "metadata": {},
   "outputs": [],
   "source": [
    "#!sudo pip install -q accelerate peft==0.4.0 bitsandbytes trl==0.4.7"
   ]
  },
  {
   "cell_type": "code",
   "execution_count": 4,
   "id": "57fbc6b6",
   "metadata": {},
   "outputs": [],
   "source": [
    "import os\n",
    "import torch\n",
    "from datasets import load_dataset\n",
    "from datasets import Dataset\n",
    "from transformers import (\n",
    "    AutoModelForCausalLM,\n",
    "    AutoTokenizer,\n",
    "    BitsAndBytesConfig,\n",
    "    HfArgumentParser,\n",
    "    TrainingArguments,\n",
    "    pipeline,\n",
    "    logging,\n",
    ")\n",
    "from peft import LoraConfig, PeftModel\n",
    "from trl import SFTTrainer\n",
    "import pandas as pd\n",
    "import torch"
   ]
  },
  {
   "cell_type": "code",
   "execution_count": 5,
   "id": "02bb11f9",
   "metadata": {
    "slideshow": {
     "slide_type": "slide"
    }
   },
   "outputs": [],
   "source": [
    "df = pd.read_csv('/data/mistral/query-to-mql/Live_Usage_queries_with_mql_formatted.csv')"
   ]
  },
  {
   "cell_type": "code",
   "execution_count": 6,
   "id": "8070e590",
   "metadata": {},
   "outputs": [
    {
     "data": {
      "text/plain": [
       "(17334, 9)"
      ]
     },
     "execution_count": 6,
     "metadata": {},
     "output_type": "execute_result"
    }
   ],
   "source": [
    "df.shape"
   ]
  },
  {
   "cell_type": "code",
   "execution_count": 7,
   "id": "290a2a2b",
   "metadata": {},
   "outputs": [
    {
     "data": {
      "text/plain": [
       "Index(['query', 'mql', 'account_id', 'metadata', 'measure', 'dimension',\n",
       "       'derived_measure', 'date', 'metadata_none_removed'],\n",
       "      dtype='object')"
      ]
     },
     "execution_count": 7,
     "metadata": {},
     "output_type": "execute_result"
    }
   ],
   "source": [
    "df.columns"
   ]
  },
  {
   "cell_type": "code",
   "execution_count": 8,
   "id": "e065f76d",
   "metadata": {},
   "outputs": [],
   "source": [
    "g = torch.Generator().manual_seed(1234)"
   ]
  },
  {
   "cell_type": "code",
   "execution_count": 9,
   "id": "575c9a95",
   "metadata": {},
   "outputs": [],
   "source": [
    "train_size = 1000"
   ]
  },
  {
   "cell_type": "code",
   "execution_count": 10,
   "id": "9666f3ca",
   "metadata": {},
   "outputs": [],
   "source": [
    "rows = torch.randint(0,df.shape[0],(1000,))"
   ]
  },
  {
   "cell_type": "code",
   "execution_count": 11,
   "id": "41714ad2",
   "metadata": {},
   "outputs": [],
   "source": [
    "train_df = df.iloc[rows.tolist()]"
   ]
  },
  {
   "cell_type": "code",
   "execution_count": 12,
   "id": "699e8bb4",
   "metadata": {},
   "outputs": [],
   "source": [
    "val_df = df.drop(rows.tolist())"
   ]
  },
  {
   "cell_type": "code",
   "execution_count": 13,
   "id": "24d56f14",
   "metadata": {},
   "outputs": [
    {
     "data": {
      "text/plain": [
       "((16360, 9), (1000, 9))"
      ]
     },
     "execution_count": 13,
     "metadata": {},
     "output_type": "execute_result"
    }
   ],
   "source": [
    "val_df.shape, train_df.shape"
   ]
  },
  {
   "cell_type": "code",
   "execution_count": 14,
   "id": "4de7a082",
   "metadata": {},
   "outputs": [],
   "source": [
    "val_df.to_csv('val_df_query_to_mql.csv', index=True)\n",
    "train_df.to_csv('train_df_query_to_mql.csv', index=True)"
   ]
  },
  {
   "cell_type": "code",
   "execution_count": null,
   "id": "9060e905",
   "metadata": {},
   "outputs": [],
   "source": []
  },
  {
   "cell_type": "code",
   "execution_count": 15,
   "id": "c37f45b7",
   "metadata": {},
   "outputs": [],
   "source": [
    "# The model that you want to train from the Hugging Face hub\n",
    "model_name = \"mistralai/Mistral-7B-Instruct-v0.1\"\n",
    "\n",
    "# The instruction dataset to use\n",
    "#dataset_name = \"\"\n",
    "\n",
    "# Fine-tuned model name\n",
    "#new_model = \"mistral-ft-peft-on-template_and_user_query-data\""
   ]
  },
  {
   "cell_type": "code",
   "execution_count": 16,
   "id": "7f2ceeb8",
   "metadata": {},
   "outputs": [],
   "source": [
    "################################################################################\n",
    "# QLoRA parameters\n",
    "################################################################################\n",
    "\n",
    "# LoRA attention dimension\n",
    "lora_r = 64\n",
    "\n",
    "# Alpha parameter for LoRA scaling\n",
    "lora_alpha = 16\n",
    "\n",
    "# Dropout probability for LoRA layers\n",
    "lora_dropout = 0.1"
   ]
  },
  {
   "cell_type": "code",
   "execution_count": 17,
   "id": "f83e1317",
   "metadata": {},
   "outputs": [],
   "source": [
    "################################################################################\n",
    "# bitsandbytes parameters\n",
    "################################################################################\n",
    "\n",
    "# Activate 4-bit precision base model loading\n",
    "use_4bit = True\n",
    "\n",
    "# Compute dtype for 4-bit base models\n",
    "bnb_4bit_compute_dtype = \"float16\"\n",
    "\n",
    "# Quantization type (fp4 or nf4)\n",
    "bnb_4bit_quant_type = \"nf4\"\n",
    "\n",
    "# Activate nested quantization for 4-bit base models (double quantization)\n",
    "use_nested_quant = True"
   ]
  },
  {
   "cell_type": "code",
   "execution_count": 18,
   "id": "6b95b0ea",
   "metadata": {},
   "outputs": [],
   "source": [
    "################################################################################\n",
    "# TrainingArguments parameters\n",
    "################################################################################\n",
    "\n",
    "# Output directory where the model predictions and checkpoints will be stored\n",
    "output_dir = \"/data/mistral/query-to-mql/oct-19\"\n",
    "\n",
    "# Number of training epochs\n",
    "num_train_epochs = 15\n",
    "\n",
    "# Enable fp16/bf16 training (set bf16 to True with an A100)\n",
    "# fp16 = False\n",
    "fp16 = True # not using quantisation\n",
    "bf16 = False\n",
    "\n",
    "# Batch size per GPU for training\n",
    "per_device_train_batch_size = 8\n",
    "\n",
    "# Batch size per GPU for evaluation\n",
    "per_device_eval_batch_size = 8\n",
    "\n",
    "# Number of update steps to accumulate the gradients for\n",
    "gradient_accumulation_steps = 1\n",
    "\n",
    "# Enable gradient checkpointing\n",
    "gradient_checkpointing = True\n",
    "\n",
    "\n",
    "# Maximum gradient normal (gradient clipping)\n",
    "max_grad_norm = 0.3\n",
    "\n",
    "# Initial learning rate (AdamW optimizer)\n",
    "learning_rate = 2e-4\n",
    "\n",
    "# Weight decay to apply to all layers except bias/LayerNorm weights\n",
    "weight_decay = 0.001\n",
    "\n",
    "# Optimizer to use\n",
    "optim = \"paged_adamw_32bit\"\n",
    "\n",
    "# Learning rate schedule (constant a bit better than cosine)\n",
    "lr_scheduler_type = \"constant\"\n",
    "\n",
    "# Number of training steps (overrides num_train_epochs)\n",
    "max_steps = 1000\n",
    "\n",
    "# Ratio of steps for a linear warmup (from 0 to learning rate)\n",
    "warmup_ratio = 0.03\n",
    "\n",
    "# Group sequences into batches with same length\n",
    "# Saves memory and speeds up training considerably\n",
    "group_by_length = True\n",
    "\n",
    "# Save checkpoint every X updates steps\n",
    "save_steps = 200\n",
    "\n",
    "# Log every X updates steps\n",
    "logging_steps = 200"
   ]
  },
  {
   "cell_type": "code",
   "execution_count": 19,
   "id": "fd83a980",
   "metadata": {},
   "outputs": [],
   "source": [
    "################################################################################\n",
    "# SFT parameters\n",
    "################################################################################\n",
    "\n",
    "# Maximum sequence length to use\n",
    "max_seq_length = None\n",
    "\n",
    "# Pack multiple short examples in the same input sequence to increase efficiency\n",
    "packing = False\n",
    "\n",
    "# Load the entire model on the GPU 0\n",
    "device_map = {\"\": 0}"
   ]
  },
  {
   "cell_type": "code",
   "execution_count": 21,
   "id": "33b17057",
   "metadata": {},
   "outputs": [],
   "source": [
    "promt_template_v1 = \"\"\"<s>[INST]<<SYS>>\n",
    "You are an assistant that helps to map the user question to the a particular JSON format which contains info asked by user and also maps it the below CONTEXT. You might also need to act as a time tagger expert to convert the date elements present in the question to a standard format and to find possible date ranges for the same.\n",
    "\n",
    "CONTEXT:{context}\n",
    "\n",
    "Step 1: Identify the n-grams match between question and context\n",
    "\n",
    "        Map the n-gram or their lemma or their inflections from the question with the values in the passed context.\n",
    "        Always consider the longest n-gram match, not the sub-string.\n",
    "        If there are multiple matches for an n-gram with context, return all such ENTITY in response.\n",
    "        If you are returning any match which is not exactly present with the context, make sure that it is a noun phrase and there is a high similarity between the match and the matched value in context. \n",
    "\n",
    "\n",
    "Step 2: Applying time tagger rules only if time elements are present in question\n",
    "\n",
    "        Identify the TIME ELEMENTS in the input question and convert it to a standard format (if not already) by applying the general time tagging rules. If the TIME ELEMENT is already in a standard format, then no need to convert it.\n",
    "        TIME ELEMENT can be either a temporal interval (across months, yoy, mom, qoq, wow, quarterly etc.) or a temporal expression (time points such as specific dates, relative expressions etc.).\n",
    "        Calculate date range for each time points based on the following conditions:\n",
    "        1. For relative time expressions, calculate the date range based on a reference date - By default the reference date is the end_date in date input: {date_input}\n",
    "        2. To calculate the date range for \"last X years\", strictly follow below conditions:\n",
    "                For \"last 1 year\", consider exactly one year before the reference year and set start date as January 1 and end date as Decemebr 31 of that year.\n",
    "                For \"last X years\", where X is greater than 1, consider starting year = (reference year - X+1) and set start date as January 1 of starting year and end date as the reference date.\n",
    "        3. To calculate the date range for \"last X months\", strictly follow below conditions:\n",
    "                Consider reference month as the month in reference date.\n",
    "                For \"last 1 month\", consider exactly one month before the reference month and set start date as first day and end date as last day of that month.\n",
    "                For \"last X months\", where X is greater than 1, consider starting month = (reference month - X+1) and set start date as first day of starting month and end date as the reference date. (Example: if reference date is 14/09/2022, then last 3 months = 01/07/2022 - 14/09/2022)\n",
    "        4. To calculate the date range for \"last X quarters\", strictly follow below conditions:\n",
    "                For \"last 1 quarter\", consider exactly one quarter before the reference quarter and set start date as first day and end date as last day of that quarter .\n",
    "                For \"last X quarter\", where X is greater than 1, consider starting quarter = (reference quarter - X+1) and set start date as first day of starting quarter and end date as the reference date.\n",
    "        5. To calculate the date range for \"last X weeks\", strictly follow the below conditions:\n",
    "                Consider reference week as the week in reference week.\n",
    "                For \"last 1 week\", set start date as Monday and end date as Sunday of the previous week of reference week. (Example: if reference date is 14/09/2022, then last week = 05/09/2022 - 11/09/2022)\n",
    "                For \"last X weeks\", set start date as Monday of reference week and set start date as the Monday of that week and end date as reference date. \n",
    "        6. Provide the date range of each time point in \"start date - end date\" format always.\n",
    "\n",
    "<</SYS>>\n",
    "User question is : {user_query}\n",
    "\n",
    "Converted JSON is as shown below: \n",
    "[/INST]\n",
    "[MQL]\n",
    "{mql}\n",
    "[/MQL]</s>\"\"\""
   ]
  },
  {
   "cell_type": "code",
   "execution_count": 22,
   "id": "50d534e7",
   "metadata": {},
   "outputs": [
    {
     "data": {
      "text/plain": [
       "Index(['query', 'mql', 'account_id', 'metadata', 'measure', 'dimension',\n",
       "       'derived_measure', 'date', 'metadata_none_removed'],\n",
       "      dtype='object')"
      ]
     },
     "execution_count": 22,
     "metadata": {},
     "output_type": "execute_result"
    }
   ],
   "source": [
    "df.columns"
   ]
  },
  {
   "cell_type": "code",
   "execution_count": 23,
   "id": "6cf84e69",
   "metadata": {},
   "outputs": [
    {
     "data": {
      "text/plain": [
       "[{'measure': 'PROFIT', 'measure_label': 'Profit in Dollars'},\n",
       " {'date': 'AFS_SHIFT_DATE_START', 'date_label': 'Shift Date Start'}]"
      ]
     },
     "execution_count": 23,
     "metadata": {},
     "output_type": "execute_result"
    }
   ],
   "source": [
    "eval(df['metadata_none_removed'][0])"
   ]
  },
  {
   "cell_type": "code",
   "execution_count": 24,
   "id": "04906136",
   "metadata": {},
   "outputs": [
    {
     "data": {
      "text/plain": [
       "0                                          trend of profit\n",
       "1                                  profit in next 3 months\n",
       "2                           why profit change in july 2022\n",
       "3                            why profit change in aug 2022\n",
       "4                 why did scheduled hours increase in 2022\n",
       "                               ...                        \n",
       "17329    how many provider ids having worked shift grea...\n",
       "17330    how many provider ids having worked shift grea...\n",
       "17331    how many provider ids having worked shift grea...\n",
       "17332    facilities having unfilled shifts greater than 20\n",
       "17333    facilities having unfilled shifts greater than 20\n",
       "Name: query, Length: 17334, dtype: object"
      ]
     },
     "execution_count": 24,
     "metadata": {},
     "output_type": "execute_result"
    }
   ],
   "source": [
    "df['query']"
   ]
  },
  {
   "cell_type": "code",
   "execution_count": 25,
   "id": "78a95227",
   "metadata": {},
   "outputs": [],
   "source": [
    "def create_fine_tuning_dataset(row):\n",
    "    mql = eval(row['mql'])[0]['mql']\n",
    "    user_query = row['query']\n",
    "    date_input = {\"start_date\": \"01/01/2020\", \"end_date\": \"15/09/2023\"}\n",
    "    context = row['metadata_none_removed']\n",
    "    formated = promt_template_v1.format(context=context,\n",
    "                                        date_input = date_input,\n",
    "                                        user_query=user_query,\n",
    "                                        mql=mql)\n",
    "    return formated"
   ]
  },
  {
   "cell_type": "code",
   "execution_count": 26,
   "id": "d6859de9",
   "metadata": {},
   "outputs": [
    {
     "name": "stderr",
     "output_type": "stream",
     "text": [
      "<ipython-input-26-18e0cd2d1333>:1: SettingWithCopyWarning: \n",
      "A value is trying to be set on a copy of a slice from a DataFrame.\n",
      "Try using .loc[row_indexer,col_indexer] = value instead\n",
      "\n",
      "See the caveats in the documentation: https://pandas.pydata.org/pandas-docs/stable/user_guide/indexing.html#returning-a-view-versus-a-copy\n",
      "  train_df['fine_tuning_dataset']=train_df.apply(create_fine_tuning_dataset, axis=1)\n"
     ]
    }
   ],
   "source": [
    "train_df['fine_tuning_dataset']=train_df.apply(create_fine_tuning_dataset, axis=1)"
   ]
  },
  {
   "cell_type": "code",
   "execution_count": 27,
   "id": "8c4fcb76",
   "metadata": {},
   "outputs": [],
   "source": [
    "val_df['fine_tuning_dataset']=val_df.apply(create_fine_tuning_dataset, axis=1)"
   ]
  },
  {
   "cell_type": "code",
   "execution_count": 28,
   "id": "0550eb5e",
   "metadata": {},
   "outputs": [
    {
     "data": {
      "text/plain": [
       "(1000, 10)"
      ]
     },
     "execution_count": 28,
     "metadata": {},
     "output_type": "execute_result"
    }
   ],
   "source": [
    "train_df.shape"
   ]
  },
  {
   "cell_type": "code",
   "execution_count": 29,
   "id": "8af15320",
   "metadata": {},
   "outputs": [],
   "source": [
    "train_df = train_df[['fine_tuning_dataset']]"
   ]
  },
  {
   "cell_type": "code",
   "execution_count": 30,
   "id": "ffaf5ffa",
   "metadata": {},
   "outputs": [
    {
     "data": {
      "text/plain": [
       "(1000, 1)"
      ]
     },
     "execution_count": 30,
     "metadata": {},
     "output_type": "execute_result"
    }
   ],
   "source": [
    "train_df.shape"
   ]
  },
  {
   "cell_type": "code",
   "execution_count": 31,
   "id": "2e5f8b69",
   "metadata": {},
   "outputs": [
    {
     "data": {
      "text/plain": [
       "(16360, 1)"
      ]
     },
     "execution_count": 31,
     "metadata": {},
     "output_type": "execute_result"
    }
   ],
   "source": [
    "val_df = val_df[['fine_tuning_dataset']]\n",
    "val_df.shape"
   ]
  },
  {
   "cell_type": "code",
   "execution_count": 32,
   "id": "50718542",
   "metadata": {},
   "outputs": [],
   "source": [
    "val_df.reset_index(inplace=True)\n",
    "train_df.reset_index(inplace=True)"
   ]
  },
  {
   "cell_type": "code",
   "execution_count": 33,
   "id": "0f4c4086",
   "metadata": {},
   "outputs": [],
   "source": [
    "train_dataset = Dataset.from_pandas(train_df)\n",
    "val_dataset = Dataset.from_pandas(val_df)"
   ]
  },
  {
   "cell_type": "code",
   "execution_count": 34,
   "id": "af0efa36",
   "metadata": {},
   "outputs": [
    {
     "data": {
      "text/plain": [
       "Dataset({\n",
       "    features: ['index', 'fine_tuning_dataset'],\n",
       "    num_rows: 1000\n",
       "})"
      ]
     },
     "execution_count": 34,
     "metadata": {},
     "output_type": "execute_result"
    }
   ],
   "source": [
    "train_dataset"
   ]
  },
  {
   "cell_type": "code",
   "execution_count": 35,
   "id": "555e910f",
   "metadata": {
    "scrolled": true
   },
   "outputs": [
    {
     "data": {
      "text/plain": [
       "Dataset({\n",
       "    features: ['index', 'fine_tuning_dataset'],\n",
       "    num_rows: 16360\n",
       "})"
      ]
     },
     "execution_count": 35,
     "metadata": {},
     "output_type": "execute_result"
    }
   ],
   "source": [
    "val_dataset"
   ]
  },
  {
   "cell_type": "code",
   "execution_count": 36,
   "id": "68cc3cf7",
   "metadata": {},
   "outputs": [],
   "source": [
    "# Load tokenizer and model with QLoRA configuration\n",
    "compute_dtype = getattr(torch, bnb_4bit_compute_dtype)\n",
    "\n",
    "bnb_config = BitsAndBytesConfig(\n",
    "    load_in_4bit=use_4bit,\n",
    "    bnb_4bit_quant_type=bnb_4bit_quant_type,\n",
    "    bnb_4bit_compute_dtype=compute_dtype,\n",
    "    bnb_4bit_use_double_quant=use_nested_quant,\n",
    ")"
   ]
  },
  {
   "cell_type": "code",
   "execution_count": 37,
   "id": "ed25c775",
   "metadata": {},
   "outputs": [
    {
     "data": {
      "text/plain": [
       "'nf4'"
      ]
     },
     "execution_count": 37,
     "metadata": {},
     "output_type": "execute_result"
    }
   ],
   "source": [
    "bnb_4bit_quant_type"
   ]
  },
  {
   "cell_type": "code",
   "execution_count": 38,
   "id": "6664ecee",
   "metadata": {},
   "outputs": [
    {
     "data": {
      "text/plain": [
       "torch.float16"
      ]
     },
     "execution_count": 38,
     "metadata": {},
     "output_type": "execute_result"
    }
   ],
   "source": [
    "compute_dtype"
   ]
  },
  {
   "cell_type": "code",
   "execution_count": 39,
   "id": "8e2c3788",
   "metadata": {},
   "outputs": [],
   "source": [
    "# Check GPU compatibility with bfloat16\n",
    "if compute_dtype == torch.float16 and use_4bit:\n",
    "    major, _ = torch.cuda.get_device_capability()\n",
    "    if major >= 8:\n",
    "        print(\"=\" * 80)\n",
    "        print(\"Your GPU supports bfloat16: accelerate training with bf16=True\")\n",
    "        print(\"=\" * 80)"
   ]
  },
  {
   "cell_type": "code",
   "execution_count": 40,
   "id": "a38e3e5d",
   "metadata": {},
   "outputs": [],
   "source": [
    "model_name = \"mistralai/Mistral-7B-Instruct-v0.1\""
   ]
  },
  {
   "cell_type": "code",
   "execution_count": 41,
   "id": "0f49a0ae",
   "metadata": {
    "slideshow": {
     "slide_type": "-"
    }
   },
   "outputs": [
    {
     "name": "stdout",
     "output_type": "stream",
     "text": [
      "Collecting pynvml\n",
      "\u001b[?25l  Downloading https://files.pythonhosted.org/packages/5b/9c/adb8070059caaa15d5a572b66bccd95900d8c1b9fa54d6ecea6ae97448d1/pynvml-11.5.0-py3-none-any.whl (53kB)\n",
      "\u001b[K     |████████████████████████████████| 61kB 5.6MB/s eta 0:00:011\n",
      "\u001b[?25hInstalling collected packages: pynvml\n",
      "Successfully installed pynvml-11.5.0\n"
     ]
    }
   ],
   "source": [
    "!sudo pip install pynvml"
   ]
  },
  {
   "cell_type": "code",
   "execution_count": 42,
   "id": "e994711a",
   "metadata": {},
   "outputs": [
    {
     "data": {
      "text/plain": [
       "{'gpu': [{'fb_memory_usage': {'total': 16384.0,\n",
       "    'free': 15972.9375,\n",
       "    'unit': 'MiB'}}]}"
      ]
     },
     "execution_count": 42,
     "metadata": {},
     "output_type": "execute_result"
    }
   ],
   "source": [
    "from pynvml.smi import nvidia_smi\n",
    "nvsmi = nvidia_smi.getInstance()\n",
    "nvsmi.DeviceQuery('memory.free, memory.total')"
   ]
  },
  {
   "cell_type": "code",
   "execution_count": 35,
   "id": "eec98fb5",
   "metadata": {
    "scrolled": true
   },
   "outputs": [],
   "source": [
    "#!df -H"
   ]
  },
  {
   "cell_type": "code",
   "execution_count": 118,
   "id": "7ca0d0d1",
   "metadata": {},
   "outputs": [],
   "source": [
    "# del model\n",
    "# torch.cuda.empty_cache()"
   ]
  },
  {
   "cell_type": "code",
   "execution_count": 43,
   "id": "ba0a15e6",
   "metadata": {},
   "outputs": [
    {
     "data": {
      "application/vnd.jupyter.widget-view+json": {
       "model_id": "745d1a294756424bbe8e0ff83a1acab2",
       "version_major": 2,
       "version_minor": 0
      },
      "text/plain": [
       "Loading checkpoint shards:   0%|          | 0/2 [00:00<?, ?it/s]"
      ]
     },
     "metadata": {},
     "output_type": "display_data"
    }
   ],
   "source": [
    "# Load base model\n",
    "model = AutoModelForCausalLM.from_pretrained(\n",
    "    model_name,\n",
    "    quantization_config=bnb_config,\n",
    "#     torch_dtype=torch.bfloat16,\n",
    "    device_map=\"auto\"\n",
    ")\n",
    "model.config.use_cache = False\n",
    "model.config.pretraining_tp = 1"
   ]
  },
  {
   "cell_type": "code",
   "execution_count": 44,
   "id": "ef60f964",
   "metadata": {},
   "outputs": [],
   "source": [
    "# Load LLaMA tokenizer\n",
    "tokenizer = AutoTokenizer.from_pretrained(model_name, trust_remote_code=True,\n",
    "                                          # add_eos_token=True,\n",
    "                                          use_fast=False)\n",
    "tokenizer.pad_token = tokenizer.eos_token\n",
    "tokenizer.padding_side = \"right\""
   ]
  },
  {
   "cell_type": "code",
   "execution_count": null,
   "id": "a785744a",
   "metadata": {},
   "outputs": [],
   "source": []
  },
  {
   "cell_type": "code",
   "execution_count": 46,
   "id": "a6716c5d",
   "metadata": {},
   "outputs": [
    {
     "data": {
      "text/plain": [
       "2094"
      ]
     },
     "execution_count": 46,
     "metadata": {},
     "output_type": "execute_result"
    }
   ],
   "source": [
    "max([len(tokenizer.encode(train_df['fine_tuning_dataset'][i])) for i in range(1000)])"
   ]
  },
  {
   "cell_type": "code",
   "execution_count": 48,
   "id": "5fc5bf25",
   "metadata": {
    "scrolled": true
   },
   "outputs": [
    {
     "data": {
      "text/plain": [
       "{'index': [0,\n",
       "  1,\n",
       "  2,\n",
       "  4,\n",
       "  5,\n",
       "  6,\n",
       "  7,\n",
       "  8,\n",
       "  9,\n",
       "  10,\n",
       "  11,\n",
       "  12,\n",
       "  13,\n",
       "  14,\n",
       "  15,\n",
       "  16,\n",
       "  17,\n",
       "  18,\n",
       "  19,\n",
       "  20,\n",
       "  21,\n",
       "  22,\n",
       "  23,\n",
       "  24,\n",
       "  25,\n",
       "  26,\n",
       "  27,\n",
       "  28,\n",
       "  29,\n",
       "  30,\n",
       "  31,\n",
       "  32,\n",
       "  33,\n",
       "  34,\n",
       "  35,\n",
       "  36,\n",
       "  37,\n",
       "  38,\n",
       "  39,\n",
       "  41,\n",
       "  42,\n",
       "  43,\n",
       "  44,\n",
       "  45,\n",
       "  46,\n",
       "  47,\n",
       "  48,\n",
       "  49,\n",
       "  50,\n",
       "  51,\n",
       "  52,\n",
       "  53,\n",
       "  54,\n",
       "  55,\n",
       "  56,\n",
       "  58,\n",
       "  59,\n",
       "  60,\n",
       "  61,\n",
       "  62,\n",
       "  63,\n",
       "  65,\n",
       "  66,\n",
       "  67,\n",
       "  68,\n",
       "  69,\n",
       "  70,\n",
       "  71,\n",
       "  72,\n",
       "  73,\n",
       "  74,\n",
       "  75,\n",
       "  76,\n",
       "  77,\n",
       "  78,\n",
       "  79,\n",
       "  80,\n",
       "  81,\n",
       "  82,\n",
       "  83,\n",
       "  84,\n",
       "  85,\n",
       "  86,\n",
       "  87,\n",
       "  88,\n",
       "  89,\n",
       "  90,\n",
       "  92,\n",
       "  93,\n",
       "  94,\n",
       "  95,\n",
       "  96,\n",
       "  97,\n",
       "  98,\n",
       "  99,\n",
       "  100,\n",
       "  101,\n",
       "  102,\n",
       "  103,\n",
       "  104],\n",
       " 'fine_tuning_dataset': ['<s>[INST]<<SYS>>\\nYou are an assistant that helps to map the user question to the a particular JSON format which contains info asked by user and also maps it the below CONTEXT. You might also need to act as a time tagger expert to convert the date elements present in the question to a standard format and to find possible date ranges for the same.\\n\\nCONTEXT:[{\\'measure\\': \\'PROFIT\\', \\'measure_label\\': \\'Profit in Dollars\\'}, {\\'date\\': \\'AFS_SHIFT_DATE_START\\', \\'date_label\\': \\'Shift Date Start\\'}]\\n\\nStep 1: Identify the n-grams match between question and context\\n\\n        Map the n-gram or their lemma or their inflections from the question with the values in the passed context.\\n        Always consider the longest n-gram match, not the sub-string.\\n        If there are multiple matches for an n-gram with context, return all such ENTITY in response.\\n        If you are returning any match which is not exactly present with the context, make sure that it is a noun phrase and there is a high similarity between the match and the matched value in context. \\n\\n\\nStep 2: Applying time tagger rules only if time elements are present in question\\n\\n        Identify the TIME ELEMENTS in the input question and convert it to a standard format (if not already) by applying the general time tagging rules. If the TIME ELEMENT is already in a standard format, then no need to convert it.\\n        TIME ELEMENT can be either a temporal interval (across months, yoy, mom, qoq, wow, quarterly etc.) or a temporal expression (time points such as specific dates, relative expressions etc.).\\n        Calculate date range for each time points based on the following conditions:\\n        1. For relative time expressions, calculate the date range based on a reference date - By default the reference date is the end_date in date input: {\\'start_date\\': \\'01/01/2020\\', \\'end_date\\': \\'15/09/2023\\'}\\n        2. To calculate the date range for \"last X years\", strictly follow below conditions:\\n                For \"last 1 year\", consider exactly one year before the reference year and set start date as January 1 and end date as Decemebr 31 of that year.\\n                For \"last X years\", where X is greater than 1, consider starting year = (reference year - X+1) and set start date as January 1 of starting year and end date as the reference date.\\n        3. To calculate the date range for \"last X months\", strictly follow below conditions:\\n                Consider reference month as the month in reference date.\\n                For \"last 1 month\", consider exactly one month before the reference month and set start date as first day and end date as last day of that month.\\n                For \"last X months\", where X is greater than 1, consider starting month = (reference month - X+1) and set start date as first day of starting month and end date as the reference date. (Example: if reference date is 14/09/2022, then last 3 months = 01/07/2022 - 14/09/2022)\\n        4. To calculate the date range for \"last X quarters\", strictly follow below conditions:\\n                For \"last 1 quarter\", consider exactly one quarter before the reference quarter and set start date as first day and end date as last day of that quarter .\\n                For \"last X quarter\", where X is greater than 1, consider starting quarter = (reference quarter - X+1) and set start date as first day of starting quarter and end date as the reference date.\\n        5. To calculate the date range for \"last X weeks\", strictly follow the below conditions:\\n                Consider reference week as the week in reference week.\\n                For \"last 1 week\", set start date as Monday and end date as Sunday of the previous week of reference week. (Example: if reference date is 14/09/2022, then last week = 05/09/2022 - 11/09/2022)\\n                For \"last X weeks\", set start date as Monday of reference week and set start date as the Monday of that week and end date as reference date. \\n        6. Provide the date range of each time point in \"start date - end date\" format always.\\n\\n<</SYS>>\\nUser question is : trend of profit\\n\\nConverted JSON is as shown below: \\n[/INST]\\n[MQL]\\n[{\\'measure\\': {\\'profit\\': {\\'PROFIT\\': {\\'label\\': \\'Profit in Dollars\\', \\'order\\': \\'desc\\', \\'operator\\': \\'sum\\'}}}, \\'date\\': {\\'trend\\': {\\'AFS_SHIFT_DATE_START\\': {\\'label\\': \\'Shift Date Start\\', \\'operator\\': \\'histogram\\', \\'interval\\': \\'month\\', \\'order\\': \\'asc\\'}}}, \\'query_type\\': \\'aggregation\\', \\'db_type\\': \\'activity\\', \\'type\\': \\'transaction\\', \\'weight\\': 0.7375, \\'id\\': \\'leni_633b04ad96687f0001250001_f441e35947d9490a90c796dc05213dc8_0\\', \\'trigger_forecast\\': False, \\'trend_present\\': True, \\'forecast_intent_present\\': False, \\'date_conf\\': \\'Latest Record Date\\', \\'dataset_id\\': \\'63510a2ec778a70001dae8de\\', \\'version\\': 61}]\\n[/MQL]</s>',\n",
       "  '<s>[INST]<<SYS>>\\nYou are an assistant that helps to map the user question to the a particular JSON format which contains info asked by user and also maps it the below CONTEXT. You might also need to act as a time tagger expert to convert the date elements present in the question to a standard format and to find possible date ranges for the same.\\n\\nCONTEXT:[{\\'measure\\': \\'PROFIT\\', \\'measure_label\\': \\'Profit in Dollars\\'}, {\\'date\\': \\'AFS_SHIFT_DATE_START\\', \\'date_label\\': \\'Shift Date Start\\'}]\\n\\nStep 1: Identify the n-grams match between question and context\\n\\n        Map the n-gram or their lemma or their inflections from the question with the values in the passed context.\\n        Always consider the longest n-gram match, not the sub-string.\\n        If there are multiple matches for an n-gram with context, return all such ENTITY in response.\\n        If you are returning any match which is not exactly present with the context, make sure that it is a noun phrase and there is a high similarity between the match and the matched value in context. \\n\\n\\nStep 2: Applying time tagger rules only if time elements are present in question\\n\\n        Identify the TIME ELEMENTS in the input question and convert it to a standard format (if not already) by applying the general time tagging rules. If the TIME ELEMENT is already in a standard format, then no need to convert it.\\n        TIME ELEMENT can be either a temporal interval (across months, yoy, mom, qoq, wow, quarterly etc.) or a temporal expression (time points such as specific dates, relative expressions etc.).\\n        Calculate date range for each time points based on the following conditions:\\n        1. For relative time expressions, calculate the date range based on a reference date - By default the reference date is the end_date in date input: {\\'start_date\\': \\'01/01/2020\\', \\'end_date\\': \\'15/09/2023\\'}\\n        2. To calculate the date range for \"last X years\", strictly follow below conditions:\\n                For \"last 1 year\", consider exactly one year before the reference year and set start date as January 1 and end date as Decemebr 31 of that year.\\n                For \"last X years\", where X is greater than 1, consider starting year = (reference year - X+1) and set start date as January 1 of starting year and end date as the reference date.\\n        3. To calculate the date range for \"last X months\", strictly follow below conditions:\\n                Consider reference month as the month in reference date.\\n                For \"last 1 month\", consider exactly one month before the reference month and set start date as first day and end date as last day of that month.\\n                For \"last X months\", where X is greater than 1, consider starting month = (reference month - X+1) and set start date as first day of starting month and end date as the reference date. (Example: if reference date is 14/09/2022, then last 3 months = 01/07/2022 - 14/09/2022)\\n        4. To calculate the date range for \"last X quarters\", strictly follow below conditions:\\n                For \"last 1 quarter\", consider exactly one quarter before the reference quarter and set start date as first day and end date as last day of that quarter .\\n                For \"last X quarter\", where X is greater than 1, consider starting quarter = (reference quarter - X+1) and set start date as first day of starting quarter and end date as the reference date.\\n        5. To calculate the date range for \"last X weeks\", strictly follow the below conditions:\\n                Consider reference week as the week in reference week.\\n                For \"last 1 week\", set start date as Monday and end date as Sunday of the previous week of reference week. (Example: if reference date is 14/09/2022, then last week = 05/09/2022 - 11/09/2022)\\n                For \"last X weeks\", set start date as Monday of reference week and set start date as the Monday of that week and end date as reference date. \\n        6. Provide the date range of each time point in \"start date - end date\" format always.\\n\\n<</SYS>>\\nUser question is : profit in next 3 months\\n\\nConverted JSON is as shown below: \\n[/INST]\\n[MQL]\\n[{\\'measure\\': {\\'profit\\': {\\'PROFIT\\': {\\'label\\': \\'Profit in Dollars\\', \\'order\\': \\'desc\\', \\'operator\\': \\'sum\\'}}}, \\'date\\': {\\'next 3 months\\': {\\'AFS_SHIFT_DATE_START\\': {\\'label\\': \\'Shift Date Start\\', \\'order\\': \\'asc\\', \\'operator\\': \\'histogram\\', \\'interval\\': \\'month\\'}}}, \\'query_type\\': \\'aggregation\\', \\'db_type\\': \\'activity\\', \\'type\\': \\'transaction\\', \\'weight\\': 0.7437499999999999, \\'id\\': \\'leni_633b04ad96687f0001250001_4dc24a8e68884844abb472ab4eaaab90_0\\', \\'trigger_forecast\\': True, \\'filter\\': {\\'and\\': {\\'range\\': {\\'next 3 months\\': [{\\'gte\\': \\'2022/12/01 00:00:00\\', \\'lte\\': \\'2023/02/28 23:59:59\\'}]}}}, \\'trend_present\\': False, \\'forecast_intent_present\\': True, \\'date_conf\\': \\'Latest Record Date\\', \\'dataset_id\\': \\'63510a2ec778a70001dae8de\\', \\'version\\': 61}]\\n[/MQL]</s>',\n",
       "  '<s>[INST]<<SYS>>\\nYou are an assistant that helps to map the user question to the a particular JSON format which contains info asked by user and also maps it the below CONTEXT. You might also need to act as a time tagger expert to convert the date elements present in the question to a standard format and to find possible date ranges for the same.\\n\\nCONTEXT:[{\\'measure\\': \\'PROFIT\\', \\'measure_label\\': \\'Profit in Dollars\\'}, {\\'date\\': \\'AFS_SHIFT_DATE_START\\', \\'date_label\\': \\'Shift Date Start\\'}]\\n\\nStep 1: Identify the n-grams match between question and context\\n\\n        Map the n-gram or their lemma or their inflections from the question with the values in the passed context.\\n        Always consider the longest n-gram match, not the sub-string.\\n        If there are multiple matches for an n-gram with context, return all such ENTITY in response.\\n        If you are returning any match which is not exactly present with the context, make sure that it is a noun phrase and there is a high similarity between the match and the matched value in context. \\n\\n\\nStep 2: Applying time tagger rules only if time elements are present in question\\n\\n        Identify the TIME ELEMENTS in the input question and convert it to a standard format (if not already) by applying the general time tagging rules. If the TIME ELEMENT is already in a standard format, then no need to convert it.\\n        TIME ELEMENT can be either a temporal interval (across months, yoy, mom, qoq, wow, quarterly etc.) or a temporal expression (time points such as specific dates, relative expressions etc.).\\n        Calculate date range for each time points based on the following conditions:\\n        1. For relative time expressions, calculate the date range based on a reference date - By default the reference date is the end_date in date input: {\\'start_date\\': \\'01/01/2020\\', \\'end_date\\': \\'15/09/2023\\'}\\n        2. To calculate the date range for \"last X years\", strictly follow below conditions:\\n                For \"last 1 year\", consider exactly one year before the reference year and set start date as January 1 and end date as Decemebr 31 of that year.\\n                For \"last X years\", where X is greater than 1, consider starting year = (reference year - X+1) and set start date as January 1 of starting year and end date as the reference date.\\n        3. To calculate the date range for \"last X months\", strictly follow below conditions:\\n                Consider reference month as the month in reference date.\\n                For \"last 1 month\", consider exactly one month before the reference month and set start date as first day and end date as last day of that month.\\n                For \"last X months\", where X is greater than 1, consider starting month = (reference month - X+1) and set start date as first day of starting month and end date as the reference date. (Example: if reference date is 14/09/2022, then last 3 months = 01/07/2022 - 14/09/2022)\\n        4. To calculate the date range for \"last X quarters\", strictly follow below conditions:\\n                For \"last 1 quarter\", consider exactly one quarter before the reference quarter and set start date as first day and end date as last day of that quarter .\\n                For \"last X quarter\", where X is greater than 1, consider starting quarter = (reference quarter - X+1) and set start date as first day of starting quarter and end date as the reference date.\\n        5. To calculate the date range for \"last X weeks\", strictly follow the below conditions:\\n                Consider reference week as the week in reference week.\\n                For \"last 1 week\", set start date as Monday and end date as Sunday of the previous week of reference week. (Example: if reference date is 14/09/2022, then last week = 05/09/2022 - 11/09/2022)\\n                For \"last X weeks\", set start date as Monday of reference week and set start date as the Monday of that week and end date as reference date. \\n        6. Provide the date range of each time point in \"start date - end date\" format always.\\n\\n<</SYS>>\\nUser question is : why profit change in july 2022\\n\\nConverted JSON is as shown below: \\n[/INST]\\n[MQL]\\n[{\\'measure\\': {\\'profit\\': {\\'PROFIT\\': {\\'label\\': \\'Profit in Dollars\\', \\'order\\': \\'desc\\', \\'operator\\': \\'sum\\'}}}, \\'date\\': {\\'july 2022\\': {\\'AFS_SHIFT_DATE_START\\': {\\'label\\': \\'Shift Date Start\\', \\'order\\': \\'asc\\', \\'operator\\': \\'range\\', \\'ranges\\': [{\\'from\\': \\'2022/07/01 00:00:00\\', \\'to\\': \\'2022/07/31 23:59:59\\'}, {\\'from\\': \\'2022/06/01 00:00:00\\', \\'to\\': \\'2022/06/30 23:59:59\\'}], \\'ref_interval\\': \\'month\\'}}}, \\'action\\': {\\'type\\': \\'why_type\\', \\'start_date\\': \\'2021/01/01 00:00:00\\'}, \\'filter\\': {\\'and\\': {\\'range\\': {\\'july 2022\\': [{\\'gte\\': \\'2022/07/01 00:00:00\\', \\'lte\\': \\'2022/07/31 23:59:59\\'}, {\\'gte\\': \\'2022/06/01 00:00:00\\', \\'lte\\': \\'2022/06/30 23:59:59\\'}]}}}, \\'query_type\\': \\'aggregation\\', \\'db_type\\': \\'activity\\', \\'type\\': \\'transaction\\', \\'weight\\': 0.6840277777777777, \\'id\\': \\'leni_633b04ad96687f0001250001_d991c69c5fa448c9a0e8a9c324efe65f_0\\', \\'trend_present\\': False, \\'forecast_intent_present\\': False, \\'date_conf\\': \\'Latest Record Date\\', \\'dataset_id\\': \\'63510a2ec778a70001dae8de\\', \\'version\\': 61}]\\n[/MQL]</s>',\n",
       "  '<s>[INST]<<SYS>>\\nYou are an assistant that helps to map the user question to the a particular JSON format which contains info asked by user and also maps it the below CONTEXT. You might also need to act as a time tagger expert to convert the date elements present in the question to a standard format and to find possible date ranges for the same.\\n\\nCONTEXT:[{\\'measure\\': \\'Opening Hour\\', \\'measure_label\\': \\'Opening Hour\\'}]\\n\\nStep 1: Identify the n-grams match between question and context\\n\\n        Map the n-gram or their lemma or their inflections from the question with the values in the passed context.\\n        Always consider the longest n-gram match, not the sub-string.\\n        If there are multiple matches for an n-gram with context, return all such ENTITY in response.\\n        If you are returning any match which is not exactly present with the context, make sure that it is a noun phrase and there is a high similarity between the match and the matched value in context. \\n\\n\\nStep 2: Applying time tagger rules only if time elements are present in question\\n\\n        Identify the TIME ELEMENTS in the input question and convert it to a standard format (if not already) by applying the general time tagging rules. If the TIME ELEMENT is already in a standard format, then no need to convert it.\\n        TIME ELEMENT can be either a temporal interval (across months, yoy, mom, qoq, wow, quarterly etc.) or a temporal expression (time points such as specific dates, relative expressions etc.).\\n        Calculate date range for each time points based on the following conditions:\\n        1. For relative time expressions, calculate the date range based on a reference date - By default the reference date is the end_date in date input: {\\'start_date\\': \\'01/01/2020\\', \\'end_date\\': \\'15/09/2023\\'}\\n        2. To calculate the date range for \"last X years\", strictly follow below conditions:\\n                For \"last 1 year\", consider exactly one year before the reference year and set start date as January 1 and end date as Decemebr 31 of that year.\\n                For \"last X years\", where X is greater than 1, consider starting year = (reference year - X+1) and set start date as January 1 of starting year and end date as the reference date.\\n        3. To calculate the date range for \"last X months\", strictly follow below conditions:\\n                Consider reference month as the month in reference date.\\n                For \"last 1 month\", consider exactly one month before the reference month and set start date as first day and end date as last day of that month.\\n                For \"last X months\", where X is greater than 1, consider starting month = (reference month - X+1) and set start date as first day of starting month and end date as the reference date. (Example: if reference date is 14/09/2022, then last 3 months = 01/07/2022 - 14/09/2022)\\n        4. To calculate the date range for \"last X quarters\", strictly follow below conditions:\\n                For \"last 1 quarter\", consider exactly one quarter before the reference quarter and set start date as first day and end date as last day of that quarter .\\n                For \"last X quarter\", where X is greater than 1, consider starting quarter = (reference quarter - X+1) and set start date as first day of starting quarter and end date as the reference date.\\n        5. To calculate the date range for \"last X weeks\", strictly follow the below conditions:\\n                Consider reference week as the week in reference week.\\n                For \"last 1 week\", set start date as Monday and end date as Sunday of the previous week of reference week. (Example: if reference date is 14/09/2022, then last week = 05/09/2022 - 11/09/2022)\\n                For \"last X weeks\", set start date as Monday of reference week and set start date as the Monday of that week and end date as reference date. \\n        6. Provide the date range of each time point in \"start date - end date\" format always.\\n\\n<</SYS>>\\nUser question is : why did scheduled hours increase in 2022\\n\\nConverted JSON is as shown below: \\n[/INST]\\n[MQL]\\n[{\\'measure\\': {\\'scheduled hours\\': {\\'Opening Hour\\': {\\'label\\': \\'Opening Hour\\', \\'order\\': \\'desc\\'}}}, \\'filter\\': {\\'and\\': {\\'range\\': {\\'2022\\': [{\\'gte\\': \\'2022/01/01 00:00:00\\', \\'lte\\': \\'2022/11/13 23:59:59\\'}]}}}, \\'query_type\\': \\'aggregation\\', \\'db_type\\': \\'activity\\', \\'type\\': \\'transaction\\', \\'weight\\': 0.8666666666666667, \\'id\\': \\'leni_633b04ad96687f0001250001_a9bcd0cae4a14693966a2cc90f763a05_0\\', \\'trigger_forecast\\': False, \\'trend_present\\': False, \\'forecast_intent_present\\': False, \\'date_conf\\': \\'Latest Record Date\\', \\'dataset_id\\': \\'63510a2ec778a70001dae8de\\', \\'version\\': 61}]\\n[/MQL]</s>',\n",
       "  '<s>[INST]<<SYS>>\\nYou are an assistant that helps to map the user question to the a particular JSON format which contains info asked by user and also maps it the below CONTEXT. You might also need to act as a time tagger expert to convert the date elements present in the question to a standard format and to find possible date ranges for the same.\\n\\nCONTEXT:[{\\'measure\\': \\'Opening Hour\\', \\'measure_label\\': \\'Opening Hour\\'}]\\n\\nStep 1: Identify the n-grams match between question and context\\n\\n        Map the n-gram or their lemma or their inflections from the question with the values in the passed context.\\n        Always consider the longest n-gram match, not the sub-string.\\n        If there are multiple matches for an n-gram with context, return all such ENTITY in response.\\n        If you are returning any match which is not exactly present with the context, make sure that it is a noun phrase and there is a high similarity between the match and the matched value in context. \\n\\n\\nStep 2: Applying time tagger rules only if time elements are present in question\\n\\n        Identify the TIME ELEMENTS in the input question and convert it to a standard format (if not already) by applying the general time tagging rules. If the TIME ELEMENT is already in a standard format, then no need to convert it.\\n        TIME ELEMENT can be either a temporal interval (across months, yoy, mom, qoq, wow, quarterly etc.) or a temporal expression (time points such as specific dates, relative expressions etc.).\\n        Calculate date range for each time points based on the following conditions:\\n        1. For relative time expressions, calculate the date range based on a reference date - By default the reference date is the end_date in date input: {\\'start_date\\': \\'01/01/2020\\', \\'end_date\\': \\'15/09/2023\\'}\\n        2. To calculate the date range for \"last X years\", strictly follow below conditions:\\n                For \"last 1 year\", consider exactly one year before the reference year and set start date as January 1 and end date as Decemebr 31 of that year.\\n                For \"last X years\", where X is greater than 1, consider starting year = (reference year - X+1) and set start date as January 1 of starting year and end date as the reference date.\\n        3. To calculate the date range for \"last X months\", strictly follow below conditions:\\n                Consider reference month as the month in reference date.\\n                For \"last 1 month\", consider exactly one month before the reference month and set start date as first day and end date as last day of that month.\\n                For \"last X months\", where X is greater than 1, consider starting month = (reference month - X+1) and set start date as first day of starting month and end date as the reference date. (Example: if reference date is 14/09/2022, then last 3 months = 01/07/2022 - 14/09/2022)\\n        4. To calculate the date range for \"last X quarters\", strictly follow below conditions:\\n                For \"last 1 quarter\", consider exactly one quarter before the reference quarter and set start date as first day and end date as last day of that quarter .\\n                For \"last X quarter\", where X is greater than 1, consider starting quarter = (reference quarter - X+1) and set start date as first day of starting quarter and end date as the reference date.\\n        5. To calculate the date range for \"last X weeks\", strictly follow the below conditions:\\n                Consider reference week as the week in reference week.\\n                For \"last 1 week\", set start date as Monday and end date as Sunday of the previous week of reference week. (Example: if reference date is 14/09/2022, then last week = 05/09/2022 - 11/09/2022)\\n                For \"last X weeks\", set start date as Monday of reference week and set start date as the Monday of that week and end date as reference date. \\n        6. Provide the date range of each time point in \"start date - end date\" format always.\\n\\n<</SYS>>\\nUser question is : why did scheduled hours change from may 2022 to july 2022\\n\\nConverted JSON is as shown below: \\n[/INST]\\n[MQL]\\n[{\\'measure\\': {\\'scheduled hours\\': {\\'Opening Hour\\': {\\'label\\': \\'Opening Hour\\', \\'order\\': \\'desc\\'}}}, \\'filter\\': {\\'and\\': {\\'range\\': {\\'from may 2022 to july 2022\\': [{\\'gte\\': \\'2022/05/01 00:00:00\\', \\'lte\\': \\'2022/07/31 23:59:59\\'}]}}}, \\'query_type\\': \\'aggregation\\', \\'db_type\\': \\'activity\\', \\'type\\': \\'transaction\\', \\'weight\\': 0.8666666666666667, \\'id\\': \\'leni_633b04ad96687f0001250001_06fb43fb37a74b2f87303bef63f498aa_0\\', \\'trigger_forecast\\': False, \\'trend_present\\': False, \\'forecast_intent_present\\': False, \\'date_conf\\': \\'Latest Record Date\\', \\'dataset_id\\': \\'63510a2ec778a70001dae8de\\', \\'version\\': 61}]\\n[/MQL]</s>',\n",
       "  '<s>[INST]<<SYS>>\\nYou are an assistant that helps to map the user question to the a particular JSON format which contains info asked by user and also maps it the below CONTEXT. You might also need to act as a time tagger expert to convert the date elements present in the question to a standard format and to find possible date ranges for the same.\\n\\nCONTEXT:[{\\'measure\\': \\'Opening Hour\\', \\'measure_label\\': \\'Opening Hour\\'}]\\n\\nStep 1: Identify the n-grams match between question and context\\n\\n        Map the n-gram or their lemma or their inflections from the question with the values in the passed context.\\n        Always consider the longest n-gram match, not the sub-string.\\n        If there are multiple matches for an n-gram with context, return all such ENTITY in response.\\n        If you are returning any match which is not exactly present with the context, make sure that it is a noun phrase and there is a high similarity between the match and the matched value in context. \\n\\n\\nStep 2: Applying time tagger rules only if time elements are present in question\\n\\n        Identify the TIME ELEMENTS in the input question and convert it to a standard format (if not already) by applying the general time tagging rules. If the TIME ELEMENT is already in a standard format, then no need to convert it.\\n        TIME ELEMENT can be either a temporal interval (across months, yoy, mom, qoq, wow, quarterly etc.) or a temporal expression (time points such as specific dates, relative expressions etc.).\\n        Calculate date range for each time points based on the following conditions:\\n        1. For relative time expressions, calculate the date range based on a reference date - By default the reference date is the end_date in date input: {\\'start_date\\': \\'01/01/2020\\', \\'end_date\\': \\'15/09/2023\\'}\\n        2. To calculate the date range for \"last X years\", strictly follow below conditions:\\n                For \"last 1 year\", consider exactly one year before the reference year and set start date as January 1 and end date as Decemebr 31 of that year.\\n                For \"last X years\", where X is greater than 1, consider starting year = (reference year - X+1) and set start date as January 1 of starting year and end date as the reference date.\\n        3. To calculate the date range for \"last X months\", strictly follow below conditions:\\n                Consider reference month as the month in reference date.\\n                For \"last 1 month\", consider exactly one month before the reference month and set start date as first day and end date as last day of that month.\\n                For \"last X months\", where X is greater than 1, consider starting month = (reference month - X+1) and set start date as first day of starting month and end date as the reference date. (Example: if reference date is 14/09/2022, then last 3 months = 01/07/2022 - 14/09/2022)\\n        4. To calculate the date range for \"last X quarters\", strictly follow below conditions:\\n                For \"last 1 quarter\", consider exactly one quarter before the reference quarter and set start date as first day and end date as last day of that quarter .\\n                For \"last X quarter\", where X is greater than 1, consider starting quarter = (reference quarter - X+1) and set start date as first day of starting quarter and end date as the reference date.\\n        5. To calculate the date range for \"last X weeks\", strictly follow the below conditions:\\n                Consider reference week as the week in reference week.\\n                For \"last 1 week\", set start date as Monday and end date as Sunday of the previous week of reference week. (Example: if reference date is 14/09/2022, then last week = 05/09/2022 - 11/09/2022)\\n                For \"last X weeks\", set start date as Monday of reference week and set start date as the Monday of that week and end date as reference date. \\n        6. Provide the date range of each time point in \"start date - end date\" format always.\\n\\n<</SYS>>\\nUser question is : what is monthly growth of scheduled hours for rn\\n\\nConverted JSON is as shown below: \\n[/INST]\\n[MQL]\\n[{\\'measure\\': {\\'scheduled hours\\': {\\'Opening Hour\\': {\\'label\\': \\'Opening Hour\\', \\'order\\': \\'desc\\'}}}, \\'query_type\\': \\'aggregation\\', \\'db_type\\': \\'activity\\', \\'type\\': \\'transaction\\', \\'weight\\': 0.8666666666666667, \\'id\\': \\'leni_633b04ad96687f0001250001_07b8e131fd3c48a3a7102cad2704f1dd_0\\', \\'trigger_forecast\\': False, \\'trend_present\\': True, \\'forecast_intent_present\\': False, \\'date_conf\\': \\'Latest Record Date\\', \\'dataset_id\\': \\'63510a2ec778a70001dae8de\\', \\'version\\': 61}]\\n[/MQL]</s>',\n",
       "  '<s>[INST]<<SYS>>\\nYou are an assistant that helps to map the user question to the a particular JSON format which contains info asked by user and also maps it the below CONTEXT. You might also need to act as a time tagger expert to convert the date elements present in the question to a standard format and to find possible date ranges for the same.\\n\\nCONTEXT:[{\\'measure\\': \\'Worked Hours\\', \\'measure_label\\': \\'Worked Hours\\'}]\\n\\nStep 1: Identify the n-grams match between question and context\\n\\n        Map the n-gram or their lemma or their inflections from the question with the values in the passed context.\\n        Always consider the longest n-gram match, not the sub-string.\\n        If there are multiple matches for an n-gram with context, return all such ENTITY in response.\\n        If you are returning any match which is not exactly present with the context, make sure that it is a noun phrase and there is a high similarity between the match and the matched value in context. \\n\\n\\nStep 2: Applying time tagger rules only if time elements are present in question\\n\\n        Identify the TIME ELEMENTS in the input question and convert it to a standard format (if not already) by applying the general time tagging rules. If the TIME ELEMENT is already in a standard format, then no need to convert it.\\n        TIME ELEMENT can be either a temporal interval (across months, yoy, mom, qoq, wow, quarterly etc.) or a temporal expression (time points such as specific dates, relative expressions etc.).\\n        Calculate date range for each time points based on the following conditions:\\n        1. For relative time expressions, calculate the date range based on a reference date - By default the reference date is the end_date in date input: {\\'start_date\\': \\'01/01/2020\\', \\'end_date\\': \\'15/09/2023\\'}\\n        2. To calculate the date range for \"last X years\", strictly follow below conditions:\\n                For \"last 1 year\", consider exactly one year before the reference year and set start date as January 1 and end date as Decemebr 31 of that year.\\n                For \"last X years\", where X is greater than 1, consider starting year = (reference year - X+1) and set start date as January 1 of starting year and end date as the reference date.\\n        3. To calculate the date range for \"last X months\", strictly follow below conditions:\\n                Consider reference month as the month in reference date.\\n                For \"last 1 month\", consider exactly one month before the reference month and set start date as first day and end date as last day of that month.\\n                For \"last X months\", where X is greater than 1, consider starting month = (reference month - X+1) and set start date as first day of starting month and end date as the reference date. (Example: if reference date is 14/09/2022, then last 3 months = 01/07/2022 - 14/09/2022)\\n        4. To calculate the date range for \"last X quarters\", strictly follow below conditions:\\n                For \"last 1 quarter\", consider exactly one quarter before the reference quarter and set start date as first day and end date as last day of that quarter .\\n                For \"last X quarter\", where X is greater than 1, consider starting quarter = (reference quarter - X+1) and set start date as first day of starting quarter and end date as the reference date.\\n        5. To calculate the date range for \"last X weeks\", strictly follow the below conditions:\\n                Consider reference week as the week in reference week.\\n                For \"last 1 week\", set start date as Monday and end date as Sunday of the previous week of reference week. (Example: if reference date is 14/09/2022, then last week = 05/09/2022 - 11/09/2022)\\n                For \"last X weeks\", set start date as Monday of reference week and set start date as the Monday of that week and end date as reference date. \\n        6. Provide the date range of each time point in \"start date - end date\" format always.\\n\\n<</SYS>>\\nUser question is : what is monthly growth of worked hours for cna\\n\\nConverted JSON is as shown below: \\n[/INST]\\n[MQL]\\n[{\\'measure\\': {\\'worked hours\\': {\\'Worked Hours\\': {\\'label\\': \\'Worked Hours\\', \\'order\\': \\'desc\\'}}}, \\'query_type\\': \\'aggregation\\', \\'db_type\\': \\'activity\\', \\'type\\': \\'transaction\\', \\'weight\\': 0.8666666666666667, \\'id\\': \\'leni_633b04ad96687f0001250001_1abe0b1d34694fc9a9543d60a6da4415_0\\', \\'trigger_forecast\\': False, \\'trend_present\\': True, \\'forecast_intent_present\\': False, \\'date_conf\\': \\'Latest Record Date\\', \\'dataset_id\\': \\'63510a2ec778a70001dae8de\\', \\'version\\': 61}]\\n[/MQL]</s>',\n",
       "  '<s>[INST]<<SYS>>\\nYou are an assistant that helps to map the user question to the a particular JSON format which contains info asked by user and also maps it the below CONTEXT. You might also need to act as a time tagger expert to convert the date elements present in the question to a standard format and to find possible date ranges for the same.\\n\\nCONTEXT:[{\\'measure\\': \\'Opening Hour\\', \\'measure_label\\': \\'Opening Hour\\'}]\\n\\nStep 1: Identify the n-grams match between question and context\\n\\n        Map the n-gram or their lemma or their inflections from the question with the values in the passed context.\\n        Always consider the longest n-gram match, not the sub-string.\\n        If there are multiple matches for an n-gram with context, return all such ENTITY in response.\\n        If you are returning any match which is not exactly present with the context, make sure that it is a noun phrase and there is a high similarity between the match and the matched value in context. \\n\\n\\nStep 2: Applying time tagger rules only if time elements are present in question\\n\\n        Identify the TIME ELEMENTS in the input question and convert it to a standard format (if not already) by applying the general time tagging rules. If the TIME ELEMENT is already in a standard format, then no need to convert it.\\n        TIME ELEMENT can be either a temporal interval (across months, yoy, mom, qoq, wow, quarterly etc.) or a temporal expression (time points such as specific dates, relative expressions etc.).\\n        Calculate date range for each time points based on the following conditions:\\n        1. For relative time expressions, calculate the date range based on a reference date - By default the reference date is the end_date in date input: {\\'start_date\\': \\'01/01/2020\\', \\'end_date\\': \\'15/09/2023\\'}\\n        2. To calculate the date range for \"last X years\", strictly follow below conditions:\\n                For \"last 1 year\", consider exactly one year before the reference year and set start date as January 1 and end date as Decemebr 31 of that year.\\n                For \"last X years\", where X is greater than 1, consider starting year = (reference year - X+1) and set start date as January 1 of starting year and end date as the reference date.\\n        3. To calculate the date range for \"last X months\", strictly follow below conditions:\\n                Consider reference month as the month in reference date.\\n                For \"last 1 month\", consider exactly one month before the reference month and set start date as first day and end date as last day of that month.\\n                For \"last X months\", where X is greater than 1, consider starting month = (reference month - X+1) and set start date as first day of starting month and end date as the reference date. (Example: if reference date is 14/09/2022, then last 3 months = 01/07/2022 - 14/09/2022)\\n        4. To calculate the date range for \"last X quarters\", strictly follow below conditions:\\n                For \"last 1 quarter\", consider exactly one quarter before the reference quarter and set start date as first day and end date as last day of that quarter .\\n                For \"last X quarter\", where X is greater than 1, consider starting quarter = (reference quarter - X+1) and set start date as first day of starting quarter and end date as the reference date.\\n        5. To calculate the date range for \"last X weeks\", strictly follow the below conditions:\\n                Consider reference week as the week in reference week.\\n                For \"last 1 week\", set start date as Monday and end date as Sunday of the previous week of reference week. (Example: if reference date is 14/09/2022, then last week = 05/09/2022 - 11/09/2022)\\n                For \"last X weeks\", set start date as Monday of reference week and set start date as the Monday of that week and end date as reference date. \\n        6. Provide the date range of each time point in \"start date - end date\" format always.\\n\\n<</SYS>>\\nUser question is : what is trend of scheduled hours in 2022\\n\\nConverted JSON is as shown below: \\n[/INST]\\n[MQL]\\n[{\\'measure\\': {\\'scheduled hours\\': {\\'Opening Hour\\': {\\'label\\': \\'Opening Hour\\', \\'order\\': \\'desc\\'}}}, \\'query_type\\': \\'aggregation\\', \\'db_type\\': \\'activity\\', \\'type\\': \\'transaction\\', \\'weight\\': 0.8666666666666667, \\'id\\': \\'leni_633b04ad96687f0001250001_5d96bea8cead4cdca6e5cb35a98189ed_0\\', \\'trigger_forecast\\': False, \\'trend_present\\': True, \\'forecast_intent_present\\': False, \\'date_conf\\': \\'Latest Record Date\\', \\'dataset_id\\': \\'63510a2ec778a70001dae8de\\', \\'version\\': 61}]\\n[/MQL]</s>',\n",
       "  '<s>[INST]<<SYS>>\\nYou are an assistant that helps to map the user question to the a particular JSON format which contains info asked by user and also maps it the below CONTEXT. You might also need to act as a time tagger expert to convert the date elements present in the question to a standard format and to find possible date ranges for the same.\\n\\nCONTEXT:[{\\'action_derived_measure_label\\': \\'Number of Providers\\', \\'action_derived_measure\\': None}, {\\'date\\': \\'FPP_PROVIDER_SINCE\\', \\'date_label\\': \\'Provider Since\\'}]\\n\\nStep 1: Identify the n-grams match between question and context\\n\\n        Map the n-gram or their lemma or their inflections from the question with the values in the passed context.\\n        Always consider the longest n-gram match, not the sub-string.\\n        If there are multiple matches for an n-gram with context, return all such ENTITY in response.\\n        If you are returning any match which is not exactly present with the context, make sure that it is a noun phrase and there is a high similarity between the match and the matched value in context. \\n\\n\\nStep 2: Applying time tagger rules only if time elements are present in question\\n\\n        Identify the TIME ELEMENTS in the input question and convert it to a standard format (if not already) by applying the general time tagging rules. If the TIME ELEMENT is already in a standard format, then no need to convert it.\\n        TIME ELEMENT can be either a temporal interval (across months, yoy, mom, qoq, wow, quarterly etc.) or a temporal expression (time points such as specific dates, relative expressions etc.).\\n        Calculate date range for each time points based on the following conditions:\\n        1. For relative time expressions, calculate the date range based on a reference date - By default the reference date is the end_date in date input: {\\'start_date\\': \\'01/01/2020\\', \\'end_date\\': \\'15/09/2023\\'}\\n        2. To calculate the date range for \"last X years\", strictly follow below conditions:\\n                For \"last 1 year\", consider exactly one year before the reference year and set start date as January 1 and end date as Decemebr 31 of that year.\\n                For \"last X years\", where X is greater than 1, consider starting year = (reference year - X+1) and set start date as January 1 of starting year and end date as the reference date.\\n        3. To calculate the date range for \"last X months\", strictly follow below conditions:\\n                Consider reference month as the month in reference date.\\n                For \"last 1 month\", consider exactly one month before the reference month and set start date as first day and end date as last day of that month.\\n                For \"last X months\", where X is greater than 1, consider starting month = (reference month - X+1) and set start date as first day of starting month and end date as the reference date. (Example: if reference date is 14/09/2022, then last 3 months = 01/07/2022 - 14/09/2022)\\n        4. To calculate the date range for \"last X quarters\", strictly follow below conditions:\\n                For \"last 1 quarter\", consider exactly one quarter before the reference quarter and set start date as first day and end date as last day of that quarter .\\n                For \"last X quarter\", where X is greater than 1, consider starting quarter = (reference quarter - X+1) and set start date as first day of starting quarter and end date as the reference date.\\n        5. To calculate the date range for \"last X weeks\", strictly follow the below conditions:\\n                Consider reference week as the week in reference week.\\n                For \"last 1 week\", set start date as Monday and end date as Sunday of the previous week of reference week. (Example: if reference date is 14/09/2022, then last week = 05/09/2022 - 11/09/2022)\\n                For \"last X weeks\", set start date as Monday of reference week and set start date as the Monday of that week and end date as reference date. \\n        6. Provide the date range of each time point in \"start date - end date\" format always.\\n\\n<</SYS>>\\nUser question is : what is trend of number of providers and number of facility in 2021\\n\\nConverted JSON is as shown below: \\n[/INST]\\n[MQL]\\n[{\\'date\\': {\\'2021\\': {\\'FPP_PROVIDER_SINCE\\': {\\'label\\': \\'Provider Since\\', \\'order\\': \\'asc\\', \\'operator\\': \\'histogram\\', \\'interval\\': \\'month\\'}}}, \\'action\\': {\\'derived_measure\\': {\\'number of providers\\': {\\'Number of Providers\\': {\\'label\\': \\'Number of Providers\\', \\'order\\': \\'desc\\', \\'operator\\': \\'sum\\', \\'root_variables\\': []}}}, \\'type\\': \\'derived_summarization\\', \\'start_date\\': \\'2021/01/01 00:00:00\\'}, \\'filter\\': {\\'and\\': {\\'range\\': {\\'2021\\': [{\\'gte\\': \\'2021/01/01 00:00:00\\', \\'lte\\': \\'2021/12/31 23:59:59\\'}]}}}, \\'query_type\\': \\'aggregation\\', \\'db_type\\': \\'activity\\', \\'type\\': \\'transaction\\', \\'weight\\': 0.7133333333333333, \\'id\\': \\'leni_633b04ad96687f0001250001_726bd1c265834632ab6feb1744255e6c_0\\', \\'trigger_forecast\\': True, \\'trend_present\\': True, \\'forecast_intent_present\\': False, \\'date_conf\\': \\'Latest Record Date\\', \\'dataset_id\\': \\'636913a95537400001f02eee\\', \\'version\\': 61}]\\n[/MQL]</s>',\n",
       "  '<s>[INST]<<SYS>>\\nYou are an assistant that helps to map the user question to the a particular JSON format which contains info asked by user and also maps it the below CONTEXT. You might also need to act as a time tagger expert to convert the date elements present in the question to a standard format and to find possible date ranges for the same.\\n\\nCONTEXT:[{\\'action_derived_measure_label\\': \\'Number of Facility\\', \\'action_derived_measure\\': None}, {\\'date\\': \\'FFP_CREATED_AT\\', \\'date_label\\': \\'Created At\\'}]\\n\\nStep 1: Identify the n-grams match between question and context\\n\\n        Map the n-gram or their lemma or their inflections from the question with the values in the passed context.\\n        Always consider the longest n-gram match, not the sub-string.\\n        If there are multiple matches for an n-gram with context, return all such ENTITY in response.\\n        If you are returning any match which is not exactly present with the context, make sure that it is a noun phrase and there is a high similarity between the match and the matched value in context. \\n\\n\\nStep 2: Applying time tagger rules only if time elements are present in question\\n\\n        Identify the TIME ELEMENTS in the input question and convert it to a standard format (if not already) by applying the general time tagging rules. If the TIME ELEMENT is already in a standard format, then no need to convert it.\\n        TIME ELEMENT can be either a temporal interval (across months, yoy, mom, qoq, wow, quarterly etc.) or a temporal expression (time points such as specific dates, relative expressions etc.).\\n        Calculate date range for each time points based on the following conditions:\\n        1. For relative time expressions, calculate the date range based on a reference date - By default the reference date is the end_date in date input: {\\'start_date\\': \\'01/01/2020\\', \\'end_date\\': \\'15/09/2023\\'}\\n        2. To calculate the date range for \"last X years\", strictly follow below conditions:\\n                For \"last 1 year\", consider exactly one year before the reference year and set start date as January 1 and end date as Decemebr 31 of that year.\\n                For \"last X years\", where X is greater than 1, consider starting year = (reference year - X+1) and set start date as January 1 of starting year and end date as the reference date.\\n        3. To calculate the date range for \"last X months\", strictly follow below conditions:\\n                Consider reference month as the month in reference date.\\n                For \"last 1 month\", consider exactly one month before the reference month and set start date as first day and end date as last day of that month.\\n                For \"last X months\", where X is greater than 1, consider starting month = (reference month - X+1) and set start date as first day of starting month and end date as the reference date. (Example: if reference date is 14/09/2022, then last 3 months = 01/07/2022 - 14/09/2022)\\n        4. To calculate the date range for \"last X quarters\", strictly follow below conditions:\\n                For \"last 1 quarter\", consider exactly one quarter before the reference quarter and set start date as first day and end date as last day of that quarter .\\n                For \"last X quarter\", where X is greater than 1, consider starting quarter = (reference quarter - X+1) and set start date as first day of starting quarter and end date as the reference date.\\n        5. To calculate the date range for \"last X weeks\", strictly follow the below conditions:\\n                Consider reference week as the week in reference week.\\n                For \"last 1 week\", set start date as Monday and end date as Sunday of the previous week of reference week. (Example: if reference date is 14/09/2022, then last week = 05/09/2022 - 11/09/2022)\\n                For \"last X weeks\", set start date as Monday of reference week and set start date as the Monday of that week and end date as reference date. \\n        6. Provide the date range of each time point in \"start date - end date\" format always.\\n\\n<</SYS>>\\nUser question is : what is trend of number of providers and number of facility in 2021\\n\\nConverted JSON is as shown below: \\n[/INST]\\n[MQL]\\n[{\\'date\\': {\\'2021\\': {\\'FFP_CREATED_AT\\': {\\'label\\': \\'Created At\\', \\'order\\': \\'asc\\', \\'operator\\': \\'histogram\\', \\'interval\\': \\'month\\'}}}, \\'action\\': {\\'derived_measure\\': {\\'number of facility\\': {\\'Number of Facility\\': {\\'label\\': \\'Number of Facility\\', \\'order\\': \\'desc\\', \\'operator\\': \\'sum\\', \\'root_variables\\': []}}}, \\'type\\': \\'derived_summarization\\', \\'start_date\\': \\'2021/01/04 00:00:00\\'}, \\'filter\\': {\\'and\\': {\\'range\\': {\\'2021\\': [{\\'gte\\': \\'2021/01/01 00:00:00\\', \\'lte\\': \\'2021/12/31 23:59:59\\'}]}}}, \\'query_type\\': \\'aggregation\\', \\'db_type\\': \\'activity\\', \\'type\\': \\'transaction\\', \\'weight\\': 0.7133333333333333, \\'id\\': \\'leni_633b04ad96687f0001250001_5714a36c63dd45bb8c1b26e7cff39b6b_0\\', \\'trigger_forecast\\': True, \\'trend_present\\': True, \\'forecast_intent_present\\': False, \\'date_conf\\': \\'Latest Record Date\\', \\'dataset_id\\': \\'6369164ba992e7000164f592\\', \\'version\\': 61}]\\n[/MQL]</s>',\n",
       "  '<s>[INST]<<SYS>>\\nYou are an assistant that helps to map the user question to the a particular JSON format which contains info asked by user and also maps it the below CONTEXT. You might also need to act as a time tagger expert to convert the date elements present in the question to a standard format and to find possible date ranges for the same.\\n\\nCONTEXT:[{\\'measure\\': \\'Active Facility\\', \\'measure_label\\': \\'Active Facility\\'}]\\n\\nStep 1: Identify the n-grams match between question and context\\n\\n        Map the n-gram or their lemma or their inflections from the question with the values in the passed context.\\n        Always consider the longest n-gram match, not the sub-string.\\n        If there are multiple matches for an n-gram with context, return all such ENTITY in response.\\n        If you are returning any match which is not exactly present with the context, make sure that it is a noun phrase and there is a high similarity between the match and the matched value in context. \\n\\n\\nStep 2: Applying time tagger rules only if time elements are present in question\\n\\n        Identify the TIME ELEMENTS in the input question and convert it to a standard format (if not already) by applying the general time tagging rules. If the TIME ELEMENT is already in a standard format, then no need to convert it.\\n        TIME ELEMENT can be either a temporal interval (across months, yoy, mom, qoq, wow, quarterly etc.) or a temporal expression (time points such as specific dates, relative expressions etc.).\\n        Calculate date range for each time points based on the following conditions:\\n        1. For relative time expressions, calculate the date range based on a reference date - By default the reference date is the end_date in date input: {\\'start_date\\': \\'01/01/2020\\', \\'end_date\\': \\'15/09/2023\\'}\\n        2. To calculate the date range for \"last X years\", strictly follow below conditions:\\n                For \"last 1 year\", consider exactly one year before the reference year and set start date as January 1 and end date as Decemebr 31 of that year.\\n                For \"last X years\", where X is greater than 1, consider starting year = (reference year - X+1) and set start date as January 1 of starting year and end date as the reference date.\\n        3. To calculate the date range for \"last X months\", strictly follow below conditions:\\n                Consider reference month as the month in reference date.\\n                For \"last 1 month\", consider exactly one month before the reference month and set start date as first day and end date as last day of that month.\\n                For \"last X months\", where X is greater than 1, consider starting month = (reference month - X+1) and set start date as first day of starting month and end date as the reference date. (Example: if reference date is 14/09/2022, then last 3 months = 01/07/2022 - 14/09/2022)\\n        4. To calculate the date range for \"last X quarters\", strictly follow below conditions:\\n                For \"last 1 quarter\", consider exactly one quarter before the reference quarter and set start date as first day and end date as last day of that quarter .\\n                For \"last X quarter\", where X is greater than 1, consider starting quarter = (reference quarter - X+1) and set start date as first day of starting quarter and end date as the reference date.\\n        5. To calculate the date range for \"last X weeks\", strictly follow the below conditions:\\n                Consider reference week as the week in reference week.\\n                For \"last 1 week\", set start date as Monday and end date as Sunday of the previous week of reference week. (Example: if reference date is 14/09/2022, then last week = 05/09/2022 - 11/09/2022)\\n                For \"last X weeks\", set start date as Monday of reference week and set start date as the Monday of that week and end date as reference date. \\n        6. Provide the date range of each time point in \"start date - end date\" format always.\\n\\n<</SYS>>\\nUser question is : trend of active facility\\n\\nConverted JSON is as shown below: \\n[/INST]\\n[MQL]\\n[{\\'measure\\': {\\'active facility\\': {\\'Active Facility\\': {\\'label\\': \\'Active Facility\\', \\'order\\': \\'desc\\'}}}, \\'query_type\\': \\'aggregation\\', \\'db_type\\': \\'activity\\', \\'type\\': \\'transaction\\', \\'weight\\': 0.8666666666666667, \\'id\\': \\'leni_633b04ad96687f0001250001_f98f5e1ddcab40788d6729d9e28998d0_0\\', \\'trigger_forecast\\': False, \\'trend_present\\': True, \\'forecast_intent_present\\': False, \\'date_conf\\': \\'Latest Record Date\\', \\'dataset_id\\': \\'63510a2ec778a70001dae8de\\', \\'version\\': 61}]\\n[/MQL]</s>',\n",
       "  '<s>[INST]<<SYS>>\\nYou are an assistant that helps to map the user question to the a particular JSON format which contains info asked by user and also maps it the below CONTEXT. You might also need to act as a time tagger expert to convert the date elements present in the question to a standard format and to find possible date ranges for the same.\\n\\nCONTEXT:[{\\'measure\\': \\'PROFIT\\', \\'measure_label\\': \\'Profit in Dollars\\'}, {\\'date\\': \\'AFS_SHIFT_DATE_START\\', \\'date_label\\': \\'Shift Date Start\\'}]\\n\\nStep 1: Identify the n-grams match between question and context\\n\\n        Map the n-gram or their lemma or their inflections from the question with the values in the passed context.\\n        Always consider the longest n-gram match, not the sub-string.\\n        If there are multiple matches for an n-gram with context, return all such ENTITY in response.\\n        If you are returning any match which is not exactly present with the context, make sure that it is a noun phrase and there is a high similarity between the match and the matched value in context. \\n\\n\\nStep 2: Applying time tagger rules only if time elements are present in question\\n\\n        Identify the TIME ELEMENTS in the input question and convert it to a standard format (if not already) by applying the general time tagging rules. If the TIME ELEMENT is already in a standard format, then no need to convert it.\\n        TIME ELEMENT can be either a temporal interval (across months, yoy, mom, qoq, wow, quarterly etc.) or a temporal expression (time points such as specific dates, relative expressions etc.).\\n        Calculate date range for each time points based on the following conditions:\\n        1. For relative time expressions, calculate the date range based on a reference date - By default the reference date is the end_date in date input: {\\'start_date\\': \\'01/01/2020\\', \\'end_date\\': \\'15/09/2023\\'}\\n        2. To calculate the date range for \"last X years\", strictly follow below conditions:\\n                For \"last 1 year\", consider exactly one year before the reference year and set start date as January 1 and end date as Decemebr 31 of that year.\\n                For \"last X years\", where X is greater than 1, consider starting year = (reference year - X+1) and set start date as January 1 of starting year and end date as the reference date.\\n        3. To calculate the date range for \"last X months\", strictly follow below conditions:\\n                Consider reference month as the month in reference date.\\n                For \"last 1 month\", consider exactly one month before the reference month and set start date as first day and end date as last day of that month.\\n                For \"last X months\", where X is greater than 1, consider starting month = (reference month - X+1) and set start date as first day of starting month and end date as the reference date. (Example: if reference date is 14/09/2022, then last 3 months = 01/07/2022 - 14/09/2022)\\n        4. To calculate the date range for \"last X quarters\", strictly follow below conditions:\\n                For \"last 1 quarter\", consider exactly one quarter before the reference quarter and set start date as first day and end date as last day of that quarter .\\n                For \"last X quarter\", where X is greater than 1, consider starting quarter = (reference quarter - X+1) and set start date as first day of starting quarter and end date as the reference date.\\n        5. To calculate the date range for \"last X weeks\", strictly follow the below conditions:\\n                Consider reference week as the week in reference week.\\n                For \"last 1 week\", set start date as Monday and end date as Sunday of the previous week of reference week. (Example: if reference date is 14/09/2022, then last week = 05/09/2022 - 11/09/2022)\\n                For \"last X weeks\", set start date as Monday of reference week and set start date as the Monday of that week and end date as reference date. \\n        6. Provide the date range of each time point in \"start date - end date\" format always.\\n\\n<</SYS>>\\nUser question is : why profit changed in july 2022\\n\\nConverted JSON is as shown below: \\n[/INST]\\n[MQL]\\n[{\\'measure\\': {\\'profit\\': {\\'PROFIT\\': {\\'label\\': \\'Profit in Dollars\\', \\'order\\': \\'desc\\', \\'operator\\': \\'sum\\'}}}, \\'date\\': {\\'july 2022\\': {\\'AFS_SHIFT_DATE_START\\': {\\'label\\': \\'Shift Date Start\\', \\'order\\': \\'asc\\', \\'operator\\': \\'range\\', \\'ranges\\': [{\\'from\\': \\'2022/07/01 00:00:00\\', \\'to\\': \\'2022/07/31 23:59:59\\'}, {\\'from\\': \\'2022/06/01 00:00:00\\', \\'to\\': \\'2022/06/30 23:59:59\\'}], \\'ref_interval\\': \\'month\\'}}}, \\'action\\': {\\'type\\': \\'why_type\\', \\'start_date\\': \\'2021/01/01 00:00:00\\'}, \\'filter\\': {\\'and\\': {\\'range\\': {\\'july 2022\\': [{\\'gte\\': \\'2022/07/01 00:00:00\\', \\'lte\\': \\'2022/07/31 23:59:59\\'}, {\\'gte\\': \\'2022/06/01 00:00:00\\', \\'lte\\': \\'2022/06/30 23:59:59\\'}]}}}, \\'query_type\\': \\'aggregation\\', \\'db_type\\': \\'activity\\', \\'type\\': \\'transaction\\', \\'weight\\': 0.6840277777777777, \\'id\\': \\'leni_633b04ad96687f0001250001_5a61340818a048cf904ccfaf5de0af0b_0\\', \\'trend_present\\': False, \\'forecast_intent_present\\': False, \\'date_conf\\': \\'Latest Record Date\\', \\'dataset_id\\': \\'63510a2ec778a70001dae8de\\', \\'version\\': 61}]\\n[/MQL]</s>',\n",
       "  '<s>[INST]<<SYS>>\\nYou are an assistant that helps to map the user question to the a particular JSON format which contains info asked by user and also maps it the below CONTEXT. You might also need to act as a time tagger expert to convert the date elements present in the question to a standard format and to find possible date ranges for the same.\\n\\nCONTEXT:[{\\'measure\\': \\'PROFIT\\', \\'measure_label\\': \\'Profit in Dollars\\'}, {\\'date\\': \\'AFS_SHIFT_DATE_START\\', \\'date_label\\': \\'Shift Date Start\\'}]\\n\\nStep 1: Identify the n-grams match between question and context\\n\\n        Map the n-gram or their lemma or their inflections from the question with the values in the passed context.\\n        Always consider the longest n-gram match, not the sub-string.\\n        If there are multiple matches for an n-gram with context, return all such ENTITY in response.\\n        If you are returning any match which is not exactly present with the context, make sure that it is a noun phrase and there is a high similarity between the match and the matched value in context. \\n\\n\\nStep 2: Applying time tagger rules only if time elements are present in question\\n\\n        Identify the TIME ELEMENTS in the input question and convert it to a standard format (if not already) by applying the general time tagging rules. If the TIME ELEMENT is already in a standard format, then no need to convert it.\\n        TIME ELEMENT can be either a temporal interval (across months, yoy, mom, qoq, wow, quarterly etc.) or a temporal expression (time points such as specific dates, relative expressions etc.).\\n        Calculate date range for each time points based on the following conditions:\\n        1. For relative time expressions, calculate the date range based on a reference date - By default the reference date is the end_date in date input: {\\'start_date\\': \\'01/01/2020\\', \\'end_date\\': \\'15/09/2023\\'}\\n        2. To calculate the date range for \"last X years\", strictly follow below conditions:\\n                For \"last 1 year\", consider exactly one year before the reference year and set start date as January 1 and end date as Decemebr 31 of that year.\\n                For \"last X years\", where X is greater than 1, consider starting year = (reference year - X+1) and set start date as January 1 of starting year and end date as the reference date.\\n        3. To calculate the date range for \"last X months\", strictly follow below conditions:\\n                Consider reference month as the month in reference date.\\n                For \"last 1 month\", consider exactly one month before the reference month and set start date as first day and end date as last day of that month.\\n                For \"last X months\", where X is greater than 1, consider starting month = (reference month - X+1) and set start date as first day of starting month and end date as the reference date. (Example: if reference date is 14/09/2022, then last 3 months = 01/07/2022 - 14/09/2022)\\n        4. To calculate the date range for \"last X quarters\", strictly follow below conditions:\\n                For \"last 1 quarter\", consider exactly one quarter before the reference quarter and set start date as first day and end date as last day of that quarter .\\n                For \"last X quarter\", where X is greater than 1, consider starting quarter = (reference quarter - X+1) and set start date as first day of starting quarter and end date as the reference date.\\n        5. To calculate the date range for \"last X weeks\", strictly follow the below conditions:\\n                Consider reference week as the week in reference week.\\n                For \"last 1 week\", set start date as Monday and end date as Sunday of the previous week of reference week. (Example: if reference date is 14/09/2022, then last week = 05/09/2022 - 11/09/2022)\\n                For \"last X weeks\", set start date as Monday of reference week and set start date as the Monday of that week and end date as reference date. \\n        6. Provide the date range of each time point in \"start date - end date\" format always.\\n\\n<</SYS>>\\nUser question is : what will be profit in next 3 months\\n\\nConverted JSON is as shown below: \\n[/INST]\\n[MQL]\\n[{\\'measure\\': {\\'profit\\': {\\'PROFIT\\': {\\'label\\': \\'Profit in Dollars\\', \\'order\\': \\'desc\\', \\'operator\\': \\'sum\\'}}}, \\'date\\': {\\'next 3 months\\': {\\'AFS_SHIFT_DATE_START\\': {\\'label\\': \\'Shift Date Start\\', \\'order\\': \\'asc\\', \\'operator\\': \\'histogram\\', \\'interval\\': \\'month\\'}}}, \\'query_type\\': \\'aggregation\\', \\'db_type\\': \\'activity\\', \\'type\\': \\'transaction\\', \\'weight\\': 0.7437499999999999, \\'id\\': \\'leni_633b04ad96687f0001250001_64b57dd68a844665b766d6bbc39ade0c_0\\', \\'trigger_forecast\\': True, \\'filter\\': {\\'and\\': {\\'range\\': {\\'next 3 months\\': [{\\'gte\\': \\'2022/12/01 00:00:00\\', \\'lte\\': \\'2023/02/28 23:59:59\\'}]}}}, \\'trend_present\\': False, \\'forecast_intent_present\\': True, \\'date_conf\\': \\'Latest Record Date\\', \\'dataset_id\\': \\'63510a2ec778a70001dae8de\\', \\'version\\': 61}]\\n[/MQL]</s>',\n",
       "  '<s>[INST]<<SYS>>\\nYou are an assistant that helps to map the user question to the a particular JSON format which contains info asked by user and also maps it the below CONTEXT. You might also need to act as a time tagger expert to convert the date elements present in the question to a standard format and to find possible date ranges for the same.\\n\\nCONTEXT:[{\\'measure\\': \\'PROFIT\\', \\'measure_label\\': \\'Profit in Dollars\\'}, {\\'date\\': \\'AFS_SHIFT_DATE_START\\', \\'date_label\\': \\'Shift Date Start\\'}]\\n\\nStep 1: Identify the n-grams match between question and context\\n\\n        Map the n-gram or their lemma or their inflections from the question with the values in the passed context.\\n        Always consider the longest n-gram match, not the sub-string.\\n        If there are multiple matches for an n-gram with context, return all such ENTITY in response.\\n        If you are returning any match which is not exactly present with the context, make sure that it is a noun phrase and there is a high similarity between the match and the matched value in context. \\n\\n\\nStep 2: Applying time tagger rules only if time elements are present in question\\n\\n        Identify the TIME ELEMENTS in the input question and convert it to a standard format (if not already) by applying the general time tagging rules. If the TIME ELEMENT is already in a standard format, then no need to convert it.\\n        TIME ELEMENT can be either a temporal interval (across months, yoy, mom, qoq, wow, quarterly etc.) or a temporal expression (time points such as specific dates, relative expressions etc.).\\n        Calculate date range for each time points based on the following conditions:\\n        1. For relative time expressions, calculate the date range based on a reference date - By default the reference date is the end_date in date input: {\\'start_date\\': \\'01/01/2020\\', \\'end_date\\': \\'15/09/2023\\'}\\n        2. To calculate the date range for \"last X years\", strictly follow below conditions:\\n                For \"last 1 year\", consider exactly one year before the reference year and set start date as January 1 and end date as Decemebr 31 of that year.\\n                For \"last X years\", where X is greater than 1, consider starting year = (reference year - X+1) and set start date as January 1 of starting year and end date as the reference date.\\n        3. To calculate the date range for \"last X months\", strictly follow below conditions:\\n                Consider reference month as the month in reference date.\\n                For \"last 1 month\", consider exactly one month before the reference month and set start date as first day and end date as last day of that month.\\n                For \"last X months\", where X is greater than 1, consider starting month = (reference month - X+1) and set start date as first day of starting month and end date as the reference date. (Example: if reference date is 14/09/2022, then last 3 months = 01/07/2022 - 14/09/2022)\\n        4. To calculate the date range for \"last X quarters\", strictly follow below conditions:\\n                For \"last 1 quarter\", consider exactly one quarter before the reference quarter and set start date as first day and end date as last day of that quarter .\\n                For \"last X quarter\", where X is greater than 1, consider starting quarter = (reference quarter - X+1) and set start date as first day of starting quarter and end date as the reference date.\\n        5. To calculate the date range for \"last X weeks\", strictly follow the below conditions:\\n                Consider reference week as the week in reference week.\\n                For \"last 1 week\", set start date as Monday and end date as Sunday of the previous week of reference week. (Example: if reference date is 14/09/2022, then last week = 05/09/2022 - 11/09/2022)\\n                For \"last X weeks\", set start date as Monday of reference week and set start date as the Monday of that week and end date as reference date. \\n        6. Provide the date range of each time point in \"start date - end date\" format always.\\n\\n<</SYS>>\\nUser question is : what will be profit in next 3 weeks\\n\\nConverted JSON is as shown below: \\n[/INST]\\n[MQL]\\n[{\\'measure\\': {\\'profit\\': {\\'PROFIT\\': {\\'label\\': \\'Profit in Dollars\\', \\'order\\': \\'desc\\', \\'operator\\': \\'sum\\'}}}, \\'date\\': {\\'next 3 weeks\\': {\\'AFS_SHIFT_DATE_START\\': {\\'label\\': \\'Shift Date Start\\', \\'order\\': \\'asc\\', \\'operator\\': \\'histogram\\', \\'interval\\': \\'week\\'}}}, \\'query_type\\': \\'aggregation\\', \\'db_type\\': \\'activity\\', \\'type\\': \\'transaction\\', \\'weight\\': 0.7437499999999999, \\'id\\': \\'leni_633b04ad96687f0001250001_1e2c5097b2884bb3848b29a2308951fb_0\\', \\'trigger_forecast\\': True, \\'filter\\': {\\'and\\': {\\'range\\': {\\'next 3 weeks\\': [{\\'gte\\': \\'2022/11/14 00:00:00\\', \\'lte\\': \\'2022/12/04 23:59:59\\'}]}}}, \\'trend_present\\': False, \\'forecast_intent_present\\': True, \\'date_conf\\': \\'Latest Record Date\\', \\'dataset_id\\': \\'63510a2ec778a70001dae8de\\', \\'version\\': 61}]\\n[/MQL]</s>',\n",
       "  '<s>[INST]<<SYS>>\\nYou are an assistant that helps to map the user question to the a particular JSON format which contains info asked by user and also maps it the below CONTEXT. You might also need to act as a time tagger expert to convert the date elements present in the question to a standard format and to find possible date ranges for the same.\\n\\nCONTEXT:[{\\'action_derived_measure_label\\': \\'Worked Hours\\', \\'action_derived_measure\\': None}, {\\'date\\': \\'AFS_SHIFT_DATE_START\\', \\'date_label\\': \\'Shift Date Start\\'}]\\n\\nStep 1: Identify the n-grams match between question and context\\n\\n        Map the n-gram or their lemma or their inflections from the question with the values in the passed context.\\n        Always consider the longest n-gram match, not the sub-string.\\n        If there are multiple matches for an n-gram with context, return all such ENTITY in response.\\n        If you are returning any match which is not exactly present with the context, make sure that it is a noun phrase and there is a high similarity between the match and the matched value in context. \\n\\n\\nStep 2: Applying time tagger rules only if time elements are present in question\\n\\n        Identify the TIME ELEMENTS in the input question and convert it to a standard format (if not already) by applying the general time tagging rules. If the TIME ELEMENT is already in a standard format, then no need to convert it.\\n        TIME ELEMENT can be either a temporal interval (across months, yoy, mom, qoq, wow, quarterly etc.) or a temporal expression (time points such as specific dates, relative expressions etc.).\\n        Calculate date range for each time points based on the following conditions:\\n        1. For relative time expressions, calculate the date range based on a reference date - By default the reference date is the end_date in date input: {\\'start_date\\': \\'01/01/2020\\', \\'end_date\\': \\'15/09/2023\\'}\\n        2. To calculate the date range for \"last X years\", strictly follow below conditions:\\n                For \"last 1 year\", consider exactly one year before the reference year and set start date as January 1 and end date as Decemebr 31 of that year.\\n                For \"last X years\", where X is greater than 1, consider starting year = (reference year - X+1) and set start date as January 1 of starting year and end date as the reference date.\\n        3. To calculate the date range for \"last X months\", strictly follow below conditions:\\n                Consider reference month as the month in reference date.\\n                For \"last 1 month\", consider exactly one month before the reference month and set start date as first day and end date as last day of that month.\\n                For \"last X months\", where X is greater than 1, consider starting month = (reference month - X+1) and set start date as first day of starting month and end date as the reference date. (Example: if reference date is 14/09/2022, then last 3 months = 01/07/2022 - 14/09/2022)\\n        4. To calculate the date range for \"last X quarters\", strictly follow below conditions:\\n                For \"last 1 quarter\", consider exactly one quarter before the reference quarter and set start date as first day and end date as last day of that quarter .\\n                For \"last X quarter\", where X is greater than 1, consider starting quarter = (reference quarter - X+1) and set start date as first day of starting quarter and end date as the reference date.\\n        5. To calculate the date range for \"last X weeks\", strictly follow the below conditions:\\n                Consider reference week as the week in reference week.\\n                For \"last 1 week\", set start date as Monday and end date as Sunday of the previous week of reference week. (Example: if reference date is 14/09/2022, then last week = 05/09/2022 - 11/09/2022)\\n                For \"last X weeks\", set start date as Monday of reference week and set start date as the Monday of that week and end date as reference date. \\n        6. Provide the date range of each time point in \"start date - end date\" format always.\\n\\n<</SYS>>\\nUser question is : trend of worked hours and requested hours\\n\\nConverted JSON is as shown below: \\n[/INST]\\n[MQL]\\n[{\\'date\\': {\\'trend\\': {\\'AFS_SHIFT_DATE_START\\': {\\'label\\': \\'Shift Date Start\\', \\'operator\\': \\'histogram\\', \\'interval\\': \\'month\\', \\'order\\': \\'asc\\'}}}, \\'action\\': {\\'derived_measure\\': {\\'worked hours\\': {\\'Worked Hours\\': {\\'label\\': \\'Worked Hours\\', \\'order\\': \\'desc\\', \\'operator\\': \\'sum\\', \\'root_variables\\': []}}, \\'requested hours\\': {\\'Requested Hours\\': {\\'label\\': \\'Requested Hours\\', \\'order\\': \\'desc\\', \\'operator\\': \\'sum\\', \\'root_variables\\': []}}}, \\'type\\': \\'derived_summarization\\', \\'start_date\\': \\'2021/01/01 00:00:00\\'}, \\'query_type\\': \\'aggregation\\', \\'db_type\\': \\'activity\\', \\'type\\': \\'transaction\\', \\'weight\\': 0.7266666666666666, \\'id\\': \\'leni_633b04ad96687f0001250001_01db4027111045c5a6d9573a8ba3908a_0\\', \\'trigger_forecast\\': False, \\'trend_present\\': True, \\'forecast_intent_present\\': False, \\'date_conf\\': \\'Latest Record Date\\', \\'dataset_id\\': \\'63510a2ec778a70001dae8de\\', \\'version\\': 61}]\\n[/MQL]</s>',\n",
       "  '<s>[INST]<<SYS>>\\nYou are an assistant that helps to map the user question to the a particular JSON format which contains info asked by user and also maps it the below CONTEXT. You might also need to act as a time tagger expert to convert the date elements present in the question to a standard format and to find possible date ranges for the same.\\n\\nCONTEXT:[{\\'action_derived_measure_label\\': \\'Requested Hours\\', \\'action_derived_measure\\': None}, {\\'date\\': \\'AFS_SHIFT_DATE_START\\', \\'date_label\\': \\'Shift Date Start\\'}]\\n\\nStep 1: Identify the n-grams match between question and context\\n\\n        Map the n-gram or their lemma or their inflections from the question with the values in the passed context.\\n        Always consider the longest n-gram match, not the sub-string.\\n        If there are multiple matches for an n-gram with context, return all such ENTITY in response.\\n        If you are returning any match which is not exactly present with the context, make sure that it is a noun phrase and there is a high similarity between the match and the matched value in context. \\n\\n\\nStep 2: Applying time tagger rules only if time elements are present in question\\n\\n        Identify the TIME ELEMENTS in the input question and convert it to a standard format (if not already) by applying the general time tagging rules. If the TIME ELEMENT is already in a standard format, then no need to convert it.\\n        TIME ELEMENT can be either a temporal interval (across months, yoy, mom, qoq, wow, quarterly etc.) or a temporal expression (time points such as specific dates, relative expressions etc.).\\n        Calculate date range for each time points based on the following conditions:\\n        1. For relative time expressions, calculate the date range based on a reference date - By default the reference date is the end_date in date input: {\\'start_date\\': \\'01/01/2020\\', \\'end_date\\': \\'15/09/2023\\'}\\n        2. To calculate the date range for \"last X years\", strictly follow below conditions:\\n                For \"last 1 year\", consider exactly one year before the reference year and set start date as January 1 and end date as Decemebr 31 of that year.\\n                For \"last X years\", where X is greater than 1, consider starting year = (reference year - X+1) and set start date as January 1 of starting year and end date as the reference date.\\n        3. To calculate the date range for \"last X months\", strictly follow below conditions:\\n                Consider reference month as the month in reference date.\\n                For \"last 1 month\", consider exactly one month before the reference month and set start date as first day and end date as last day of that month.\\n                For \"last X months\", where X is greater than 1, consider starting month = (reference month - X+1) and set start date as first day of starting month and end date as the reference date. (Example: if reference date is 14/09/2022, then last 3 months = 01/07/2022 - 14/09/2022)\\n        4. To calculate the date range for \"last X quarters\", strictly follow below conditions:\\n                For \"last 1 quarter\", consider exactly one quarter before the reference quarter and set start date as first day and end date as last day of that quarter .\\n                For \"last X quarter\", where X is greater than 1, consider starting quarter = (reference quarter - X+1) and set start date as first day of starting quarter and end date as the reference date.\\n        5. To calculate the date range for \"last X weeks\", strictly follow the below conditions:\\n                Consider reference week as the week in reference week.\\n                For \"last 1 week\", set start date as Monday and end date as Sunday of the previous week of reference week. (Example: if reference date is 14/09/2022, then last week = 05/09/2022 - 11/09/2022)\\n                For \"last X weeks\", set start date as Monday of reference week and set start date as the Monday of that week and end date as reference date. \\n        6. Provide the date range of each time point in \"start date - end date\" format always.\\n\\n<</SYS>>\\nUser question is : why requested hours changed in jan 2022\\n\\nConverted JSON is as shown below: \\n[/INST]\\n[MQL]\\n[{\\'date\\': {\\'jan 2022\\': {\\'AFS_SHIFT_DATE_START\\': {\\'label\\': \\'Shift Date Start\\', \\'order\\': \\'asc\\', \\'operator\\': \\'range\\', \\'ranges\\': [{\\'from\\': \\'2022/01/01 00:00:00\\', \\'to\\': \\'2022/01/31 23:59:59\\'}, {\\'from\\': \\'2021/12/01 00:00:00\\', \\'to\\': \\'2021/12/31 23:59:59\\'}], \\'ref_interval\\': \\'month\\'}}}, \\'action\\': {\\'derived_measure\\': {\\'requested hours\\': {\\'Requested Hours\\': {\\'label\\': \\'Requested Hours\\', \\'order\\': \\'desc\\', \\'operator\\': \\'sum\\', \\'root_variables\\': []}}}, \\'type\\': \\'why_type\\', \\'start_date\\': \\'2021/01/01 00:00:00\\'}, \\'filter\\': {\\'and\\': {\\'range\\': {\\'jan 2022\\': [{\\'gte\\': \\'2022/01/01 00:00:00\\', \\'lte\\': \\'2022/01/31 23:59:59\\'}, {\\'gte\\': \\'2021/12/01 00:00:00\\', \\'lte\\': \\'2021/12/31 23:59:59\\'}]}}}, \\'query_type\\': \\'aggregation\\', \\'db_type\\': \\'activity\\', \\'type\\': \\'transaction\\', \\'weight\\': 0.6840277777777777, \\'id\\': \\'leni_633b04ad96687f0001250001_71248d7210fb450cb45d1df141e3676b_0\\', \\'trend_present\\': False, \\'forecast_intent_present\\': False, \\'date_conf\\': \\'Latest Record Date\\', \\'dataset_id\\': \\'63510a2ec778a70001dae8de\\', \\'version\\': 61}]\\n[/MQL]</s>',\n",
       "  '<s>[INST]<<SYS>>\\nYou are an assistant that helps to map the user question to the a particular JSON format which contains info asked by user and also maps it the below CONTEXT. You might also need to act as a time tagger expert to convert the date elements present in the question to a standard format and to find possible date ranges for the same.\\n\\nCONTEXT:[{\\'action_derived_measure_label\\': \\'Opening Hour\\', \\'action_derived_measure\\': None}, {\\'date\\': \\'AFS_SHIFT_DATE_START\\', \\'date_label\\': \\'Shift Date Start\\'}]\\n\\nStep 1: Identify the n-grams match between question and context\\n\\n        Map the n-gram or their lemma or their inflections from the question with the values in the passed context.\\n        Always consider the longest n-gram match, not the sub-string.\\n        If there are multiple matches for an n-gram with context, return all such ENTITY in response.\\n        If you are returning any match which is not exactly present with the context, make sure that it is a noun phrase and there is a high similarity between the match and the matched value in context. \\n\\n\\nStep 2: Applying time tagger rules only if time elements are present in question\\n\\n        Identify the TIME ELEMENTS in the input question and convert it to a standard format (if not already) by applying the general time tagging rules. If the TIME ELEMENT is already in a standard format, then no need to convert it.\\n        TIME ELEMENT can be either a temporal interval (across months, yoy, mom, qoq, wow, quarterly etc.) or a temporal expression (time points such as specific dates, relative expressions etc.).\\n        Calculate date range for each time points based on the following conditions:\\n        1. For relative time expressions, calculate the date range based on a reference date - By default the reference date is the end_date in date input: {\\'start_date\\': \\'01/01/2020\\', \\'end_date\\': \\'15/09/2023\\'}\\n        2. To calculate the date range for \"last X years\", strictly follow below conditions:\\n                For \"last 1 year\", consider exactly one year before the reference year and set start date as January 1 and end date as Decemebr 31 of that year.\\n                For \"last X years\", where X is greater than 1, consider starting year = (reference year - X+1) and set start date as January 1 of starting year and end date as the reference date.\\n        3. To calculate the date range for \"last X months\", strictly follow below conditions:\\n                Consider reference month as the month in reference date.\\n                For \"last 1 month\", consider exactly one month before the reference month and set start date as first day and end date as last day of that month.\\n                For \"last X months\", where X is greater than 1, consider starting month = (reference month - X+1) and set start date as first day of starting month and end date as the reference date. (Example: if reference date is 14/09/2022, then last 3 months = 01/07/2022 - 14/09/2022)\\n        4. To calculate the date range for \"last X quarters\", strictly follow below conditions:\\n                For \"last 1 quarter\", consider exactly one quarter before the reference quarter and set start date as first day and end date as last day of that quarter .\\n                For \"last X quarter\", where X is greater than 1, consider starting quarter = (reference quarter - X+1) and set start date as first day of starting quarter and end date as the reference date.\\n        5. To calculate the date range for \"last X weeks\", strictly follow the below conditions:\\n                Consider reference week as the week in reference week.\\n                For \"last 1 week\", set start date as Monday and end date as Sunday of the previous week of reference week. (Example: if reference date is 14/09/2022, then last week = 05/09/2022 - 11/09/2022)\\n                For \"last X weeks\", set start date as Monday of reference week and set start date as the Monday of that week and end date as reference date. \\n        6. Provide the date range of each time point in \"start date - end date\" format always.\\n\\n<</SYS>>\\nUser question is : trend of scheduled hours\\n\\nConverted JSON is as shown below: \\n[/INST]\\n[MQL]\\n[{\\'date\\': {\\'trend\\': {\\'AFS_SHIFT_DATE_START\\': {\\'label\\': \\'Shift Date Start\\', \\'operator\\': \\'histogram\\', \\'interval\\': \\'month\\', \\'order\\': \\'asc\\'}}}, \\'action\\': {\\'derived_measure\\': {\\'scheduled hours\\': {\\'Opening Hour\\': {\\'label\\': \\'Opening Hour\\', \\'order\\': \\'desc\\', \\'operator\\': \\'sum\\', \\'root_variables\\': []}}}, \\'type\\': \\'derived_summarization\\', \\'start_date\\': \\'2021/01/01 00:00:00\\'}, \\'query_type\\': \\'aggregation\\', \\'db_type\\': \\'activity\\', \\'type\\': \\'transaction\\', \\'weight\\': 0.7375, \\'id\\': \\'leni_633b04ad96687f0001250001_4c76eef5cf51439dadb3a1496bcc6456_0\\', \\'trigger_forecast\\': False, \\'trend_present\\': True, \\'forecast_intent_present\\': False, \\'date_conf\\': \\'Latest Record Date\\', \\'dataset_id\\': \\'63510a2ec778a70001dae8de\\', \\'version\\': 61}]\\n[/MQL]</s>',\n",
       "  '<s>[INST]<<SYS>>\\nYou are an assistant that helps to map the user question to the a particular JSON format which contains info asked by user and also maps it the below CONTEXT. You might also need to act as a time tagger expert to convert the date elements present in the question to a standard format and to find possible date ranges for the same.\\n\\nCONTEXT:[{\\'action_derived_measure_label\\': \\'Filled Hours\\', \\'action_derived_measure\\': None}, {\\'date\\': \\'AFS_SHIFT_DATE_START\\', \\'date_label\\': \\'Shift Date Start\\'}]\\n\\nStep 1: Identify the n-grams match between question and context\\n\\n        Map the n-gram or their lemma or their inflections from the question with the values in the passed context.\\n        Always consider the longest n-gram match, not the sub-string.\\n        If there are multiple matches for an n-gram with context, return all such ENTITY in response.\\n        If you are returning any match which is not exactly present with the context, make sure that it is a noun phrase and there is a high similarity between the match and the matched value in context. \\n\\n\\nStep 2: Applying time tagger rules only if time elements are present in question\\n\\n        Identify the TIME ELEMENTS in the input question and convert it to a standard format (if not already) by applying the general time tagging rules. If the TIME ELEMENT is already in a standard format, then no need to convert it.\\n        TIME ELEMENT can be either a temporal interval (across months, yoy, mom, qoq, wow, quarterly etc.) or a temporal expression (time points such as specific dates, relative expressions etc.).\\n        Calculate date range for each time points based on the following conditions:\\n        1. For relative time expressions, calculate the date range based on a reference date - By default the reference date is the end_date in date input: {\\'start_date\\': \\'01/01/2020\\', \\'end_date\\': \\'15/09/2023\\'}\\n        2. To calculate the date range for \"last X years\", strictly follow below conditions:\\n                For \"last 1 year\", consider exactly one year before the reference year and set start date as January 1 and end date as Decemebr 31 of that year.\\n                For \"last X years\", where X is greater than 1, consider starting year = (reference year - X+1) and set start date as January 1 of starting year and end date as the reference date.\\n        3. To calculate the date range for \"last X months\", strictly follow below conditions:\\n                Consider reference month as the month in reference date.\\n                For \"last 1 month\", consider exactly one month before the reference month and set start date as first day and end date as last day of that month.\\n                For \"last X months\", where X is greater than 1, consider starting month = (reference month - X+1) and set start date as first day of starting month and end date as the reference date. (Example: if reference date is 14/09/2022, then last 3 months = 01/07/2022 - 14/09/2022)\\n        4. To calculate the date range for \"last X quarters\", strictly follow below conditions:\\n                For \"last 1 quarter\", consider exactly one quarter before the reference quarter and set start date as first day and end date as last day of that quarter .\\n                For \"last X quarter\", where X is greater than 1, consider starting quarter = (reference quarter - X+1) and set start date as first day of starting quarter and end date as the reference date.\\n        5. To calculate the date range for \"last X weeks\", strictly follow the below conditions:\\n                Consider reference week as the week in reference week.\\n                For \"last 1 week\", set start date as Monday and end date as Sunday of the previous week of reference week. (Example: if reference date is 14/09/2022, then last week = 05/09/2022 - 11/09/2022)\\n                For \"last X weeks\", set start date as Monday of reference week and set start date as the Monday of that week and end date as reference date. \\n        6. Provide the date range of each time point in \"start date - end date\" format always.\\n\\n<</SYS>>\\nUser question is : trend of filled hours\\n\\nConverted JSON is as shown below: \\n[/INST]\\n[MQL]\\n[{\\'date\\': {\\'trend\\': {\\'AFS_SHIFT_DATE_START\\': {\\'label\\': \\'Shift Date Start\\', \\'operator\\': \\'histogram\\', \\'interval\\': \\'month\\', \\'order\\': \\'asc\\'}}}, \\'action\\': {\\'derived_measure\\': {\\'filled hours\\': {\\'Filled Hours\\': {\\'label\\': \\'Filled Hours\\', \\'order\\': \\'desc\\', \\'operator\\': \\'sum\\', \\'root_variables\\': []}}}, \\'type\\': \\'derived_summarization\\', \\'start_date\\': \\'2021/01/01 00:00:00\\'}, \\'query_type\\': \\'aggregation\\', \\'db_type\\': \\'activity\\', \\'type\\': \\'transaction\\', \\'weight\\': 0.7375, \\'id\\': \\'leni_633b04ad96687f0001250001_c21e398aa8cb418591e11f47c4e8179c_0\\', \\'trigger_forecast\\': False, \\'trend_present\\': True, \\'forecast_intent_present\\': False, \\'date_conf\\': \\'Latest Record Date\\', \\'dataset_id\\': \\'63510a2ec778a70001dae8de\\', \\'version\\': 61}]\\n[/MQL]</s>',\n",
       "  '<s>[INST]<<SYS>>\\nYou are an assistant that helps to map the user question to the a particular JSON format which contains info asked by user and also maps it the below CONTEXT. You might also need to act as a time tagger expert to convert the date elements present in the question to a standard format and to find possible date ranges for the same.\\n\\nCONTEXT:[{\\'action_derived_measure_label\\': \\'Worked Hours\\', \\'action_derived_measure\\': None}, {\\'date\\': \\'AFS_SHIFT_DATE_START\\', \\'date_label\\': \\'Shift Date Start\\'}]\\n\\nStep 1: Identify the n-grams match between question and context\\n\\n        Map the n-gram or their lemma or their inflections from the question with the values in the passed context.\\n        Always consider the longest n-gram match, not the sub-string.\\n        If there are multiple matches for an n-gram with context, return all such ENTITY in response.\\n        If you are returning any match which is not exactly present with the context, make sure that it is a noun phrase and there is a high similarity between the match and the matched value in context. \\n\\n\\nStep 2: Applying time tagger rules only if time elements are present in question\\n\\n        Identify the TIME ELEMENTS in the input question and convert it to a standard format (if not already) by applying the general time tagging rules. If the TIME ELEMENT is already in a standard format, then no need to convert it.\\n        TIME ELEMENT can be either a temporal interval (across months, yoy, mom, qoq, wow, quarterly etc.) or a temporal expression (time points such as specific dates, relative expressions etc.).\\n        Calculate date range for each time points based on the following conditions:\\n        1. For relative time expressions, calculate the date range based on a reference date - By default the reference date is the end_date in date input: {\\'start_date\\': \\'01/01/2020\\', \\'end_date\\': \\'15/09/2023\\'}\\n        2. To calculate the date range for \"last X years\", strictly follow below conditions:\\n                For \"last 1 year\", consider exactly one year before the reference year and set start date as January 1 and end date as Decemebr 31 of that year.\\n                For \"last X years\", where X is greater than 1, consider starting year = (reference year - X+1) and set start date as January 1 of starting year and end date as the reference date.\\n        3. To calculate the date range for \"last X months\", strictly follow below conditions:\\n                Consider reference month as the month in reference date.\\n                For \"last 1 month\", consider exactly one month before the reference month and set start date as first day and end date as last day of that month.\\n                For \"last X months\", where X is greater than 1, consider starting month = (reference month - X+1) and set start date as first day of starting month and end date as the reference date. (Example: if reference date is 14/09/2022, then last 3 months = 01/07/2022 - 14/09/2022)\\n        4. To calculate the date range for \"last X quarters\", strictly follow below conditions:\\n                For \"last 1 quarter\", consider exactly one quarter before the reference quarter and set start date as first day and end date as last day of that quarter .\\n                For \"last X quarter\", where X is greater than 1, consider starting quarter = (reference quarter - X+1) and set start date as first day of starting quarter and end date as the reference date.\\n        5. To calculate the date range for \"last X weeks\", strictly follow the below conditions:\\n                Consider reference week as the week in reference week.\\n                For \"last 1 week\", set start date as Monday and end date as Sunday of the previous week of reference week. (Example: if reference date is 14/09/2022, then last week = 05/09/2022 - 11/09/2022)\\n                For \"last X weeks\", set start date as Monday of reference week and set start date as the Monday of that week and end date as reference date. \\n        6. Provide the date range of each time point in \"start date - end date\" format always.\\n\\n<</SYS>>\\nUser question is : trend of worked hours\\n\\nConverted JSON is as shown below: \\n[/INST]\\n[MQL]\\n[{\\'date\\': {\\'trend\\': {\\'AFS_SHIFT_DATE_START\\': {\\'label\\': \\'Shift Date Start\\', \\'operator\\': \\'histogram\\', \\'interval\\': \\'month\\', \\'order\\': \\'asc\\'}}}, \\'action\\': {\\'derived_measure\\': {\\'worked hours\\': {\\'Worked Hours\\': {\\'label\\': \\'Worked Hours\\', \\'order\\': \\'desc\\', \\'operator\\': \\'sum\\', \\'root_variables\\': []}}}, \\'type\\': \\'derived_summarization\\', \\'start_date\\': \\'2021/01/01 00:00:00\\'}, \\'query_type\\': \\'aggregation\\', \\'db_type\\': \\'activity\\', \\'type\\': \\'transaction\\', \\'weight\\': 0.7375, \\'id\\': \\'leni_633b04ad96687f0001250001_e5901702701e416abed2adc878c127fd_0\\', \\'trigger_forecast\\': False, \\'trend_present\\': True, \\'forecast_intent_present\\': False, \\'date_conf\\': \\'Latest Record Date\\', \\'dataset_id\\': \\'63510a2ec778a70001dae8de\\', \\'version\\': 61}]\\n[/MQL]</s>',\n",
       "  '<s>[INST]<<SYS>>\\nYou are an assistant that helps to map the user question to the a particular JSON format which contains info asked by user and also maps it the below CONTEXT. You might also need to act as a time tagger expert to convert the date elements present in the question to a standard format and to find possible date ranges for the same.\\n\\nCONTEXT:[{\\'action_derived_measure_label\\': \\'Open Shifts\\', \\'action_derived_measure\\': None}, {\\'date\\': \\'AFS_SHIFT_DATE_START\\', \\'date_label\\': \\'Shift Date Start\\'}]\\n\\nStep 1: Identify the n-grams match between question and context\\n\\n        Map the n-gram or their lemma or their inflections from the question with the values in the passed context.\\n        Always consider the longest n-gram match, not the sub-string.\\n        If there are multiple matches for an n-gram with context, return all such ENTITY in response.\\n        If you are returning any match which is not exactly present with the context, make sure that it is a noun phrase and there is a high similarity between the match and the matched value in context. \\n\\n\\nStep 2: Applying time tagger rules only if time elements are present in question\\n\\n        Identify the TIME ELEMENTS in the input question and convert it to a standard format (if not already) by applying the general time tagging rules. If the TIME ELEMENT is already in a standard format, then no need to convert it.\\n        TIME ELEMENT can be either a temporal interval (across months, yoy, mom, qoq, wow, quarterly etc.) or a temporal expression (time points such as specific dates, relative expressions etc.).\\n        Calculate date range for each time points based on the following conditions:\\n        1. For relative time expressions, calculate the date range based on a reference date - By default the reference date is the end_date in date input: {\\'start_date\\': \\'01/01/2020\\', \\'end_date\\': \\'15/09/2023\\'}\\n        2. To calculate the date range for \"last X years\", strictly follow below conditions:\\n                For \"last 1 year\", consider exactly one year before the reference year and set start date as January 1 and end date as Decemebr 31 of that year.\\n                For \"last X years\", where X is greater than 1, consider starting year = (reference year - X+1) and set start date as January 1 of starting year and end date as the reference date.\\n        3. To calculate the date range for \"last X months\", strictly follow below conditions:\\n                Consider reference month as the month in reference date.\\n                For \"last 1 month\", consider exactly one month before the reference month and set start date as first day and end date as last day of that month.\\n                For \"last X months\", where X is greater than 1, consider starting month = (reference month - X+1) and set start date as first day of starting month and end date as the reference date. (Example: if reference date is 14/09/2022, then last 3 months = 01/07/2022 - 14/09/2022)\\n        4. To calculate the date range for \"last X quarters\", strictly follow below conditions:\\n                For \"last 1 quarter\", consider exactly one quarter before the reference quarter and set start date as first day and end date as last day of that quarter .\\n                For \"last X quarter\", where X is greater than 1, consider starting quarter = (reference quarter - X+1) and set start date as first day of starting quarter and end date as the reference date.\\n        5. To calculate the date range for \"last X weeks\", strictly follow the below conditions:\\n                Consider reference week as the week in reference week.\\n                For \"last 1 week\", set start date as Monday and end date as Sunday of the previous week of reference week. (Example: if reference date is 14/09/2022, then last week = 05/09/2022 - 11/09/2022)\\n                For \"last X weeks\", set start date as Monday of reference week and set start date as the Monday of that week and end date as reference date. \\n        6. Provide the date range of each time point in \"start date - end date\" format always.\\n\\n<</SYS>>\\nUser question is : trend of opened shifts\\n\\nConverted JSON is as shown below: \\n[/INST]\\n[MQL]\\n[{\\'date\\': {\\'trend\\': {\\'AFS_SHIFT_DATE_START\\': {\\'label\\': \\'Shift Date Start\\', \\'operator\\': \\'histogram\\', \\'interval\\': \\'month\\', \\'order\\': \\'asc\\'}}}, \\'action\\': {\\'derived_measure\\': {\\'opened shifts\\': {\\'Open Shifts\\': {\\'label\\': \\'Open Shifts\\', \\'order\\': \\'desc\\', \\'operator\\': \\'sum\\', \\'root_variables\\': []}}}, \\'type\\': \\'derived_summarization\\', \\'start_date\\': \\'2021/01/01 00:00:00\\'}, \\'query_type\\': \\'aggregation\\', \\'db_type\\': \\'activity\\', \\'type\\': \\'transaction\\', \\'weight\\': 0.7375, \\'id\\': \\'leni_633b04ad96687f0001250001_008bde5ace4e45279dcaa22e856c2ce1_0\\', \\'trigger_forecast\\': False, \\'trend_present\\': True, \\'forecast_intent_present\\': False, \\'date_conf\\': \\'Latest Record Date\\', \\'dataset_id\\': \\'63510a2ec778a70001dae8de\\', \\'version\\': 61}]\\n[/MQL]</s>',\n",
       "  '<s>[INST]<<SYS>>\\nYou are an assistant that helps to map the user question to the a particular JSON format which contains info asked by user and also maps it the below CONTEXT. You might also need to act as a time tagger expert to convert the date elements present in the question to a standard format and to find possible date ranges for the same.\\n\\nCONTEXT:[{\\'action_derived_measure_label\\': \\'Assigned Shift\\', \\'action_derived_measure\\': None}, {\\'date\\': \\'AFS_SHIFT_DATE_START\\', \\'date_label\\': \\'Shift Date Start\\'}]\\n\\nStep 1: Identify the n-grams match between question and context\\n\\n        Map the n-gram or their lemma or their inflections from the question with the values in the passed context.\\n        Always consider the longest n-gram match, not the sub-string.\\n        If there are multiple matches for an n-gram with context, return all such ENTITY in response.\\n        If you are returning any match which is not exactly present with the context, make sure that it is a noun phrase and there is a high similarity between the match and the matched value in context. \\n\\n\\nStep 2: Applying time tagger rules only if time elements are present in question\\n\\n        Identify the TIME ELEMENTS in the input question and convert it to a standard format (if not already) by applying the general time tagging rules. If the TIME ELEMENT is already in a standard format, then no need to convert it.\\n        TIME ELEMENT can be either a temporal interval (across months, yoy, mom, qoq, wow, quarterly etc.) or a temporal expression (time points such as specific dates, relative expressions etc.).\\n        Calculate date range for each time points based on the following conditions:\\n        1. For relative time expressions, calculate the date range based on a reference date - By default the reference date is the end_date in date input: {\\'start_date\\': \\'01/01/2020\\', \\'end_date\\': \\'15/09/2023\\'}\\n        2. To calculate the date range for \"last X years\", strictly follow below conditions:\\n                For \"last 1 year\", consider exactly one year before the reference year and set start date as January 1 and end date as Decemebr 31 of that year.\\n                For \"last X years\", where X is greater than 1, consider starting year = (reference year - X+1) and set start date as January 1 of starting year and end date as the reference date.\\n        3. To calculate the date range for \"last X months\", strictly follow below conditions:\\n                Consider reference month as the month in reference date.\\n                For \"last 1 month\", consider exactly one month before the reference month and set start date as first day and end date as last day of that month.\\n                For \"last X months\", where X is greater than 1, consider starting month = (reference month - X+1) and set start date as first day of starting month and end date as the reference date. (Example: if reference date is 14/09/2022, then last 3 months = 01/07/2022 - 14/09/2022)\\n        4. To calculate the date range for \"last X quarters\", strictly follow below conditions:\\n                For \"last 1 quarter\", consider exactly one quarter before the reference quarter and set start date as first day and end date as last day of that quarter .\\n                For \"last X quarter\", where X is greater than 1, consider starting quarter = (reference quarter - X+1) and set start date as first day of starting quarter and end date as the reference date.\\n        5. To calculate the date range for \"last X weeks\", strictly follow the below conditions:\\n                Consider reference week as the week in reference week.\\n                For \"last 1 week\", set start date as Monday and end date as Sunday of the previous week of reference week. (Example: if reference date is 14/09/2022, then last week = 05/09/2022 - 11/09/2022)\\n                For \"last X weeks\", set start date as Monday of reference week and set start date as the Monday of that week and end date as reference date. \\n        6. Provide the date range of each time point in \"start date - end date\" format always.\\n\\n<</SYS>>\\nUser question is : trend of assigned shifts\\n\\nConverted JSON is as shown below: \\n[/INST]\\n[MQL]\\n[{\\'date\\': {\\'trend\\': {\\'AFS_SHIFT_DATE_START\\': {\\'label\\': \\'Shift Date Start\\', \\'operator\\': \\'histogram\\', \\'interval\\': \\'month\\', \\'order\\': \\'asc\\'}}}, \\'action\\': {\\'derived_measure\\': {\\'assigned shifts\\': {\\'Assigned Shift\\': {\\'label\\': \\'Assigned Shift\\', \\'order\\': \\'desc\\', \\'operator\\': \\'sum\\', \\'root_variables\\': []}}}, \\'type\\': \\'derived_summarization\\', \\'start_date\\': \\'2021/01/01 00:00:00\\'}, \\'query_type\\': \\'aggregation\\', \\'db_type\\': \\'activity\\', \\'type\\': \\'transaction\\', \\'weight\\': 0.7375, \\'id\\': \\'leni_633b04ad96687f0001250001_6784a2b83bfc483aa31f2826ffe63c3a_0\\', \\'trigger_forecast\\': False, \\'trend_present\\': True, \\'forecast_intent_present\\': False, \\'date_conf\\': \\'Latest Record Date\\', \\'dataset_id\\': \\'63510a2ec778a70001dae8de\\', \\'version\\': 61}]\\n[/MQL]</s>',\n",
       "  '<s>[INST]<<SYS>>\\nYou are an assistant that helps to map the user question to the a particular JSON format which contains info asked by user and also maps it the below CONTEXT. You might also need to act as a time tagger expert to convert the date elements present in the question to a standard format and to find possible date ranges for the same.\\n\\nCONTEXT:[{\\'action_derived_measure_label\\': \\'Worked Shift\\', \\'action_derived_measure\\': None}, {\\'date\\': \\'AFS_SHIFT_DATE_START\\', \\'date_label\\': \\'Shift Date Start\\'}]\\n\\nStep 1: Identify the n-grams match between question and context\\n\\n        Map the n-gram or their lemma or their inflections from the question with the values in the passed context.\\n        Always consider the longest n-gram match, not the sub-string.\\n        If there are multiple matches for an n-gram with context, return all such ENTITY in response.\\n        If you are returning any match which is not exactly present with the context, make sure that it is a noun phrase and there is a high similarity between the match and the matched value in context. \\n\\n\\nStep 2: Applying time tagger rules only if time elements are present in question\\n\\n        Identify the TIME ELEMENTS in the input question and convert it to a standard format (if not already) by applying the general time tagging rules. If the TIME ELEMENT is already in a standard format, then no need to convert it.\\n        TIME ELEMENT can be either a temporal interval (across months, yoy, mom, qoq, wow, quarterly etc.) or a temporal expression (time points such as specific dates, relative expressions etc.).\\n        Calculate date range for each time points based on the following conditions:\\n        1. For relative time expressions, calculate the date range based on a reference date - By default the reference date is the end_date in date input: {\\'start_date\\': \\'01/01/2020\\', \\'end_date\\': \\'15/09/2023\\'}\\n        2. To calculate the date range for \"last X years\", strictly follow below conditions:\\n                For \"last 1 year\", consider exactly one year before the reference year and set start date as January 1 and end date as Decemebr 31 of that year.\\n                For \"last X years\", where X is greater than 1, consider starting year = (reference year - X+1) and set start date as January 1 of starting year and end date as the reference date.\\n        3. To calculate the date range for \"last X months\", strictly follow below conditions:\\n                Consider reference month as the month in reference date.\\n                For \"last 1 month\", consider exactly one month before the reference month and set start date as first day and end date as last day of that month.\\n                For \"last X months\", where X is greater than 1, consider starting month = (reference month - X+1) and set start date as first day of starting month and end date as the reference date. (Example: if reference date is 14/09/2022, then last 3 months = 01/07/2022 - 14/09/2022)\\n        4. To calculate the date range for \"last X quarters\", strictly follow below conditions:\\n                For \"last 1 quarter\", consider exactly one quarter before the reference quarter and set start date as first day and end date as last day of that quarter .\\n                For \"last X quarter\", where X is greater than 1, consider starting quarter = (reference quarter - X+1) and set start date as first day of starting quarter and end date as the reference date.\\n        5. To calculate the date range for \"last X weeks\", strictly follow the below conditions:\\n                Consider reference week as the week in reference week.\\n                For \"last 1 week\", set start date as Monday and end date as Sunday of the previous week of reference week. (Example: if reference date is 14/09/2022, then last week = 05/09/2022 - 11/09/2022)\\n                For \"last X weeks\", set start date as Monday of reference week and set start date as the Monday of that week and end date as reference date. \\n        6. Provide the date range of each time point in \"start date - end date\" format always.\\n\\n<</SYS>>\\nUser question is : trend of worked shifts\\n\\nConverted JSON is as shown below: \\n[/INST]\\n[MQL]\\n[{\\'date\\': {\\'trend\\': {\\'AFS_SHIFT_DATE_START\\': {\\'label\\': \\'Shift Date Start\\', \\'operator\\': \\'histogram\\', \\'interval\\': \\'month\\', \\'order\\': \\'asc\\'}}}, \\'action\\': {\\'derived_measure\\': {\\'worked shifts\\': {\\'Worked Shift\\': {\\'label\\': \\'Worked Shift\\', \\'order\\': \\'desc\\', \\'operator\\': \\'sum\\', \\'root_variables\\': []}}}, \\'type\\': \\'derived_summarization\\', \\'start_date\\': \\'2021/01/01 00:00:00\\'}, \\'query_type\\': \\'aggregation\\', \\'db_type\\': \\'activity\\', \\'type\\': \\'transaction\\', \\'weight\\': 0.7375, \\'id\\': \\'leni_633b04ad96687f0001250001_955d1b158b594df59918bec6c0ebfed9_0\\', \\'trigger_forecast\\': False, \\'trend_present\\': True, \\'forecast_intent_present\\': False, \\'date_conf\\': \\'Latest Record Date\\', \\'dataset_id\\': \\'63510a2ec778a70001dae8de\\', \\'version\\': 61}]\\n[/MQL]</s>',\n",
       "  '<s>[INST]<<SYS>>\\nYou are an assistant that helps to map the user question to the a particular JSON format which contains info asked by user and also maps it the below CONTEXT. You might also need to act as a time tagger expert to convert the date elements present in the question to a standard format and to find possible date ranges for the same.\\n\\nCONTEXT:[{\\'action_derived_measure_label\\': \\'Requested Shifts\\', \\'action_derived_measure\\': None}, {\\'date\\': \\'SRD_CREATED_AT\\', \\'date_label\\': \\'Shift Request Created At\\'}]\\n\\nStep 1: Identify the n-grams match between question and context\\n\\n        Map the n-gram or their lemma or their inflections from the question with the values in the passed context.\\n        Always consider the longest n-gram match, not the sub-string.\\n        If there are multiple matches for an n-gram with context, return all such ENTITY in response.\\n        If you are returning any match which is not exactly present with the context, make sure that it is a noun phrase and there is a high similarity between the match and the matched value in context. \\n\\n\\nStep 2: Applying time tagger rules only if time elements are present in question\\n\\n        Identify the TIME ELEMENTS in the input question and convert it to a standard format (if not already) by applying the general time tagging rules. If the TIME ELEMENT is already in a standard format, then no need to convert it.\\n        TIME ELEMENT can be either a temporal interval (across months, yoy, mom, qoq, wow, quarterly etc.) or a temporal expression (time points such as specific dates, relative expressions etc.).\\n        Calculate date range for each time points based on the following conditions:\\n        1. For relative time expressions, calculate the date range based on a reference date - By default the reference date is the end_date in date input: {\\'start_date\\': \\'01/01/2020\\', \\'end_date\\': \\'15/09/2023\\'}\\n        2. To calculate the date range for \"last X years\", strictly follow below conditions:\\n                For \"last 1 year\", consider exactly one year before the reference year and set start date as January 1 and end date as Decemebr 31 of that year.\\n                For \"last X years\", where X is greater than 1, consider starting year = (reference year - X+1) and set start date as January 1 of starting year and end date as the reference date.\\n        3. To calculate the date range for \"last X months\", strictly follow below conditions:\\n                Consider reference month as the month in reference date.\\n                For \"last 1 month\", consider exactly one month before the reference month and set start date as first day and end date as last day of that month.\\n                For \"last X months\", where X is greater than 1, consider starting month = (reference month - X+1) and set start date as first day of starting month and end date as the reference date. (Example: if reference date is 14/09/2022, then last 3 months = 01/07/2022 - 14/09/2022)\\n        4. To calculate the date range for \"last X quarters\", strictly follow below conditions:\\n                For \"last 1 quarter\", consider exactly one quarter before the reference quarter and set start date as first day and end date as last day of that quarter .\\n                For \"last X quarter\", where X is greater than 1, consider starting quarter = (reference quarter - X+1) and set start date as first day of starting quarter and end date as the reference date.\\n        5. To calculate the date range for \"last X weeks\", strictly follow the below conditions:\\n                Consider reference week as the week in reference week.\\n                For \"last 1 week\", set start date as Monday and end date as Sunday of the previous week of reference week. (Example: if reference date is 14/09/2022, then last week = 05/09/2022 - 11/09/2022)\\n                For \"last X weeks\", set start date as Monday of reference week and set start date as the Monday of that week and end date as reference date. \\n        6. Provide the date range of each time point in \"start date - end date\" format always.\\n\\n<</SYS>>\\nUser question is : trend of requested shifts\\n\\nConverted JSON is as shown below: \\n[/INST]\\n[MQL]\\n[{\\'date\\': {\\'trend\\': {\\'SRD_CREATED_AT\\': {\\'label\\': \\'Shift Request Created At\\', \\'operator\\': \\'histogram\\', \\'interval\\': \\'month\\', \\'order\\': \\'asc\\'}}}, \\'action\\': {\\'derived_measure\\': {\\'requested shifts\\': {\\'Requested Shifts\\': {\\'label\\': \\'Requested Shifts\\', \\'order\\': \\'desc\\', \\'operator\\': \\'sum\\', \\'root_variables\\': []}}}, \\'type\\': \\'derived_summarization\\', \\'start_date\\': \\'2021/01/01 00:00:00\\'}, \\'query_type\\': \\'aggregation\\', \\'db_type\\': \\'activity\\', \\'type\\': \\'transaction\\', \\'weight\\': 0.7583333333333333, \\'id\\': \\'leni_633b04ad96687f0001250001_3401580c50974d2386cee09bbba22160_0\\', \\'trigger_forecast\\': False, \\'trend_present\\': True, \\'forecast_intent_present\\': False, \\'date_conf\\': \\'Latest Record Date\\', \\'dataset_id\\': \\'63510a96ff5d530001d2e180\\', \\'version\\': 61}]\\n[/MQL]</s>',\n",
       "  '<s>[INST]<<SYS>>\\nYou are an assistant that helps to map the user question to the a particular JSON format which contains info asked by user and also maps it the below CONTEXT. You might also need to act as a time tagger expert to convert the date elements present in the question to a standard format and to find possible date ranges for the same.\\n\\nCONTEXT:[{\\'action_derived_measure_label\\': \\'Number of Providers\\', \\'action_derived_measure\\': None}, {\\'date\\': \\'FPP_PROVIDER_SINCE\\', \\'date_label\\': \\'Provider Since\\'}]\\n\\nStep 1: Identify the n-grams match between question and context\\n\\n        Map the n-gram or their lemma or their inflections from the question with the values in the passed context.\\n        Always consider the longest n-gram match, not the sub-string.\\n        If there are multiple matches for an n-gram with context, return all such ENTITY in response.\\n        If you are returning any match which is not exactly present with the context, make sure that it is a noun phrase and there is a high similarity between the match and the matched value in context. \\n\\n\\nStep 2: Applying time tagger rules only if time elements are present in question\\n\\n        Identify the TIME ELEMENTS in the input question and convert it to a standard format (if not already) by applying the general time tagging rules. If the TIME ELEMENT is already in a standard format, then no need to convert it.\\n        TIME ELEMENT can be either a temporal interval (across months, yoy, mom, qoq, wow, quarterly etc.) or a temporal expression (time points such as specific dates, relative expressions etc.).\\n        Calculate date range for each time points based on the following conditions:\\n        1. For relative time expressions, calculate the date range based on a reference date - By default the reference date is the end_date in date input: {\\'start_date\\': \\'01/01/2020\\', \\'end_date\\': \\'15/09/2023\\'}\\n        2. To calculate the date range for \"last X years\", strictly follow below conditions:\\n                For \"last 1 year\", consider exactly one year before the reference year and set start date as January 1 and end date as Decemebr 31 of that year.\\n                For \"last X years\", where X is greater than 1, consider starting year = (reference year - X+1) and set start date as January 1 of starting year and end date as the reference date.\\n        3. To calculate the date range for \"last X months\", strictly follow below conditions:\\n                Consider reference month as the month in reference date.\\n                For \"last 1 month\", consider exactly one month before the reference month and set start date as first day and end date as last day of that month.\\n                For \"last X months\", where X is greater than 1, consider starting month = (reference month - X+1) and set start date as first day of starting month and end date as the reference date. (Example: if reference date is 14/09/2022, then last 3 months = 01/07/2022 - 14/09/2022)\\n        4. To calculate the date range for \"last X quarters\", strictly follow below conditions:\\n                For \"last 1 quarter\", consider exactly one quarter before the reference quarter and set start date as first day and end date as last day of that quarter .\\n                For \"last X quarter\", where X is greater than 1, consider starting quarter = (reference quarter - X+1) and set start date as first day of starting quarter and end date as the reference date.\\n        5. To calculate the date range for \"last X weeks\", strictly follow the below conditions:\\n                Consider reference week as the week in reference week.\\n                For \"last 1 week\", set start date as Monday and end date as Sunday of the previous week of reference week. (Example: if reference date is 14/09/2022, then last week = 05/09/2022 - 11/09/2022)\\n                For \"last X weeks\", set start date as Monday of reference week and set start date as the Monday of that week and end date as reference date. \\n        6. Provide the date range of each time point in \"start date - end date\" format always.\\n\\n<</SYS>>\\nUser question is : trend of number of providers\\n\\nConverted JSON is as shown below: \\n[/INST]\\n[MQL]\\n[{\\'date\\': {\\'trend\\': {\\'FPP_PROVIDER_SINCE\\': {\\'label\\': \\'Provider Since\\', \\'operator\\': \\'histogram\\', \\'interval\\': \\'month\\', \\'order\\': \\'asc\\'}}}, \\'action\\': {\\'derived_measure\\': {\\'number of providers\\': {\\'Number of Providers\\': {\\'label\\': \\'Number of Providers\\', \\'order\\': \\'desc\\', \\'operator\\': \\'sum\\', \\'root_variables\\': []}}}, \\'type\\': \\'derived_summarization\\', \\'start_date\\': \\'2021/01/01 00:00:00\\'}, \\'query_type\\': \\'aggregation\\', \\'db_type\\': \\'activity\\', \\'type\\': \\'transaction\\', \\'weight\\': 0.8, \\'id\\': \\'leni_633b04ad96687f0001250001_aef000ca190c409a837ef5c068ab69ae_0\\', \\'trigger_forecast\\': False, \\'trend_present\\': True, \\'forecast_intent_present\\': False, \\'date_conf\\': \\'Latest Record Date\\', \\'dataset_id\\': \\'636913a95537400001f02eee\\', \\'version\\': 61}]\\n[/MQL]</s>',\n",
       "  '<s>[INST]<<SYS>>\\nYou are an assistant that helps to map the user question to the a particular JSON format which contains info asked by user and also maps it the below CONTEXT. You might also need to act as a time tagger expert to convert the date elements present in the question to a standard format and to find possible date ranges for the same.\\n\\nCONTEXT:[{\\'action_derived_measure_label\\': \\'Number of Facility\\', \\'action_derived_measure\\': None}, {\\'date\\': \\'FFP_CREATED_AT\\', \\'date_label\\': \\'Created At\\'}]\\n\\nStep 1: Identify the n-grams match between question and context\\n\\n        Map the n-gram or their lemma or their inflections from the question with the values in the passed context.\\n        Always consider the longest n-gram match, not the sub-string.\\n        If there are multiple matches for an n-gram with context, return all such ENTITY in response.\\n        If you are returning any match which is not exactly present with the context, make sure that it is a noun phrase and there is a high similarity between the match and the matched value in context. \\n\\n\\nStep 2: Applying time tagger rules only if time elements are present in question\\n\\n        Identify the TIME ELEMENTS in the input question and convert it to a standard format (if not already) by applying the general time tagging rules. If the TIME ELEMENT is already in a standard format, then no need to convert it.\\n        TIME ELEMENT can be either a temporal interval (across months, yoy, mom, qoq, wow, quarterly etc.) or a temporal expression (time points such as specific dates, relative expressions etc.).\\n        Calculate date range for each time points based on the following conditions:\\n        1. For relative time expressions, calculate the date range based on a reference date - By default the reference date is the end_date in date input: {\\'start_date\\': \\'01/01/2020\\', \\'end_date\\': \\'15/09/2023\\'}\\n        2. To calculate the date range for \"last X years\", strictly follow below conditions:\\n                For \"last 1 year\", consider exactly one year before the reference year and set start date as January 1 and end date as Decemebr 31 of that year.\\n                For \"last X years\", where X is greater than 1, consider starting year = (reference year - X+1) and set start date as January 1 of starting year and end date as the reference date.\\n        3. To calculate the date range for \"last X months\", strictly follow below conditions:\\n                Consider reference month as the month in reference date.\\n                For \"last 1 month\", consider exactly one month before the reference month and set start date as first day and end date as last day of that month.\\n                For \"last X months\", where X is greater than 1, consider starting month = (reference month - X+1) and set start date as first day of starting month and end date as the reference date. (Example: if reference date is 14/09/2022, then last 3 months = 01/07/2022 - 14/09/2022)\\n        4. To calculate the date range for \"last X quarters\", strictly follow below conditions:\\n                For \"last 1 quarter\", consider exactly one quarter before the reference quarter and set start date as first day and end date as last day of that quarter .\\n                For \"last X quarter\", where X is greater than 1, consider starting quarter = (reference quarter - X+1) and set start date as first day of starting quarter and end date as the reference date.\\n        5. To calculate the date range for \"last X weeks\", strictly follow the below conditions:\\n                Consider reference week as the week in reference week.\\n                For \"last 1 week\", set start date as Monday and end date as Sunday of the previous week of reference week. (Example: if reference date is 14/09/2022, then last week = 05/09/2022 - 11/09/2022)\\n                For \"last X weeks\", set start date as Monday of reference week and set start date as the Monday of that week and end date as reference date. \\n        6. Provide the date range of each time point in \"start date - end date\" format always.\\n\\n<</SYS>>\\nUser question is : trend of number of facilities\\n\\nConverted JSON is as shown below: \\n[/INST]\\n[MQL]\\n[{\\'date\\': {\\'trend\\': {\\'FFP_CREATED_AT\\': {\\'label\\': \\'Created At\\', \\'operator\\': \\'histogram\\', \\'interval\\': \\'month\\', \\'order\\': \\'asc\\'}}}, \\'action\\': {\\'derived_measure\\': {\\'number of facilities\\': {\\'Number of Facility\\': {\\'label\\': \\'Number of Facility\\', \\'order\\': \\'desc\\', \\'operator\\': \\'sum\\', \\'root_variables\\': []}}}, \\'type\\': \\'derived_summarization\\', \\'start_date\\': \\'2021/01/04 00:00:00\\'}, \\'query_type\\': \\'aggregation\\', \\'db_type\\': \\'activity\\', \\'type\\': \\'transaction\\', \\'weight\\': 0.8, \\'id\\': \\'leni_633b04ad96687f0001250001_73a3f2478cd74a12a449b99fd8a5eb32_0\\', \\'trigger_forecast\\': False, \\'trend_present\\': True, \\'forecast_intent_present\\': False, \\'date_conf\\': \\'Latest Record Date\\', \\'dataset_id\\': \\'6369164ba992e7000164f592\\', \\'version\\': 61}]\\n[/MQL]</s>',\n",
       "  '<s>[INST]<<SYS>>\\nYou are an assistant that helps to map the user question to the a particular JSON format which contains info asked by user and also maps it the below CONTEXT. You might also need to act as a time tagger expert to convert the date elements present in the question to a standard format and to find possible date ranges for the same.\\n\\nCONTEXT:[{\\'action_derived_measure_label\\': \\'Number of Facility\\', \\'action_derived_measure\\': None}, {\\'date\\': \\'FFP_CREATED_AT\\', \\'date_label\\': \\'Created At\\'}]\\n\\nStep 1: Identify the n-grams match between question and context\\n\\n        Map the n-gram or their lemma or their inflections from the question with the values in the passed context.\\n        Always consider the longest n-gram match, not the sub-string.\\n        If there are multiple matches for an n-gram with context, return all such ENTITY in response.\\n        If you are returning any match which is not exactly present with the context, make sure that it is a noun phrase and there is a high similarity between the match and the matched value in context. \\n\\n\\nStep 2: Applying time tagger rules only if time elements are present in question\\n\\n        Identify the TIME ELEMENTS in the input question and convert it to a standard format (if not already) by applying the general time tagging rules. If the TIME ELEMENT is already in a standard format, then no need to convert it.\\n        TIME ELEMENT can be either a temporal interval (across months, yoy, mom, qoq, wow, quarterly etc.) or a temporal expression (time points such as specific dates, relative expressions etc.).\\n        Calculate date range for each time points based on the following conditions:\\n        1. For relative time expressions, calculate the date range based on a reference date - By default the reference date is the end_date in date input: {\\'start_date\\': \\'01/01/2020\\', \\'end_date\\': \\'15/09/2023\\'}\\n        2. To calculate the date range for \"last X years\", strictly follow below conditions:\\n                For \"last 1 year\", consider exactly one year before the reference year and set start date as January 1 and end date as Decemebr 31 of that year.\\n                For \"last X years\", where X is greater than 1, consider starting year = (reference year - X+1) and set start date as January 1 of starting year and end date as the reference date.\\n        3. To calculate the date range for \"last X months\", strictly follow below conditions:\\n                Consider reference month as the month in reference date.\\n                For \"last 1 month\", consider exactly one month before the reference month and set start date as first day and end date as last day of that month.\\n                For \"last X months\", where X is greater than 1, consider starting month = (reference month - X+1) and set start date as first day of starting month and end date as the reference date. (Example: if reference date is 14/09/2022, then last 3 months = 01/07/2022 - 14/09/2022)\\n        4. To calculate the date range for \"last X quarters\", strictly follow below conditions:\\n                For \"last 1 quarter\", consider exactly one quarter before the reference quarter and set start date as first day and end date as last day of that quarter .\\n                For \"last X quarter\", where X is greater than 1, consider starting quarter = (reference quarter - X+1) and set start date as first day of starting quarter and end date as the reference date.\\n        5. To calculate the date range for \"last X weeks\", strictly follow the below conditions:\\n                Consider reference week as the week in reference week.\\n                For \"last 1 week\", set start date as Monday and end date as Sunday of the previous week of reference week. (Example: if reference date is 14/09/2022, then last week = 05/09/2022 - 11/09/2022)\\n                For \"last X weeks\", set start date as Monday of reference week and set start date as the Monday of that week and end date as reference date. \\n        6. Provide the date range of each time point in \"start date - end date\" format always.\\n\\n<</SYS>>\\nUser question is : trend of number of providers and number of facilities in 2022\\n\\nConverted JSON is as shown below: \\n[/INST]\\n[MQL]\\n[{\\'date\\': {\\'2022\\': {\\'FFP_CREATED_AT\\': {\\'label\\': \\'Created At\\', \\'order\\': \\'asc\\', \\'operator\\': \\'histogram\\', \\'interval\\': \\'month\\'}}}, \\'action\\': {\\'derived_measure\\': {\\'number of facilities\\': {\\'Number of Facility\\': {\\'label\\': \\'Number of Facility\\', \\'order\\': \\'desc\\', \\'operator\\': \\'sum\\', \\'root_variables\\': []}}}, \\'type\\': \\'derived_summarization\\', \\'start_date\\': \\'2021/01/04 00:00:00\\'}, \\'filter\\': {\\'and\\': {\\'range\\': {\\'2022\\': [{\\'gte\\': \\'2022/01/01 00:00:00\\', \\'lte\\': \\'2022/11/12 23:59:59\\'}]}}}, \\'query_type\\': \\'aggregation\\', \\'db_type\\': \\'activity\\', \\'type\\': \\'transaction\\', \\'weight\\': 0.7133333333333333, \\'id\\': \\'leni_633b04ad96687f0001250001_1d51a96f973446efaf54c2919b8d8a99_0\\', \\'trigger_forecast\\': True, \\'trend_present\\': True, \\'forecast_intent_present\\': False, \\'date_conf\\': \\'Latest Record Date\\', \\'dataset_id\\': \\'6369164ba992e7000164f592\\', \\'version\\': 61}]\\n[/MQL]</s>',\n",
       "  '<s>[INST]<<SYS>>\\nYou are an assistant that helps to map the user question to the a particular JSON format which contains info asked by user and also maps it the below CONTEXT. You might also need to act as a time tagger expert to convert the date elements present in the question to a standard format and to find possible date ranges for the same.\\n\\nCONTEXT:[{\\'action_derived_measure_label\\': \\'Number of Providers\\', \\'action_derived_measure\\': None}, {\\'date\\': \\'FPP_PROVIDER_SINCE\\', \\'date_label\\': \\'Provider Since\\'}]\\n\\nStep 1: Identify the n-grams match between question and context\\n\\n        Map the n-gram or their lemma or their inflections from the question with the values in the passed context.\\n        Always consider the longest n-gram match, not the sub-string.\\n        If there are multiple matches for an n-gram with context, return all such ENTITY in response.\\n        If you are returning any match which is not exactly present with the context, make sure that it is a noun phrase and there is a high similarity between the match and the matched value in context. \\n\\n\\nStep 2: Applying time tagger rules only if time elements are present in question\\n\\n        Identify the TIME ELEMENTS in the input question and convert it to a standard format (if not already) by applying the general time tagging rules. If the TIME ELEMENT is already in a standard format, then no need to convert it.\\n        TIME ELEMENT can be either a temporal interval (across months, yoy, mom, qoq, wow, quarterly etc.) or a temporal expression (time points such as specific dates, relative expressions etc.).\\n        Calculate date range for each time points based on the following conditions:\\n        1. For relative time expressions, calculate the date range based on a reference date - By default the reference date is the end_date in date input: {\\'start_date\\': \\'01/01/2020\\', \\'end_date\\': \\'15/09/2023\\'}\\n        2. To calculate the date range for \"last X years\", strictly follow below conditions:\\n                For \"last 1 year\", consider exactly one year before the reference year and set start date as January 1 and end date as Decemebr 31 of that year.\\n                For \"last X years\", where X is greater than 1, consider starting year = (reference year - X+1) and set start date as January 1 of starting year and end date as the reference date.\\n        3. To calculate the date range for \"last X months\", strictly follow below conditions:\\n                Consider reference month as the month in reference date.\\n                For \"last 1 month\", consider exactly one month before the reference month and set start date as first day and end date as last day of that month.\\n                For \"last X months\", where X is greater than 1, consider starting month = (reference month - X+1) and set start date as first day of starting month and end date as the reference date. (Example: if reference date is 14/09/2022, then last 3 months = 01/07/2022 - 14/09/2022)\\n        4. To calculate the date range for \"last X quarters\", strictly follow below conditions:\\n                For \"last 1 quarter\", consider exactly one quarter before the reference quarter and set start date as first day and end date as last day of that quarter .\\n                For \"last X quarter\", where X is greater than 1, consider starting quarter = (reference quarter - X+1) and set start date as first day of starting quarter and end date as the reference date.\\n        5. To calculate the date range for \"last X weeks\", strictly follow the below conditions:\\n                Consider reference week as the week in reference week.\\n                For \"last 1 week\", set start date as Monday and end date as Sunday of the previous week of reference week. (Example: if reference date is 14/09/2022, then last week = 05/09/2022 - 11/09/2022)\\n                For \"last X weeks\", set start date as Monday of reference week and set start date as the Monday of that week and end date as reference date. \\n        6. Provide the date range of each time point in \"start date - end date\" format always.\\n\\n<</SYS>>\\nUser question is : trend of number of providers and number of facilities in 2022\\n\\nConverted JSON is as shown below: \\n[/INST]\\n[MQL]\\n[{\\'date\\': {\\'2022\\': {\\'FPP_PROVIDER_SINCE\\': {\\'label\\': \\'Provider Since\\', \\'order\\': \\'asc\\', \\'operator\\': \\'histogram\\', \\'interval\\': \\'month\\'}}}, \\'action\\': {\\'derived_measure\\': {\\'number of providers\\': {\\'Number of Providers\\': {\\'label\\': \\'Number of Providers\\', \\'order\\': \\'desc\\', \\'operator\\': \\'sum\\', \\'root_variables\\': []}}}, \\'type\\': \\'derived_summarization\\', \\'start_date\\': \\'2021/01/01 00:00:00\\'}, \\'filter\\': {\\'and\\': {\\'range\\': {\\'2022\\': [{\\'gte\\': \\'2022/01/01 00:00:00\\', \\'lte\\': \\'2022/11/13 23:59:59\\'}]}}}, \\'query_type\\': \\'aggregation\\', \\'db_type\\': \\'activity\\', \\'type\\': \\'transaction\\', \\'weight\\': 0.7133333333333333, \\'id\\': \\'leni_633b04ad96687f0001250001_020331e2c6e140a0a66cdf8db4d4cc24_0\\', \\'trigger_forecast\\': True, \\'trend_present\\': True, \\'forecast_intent_present\\': False, \\'date_conf\\': \\'Latest Record Date\\', \\'dataset_id\\': \\'636913a95537400001f02eee\\', \\'version\\': 61}]\\n[/MQL]</s>',\n",
       "  '<s>[INST]<<SYS>>\\nYou are an assistant that helps to map the user question to the a particular JSON format which contains info asked by user and also maps it the below CONTEXT. You might also need to act as a time tagger expert to convert the date elements present in the question to a standard format and to find possible date ranges for the same.\\n\\nCONTEXT:[{\\'measure\\': \\'PROFIT\\', \\'measure_label\\': \\'Profit in Dollars\\'}, {\\'date\\': \\'AFS_SHIFT_DATE_START\\', \\'date_label\\': \\'Shift Date Start\\'}]\\n\\nStep 1: Identify the n-grams match between question and context\\n\\n        Map the n-gram or their lemma or their inflections from the question with the values in the passed context.\\n        Always consider the longest n-gram match, not the sub-string.\\n        If there are multiple matches for an n-gram with context, return all such ENTITY in response.\\n        If you are returning any match which is not exactly present with the context, make sure that it is a noun phrase and there is a high similarity between the match and the matched value in context. \\n\\n\\nStep 2: Applying time tagger rules only if time elements are present in question\\n\\n        Identify the TIME ELEMENTS in the input question and convert it to a standard format (if not already) by applying the general time tagging rules. If the TIME ELEMENT is already in a standard format, then no need to convert it.\\n        TIME ELEMENT can be either a temporal interval (across months, yoy, mom, qoq, wow, quarterly etc.) or a temporal expression (time points such as specific dates, relative expressions etc.).\\n        Calculate date range for each time points based on the following conditions:\\n        1. For relative time expressions, calculate the date range based on a reference date - By default the reference date is the end_date in date input: {\\'start_date\\': \\'01/01/2020\\', \\'end_date\\': \\'15/09/2023\\'}\\n        2. To calculate the date range for \"last X years\", strictly follow below conditions:\\n                For \"last 1 year\", consider exactly one year before the reference year and set start date as January 1 and end date as Decemebr 31 of that year.\\n                For \"last X years\", where X is greater than 1, consider starting year = (reference year - X+1) and set start date as January 1 of starting year and end date as the reference date.\\n        3. To calculate the date range for \"last X months\", strictly follow below conditions:\\n                Consider reference month as the month in reference date.\\n                For \"last 1 month\", consider exactly one month before the reference month and set start date as first day and end date as last day of that month.\\n                For \"last X months\", where X is greater than 1, consider starting month = (reference month - X+1) and set start date as first day of starting month and end date as the reference date. (Example: if reference date is 14/09/2022, then last 3 months = 01/07/2022 - 14/09/2022)\\n        4. To calculate the date range for \"last X quarters\", strictly follow below conditions:\\n                For \"last 1 quarter\", consider exactly one quarter before the reference quarter and set start date as first day and end date as last day of that quarter .\\n                For \"last X quarter\", where X is greater than 1, consider starting quarter = (reference quarter - X+1) and set start date as first day of starting quarter and end date as the reference date.\\n        5. To calculate the date range for \"last X weeks\", strictly follow the below conditions:\\n                Consider reference week as the week in reference week.\\n                For \"last 1 week\", set start date as Monday and end date as Sunday of the previous week of reference week. (Example: if reference date is 14/09/2022, then last week = 05/09/2022 - 11/09/2022)\\n                For \"last X weeks\", set start date as Monday of reference week and set start date as the Monday of that week and end date as reference date. \\n        6. Provide the date range of each time point in \"start date - end date\" format always.\\n\\n<</SYS>>\\nUser question is : trend of profit\\n\\nConverted JSON is as shown below: \\n[/INST]\\n[MQL]\\n[{\\'measure\\': {\\'profit\\': {\\'PROFIT\\': {\\'label\\': \\'Profit in Dollars\\', \\'order\\': \\'desc\\', \\'operator\\': \\'sum\\'}}}, \\'date\\': {\\'trend\\': {\\'AFS_SHIFT_DATE_START\\': {\\'label\\': \\'Shift Date Start\\', \\'operator\\': \\'histogram\\', \\'interval\\': \\'month\\', \\'order\\': \\'asc\\'}}}, \\'query_type\\': \\'aggregation\\', \\'db_type\\': \\'activity\\', \\'type\\': \\'transaction\\', \\'weight\\': 0.7375, \\'id\\': \\'leni_633b04ad96687f0001250001_b22fb4b9a95048b7b36be77e83cea1cb_0\\', \\'trigger_forecast\\': False, \\'trend_present\\': True, \\'forecast_intent_present\\': False, \\'date_conf\\': \\'Latest Record Date\\', \\'dataset_id\\': \\'63510a2ec778a70001dae8de\\', \\'version\\': 63}]\\n[/MQL]</s>',\n",
       "  '<s>[INST]<<SYS>>\\nYou are an assistant that helps to map the user question to the a particular JSON format which contains info asked by user and also maps it the below CONTEXT. You might also need to act as a time tagger expert to convert the date elements present in the question to a standard format and to find possible date ranges for the same.\\n\\nCONTEXT:[{\\'measure\\': \\'PROFIT\\', \\'measure_label\\': \\'Profit in Dollars\\'}, {\\'date\\': \\'AFS_SHIFT_DATE_START\\', \\'date_label\\': \\'Shift Date Start\\'}]\\n\\nStep 1: Identify the n-grams match between question and context\\n\\n        Map the n-gram or their lemma or their inflections from the question with the values in the passed context.\\n        Always consider the longest n-gram match, not the sub-string.\\n        If there are multiple matches for an n-gram with context, return all such ENTITY in response.\\n        If you are returning any match which is not exactly present with the context, make sure that it is a noun phrase and there is a high similarity between the match and the matched value in context. \\n\\n\\nStep 2: Applying time tagger rules only if time elements are present in question\\n\\n        Identify the TIME ELEMENTS in the input question and convert it to a standard format (if not already) by applying the general time tagging rules. If the TIME ELEMENT is already in a standard format, then no need to convert it.\\n        TIME ELEMENT can be either a temporal interval (across months, yoy, mom, qoq, wow, quarterly etc.) or a temporal expression (time points such as specific dates, relative expressions etc.).\\n        Calculate date range for each time points based on the following conditions:\\n        1. For relative time expressions, calculate the date range based on a reference date - By default the reference date is the end_date in date input: {\\'start_date\\': \\'01/01/2020\\', \\'end_date\\': \\'15/09/2023\\'}\\n        2. To calculate the date range for \"last X years\", strictly follow below conditions:\\n                For \"last 1 year\", consider exactly one year before the reference year and set start date as January 1 and end date as Decemebr 31 of that year.\\n                For \"last X years\", where X is greater than 1, consider starting year = (reference year - X+1) and set start date as January 1 of starting year and end date as the reference date.\\n        3. To calculate the date range for \"last X months\", strictly follow below conditions:\\n                Consider reference month as the month in reference date.\\n                For \"last 1 month\", consider exactly one month before the reference month and set start date as first day and end date as last day of that month.\\n                For \"last X months\", where X is greater than 1, consider starting month = (reference month - X+1) and set start date as first day of starting month and end date as the reference date. (Example: if reference date is 14/09/2022, then last 3 months = 01/07/2022 - 14/09/2022)\\n        4. To calculate the date range for \"last X quarters\", strictly follow below conditions:\\n                For \"last 1 quarter\", consider exactly one quarter before the reference quarter and set start date as first day and end date as last day of that quarter .\\n                For \"last X quarter\", where X is greater than 1, consider starting quarter = (reference quarter - X+1) and set start date as first day of starting quarter and end date as the reference date.\\n        5. To calculate the date range for \"last X weeks\", strictly follow the below conditions:\\n                Consider reference week as the week in reference week.\\n                For \"last 1 week\", set start date as Monday and end date as Sunday of the previous week of reference week. (Example: if reference date is 14/09/2022, then last week = 05/09/2022 - 11/09/2022)\\n                For \"last X weeks\", set start date as Monday of reference week and set start date as the Monday of that week and end date as reference date. \\n        6. Provide the date range of each time point in \"start date - end date\" format always.\\n\\n<</SYS>>\\nUser question is : why did profit increased in january 2022\\n\\nConverted JSON is as shown below: \\n[/INST]\\n[MQL]\\n[{\\'measure\\': {\\'profit\\': {\\'PROFIT\\': {\\'label\\': \\'Profit in Dollars\\', \\'order\\': \\'desc\\', \\'operator\\': \\'sum\\'}}}, \\'date\\': {\\'january 2022\\': {\\'AFS_SHIFT_DATE_START\\': {\\'label\\': \\'Shift Date Start\\', \\'order\\': \\'asc\\', \\'operator\\': \\'range\\', \\'ranges\\': [{\\'from\\': \\'2022/01/01 00:00:00\\', \\'to\\': \\'2022/01/31 23:59:59\\'}, {\\'from\\': \\'2021/12/01 00:00:00\\', \\'to\\': \\'2021/12/31 23:59:59\\'}], \\'ref_interval\\': \\'month\\'}}}, \\'action\\': {\\'type\\': \\'why_type\\', \\'start_date\\': \\'2021/01/01 00:00:00\\'}, \\'filter\\': {\\'and\\': {\\'range\\': {\\'january 2022\\': [{\\'gte\\': \\'2022/01/01 00:00:00\\', \\'lte\\': \\'2022/01/31 23:59:59\\'}, {\\'gte\\': \\'2021/12/01 00:00:00\\', \\'lte\\': \\'2021/12/31 23:59:59\\'}]}}}, \\'query_type\\': \\'aggregation\\', \\'db_type\\': \\'activity\\', \\'type\\': \\'transaction\\', \\'weight\\': 0.6979166666666666, \\'id\\': \\'leni_633b04ad96687f0001250001_b8edf3ef6de14962b1908d364955a46e_0\\', \\'trend_present\\': False, \\'forecast_intent_present\\': False, \\'date_conf\\': \\'Latest Record Date\\', \\'dataset_id\\': \\'63510a2ec778a70001dae8de\\', \\'version\\': 63}]\\n[/MQL]</s>',\n",
       "  '<s>[INST]<<SYS>>\\nYou are an assistant that helps to map the user question to the a particular JSON format which contains info asked by user and also maps it the below CONTEXT. You might also need to act as a time tagger expert to convert the date elements present in the question to a standard format and to find possible date ranges for the same.\\n\\nCONTEXT:[{\\'measure\\': \\'PROFIT\\', \\'measure_label\\': \\'Profit in Dollars\\'}, {\\'date\\': \\'AFS_SHIFT_DATE_START\\', \\'date_label\\': \\'Shift Date Start\\'}]\\n\\nStep 1: Identify the n-grams match between question and context\\n\\n        Map the n-gram or their lemma or their inflections from the question with the values in the passed context.\\n        Always consider the longest n-gram match, not the sub-string.\\n        If there are multiple matches for an n-gram with context, return all such ENTITY in response.\\n        If you are returning any match which is not exactly present with the context, make sure that it is a noun phrase and there is a high similarity between the match and the matched value in context. \\n\\n\\nStep 2: Applying time tagger rules only if time elements are present in question\\n\\n        Identify the TIME ELEMENTS in the input question and convert it to a standard format (if not already) by applying the general time tagging rules. If the TIME ELEMENT is already in a standard format, then no need to convert it.\\n        TIME ELEMENT can be either a temporal interval (across months, yoy, mom, qoq, wow, quarterly etc.) or a temporal expression (time points such as specific dates, relative expressions etc.).\\n        Calculate date range for each time points based on the following conditions:\\n        1. For relative time expressions, calculate the date range based on a reference date - By default the reference date is the end_date in date input: {\\'start_date\\': \\'01/01/2020\\', \\'end_date\\': \\'15/09/2023\\'}\\n        2. To calculate the date range for \"last X years\", strictly follow below conditions:\\n                For \"last 1 year\", consider exactly one year before the reference year and set start date as January 1 and end date as Decemebr 31 of that year.\\n                For \"last X years\", where X is greater than 1, consider starting year = (reference year - X+1) and set start date as January 1 of starting year and end date as the reference date.\\n        3. To calculate the date range for \"last X months\", strictly follow below conditions:\\n                Consider reference month as the month in reference date.\\n                For \"last 1 month\", consider exactly one month before the reference month and set start date as first day and end date as last day of that month.\\n                For \"last X months\", where X is greater than 1, consider starting month = (reference month - X+1) and set start date as first day of starting month and end date as the reference date. (Example: if reference date is 14/09/2022, then last 3 months = 01/07/2022 - 14/09/2022)\\n        4. To calculate the date range for \"last X quarters\", strictly follow below conditions:\\n                For \"last 1 quarter\", consider exactly one quarter before the reference quarter and set start date as first day and end date as last day of that quarter .\\n                For \"last X quarter\", where X is greater than 1, consider starting quarter = (reference quarter - X+1) and set start date as first day of starting quarter and end date as the reference date.\\n        5. To calculate the date range for \"last X weeks\", strictly follow the below conditions:\\n                Consider reference week as the week in reference week.\\n                For \"last 1 week\", set start date as Monday and end date as Sunday of the previous week of reference week. (Example: if reference date is 14/09/2022, then last week = 05/09/2022 - 11/09/2022)\\n                For \"last X weeks\", set start date as Monday of reference week and set start date as the Monday of that week and end date as reference date. \\n        6. Provide the date range of each time point in \"start date - end date\" format always.\\n\\n<</SYS>>\\nUser question is : what will be profit\\n\\nConverted JSON is as shown below: \\n[/INST]\\n[MQL]\\n[{\\'measure\\': {\\'profit\\': {\\'PROFIT\\': {\\'label\\': \\'Profit in Dollars\\', \\'order\\': \\'desc\\', \\'operator\\': \\'sum\\'}}}, \\'date\\': {\\'Forecast Reference\\': {\\'AFS_SHIFT_DATE_START\\': {\\'label\\': \\'Shift Date Start\\', \\'operator\\': \\'histogram\\', \\'interval\\': \\'month\\', \\'order\\': \\'asc\\'}}}, \\'action\\': {\\'type\\': \\'forecast\\', \\'start_date\\': \\'2021/01/01 00:00:00\\'}, \\'query_type\\': \\'aggregation\\', \\'db_type\\': \\'activity\\', \\'type\\': \\'transaction\\', \\'weight\\': 0.8666666666666667, \\'id\\': \\'leni_633b04ad96687f0001250001_a3ef128263364573b7f7dc27ef6a45c1_0\\', \\'trend_present\\': False, \\'forecast_intent_present\\': True, \\'date_conf\\': \\'Latest Record Date\\', \\'dataset_id\\': \\'63510a2ec778a70001dae8de\\', \\'version\\': 61}]\\n[/MQL]</s>',\n",
       "  '<s>[INST]<<SYS>>\\nYou are an assistant that helps to map the user question to the a particular JSON format which contains info asked by user and also maps it the below CONTEXT. You might also need to act as a time tagger expert to convert the date elements present in the question to a standard format and to find possible date ranges for the same.\\n\\nCONTEXT:[{\\'measure\\': \\'PROFIT\\', \\'measure_label\\': \\'Profit in Dollars\\'}, {\\'dimension\\': \\'FFP_STATE_NAME\\', \\'dimension_label\\': \\'State\\'}, {\\'date\\': \\'AFS_SHIFT_DATE_START\\', \\'date_label\\': \\'Shift Date Start\\'}]\\n\\nStep 1: Identify the n-grams match between question and context\\n\\n        Map the n-gram or their lemma or their inflections from the question with the values in the passed context.\\n        Always consider the longest n-gram match, not the sub-string.\\n        If there are multiple matches for an n-gram with context, return all such ENTITY in response.\\n        If you are returning any match which is not exactly present with the context, make sure that it is a noun phrase and there is a high similarity between the match and the matched value in context. \\n\\n\\nStep 2: Applying time tagger rules only if time elements are present in question\\n\\n        Identify the TIME ELEMENTS in the input question and convert it to a standard format (if not already) by applying the general time tagging rules. If the TIME ELEMENT is already in a standard format, then no need to convert it.\\n        TIME ELEMENT can be either a temporal interval (across months, yoy, mom, qoq, wow, quarterly etc.) or a temporal expression (time points such as specific dates, relative expressions etc.).\\n        Calculate date range for each time points based on the following conditions:\\n        1. For relative time expressions, calculate the date range based on a reference date - By default the reference date is the end_date in date input: {\\'start_date\\': \\'01/01/2020\\', \\'end_date\\': \\'15/09/2023\\'}\\n        2. To calculate the date range for \"last X years\", strictly follow below conditions:\\n                For \"last 1 year\", consider exactly one year before the reference year and set start date as January 1 and end date as Decemebr 31 of that year.\\n                For \"last X years\", where X is greater than 1, consider starting year = (reference year - X+1) and set start date as January 1 of starting year and end date as the reference date.\\n        3. To calculate the date range for \"last X months\", strictly follow below conditions:\\n                Consider reference month as the month in reference date.\\n                For \"last 1 month\", consider exactly one month before the reference month and set start date as first day and end date as last day of that month.\\n                For \"last X months\", where X is greater than 1, consider starting month = (reference month - X+1) and set start date as first day of starting month and end date as the reference date. (Example: if reference date is 14/09/2022, then last 3 months = 01/07/2022 - 14/09/2022)\\n        4. To calculate the date range for \"last X quarters\", strictly follow below conditions:\\n                For \"last 1 quarter\", consider exactly one quarter before the reference quarter and set start date as first day and end date as last day of that quarter .\\n                For \"last X quarter\", where X is greater than 1, consider starting quarter = (reference quarter - X+1) and set start date as first day of starting quarter and end date as the reference date.\\n        5. To calculate the date range for \"last X weeks\", strictly follow the below conditions:\\n                Consider reference week as the week in reference week.\\n                For \"last 1 week\", set start date as Monday and end date as Sunday of the previous week of reference week. (Example: if reference date is 14/09/2022, then last week = 05/09/2022 - 11/09/2022)\\n                For \"last X weeks\", set start date as Monday of reference week and set start date as the Monday of that week and end date as reference date. \\n        6. Provide the date range of each time point in \"start date - end date\" format always.\\n\\n<</SYS>>\\nUser question is : why did profit decrease for texas for sep 2022 vs july 2022\\n\\nConverted JSON is as shown below: \\n[/INST]\\n[MQL]\\n[{\\'measure\\': {\\'profit\\': {\\'PROFIT\\': {\\'label\\': \\'Profit in Dollars\\', \\'order\\': \\'desc\\', \\'operator\\': \\'sum\\'}}}, \\'dimension\\': {\\'texas\\': {\\'FFP_STATE_NAME\\': {\\'label\\': \\'State\\', \\'order\\': \\'desc\\'}, \\'FSP_STATE_NAME\\': {\\'label\\': \\'State Name\\'}, \\'FPP_MAILING_STATE_NAME\\': {\\'label\\': \\'Mailing State\\'}}}, \\'date\\': {\\'sep 2022\\': {\\'AFS_SHIFT_DATE_START\\': {\\'label\\': \\'Shift Date Start\\', \\'order\\': \\'asc\\', \\'operator\\': \\'range\\', \\'ranges\\': [{\\'from\\': \\'2022/09/01 00:00:00\\', \\'to\\': \\'2022/09/30 23:59:59\\'}], \\'ref_interval\\': \\'month\\'}}, \\'july 2022\\': {\\'AFS_SHIFT_DATE_START\\': {\\'label\\': \\'Shift Date Start\\', \\'order\\': \\'asc\\', \\'operator\\': \\'range\\', \\'ranges\\': [{\\'from\\': \\'2022/07/01 00:00:00\\', \\'to\\': \\'2022/07/31 23:59:59\\'}], \\'ref_interval\\': \\'month\\'}}}, \\'action\\': {\\'type\\': \\'why_type\\', \\'start_date\\': \\'2021/01/01 00:00:00\\'}, \\'filter\\': {\\'and\\': {\\'range\\': {\\'sep 2022\\': [{\\'gte\\': \\'2022/09/01 00:00:00\\', \\'lte\\': \\'2022/09/30 23:59:59\\'}], \\'july 2022\\': [{\\'gte\\': \\'2022/07/01 00:00:00\\', \\'lte\\': \\'2022/07/31 23:59:59\\'}]}, \\'eq\\': {\\'texas\\': {\\'FPP_MAILING_STATE_NAME\\': [\\'Texas\\'], \\'FSP_STATE_NAME\\': [\\'Texas\\'], \\'FFP_STATE_NAME\\': [\\'Texas\\']}}}}, \\'query_type\\': \\'aggregation\\', \\'db_type\\': \\'activity\\', \\'type\\': \\'transaction\\', \\'weight\\': 0.6397163120567375, \\'id\\': \\'leni_633b04ad96687f0001250001_aea7f4ac4ba044feaacca7e56a73be55_0\\', \\'trend_present\\': False, \\'forecast_intent_present\\': False, \\'date_conf\\': \\'Latest Record Date\\', \\'dataset_id\\': \\'63510a2ec778a70001dae8de\\', \\'version\\': 61}]\\n[/MQL]</s>',\n",
       "  '<s>[INST]<<SYS>>\\nYou are an assistant that helps to map the user question to the a particular JSON format which contains info asked by user and also maps it the below CONTEXT. You might also need to act as a time tagger expert to convert the date elements present in the question to a standard format and to find possible date ranges for the same.\\n\\nCONTEXT:[{\\'action_derived_measure_label\\': \\'Number of onboard completions\\', \\'action_derived_measure\\': None}, {\\'date\\': \\'FOP_COMPLETED_ON\\', \\'date_label\\': \\'Completed On\\'}]\\n\\nStep 1: Identify the n-grams match between question and context\\n\\n        Map the n-gram or their lemma or their inflections from the question with the values in the passed context.\\n        Always consider the longest n-gram match, not the sub-string.\\n        If there are multiple matches for an n-gram with context, return all such ENTITY in response.\\n        If you are returning any match which is not exactly present with the context, make sure that it is a noun phrase and there is a high similarity between the match and the matched value in context. \\n\\n\\nStep 2: Applying time tagger rules only if time elements are present in question\\n\\n        Identify the TIME ELEMENTS in the input question and convert it to a standard format (if not already) by applying the general time tagging rules. If the TIME ELEMENT is already in a standard format, then no need to convert it.\\n        TIME ELEMENT can be either a temporal interval (across months, yoy, mom, qoq, wow, quarterly etc.) or a temporal expression (time points such as specific dates, relative expressions etc.).\\n        Calculate date range for each time points based on the following conditions:\\n        1. For relative time expressions, calculate the date range based on a reference date - By default the reference date is the end_date in date input: {\\'start_date\\': \\'01/01/2020\\', \\'end_date\\': \\'15/09/2023\\'}\\n        2. To calculate the date range for \"last X years\", strictly follow below conditions:\\n                For \"last 1 year\", consider exactly one year before the reference year and set start date as January 1 and end date as Decemebr 31 of that year.\\n                For \"last X years\", where X is greater than 1, consider starting year = (reference year - X+1) and set start date as January 1 of starting year and end date as the reference date.\\n        3. To calculate the date range for \"last X months\", strictly follow below conditions:\\n                Consider reference month as the month in reference date.\\n                For \"last 1 month\", consider exactly one month before the reference month and set start date as first day and end date as last day of that month.\\n                For \"last X months\", where X is greater than 1, consider starting month = (reference month - X+1) and set start date as first day of starting month and end date as the reference date. (Example: if reference date is 14/09/2022, then last 3 months = 01/07/2022 - 14/09/2022)\\n        4. To calculate the date range for \"last X quarters\", strictly follow below conditions:\\n                For \"last 1 quarter\", consider exactly one quarter before the reference quarter and set start date as first day and end date as last day of that quarter .\\n                For \"last X quarter\", where X is greater than 1, consider starting quarter = (reference quarter - X+1) and set start date as first day of starting quarter and end date as the reference date.\\n        5. To calculate the date range for \"last X weeks\", strictly follow the below conditions:\\n                Consider reference week as the week in reference week.\\n                For \"last 1 week\", set start date as Monday and end date as Sunday of the previous week of reference week. (Example: if reference date is 14/09/2022, then last week = 05/09/2022 - 11/09/2022)\\n                For \"last X weeks\", set start date as Monday of reference week and set start date as the Monday of that week and end date as reference date. \\n        6. Provide the date range of each time point in \"start date - end date\" format always.\\n\\n<</SYS>>\\nUser question is : trend of number of onboard completions in 2022\\n\\nConverted JSON is as shown below: \\n[/INST]\\n[MQL]\\n[{\\'date\\': {\\'2022\\': {\\'FOP_COMPLETED_ON\\': {\\'label\\': \\'Completed On\\', \\'order\\': \\'asc\\', \\'operator\\': \\'histogram\\', \\'interval\\': \\'month\\'}}}, \\'action\\': {\\'derived_measure\\': {\\'number of onboard completions\\': {\\'Number of onboard completions\\': {\\'label\\': \\'Number of onboard completions\\', \\'order\\': \\'desc\\', \\'operator\\': \\'sum\\', \\'root_variables\\': []}}}, \\'type\\': \\'derived_summarization\\', \\'start_date\\': \\'2021/01/01 00:00:00\\'}, \\'filter\\': {\\'and\\': {\\'range\\': {\\'2022\\': [{\\'gte\\': \\'2022/01/01 00:00:00\\', \\'lte\\': \\'2022/12/31 23:59:59\\'}]}}}, \\'query_type\\': \\'aggregation\\', \\'db_type\\': \\'activity\\', \\'type\\': \\'transaction\\', \\'weight\\': 0.7133333333333333, \\'id\\': \\'leni_633b04ad96687f0001250001_cd162b6160184016a34c08ba65b8cd59_0\\', \\'trigger_forecast\\': True, \\'trend_present\\': True, \\'forecast_intent_present\\': False, \\'date_conf\\': \\'System Date\\', \\'dataset_id\\': \\'63510cd3c778a70001dae97a\\', \\'version\\': 63}]\\n[/MQL]</s>',\n",
       "  '<s>[INST]<<SYS>>\\nYou are an assistant that helps to map the user question to the a particular JSON format which contains info asked by user and also maps it the below CONTEXT. You might also need to act as a time tagger expert to convert the date elements present in the question to a standard format and to find possible date ranges for the same.\\n\\nCONTEXT:[{\\'action_derived_measure_label\\': \\'Number of onboard completions\\', \\'action_derived_measure\\': None}, {\\'date\\': \\'FOP_COMPLETED_ON\\', \\'date_label\\': \\'Completed On\\'}]\\n\\nStep 1: Identify the n-grams match between question and context\\n\\n        Map the n-gram or their lemma or their inflections from the question with the values in the passed context.\\n        Always consider the longest n-gram match, not the sub-string.\\n        If there are multiple matches for an n-gram with context, return all such ENTITY in response.\\n        If you are returning any match which is not exactly present with the context, make sure that it is a noun phrase and there is a high similarity between the match and the matched value in context. \\n\\n\\nStep 2: Applying time tagger rules only if time elements are present in question\\n\\n        Identify the TIME ELEMENTS in the input question and convert it to a standard format (if not already) by applying the general time tagging rules. If the TIME ELEMENT is already in a standard format, then no need to convert it.\\n        TIME ELEMENT can be either a temporal interval (across months, yoy, mom, qoq, wow, quarterly etc.) or a temporal expression (time points such as specific dates, relative expressions etc.).\\n        Calculate date range for each time points based on the following conditions:\\n        1. For relative time expressions, calculate the date range based on a reference date - By default the reference date is the end_date in date input: {\\'start_date\\': \\'01/01/2020\\', \\'end_date\\': \\'15/09/2023\\'}\\n        2. To calculate the date range for \"last X years\", strictly follow below conditions:\\n                For \"last 1 year\", consider exactly one year before the reference year and set start date as January 1 and end date as Decemebr 31 of that year.\\n                For \"last X years\", where X is greater than 1, consider starting year = (reference year - X+1) and set start date as January 1 of starting year and end date as the reference date.\\n        3. To calculate the date range for \"last X months\", strictly follow below conditions:\\n                Consider reference month as the month in reference date.\\n                For \"last 1 month\", consider exactly one month before the reference month and set start date as first day and end date as last day of that month.\\n                For \"last X months\", where X is greater than 1, consider starting month = (reference month - X+1) and set start date as first day of starting month and end date as the reference date. (Example: if reference date is 14/09/2022, then last 3 months = 01/07/2022 - 14/09/2022)\\n        4. To calculate the date range for \"last X quarters\", strictly follow below conditions:\\n                For \"last 1 quarter\", consider exactly one quarter before the reference quarter and set start date as first day and end date as last day of that quarter .\\n                For \"last X quarter\", where X is greater than 1, consider starting quarter = (reference quarter - X+1) and set start date as first day of starting quarter and end date as the reference date.\\n        5. To calculate the date range for \"last X weeks\", strictly follow the below conditions:\\n                Consider reference week as the week in reference week.\\n                For \"last 1 week\", set start date as Monday and end date as Sunday of the previous week of reference week. (Example: if reference date is 14/09/2022, then last week = 05/09/2022 - 11/09/2022)\\n                For \"last X weeks\", set start date as Monday of reference week and set start date as the Monday of that week and end date as reference date. \\n        6. Provide the date range of each time point in \"start date - end date\" format always.\\n\\n<</SYS>>\\nUser question is : trend of number of onboard completions in 2021\\n\\nConverted JSON is as shown below: \\n[/INST]\\n[MQL]\\n[{\\'date\\': {\\'2021\\': {\\'FOP_COMPLETED_ON\\': {\\'label\\': \\'Completed On\\', \\'order\\': \\'asc\\', \\'operator\\': \\'histogram\\', \\'interval\\': \\'month\\'}}}, \\'action\\': {\\'derived_measure\\': {\\'number of onboard completions\\': {\\'Number of onboard completions\\': {\\'label\\': \\'Number of onboard completions\\', \\'order\\': \\'desc\\', \\'operator\\': \\'sum\\', \\'root_variables\\': []}}}, \\'type\\': \\'derived_summarization\\', \\'start_date\\': \\'2021/01/01 00:00:00\\'}, \\'filter\\': {\\'and\\': {\\'range\\': {\\'2021\\': [{\\'gte\\': \\'2021/01/01 00:00:00\\', \\'lte\\': \\'2021/12/31 23:59:59\\'}]}}}, \\'query_type\\': \\'aggregation\\', \\'db_type\\': \\'activity\\', \\'type\\': \\'transaction\\', \\'weight\\': 0.7133333333333333, \\'id\\': \\'leni_633b04ad96687f0001250001_06e26210c9e74df480560ce7865548f3_0\\', \\'trigger_forecast\\': True, \\'trend_present\\': True, \\'forecast_intent_present\\': False, \\'date_conf\\': \\'System Date\\', \\'dataset_id\\': \\'63510cd3c778a70001dae97a\\', \\'version\\': 63}]\\n[/MQL]</s>',\n",
       "  '<s>[INST]<<SYS>>\\nYou are an assistant that helps to map the user question to the a particular JSON format which contains info asked by user and also maps it the below CONTEXT. You might also need to act as a time tagger expert to convert the date elements present in the question to a standard format and to find possible date ranges for the same.\\n\\nCONTEXT:[{\\'action_derived_measure_label\\': \\'Number of onboard completions\\', \\'action_derived_measure\\': None}, {\\'date\\': \\'FOP_COMPLETED_ON\\', \\'date_label\\': \\'Completed On\\'}]\\n\\nStep 1: Identify the n-grams match between question and context\\n\\n        Map the n-gram or their lemma or their inflections from the question with the values in the passed context.\\n        Always consider the longest n-gram match, not the sub-string.\\n        If there are multiple matches for an n-gram with context, return all such ENTITY in response.\\n        If you are returning any match which is not exactly present with the context, make sure that it is a noun phrase and there is a high similarity between the match and the matched value in context. \\n\\n\\nStep 2: Applying time tagger rules only if time elements are present in question\\n\\n        Identify the TIME ELEMENTS in the input question and convert it to a standard format (if not already) by applying the general time tagging rules. If the TIME ELEMENT is already in a standard format, then no need to convert it.\\n        TIME ELEMENT can be either a temporal interval (across months, yoy, mom, qoq, wow, quarterly etc.) or a temporal expression (time points such as specific dates, relative expressions etc.).\\n        Calculate date range for each time points based on the following conditions:\\n        1. For relative time expressions, calculate the date range based on a reference date - By default the reference date is the end_date in date input: {\\'start_date\\': \\'01/01/2020\\', \\'end_date\\': \\'15/09/2023\\'}\\n        2. To calculate the date range for \"last X years\", strictly follow below conditions:\\n                For \"last 1 year\", consider exactly one year before the reference year and set start date as January 1 and end date as Decemebr 31 of that year.\\n                For \"last X years\", where X is greater than 1, consider starting year = (reference year - X+1) and set start date as January 1 of starting year and end date as the reference date.\\n        3. To calculate the date range for \"last X months\", strictly follow below conditions:\\n                Consider reference month as the month in reference date.\\n                For \"last 1 month\", consider exactly one month before the reference month and set start date as first day and end date as last day of that month.\\n                For \"last X months\", where X is greater than 1, consider starting month = (reference month - X+1) and set start date as first day of starting month and end date as the reference date. (Example: if reference date is 14/09/2022, then last 3 months = 01/07/2022 - 14/09/2022)\\n        4. To calculate the date range for \"last X quarters\", strictly follow below conditions:\\n                For \"last 1 quarter\", consider exactly one quarter before the reference quarter and set start date as first day and end date as last day of that quarter .\\n                For \"last X quarter\", where X is greater than 1, consider starting quarter = (reference quarter - X+1) and set start date as first day of starting quarter and end date as the reference date.\\n        5. To calculate the date range for \"last X weeks\", strictly follow the below conditions:\\n                Consider reference week as the week in reference week.\\n                For \"last 1 week\", set start date as Monday and end date as Sunday of the previous week of reference week. (Example: if reference date is 14/09/2022, then last week = 05/09/2022 - 11/09/2022)\\n                For \"last X weeks\", set start date as Monday of reference week and set start date as the Monday of that week and end date as reference date. \\n        6. Provide the date range of each time point in \"start date - end date\" format always.\\n\\n<</SYS>>\\nUser question is : trend of number of onboard completions in 2022\\n\\nConverted JSON is as shown below: \\n[/INST]\\n[MQL]\\n[{\\'date\\': {\\'2022\\': {\\'FOP_COMPLETED_ON\\': {\\'label\\': \\'Completed On\\', \\'order\\': \\'asc\\', \\'operator\\': \\'histogram\\', \\'interval\\': \\'month\\'}}}, \\'action\\': {\\'derived_measure\\': {\\'number of onboard completions\\': {\\'Number of onboard completions\\': {\\'label\\': \\'Number of onboard completions\\', \\'order\\': \\'desc\\', \\'operator\\': \\'sum\\', \\'root_variables\\': []}}}, \\'type\\': \\'derived_summarization\\', \\'start_date\\': \\'2021/01/01 00:00:00\\'}, \\'filter\\': {\\'and\\': {\\'range\\': {\\'2022\\': [{\\'gte\\': \\'2022/01/01 00:00:00\\', \\'lte\\': \\'2022/12/31 23:59:59\\'}]}}}, \\'query_type\\': \\'aggregation\\', \\'db_type\\': \\'activity\\', \\'type\\': \\'transaction\\', \\'weight\\': 0.7133333333333333, \\'id\\': \\'leni_633b04ad96687f0001250001_8ff0a3a5250d4441a99e9f99a2c24108_0\\', \\'trigger_forecast\\': True, \\'trend_present\\': True, \\'forecast_intent_present\\': False, \\'date_conf\\': \\'System Date\\', \\'dataset_id\\': \\'63510cd3c778a70001dae97a\\', \\'version\\': 63}]\\n[/MQL]</s>',\n",
       "  '<s>[INST]<<SYS>>\\nYou are an assistant that helps to map the user question to the a particular JSON format which contains info asked by user and also maps it the below CONTEXT. You might also need to act as a time tagger expert to convert the date elements present in the question to a standard format and to find possible date ranges for the same.\\n\\nCONTEXT:[{\\'action_derived_measure_label\\': \\'Number of onboard completions\\', \\'action_derived_measure\\': None}, {\\'date\\': \\'FOP_COMPLETED_ON\\', \\'date_label\\': \\'Completed On\\'}]\\n\\nStep 1: Identify the n-grams match between question and context\\n\\n        Map the n-gram or their lemma or their inflections from the question with the values in the passed context.\\n        Always consider the longest n-gram match, not the sub-string.\\n        If there are multiple matches for an n-gram with context, return all such ENTITY in response.\\n        If you are returning any match which is not exactly present with the context, make sure that it is a noun phrase and there is a high similarity between the match and the matched value in context. \\n\\n\\nStep 2: Applying time tagger rules only if time elements are present in question\\n\\n        Identify the TIME ELEMENTS in the input question and convert it to a standard format (if not already) by applying the general time tagging rules. If the TIME ELEMENT is already in a standard format, then no need to convert it.\\n        TIME ELEMENT can be either a temporal interval (across months, yoy, mom, qoq, wow, quarterly etc.) or a temporal expression (time points such as specific dates, relative expressions etc.).\\n        Calculate date range for each time points based on the following conditions:\\n        1. For relative time expressions, calculate the date range based on a reference date - By default the reference date is the end_date in date input: {\\'start_date\\': \\'01/01/2020\\', \\'end_date\\': \\'15/09/2023\\'}\\n        2. To calculate the date range for \"last X years\", strictly follow below conditions:\\n                For \"last 1 year\", consider exactly one year before the reference year and set start date as January 1 and end date as Decemebr 31 of that year.\\n                For \"last X years\", where X is greater than 1, consider starting year = (reference year - X+1) and set start date as January 1 of starting year and end date as the reference date.\\n        3. To calculate the date range for \"last X months\", strictly follow below conditions:\\n                Consider reference month as the month in reference date.\\n                For \"last 1 month\", consider exactly one month before the reference month and set start date as first day and end date as last day of that month.\\n                For \"last X months\", where X is greater than 1, consider starting month = (reference month - X+1) and set start date as first day of starting month and end date as the reference date. (Example: if reference date is 14/09/2022, then last 3 months = 01/07/2022 - 14/09/2022)\\n        4. To calculate the date range for \"last X quarters\", strictly follow below conditions:\\n                For \"last 1 quarter\", consider exactly one quarter before the reference quarter and set start date as first day and end date as last day of that quarter .\\n                For \"last X quarter\", where X is greater than 1, consider starting quarter = (reference quarter - X+1) and set start date as first day of starting quarter and end date as the reference date.\\n        5. To calculate the date range for \"last X weeks\", strictly follow the below conditions:\\n                Consider reference week as the week in reference week.\\n                For \"last 1 week\", set start date as Monday and end date as Sunday of the previous week of reference week. (Example: if reference date is 14/09/2022, then last week = 05/09/2022 - 11/09/2022)\\n                For \"last X weeks\", set start date as Monday of reference week and set start date as the Monday of that week and end date as reference date. \\n        6. Provide the date range of each time point in \"start date - end date\" format always.\\n\\n<</SYS>>\\nUser question is : trend of number of onboard completions in 2022\\n\\nConverted JSON is as shown below: \\n[/INST]\\n[MQL]\\n[{\\'date\\': {\\'2022\\': {\\'FOP_COMPLETED_ON\\': {\\'label\\': \\'Completed On\\', \\'order\\': \\'asc\\', \\'operator\\': \\'histogram\\', \\'interval\\': \\'month\\'}}}, \\'action\\': {\\'derived_measure\\': {\\'number of onboard completions\\': {\\'Number of onboard completions\\': {\\'label\\': \\'Number of onboard completions\\', \\'order\\': \\'desc\\', \\'operator\\': \\'sum\\', \\'root_variables\\': []}}}, \\'type\\': \\'derived_summarization\\', \\'start_date\\': \\'2021/01/01 00:00:00\\'}, \\'filter\\': {\\'and\\': {\\'range\\': {\\'2022\\': [{\\'gte\\': \\'2022/01/01 00:00:00\\', \\'lte\\': \\'2022/12/31 23:59:59\\'}]}}}, \\'query_type\\': \\'aggregation\\', \\'db_type\\': \\'activity\\', \\'type\\': \\'transaction\\', \\'weight\\': 0.7133333333333333, \\'id\\': \\'leni_633b04ad96687f0001250001_c1405a2dc68041a2b99c8bb1ebfb8abe_0\\', \\'trigger_forecast\\': True, \\'trend_present\\': True, \\'forecast_intent_present\\': False, \\'date_conf\\': \\'System Date\\', \\'dataset_id\\': \\'63510cd3c778a70001dae97a\\', \\'version\\': 63}]\\n[/MQL]</s>',\n",
       "  '<s>[INST]<<SYS>>\\nYou are an assistant that helps to map the user question to the a particular JSON format which contains info asked by user and also maps it the below CONTEXT. You might also need to act as a time tagger expert to convert the date elements present in the question to a standard format and to find possible date ranges for the same.\\n\\nCONTEXT:[{\\'measure\\': \\'FILLED_COUNT\\', \\'measure_label\\': \\'FILLED_COUNT\\'}, {\\'date\\': \\'SRD_CREATED_AT\\', \\'date_label\\': \\'Shift Request Created At\\'}]\\n\\nStep 1: Identify the n-grams match between question and context\\n\\n        Map the n-gram or their lemma or their inflections from the question with the values in the passed context.\\n        Always consider the longest n-gram match, not the sub-string.\\n        If there are multiple matches for an n-gram with context, return all such ENTITY in response.\\n        If you are returning any match which is not exactly present with the context, make sure that it is a noun phrase and there is a high similarity between the match and the matched value in context. \\n\\n\\nStep 2: Applying time tagger rules only if time elements are present in question\\n\\n        Identify the TIME ELEMENTS in the input question and convert it to a standard format (if not already) by applying the general time tagging rules. If the TIME ELEMENT is already in a standard format, then no need to convert it.\\n        TIME ELEMENT can be either a temporal interval (across months, yoy, mom, qoq, wow, quarterly etc.) or a temporal expression (time points such as specific dates, relative expressions etc.).\\n        Calculate date range for each time points based on the following conditions:\\n        1. For relative time expressions, calculate the date range based on a reference date - By default the reference date is the end_date in date input: {\\'start_date\\': \\'01/01/2020\\', \\'end_date\\': \\'15/09/2023\\'}\\n        2. To calculate the date range for \"last X years\", strictly follow below conditions:\\n                For \"last 1 year\", consider exactly one year before the reference year and set start date as January 1 and end date as Decemebr 31 of that year.\\n                For \"last X years\", where X is greater than 1, consider starting year = (reference year - X+1) and set start date as January 1 of starting year and end date as the reference date.\\n        3. To calculate the date range for \"last X months\", strictly follow below conditions:\\n                Consider reference month as the month in reference date.\\n                For \"last 1 month\", consider exactly one month before the reference month and set start date as first day and end date as last day of that month.\\n                For \"last X months\", where X is greater than 1, consider starting month = (reference month - X+1) and set start date as first day of starting month and end date as the reference date. (Example: if reference date is 14/09/2022, then last 3 months = 01/07/2022 - 14/09/2022)\\n        4. To calculate the date range for \"last X quarters\", strictly follow below conditions:\\n                For \"last 1 quarter\", consider exactly one quarter before the reference quarter and set start date as first day and end date as last day of that quarter .\\n                For \"last X quarter\", where X is greater than 1, consider starting quarter = (reference quarter - X+1) and set start date as first day of starting quarter and end date as the reference date.\\n        5. To calculate the date range for \"last X weeks\", strictly follow the below conditions:\\n                Consider reference week as the week in reference week.\\n                For \"last 1 week\", set start date as Monday and end date as Sunday of the previous week of reference week. (Example: if reference date is 14/09/2022, then last week = 05/09/2022 - 11/09/2022)\\n                For \"last X weeks\", set start date as Monday of reference week and set start date as the Monday of that week and end date as reference date. \\n        6. Provide the date range of each time point in \"start date - end date\" format always.\\n\\n<</SYS>>\\nUser question is : trend of filled count\\n\\nConverted JSON is as shown below: \\n[/INST]\\n[MQL]\\n[{\\'measure\\': {\\'filled count\\': {\\'FILLED_COUNT\\': {\\'label\\': \\'FILLED_COUNT\\', \\'order\\': \\'desc\\', \\'operator\\': \\'sum\\'}}}, \\'date\\': {\\'trend\\': {\\'SRD_CREATED_AT\\': {\\'label\\': \\'Shift Request Created At\\', \\'operator\\': \\'histogram\\', \\'interval\\': \\'month\\', \\'order\\': \\'asc\\'}}}, \\'query_type\\': \\'aggregation\\', \\'db_type\\': \\'activity\\', \\'type\\': \\'transaction\\', \\'weight\\': 0.7583333333333333, \\'id\\': \\'leni_633b04ad96687f0001250001_00d11073132447eb9d297edbd218c7a2_0\\', \\'trigger_forecast\\': False, \\'trend_present\\': True, \\'forecast_intent_present\\': False, \\'date_conf\\': \\'Latest Record Date\\', \\'dataset_id\\': \\'63510a96ff5d530001d2e180\\', \\'version\\': 61}]\\n[/MQL]</s>',\n",
       "  '<s>[INST]<<SYS>>\\nYou are an assistant that helps to map the user question to the a particular JSON format which contains info asked by user and also maps it the below CONTEXT. You might also need to act as a time tagger expert to convert the date elements present in the question to a standard format and to find possible date ranges for the same.\\n\\nCONTEXT:[{\\'measure\\': \\'FILLED_COUNT\\', \\'measure_label\\': \\'Filled Count\\'}, {\\'date\\': \\'AFS_SHIFT_DATE_START\\', \\'date_label\\': \\'Shift Date Start\\'}]\\n\\nStep 1: Identify the n-grams match between question and context\\n\\n        Map the n-gram or their lemma or their inflections from the question with the values in the passed context.\\n        Always consider the longest n-gram match, not the sub-string.\\n        If there are multiple matches for an n-gram with context, return all such ENTITY in response.\\n        If you are returning any match which is not exactly present with the context, make sure that it is a noun phrase and there is a high similarity between the match and the matched value in context. \\n\\n\\nStep 2: Applying time tagger rules only if time elements are present in question\\n\\n        Identify the TIME ELEMENTS in the input question and convert it to a standard format (if not already) by applying the general time tagging rules. If the TIME ELEMENT is already in a standard format, then no need to convert it.\\n        TIME ELEMENT can be either a temporal interval (across months, yoy, mom, qoq, wow, quarterly etc.) or a temporal expression (time points such as specific dates, relative expressions etc.).\\n        Calculate date range for each time points based on the following conditions:\\n        1. For relative time expressions, calculate the date range based on a reference date - By default the reference date is the end_date in date input: {\\'start_date\\': \\'01/01/2020\\', \\'end_date\\': \\'15/09/2023\\'}\\n        2. To calculate the date range for \"last X years\", strictly follow below conditions:\\n                For \"last 1 year\", consider exactly one year before the reference year and set start date as January 1 and end date as Decemebr 31 of that year.\\n                For \"last X years\", where X is greater than 1, consider starting year = (reference year - X+1) and set start date as January 1 of starting year and end date as the reference date.\\n        3. To calculate the date range for \"last X months\", strictly follow below conditions:\\n                Consider reference month as the month in reference date.\\n                For \"last 1 month\", consider exactly one month before the reference month and set start date as first day and end date as last day of that month.\\n                For \"last X months\", where X is greater than 1, consider starting month = (reference month - X+1) and set start date as first day of starting month and end date as the reference date. (Example: if reference date is 14/09/2022, then last 3 months = 01/07/2022 - 14/09/2022)\\n        4. To calculate the date range for \"last X quarters\", strictly follow below conditions:\\n                For \"last 1 quarter\", consider exactly one quarter before the reference quarter and set start date as first day and end date as last day of that quarter .\\n                For \"last X quarter\", where X is greater than 1, consider starting quarter = (reference quarter - X+1) and set start date as first day of starting quarter and end date as the reference date.\\n        5. To calculate the date range for \"last X weeks\", strictly follow the below conditions:\\n                Consider reference week as the week in reference week.\\n                For \"last 1 week\", set start date as Monday and end date as Sunday of the previous week of reference week. (Example: if reference date is 14/09/2022, then last week = 05/09/2022 - 11/09/2022)\\n                For \"last X weeks\", set start date as Monday of reference week and set start date as the Monday of that week and end date as reference date. \\n        6. Provide the date range of each time point in \"start date - end date\" format always.\\n\\n<</SYS>>\\nUser question is : trend of filled count\\n\\nConverted JSON is as shown below: \\n[/INST]\\n[MQL]\\n[{\\'measure\\': {\\'filled count\\': {\\'FILLED_COUNT\\': {\\'label\\': \\'Filled Count\\', \\'order\\': \\'desc\\', \\'operator\\': \\'sum\\'}}}, \\'date\\': {\\'trend\\': {\\'AFS_SHIFT_DATE_START\\': {\\'label\\': \\'Shift Date Start\\', \\'operator\\': \\'histogram\\', \\'interval\\': \\'month\\', \\'order\\': \\'asc\\'}}}, \\'query_type\\': \\'aggregation\\', \\'db_type\\': \\'activity\\', \\'type\\': \\'transaction\\', \\'weight\\': 0.7375, \\'id\\': \\'leni_633b04ad96687f0001250001_2f9ef7a8d2104ee88ce583252c0923d8_0\\', \\'trigger_forecast\\': False, \\'trend_present\\': True, \\'forecast_intent_present\\': False, \\'date_conf\\': \\'Latest Record Date\\', \\'dataset_id\\': \\'63510a2ec778a70001dae8de\\', \\'version\\': 61}]\\n[/MQL]</s>',\n",
       "  '<s>[INST]<<SYS>>\\nYou are an assistant that helps to map the user question to the a particular JSON format which contains info asked by user and also maps it the below CONTEXT. You might also need to act as a time tagger expert to convert the date elements present in the question to a standard format and to find possible date ranges for the same.\\n\\nCONTEXT:[{\\'measure\\': \\'FILLED_COUNT\\', \\'measure_label\\': \\'Filled Count\\'}, {\\'date\\': \\'FPP_PROVIDER_SINCE\\', \\'date_label\\': \\'Provider Since\\'}]\\n\\nStep 1: Identify the n-grams match between question and context\\n\\n        Map the n-gram or their lemma or their inflections from the question with the values in the passed context.\\n        Always consider the longest n-gram match, not the sub-string.\\n        If there are multiple matches for an n-gram with context, return all such ENTITY in response.\\n        If you are returning any match which is not exactly present with the context, make sure that it is a noun phrase and there is a high similarity between the match and the matched value in context. \\n\\n\\nStep 2: Applying time tagger rules only if time elements are present in question\\n\\n        Identify the TIME ELEMENTS in the input question and convert it to a standard format (if not already) by applying the general time tagging rules. If the TIME ELEMENT is already in a standard format, then no need to convert it.\\n        TIME ELEMENT can be either a temporal interval (across months, yoy, mom, qoq, wow, quarterly etc.) or a temporal expression (time points such as specific dates, relative expressions etc.).\\n        Calculate date range for each time points based on the following conditions:\\n        1. For relative time expressions, calculate the date range based on a reference date - By default the reference date is the end_date in date input: {\\'start_date\\': \\'01/01/2020\\', \\'end_date\\': \\'15/09/2023\\'}\\n        2. To calculate the date range for \"last X years\", strictly follow below conditions:\\n                For \"last 1 year\", consider exactly one year before the reference year and set start date as January 1 and end date as Decemebr 31 of that year.\\n                For \"last X years\", where X is greater than 1, consider starting year = (reference year - X+1) and set start date as January 1 of starting year and end date as the reference date.\\n        3. To calculate the date range for \"last X months\", strictly follow below conditions:\\n                Consider reference month as the month in reference date.\\n                For \"last 1 month\", consider exactly one month before the reference month and set start date as first day and end date as last day of that month.\\n                For \"last X months\", where X is greater than 1, consider starting month = (reference month - X+1) and set start date as first day of starting month and end date as the reference date. (Example: if reference date is 14/09/2022, then last 3 months = 01/07/2022 - 14/09/2022)\\n        4. To calculate the date range for \"last X quarters\", strictly follow below conditions:\\n                For \"last 1 quarter\", consider exactly one quarter before the reference quarter and set start date as first day and end date as last day of that quarter .\\n                For \"last X quarter\", where X is greater than 1, consider starting quarter = (reference quarter - X+1) and set start date as first day of starting quarter and end date as the reference date.\\n        5. To calculate the date range for \"last X weeks\", strictly follow the below conditions:\\n                Consider reference week as the week in reference week.\\n                For \"last 1 week\", set start date as Monday and end date as Sunday of the previous week of reference week. (Example: if reference date is 14/09/2022, then last week = 05/09/2022 - 11/09/2022)\\n                For \"last X weeks\", set start date as Monday of reference week and set start date as the Monday of that week and end date as reference date. \\n        6. Provide the date range of each time point in \"start date - end date\" format always.\\n\\n<</SYS>>\\nUser question is : trend of filled count\\n\\nConverted JSON is as shown below: \\n[/INST]\\n[MQL]\\n[{\\'measure\\': {\\'filled count\\': {\\'FILLED_COUNT\\': {\\'label\\': \\'Filled Count\\', \\'order\\': \\'desc\\', \\'operator\\': \\'sum\\'}}}, \\'date\\': {\\'trend\\': {\\'FPP_PROVIDER_SINCE\\': {\\'label\\': \\'Provider Since\\', \\'operator\\': \\'histogram\\', \\'interval\\': \\'month\\', \\'order\\': \\'asc\\'}}}, \\'query_type\\': \\'aggregation\\', \\'db_type\\': \\'activity\\', \\'type\\': \\'transaction\\', \\'weight\\': 0.8, \\'id\\': \\'leni_633b04ad96687f0001250001_506b6fc8f4cd4692b7bf969d81927fc9_0\\', \\'trigger_forecast\\': False, \\'trend_present\\': True, \\'forecast_intent_present\\': False, \\'date_conf\\': \\'Latest Record Date\\', \\'dataset_id\\': \\'636913a95537400001f02eee\\', \\'version\\': 61}]\\n[/MQL]</s>',\n",
       "  '<s>[INST]<<SYS>>\\nYou are an assistant that helps to map the user question to the a particular JSON format which contains info asked by user and also maps it the below CONTEXT. You might also need to act as a time tagger expert to convert the date elements present in the question to a standard format and to find possible date ranges for the same.\\n\\nCONTEXT:[{\\'measure\\': \\'FILLED_COUNT\\', \\'measure_label\\': \\'Filled Count\\'}, {\\'date\\': \\'FFP_CREATED_AT\\', \\'date_label\\': \\'Created At\\'}]\\n\\nStep 1: Identify the n-grams match between question and context\\n\\n        Map the n-gram or their lemma or their inflections from the question with the values in the passed context.\\n        Always consider the longest n-gram match, not the sub-string.\\n        If there are multiple matches for an n-gram with context, return all such ENTITY in response.\\n        If you are returning any match which is not exactly present with the context, make sure that it is a noun phrase and there is a high similarity between the match and the matched value in context. \\n\\n\\nStep 2: Applying time tagger rules only if time elements are present in question\\n\\n        Identify the TIME ELEMENTS in the input question and convert it to a standard format (if not already) by applying the general time tagging rules. If the TIME ELEMENT is already in a standard format, then no need to convert it.\\n        TIME ELEMENT can be either a temporal interval (across months, yoy, mom, qoq, wow, quarterly etc.) or a temporal expression (time points such as specific dates, relative expressions etc.).\\n        Calculate date range for each time points based on the following conditions:\\n        1. For relative time expressions, calculate the date range based on a reference date - By default the reference date is the end_date in date input: {\\'start_date\\': \\'01/01/2020\\', \\'end_date\\': \\'15/09/2023\\'}\\n        2. To calculate the date range for \"last X years\", strictly follow below conditions:\\n                For \"last 1 year\", consider exactly one year before the reference year and set start date as January 1 and end date as Decemebr 31 of that year.\\n                For \"last X years\", where X is greater than 1, consider starting year = (reference year - X+1) and set start date as January 1 of starting year and end date as the reference date.\\n        3. To calculate the date range for \"last X months\", strictly follow below conditions:\\n                Consider reference month as the month in reference date.\\n                For \"last 1 month\", consider exactly one month before the reference month and set start date as first day and end date as last day of that month.\\n                For \"last X months\", where X is greater than 1, consider starting month = (reference month - X+1) and set start date as first day of starting month and end date as the reference date. (Example: if reference date is 14/09/2022, then last 3 months = 01/07/2022 - 14/09/2022)\\n        4. To calculate the date range for \"last X quarters\", strictly follow below conditions:\\n                For \"last 1 quarter\", consider exactly one quarter before the reference quarter and set start date as first day and end date as last day of that quarter .\\n                For \"last X quarter\", where X is greater than 1, consider starting quarter = (reference quarter - X+1) and set start date as first day of starting quarter and end date as the reference date.\\n        5. To calculate the date range for \"last X weeks\", strictly follow the below conditions:\\n                Consider reference week as the week in reference week.\\n                For \"last 1 week\", set start date as Monday and end date as Sunday of the previous week of reference week. (Example: if reference date is 14/09/2022, then last week = 05/09/2022 - 11/09/2022)\\n                For \"last X weeks\", set start date as Monday of reference week and set start date as the Monday of that week and end date as reference date. \\n        6. Provide the date range of each time point in \"start date - end date\" format always.\\n\\n<</SYS>>\\nUser question is : trend of filled count\\n\\nConverted JSON is as shown below: \\n[/INST]\\n[MQL]\\n[{\\'measure\\': {\\'filled count\\': {\\'FILLED_COUNT\\': {\\'label\\': \\'Filled Count\\', \\'order\\': \\'desc\\', \\'operator\\': \\'sum\\'}}}, \\'date\\': {\\'trend\\': {\\'FFP_CREATED_AT\\': {\\'label\\': \\'Created At\\', \\'operator\\': \\'histogram\\', \\'interval\\': \\'month\\', \\'order\\': \\'asc\\'}}}, \\'query_type\\': \\'aggregation\\', \\'db_type\\': \\'activity\\', \\'type\\': \\'transaction\\', \\'weight\\': 0.8, \\'id\\': \\'leni_633b04ad96687f0001250001_f54be708e3264258aba44bbd30cb50eb_0\\', \\'trigger_forecast\\': False, \\'trend_present\\': True, \\'forecast_intent_present\\': False, \\'date_conf\\': \\'Latest Record Date\\', \\'dataset_id\\': \\'6369164ba992e7000164f592\\', \\'version\\': 61}]\\n[/MQL]</s>',\n",
       "  '<s>[INST]<<SYS>>\\nYou are an assistant that helps to map the user question to the a particular JSON format which contains info asked by user and also maps it the below CONTEXT. You might also need to act as a time tagger expert to convert the date elements present in the question to a standard format and to find possible date ranges for the same.\\n\\nCONTEXT:[{\\'action_derived_measure_label\\': \\'Number of Facility\\', \\'action_derived_measure\\': None}, {\\'date\\': \\'FFP_CREATED_AT\\', \\'date_label\\': \\'Created At\\'}]\\n\\nStep 1: Identify the n-grams match between question and context\\n\\n        Map the n-gram or their lemma or their inflections from the question with the values in the passed context.\\n        Always consider the longest n-gram match, not the sub-string.\\n        If there are multiple matches for an n-gram with context, return all such ENTITY in response.\\n        If you are returning any match which is not exactly present with the context, make sure that it is a noun phrase and there is a high similarity between the match and the matched value in context. \\n\\n\\nStep 2: Applying time tagger rules only if time elements are present in question\\n\\n        Identify the TIME ELEMENTS in the input question and convert it to a standard format (if not already) by applying the general time tagging rules. If the TIME ELEMENT is already in a standard format, then no need to convert it.\\n        TIME ELEMENT can be either a temporal interval (across months, yoy, mom, qoq, wow, quarterly etc.) or a temporal expression (time points such as specific dates, relative expressions etc.).\\n        Calculate date range for each time points based on the following conditions:\\n        1. For relative time expressions, calculate the date range based on a reference date - By default the reference date is the end_date in date input: {\\'start_date\\': \\'01/01/2020\\', \\'end_date\\': \\'15/09/2023\\'}\\n        2. To calculate the date range for \"last X years\", strictly follow below conditions:\\n                For \"last 1 year\", consider exactly one year before the reference year and set start date as January 1 and end date as Decemebr 31 of that year.\\n                For \"last X years\", where X is greater than 1, consider starting year = (reference year - X+1) and set start date as January 1 of starting year and end date as the reference date.\\n        3. To calculate the date range for \"last X months\", strictly follow below conditions:\\n                Consider reference month as the month in reference date.\\n                For \"last 1 month\", consider exactly one month before the reference month and set start date as first day and end date as last day of that month.\\n                For \"last X months\", where X is greater than 1, consider starting month = (reference month - X+1) and set start date as first day of starting month and end date as the reference date. (Example: if reference date is 14/09/2022, then last 3 months = 01/07/2022 - 14/09/2022)\\n        4. To calculate the date range for \"last X quarters\", strictly follow below conditions:\\n                For \"last 1 quarter\", consider exactly one quarter before the reference quarter and set start date as first day and end date as last day of that quarter .\\n                For \"last X quarter\", where X is greater than 1, consider starting quarter = (reference quarter - X+1) and set start date as first day of starting quarter and end date as the reference date.\\n        5. To calculate the date range for \"last X weeks\", strictly follow the below conditions:\\n                Consider reference week as the week in reference week.\\n                For \"last 1 week\", set start date as Monday and end date as Sunday of the previous week of reference week. (Example: if reference date is 14/09/2022, then last week = 05/09/2022 - 11/09/2022)\\n                For \"last X weeks\", set start date as Monday of reference week and set start date as the Monday of that week and end date as reference date. \\n        6. Provide the date range of each time point in \"start date - end date\" format always.\\n\\n<</SYS>>\\nUser question is : trend of number of facility\\n\\nConverted JSON is as shown below: \\n[/INST]\\n[MQL]\\n[{\\'date\\': {\\'trend\\': {\\'FFP_CREATED_AT\\': {\\'label\\': \\'Created At\\', \\'operator\\': \\'histogram\\', \\'interval\\': \\'month\\', \\'order\\': \\'asc\\'}}}, \\'action\\': {\\'derived_measure\\': {\\'number of facility\\': {\\'Number of Facility\\': {\\'label\\': \\'Number of Facility\\', \\'order\\': \\'desc\\', \\'operator\\': \\'sum\\', \\'root_variables\\': []}}}, \\'type\\': \\'derived_summarization\\', \\'start_date\\': \\'2021/01/04 00:00:00\\'}, \\'query_type\\': \\'aggregation\\', \\'db_type\\': \\'activity\\', \\'type\\': \\'transaction\\', \\'weight\\': 0.8, \\'id\\': \\'leni_633b04ad96687f0001250001_008853530a834cd69f46bcccab340a7c_0\\', \\'trigger_forecast\\': False, \\'trend_present\\': True, \\'forecast_intent_present\\': False, \\'date_conf\\': \\'Latest Record Date\\', \\'dataset_id\\': \\'6369164ba992e7000164f592\\', \\'version\\': 61}]\\n[/MQL]</s>',\n",
       "  '<s>[INST]<<SYS>>\\nYou are an assistant that helps to map the user question to the a particular JSON format which contains info asked by user and also maps it the below CONTEXT. You might also need to act as a time tagger expert to convert the date elements present in the question to a standard format and to find possible date ranges for the same.\\n\\nCONTEXT:[{\\'measure\\': \\'FFP_ALF_BEDS\\', \\'measure_label\\': \\'FFP_ALF_BEDS\\'}, {\\'date\\': \\'AFS_SHIFT_DATE_START\\', \\'date_label\\': \\'Shift Date Start\\'}]\\n\\nStep 1: Identify the n-grams match between question and context\\n\\n        Map the n-gram or their lemma or their inflections from the question with the values in the passed context.\\n        Always consider the longest n-gram match, not the sub-string.\\n        If there are multiple matches for an n-gram with context, return all such ENTITY in response.\\n        If you are returning any match which is not exactly present with the context, make sure that it is a noun phrase and there is a high similarity between the match and the matched value in context. \\n\\n\\nStep 2: Applying time tagger rules only if time elements are present in question\\n\\n        Identify the TIME ELEMENTS in the input question and convert it to a standard format (if not already) by applying the general time tagging rules. If the TIME ELEMENT is already in a standard format, then no need to convert it.\\n        TIME ELEMENT can be either a temporal interval (across months, yoy, mom, qoq, wow, quarterly etc.) or a temporal expression (time points such as specific dates, relative expressions etc.).\\n        Calculate date range for each time points based on the following conditions:\\n        1. For relative time expressions, calculate the date range based on a reference date - By default the reference date is the end_date in date input: {\\'start_date\\': \\'01/01/2020\\', \\'end_date\\': \\'15/09/2023\\'}\\n        2. To calculate the date range for \"last X years\", strictly follow below conditions:\\n                For \"last 1 year\", consider exactly one year before the reference year and set start date as January 1 and end date as Decemebr 31 of that year.\\n                For \"last X years\", where X is greater than 1, consider starting year = (reference year - X+1) and set start date as January 1 of starting year and end date as the reference date.\\n        3. To calculate the date range for \"last X months\", strictly follow below conditions:\\n                Consider reference month as the month in reference date.\\n                For \"last 1 month\", consider exactly one month before the reference month and set start date as first day and end date as last day of that month.\\n                For \"last X months\", where X is greater than 1, consider starting month = (reference month - X+1) and set start date as first day of starting month and end date as the reference date. (Example: if reference date is 14/09/2022, then last 3 months = 01/07/2022 - 14/09/2022)\\n        4. To calculate the date range for \"last X quarters\", strictly follow below conditions:\\n                For \"last 1 quarter\", consider exactly one quarter before the reference quarter and set start date as first day and end date as last day of that quarter .\\n                For \"last X quarter\", where X is greater than 1, consider starting quarter = (reference quarter - X+1) and set start date as first day of starting quarter and end date as the reference date.\\n        5. To calculate the date range for \"last X weeks\", strictly follow the below conditions:\\n                Consider reference week as the week in reference week.\\n                For \"last 1 week\", set start date as Monday and end date as Sunday of the previous week of reference week. (Example: if reference date is 14/09/2022, then last week = 05/09/2022 - 11/09/2022)\\n                For \"last X weeks\", set start date as Monday of reference week and set start date as the Monday of that week and end date as reference date. \\n        6. Provide the date range of each time point in \"start date - end date\" format always.\\n\\n<</SYS>>\\nUser question is : trend of ffp alf beds\\n\\nConverted JSON is as shown below: \\n[/INST]\\n[MQL]\\n[{\\'measure\\': {\\'ffp_alf_beds\\': {\\'FFP_ALF_BEDS\\': {\\'label\\': \\'FFP_ALF_BEDS\\', \\'order\\': \\'desc\\', \\'operator\\': \\'sum\\'}}}, \\'date\\': {\\'trend\\': {\\'AFS_SHIFT_DATE_START\\': {\\'label\\': \\'Shift Date Start\\', \\'operator\\': \\'histogram\\', \\'interval\\': \\'month\\', \\'order\\': \\'asc\\'}}}, \\'query_type\\': \\'aggregation\\', \\'db_type\\': \\'activity\\', \\'type\\': \\'transaction\\', \\'weight\\': 0.7375, \\'id\\': \\'leni_633b04ad96687f0001250001_6a028fc57fc94d3397d2a91460839ce4_0\\', \\'trigger_forecast\\': False, \\'trend_present\\': True, \\'forecast_intent_present\\': False, \\'date_conf\\': \\'Latest Record Date\\', \\'dataset_id\\': \\'63510a2ec778a70001dae8de\\', \\'version\\': 61}]\\n[/MQL]</s>',\n",
       "  '<s>[INST]<<SYS>>\\nYou are an assistant that helps to map the user question to the a particular JSON format which contains info asked by user and also maps it the below CONTEXT. You might also need to act as a time tagger expert to convert the date elements present in the question to a standard format and to find possible date ranges for the same.\\n\\nCONTEXT:[{\\'measure\\': \\'FFP_ALF_BEDS\\', \\'measure_label\\': \\'ALF Beds\\'}, {\\'date\\': \\'FFP_CREATED_AT\\', \\'date_label\\': \\'Created At\\'}]\\n\\nStep 1: Identify the n-grams match between question and context\\n\\n        Map the n-gram or their lemma or their inflections from the question with the values in the passed context.\\n        Always consider the longest n-gram match, not the sub-string.\\n        If there are multiple matches for an n-gram with context, return all such ENTITY in response.\\n        If you are returning any match which is not exactly present with the context, make sure that it is a noun phrase and there is a high similarity between the match and the matched value in context. \\n\\n\\nStep 2: Applying time tagger rules only if time elements are present in question\\n\\n        Identify the TIME ELEMENTS in the input question and convert it to a standard format (if not already) by applying the general time tagging rules. If the TIME ELEMENT is already in a standard format, then no need to convert it.\\n        TIME ELEMENT can be either a temporal interval (across months, yoy, mom, qoq, wow, quarterly etc.) or a temporal expression (time points such as specific dates, relative expressions etc.).\\n        Calculate date range for each time points based on the following conditions:\\n        1. For relative time expressions, calculate the date range based on a reference date - By default the reference date is the end_date in date input: {\\'start_date\\': \\'01/01/2020\\', \\'end_date\\': \\'15/09/2023\\'}\\n        2. To calculate the date range for \"last X years\", strictly follow below conditions:\\n                For \"last 1 year\", consider exactly one year before the reference year and set start date as January 1 and end date as Decemebr 31 of that year.\\n                For \"last X years\", where X is greater than 1, consider starting year = (reference year - X+1) and set start date as January 1 of starting year and end date as the reference date.\\n        3. To calculate the date range for \"last X months\", strictly follow below conditions:\\n                Consider reference month as the month in reference date.\\n                For \"last 1 month\", consider exactly one month before the reference month and set start date as first day and end date as last day of that month.\\n                For \"last X months\", where X is greater than 1, consider starting month = (reference month - X+1) and set start date as first day of starting month and end date as the reference date. (Example: if reference date is 14/09/2022, then last 3 months = 01/07/2022 - 14/09/2022)\\n        4. To calculate the date range for \"last X quarters\", strictly follow below conditions:\\n                For \"last 1 quarter\", consider exactly one quarter before the reference quarter and set start date as first day and end date as last day of that quarter .\\n                For \"last X quarter\", where X is greater than 1, consider starting quarter = (reference quarter - X+1) and set start date as first day of starting quarter and end date as the reference date.\\n        5. To calculate the date range for \"last X weeks\", strictly follow the below conditions:\\n                Consider reference week as the week in reference week.\\n                For \"last 1 week\", set start date as Monday and end date as Sunday of the previous week of reference week. (Example: if reference date is 14/09/2022, then last week = 05/09/2022 - 11/09/2022)\\n                For \"last X weeks\", set start date as Monday of reference week and set start date as the Monday of that week and end date as reference date. \\n        6. Provide the date range of each time point in \"start date - end date\" format always.\\n\\n<</SYS>>\\nUser question is : trend of ffp alf beds\\n\\nConverted JSON is as shown below: \\n[/INST]\\n[MQL]\\n[{\\'measure\\': {\\'ffp_alf_beds\\': {\\'FFP_ALF_BEDS\\': {\\'label\\': \\'ALF Beds\\', \\'order\\': \\'desc\\', \\'operator\\': \\'sum\\'}}}, \\'date\\': {\\'trend\\': {\\'FFP_CREATED_AT\\': {\\'label\\': \\'Created At\\', \\'operator\\': \\'histogram\\', \\'interval\\': \\'month\\', \\'order\\': \\'asc\\'}}}, \\'query_type\\': \\'aggregation\\', \\'db_type\\': \\'activity\\', \\'type\\': \\'transaction\\', \\'weight\\': 0.8, \\'id\\': \\'leni_633b04ad96687f0001250001_9b5ed29a7ab84838a77fbba43408443f_0\\', \\'trigger_forecast\\': False, \\'trend_present\\': True, \\'forecast_intent_present\\': False, \\'date_conf\\': \\'Latest Record Date\\', \\'dataset_id\\': \\'6369164ba992e7000164f592\\', \\'version\\': 61}]\\n[/MQL]</s>',\n",
       "  '<s>[INST]<<SYS>>\\nYou are an assistant that helps to map the user question to the a particular JSON format which contains info asked by user and also maps it the below CONTEXT. You might also need to act as a time tagger expert to convert the date elements present in the question to a standard format and to find possible date ranges fororal expression (time points such as specific dates, relative expressions etc.).\\n        Calculate date range for each time points based on the following conditions:\\n        1. For relative time expressions, calculate the date range based on a reference date - By default the reference date is the end_date in date input: {\\'start_date\\': \\'01/01/2020\\', \\'end_date\\': \\'15/09/2023\\'}\\n        2. To calculate the date range for \"last X years\", strictly follow below conditions:\\n                For \"last 1 year\", consider exactly one year before the reference year and set start date as January 1 and end date as Decemebr 31 of that year.\\n                For \"last X years\", where X is greater than 1, consider starting year = (reference year - X+1) and set start date as January 1 of starting year and end date as the reference date.\\n        3. To calculate the date range for \"last X months\", strictly follow below conditions:\\n                Consider reference month as the month in reference date.\\n                For \"last 1 month\", consider exactly one month before the reference month and set start date as first day and end date as last day of that month.\\n                For \"last X months\", where X is greater than 1, consider starting month = (reference month - X+1) and set start date as first day of starting month and end date as the reference date. (Example: if reference date is 14/09/2022, then last 3 months = 01/07/2022 - 14/09/2022)\\n        4. To calculate the date range for \"last X quarters\", strictly follow below conditions:\\n                For \"last 1 quarter\", consider exactly one quarter before the reference quarter and set start date as first day and end date as last day of that quarter .\\n                For \"last X quarter\", where X is greater than 1, consider starting quarter = (reference quarter - X+1) and set start date as first day of starting quarter and end date as the reference date.\\n        5. To calculate the date range for \"last X weeks\", strictly follow the below conditions:\\n                Consider reference week as the week in reference week.\\n                For \"last 1 week\", set start date as Monday and end date as Sunday of the previous week of reference week. (Example: if reference date is 14/09/2022, then last week = 05/09/2022 - 11/09/2022)\\n                For \"last X weeks\", set start date as Monday of reference week and set start date as the Monday of that week and end date as reference date. \\n        6. Provide the date range of each time point in \"start date - end date\" format always.\\n\\n<</SYS>>\\nUser question is : trend of assigned shifts\\n\\nConverted JSON is as shown below: \\n[/INST]\\n[MQL]\\n[{\\'date\\': {\\'trend\\': {\\'AFS_SHIFT_DATE_START\\': {\\'label\\': \\'Shift Date Start\\', \\'operator\\': \\'histogram\\', \\'interval\\': \\'month\\', \\'order\\': \\'asc\\'}}}, \\'action\\': {\\'derived_measure\\': {\\'assigned shifts\\': {\\'Assigned Shift\\': {\\'label\\': \\'Assigned Shift\\', \\'order\\': \\'desc\\', \\'operator\\': \\'sum\\', \\'root_variables\\': []}}}, \\'type\\': \\'derived_summarization\\', \\'start_date\\': \\'2021/01/01 00:00:00\\'}, \\'query_type\\': \\'aggregation\\', \\'db_type\\': \\'activity\\', \\'type\\': \\'transaction\\', \\'weight\\': 0.7375, \\'id\\': \\'leni_633b04ad96687f0001250001_6784a2b83bfc483aa31f2826ffe63c3a_0\\', \\'trigger_forecast\\': False, \\'trend_present\\': True, \\'forecast_intent_present\\': False, \\'date_conf\\': \\'Latest Record Date\\', \\'dataset_id\\': \\'63510a2ec778a70001dae8de\\', \\'version\\': 61}]\\n[/MQL]</s>',\n",
       "  '<s>[INST]<<SYS>>\\nYou are an assistant that helps to map the user question to the a particular JSON format which contains info asked by user and also maps it the below CONTEXT. You might also need to act as a time tagger expert to convert the date elements present in the question to a standard format and to find possible date ranges for the same.\\n\\nCONTEXT:[{\\'action_derived_measure_label\\': \\'Worked Shift\\', \\'action_derived_measure\\': None}, {\\'date\\': \\'AFS_SHIFT_DATE_START\\', \\'date_label\\': \\'Shift Date Start\\'}]\\n\\nStep 1: Identify the n-grams match between question and context\\n\\n        Map the n-gram or their lemma or their inflections from the question with the values in the passed context.\\n        Always consider the longest n-gram match, not the sub-string.\\n        If there are multiple matches for an n-gram with context, return all such ENTITY in response.\\n        If you are returning any match which is not exactly present with the context, make sure that it is a noun phrase and there is a high similarity between the match and the matched value in context. \\n\\n\\nStep 2: Applying time tagger rules only if time elements are present in question\\n\\n        Identify the TIME ELEMENTS in the input question and convert it to a standard format (if not already) by applying the general time tagging rules. If the TIME ELEMENT is already in a standard format, then no need to convert it.\\n        TIME ELEMENT can be either a temporal interval (across months, yoy, mom, qoq, wow, quarterly etc.) or a temporal expression (time points such as specific dates, relative expressions etc.).\\n        Calculate date range for each time points based on the following conditions:\\n        1. For relative time expressions, calculate the date range based on a reference date - By default the reference date is the end_date in date input: {\\'start_date\\': \\'01/01/2020\\', \\'end_date\\': \\'15/09/2023\\'}\\n        2. To calculate the date range for \"last X years\", strictly follow below conditions:\\n                For \"last 1 year\", consider exactly one year before the reference year and set start date as January 1 and end date as Decemebr 31 of that year.\\n                For \"last X years\", where X is greater than 1, consider starting year = (reference year - X+1) and set start date as January 1 of starting year and end date as the reference date.\\n        3. To calculate the date range for \"last X months\", strictly follow below conditions:\\n                Consider reference month as the month in reference date.\\n                For \"last 1 month\", consider exactly one month before the reference month and set start date as first day and end date as last day of that month.\\n                For \"last X months\", where X is greater than 1, consider starting month = (reference month - X+1) and set start date as first day of starting month and end date as the reference date. (Example: if reference date is 14/09/2022, then last 3 months = 01/07/2022 - 14/09/2022)\\n        4. To calculate the date range for \"last X quarters\", strictly follow below conditions:\\n                For \"last 1 quarter\", consider exactly one quarter before the reference quarter and set start date as first day and end date as last day of that quarter .\\n                For \"last X quarter\", where X is greater than 1, consider starting quarter = (reference quarter - X+1) and set start date as first day of starting quarter and end date as the reference date.\\n        5. To calculate the date range for \"last X weeks\", strictly follow the below conditions:\\n                Consider reference week as the week in reference week.\\n                For \"last 1 week\", set start date as Monday and end date as Sunday of the previous week of reference week. (Example: if reference date is 14/09/2022, then last week = 05/09/2022 - 11/09/2022)\\n                For \"last X weeks\", set start date as Monday of reference week and set start date as the Monday of that week and end date as reference date. \\n        6. Provide the date range of each time point in \"start date - end date\" format always.\\n\\n<</SYS>>\\nUser question is : trend of worked shifts\\n\\nConverted JSON is as shown below: \\n[/INST]\\n[MQL]\\n[{\\'date\\': {\\'trend\\': {\\'AFS_SHIFT_DATE_START\\': {\\'label\\': \\'Shift Date Start\\', \\'operator\\': \\'histogram\\', \\'interval\\': \\'month\\', \\'order\\': \\'asc\\'}}}, \\'action\\': {\\'derived_measure\\': {\\'worked shifts\\': {\\'Worked Shift\\': {\\'label\\': \\'Worked Shift\\', \\'order\\': \\'desc\\', \\'operator\\': \\'sum\\', \\'root_variables\\': []}}}, \\'type\\': \\'derived_summarization\\', \\'start_date\\': \\'2021/01/01 00:00:00\\'}, \\'query_type\\': \\'aggregation\\', \\'db_type\\': \\'activity\\', \\'type\\': \\'transaction\\', \\'weight\\': 0.7375, \\'id\\': \\'leni_633b04ad96687f0001250001_955d1b158b594df59918bec6c0ebfed9_0\\', \\'trigger_forecast\\': False, \\'trend_present\\': True, \\'forecast_intent_present\\': False, \\'date_conf\\': \\'Latest Record Date\\', \\'dataset_id\\': \\'63510a2ec778a70001dae8de\\', \\'version\\': 61}]\\n[/MQL]</s>',\n",
       "  '<s>[INST]<<SYS>>\\nYou are an assistant that helps to map the user question to the a particular JSON format which contains info asked by user and also maps it the below CONTEXT. You might also need to act as a time tagger expert to convert the date elements present in the question to a standard format and to find possible date ranges for the same.\\n\\nCONTEXT:[{\\'action_derived_measure_label\\': \\'Requested Shifts\\', \\'action_derived_measure\\': None}, {\\'date\\': \\'SRD_CREATED_AT\\', \\'date_label\\': \\'Shift Request Created At\\'}]\\n\\nStep 1: Identify the n-grams match between question and context\\n\\n        Map the n-gram or their lemma or their inflections from the question with the values in the passed context.\\n        Always consider the longest n-gram match, not the sub-string.\\n        If there are multiple matches for an n-gram with context, return all such ENTITY in response.\\n        If you are returning any match which is not exactly present with the context, make sure that it is a noun phrase and there is a high similarity between the match and the matched value in context. \\n\\n\\nStep 2: Applying time tagger rules only if time elements are present in question\\n\\n        Identify the TIME ELEMENTS in the input question and convert it to a standard format (if not already) by applying the general time tagging rules. If the TIME ELEMENT is already in a standard format, then no need to convert it.\\n        TIME ELEMENT can be either a temporal interval (across months, yoy, mom, qoq, wow, quarterly etc.) or a temporal expression (time points such as specific dates, relative expressions etc.).\\n        Calculate date range for each time points based on the following conditions:\\n        1. For relative time expressions, calculate the date range based on a reference date - By default the reference date is the end_date in date input: {\\'start_date\\': \\'01/01/2020\\', \\'end_date\\': \\'15/09/2023\\'}\\n        2. To calculate the date range for \"last X years\", strictly follow below conditions:\\n                For \"last 1 year\", consider exactly one year before the reference year and set start date as January 1 and end date as Decemebr 31 of that year.\\n                For \"last X years\", where X is greater than 1, consider starting year = (reference year - X+1) and set start date as January 1 of starting year and end date as the reference date.\\n        3. To calculate the date range for \"last X months\", strictly follow below conditions:\\n                Consider reference month as the month in reference date.\\n                For \"last 1 month\", consider exactly one month before the reference month and set start date as first day and end date as last day of that month.\\n                For \"last X months\", where X is greater than 1, consider starting month = (reference month - X+1) and set start date as first day of starting month and end date as the reference date. (Example: if reference date is 14/09/2022, then last 3 months = 01/07/2022 - 14/09/2022)\\n        4. To calculate the date range for \"last X quarters\", strictly follow below conditions:\\n                For \"last 1 quarter\", consider exactly one quarter before the reference quarter and set start date as first day and end date as last day of that quarter .\\n                For \"last X quarter\", where X is greater than 1, consider starting quarter = (reference quarter - X+1) and set start date as first day of starting quarter and end date as the reference date.\\n        5. To calculate the date range for \"last X weeks\", strictly follow the below conditions:\\n                Consider reference week as the week in reference week.\\n                For \"last 1 week\", set start date as Monday and end date as Sunday of the previous week of reference week. (Example: if reference date is 14/09/2022, then last week = 05/09/2022 - 11/09/2022)\\n                For \"last X weeks\", set start date as Monday of reference week and set start date as the Monday of that week and end date as reference date. \\n        6. Provide the date range of each time point in \"start date - end date\" format always.\\n\\n<</SYS>>\\nUser question is : trend of requested shifts\\n\\nConverted JSON is as shown below: \\n[/INST]\\n[MQL]\\n[{\\'date\\': {\\'trend\\': {\\'SRD_CREATED_AT\\': {\\'label\\': \\'Shift Request Created At\\', \\'operator\\': \\'histogram\\', \\'interval\\': \\'month\\', \\'order\\': \\'asc\\'}}}, \\'action\\': {\\'derived_measure\\': {\\'requested shifts\\': {\\'Requested Shifts\\': {\\'label\\': \\'Requested Shifts\\', \\'order\\': \\'desc\\', \\'operator\\': \\'sum\\', \\'root_variables\\': []}}}, \\'type\\': \\'derived_summarization\\', \\'start_date\\': \\'2021/01/01 00:00:00\\'}, \\'query_type\\': \\'aggregation\\', \\'db_type\\': \\'activity\\', \\'type\\': \\'transaction\\', \\'weight\\': 0.7583333333333333, \\'id\\': \\'leni_633b04ad96687f0001250001_3401580c50974d2386cee09bbba22160_0\\', \\'trigger_forecast\\': False, \\'trend_present\\': True, \\'forecast_intent_present\\': False, \\'date_conf\\': \\'Latest Record Date\\', \\'dataset_id\\': \\'63510a96ff5d530001d2e180\\', \\'version\\': 61}]\\n[/MQL]</s>',\n",
       "  '<s>[INST]<<SYS>>\\nYou are an assistant that helps to map the user question to the a particular JSON format which contains info asked by user and also maps it the below CONTEXT. You might also need to act as a time tagger expert to convert the date elements present in the question to a standard format and to find possible date ranges for the same.\\n\\nCONTEXT:[{\\'action_derived_measure_label\\': \\'Number of Providers\\', \\'action_derived_measure\\': None}, {\\'date\\': \\'FPP_PROVIDER_SINCE\\', \\'date_label\\': \\'Provider Since\\'}]\\n\\nStep 1: Identify the n-grams match between question and context\\n\\n        Map the n-gram or their lemma or their inflections from the question with the values in the passed context.\\n        Always consider the longest n-gram match, not the sub-string.\\n        If there are multiple matches for an n-gram with context, return all such ENTITY in response.\\n        If you are returning any match which is not exactly present with the context, make sure that it is a noun phrase and there is a high similarity between the match and the matched value in context. \\n\\n\\nStep 2: Applying time tagger rules only if time elements are present in question\\n\\n        Identify the TIME ELEMENTS in the input question and convert it to a standard format (if not already) by applying the general time tagging rules. If the TIME ELEMENT is already in a standard format, then no need to convert it.\\n        TIME ELEMENT can be either a temporal interval (across months, yoy, mom, qoq, wow, quarterly etc.) or a temporal expression (time points such as specific dates, relative expressions etc.).\\n        Calculate date range for each time points based on the following conditions:\\n        1. For relative time expressions, calculate the date range based on a reference date - By default the reference date is the end_date in date input: {\\'start_date\\': \\'01/01/2020\\', \\'end_date\\': \\'15/09/2023\\'}\\n        2. To calculate the date range for \"last X years\", strictly follow below conditions:\\n                For \"last 1 year\", consider exactly one year before the reference year and set start date as January 1 and end date as Decemebr 31 of that year.\\n                For \"last X years\", where X is greater than 1, consider starting year = (reference year - X+1) and set start date as January 1 of starting year and end date as the reference date.\\n        3. To calculate the date range for \"last X months\", strictly follow below conditions:\\n                Consider reference month as the month in reference date.\\n                For \"last 1 month\", consider exactly one month before the reference month and set start date as first day and end date as last day of that month.\\n                For \"last X months\", where X is greater than 1, consider starting month = (reference month - X+1) and set start date as first day of starting month and end date as the reference date. (Example: if reference date is 14/09/2022, then last 3 months = 01/07/2022 - 14/09/2022)\\n        4. To calculate the date range for \"last X quarters\", strictly follow below conditions:\\n                For \"last 1 quarter\", consider exactly one quarter before the reference quarter and set start date as first day and end date as last day of that quarter .\\n                For \"last X quarter\", where X is greater than 1, consider starting quarter = (reference quarter - X+1) and set start date as first day of starting quarter and end date as the reference date.\\n        5. To calculate the date range for \"last X weeks\", strictly follow the below conditions:\\n                Consider reference week as the week in reference week.\\n                For \"last 1 week\", set start date as Monday and end date as Sunday of the previous week of reference week. (Example: if reference date is 14/09/2022, then last week = 05/09/2022 - 11/09/2022)\\n                For \"last X weeks\", set start date as Monday of reference week and set start date as the Monday of that week and end date as reference date. \\n        6. Provide the date range of each time point in \"start date - end date\" format always.\\n\\n<</SYS>>\\nUser question is : trend of number of providers\\n\\nConverted JSON is as shown below: \\n[/INST]\\n[MQL]\\n[{\\'date\\': {\\'trend\\': {\\'FPP_PROVIDER_SINCE\\': {\\'label\\': \\'Provider Since\\', \\'operator\\': \\'histogram\\', \\'interval\\': \\'month\\', \\'order\\': \\'asc\\'}}}, \\'action\\': {\\'derived_measure\\': {\\'number of providers\\': {\\'Number of Providers\\': {\\'label\\': \\'Number of Providers\\', \\'order\\': \\'desc\\', \\'operator\\': \\'sum\\', \\'root_variables\\': []}}}, \\'type\\': \\'derived_summarization\\', \\'start_date\\': \\'2021/01/01 00:00:00\\'}, \\'query_type\\': \\'aggregation\\', \\'db_type\\': \\'activity\\', \\'type\\': \\'transaction\\', \\'weight\\': 0.8, \\'id\\': \\'leni_633b04ad96687f0001250001_aef000ca190c409a837ef5c068ab69ae_0\\', \\'trigger_forecast\\': False, \\'trend_present\\': True, \\'forecast_intent_present\\': False, \\'date_conf\\': \\'Latest Record Date\\', \\'dataset_id\\': \\'636913a95537400001f02eee\\', \\'version\\': 61}]\\n[/MQL]</s>',\n",
       "  '<s>[INST]<<SYS>>\\nYou are an assistant that helps to map the user question to the a particular JSON format which contains info asked by user and also maps it the below CONTEXT. You might also need to act as a time tagger expert to convert the date elements present in the question to a standard format and to find possible date ranges for the same.\\n\\nCONTEXT:[{\\'action_derived_measure_label\\': \\'Number of Facility\\', \\'action_derived_measure\\': None}, {\\'date\\': \\'FFP_CREATED_AT\\', \\'date_label\\': \\'Created At\\'}]\\n\\nStep 1: Identify the n-grams match between question and context\\n\\n        Map the n-gram or their lemma or their inflections from the question with the values in the passed context.\\n        Always consider the longest n-gram match, not the sub-string.\\n        If there are multiple matches for an n-gram with context, return all such ENTITY in response.\\n        If you are returning any match which is not exactly present with the context, make sure that it is a noun phrase and there is a high similarity between the match and the matched value in context. \\n\\n\\nStep 2: Applying time tagger rules only if time elements are present in question\\n\\n        Identify the TIME ELEMENTS in the input question and convert it to a standard format (if not already) by applying the general time tagging rules. If the TIME ELEMENT is already in a standard format, then no need to convert it.\\n        TIME ELEMENT can be either a temporal interval (across months, yoy, mom, qoq, wow, quarterly etc.) or a temporal expression (time points such as specific dates, relative expressions etc.).\\n        Calculate date range for each time points based on the following conditions:\\n        1. For relative time expressions, calculate the date range based on a reference date - By default the reference date is the end_date in date input: {\\'start_date\\': \\'01/01/2020\\', \\'end_date\\': \\'15/09/2023\\'}\\n        2. To calculate the date range for \"last X years\", strictly follow below conditions:\\n                For \"last 1 year\", consider exactly one year before the reference year and set start date as January 1 and end date as Decemebr 31 of that year.\\n                For \"last X years\", where X is greater than 1, consider starting year = (reference year - X+1) and set start date as January 1 of starting year and end date as the reference date.\\n        3. To calculate the date range for \"last X months\", strictly follow below conditions:\\n                Consider reference month as the month in reference date.\\n                For \"last 1 month\", consider exactly one month before the reference month and set start date as first day and end date as last day of that month.\\n                For \"last X months\", where X is greater than 1, consider starting month = (reference month - X+1) and set start date as first day of starting month and end date as the reference date. (Example: if reference date is 14/09/2022, then last 3 months = 01/07/2022 - 14/09/2022)\\n        4. To calculate the date range for \"last X quarters\", strictly follow below conditions:\\n                For \"last 1 quarter\", consider exactly one quarter before the reference quarter and set start date as first day and end date as last day of that quarter .\\n                For \"last X quarter\", where X is greater than 1, consider starting quarter = (reference quarter - X+1) and set start date as first day of starting quarter and end date as the reference date.\\n        5. To calculate the date range for \"last X weeks\", strictly follow the below conditions:\\n                Consider reference week as the week in reference week.\\n                For \"last 1 week\", set start date as Monday and end date as Sunday of the previous week of reference week. (Example: if reference date is 14/09/2022, then last week = 05/09/2022 - 11/09/2022)\\n                For \"last X weeks\", set start date as Monday of reference week and set start date as the Monday of that week and end date as reference date. \\n        6. Provide the date range of each time point in \"start date - end date\" format always.\\n\\n<</SYS>>\\nUser question is : trend of number of facilities\\n\\nConverted JSON is as shown below: \\n[/INST]\\n[MQL]\\n[{\\'date\\': {\\'trend\\': {\\'FFP_CREATED_AT\\': {\\'label\\': \\'Created At\\', \\'operator\\': \\'histogram\\', \\'interval\\': \\'month\\', \\'order\\': \\'asc\\'}}}, \\'action\\': {\\'derived_measure\\': {\\'number of facilities\\': {\\'Number of Facility\\': {\\'label\\': \\'Number of Facility\\', \\'order\\': \\'desc\\', \\'operator\\': \\'sum\\', \\'root_variables\\': []}}}, \\'type\\': \\'derived_summarization\\', \\'start_date\\': \\'2021/01/04 00:00:00\\'}, \\'query_type\\': \\'aggregation\\', \\'db_type\\': \\'activity\\', \\'type\\': \\'transaction\\', \\'weight\\': 0.8, \\'id\\': \\'leni_633b04ad96687f0001250001_73a3f2478cd74a12a449b99fd8a5eb32_0\\', \\'trigger_forecast\\': False, \\'trend_present\\': True, \\'forecast_intent_present\\': False, \\'date_conf\\': \\'Latest Record Date\\', \\'dataset_id\\': \\'6369164ba992e7000164f592\\', \\'version\\': 61}]\\n[/MQL]</s>',\n",
       "  '<s>[INST]<<SYS>>\\nYou are an assistant that helps to map the user question to the a particular JSON format which contains info asked by user and also maps it the below CONTEXT. You might also need to act as a time tagger expert to convert the date elements present in the question to a standard format and to find possible date ranges for the same.\\n\\nCONTEXT:[{\\'action_derived_measure_label\\': \\'Number of Facility\\', \\'action_derived_measure\\': None}, {\\'date\\': \\'FFP_CREATED_AT\\', \\'date_label\\': \\'Created At\\'}]\\n\\nStep 1: Identify the n-grams match between question and context\\n\\n        Map the n-gram or their lemma or their inflections from the question with the values in the passed context.\\n        Always consider the longest n-gram match, not the sub-string.\\n        If there are multiple matches for an n-gram with context, return all such ENTITY in response.\\n        If you are returning any match which is not exactly present with the context, make sure that it is a noun phrase and there is a high similarity between the match and the matched value in context. \\n\\n\\nStep 2: Applying time tagger rules only if time elements are present in question\\n\\n        Identify the TIME ELEMENTS in the input question and convert it to a standard format (if not already) by applying the general time tagging rules. If the TIME ELEMENT is already in a standard format, then no need to convert it.\\n        TIME ELEMENT can be either a temporal interval (across months, yoy, mom, qoq, wow, quarterly etc.) or a temporal expression (time points such as specific dates, relative expressions etc.).\\n        Calculate date range for each time points based on the following conditions:\\n        1. For relative time expressions, calculate the date range based on a reference date - By default the reference date is the end_date in date input: {\\'start_date\\': \\'01/01/2020\\', \\'end_date\\': \\'15/09/2023\\'}\\n        2. To calculate the date range for \"last X years\", strictly follow below conditions:\\n                For \"last 1 year\", consider exactly one year before the reference year and set start date as January 1 and end date as Decemebr 31 of that year.\\n                For \"last X years\", where X is greater than 1, consider starting year = (reference year - X+1) and set start date as January 1 of starting year and end date as the reference date.\\n        3. To calculate the date range for \"last X months\", strictly follow below conditions:\\n                Consider reference month as the month in reference date.\\n                For \"last 1 month\", consider exactly one month before the reference month and set start date as first day and end date as last day of that month.\\n                For \"last X months\", where X is greater than 1, consider starting month = (reference month - X+1) and set start date as first day of starting month and end date as the reference date. (Example: if reference date is 14/09/2022, then last 3 months = 01/07/2022 - 14/09/2022)\\n        4. To calculate the date range for \"last X quarters\", strictly follow below conditions:\\n                For \"last 1 quarter\", consider exactly one quarter before the reference quarter and set start date as first day and end date as last day of that quarter .\\n                For \"last X quarter\", where X is greater than 1, consider starting quarter = (reference quarter - X+1) and set start date as first day of starting quarter and end date as the reference date.\\n        5. To calculate the date range for \"last X weeks\", strictly follow the below conditions:\\n                Consider reference week as the week in reference week.\\n                For \"last 1 week\", set start date as Monday and end date as Sunday of the previous week of reference week. (Example: if reference date is 14/09/2022, then last week = 05/09/2022 - 11/09/2022)\\n                For \"last X weeks\", set start date as Monday of reference week and set start date as the Monday of that week and end date as reference date. \\n        6. Provide the date range of each time point in \"start date - end date\" format always.\\n\\n<</SYS>>\\nUser question is : trend of number of providers and number of facilities in 2022\\n\\nConverted JSON is as shown below: \\n[/INST]\\n[MQL]\\n[{\\'date\\': {\\'2022\\': {\\'FFP_CREATED_AT\\': {\\'label\\': \\'Created At\\', \\'order\\': \\'asc\\', \\'operator\\': \\'histogram\\', \\'interval\\': \\'month\\'}}}, \\'action\\': {\\'derived_measure\\': {\\'number of facilities\\': {\\'Number of Facility\\': {\\'label\\': \\'Number of Facility\\', \\'order\\': \\'desc\\', \\'operator\\': \\'sum\\', \\'root_variables\\': []}}}, \\'type\\': \\'derived_summarization\\', \\'start_date\\': \\'2021/01/04 00:00:00\\'}, \\'filter\\': {\\'and\\': {\\'range\\': {\\'2022\\': [{\\'gte\\': \\'2022/01/01 00:00:00\\', \\'lte\\': \\'2022/11/12 23:59:59\\'}]}}}, \\'query_type\\': \\'aggregation\\', \\'db_type\\': \\'activity\\', \\'type\\': \\'transaction\\', \\'weight\\': 0.7133333333333333, \\'id\\': \\'leni_633b04ad96687f0001250001_1d51a96f973446efaf54c2919b8d8a99_0\\', \\'trigger_forecast\\': True, \\'trend_present\\': True, \\'forecast_intent_present\\': False, \\'date_conf\\': \\'Latest Record Date\\', \\'dataset_id\\': \\'6369164ba992e7000164f592\\', \\'version\\': 61}]\\n[/MQL]</s>',\n",
       "  '<s>[INST]<<SYS>>\\nYou are an assistant that helps to map the user question to the a particular JSON format which contains info asked by user and also maps it the below CONTEXT. You might also need to act as a time tagger expert to convert the date elements present in the question to a standard format and to find possible date ranges for the same.\\n\\nCONTEXT:[{\\'action_derived_measure_label\\': \\'Number of Providers\\', \\'action_derived_measure\\': None}, {\\'date\\': \\'FPP_PROVIDER_SINCE\\', \\'date_label\\': \\'Provider Since\\'}]\\n\\nStep 1: Identify the n-grams match between question and context\\n\\n        Map the n-gram or their lemma or their inflections from the question with the values in the passed context.\\n        Always consider the longest n-gram match, not the sub-string.\\n        If there are multiple matches for an n-gram with context, return all such ENTITY in response.\\n        If you are returning any match which is not exactly present with the context, make sure that it is a noun phrase and there is a high similarity between the match and the matched value in context. \\n\\n\\nStep 2: Applying time tagger rules only if time elements are present in question\\n\\n        Identify the TIME ELEMENTS in the input question and convert it to a standard format (if not already) by applying the general time tagging rules. If the TIME ELEMENT is already in a standard format, then no need to convert it.\\n        TIME ELEMENT can be either a temporal interval (across months, yoy, mom, qoq, wow, quarterly etc.) or a temporal expression (time points such as specific dates, relative expressions etc.).\\n        Calculate date range for each time points based on the following conditions:\\n        1. For relative time expressions, calculate the date range based on a reference date - By default the reference date is the end_date in date input: {\\'start_date\\': \\'01/01/2020\\', \\'end_date\\': \\'15/09/2023\\'}\\n        2. To calculate the date range for \"last X years\", strictly follow below conditions:\\n                For \"last 1 year\", consider exactly one year before the reference year and set start date as January 1 and end date as Decemebr 31 of that year.\\n                For \"last X years\", where X is greater than 1, consider starting year = (reference year - X+1) and set start date as January 1 of starting year and end date as the reference date.\\n        3. To calculate the date range for \"last X months\", strictly follow below conditions:\\n                Consider reference month as the month in reference date.\\n                For \"last 1 month\", consider exactly one month before the reference month and set start date as first day and end date as last day of that month.\\n                For \"last X months\", where X is greater than 1, consider starting month = (reference month - X+1) and set start date as first day of starting month and end date as the reference date. (Example: if reference date is 14/09/2022, then last 3 months = 01/07/2022 - 14/09/2022)\\n        4. To calculate the date range for \"last X quarters\", strictly follow below conditions:\\n                For \"last 1 quarter\", consider exactly one quarter before the reference quarter and set start date as first day and end date as last day of that quarter .\\n                For \"last X quarter\", where X is greater than 1, consider starting quarter = (reference quarter - X+1) and set start date as first day of starting quarter and end date as the reference date.\\n        5. To calculate the date range for \"last X weeks\", strictly follow the below conditions:\\n                Consider reference week as the week in reference week.\\n                For \"last 1 week\", set start date as Monday and end date as Sunday of the previous week of reference week. (Example: if reference date is 14/09/2022, then last week = 05/09/2022 - 11/09/2022)\\n                For \"last X weeks\", set start date as Monday of reference week and set start date as the Monday of that week and end date as reference date. \\n        6. Provide the date range of each time point in \"start date - end date\" format always.\\n\\n<</SYS>>\\nUser question is : trend of number of providers and number of facilities in 2022\\n\\nConverted JSON is as shown below: \\n[/INST]\\n[MQL]\\n[{\\'date\\': {\\'2022\\': {\\'FPP_PROVIDER_SINCE\\': {\\'label\\': \\'Provider Since\\', \\'order\\': \\'asc\\', \\'operator\\': \\'histogram\\', \\'interval\\': \\'month\\'}}}, \\'action\\': {\\'derived_measure\\': {\\'number of providers\\': {\\'Number of Providers\\': {\\'label\\': \\'Number of Providers\\', \\'order\\': \\'desc\\', \\'operator\\': \\'sum\\', \\'root_variables\\': []}}}, \\'type\\': \\'derived_summarization\\', \\'start_date\\': \\'2021/01/01 00:00:00\\'}, \\'filter\\': {\\'and\\': {\\'range\\': {\\'2022\\': [{\\'gte\\': \\'2022/01/01 00:00:00\\', \\'lte\\': \\'2022/11/13 23:59:59\\'}]}}}, \\'query_type\\': \\'aggregation\\', \\'db_type\\': \\'activity\\', \\'type\\': \\'transaction\\', \\'weight\\': 0.7133333333333333, \\'id\\': \\'leni_633b04ad96687f0001250001_020331e2c6e140a0a66cdf8db4d4cc24_0\\', \\'trigger_forecast\\': True, \\'trend_present\\': True, \\'forecast_intent_present\\': False, \\'date_conf\\': \\'Latest Record Date\\', \\'dataset_id\\': \\'636913a95537400001f02eee\\', \\'version\\': 61}]\\n[/MQL]</s>',\n",
       "  '<s>[INST]<<SYS>>\\nYou are an assistant that helps to map the user question to the a particular JSON format which contains info asked by user and also maps it the below CONTEXT. You might also need to act as a time tagger expert to convert the date elements present in the question to a standard format and to find possible date ranges for the same.\\n\\nCONTEXT:[{\\'measure\\': \\'PROFIT\\', \\'measure_label\\': \\'Profit in Dollars\\'}, {\\'date\\': \\'AFS_SHIFT_DATE_START\\', \\'date_label\\': \\'Shift Date Start\\'}]\\n\\nStep 1: Identify the n-grams match between question and context\\n\\n        Map the n-gram or their lemma or their inflections from the question with the values in the passed context.\\n        Always consider the longest n-gram match, not the sub-string.\\n        If there are multiple matches for an n-gram with context, return all such ENTITY in response.\\n        If you are returning any match which is not exactly present with the context, make sure that it is a noun phrase and there is a high similarity between the match and the matched value in context. \\n\\n\\nStep 2: Applying time tagger rules only if time elements are present in question\\n\\n        Identify the TIME ELEMENTS in the input question and convert it to a standard format (if not already) by applying the general time tagging rules. If the TIME ELEMENT is already in a standard format, then no need to convert it.\\n        TIME ELEMENT can be either a temporal interval (across months, yoy, mom, qoq, wow, quarterly etc.) or a temporal expression (time points such as specific dates, relative expressions etc.).\\n        Calculate date range for each time points based on the following conditions:\\n        1. For relative time expressions, calculate the date range based on a reference date - By default the reference date is the end_date in date input: {\\'start_date\\': \\'01/01/2020\\', \\'end_date\\': \\'15/09/2023\\'}\\n        2. To calculate the date range for \"last X years\", strictly follow below conditions:\\n                For \"last 1 year\", consider exactly one year before the reference year and set start date as January 1 and end date as Decemebr 31 of that year.\\n                For \"last X years\", where X is greater than 1, consider starting year = (reference year - X+1) and set start date as January 1 of starting year and end date as the reference date.\\n        3. To calculate the date range for \"last X months\", strictly follow below conditions:\\n                Consider reference month as the month in reference date.\\n                For \"last 1 month\", consider exactly one month before the reference month and set start date as first day and end date as last day of that month.\\n                For \"last X months\", where X is greater than 1, consider starting month = (reference month - X+1) and set start date as first day of starting month and end date as the reference date. (Example: if reference date is 14/09/2022, then last 3 months = 01/07/2022 - 14/09/2022)\\n        4. To calculate the date range for \"last X quarters\", strictly follow below conditions:\\n                For \"last 1 quarter\", consider exactly one quarter before the reference quarter and set start date as first day and end date as last day of that quarter .\\n                For \"last X quarter\", where X is greater than 1, consider starting quarter = (reference quarter - X+1) and set start date as first day of starting quarter and end date as the reference date.\\n        5. To calculate the date range for \"last X weeks\", strictly follow the below conditions:\\n                Consider reference week as the week in reference week.\\n                For \"last 1 week\", set start date as Monday and end date as Sunday of the previous week of reference week. (Example: if reference date is 14/09/2022, then last week = 05/09/2022 - 11/09/2022)\\n                For \"last X weeks\", set start date as Monday of reference week and set start date as the Monday of that week and end date as reference date. \\n        6. Provide the date range of each time point in \"start date - end date\" format always.\\n\\n<</SYS>>\\nUser question is : trend of profit\\n\\nConverted JSON is as shown below: \\n[/INST]\\n[MQL]\\n[{\\'measure\\': {\\'profit\\': {\\'PROFIT\\': {\\'label\\': \\'Profit in Dollars\\', \\'order\\': \\'desc\\', \\'operator\\': \\'sum\\'}}}, \\'date\\': {\\'trend\\': {\\'AFS_SHIFT_DATE_START\\': {\\'label\\': \\'Shift Date Start\\', \\'operator\\': \\'histogram\\', \\'interval\\': \\'month\\', \\'order\\': \\'asc\\'}}}, \\'query_type\\': \\'aggregation\\', \\'db_type\\': \\'activity\\', \\'type\\': \\'transaction\\', \\'weight\\': 0.7375, \\'id\\': \\'leni_633b04ad96687f0001250001_b22fb4b9a95048b7b36be77e83cea1cb_0\\', \\'trigger_forecast\\': False, \\'trend_present\\': True, \\'forecast_intent_present\\': False, \\'date_conf\\': \\'Latest Record Date\\', \\'dataset_id\\': \\'63510a2ec778a70001dae8de\\', \\'version\\': 63}]\\n[/MQL]</s>',\n",
       "  '<s>[INST]<<SYS>>\\nYou are an assistant that helps to map the user question to the a particular JSON format which contains info asked by user and also maps it the below CONTEXT. You might also need to act as a time tagger expert to convert the date elements present in the question to a standard format and to find possible date ranges for the same.\\n\\nCONTEXT:[{\\'measure\\': \\'PROFIT\\', \\'measure_label\\': \\'Profit in Dollars\\'}, {\\'date\\': \\'AFS_SHIFT_DATE_START\\', \\'date_label\\': \\'Shift Date Start\\'}]\\n\\nStep 1: Identify the n-grams match between question and context\\n\\n        Map the n-gram or their lemma or their inflections from the question with the values in the passed context.\\n        Always consider the longest n-gram match, not the sub-string.\\n        If there are multiple matches for an n-gram with context, return all such ENTITY in response.\\n        If you are returning any match which is not exactly present with the context, make sure that it is a noun phrase and there is a high similarity between the match and the matched value in context. \\n\\n\\nStep 2: Applying time tagger rules only if time elements are present in question\\n\\n        Identify the TIME ELEMENTS in the input question and convert it to a standard format (if not already) by applying the general time tagging rules. If the TIME ELEMENT is already in a standard format, then no need to convert it.\\n        TIME ELEMENT can be either a temporal interval (across months, yoy, mom, qoq, wow, quarterly etc.) or a temporal expression (time points such as specific dates, relative expressions etc.).\\n        Calculate date range for each time points based on the following conditions:\\n        1. For relative time expressions, calculate the date range based on a reference date - By default the reference date is the end_date in date input: {\\'start_date\\': \\'01/01/2020\\', \\'end_date\\': \\'15/09/2023\\'}\\n        2. To calculate the date range for \"last X years\", strictly follow below conditions:\\n                For \"last 1 year\", consider exactly one year before the reference year and set start date as January 1 and end date as Decemebr 31 of that year.\\n                For \"last X years\", where X is greater than 1, consider starting year = (reference year - X+1) and set start date as January 1 of starting year and end date as the reference date.\\n        3. To calculate the date range for \"last X months\", strictly follow below conditions:\\n                Consider reference month as the month in reference date.\\n                For \"last 1 month\", consider exactly one month before the reference month and set start date as first day and end date as last day of that month.\\n                For \"last X months\", where X is greater than 1, consider starting month = (reference month - X+1) and set start date as first day of starting month and end date as the reference date. (Example: if reference date is 14/09/2022, then last 3 months = 01/07/2022 - 14/09/2022)\\n        4. To calculate the date range for \"last X quarters\", strictly follow below conditions:\\n                For \"last 1 quarter\", consider exactly one quarter before the reference quarter and set start date as first day and end date as last day of that quarter .\\n                For \"last X quarter\", where X is greater than 1, consider starting quarter = (reference quarter - X+1) and set start date as first day of starting quarter and end date as the reference date.\\n        5. To calculate the date range for \"last X weeks\", strictly follow the below conditions:\\n                Consider reference week as the week in reference week.\\n                For \"last 1 week\", set start date as Monday and end date as Sunday of the previous week of reference week. (Example: if reference date is 14/09/2022, then last week = 05/09/2022 - 11/09/2022)\\n                For \"last X weeks\", set start date as Monday of reference week and set start date as the Monday of that week and end date as reference date. \\n        6. Provide the date range of each time point in \"start date - end date\" format always.\\n\\n<</SYS>>\\nUser question is : why did profit increased in january 2022\\n\\nConverted JSON is as shown below: \\n[/INST]\\n[MQL]\\n[{\\'measure\\': {\\'profit\\': {\\'PROFIT\\': {\\'label\\': \\'Profit in Dollars\\', \\'order\\': \\'desc\\', \\'operator\\': \\'sum\\'}}}, \\'date\\': {\\'january 2022\\': {\\'AFS_SHIFT_DATE_START\\': {\\'label\\': \\'Shift Date Start\\', \\'order\\': \\'asc\\', \\'operator\\': \\'range\\', \\'ranges\\': [{\\'from\\': \\'2022/01/01 00:00:00\\', \\'to\\': \\'2022/01/31 23:59:59\\'}, {\\'from\\': \\'2021/12/01 00:00:00\\', \\'to\\': \\'2021/12/31 23:59:59\\'}], \\'ref_interval\\': \\'month\\'}}}, \\'action\\': {\\'type\\': \\'why_type\\', \\'start_date\\': \\'2021/01/01 00:00:00\\'}, \\'filter\\': {\\'and\\': {\\'range\\': {\\'january 2022\\': [{\\'gte\\': \\'2022/01/01 00:00:00\\', \\'lte\\': \\'2022/01/31 23:59:59\\'}, {\\'gte\\': \\'2021/12/01 00:00:00\\', \\'lte\\': \\'2021/12/31 23:59:59\\'}]}}}, \\'query_type\\': \\'aggregation\\', \\'db_type\\': \\'activity\\', \\'type\\': \\'transaction\\', \\'weight\\': 0.6979166666666666, \\'id\\': \\'leni_633b04ad96687f0001250001_b8edf3ef6de14962b1908d364955a46e_0\\', \\'trend_present\\': False, \\'forecast_intent_present\\': False, \\'date_conf\\': \\'Latest Record Date\\', \\'dataset_id\\': \\'63510a2ec778a70001dae8de\\', \\'version\\': 63}]\\n[/MQL]</s>',\n",
       "  '<s>[INST]<<SYS>>\\nYou are an assistant that helps to map the user question to the a particular JSON format which contains info asked by user and also maps it the below CONTEXT. You might also need to act as a time tagger expert to convert the date elements present in the question to a standard format and to find possible date ranges for the same.\\n\\nCONTEXT:[{\\'measure\\': \\'PROFIT\\', \\'measure_label\\': \\'Profit in Dollars\\'}, {\\'date\\': \\'AFS_SHIFT_DATE_START\\', \\'date_label\\': \\'Shift Date Start\\'}]\\n\\nStep 1: Identify the n-grams match between question and context\\n\\n        Map the n-gram or their lemma or their inflections from the question with the values in the passed context.\\n        Always consider the longest n-gram match, not the sub-string.\\n        If there are multiple matches for an n-gram with context, return all such ENTITY in response.\\n        If you are returning any match which is not exactly present with the context, make sure that it is a noun phrase and there is a high similarity between the match and the matched value in context. \\n\\n\\nStep 2: Applying time tagger rules only if time elements are present in question\\n\\n        Identify the TIME ELEMENTS in the input question and convert it to a standard format (if not already) by applying the general time tagging rules. If the TIME ELEMENT is already in a standard format, then no need to convert it.\\n        TIME ELEMENT can be either a temporal interval (across months, yoy, mom, qoq, wow, quarterly etc.) or a temporal expression (time points such as specific dates, relative expressions etc.).\\n        Calculate date range for each time points based on the following conditions:\\n        1. For relative time expressions, calculate the date range based on a reference date - By default the reference date is the end_date in date input: {\\'start_date\\': \\'01/01/2020\\', \\'end_date\\': \\'15/09/2023\\'}\\n        2. To calculate the date range for \"last X years\", strictly follow below conditions:\\n                For \"last 1 year\", consider exactly one year before the reference year and set start date as January 1 and end date as Decemebr 31 of that year.\\n                For \"last X years\", where X is greater than 1, consider starting year = (reference year - X+1) and set start date as January 1 of starting year and end date as the reference date.\\n        3. To calculate the date range for \"last X months\", strictly follow below conditions:\\n                Consider reference month as the month in reference date.\\n                For \"last 1 month\", consider exactly one month before the reference month and set start date as first day and end date as last day of that month.\\n                For \"last X months\", where X is greater than 1, consider starting month = (reference month - X+1) and set start date as first day of starting month and end date as the reference date. (Example: if reference date is 14/09/2022, then last 3 months = 01/07/2022 - 14/09/2022)\\n        4. To calculate the date range for \"last X quarters\", strictly follow below conditions:\\n                For \"last 1 quarter\", consider exactly one quarter before the reference quarter and set start date as first day and end date as last day of that quarter .\\n                For \"last X quarter\", where X is greater than 1, consider starting quarter = (reference quarter - X+1) and set start date as first day of starting quarter and end date as the reference date.\\n        5. To calculate the date range for \"last X weeks\", strictly follow the below conditions:\\n                Consider reference week as the week in reference week.\\n                For \"last 1 week\", set start date as Monday and end date as Sunday of the previous week of reference week. (Example: if reference date is 14/09/2022, then last week = 05/09/2022 - 11/09/2022)\\n                For \"last X weeks\", set start date as Monday of reference week and set start date as the Monday of that week and end date as reference date. \\n        6. Provide the date range of each time point in \"start date - end date\" format always.\\n\\n<</SYS>>\\nUser question is : what will be profit\\n\\nConverted JSON is as shown below: \\n[/INST]\\n[MQL]\\n[{\\'measure\\': {\\'profit\\': {\\'PROFIT\\': {\\'label\\': \\'Profit in Dollars\\', \\'order\\': \\'desc\\', \\'operator\\': \\'sum\\'}}}, \\'date\\': {\\'Forecast Reference\\': {\\'AFS_SHIFT_DATE_START\\': {\\'label\\': \\'Shift Date Start\\', \\'operator\\': \\'histogram\\', \\'interval\\': \\'month\\', \\'order\\': \\'asc\\'}}}, \\'action\\': {\\'type\\': \\'forecast\\', \\'start_date\\': \\'2021/01/01 00:00:00\\'}, \\'query_type\\': \\'aggregation\\', \\'db_type\\': \\'activity\\', \\'type\\': \\'transaction\\', \\'weight\\': 0.8666666666666667, \\'id\\': \\'leni_633b04ad96687f0001250001_a3ef128263364573b7f7dc27ef6a45c1_0\\', \\'trend_present\\': False, \\'forecast_intent_present\\': True, \\'date_conf\\': \\'Latest Record Date\\', \\'dataset_id\\': \\'63510a2ec778a70001dae8de\\', \\'version\\': 61}]\\n[/MQL]</s>',\n",
       "  '<s>[INST]<<SYS>>\\nYou are an assistant that helps to map the user question to the a particular JSON format which contains info asked by user and also maps it the below CONTEXT. You might also need to act as a time tagger expert to convert the date elements present in the question to a standard format and to find possible date ranges for the same.\\n\\nCONTEXT:[{\\'measure\\': \\'PROFIT\\', \\'measure_label\\': \\'Profit in Dollars\\'}, {\\'dimension\\': \\'FFP_STATE_NAME\\', \\'dimension_label\\': \\'State\\'}, {\\'date\\': \\'AFS_SHIFT_DATE_START\\', \\'date_label\\': \\'Shift Date Start\\'}]\\n\\nStep 1: Identify the n-grams match between question and context\\n\\n        Map the n-gram or their lemma or their inflections from the question with the values in the passed context.\\n        Always consider the longest n-gram match, not the sub-string.\\n        If there are multiple matches for an n-gram with context, return all such ENTITY in response.\\n        If you are returning any match which is not exactly present with the context, make sure that it is a noun phrase and there is a high similarity between the match and the matched value in context. \\n\\n\\nStep 2: Applying time tagger rules only if time elements are present in question\\n\\n        Identify the TIME ELEMENTS in the input question and convert it to a standard format (if not already) by applying the general time tagging rules. If the TIME ELEMENT is already in a standard format, then no need to convert it.\\n        TIME ELEMENT can be either a temporal interval (across months, yoy, mom, qoq, wow, quarterly etc.) or a temporal expression (time points such as specific dates, relative expressions etc.).\\n        Calculate date range for each time points based on the following conditions:\\n        1. For relative time expressions, calculate the date range based on a reference date - By default the reference date is the end_date in date input: {\\'start_date\\': \\'01/01/2020\\', \\'end_date\\': \\'15/09/2023\\'}\\n        2. To calculate the date range for \"last X years\", strictly follow below conditions:\\n                For \"last 1 year\", consider exactly one year before the reference year and set start date as January 1 and end date as Decemebr 31 of that year.\\n                For \"last X years\", where X is greater than 1, consider starting year = (reference year - X+1) and set start date as January 1 of starting year and end date as the reference date.\\n        3. To calculate the date range for \"last X months\", strictly follow below conditions:\\n                Consider reference month as the month in reference date.\\n                For \"last 1 month\", consider exactly one month before the reference month and set start date as first day and end date as last day of that month.\\n                For \"last X months\", where X is greater than 1, consider starting month = (reference month - X+1) and set start date as first day of starting month and end date as the reference date. (Example: if reference date is 14/09/2022, then last 3 months = 01/07/2022 - 14/09/2022)\\n        4. To calculate the date range for \"last X quarters\", strictly follow below conditions:\\n                For \"last 1 quarter\", consider exactly one quarter before the reference quarter and set start date as first day and end date as last day of that quarter .\\n                For \"last X quarter\", where X is greater than 1, consider starting quarter = (reference quarter - X+1) and set start date as first day of starting quarter and end date as the reference date.\\n        5. To calculate the date range for \"last X weeks\", strictly follow the below conditions:\\n                Consider reference week as the week in reference week.\\n                For \"last 1 week\", set start date as Monday and end date as Sunday of the previous week of reference week. (Example: if reference date is 14/09/2022, then last week = 05/09/2022 - 11/09/2022)\\n                For \"last X weeks\", set start date as Monday of reference week and set start date as the Monday of that week and end date as reference date. \\n        6. Provide the date range of each time point in \"start date - end date\" format always.\\n\\n<</SYS>>\\nUser question is : why did profit decrease for texas for sep 2022 vs july 2022\\n\\nConverted JSON is as shown below: \\n[/INST]\\n[MQL]\\n[{\\'measure\\': {\\'profit\\': {\\'PROFIT\\': {\\'label\\': \\'Profit in Dollars\\', \\'order\\': \\'desc\\', \\'operator\\': \\'sum\\'}}}, \\'dimension\\': {\\'texas\\': {\\'FFP_STATE_NAME\\': {\\'label\\': \\'State\\', \\'order\\': \\'desc\\'}, \\'FSP_STATE_NAME\\': {\\'label\\': \\'State Name\\'}, \\'FPP_MAILING_STATE_NAME\\': {\\'label\\': \\'Mailing State\\'}}}, \\'date\\': {\\'sep 2022\\': {\\'AFS_SHIFT_DATE_START\\': {\\'label\\': \\'Shift Date Start\\', \\'order\\': \\'asc\\', \\'operator\\': \\'range\\', \\'ranges\\': [{\\'from\\': \\'2022/09/01 00:00:00\\', \\'to\\': \\'2022/09/30 23:59:59\\'}], \\'ref_interval\\': \\'month\\'}}, \\'july 2022\\': {\\'AFS_SHIFT_DATE_START\\': {\\'label\\': \\'Shift Date Start\\', \\'order\\': \\'asc\\', \\'operator\\': \\'range\\', \\'ranges\\': [{\\'from\\': \\'2022/07/01 00:00:00\\', \\'to\\': \\'2022/07/31 23:59:59\\'}], \\'ref_interval\\': \\'month\\'}}}, \\'action\\': {\\'type\\': \\'why_type\\', \\'start_date\\': \\'2021/01/01 00:00:00\\'}, \\'filter\\': {\\'and\\': {\\'range\\': {\\'sep 2022\\': [{\\'gte\\': \\'2022/09/01 00:00:00\\', \\'lte\\': \\'2022/09/30 23:59:59\\'}], \\'july 2022\\': [{\\'gte\\': \\'2022/07/01 00:00:00\\', \\'lte\\': \\'2022/07/31 23:59:59\\'}]}, \\'eq\\': {\\'texas\\': {\\'FPP_MAILING_STATE_NAME\\': [\\'Texas\\'], \\'FSP_STATE_NAME\\': [\\'Texas\\'], \\'FFP_STATE_NAME\\': [\\'Texas\\']}}}}, \\'query_type\\': \\'aggregation\\', \\'db_type\\': \\'activity\\', \\'type\\': \\'transaction\\', \\'weight\\': 0.6397163120567375, \\'id\\': \\'leni_633b04ad96687f0001250001_aea7f4ac4ba044feaacca7e56a73be55_0\\', \\'trend_present\\': False, \\'forecast_intent_present\\': False, \\'date_conf\\': \\'Latest Record Date\\', \\'dataset_id\\': \\'63510a2ec778a70001dae8de\\', \\'version\\': 61}]\\n[/MQL]</s>',\n",
       "  '<s>[INST]<<SYS>>\\nYou are an assistant that helps to map the user question to the a particular JSON format which contains info asked by user and also maps it the below CONTEXT. You might also need to act as a time tagger expert to convert the date elements present in the question to a standard format and to find possible date ranges for the same.\\n\\nCONTEXT:[{\\'action_derived_measure_label\\': \\'Number of onboard completions\\', \\'action_derived_measure\\': None}, {\\'date\\': \\'FOP_COMPLETED_ON\\', \\'date_label\\': \\'Completed On\\'}]\\n\\nStep 1: Identify the n-grams match between question and context\\n\\n        Map the n-gram or their lemma or their inflections from the question with the values in the passed context.\\n        Always consider the longest n-gram match, not the sub-string.\\n        If there are multiple matches for an n-gram with context, return all such ENTITY in response.\\n        If you are returning any match which is not exactly present with the context, make sure that it is a noun phrase and there is a high similarity between the match and the matched value in context. \\n\\n\\nStep 2: Applying time tagger rules only if time elements are present in question\\n\\n        Identify the TIME ELEMENTS in the input question and convert it to a standard format (if not already) by applying the general time tagging rules. If the TIME ELEMENT is already in a standard format, then no need to convert it.\\n        TIME ELEMENT can be either a temporal interval (across months, yoy, mom, qoq, wow, quarterly etc.) or a temporal expression (time points such as specific dates, relative expressions etc.).\\n        Calculate date range for each time points based on the following conditions:\\n        1. For relative time expressions, calculate the date range based on a reference date - By default the reference date is the end_date in date input: {\\'start_date\\': \\'01/01/2020\\', \\'end_date\\': \\'15/09/2023\\'}\\n        2. To calculate the date range for \"last X years\", strictly follow below conditions:\\n                For \"last 1 year\", consider exactly one year before the reference year and set start date as January 1 and end date as Decemebr 31 of that year.\\n                For \"last X years\", where X is greater than 1, consider starting year = (reference year - X+1) and set start date as January 1 of starting year and end date as the reference date.\\n        3. To calculate the date range for \"last X months\", strictly follow below conditions:\\n                Consider reference month as the month in reference date.\\n                For \"last 1 month\", consider exactly one month before the reference month and set start date as first day and end date as last day of that month.\\n                For \"last X months\", where X is greater than 1, consider starting month = (reference month - X+1) and set start date as first day of starting month and end date as the reference date. (Example: if reference date is 14/09/2022, then last 3 months = 01/07/2022 - 14/09/2022)\\n        4. To calculate the date range for \"last X quarters\", strictly follow below conditions:\\n                For \"last 1 quarter\", consider exactly one quarter before the reference quarter and set start date as first day and end date as last day of that quarter .\\n                For \"last X quarter\", where X is greater than 1, consider starting quarter = (reference quarter - X+1) and set start date as first day of starting quarter and end date as the reference date.\\n        5. To calculate the date range for \"last X weeks\", strictly follow the below conditions:\\n                Consider reference week as the week in reference week.\\n                For \"last 1 week\", set start date as Monday and end date as Sunday of the previous week of reference week. (Example: if reference date is 14/09/2022, then last week = 05/09/2022 - 11/09/2022)\\n                For \"last X weeks\", set start date as Monday of reference week and set start date as the Monday of that week and end date as reference date. \\n        6. Provide the date range of each time point in \"start date - end date\" format always.\\n\\n<</SYS>>\\nUser question is : trend of number of onboard completions in 2022\\n\\nConverted JSON is as shown below: \\n[/INST]\\n[MQL]\\n[{\\'date\\': {\\'2022\\': {\\'FOP_COMPLETED_ON\\': {\\'label\\': \\'Completed On\\', \\'order\\': \\'asc\\', \\'operator\\': \\'histogram\\', \\'interval\\': \\'month\\'}}}, \\'action\\': {\\'derived_measure\\': {\\'number of onboard completions\\': {\\'Number of onboard completions\\': {\\'label\\': \\'Number of onboard completions\\', \\'order\\': \\'desc\\', \\'operator\\': \\'sum\\', \\'root_variables\\': []}}}, \\'type\\': \\'derived_summarization\\', \\'start_date\\': \\'2021/01/01 00:00:00\\'}, \\'filter\\': {\\'and\\': {\\'range\\': {\\'2022\\': [{\\'gte\\': \\'2022/01/01 00:00:00\\', \\'lte\\': \\'2022/12/31 23:59:59\\'}]}}}, \\'query_type\\': \\'aggregation\\', \\'db_type\\': \\'activity\\', \\'type\\': \\'transaction\\', \\'weight\\': 0.7133333333333333, \\'id\\': \\'leni_633b04ad96687f0001250001_cd162b6160184016a34c08ba65b8cd59_0\\', \\'trigger_forecast\\': True, \\'trend_present\\': True, \\'forecast_intent_present\\': False, \\'date_conf\\': \\'System Date\\', \\'dataset_id\\': \\'63510cd3c778a70001dae97a\\', \\'version\\': 63}]\\n[/MQL]</s>',\n",
       "  '<s>[INST]<<SYS>>\\nYou are an assistant that helps to map the user question to the a particular JSON format which contains info asked by user and also maps it the below CONTEXT. You might also need to act as a time tagger expert to convert the date elements present in the question to a standard format and to find possible date ranges for the same.\\n\\nCONTEXT:[{\\'action_derived_measure_label\\': \\'Number of onboard completions\\', \\'action_derived_measure\\': None}, {\\'date\\': \\'FOP_COMPLETED_ON\\', \\'date_label\\': \\'Completed On\\'}]\\n\\nStep 1: Identify the n-grams match between question and context\\n\\n        Map the n-gram or their lemma or their inflections from the question with the values in the passed context.\\n        Always consider the longest n-gram match, not the sub-string.\\n        If there are multiple matches for an n-gram with context, return all such ENTITY in response.\\n        If you are returning any match which is not exactly present with the context, make sure that it is a noun phrase and there is a high similarity between the match and the matched value in context. \\n\\n\\nStep 2: Applying time tagger rules only if time elements are present in question\\n\\n        Identify the TIME ELEMENTS in the input question and convert it to a standard format (if not already) by applying the general time tagging rules. If the TIME ELEMENT is already in a standard format, then no need to convert it.\\n        TIME ELEMENT can be either a temporal interval (across months, yoy, mom, qoq, wow, quarterly etc.) or a temporal expression (time points such as specific dates, relative expressions etc.).\\n        Calculate date range for each time points based on the following conditions:\\n        1. For relative time expressions, calculate the date range based on a reference date - By default the reference date is the end_date in date input: {\\'start_date\\': \\'01/01/2020\\', \\'end_date\\': \\'15/09/2023\\'}\\n        2. To calculate the date range for \"last X years\", strictly follow below conditions:\\n                For \"last 1 year\", consider exactly one year before the reference year and set start date as January 1 and end date as Decemebr 31 of that year.\\n                For \"last X years\", where X is greater than 1, consider starting year = (reference year - X+1) and set start date as January 1 of starting year and end date as the reference date.\\n        3. To calculate the date range for \"last X months\", strictly follow below conditions:\\n                Consider reference month as the month in reference date.\\n                For \"last 1 month\", consider exactly one month before the reference month and set start date as first day and end date as last day of that month.\\n                For \"last X months\", where X is greater than 1, consider starting month = (reference month - X+1) and set start date as first day of starting month and end date as the reference date. (Example: if reference date is 14/09/2022, then last 3 months = 01/07/2022 - 14/09/2022)\\n        4. To calculate the date range for \"last X quarters\", strictly follow below conditions:\\n                For \"last 1 quarter\", consider exactly one quarter before the reference quarter and set start date as first day and end date as last day of that quarter .\\n                For \"last X quarter\", where X is greater than 1, consider starting quarter = (reference quarter - X+1) and set start date as first day of starting quarter and end date as the reference date.\\n        5. To calculate the date range for \"last X weeks\", strictly follow the below conditions:\\n                Consider reference week as the week in reference week.\\n                For \"last 1 week\", set start date as Monday and end date as Sunday of the previous week of reference week. (Example: if reference date is 14/09/2022, then last week = 05/09/2022 - 11/09/2022)\\n                For \"last X weeks\", set start date as Monday of reference week and set start date as the Monday of that week and end date as reference date. \\n        6. Provide the date range of each time point in \"start date - end date\" format always.\\n\\n<</SYS>>\\nUser question is : trend of number of onboard completions in 2021\\n\\nConverted JSON is as shown below: \\n[/INST]\\n[MQL]\\n[{\\'date\\': {\\'2021\\': {\\'FOP_COMPLETED_ON\\': {\\'label\\': \\'Completed On\\', \\'order\\': \\'asc\\', \\'operator\\': \\'histogram\\', \\'interval\\': \\'month\\'}}}, \\'action\\': {\\'derived_measure\\': {\\'number of onboard completions\\': {\\'Number of onboard completions\\': {\\'label\\': \\'Number of onboard completions\\', \\'order\\': \\'desc\\', \\'operator\\': \\'sum\\', \\'root_variables\\': []}}}, \\'type\\': \\'derived_summarization\\', \\'start_date\\': \\'2021/01/01 00:00:00\\'}, \\'filter\\': {\\'and\\': {\\'range\\': {\\'2021\\': [{\\'gte\\': \\'2021/01/01 00:00:00\\', \\'lte\\': \\'2021/12/31 23:59:59\\'}]}}}, \\'query_type\\': \\'aggregation\\', \\'db_type\\': \\'activity\\', \\'type\\': \\'transaction\\', \\'weight\\': 0.7133333333333333, \\'id\\': \\'leni_633b04ad96687f0001250001_06e26210c9e74df480560ce7865548f3_0\\', \\'trigger_forecast\\': True, \\'trend_present\\': True, \\'forecast_intent_present\\': False, \\'date_conf\\': \\'System Date\\', \\'dataset_id\\': \\'63510cd3c778a70001dae97a\\', \\'version\\': 63}]\\n[/MQL]</s>',\n",
       "  '<s>[INST]<<SYS>>\\nYou are an assistant that helps to map the user question to the a particular JSON format which contains info asked by user and also maps it the below CONTEXT. You might also need to act as a time tagger expert to convert the date elements present in the question to a standard format and to find possible date ranges for the same.\\n\\nCONTEXT:[{\\'action_derived_measure_label\\': \\'Number of onboard completions\\', \\'action_derived_measure\\': None}, {\\'date\\': \\'FOP_COMPLETED_ON\\', \\'date_label\\': \\'Completed On\\'}]\\n\\nStep 1: Identify the n-grams match between question and context\\n\\n        Map the n-gram or their lemma or their inflections from the question with the values in the passed context.\\n        Always consider the longest n-gram match, not the sub-string.\\n        If there are multiple matches for an n-gram with context, return all such ENTITY in response.\\n        If you are returning any match which is not exactly present with the context, make sure that it is a noun phrase and there is a high similarity between the match and the matched value in context. \\n\\n\\nStep 2: Applying time tagger rules only if time elements are present in question\\n\\n        Identify the TIME ELEMENTS in the input question and convert it to a standard format (if not already) by applying the general time tagging rules. If the TIME ELEMENT is already in a standard format, then no need to convert it.\\n        TIME ELEMENT can be either a temporal interval (across months, yoy, mom, qoq, wow, quarterly etc.) or a temporal expression (time points such as specific dates, relative expressions etc.).\\n        Calculate date range for each time points based on the following conditions:\\n        1. For relative time expressions, calculate the date range based on a reference date - By default the reference date is the end_date in date input: {\\'start_date\\': \\'01/01/2020\\', \\'end_date\\': \\'15/09/2023\\'}\\n        2. To calculate the date range for \"last X years\", strictly follow below conditions:\\n                For \"last 1 year\", consider exactly one year before the reference year and set start date as January 1 and end date as Decemebr 31 of that year.\\n                For \"last X years\", where X is greater than 1, consider starting year = (reference year - X+1) and set start date as January 1 of starting year and end date as the reference date.\\n        3. To calculate the date range for \"last X months\", strictly follow below conditions:\\n                Consider reference month as the month in reference date.\\n                For \"last 1 month\", consider exactly one month before the reference month and set start date as first day and end date as last day of that month.\\n                For \"last X months\", where X is greater than 1, consider starting month = (reference month - X+1) and set start date as first day of starting month and end date as the reference date. (Example: if reference date is 14/09/2022, then last 3 months = 01/07/2022 - 14/09/2022)\\n        4. To calculate the date range for \"last X quarters\", strictly follow below conditions:\\n                For \"last 1 quarter\", consider exactly one quarter before the reference quarter and set start date as first day and end date as last day of that quarter .\\n                For \"last X quarter\", where X is greater than 1, consider starting quarter = (reference quarter - X+1) and set start date as first day of starting quarter and end date as the reference date.\\n        5. To calculate the date range for \"last X weeks\", strictly follow the below conditions:\\n                Consider reference week as the week in reference week.\\n                For \"last 1 week\", set start date as Monday and end date as Sunday of the previous week of reference week. (Example: if reference date is 14/09/2022, then last week = 05/09/2022 - 11/09/2022)\\n                For \"last X weeks\", set start date as Monday of reference week and set start date as the Monday of that week and end date as reference date. \\n        6. Provide the date range of each time point in \"start date - end date\" format always.\\n\\n<</SYS>>\\nUser question is : trend of number of onboard completions in 2022\\n\\nConverted JSON is as shown below: \\n[/INST]\\n[MQL]\\n[{\\'date\\': {\\'2022\\': {\\'FOP_COMPLETED_ON\\': {\\'label\\': \\'Completed On\\', \\'order\\': \\'asc\\', \\'operator\\': \\'histogram\\', \\'interval\\': \\'month\\'}}}, \\'action\\': {\\'derived_measure\\': {\\'number of onboard completions\\': {\\'Number of onboard completions\\': {\\'label\\': \\'Number of onboard completions\\', \\'order\\': \\'desc\\', \\'operator\\': \\'sum\\', \\'root_variables\\': []}}}, \\'type\\': \\'derived_summarization\\', \\'start_date\\': \\'2021/01/01 00:00:00\\'}, \\'filter\\': {\\'and\\': {\\'range\\': {\\'2022\\': [{\\'gte\\': \\'2022/01/01 00:00:00\\', \\'lte\\': \\'2022/12/31 23:59:59\\'}]}}}, \\'query_type\\': \\'aggregation\\', \\'db_type\\': \\'activity\\', \\'type\\': \\'transaction\\', \\'weight\\': 0.7133333333333333, \\'id\\': \\'leni_633b04ad96687f0001250001_8ff0a3a5250d4441a99e9f99a2c24108_0\\', \\'trigger_forecast\\': True, \\'trend_present\\': True, \\'forecast_intent_present\\': False, \\'date_conf\\': \\'System Date\\', \\'dataset_id\\': \\'63510cd3c778a70001dae97a\\', \\'version\\': 63}]\\n[/MQL]</s>',\n",
       "  '<s>[INST]<<SYS>>\\nYou are an assistant that helps to map the user question to the a particular JSON format which contains info asked by user and also maps it the below CONTEXT. You might also need to act as a time tagger expert to convert the date elements present in the question to a standard format and to find possible date ranges for the same.\\n\\nCONTEXT:[{\\'action_derived_measure_label\\': \\'Number of onboard completions\\', \\'action_derived_measure\\': None}, {\\'date\\': \\'FOP_COMPLETED_ON\\', \\'date_label\\': \\'Completed On\\'}]\\n\\nStep 1: Identify the n-grams match between question and context\\n\\n        Map the n-gram or their lemma or their inflections from the question with the values in the passed context.\\n        Always consider the longest n-gram match, not the sub-string.\\n        If there are multiple matches for an n-gram with context, return all such ENTITY in response.\\n        If you are returning any match which is not exactly present with the context, make sure that it is a noun phrase and there is a high similarity between the match and the matched value in context. \\n\\n\\nStep 2: Applying time tagger rules only if time elements are present in question\\n\\n        Identify the TIME ELEMENTS in the input question and convert it to a standard format (if not already) by applying the general time tagging rules. If the TIME ELEMENT is already in a standard format, then no need to convert it.\\n        TIME ELEMENT can be either a temporal interval (across months, yoy, mom, qoq, wow, quarterly etc.) or a temporal expression (time points such as specific dates, relative expressions etc.).\\n        Calculate date range for each time points based on the following conditions:\\n        1. For relative time expressions, calculate the date range based on a reference date - By default the reference date is the end_date in date input: {\\'start_date\\': \\'01/01/2020\\', \\'end_date\\': \\'15/09/2023\\'}\\n        2. To calculate the date range for \"last X years\", strictly follow below conditions:\\n                For \"last 1 year\", consider exactly one year before the reference year and set start date as January 1 and end date as Decemebr 31 of that year.\\n                For \"last X years\", where X is greater than 1, consider starting year = (reference year - X+1) and set start date as January 1 of starting year and end date as the reference date.\\n        3. To calculate the date range for \"last X months\", strictly follow below conditions:\\n                Consider reference month as the month in reference date.\\n                For \"last 1 month\", consider exactly one month before the reference month and set start date as first day and end date as last day of that month.\\n                For \"last X months\", where X is greater than 1, consider starting month = (reference month - X+1) and set start date as first day of starting month and end date as the reference date. (Example: if reference date is 14/09/2022, then last 3 months = 01/07/2022 - 14/09/2022)\\n        4. To calculate the date range for \"last X quarters\", strictly follow below conditions:\\n                For \"last 1 quarter\", consider exactly one quarter before the reference quarter and set start date as first day and end date as last day of that quarter .\\n                For \"last X quarter\", where X is greater than 1, consider starting quarter = (reference quarter - X+1) and set start date as first day of starting quarter and end date as the reference date.\\n        5. To calculate the date range for \"last X weeks\", strictly follow the below conditions:\\n                Consider reference week as the week in reference week.\\n                For \"last 1 week\", set start date as Monday and end date as Sunday of the previous week of reference week. (Example: if reference date is 14/09/2022, then last week = 05/09/2022 - 11/09/2022)\\n                For \"last X weeks\", set start date as Monday of reference week and set start date as the Monday of that week and end date as reference date. \\n        6. Provide the date range of each time point in \"start date - end date\" format always.\\n\\n<</SYS>>\\nUser question is : trend of number of onboard completions in 2022\\n\\nConverted JSON is as shown below: \\n[/INST]\\n[MQL]\\n[{\\'date\\': {\\'2022\\': {\\'FOP_COMPLETED_ON\\': {\\'label\\': \\'Completed On\\', \\'order\\': \\'asc\\', \\'operator\\': \\'histogram\\', \\'interval\\': \\'month\\'}}}, \\'action\\': {\\'derived_measure\\': {\\'number of onboard completions\\': {\\'Number of onboard completions\\': {\\'label\\': \\'Number of onboard completions\\', \\'order\\': \\'desc\\', \\'operator\\': \\'sum\\', \\'root_variables\\': []}}}, \\'type\\': \\'derived_summarization\\', \\'start_date\\': \\'2021/01/01 00:00:00\\'}, \\'filter\\': {\\'and\\': {\\'range\\': {\\'2022\\': [{\\'gte\\': \\'2022/01/01 00:00:00\\', \\'lte\\': \\'2022/12/31 23:59:59\\'}]}}}, \\'query_type\\': \\'aggregation\\', \\'db_type\\': \\'activity\\', \\'type\\': \\'transaction\\', \\'weight\\': 0.7133333333333333, \\'id\\': \\'leni_633b04ad96687f0001250001_c1405a2dc68041a2b99c8bb1ebfb8abe_0\\', \\'trigger_forecast\\': True, \\'trend_present\\': True, \\'forecast_intent_present\\': False, \\'date_conf\\': \\'System Date\\', \\'dataset_id\\': \\'63510cd3c778a70001dae97a\\', \\'version\\': 63}]\\n[/MQL]</s>',\n",
       "  '<s>[INST]<<SYS>>\\nYou are an assistant that helps to map the user question to the a particular JSON format which contains info asked by user and also maps it the below CONTEXT. You might also need to act as a time tagger expert to convert the date elements present in the question to a standard format and to find possible date ranges for the same.\\n\\nCONTEXT:[{\\'measure\\': \\'FILLED_COUNT\\', \\'measure_label\\': \\'FILLED_COUNT\\'}, {\\'date\\': \\'SRD_CREATED_AT\\', \\'date_label\\': \\'Shift Request Created At\\'}]\\n\\nStep 1: Identify the n-grams match between question and context\\n\\n        Map the n-gram or their lemma or their inflections from the question with the values in the passed context.\\n        Always consider the longest n-gram match, not the sub-string.\\n        If there are multiple matches for an n-gram with context, return all such ENTITY in response.\\n        If you are returning any match which is not exactly present with the context, make sure that it is a noun phrase and there is a high similarity between the match and the matched value in context. \\n\\n\\nStep 2: Applying time tagger rules only if time elements are present in question\\n\\n        Identify the TIME ELEMENTS in the input question and convert it to a standard format (if not already) by applying the general time tagging rules. If the TIME ELEMENT is already in a standard format, then no need to convert it.\\n        TIME ELEMENT can be either a temporal interval (across months, yoy, mom, qoq, wow, quarterly etc.) or a temporal expression (time points such as specific dates, relative expressions etc.).\\n        Calculate date range for each time points based on the following conditions:\\n        1. For relative time expressions, calculate the date range based on a reference date - By default the reference date is the end_date in date input: {\\'start_date\\': \\'01/01/2020\\', \\'end_date\\': \\'15/09/2023\\'}\\n        2. To calculate the date range for \"last X years\", strictly follow below conditions:\\n                For \"last 1 year\", consider exactly one year before the reference year and set start date as January 1 and end date as Decemebr 31 of that year.\\n                For \"last X years\", where X is greater than 1, consider starting year = (reference year - X+1) and set start date as January 1 of starting year and end date as the reference date.\\n        3. To calculate the date range for \"last X months\", strictly follow below conditions:\\n                Consider reference month as the month in reference date.\\n                For \"last 1 month\", consider exactly one month before the reference month and set start date as first day and end date as last day of that month.\\n                For \"last X months\", where X is greater than 1, consider starting month = (reference month - X+1) and set start date as first day of starting month and end date as the reference date. (Example: if reference date is 14/09/2022, then last 3 months = 01/07/2022 - 14/09/2022)\\n        4. To calculate the date range for \"last X quarters\", strictly follow below conditions:\\n                For \"last 1 quarter\", consider exactly one quarter before the reference quarter and set start date as first day and end date as last day of that quarter .\\n                For \"last X quarter\", where X is greater than 1, consider starting quarter = (reference quarter - X+1) and set start date as first day of starting quarter and end date as the reference date.\\n        5. To calculate the date range for \"last X weeks\", strictly follow the below conditions:\\n                Consider reference week as the week in reference week.\\n                For \"last 1 week\", set start date as Monday and end date as Sunday of the previous week of reference week. (Example: if reference date is 14/09/2022, then last week = 05/09/2022 - 11/09/2022)\\n                For \"last X weeks\", set start date as Monday of reference week and set start date as the Monday of that week and end date as reference date. \\n        6. Provide the date range of each time point in \"start date - end date\" format always.\\n\\n<</SYS>>\\nUser question is : trend of filled count\\n\\nConverted JSON is as shown below: \\n[/INST]\\n[MQL]\\n[{\\'measure\\': {\\'filled count\\': {\\'FILLED_COUNT\\': {\\'label\\': \\'FILLED_COUNT\\', \\'order\\': \\'desc\\', \\'operator\\': \\'sum\\'}}}, \\'date\\': {\\'trend\\': {\\'SRD_CREATED_AT\\': {\\'label\\': \\'Shift Request Created At\\', \\'operator\\': \\'histogram\\', \\'interval\\': \\'month\\', \\'order\\': \\'asc\\'}}}, \\'query_type\\': \\'aggregation\\', \\'db_type\\': \\'activity\\', \\'type\\': \\'transaction\\', \\'weight\\': 0.7583333333333333, \\'id\\': \\'leni_633b04ad96687f0001250001_00d11073132447eb9d297edbd218c7a2_0\\', \\'trigger_forecast\\': False, \\'trend_present\\': True, \\'forecast_intent_present\\': False, \\'date_conf\\': \\'Latest Record Date\\', \\'dataset_id\\': \\'63510a96ff5d530001d2e180\\', \\'version\\': 61}]\\n[/MQL]</s>',\n",
       "  '<s>[INST]<<SYS>>\\nYou are an assistant that helps to map the user question to the a particular JSON format which contains info asked by user and also maps it the below CONTEXT. You might also need to act as a time tagger expert to convert the date elements present in the question to a standard format and to find possible date ranges for the same.\\n\\nCONTEXT:[{\\'measure\\': \\'FILLED_COUNT\\', \\'measure_label\\': \\'Filled Count\\'}, {\\'date\\': \\'AFS_SHIFT_DATE_START\\', \\'date_label\\': \\'Shift Date Start\\'}]\\n\\nStep 1: Identify the n-grams match between question and context\\n\\n        Map the n-gram or their lemma or their inflections from the question with the values in the passed context.\\n        Always consider the longest n-gram match, not the sub-string.\\n        If there are multiple matches for an n-gram with context, return all such ENTITY in response.\\n        If you are returning any match which is not exactly present with the context, make sure that it is a noun phrase and there is a high similarity between the match and the matched value in context. \\n\\n\\nStep 2: Applying time tagger rules only if time elements are present in question\\n\\n        Identify the TIME ELEMENTS in the input question and convert it to a standard format (if not already) by applying the general time tagging rules. If the TIME ELEMENT is already in a standard format, then no need to convert it.\\n        TIME ELEMENT can be either a temporal interval (across months, yoy, mom, qoq, wow, quarterly etc.) or a temporal expression (time points such as specific dates, relative expressions etc.).\\n        Calculate date range for each time points based on the following conditions:\\n        1. For relative time expressions, calculate the date range based on a reference date - By default the reference date is the end_date in date input: {\\'start_date\\': \\'01/01/2020\\', \\'end_date\\': \\'15/09/2023\\'}\\n        2. To calculate the date range for \"last X years\", strictly follow below conditions:\\n                For \"last 1 year\", consider exactly one year before the reference year and set start date as January 1 and end date as Decemebr 31 of that year.\\n                For \"last X years\", where X is greater than 1, consider starting year = (reference year - X+1) and set start date as January 1 of starting year and end date as the reference date.\\n        3. To calculate the date range for \"last X months\", strictly follow below conditions:\\n                Consider reference month as the month in reference date.\\n                For \"last 1 month\", consider exactly one month before the reference month and set start date as first day and end date as last day of that month.\\n                For \"last X months\", where X is greater than 1, consider starting month = (reference month - X+1) and set start date as first day of starting month and end date as the reference date. (Example: if reference date is 14/09/2022, then last 3 months = 01/07/2022 - 14/09/2022)\\n        4. To calculate the date range for \"last X quarters\", strictly follow below conditions:\\n                For \"last 1 quarter\", consider exactly one quarter before the reference quarter and set start date as first day and end date as last day of that quarter .\\n                For \"last X quarter\", where X is greater than 1, consider starting quarter = (reference quarter - X+1) and set start date as first day of starting quarter and end date as the reference date.\\n        5. To calculate the date range for \"last X weeks\", strictly follow the below conditions:\\n                Consider reference week as the week in reference week.\\n                For \"last 1 week\", set start date as Monday and end date as Sunday of the previous week of reference week. (Example: if reference date is 14/09/2022, then last week = 05/09/2022 - 11/09/2022)\\n                For \"last X weeks\", set start date as Monday of reference week and set start date as the Monday of that week and end date as reference date. \\n        6. Provide the date range of each time point in \"start date - end date\" format always.\\n\\n<</SYS>>\\nUser question is : trend of filled count\\n\\nConverted JSON is as shown below: \\n[/INST]\\n[MQL]\\n[{\\'measure\\': {\\'filled count\\': {\\'FILLED_COUNT\\': {\\'label\\': \\'Filled Count\\', \\'order\\': \\'desc\\', \\'operator\\': \\'sum\\'}}}, \\'date\\': {\\'trend\\': {\\'AFS_SHIFT_DATE_START\\': {\\'label\\': \\'Shift Date Start\\', \\'operator\\': \\'histogram\\', \\'interval\\': \\'month\\', \\'order\\': \\'asc\\'}}}, \\'query_type\\': \\'aggregation\\', \\'db_type\\': \\'activity\\', \\'type\\': \\'transaction\\', \\'weight\\': 0.7375, \\'id\\': \\'leni_633b04ad96687f0001250001_2f9ef7a8d2104ee88ce583252c0923d8_0\\', \\'trigger_forecast\\': False, \\'trend_present\\': True, \\'forecast_intent_present\\': False, \\'date_conf\\': \\'Latest Record Date\\', \\'dataset_id\\': \\'63510a2ec778a70001dae8de\\', \\'version\\': 61}]\\n[/MQL]</s>',\n",
       "  '<s>[INST]<<SYS>>\\nYou are an assistant that helps to map the user question to the a particular JSON format which contains info asked by user and also maps it the below CONTEXT. You might also need to act as a time tagger expert to convert the date elements present in the question to a standard format and to find possible date ranges for the same.\\n\\nCONTEXT:[{\\'measure\\': \\'FILLED_COUNT\\', \\'measure_label\\': \\'Filled Count\\'}, {\\'date\\': \\'FPP_PROVIDER_SINCE\\', \\'date_label\\': \\'Provider Since\\'}]\\n\\nStep 1: Identify the n-grams match between question and context\\n\\n        Map the n-gram or their lemma or their inflections from the question with the values in the passed context.\\n        Always consider the longest n-gram match, not the sub-string.\\n        If there are multiple matches for an n-gram with context, return all such ENTITY in response.\\n        If you are returning any match which is not exactly present with the context, make sure that it is a noun phrase and there is a high similarity between the match and the matched value in context. \\n\\n\\nStep 2: Applying time tagger rules only if time elements are present in question\\n\\n        Identify the TIME ELEMENTS in the input question and convert it to a standard format (if not already) by applying the general time tagging rules. If the TIME ELEMENT is already in a standard format, then no need to convert it.\\n        TIME ELEMENT can be either a temporal interval (across months, yoy, mom, qoq, wow, quarterly etc.) or a temporal expression (time points such as specific dates, relative expressions etc.).\\n        Calculate date range for each time points based on the following conditions:\\n        1. For relative time expressions, calculate the date range based on a reference date - By default the reference date is the end_date in date input: {\\'start_date\\': \\'01/01/2020\\', \\'end_date\\': \\'15/09/2023\\'}\\n        2. To calculate the date range for \"last X years\", strictly follow below conditions:\\n                For \"last 1 year\", consider exactly one year before the reference year and set start date as January 1 and end date as Decemebr 31 of that year.\\n                For \"last X years\", where X is greater than 1, consider starting year = (reference year - X+1) and set start date as January 1 of starting year and end date as the reference date.\\n        3. To calculate the date range for \"last X months\", strictly follow below conditions:\\n                Consider reference month as the month in reference date.\\n                For \"last 1 month\", consider exactly one month before the reference month and set start date as first day and end date as last day of that month.\\n                For \"last X months\", where X is greater than 1, consider starting month = (reference month - X+1) and set start date as first day of starting month and end date as the reference date. (Example: if reference date is 14/09/2022, then last 3 months = 01/07/2022 - 14/09/2022)\\n        4. To calculate the date range for \"last X quarters\", strictly follow below conditions:\\n                For \"last 1 quarter\", consider exactly one quarter before the reference quarter and set start date as first day and end date as last day of that quarter .\\n                For \"last X quarter\", where X is greater than 1, consider starting quarter = (reference quarter - X+1) and set start date as first day of starting quarter and end date as the reference date.\\n        5. To calculate the date range for \"last X weeks\", strictly follow the below conditions:\\n                Consider reference week as the week in reference week.\\n                For \"last 1 week\", set start date as Monday and end date as Sunday of the previous week of reference week. (Example: if reference date is 14/09/2022, then last week = 05/09/2022 - 11/09/2022)\\n                For \"last X weeks\", set start date as Monday of reference week and set start date as the Monday of that week and end date as reference date. \\n        6. Provide the date range of each time point in \"start date - end date\" format always.\\n\\n<</SYS>>\\nUser question is : trend of filled count\\n\\nConverted JSON is as shown below: \\n[/INST]\\n[MQL]\\n[{\\'measure\\': {\\'filled count\\': {\\'FILLED_COUNT\\': {\\'label\\': \\'Filled Count\\', \\'order\\': \\'desc\\', \\'operator\\': \\'sum\\'}}}, \\'date\\': {\\'trend\\': {\\'FPP_PROVIDER_SINCE\\': {\\'label\\': \\'Provider Since\\', \\'operator\\': \\'histogram\\', \\'interval\\': \\'month\\', \\'order\\': \\'asc\\'}}}, \\'query_type\\': \\'aggregation\\', \\'db_type\\': \\'activity\\', \\'type\\': \\'transaction\\', \\'weight\\': 0.8, \\'id\\': \\'leni_633b04ad96687f0001250001_506b6fc8f4cd4692b7bf969d81927fc9_0\\', \\'trigger_forecast\\': False, \\'trend_present\\': True, \\'forecast_intent_present\\': False, \\'date_conf\\': \\'Latest Record Date\\', \\'dataset_id\\': \\'636913a95537400001f02eee\\', \\'version\\': 61}]\\n[/MQL]</s>',\n",
       "  '<s>[INST]<<SYS>>\\nYou are an assistant that helps to map the user question to the a particular JSON format which contains info asked by user and also maps it the below CONTEXT. You might also need to act as a time tagger expert to convert the date elements present in the question to a standard format and to find possible date ranges for the same.\\n\\nCONTEXT:[{\\'measure\\': \\'FILLED_COUNT\\', \\'measure_label\\': \\'Filled Count\\'}, {\\'date\\': \\'FFP_CREATED_AT\\', \\'date_label\\': \\'Created At\\'}]\\n\\nStep 1: Identify the n-grams match between question and context\\n\\n        Map the n-gram or their lemma or their inflections from the question with the values in the passed context.\\n        Always consider the longest n-gram match, not the sub-string.\\n        If there are multiple matches for an n-gram with context, return all such ENTITY in response.\\n        If you are returning any match which is not exactly present with the context, make sure that it is a noun phrase and there is a high similarity between the match and the matched value in context. \\n\\n\\nStep 2: Applying time tagger rules only if time elements are present in question\\n\\n        Identify the TIME ELEMENTS in the input question and convert it to a standard format (if not already) by applying the general time tagging rules. If the TIME ELEMENT is already in a standard format, then no need to convert it.\\n        TIME ELEMENT can be either a temporal interval (across months, yoy, mom, qoq, wow, quarterly etc.) or a temporal expression (time points such as specific dates, relative expressions etc.).\\n        Calculate date range for each time points based on the following conditions:\\n        1. For relative time expressions, calculate the date range based on a reference date - By default the reference date is the end_date in date input: {\\'start_date\\': \\'01/01/2020\\', \\'end_date\\': \\'15/09/2023\\'}\\n        2. To calculate the date range for \"last X years\", strictly follow below conditions:\\n                For \"last 1 year\", consider exactly one year before the reference year and set start date as January 1 and end date as Decemebr 31 of that year.\\n                For \"last X years\", where X is greater than 1, consider starting year = (reference year - X+1) and set start date as January 1 of starting year and end date as the reference date.\\n        3. To calculate the date range for \"last X months\", strictly follow below conditions:\\n                Consider reference month as the month in reference date.\\n                For \"last 1 month\", consider exactly one month before the reference month and set start date as first day and end date as last day of that month.\\n                For \"last X months\", where X is greater than 1, consider starting month = (reference month - X+1) and set start date as first day of starting month and end date as the reference date. (Example: if reference date is 14/09/2022, then last 3 months = 01/07/2022 - 14/09/2022)\\n        4. To calculate the date range for \"last X quarters\", strictly follow below conditions:\\n                For \"last 1 quarter\", consider exactly one quarter before the reference quarter and set start date as first day and end date as last day of that quarter .\\n                For \"last X quarter\", where X is greater than 1, consider starting quarter = (reference quarter - X+1) and set start date as first day of starting quarter and end date as the reference date.\\n        5. To calculate the date range for \"last X weeks\", strictly follow the below conditions:\\n                Consider reference week as the week in reference week.\\n                For \"last 1 week\", set start date as Monday and end date as Sunday of the previous week of reference week. (Example: if reference date is 14/09/2022, then last week = 05/09/2022 - 11/09/2022)\\n                For \"last X weeks\", set start date as Monday of reference week and set start date as the Monday of that week and end date as reference date. \\n        6. Provide the date range of each time point in \"start date - end date\" format always.\\n\\n<</SYS>>\\nUser question is : trend of filled count\\n\\nConverted JSON is as shown below: \\n[/INST]\\n[MQL]\\n[{\\'measure\\': {\\'filled count\\': {\\'FILLED_COUNT\\': {\\'label\\': \\'Filled Count\\', \\'order\\': \\'desc\\', \\'operator\\': \\'sum\\'}}}, \\'date\\': {\\'trend\\': {\\'FFP_CREATED_AT\\': {\\'label\\': \\'Created At\\', \\'operator\\': \\'histogram\\', \\'interval\\': \\'month\\', \\'order\\': \\'asc\\'}}}, \\'query_type\\': \\'aggregation\\', \\'db_type\\': \\'activity\\', \\'type\\': \\'transaction\\', \\'weight\\': 0.8, \\'id\\': \\'leni_633b04ad96687f0001250001_f54be708e3264258aba44bbd30cb50eb_0\\', \\'trigger_forecast\\': False, \\'trend_present\\': True, \\'forecast_intent_present\\': False, \\'date_conf\\': \\'Latest Record Date\\', \\'dataset_id\\': \\'6369164ba992e7000164f592\\', \\'version\\': 61}]\\n[/MQL]</s>',\n",
       "  '<s>[INST]<<SYS>>\\nYou are an assistant that helps to map the user question to the a particular JSON format which contains info asked by user and also maps it the below CONTEXT. You might also need to act as a time tagger expert to convert the date elements present in the question to a standard format and to find possible date ranges for the same.\\n\\nCONTEXT:[{\\'action_derived_measure_label\\': \\'Number of Facility\\', \\'action_derived_measure\\': None}, {\\'date\\': \\'FFP_CREATED_AT\\', \\'date_label\\': \\'Created At\\'}]\\n\\nStep 1: Identify the n-grams match between question and context\\n\\n        Map the n-gram or their lemma or their inflections from the question with the values in the passed context.\\n        Always consider the longest n-gram match, not the sub-string.\\n        If there are multiple matches for an n-gram with context, return all such ENTITY in response.\\n        If you are returning any match which is not exactly present with the context, make sure that it is a noun phrase and there is a high similarity between the match and the matched value in context. \\n\\n\\nStep 2: Applying time tagger rules only if time elements are present in question\\n\\n        Identify the TIME ELEMENTS in the input question and convert it to a standard format (if not already) by applying the general time tagging rules. If the TIME ELEMENT is already in a standard format, then no need to convert it.\\n        TIME ELEMENT can be either a temporal interval (across months, yoy, mom, qoq, wow, quarterly etc.) or a temporal expression (time points such as specific dates, relative expressions etc.).\\n        Calculate date range for each time points based on the following conditions:\\n        1. For relative time expressions, calculate the date range based on a reference date - By default the reference date is the end_date in date input: {\\'start_date\\': \\'01/01/2020\\', \\'end_date\\': \\'15/09/2023\\'}\\n        2. To calculate the date range for \"last X years\", strictly follow below conditions:\\n                For \"last 1 year\", consider exactly one year before the reference year and set start date as January 1 and end date as Decemebr 31 of that year.\\n                For \"last X years\", where X is greater than 1, consider starting year = (reference year - X+1) and set start date as January 1 of starting year and end date as the reference date.\\n        3. To calculate the date range for \"last X months\", strictly follow below conditions:\\n                Consider reference month as the month in reference date.\\n                For \"last 1 month\", consider exactly one month before the reference month and set start date as first day and end date as last day of that month.\\n                For \"last X months\", where X is greater than 1, consider starting month = (reference month - X+1) and set start date as first day of starting month and end date as the reference date. (Example: if reference date is 14/09/2022, then last 3 months = 01/07/2022 - 14/09/2022)\\n        4. To calculate the date range for \"last X quarters\", strictly follow below conditions:\\n                For \"last 1 quarter\", consider exactly one quarter before the reference quarter and set start date as first day and end date as last day of that quarter .\\n                For \"last X quarter\", where X is greater than 1, consider starting quarter = (reference quarter - X+1) and set start date as first day of starting quarter and end date as the reference date.\\n        5. To calculate the date range for \"last X weeks\", strictly follow the below conditions:\\n                Consider reference week as the week in reference week.\\n                For \"last 1 week\", set start date as Monday and end date as Sunday of the previous week of reference week. (Example: if reference date is 14/09/2022, then last week = 05/09/2022 - 11/09/2022)\\n                For \"last X weeks\", set start date as Monday of reference week and set start date as the Monday of that week and end date as reference date. \\n        6. Provide the date range of each time point in \"start date - end date\" format always.\\n\\n<</SYS>>\\nUser question is : trend of number of facility\\n\\nConverted JSON is as shown below: \\n[/INST]\\n[MQL]\\n[{\\'date\\': {\\'trend\\': {\\'FFP_CREATED_AT\\': {\\'label\\': \\'Created At\\', \\'operator\\': \\'histogram\\', \\'interval\\': \\'month\\', \\'order\\': \\'asc\\'}}}, \\'action\\': {\\'derived_measure\\': {\\'number of facility\\': {\\'Number of Facility\\': {\\'label\\': \\'Number of Facility\\', \\'order\\': \\'desc\\', \\'operator\\': \\'sum\\', \\'root_variables\\': []}}}, \\'type\\': \\'derived_summarization\\', \\'start_date\\': \\'2021/01/04 00:00:00\\'}, \\'query_type\\': \\'aggregation\\', \\'db_type\\': \\'activity\\', \\'type\\': \\'transaction\\', \\'weight\\': 0.8, \\'id\\': \\'leni_633b04ad96687f0001250001_008853530a834cd69f46bcccab340a7c_0\\', \\'trigger_forecast\\': False, \\'trend_present\\': True, \\'forecast_intent_present\\': False, \\'date_conf\\': \\'Latest Record Date\\', \\'dataset_id\\': \\'6369164ba992e7000164f592\\', \\'version\\': 61}]\\n[/MQL]</s>',\n",
       "  '<s>[INST]<<SYS>>\\nYou are an assistant that helps to map the user question to the a particular JSON format which contains info asked by user and also maps it the below CONTEXT. You might also need to act as a time tagger expert to convert the date elements present in the question to a standard format and to find possible date ranges for the same.\\n\\nCONTEXT:[{\\'measure\\': \\'FFP_ALF_BEDS\\', \\'measure_label\\': \\'FFP_ALF_BEDS\\'}, {\\'date\\': \\'AFS_SHIFT_DATE_START\\', \\'date_label\\': \\'Shift Date Start\\'}]\\n\\nStep 1: Identify the n-grams match between question and context\\n\\n        Map the n-gram or their lemma or their inflections from the question with the values in the passed context.\\n        Always consider the longest n-gram match, not the sub-string.\\n        If there are multiple matches for an n-gram with context, return all such ENTITY in response.\\n        If you are returning any match which is not exactly present with the context, make sure that it is a noun phrase and there is a high similarity between the match and the matched value in context. \\n\\n\\nStep 2: Applying time tagger rules only if time elements are present in question\\n\\n        Identify the TIME ELEMENTS in the input question and convert it to a standard format (if not already) by applying the general time tagging rules. If the TIME ELEMENT is already in a standard format, then no need to convert it.\\n        TIME ELEMENT can be either a temporal interval (across months, yoy, mom, qoq, wow, quarterly etc.) or a temporal expression (time points such as specific dates, relative expressions etc.).\\n        Calculate date range for each time points based on the following conditions:\\n        1. For relative time expressions, calculate the date range based on a reference date - By default the reference date is the end_date in date input: {\\'start_date\\': \\'01/01/2020\\', \\'end_date\\': \\'15/09/2023\\'}\\n        2. To calculate the date range for \"last X years\", strictly follow below conditions:\\n                For \"last 1 year\", consider exactly one year before the reference year and set start date as January 1 and end date as Decemebr 31 of that year.\\n                For \"last X years\", where X is greater than 1, consider starting year = (reference year - X+1) and set start date as January 1 of starting year and end date as the reference date.\\n        3. To calculate the date range for \"last X months\", strictly follow below conditions:\\n                Consider reference month as the month in reference date.\\n                For \"last 1 month\", consider exactly one month before the reference month and set start date as first day and end date as last day of that month.\\n                For \"last X months\", where X is greater than 1, consider starting month = (reference month - X+1) and set start date as first day of starting month and end date as the reference date. (Example: if reference date is 14/09/2022, then last 3 months = 01/07/2022 - 14/09/2022)\\n        4. To calculate the date range for \"last X quarters\", strictly follow below conditions:\\n                For \"last 1 quarter\", consider exactly one quarter before the reference quarter and set start date as first day and end date as last day of that quarter .\\n                For \"last X quarter\", where X is greater than 1, consider starting quarter = (reference quarter - X+1) and set start date as first day of starting quarter and end date as the reference date.\\n        5. To calculate the date range for \"last X weeks\", strictly follow the below conditions:\\n                Consider reference week as the week in reference week.\\n                For \"last 1 week\", set start date as Monday and end date as Sunday of the previous week of reference week. (Example: if reference date is 14/09/2022, then last week = 05/09/2022 - 11/09/2022)\\n                For \"last X weeks\", set start date as Monday of reference week and set start date as the Monday of that week and end date as reference date. \\n        6. Provide the date range of each time point in \"start date - end date\" format always.\\n\\n<</SYS>>\\nUser question is : trend of ffp alf beds\\n\\nConverted JSON is as shown below: \\n[/INST]\\n[MQL]\\n[{\\'measure\\': {\\'ffp_alf_beds\\': {\\'FFP_ALF_BEDS\\': {\\'label\\': \\'FFP_ALF_BEDS\\', \\'order\\': \\'desc\\', \\'operator\\': \\'sum\\'}}}, \\'date\\': {\\'trend\\': {\\'AFS_SHIFT_DATE_START\\': {\\'label\\': \\'Shift Date Start\\', \\'operator\\': \\'histogram\\', \\'interval\\': \\'month\\', \\'order\\': \\'asc\\'}}}, \\'query_type\\': \\'aggregation\\', \\'db_type\\': \\'activity\\', \\'type\\': \\'transaction\\', \\'weight\\': 0.7375, \\'id\\': \\'leni_633b04ad96687f0001250001_6a028fc57fc94d3397d2a91460839ce4_0\\', \\'trigger_forecast\\': False, \\'trend_present\\': True, \\'forecast_intent_present\\': False, \\'date_conf\\': \\'Latest Record Date\\', \\'dataset_id\\': \\'63510a2ec778a70001dae8de\\', \\'version\\': 61}]\\n[/MQL]</s>',\n",
       "  '<s>[INST]<<SYS>>\\nYou are an assistant that helps to map the user question to the a particular JSON format which contains info asked by user and also maps it the below CONTEXT. You might also need to act as a time tagger expert to convert the date elements present in the question to a standard format and to find possible date ranges for the same.\\n\\nCONTEXT:[{\\'measure\\': \\'FFP_ALF_BEDS\\', \\'measure_label\\': \\'ALF Beds\\'}, {\\'date\\': \\'FFP_CREATED_AT\\', \\'date_label\\': \\'Created At\\'}]\\n\\nStep 1: Identify the n-grams match between question and context\\n\\n        Map the n-gram or their lemma or their inflections from the question with the values in the passed context.\\n        Always consider the longest n-gram match, not the sub-string.\\n        If there are multiple matches for an n-gram with context, return all such ENTITY in response.\\n        If you are returning any match which is not exactly present with the context, make sure that it is a noun phrase and there is a high similarity between the match and the matched value in context. \\n\\n\\nStep 2: Applying time tagger rules only if time elements are present in question\\n\\n        Identify the TIME ELEMENTS in the input question and convert it to a standard format (if not already) by applying the general time tagging rules. If the TIME ELEMENT is already in a standard format, then no need to convert it.\\n        TIME ELEMENT can be either a temporal interval (across months, yoy, mom, qoq, wow, quarterly etc.) or a temporal expression (time points such as specific dates, relative expressions etc.).\\n        Calculate date range for each time points based on the following conditions:\\n        1. For relative time expressions, calculate the date range based on a reference date - By default the reference date is the end_date in date input: {\\'start_date\\': \\'01/01/2020\\', \\'end_date\\': \\'15/09/2023\\'}\\n        2. To calculate the date range for \"last X years\", strictly follow below conditions:\\n                For \"last 1 year\", consider exactly one year before the reference year and set start date as January 1 and end date as Decemebr 31 of that year.\\n                For \"last X years\", where X is greater than 1, consider starting year = (reference year - X+1) and set start date as January 1 of starting year and end date as the reference date.\\n        3. To calculate the date range for \"last X months\", strictly follow below conditions:\\n                Consider reference month as the month in reference date.\\n                For \"last 1 month\", consider exactly one month before the reference month and set start date as first day and end date as last day of that month.\\n                For \"last X months\", where X is greater than 1, consider starting month = (reference month - X+1) and set start date as first day of starting month and end date as the reference date. (Example: if reference date is 14/09/2022, then last 3 months = 01/07/2022 - 14/09/2022)\\n        4. To calculate the date range for \"last X quarters\", strictly follow below conditions:\\n                For \"last 1 quarter\", consider exactly one quarter before the reference quarter and set start date as first day and end date as last day of that quarter .\\n                For \"last X quarter\", where X is greater than 1, consider starting quarter = (reference quarter - X+1) and set start date as first day of starting quarter and end date as the reference date.\\n        5. To calculate the date range for \"last X weeks\", strictly follow the below conditions:\\n                Consider reference week as the week in reference week.\\n                For \"last 1 week\", set start date as Monday and end date as Sunday of the previous week of reference week. (Example: if reference date is 14/09/2022, then last week = 05/09/2022 - 11/09/2022)\\n                For \"last X weeks\", set start date as Monday of reference week and set start date as the Monday of that week and end date as reference date. \\n        6. Provide the date range of each time point in \"start date - end date\" format always.\\n\\n<</SYS>>\\nUser question is : trend of ffp alf beds\\n\\nConverted JSON is as shown below: \\n[/INST]\\n[MQL]\\n[{\\'measure\\': {\\'ffp_alf_beds\\': {\\'FFP_ALF_BEDS\\': {\\'label\\': \\'ALF Beds\\', \\'order\\': \\'desc\\', \\'operator\\': \\'sum\\'}}}, \\'date\\': {\\'trend\\': {\\'FFP_CREATED_AT\\': {\\'label\\': \\'Created At\\', \\'operator\\': \\'histogram\\', \\'interval\\': \\'month\\', \\'order\\': \\'asc\\'}}}, \\'query_type\\': \\'aggregation\\', \\'db_type\\': \\'activity\\', \\'type\\': \\'transaction\\', \\'weight\\': 0.8, \\'id\\': \\'leni_633b04ad96687f0001250001_9b5ed29a7ab84838a77fbba43408443f_0\\', \\'trigger_forecast\\': False, \\'trend_present\\': True, \\'forecast_intent_present\\': False, \\'date_conf\\': \\'Latest Record Date\\', \\'dataset_id\\': \\'6369164ba992e7000164f592\\', \\'version\\': 61}]\\n[/MQL]</s>',\n",
       "  '<s>[INST]<<SYS>>\\nYou are an assistant that helps to map the user question to the a particular JSON format which contains info asked by user and also maps it the below CONTEXT. You might also need to act as a time tagger expert to convert the date elements present in the question to a standard format and to find possible date ranges for the same.\\n\\nCONTEXT:[{\\'measure\\': \\'FFP_ALF_BEDS\\', \\'measure_label\\': \\'ALF Beds\\'}, {\\'date\\': \\'FFP_CREATED_AT\\', \\'date_label\\': \\'Created At\\'}]\\n\\nStep 1: Identify the n-grams match between question and context\\n\\n        Map the n-gram or their lemma or their inflections from the question with the values in the passed context.\\n        Always consider the longest n-gram match, not the sub-string.\\n        If there are multiple matches for an n-gram with context, return all such ENTITY in response.\\n        If you are returning any match which is not exactly present with the context, make sure that it is a noun phrase and there is a high similarity between the match and the matched value in context. \\n\\n\\nStep 2: Applying time tagger rules only if time elements are present in question\\n\\n        Identify the TIME ELEMENTS in the input question and convert it to a standard format (if not already) by applying the general time tagging rules. If the TIME ELEMENT is already in a standard format, then no need to convert it.\\n        TIME ELEMENT can be either a temporal interval (across months, yoy, mom, qoq, wow, quarterly etc.) or a temporal expression (time points such as specific dates, relative expressions etc.).\\n        Calculate date range for each time points based on the following conditions:\\n        1. For relative time expressions, calculate the date range based on a reference date - By default the reference date is the end_date in date input: {\\'start_date\\': \\'01/01/2020\\', \\'end_date\\': \\'15/09/2023\\'}\\n        2. To calculate the date range for \"last X years\", strictly follow below conditions:\\n                For \"last 1 year\", consider exactly one year before the reference year and set start date as January 1 and end date as Decemebr 31 of that year.\\n                For \"last X years\", where X is greater than 1, consider starting year = (reference year - X+1) and set start date as January 1 of starting year and end date as the reference date.\\n        3. To calculate the date range for \"last X months\", strictly follow below conditions:\\n                Consider reference month as the month in reference date.\\n                For \"last 1 month\", consider exactly one month before the reference month and set start date as first day and end date as last day of that month.\\n                For \"last X months\", where X is greater than 1, consider starting month = (reference month - X+1) and set start date as first day of starting month and end date as the reference date. (Example: if reference date is 14/09/2022, then last 3 months = 01/07/2022 - 14/09/2022)\\n        4. To calculate the date range for \"last X quarters\", strictly follow below conditions:\\n                For \"last 1 quarter\", consider exactly one quarter before the reference quarter and set start date as first day and end date as last day of that quarter .\\n                For \"last X quarter\", where X is greater than 1, consider starting quarter = (reference quarter - X+1) and set start date as first day of starting quarter and end date as the reference date.\\n        5. To calculate the date range for \"last X weeks\", strictly follow the below conditions:\\n                Consider reference week as the week in reference week.\\n                For \"last 1 week\", set start date as Monday and end date as Sunday of the previous week of reference week. (Example: if reference date is 14/09/2022, then last week = 05/09/2022 - 11/09/2022)\\n                For \"last X weeks\", set start date as Monday of reference week and set start date as the Monday of that week and end date as reference date. \\n        6. Provide the date range of each time point in \"start date - end date\" format always.\\n\\n<</SYS>>\\nUser question is : trend of alf beds\\n\\nConverted JSON is as shown below: \\n[/INST]\\n[MQL]\\n[{\\'measure\\': {\\'alf beds\\': {\\'FFP_ALF_BEDS\\': {\\'label\\': \\'ALF Beds\\', \\'order\\': \\'desc\\', \\'operator\\': \\'sum\\'}}}, \\'date\\': {\\'trend\\': {\\'FFP_CREATED_AT\\': {\\'label\\': \\'Created At\\', \\'operator\\': \\'histogram\\', \\'interval\\': \\'month\\', \\'order\\': \\'asc\\'}}}, \\'query_type\\': \\'aggregation\\', \\'db_type\\': \\'activity\\', \\'type\\': \\'transaction\\', \\'weight\\': 0.8, \\'id\\': \\'leni_633b04ad96687f0001250001_db4966b396d345da91a188d61deff6a4_0\\', \\'trigger_forecast\\': False, \\'trend_present\\': True, \\'forecast_intent_present\\': False, \\'date_conf\\': \\'Latest Record Date\\', \\'dataset_id\\': \\'6369164ba992e7000164f592\\', \\'version\\': 61}]\\n[/MQL]</s>',\n",
       "  '<s>[INST]<<SYS>>\\nYou are an assistant that helps to map the user question to the a particular JSON format which contains info asked by user and also maps it the below CONTEXT. You might also need to act as a time tagger expert to convert the date elements present in the question to a standard format and to find possible date ranges for the same.\\n\\nCONTEXT:[{\\'action_derived_measure_label\\': \\'Number of onboard completions\\', \\'action_derived_measure\\': None}, {\\'date\\': \\'FOP_COMPLETED_ON\\', \\'date_label\\': \\'Completed On\\'}]\\n\\nStep 1: Identify the n-grams match between question and context\\n\\n        Map the n-gram or their lemma or their inflections from the question with the values in the passed context.\\n        Always consider the longest n-gram match, not the sub-string.\\n        If there are multiple matches for an n-gram with context, return all such ENTITY in response.\\n        If you are returning any match which is not exactly present with the context, make sure that it is a noun phrase and there is a high similarity between the match and the matched value in context. \\n\\n\\nStep 2: Applying time tagger rules only if time elements are present in question\\n\\n        Identify the TIME ELEMENTS in the input question and convert it to a standard format (if not already) by applying the general time tagging rules. If the TIME ELEMENT is already in a standard format, then no need to convert it.\\n        TIME ELEMENT can be either a temporal interval (across months, yoy, mom, qoq, wow, quarterly etc.) or a temporal expression (time points such as specific dates, relative expressions etc.).\\n        Calculate date range for each time points based on the following conditions:\\n        1. For relative time expressions, calculate the date range based on a reference date - By default the reference date is the end_date in date input: {\\'start_date\\': \\'01/01/2020\\', \\'end_date\\': \\'15/09/2023\\'}\\n        2. To calculate the date range for \"last X years\", strictly follow below conditions:\\n                For \"last 1 year\", consider exactly one year before the reference year and set start date as January 1 and end date as Decemebr 31 of that year.\\n                For \"last X years\", where X is greater than 1, consider starting year = (reference year - X+1) and set start date as January 1 of starting year and end date as the reference date.\\n        3. To calculate the date range for \"last X months\", strictly follow below conditions:\\n                Consider reference month as the month in reference date.\\n                For \"last 1 month\", consider exactly one month before the reference month and set start date as first day and end date as last day of that month.\\n                For \"last X months\", where X is greater than 1, consider starting month = (reference month - X+1) and set start date as first day of starting month and end date as the reference date. (Example: if reference date is 14/09/2022, then last 3 months = 01/07/2022 - 14/09/2022)\\n        4. To calculate the date range for \"last X quarters\", strictly follow below conditions:\\n                For \"last 1 quarter\", consider exactly one quarter before the reference quarter and set start date as first day and end date as last day of that quarter .\\n                For \"last X quarter\", where X is greater than 1, consider starting quarter = (reference quarter - X+1) and set start date as first day of starting quarter and end date as the reference date.\\n        5. To calculate the date range for \"last X weeks\", strictly follow the below conditions:\\n                Consider reference week as the week in reference week.\\n                For \"last 1 week\", set start date as Monday and end date as Sunday of the previous week of reference week. (Example: if reference date is 14/09/2022, then last week = 05/09/2022 - 11/09/2022)\\n                For \"last X weeks\", set start date as Monday of reference week and set start date as the Monday of that week and end date as reference date. \\n        6. Provide the date range of each time point in \"start date - end date\" format always.\\n\\n<</SYS>>\\nUser question is : number of onboard completion\\n\\nConverted JSON is as shown below: \\n[/INST]\\n[MQL]\\n[{\\'action\\': {\\'derived_measure\\': {\\'onboard completion\\': {\\'Number of onboard completions\\': {\\'label\\': \\'Number of onboard completions\\', \\'order\\': \\'desc\\', \\'operator\\': \\'sum\\', \\'root_variables\\': []}}}, \\'type\\': \\'derived_summarization\\', \\'start_date\\': \\'2021/01/01 00:00:00\\'}, \\'query_type\\': \\'aggregation\\', \\'db_type\\': \\'activity\\', \\'type\\': \\'transaction\\', \\'weight\\': 0.8666666666666667, \\'id\\': \\'leni_633b04ad96687f0001250001_91a8d22750b24c028baa085fee967d41_0\\', \\'trigger_forecast\\': True, \\'date\\': {\\'default time\\': {\\'FOP_COMPLETED_ON\\': {\\'label\\': \\'Completed On\\', \\'order\\': \\'asc\\', \\'interval\\': \\'month\\', \\'operator\\': \\'histogram\\'}}}, \\'filter\\': {\\'and\\': {\\'range\\': {\\'default time\\': [{\\'gte\\': \\'2022/11/01 00:00:00\\', \\'lte\\': \\'2022/11/13 23:59:59\\'}]}}}, \\'trend_present\\': False, \\'forecast_intent_present\\': False, \\'date_conf\\': \\'Latest Record Date\\', \\'dataset_id\\': \\'63510cd3c778a70001dae97a\\', \\'version\\': 61}]\\n[/MQL]</s>',\n",
       "  '<s>[INST]<<SYS>>\\nYou are an assistant that helps to map the user question to the a particular JSON format which contains info asked by user and also maps it the below CONTEXT. You might also need to act as a time tagger expert to convert the date elements present in the question to a standard format and to find possible date ranges for the same.\\n\\nCONTEXT:[{\\'action_derived_measure_label\\': \\'Number of onboard completions\\', \\'action_derived_measure\\': None}, {\\'date\\': \\'FOP_COMPLETED_ON\\', \\'date_label\\': \\'Completed On\\'}]\\n\\nStep 1: Identify the n-grams match between question and context\\n\\n        Map the n-gram or their lemma or their inflections from the question with the values in the passed context.\\n        Always consider the longest n-gram match, not the sub-string.\\n        If there are multiple matches for an n-gram with context, return all such ENTITY in response.\\n        If you are returning any match which is not exactly present with the context, make sure that it is a noun phrase and there is a high similarity between the match and the matched value in context. \\n\\n\\nStep 2: Applying time tagger rules only if time elements are present in question\\n\\n        Identify the TIME ELEMENTS in the input question and convert it to a standard format (if not already) by applying the general time tagging rules. If the TIME ELEMENT is already in a standard format, then no need to convert it.\\n        TIME ELEMENT can be either a temporal interval (across months, yoy, mom, qoq, wow, quarterly etc.) or a temporal expression (time points such as specific dates, relative expressions etc.).\\n        Calculate date range for each time points based on the following conditions:\\n        1. For relative time expressions, calculate the date range based on a reference date - By default the reference date is the end_date in date input: {\\'start_date\\': \\'01/01/2020\\', \\'end_date\\': \\'15/09/2023\\'}\\n        2. To calculate the date range for \"last X years\", strictly follow below conditions:\\n                For \"last 1 year\", consider exactly one year before the reference year and set start date as January 1 and end date as Decemebr 31 of that year.\\n                For \"last X years\", where X is greater than 1, consider starting year = (reference year - X+1) and set start date as January 1 of starting year and end date as the reference date.\\n        3. To calculate the date range for \"last X months\", strictly follow below conditions:\\n                Consider reference month as the month in reference date.\\n                For \"last 1 month\", consider exactly one month before the reference month and set start date as first day and end date as last day of that month.\\n                For \"last X months\", where X is greater than 1, consider starting month = (reference month - X+1) and set start date as first day of starting month and end date as the reference date. (Example: if reference date is 14/09/2022, then last 3 months = 01/07/2022 - 14/09/2022)\\n        4. To calculate the date range for \"last X quarters\", strictly follow below conditions:\\n                For \"last 1 quarter\", consider exactly one quarter before the reference quarter and set start date as first day and end date as last day of that quarter .\\n                For \"last X quarter\", where X is greater than 1, consider starting quarter = (reference quarter - X+1) and set start date as first day of starting quarter and end date as the reference date.\\n        5. To calculate the date range for \"last X weeks\", strictly follow the below conditions:\\n                Consider reference week as the week in reference week.\\n                For \"last 1 week\", set start date as Monday and end date as Sunday of the previous week of reference week. (Example: if reference date is 14/09/2022, then last week = 05/09/2022 - 11/09/2022)\\n                For \"last X weeks\", set start date as Monday of reference week and set start date as the Monday of that week and end date as reference date. \\n        6. Provide the date range of each time point in \"start date - end date\" format always.\\n\\n<</SYS>>\\nUser question is : trend of onboard completions\\n\\nConverted JSON is as shown below: \\n[/INST]\\n[MQL]\\n[{\\'date\\': {\\'trend\\': {\\'FOP_COMPLETED_ON\\': {\\'label\\': \\'Completed On\\', \\'operator\\': \\'histogram\\', \\'interval\\': \\'month\\', \\'order\\': \\'asc\\'}}}, \\'action\\': {\\'derived_measure\\': {\\'onboard completions\\': {\\'Number of onboard completions\\': {\\'label\\': \\'Number of onboard completions\\', \\'order\\': \\'desc\\', \\'operator\\': \\'sum\\', \\'root_variables\\': []}}}, \\'type\\': \\'derived_summarization\\', \\'start_date\\': \\'2021/01/01 00:00:00\\'}, \\'query_type\\': \\'aggregation\\', \\'db_type\\': \\'activity\\', \\'type\\': \\'transaction\\', \\'weight\\': 0.8, \\'id\\': \\'leni_633b04ad96687f0001250001_9e08944204a44261b59819cde72ad191_0\\', \\'trigger_forecast\\': False, \\'trend_present\\': True, \\'forecast_intent_present\\': False, \\'date_conf\\': \\'Latest Record Date\\', \\'dataset_id\\': \\'63510cd3c778a70001dae97a\\', \\'version\\': 61}]\\n[/MQL]</s>',\n",
       "  '<s>[INST]<<SYS>>\\nYou are an assistant that helps to map the user question to the a particular JSON format which contains info asked by user and also maps it the below CONTEXT. You might also need to act as a time tagger expert to convert the date elements present in the question to a standard format and to find possible date ranges for the same.\\n\\nCONTEXT:[{\\'action_derived_measure_label\\': \\'Number of onboard completions\\', \\'action_derived_measure\\': None}, {\\'date\\': \\'FOP_COMPLETED_ON\\', \\'date_label\\': \\'Completed On\\'}]\\n\\nStep 1: Identify the n-grams match between question and context\\n\\n        Map the n-gram or their lemma or their inflections from the question with the values in the passed context.\\n        Always consider the longest n-gram match, not the sub-string.\\n        If there are multiple matches for an n-gram with context, return all such ENTITY in response.\\n        If you are returning any match which is not exactly present with the context, make sure that it is a noun phrase and there is a high similarity between the match and the matched value in context. \\n\\n\\nStep 2: Applying time tagger rules only if time elements are present in question\\n\\n        Identify the TIME ELEMENTS in the input question and convert it to a standard format (if not already) by applying the general time tagging rules. If the TIME ELEMENT is already in a standard format, then no need to convert it.\\n        TIME ELEMENT can be either a temporal interval (across months, yoy, mom, qoq, wow, quarterly etc.) or a temporal expression (time points such as specific dates, relative expressions etc.).\\n        Calculate date range for each time points based on the following conditions:\\n        1. For relative time expressions, calculate the date range based on a reference date - By default the reference date is the end_date in date input: {\\'start_date\\': \\'01/01/2020\\', \\'end_date\\': \\'15/09/2023\\'}\\n        2. To calculate the date range for \"last X years\", strictly follow below conditions:\\n                For \"last 1 year\", consider exactly one year before the reference year and set start date as January 1 and end date as Decemebr 31 of that year.\\n                For \"last X years\", where X is greater than 1, consider starting year = (reference year - X+1) and set start date as January 1 of starting year and end date as the reference date.\\n        3. To calculate the date range for \"last X months\", strictly follow below conditions:\\n                Consider reference month as the month in reference date.\\n                For \"last 1 month\", consider exactly one month before the reference month and set start date as first day and end date as last day of that month.\\n                For \"last X months\", where X is greater than 1, consider starting month = (reference month - X+1) and set start date as first day of starting month and end date as the reference date. (Example: if reference date is 14/09/2022, then last 3 months = 01/07/2022 - 14/09/2022)\\n        4. To calculate the date range for \"last X quarters\", strictly follow below conditions:\\n                For \"last 1 quarter\", consider exactly one quarter before the reference quarter and set start date as first day and end date as last day of that quarter .\\n                For \"last X quarter\", where X is greater than 1, consider starting quarter = (reference quarter - X+1) and set start date as first day of starting quarter and end date as the reference date.\\n        5. To calculate the date range for \"last X weeks\", strictly follow the below conditions:\\n                Consider reference week as the week in reference week.\\n                For \"last 1 week\", set start date as Monday and end date as Sunday of the previous week of reference week. (Example: if reference date is 14/09/2022, then last week = 05/09/2022 - 11/09/2022)\\n                For \"last X weeks\", set start date as Monday of reference week and set start date as the Monday of that week and end date as reference date. \\n        6. Provide the date range of each time point in \"start date - end date\" format always.\\n\\n<</SYS>>\\nUser question is : trend of number of onboard completions in 2022\\n\\nConverted JSON is as shown below: \\n[/INST]\\n[MQL]\\n[{\\'date\\': {\\'2022\\': {\\'FOP_COMPLETED_ON\\': {\\'label\\': \\'Completed On\\', \\'order\\': \\'asc\\', \\'operator\\': \\'histogram\\', \\'interval\\': \\'month\\'}}}, \\'action\\': {\\'derived_measure\\': {\\'number of onboard completions\\': {\\'Number of onboard completions\\': {\\'label\\': \\'Number of onboard completions\\', \\'order\\': \\'desc\\', \\'operator\\': \\'sum\\', \\'root_variables\\': []}}}, \\'type\\': \\'derived_summarization\\', \\'start_date\\': \\'2021/01/01 00:00:00\\'}, \\'filter\\': {\\'and\\': {\\'range\\': {\\'2022\\': [{\\'gte\\': \\'2022/01/01 00:00:00\\', \\'lte\\': \\'2022/11/13 23:59:59\\'}]}}}, \\'query_type\\': \\'aggregation\\', \\'db_type\\': \\'activity\\', \\'type\\': \\'transaction\\', \\'weight\\': 0.7133333333333333, \\'id\\': \\'leni_633b04ad96687f0001250001_4208231ab3ab4d98b159e29cef6de28b_0\\', \\'trigger_forecast\\': True, \\'trend_present\\': True, \\'forecast_intent_present\\': False, \\'date_conf\\': \\'Latest Record Date\\', \\'dataset_id\\': \\'63510cd3c778a70001dae97a\\', \\'version\\': 61}]\\n[/MQL]</s>',\n",
       "  '<s>[INST]<<SYS>>\\nYou are an assistant that helps to map the user question to the a particular JSON format which contains info asked by user and also maps it the below CONTEXT. You might also need to act as a time tagger expert to convert the date elements present in the question to a standard format and to find possible date ranges for the same.\\n\\nCONTEXT:[{\\'date\\': \\'FOP_COMPLETED_ON\\', \\'date_label\\': \\'Completed On\\'}]\\n\\nStep 1: Identify the n-grams match between question and context\\n\\n        Map the n-gram or their lemma or their inflections from the question with the values in the passed context.\\n        Always consider the longest n-gram match, not the sub-string.\\n        If there are multiple matches for an n-gram with context, return all such ENTITY in response.\\n        If you are returning any match which is not exactly present with the context, make sure that it is a noun phrase and there is a high similarity between the match and the matched value in context. \\n\\n\\nStep 2: Applying time tagger rules only if time elements are present in question\\n\\n        Identify the TIME ELEMENTS in the input question and convert it to a standard format (if not already) by applying the general time tagging rules. If the TIME ELEMENT is already in a standard format, then no need to convert it.\\n        TIME ELEMENT can be either a temporal interval (across months, yoy, mom, qoq, wow, quarterly etc.) or a temporal expression (time points such as specific dates, relative expressions etc.).\\n        Calculate date range for each time points based on the following conditions:\\n        1. For relative time expressions, calculate the date range based on a reference date - By default the reference date is the end_date in date input: {\\'start_date\\': \\'01/01/2020\\', \\'end_date\\': \\'15/09/2023\\'}\\n        2. To calculate the date range for \"last X years\", strictly follow below conditions:\\n                For \"last 1 year\", consider exactly one year before the reference year and set start date as January 1 and end date as Decemebr 31 of that year.\\n                For \"last X years\", where X is greater than 1, consider starting year = (reference year - X+1) and set start date as January 1 of starting year and end date as the reference date.\\n        3. To calculate the date range for \"last X months\", strictly follow below conditions:\\n                Consider reference month as the month in reference date.\\n                For \"last 1 month\", consider exactly one month before the reference month and set start date as first day and end date as last day of that month.\\n                For \"last X months\", where X is greater than 1, consider starting month = (reference month - X+1) and set start date as first day of starting month and end date as the reference date. (Example: if reference date is 14/09/2022, then last 3 months = 01/07/2022 - 14/09/2022)\\n        4. To calculate the date range for \"last X quarters\", strictly follow below conditions:\\n                For \"last 1 quarter\", consider exactly one quarter before the reference quarter and set start date as first day and end date as last day of that quarter .\\n                For \"last X quarter\", where X is greater than 1, consider starting quarter = (reference quarter - X+1) and set start date as first day of starting quarter and end date as the reference date.\\n        5. To calculate the date range for \"last X weeks\", strictly follow the below conditions:\\n                Consider reference week as the week in reference week.\\n                For \"last 1 week\", set start date as Monday and end date as Sunday of the previous week of reference week. (Example: if reference date is 14/09/2022, then last week = 05/09/2022 - 11/09/2022)\\n                For \"last X weeks\", set start date as Monday of reference week and set start date as the Monday of that week and end date as reference date. \\n        6. Provide the date range of each time point in \"start date - end date\" format always.\\n\\n<</SYS>>\\nUser question is : trend of alf beds\\n\\nConverted JSON is as shown below: \\n[/INST]\\n[MQL]\\n[{\\'date\\': {\\'trend\\': {\\'FOP_COMPLETED_ON\\': {\\'label\\': \\'Completed On\\', \\'operator\\': \\'histogram\\', \\'interval\\': \\'month\\', \\'order\\': \\'asc\\'}}}, \\'query_type\\': \\'aggregation\\', \\'db_type\\': \\'activity\\', \\'type\\': \\'transaction\\', \\'weight\\': 0.8666666666666667, \\'id\\': \\'leni_633b04ad96687f0001250001_204ef25216d645e09e62de51bf23e71d_0\\', \\'trigger_forecast\\': False, \\'trend_present\\': True, \\'forecast_intent_present\\': False, \\'date_conf\\': \\'System Date\\', \\'dataset_id\\': \\'63510cd3c778a70001dae97a\\', \\'version\\': 63}]\\n[/MQL]</s>',\n",
       "  '<s>[INST]<<SYS>>\\nYou are an assistant that helps to map the user question to the a particular JSON format which contains info asked by user and also maps it the below CONTEXT. You might also need to act as a time tagger expert to convert the date elements present in the question to a standard format and to find possible date ranges for the same.\\n\\nCONTEXT:[{\\'date\\': \\'FOP_COMPLETED_ON\\', \\'date_label\\': \\'Completed On\\'}]\\n\\nStep 1: Identify the n-grams match between question and context\\n\\n        Map the n-gram or their lemma or their inflections from the question with the values in the passed context.\\n        Always consider the longest n-gram match, not the sub-string.\\n        If there are multiple matches for an n-gram with context, return all such ENTITY in response.\\n        If you are returning any match which is not exactly present with the context, make sure that it is a noun phrase and there is a high similarity between the match and the matched value in context. \\n\\n\\nStep 2: Applying time tagger rules only if time elements are present in question\\n\\n        Identify the TIME ELEMENTS in the input question and convert it to a standard format (if not already) by applying the general time tagging rules. If the TIME ELEMENT is already in a standard format, then no need to convert it.\\n        TIME ELEMENT can be either a temporal interval (across months, yoy, mom, qoq, wow, quarterly etc.) or a temporal expression (time points such as specific dates, relative expressions etc.).\\n        Calculate date range for each time points based on the following conditions:\\n        1. For relative time expressions, calculate the date range based on a reference date - By default the reference date is the end_date in date input: {\\'start_date\\': \\'01/01/2020\\', \\'end_date\\': \\'15/09/2023\\'}\\n        2. To calculate the date range for \"last X years\", strictly follow below conditions:\\n                For \"last 1 year\", consider exactly one year before the reference year and set start date as January 1 and end date as Decemebr 31 of that year.\\n                For \"last X years\", where X is greater than 1, consider starting year = (reference year - X+1) and set start date as January 1 of starting year and end date as the reference date.\\n        3. To calculate the date range for \"last X months\", strictly follow below conditions:\\n                Consider reference month as the month in reference date.\\n                For \"last 1 month\", consider exactly one month before the reference month and set start date as first day and end date as last day of that month.\\n                For \"last X months\", where X is greater than 1, consider starting month = (reference month - X+1) and set start date as first day of starting month and end date as the reference date. (Example: if reference date is 14/09/2022, then last 3 months = 01/07/2022 - 14/09/2022)\\n        4. To calculate the date range for \"last X quarters\", strictly follow below conditions:\\n                For \"last 1 quarter\", consider exactly one quarter before the reference quarter and set start date as first day and end date as last day of that quarter .\\n                For \"last X quarter\", where X is greater than 1, consider starting quarter = (reference quarter - X+1) and set start date as first day of starting quarter and end date as the reference date.\\n        5. To calculate the date range for \"last X weeks\", strictly follow the below conditions:\\n                Consider reference week as the week in reference week.\\n                For \"last 1 week\", set start date as Monday and end date as Sunday of the previous week of reference week. (Example: if reference date is 14/09/2022, then last week = 05/09/2022 - 11/09/2022)\\n                For \"last X weeks\", set start date as Monday of reference week and set start date as the Monday of that week and end date as reference date. \\n        6. Provide the date range of each time point in \"start date - end date\" format always.\\n\\n<</SYS>>\\nUser question is : trend of number of facility\\n\\nConverted JSON is as shown below: \\n[/INST]\\n[MQL]\\n[{\\'date\\': {\\'trend\\': {\\'FOP_COMPLETED_ON\\': {\\'label\\': \\'Completed On\\', \\'operator\\': \\'histogram\\', \\'interval\\': \\'month\\', \\'order\\': \\'asc\\'}}}, \\'query_type\\': \\'aggregation\\', \\'db_type\\': \\'activity\\', \\'type\\': \\'transaction\\', \\'weight\\': 0.8666666666666667, \\'id\\': \\'leni_633b04ad96687f0001250001_953fad3ecc1744f9921f2ca6a8d77961_0\\', \\'trigger_forecast\\': False, \\'trend_present\\': True, \\'forecast_intent_present\\': False, \\'date_conf\\': \\'System Date\\', \\'dataset_id\\': \\'63510cd3c778a70001dae97a\\', \\'version\\': 63}]\\n[/MQL]</s>',\n",
       "  '<s>[INST]<<SYS>>\\nYou are an assistant that helps to map the user question to the a particular JSON format which contains info asked by user and also maps it the below CONTEXT. You might also need to act as a time tagger expert to convert the date elements present in the question to a standard format and to find possible date ranges for the same.\\n\\nCONTEXT:[{\\'action_derived_measure_label\\': \\'Number of Providers\\', \\'action_derived_measure\\': None}, {\\'date\\': \\'FPP_PROVIDER_SINCE\\', \\'date_label\\': \\'Provider Since\\'}]\\n\\nStep 1: Identify the n-grams match between question and context\\n\\n        Map the n-gram or their lemma or their inflections from the question with the values in the passed context.\\n        Always consider the longest n-gram match, not the sub-string.\\n        If there are multiple matches for an n-gram with context, return all such ENTITY in response.\\n        If you are returning any match which is not exactly present with the context, make sure that it is a noun phrase and there is a high similarity between the match and the matched value in context. \\n\\n\\nStep 2: Applying time tagger rules only if time elements are present in question\\n\\n        Identify the TIME ELEMENTS in the input question and convert it to a standard format (if not already) by applying the general time tagging rules. If the TIME ELEMENT is already in a standard format, then no need to convert it.\\n        TIME ELEMENT can be either a temporal interval (across months, yoy, mom, qoq, wow, quarterly etc.) or a temporal expression (time points such as specific dates, relative expressions etc.).\\n        Calculate date range for each time points based on the following conditions:\\n        1. For relative time expressions, calculate the date range based on a reference date - By default the reference date is the end_date in date input: {\\'start_date\\': \\'01/01/2020\\', \\'end_date\\': \\'15/09/2023\\'}\\n        2. To calculate the date range for \"last X years\", strictly follow below conditions:\\n                For \"last 1 year\", consider exactly one year before the reference year and set start date as January 1 and end date as Decemebr 31 of that year.\\n                For \"last X years\", where X is greater than 1, consider starting year = (reference year - X+1) and set start date as January 1 of starting year and end date as the reference date.\\n        3. To calculate the date range for \"last X months\", strictly follow below conditions:\\n                Consider reference month as the month in reference date.\\n                For \"last 1 month\", consider exactly one month before the reference month and set start date as first day and end date as last day of that month.\\n                For \"last X months\", where X is greater than 1, consider starting month = (reference month - X+1) and set start date as first day of starting month and end date as the reference date. (Example: if reference date is 14/09/2022, then last 3 months = 01/07/2022 - 14/09/2022)\\n        4. To calculate the date range for \"last X quarters\", strictly follow below conditions:\\n                For \"last 1 quarter\", consider exactly one quarter before the reference quarter and set start date as first day and end date as last day of that quarter .\\n                For \"last X quarter\", where X is greater than 1, consider starting quarter = (reference quarter - X+1) and set start date as first day of starting quarter and end date as the reference date.\\n        5. To calculate the date range for \"last X weeks\", strictly follow the below conditions:\\n                Consider reference week as the week in reference week.\\n                For \"last 1 week\", set start date as Monday and end date as Sunday of the previous week of reference week. (Example: if reference date is 14/09/2022, then last week = 05/09/2022 - 11/09/2022)\\n                For \"last X weeks\", set start date as Monday of reference week and set start date as the Monday of that week and end date as reference date. \\n        6. Provide the date range of each time point in \"start date - end date\" format always.\\n\\n<</SYS>>\\nUser question is : number of providers\\n\\nConverted JSON is as shown below: \\n[/INST]\\n[MQL]\\n[{\\'action\\': {\\'derived_measure\\': {\\'number of providers\\': {\\'Number of Providers\\': {\\'label\\': \\'Number of Providers\\', \\'order\\': \\'desc\\', \\'operator\\': \\'sum\\', \\'root_variables\\': []}}}, \\'type\\': \\'derived_summarization\\', \\'start_date\\': \\'2021/01/01 00:00:00\\'}, \\'query_type\\': \\'aggregation\\', \\'db_type\\': \\'activity\\', \\'type\\': \\'transaction\\', \\'weight\\': 0.8666666666666667, \\'id\\': \\'leni_633b04ad96687f0001250001_4dc64bee11284f80a5cc5503ade07f80_0\\', \\'trigger_forecast\\': True, \\'date\\': {\\'default time\\': {\\'FPP_PROVIDER_SINCE\\': {\\'label\\': \\'Provider Since\\', \\'order\\': \\'asc\\', \\'interval\\': \\'month\\', \\'operator\\': \\'histogram\\'}}}, \\'filter\\': {\\'and\\': {\\'range\\': {\\'default time\\': [{\\'gte\\': \\'2022/11/01 00:00:00\\', \\'lte\\': \\'2022/11/13 23:59:59\\'}]}}}, \\'trend_present\\': False, \\'forecast_intent_present\\': False, \\'date_conf\\': \\'Latest Record Date\\', \\'dataset_id\\': \\'636913a95537400001f02eee\\', \\'version\\': 61}]\\n[/MQL]</s>',\n",
       "  '<s>[INST]<<SYS>>\\nYou are an assistant that helps to map the user question to the a particular JSON format which contains info asked by user and also maps it the below CONTEXT. You might also need to act as a time tagger expert to convert the date elements present in the question to a standard format and to find possible date ranges for the same.\\n\\nCONTEXT:[{\\'action_derived_measure_label\\': \\'Number of onboard completions\\', \\'action_derived_measure\\': None}, {\\'date\\': \\'FOP_COMPLETED_ON\\', \\'date_label\\': \\'Completed On\\'}]\\n\\nStep 1: Identify the n-grams match between question and context\\n\\n        Map the n-gram or their lemma or their inflections from the question with the values in the passed context.\\n        Always consider the longest n-gram match, not the sub-string.\\n        If there are multiple matches for an n-gram with context, return all such ENTITY in response.\\n        If you are returning any match which is not exactly present with the context, make sure that it is a noun phrase and there is a high similarity between the match and the matched value in context. \\n\\n\\nStep 2: Applying time tagger rules only if time elements are present in question\\n\\n        Identify the TIME ELEMENTS in the input question and convert it to a standard format (if not already) by applying the general time tagging rules. If the TIME ELEMENT is already in a standard format, then no need to convert it.\\n        TIME ELEMENT can be either a temporal interval (across months, yoy, mom, qoq, wow, quarterly etc.) or a temporal expression (time points such as specific dates, relative expressions etc.).\\n        Calculate date range for each time points based on the following conditions:\\n        1. For relative time expressions, calculate the date range based on a reference date - By default the reference date is the end_date in date input: {\\'start_date\\': \\'01/01/2020\\', \\'end_date\\': \\'15/09/2023\\'}\\n        2. To calculate the date range for \"last X years\", strictly follow below conditions:\\n                For \"last 1 year\", consider exactly one year before the reference year and set start date as January 1 and end date as Decemebr 31 of that year.\\n                For \"last X years\", where X is greater than 1, consider starting year = (reference year - X+1) and set start date as January 1 of starting year and end date as the reference date.\\n        3. To calculate the date range for \"last X months\", strictly follow below conditions:\\n                Consider reference month as the month in reference date.\\n                For \"last 1 month\", consider exactly one month before the reference month and set start date as first day and end date as last day of that month.\\n                For \"last X months\", where X is greater than 1, consider starting month = (reference month - X+1) and set start date as first day of starting month and end date as the reference date. (Example: if reference date is 14/09/2022, then last 3 months = 01/07/2022 - 14/09/2022)\\n        4. To calculate the date range for \"last X quarters\", strictly follow below conditions:\\n                For \"last 1 quarter\", consider exactly one quarter before the reference quarter and set start date as first day and end date as last day of that quarter .\\n                For \"last X quarter\", where X is greater than 1, consider starting quarter = (reference quarter - X+1) and set start date as first day of starting quarter and end date as the reference date.\\n        5. To calculate the date range for \"last X weeks\", strictly follow the below conditions:\\n                Consider reference week as the week in reference week.\\n                For \"last 1 week\", set start date as Monday and end date as Sunday of the previous week of reference week. (Example: if reference date is 14/09/2022, then last week = 05/09/2022 - 11/09/2022)\\n                For \"last X weeks\", set start date as Monday of reference week and set start date as the Monday of that week and end date as reference date. \\n        6. Provide the date range of each time point in \"start date - end date\" format always.\\n\\n<</SYS>>\\nUser question is : trend of onboard completions in quarter2 2022\\n\\nConverted JSON is as shown below: \\n[/INST]\\n[MQL]\\n[{\\'date\\': {\\'2022\\': {\\'FOP_COMPLETED_ON\\': {\\'label\\': \\'Completed On\\', \\'order\\': \\'asc\\', \\'operator\\': \\'histogram\\', \\'interval\\': \\'quarter\\'}}}, \\'action\\': {\\'derived_measure\\': {\\'onboard completions\\': {\\'Number of onboard completions\\': {\\'label\\': \\'Number of onboard completions\\', \\'order\\': \\'desc\\', \\'operator\\': \\'sum\\', \\'root_variables\\': []}}}, \\'type\\': \\'derived_summarization\\', \\'start_date\\': \\'2021/01/01 00:00:00\\'}, \\'filter\\': {\\'and\\': {\\'range\\': {\\'2022\\': [{\\'gte\\': \\'2022/04/01 00:00:00\\', \\'lte\\': \\'2022/06/30 23:59:59\\'}]}}}, \\'query_type\\': \\'aggregation\\', \\'db_type\\': \\'activity\\', \\'type\\': \\'transaction\\', \\'weight\\': 0.7133333333333333, \\'id\\': \\'leni_633b04ad96687f0001250001_589a95ede86f460e997b1484a8be1e3f_0\\', \\'trigger_forecast\\': True, \\'trend_present\\': True, \\'forecast_intent_present\\': False, \\'date_conf\\': \\'Latest Record Date\\', \\'dataset_id\\': \\'63510cd3c778a70001dae97a\\', \\'version\\': 61}]\\n[/MQL]</s>',\n",
       "  '<s>[INST]<<SYS>>\\nYou are an assistant that helps to map the user question to the a particular JSON format which contains info asked by user and also maps it the below CONTEXT. You might also need to act as a time tagger expert to convert the date elements present in the question to a standard format and to find possible date ranges for the same.\\n\\nCONTEXT:[{\\'action_derived_measure_label\\': \\'Number of onboard completions\\', \\'action_derived_measure\\': None}, {\\'date\\': \\'FOP_COMPLETED_ON\\', \\'date_label\\': \\'Completed On\\'}]\\n\\nStep 1: Identify the n-grams match between question and context\\n\\n        Map the n-gram or their lemma or their inflections from the question with the values in the passed context.\\n        Always consider the longest n-gram match, not the sub-string.\\n        If there are multiple matches for an n-gram with context, return all such ENTITY in response.\\n        If you are returning any match which is not exactly present with the context, make sure that it is a noun phrase and there is a high similarity between the match and the matched value in context. \\n\\n\\nStep 2: Applying time tagger rules only if time elements are present in question\\n\\n        Identify the TIME ELEMENTS in the input question and convert it to a standard format (if not already) by applying the general time tagging rules. If the TIME ELEMENT is already in a standard format, then no need to convert it.\\n        TIME ELEMENT can be either a temporal interval (across months, yoy, mom, qoq, wow, quarterly etc.) or a temporal expression (time points such as specific dates, relative expressions etc.).\\n        Calculate date range for each time points based on the following conditions:\\n        1. For relative time expressions, calculate the date range based on a reference date - By default the reference date is the end_date in date input: {\\'start_date\\': \\'01/01/2020\\', \\'end_date\\': \\'15/09/2023\\'}\\n        2. To calculate the date range for \"last X years\", strictly follow below conditions:\\n                For \"last 1 year\", consider exactly one year before the reference year and set start date as January 1 and end date as Decemebr 31 of that year.\\n                For \"last X years\", where X is greater than 1, consider starting year = (reference year - X+1) and set start date as January 1 of starting year and end date as the reference date.\\n        3. To calculate the date range for \"last X months\", strictly follow below conditions:\\n                Consider reference month as the month in reference date.\\n                For \"last 1 month\", consider exactly one month before the reference month and set start date as first day and end date as last day of that month.\\n                For \"last X months\", where X is greater than 1, consider starting month = (reference month - X+1) and set start date as first day of starting month and end date as the reference date. (Example: if reference date is 14/09/2022, then last 3 months = 01/07/2022 - 14/09/2022)\\n        4. To calculate the date range for \"last X quarters\", strictly follow below conditions:\\n                For \"last 1 quarter\", consider exactly one quarter before the reference quarter and set start date as first day and end date as last day of that quarter .\\n                For \"last X quarter\", where X is greater than 1, consider starting quarter = (reference quarter - X+1) and set start date as first day of starting quarter and end date as the reference date.\\n        5. To calculate the date range for \"last X weeks\", strictly follow the below conditions:\\n                Consider reference week as the week in reference week.\\n                For \"last 1 week\", set start date as Monday and end date as Sunday of the previous week of reference week. (Example: if reference date is 14/09/2022, then last week = 05/09/2022 - 11/09/2022)\\n                For \"last X weeks\", set start date as Monday of reference week and set start date as the Monday of that week and end date as reference date. \\n        6. Provide the date range of each time point in \"start date - end date\" format always.\\n\\n<</SYS>>\\nUser question is : daily trend of onboard completions\\n\\nConverted JSON is as shown below: \\n[/INST]\\n[MQL]\\n[{\\'date\\': {\\'daily\\': {\\'FOP_COMPLETED_ON\\': {\\'label\\': \\'Completed On\\', \\'order\\': \\'asc\\', \\'operator\\': \\'histogram\\', \\'interval\\': \\'day\\'}}}, \\'action\\': {\\'derived_measure\\': {\\'onboard completions\\': {\\'Number of onboard completions\\': {\\'label\\': \\'Number of onboard completions\\', \\'order\\': \\'desc\\', \\'operator\\': \\'sum\\', \\'root_variables\\': []}}}, \\'type\\': \\'derived_summarization\\', \\'start_date\\': \\'2021/01/01 00:00:00\\'}, \\'query_type\\': \\'aggregation\\', \\'db_type\\': \\'activity\\', \\'type\\': \\'transaction\\', \\'weight\\': 0.7133333333333333, \\'id\\': \\'leni_633b04ad96687f0001250001_8832904e26084fa89222493197722cd8_0\\', \\'trigger_forecast\\': False, \\'trend_present\\': True, \\'forecast_intent_present\\': False, \\'date_conf\\': \\'Latest Record Date\\', \\'dataset_id\\': \\'63510cd3c778a70001dae97a\\', \\'version\\': 61}]\\n[/MQL]</s>',\n",
       "  '<s>[INST]<<SYS>>\\nYou are an assistant that helps to map the user question to the a particular JSON format which contains info asked by user and also maps it the below CONTEXT. You might also need to act as a time tagger expert to convert the date elements present in the question to a standard format and to find possible date ranges for the same.\\n\\nCONTEXT:[{\\'action_derived_measure_label\\': \\'Requested Shifts\\', \\'action_derived_measure\\': None}, {\\'date\\': \\'SRD_CREATED_AT\\', \\'date_label\\': \\'Shift Request Created At\\'}]\\n\\nStep 1: Identify the n-grams match between question and context\\n\\n        Map the n-gram or their lemma or their inflections from the question with the values in the passed context.\\n        Always consider the longest n-gram match, not the sub-string.\\n        If there are multiple matches for an n-gram with context, return all such ENTITY in response.\\n        If you are returning any match which is not exactly present with the context, make sure that it is a noun phrase and there is a high similarity between the match and the matched value in context. \\n\\n\\nStep 2: Applying time tagger rules only if time elements are present in question\\n\\n        Identify the TIME ELEMENTS in the input question and convert it to a standard format (if not already) by applying the general time tagging rules. If the TIME ELEMENT is already in a standard format, then no need to convert it.\\n        TIME ELEMENT can be either a temporal interval (across months, yoy, mom, qoq, wow, quarterly etc.) or a temporal expression (time points such as specific dates, relative expressions etc.).\\n        Calculate date range for each time points based on the following conditions:\\n        1. For relative time expressions, calculate the date range based on a reference date - By default the reference date is the end_date in date input: {\\'start_date\\': \\'01/01/2020\\', \\'end_date\\': \\'15/09/2023\\'}\\n        2. To calculate the date range for \"last X years\", strictly follow below conditions:\\n                For \"last 1 year\", consider exactly one year before the reference year and set start date as January 1 and end date as Decemebr 31 of that year.\\n                For \"last X years\", where X is greater than 1, consider starting year = (reference year - X+1) and set start date as January 1 of starting year and end date as the reference date.\\n        3. To calculate the date range for \"last X months\", strictly follow below conditions:\\n                Consider reference month as the month in reference date.\\n                For \"last 1 month\", consider exactly one month before the reference month and set start date as first day and end date as last day of that month.\\n                For \"last X months\", where X is greater than 1, consider starting month = (reference month - X+1) and set start date as first day of starting month and end date as the reference date. (Example: if reference date is 14/09/2022, then last 3 months = 01/07/2022 - 14/09/2022)\\n        4. To calculate the date range for \"last X quarters\", strictly follow below conditions:\\n                For \"last 1 quarter\", consider exactly one quarter before the reference quarter and set start date as first day and end date as last day of that quarter .\\n                For \"last X quarter\", where X is greater than 1, consider starting quarter = (reference quarter - X+1) and set start date as first day of starting quarter and end date as the reference date.\\n        5. To calculate the date range for \"last X weeks\", strictly follow the below conditions:\\n                Consider reference week as the week in reference week.\\n                For \"last 1 week\", set start date as Monday and end date as Sunday of the previous week of reference week. (Example: if reference date is 14/09/2022, then last week = 05/09/2022 - 11/09/2022)\\n                For \"last X weeks\", set start date as Monday of reference week and set start date as the Monday of that week and end date as reference date. \\n        6. Provide the date range of each time point in \"start date - end date\" format always.\\n\\n<</SYS>>\\nUser question is : trend of requested shifts\\n\\nConverted JSON is as shown below: \\n[/INST]\\n[MQL]\\n[{\\'date\\': {\\'trend\\': {\\'SRD_CREATED_AT\\': {\\'label\\': \\'Shift Request Created At\\', \\'operator\\': \\'histogram\\', \\'interval\\': \\'month\\', \\'order\\': \\'asc\\'}}}, \\'action\\': {\\'derived_measure\\': {\\'requested shifts\\': {\\'Requested Shifts\\': {\\'label\\': \\'Requested Shifts\\', \\'order\\': \\'desc\\', \\'operator\\': \\'sum\\', \\'root_variables\\': []}}}, \\'type\\': \\'derived_summarization\\', \\'start_date\\': \\'2020/01/01 00:00:00\\'}, \\'query_type\\': \\'aggregation\\', \\'db_type\\': \\'activity\\', \\'type\\': \\'transaction\\', \\'weight\\': 0.7583333333333333, \\'id\\': \\'leni_633b04ad96687f0001250001_dc7cdbf2e96b43fab2d4089654dc80eb_0\\', \\'trigger_forecast\\': False, \\'trend_present\\': True, \\'forecast_intent_present\\': False, \\'date_conf\\': \\'Latest Record Date\\', \\'dataset_id\\': \\'63510a96ff5d530001d2e180\\', \\'version\\': 65}]\\n[/MQL]</s>',\n",
       "  '<s>[INST]<<SYS>>\\nYou are an assistant that helps to map the user question to the a particular JSON format which contains info asked by user and also maps it the below CONTEXT. You might also need to act as a time tagger expert to convert the date elements present in the question to a standard format and to find possible date ranges for the same.\\n\\nCONTEXT:[{\\'action_derived_measure_label\\': \\'Requested Shifts\\', \\'action_derived_measure\\': None}, {\\'date\\': \\'SRD_CREATED_AT\\', \\'date_label\\': \\'Shift Request Created At\\'}]\\n\\nStep 1: Identify the n-grams match between question and context\\n\\n        Map the n-gram or their lemma or their inflections from the question with the values in the passed context.\\n        Always consider the longest n-gram match, not the sub-string.\\n        If there are multiple matches for an n-gram with context, return all such ENTITY in response.\\n        If you are returning any match which is not exactly present with the context, make sure that it is a noun phrase and there is a high similarity between the match and the matched value in context. \\n\\n\\nStep 2: Applying time tagger rules only if time elements are present in question\\n\\n        Identify the TIME ELEMENTS in the input question and convert it to a standard format (if not already) by applying the general time tagging rules. If the TIME ELEMENT is already in a standard format, then no need to convert it.\\n        TIME ELEMENT can be either a temporal interval (across months, yoy, mom, qoq, wow, quarterly etc.) or a temporal expression (time points such as specific dates, relative expressions etc.).\\n        Calculate date range for each time points based on the following conditions:\\n        1. For relative time expressions, calculate the date range based on a reference date - By default the reference date is the end_date in date input: {\\'start_date\\': \\'01/01/2020\\', \\'end_date\\': \\'15/09/2023\\'}\\n        2. To calculate the date range for \"last X years\", strictly follow below conditions:\\n                For \"last 1 year\", consider exactly one year before the reference year and set start date as January 1 and end date as Decemebr 31 of that year.\\n                For \"last X years\", where X is greater than 1, consider starting year = (reference year - X+1) and set start date as January 1 of starting year and end date as the reference date.\\n        3. To calculate the date range for \"last X months\", strictly follow below conditions:\\n                Consider reference month as the month in reference date.\\n                For \"last 1 month\", consider exactly one month before the reference month and set start date as first day and end date as last day of that month.\\n                For \"last X months\", where X is greater than 1, consider starting month = (reference month - X+1) and set start date as first day of starting month and end date as the reference date. (Example: if reference date is 14/09/2022, then last 3 months = 01/07/2022 - 14/09/2022)\\n        4. To calculate the date range for \"last X quarters\", strictly follow below conditions:\\n                For \"last 1 quarter\", consider exactly one quarter before the reference quarter and set start date as first day and end date as last day of that quarter .\\n                For \"last X quarter\", where X is greater than 1, consider starting quarter = (reference quarter - X+1) and set start date as first day of starting quarter and end date as the reference date.\\n        5. To calculate the date range for \"last X weeks\", strictly follow the below conditions:\\n                Consider reference week as the week in reference week.\\n                For \"last 1 week\", set start date as Monday and end date as Sunday of the previous week of reference week. (Example: if reference date is 14/09/2022, then last week = 05/09/2022 - 11/09/2022)\\n                For \"last X weeks\", set start date as Monday of reference week and set start date as the Monday of that week and end date as reference date. \\n        6. Provide the date range of each time point in \"start date - end date\" format always.\\n\\n<</SYS>>\\nUser question is : daily trend of requested shifts\\n\\nConverted JSON is as shown below: \\n[/INST]\\n[MQL]\\n[{\\'date\\': {\\'daily\\': {\\'SRD_CREATED_AT\\': {\\'label\\': \\'Shift Request Created At\\', \\'order\\': \\'asc\\', \\'operator\\': \\'histogram\\', \\'interval\\': \\'day\\'}}}, \\'action\\': {\\'derived_measure\\': {\\'requested shifts\\': {\\'Requested Shifts\\': {\\'label\\': \\'Requested Shifts\\', \\'order\\': \\'desc\\', \\'operator\\': \\'sum\\', \\'root_variables\\': []}}}, \\'type\\': \\'derived_summarization\\', \\'start_date\\': \\'2020/01/01 00:00:00\\'}, \\'query_type\\': \\'aggregation\\', \\'db_type\\': \\'activity\\', \\'type\\': \\'transaction\\', \\'weight\\': 0.6844444444444444, \\'id\\': \\'leni_633b04ad96687f0001250001_4038dc9c85734f5681e1919da8a6bc3e_0\\', \\'trigger_forecast\\': False, \\'trend_present\\': True, \\'forecast_intent_present\\': False, \\'date_conf\\': \\'Latest Record Date\\', \\'dataset_id\\': \\'63510a96ff5d530001d2e180\\', \\'version\\': 65}]\\n[/MQL]</s>',\n",
       "  '<s>[INST]<<SYS>>\\nYou are an assistant that helps to map the user question to the a particular JSON format which contains info asked by user and also maps it the below CONTEXT. You might also need to act as a time tagger expert to convert the date elements present in the question to a standard format and to find possible date ranges for the same.\\n\\nCONTEXT:[{\\'action_derived_measure_label\\': \\'Number of Providers\\', \\'action_derived_measure\\': None}, {\\'date\\': \\'FPP_PROVIDER_SINCE\\', \\'date_label\\': \\'Provider Since\\'}]\\n\\nStep 1: Identify the n-grams match between question and context\\n\\n        Map the n-gram or their lemma or their inflections from the question with the values in the passed context.\\n        Always consider the longest n-gram match, not the sub-string.\\n        If there are multiple matches for an n-gram with context, return all such ENTITY in response.\\n        If you are returning any match which is not exactly present with the context, make sure that it is a noun phrase and there is a high similarity between the match and the matched value in context. \\n\\n\\nStep 2: Applying time tagger rules only if time elements are present in question\\n\\n        Identify the TIME ELEMENTS in the input question and convert it to a standard format (if not already) by applying the general time tagging rules. If the TIME ELEMENT is already in a standard format, then no need to convert it.\\n        TIME ELEMENT can be either a temporal interval (across months, yoy, mom, qoq, wow, quarterly etc.) or a temporal expression (time points such as specific dates, relative expressions etc.).\\n        Calculate date range for each time points based on the following conditions:\\n        1. For relative time expressions, calculate the date range based on a reference date - By default the reference date is the end_date in date input: {\\'start_date\\': \\'01/01/2020\\', \\'end_date\\': \\'15/09/2023\\'}\\n        2. To calculate the date range for \"last X years\", strictly follow below conditions:\\n                For \"last 1 year\", consider exactly one year before the reference year and set start date as January 1 and end date as Decemebr 31 of that year.\\n                For \"last X years\", where X is greater than 1, consider starting year = (reference year - X+1) and set start date as January 1 of starting year and end date as the reference date.\\n        3. To calculate the date range for \"last X months\", strictly follow below conditions:\\n                Consider reference month as the month in reference date.\\n                For \"last 1 month\", consider exactly one month before the reference month and set start date as first day and end date as last day of that month.\\n                For \"last X months\", where X is greater than 1, consider starting month = (reference month - X+1) and set start date as first day of starting month and end date as the reference date. (Example: if reference date is 14/09/2022, then last 3 months = 01/07/2022 - 14/09/2022)\\n        4. To calculate the date range for \"last X quarters\", strictly follow below conditions:\\n                For \"last 1 quarter\", consider exactly one quarter before the reference quarter and set start date as first day and end date as last day of that quarter .\\n                For \"last X quarter\", where X is greater than 1, consider starting quarter = (reference quarter - X+1) and set start date as first day of starting quarter and end date as the reference date.\\n        5. To calculate the date range for \"last X weeks\", strictly follow the below conditions:\\n                Consider reference week as the week in reference week.\\n                For \"last 1 week\", set start date as Monday and end date as Sunday of the previous week of reference week. (Example: if reference date is 14/09/2022, then last week = 05/09/2022 - 11/09/2022)\\n                For \"last X weeks\", set start date as Monday of reference week and set start date as the Monday of that week and end date as reference date. \\n        6. Provide the date range of each time point in \"start date - end date\" format always.\\n\\n<</SYS>>\\nUser question is : number of providers\\n\\nConverted JSON is as shown below: \\n[/INST]\\n[MQL]\\n[{\\'action\\': {\\'derived_measure\\': {\\'number of providers\\': {\\'Number of Providers\\': {\\'label\\': \\'Number of Providers\\', \\'order\\': \\'desc\\', \\'operator\\': \\'sum\\', \\'root_variables\\': []}}}, \\'type\\': \\'derived_summarization\\', \\'start_date\\': \\'2021/01/01 00:00:00\\'}, \\'query_type\\': \\'aggregation\\', \\'db_type\\': \\'activity\\', \\'type\\': \\'transaction\\', \\'weight\\': 0.8666666666666667, \\'id\\': \\'leni_633b04ad96687f0001250001_18df5542e132432ab33f6013ed1fe7cc_0\\', \\'trigger_forecast\\': True, \\'date\\': {\\'default time\\': {\\'FPP_PROVIDER_SINCE\\': {\\'label\\': \\'Provider Since\\', \\'order\\': \\'asc\\', \\'interval\\': \\'month\\', \\'operator\\': \\'histogram\\'}}}, \\'filter\\': {\\'and\\': {\\'range\\': {\\'default time\\': [{\\'gte\\': \\'2022/11/01 00:00:00\\', \\'lte\\': \\'2022/11/13 23:59:59\\'}]}}}, \\'trend_present\\': False, \\'forecast_intent_present\\': False, \\'date_conf\\': \\'Latest Record Date\\', \\'dataset_id\\': \\'636913a95537400001f02eee\\', \\'version\\': 66}]\\n[/MQL]</s>',\n",
       "  '<s>[INST]<<SYS>>\\nYou are an assistant that helps to map the user question to the a particular JSON format which contains info asked by user and also maps it the below CONTEXT. You might also need to act as a time tagger expert to convert the date elements present in the question to a standard format and to find possible date ranges for the same.\\n\\nCONTEXT:[{\\'action_derived_measure_label\\': \\'Number of Providers\\', \\'action_derived_measure\\': None}, {\\'date\\': \\'FPP_PROVIDER_SINCE\\', \\'date_label\\': \\'Provider Since\\'}]\\n\\nStep 1: Identify the n-grams match between question and context\\n\\n        Map the n-gram or their lemma or their inflections from the question with the values in the passed context.\\n        Always consider the longest n-gram match, not the sub-string.\\n        If there are multiple matches for an n-gram with context, return all such ENTITY in response.\\n        If you are returning any match which is not exactly present with the context, make sure that it is a noun phrase and there is a high similarity between the match and the matched value in context. \\n\\n\\nStep 2: Applying time tagger rules only if time elements are present in question\\n\\n        Identify the TIME ELEMENTS in the input question and convert it to a standard format (if not already) by applying the general time tagging rules. If the TIME ELEMENT is already in a standard format, then no need to convert it.\\n        TIME ELEMENT can be either a temporal interval (across months, yoy, mom, qoq, wow, quarterly etc.) or a temporal expression (time points such as specific dates, relative expressions etc.).\\n        Calculate date range for each time points based on the following conditions:\\n        1. For relative time expressions, calculate the date range based on a reference date - By default the reference date is the end_date in date input: {\\'start_date\\': \\'01/01/2020\\', \\'end_date\\': \\'15/09/2023\\'}\\n        2. To calculate the date range for \"last X years\", strictly follow below conditions:\\n                For \"last 1 year\", consider exactly one year before the reference year and set start date as January 1 and end date as Decemebr 31 of that year.\\n                For \"last X years\", where X is greater than 1, consider starting year = (reference year - X+1) and set start date as January 1 of starting year and end date as the reference date.\\n        3. To calculate the date range for \"last X months\", strictly follow below conditions:\\n                Consider reference month as the month in reference date.\\n                For \"last 1 month\", consider exactly one month before the reference month and set start date as first day and end date as last day of that month.\\n                For \"last X months\", where X is greater than 1, consider starting month = (reference month - X+1) and set start date as first day of starting month and end date as the reference date. (Example: if reference date is 14/09/2022, then last 3 months = 01/07/2022 - 14/09/2022)\\n        4. To calculate the date range for \"last X quarters\", strictly follow below conditions:\\n                For \"last 1 quarter\", consider exactly one quarter before the reference quarter and set start date as first day and end date as last day of that quarter .\\n                For \"last X quarter\", where X is greater than 1, consider starting quarter = (reference quarter - X+1) and set start date as first day of starting quarter and end date as the reference date.\\n        5. To calculate the date range for \"last X weeks\", strictly follow the below conditions:\\n                Consider reference week as the week in reference week.\\n                For \"last 1 week\", set start date as Monday and end date as Sunday of the previous week of reference week. (Example: if reference date is 14/09/2022, then last week = 05/09/2022 - 11/09/2022)\\n                For \"last X weeks\", set start date as Monday of reference week and set start date as the Monday of that week and end date as reference date. \\n        6. Provide the date range of each time point in \"start date - end date\" format always.\\n\\n<</SYS>>\\nUser question is : trend of number of providers\\n\\nConverted JSON is as shown below: \\n[/INST]\\n[MQL]\\n[{\\'date\\': {\\'trend\\': {\\'FPP_PROVIDER_SINCE\\': {\\'label\\': \\'Provider Since\\', \\'operator\\': \\'histogram\\', \\'interval\\': \\'month\\', \\'order\\': \\'asc\\'}}}, \\'action\\': {\\'derived_measure\\': {\\'number of providers\\': {\\'Number of Providers\\': {\\'label\\': \\'Number of Providers\\', \\'order\\': \\'desc\\', \\'operator\\': \\'sum\\', \\'root_variables\\': []}}}, \\'type\\': \\'derived_summarization\\', \\'start_date\\': \\'2021/01/01 00:00:00\\'}, \\'query_type\\': \\'aggregation\\', \\'db_type\\': \\'activity\\', \\'type\\': \\'transaction\\', \\'weight\\': 0.8, \\'id\\': \\'leni_633b04ad96687f0001250001_f5fce6f9df024a19a0d5a88c3e2da375_0\\', \\'trigger_forecast\\': False, \\'trend_present\\': True, \\'forecast_intent_present\\': False, \\'date_conf\\': \\'Latest Record Date\\', \\'dataset_id\\': \\'636913a95537400001f02eee\\', \\'version\\': 66}]\\n[/MQL]</s>',\n",
       "  '<s>[INST]<<SYS>>\\nYou are an assistant that helps to map the user question to the a particular JSON format which contains info asked by user and also maps it the below CONTEXT. You might also need to act as a time tagger expert to convert the date elements present in the question to a standard format and to find possible date ranges for the same.\\n\\nCONTEXT:[{\\'action_derived_measure_label\\': \\'Number of Facility\\', \\'action_derived_measure\\': None}, {\\'date\\': \\'FFP_CREATED_AT\\', \\'date_label\\': \\'Created At\\'}]\\n\\nStep 1: Identify the n-grams match between question and context\\n\\n        Map the n-gram or their lemma or their inflections from the question with the values in the passed context.\\n        Always consider the longest n-gram match, not the sub-string.\\n        If there are multiple matches for an n-gram with context, return all such ENTITY in response.\\n        If you are returning any match which is not exactly present with the context, make sure that it is a noun phrase and there is a high similarity between the match and the matched value in context. \\n\\n\\nStep 2: Applying time tagger rules only if time elements are present in question\\n\\n        Identify the TIME ELEMENTS in the input question and convert it to a standard format (if not already) by applying the general time tagging rules. If the TIME ELEMENT is already in a standard format, then no need to convert it.\\n        TIME ELEMENT can be either a temporal interval (across months, yoy, mom, qoq, wow, quarterly etc.) or a temporal expression (time points such as specific dates, relative expressions etc.).\\n        Calculate date range for each time points based on the following conditions:\\n        1. For relative time expressions, calculate the date range based on a reference date - By default the reference date is the end_date in date input: {\\'start_date\\': \\'01/01/2020\\', \\'end_date\\': \\'15/09/2023\\'}\\n        2. To calculate the date range for \"last X years\", strictly follow below conditions:\\n                For \"last 1 year\", consider exactly one year before the reference year and set start date as January 1 and end date as Decemebr 31 of that year.\\n                For \"last X years\", where X is greater than 1, consider starting year = (reference year - X+1) and set start date as January 1 of starting year and enas the reference date. (Example: if reference date is 14/09/2022, then last 3 months = 01/07/2022 - 14/09/2022)\\n        4. To calculate the date range for \"last X quarters\", strictly follow below conditions:\\n                For \"last 1 quarter\", consider exactly one quarter before the reference quarter and set start date as first day and end date as last day of that quarter .\\n                For \"last X quarter\", where X is greater than 1, consider starting quarter = (reference quarter - X+1) and set start date as first day of starting quarter and end date as the reference date.\\n        5. To calculate the date range for \"last X weeks\", strictly follow the below conditions:\\n                Consider reference week as the week in reference week.\\n                For \"last 1 week\", set start date as Monday and end date as Sunday of the previous week of reference week. (Example: if reference date is 14/09/2022, then last week = 05/09/2022 - 11/09/2022)\\n                For \"last X weeks\", set start date as Monday of reference week and set start date as the Monday of that week and end date as reference date. \\n        6. Provide the date range of each time point in \"start date - end date\" format always.\\n\\n<</SYS>>\\nUser question is : why did profit decrease for texas for sep 2022 vs july 2022\\n\\nConverted JSON is as shown below: \\n[/INST]\\n[MQL]\\n[{\\'measure\\': {\\'profit\\': {\\'PROFIT\\': {\\'label\\': \\'Profit in Dollars\\', \\'order\\': \\'desc\\', \\'operator\\': \\'sum\\'}}}, \\'dimension\\': {\\'texas\\': {\\'FFP_STATE_NAME\\': {\\'label\\': \\'State\\', \\'order\\': \\'desc\\'}, \\'FSP_STATE_NAME\\': {\\'label\\': \\'State Name\\'}, \\'FPP_MAILING_STATE_NAME\\': {\\'label\\': \\'Mailing State\\'}}}, \\'date\\': {\\'sep 2022\\': {\\'AFS_SHIFT_DATE_START\\': {\\'label\\': \\'Shift Date Start\\', \\'order\\': \\'asc\\', \\'operator\\': \\'range\\', \\'ranges\\': [{\\'from\\': \\'2022/09/01 00:00:00\\', \\'to\\': \\'2022/09/30 23:59:59\\'}], \\'ref_interval\\': \\'month\\'}}, \\'july 2022\\': {\\'AFS_SHIFT_DATE_START\\': {\\'label\\': \\'Shift Date Start\\', \\'order\\': \\'asc\\', \\'operator\\': \\'range\\', \\'ranges\\': [{\\'from\\': \\'2022/07/01 00:00:00\\', \\'to\\': \\'2022/07/31 23:59:59\\'}], \\'ref_interval\\': \\'month\\'}}}, \\'action\\': {\\'type\\': \\'why_type\\', \\'start_date\\': \\'2020/01/01 00:00:00\\'}, \\'filter\\': {\\'and\\': {\\'range\\': {\\'sep 2022\\': [{\\'gte\\': \\'2022/09/01 00:00:00\\', \\'lte\\': \\'2022/09/30 23:59:59\\'}], \\'july 2022\\': [{\\'gte\\': \\'2022/07/01 00:00:00\\', \\'lte\\': \\'2022/07/31 23:59:59\\'}]}, \\'eq\\': {\\'texas\\': {\\'FSP_STATE_NAME\\': [\\'Texas\\'], \\'FPP_MAILING_STATE_NAME\\': [\\'Texas\\'], \\'FFP_STATE_NAME\\': [\\'Texas\\']}}}}, \\'query_type\\': \\'aggregation\\', \\'db_type\\': \\'activity\\', \\'type\\': \\'transaction\\', \\'weight\\': 0.6460992907801418, \\'id\\': \\'leni_633b04ad96687f0001250001_00e80645dc7e4a7eade19a686c673baf_0\\', \\'trend_present\\': False, \\'forecast_intent_present\\': False, \\'date_conf\\': \\'Latest Record Date\\', \\'dataset_id\\': \\'63510a2ec778a70001dae8de\\', \\'version\\': 69}]\\n[/MQL]</s>',\n",
       "  '<s>[INST]<<SYS>>\\nYou are an assistant that helps to map the user question to the a particular JSON format which contains info asked by user and also maps it the below CONTEXT. You might also need to act as a time tagger expert to convert the date elements present in the question to a standard format and to find possible date ranges for the same.\\n\\nCONTEXT:[{\\'measure\\': \\'PROFIT\\', \\'measure_label\\': \\'Profit in Dollars\\'}, {\\'date\\': \\'AFS_SHIFT_DATE_START\\', \\'date_label\\': \\'Shift Date Start\\'}]\\n\\nStep 1: Identify the n-grams match between question and context\\n\\n        Map the n-gram or their lemma or their inflections from the question with the values in the passed context.\\n        Always consider the longest n-gram match, not the sub-string.\\n        If there are multiple matches for an n-gram with context, return all such ENTITY in response.\\n        If you are returning any match which is not exactly present with the context, make sure that it is a noun phrase and there is a high similarity between the match and the matched value in context. \\n\\n\\nStep 2: Applying time tagger rules only if time elements are present in question\\n\\n        Identify the TIME ELEMENTS in the input question and convert it to a standard format (if not already) by applying the general time tagging rules. If the TIME ELEMENT is already in a standard format, then no need to convert it.\\n        TIME ELEMENT can be either a temporal interval (across months, yoy, mom, qoq, wow, quarterly etc.) or a temporal expression (time points such as specific dates, relative expressions etc.).\\n        Calculate date range for each time points based on the following conditions:\\n        1. For relative time expressions, calculate the date range based on a reference date - By default the reference date is the end_date in date input: {\\'start_date\\': \\'01/01/2020\\', \\'end_date\\': \\'15/09/2023\\'}\\n        2. To calculate the date range for \"last X years\", strictly follow below conditions:\\n                For \"last 1 year\", consider exactly one year before the reference year and set start date as January 1 and end date as Decemebr 31 of that year.\\n                For \"last X years\", where X is greater than 1, consider starting year = (reference year - X+1) and set start date as January 1 of starting year and end date as the reference date.\\n        3. To calculate the date range for \"last X months\", strictly follow below conditions:\\n                Consider reference month as the month in reference date.\\n                For \"last 1 month\", consider exactly one month before the reference month and set start date as first day and end date as last day of that month.\\n                For \"last X months\", where X is greater than 1, consider starting month = (reference month - X+1) and set start date as first day of starting month and end date as the reference date. (Example: if reference date is 14/09/2022, then last 3 months = 01/07/2022 - 14/09/2022)\\n        4. To calculate the date range for \"last X quarters\", strictly follow below conditions:\\n                For \"last 1 quarter\", consider exactly one quarter before the reference quarter and set start date as first day and end date as last day of that quarter .\\n                For \"last X quarter\", where X is greater than 1, consider starting quarter = (reference quarter - X+1) and set start date as first day of starting quarter and end date as the reference date.\\n        5. To calculate the date range for \"last X weeks\", strictly follow the below conditions:\\n                Consider reference week as the week in reference week.\\n                For \"last 1 week\", set start date as Monday and end date as Sunday of the previous week of reference week. (Example: if reference date is 14/09/2022, then last week = 05/09/2022 - 11/09/2022)\\n                For \"last X weeks\", set start date as Monday of reference week and set start date as the Monday of that week and end date as reference date. \\n        6. Provide the date range of each time point in \"start date - end date\" format always.\\n\\n<</SYS>>\\nUser question is : what will be profit in next 3 months\\n\\nConverted JSON is as shown below: \\n[/INST]\\n[MQL]\\n[{\\'measure\\': {\\'profit\\': {\\'PROFIT\\': {\\'label\\': \\'Profit in Dollars\\', \\'order\\': \\'desc\\', \\'operator\\': \\'sum\\'}}}, \\'date\\': {\\'next 3 months\\': {\\'AFS_SHIFT_DATE_START\\': {\\'label\\': \\'Shift Date Start\\', \\'order\\': \\'asc\\', \\'operator\\': \\'histogram\\', \\'interval\\': \\'month\\'}}}, \\'query_type\\': \\'aggregation\\', \\'db_type\\': \\'activity\\', \\'type\\': \\'transaction\\', \\'weight\\': 0.7625, \\'id\\': \\'leni_633b04ad96687f0001250001_4d62e47d2aa549e2a688299895bd6b0a_0\\', \\'trigger_forecast\\': True, \\'filter\\': {\\'and\\': {\\'range\\': {\\'next 3 months\\': [{\\'gte\\': \\'2023/03/01 00:00:00\\', \\'lte\\': \\'2023/05/31 23:59:59\\'}]}}}, \\'trend_present\\': False, \\'forecast_intent_present\\': True, \\'date_conf\\': \\'Latest Record Date\\', \\'dataset_id\\': \\'63510a2ec778a70001dae8de\\', \\'version\\': 69}]\\n[/MQL]</s>',\n",
       "  '<s>[INST]<<SYS>>\\nYou are an assistant that helps to map the user question to the a particular JSON format which contains info asked by user and also maps it the below CONTEXT. You might also need to act as a time tagger expert to convert the date elements present in the question to a standard format and to find possible date ranges for the same.\\n\\nCONTEXT:[{\\'measure\\': \\'PROFIT\\', \\'measure_label\\': \\'Profit in Dollars\\'}, {\\'dimension\\': \\'FFP_STATE_NAME\\', \\'dimension_label\\': \\'State\\'}, {\\'date\\': \\'AFS_SHIFT_DATE_START\\', \\'date_label\\': \\'Shift Date Start\\'}]\\n\\nStep 1: Identify the n-grams match between question and context\\n\\n        Map the n-gram or their lemma or their inflections from the question with the values in the passed context.\\n        Always consider the longest n-gram match, not the sub-string.\\n        If there are multiple matches for an n-gram with context, return all such ENTITY in response.\\n        If you are returning any match which is not exactly present with the context, make sure that it is a noun phrase and there is a high similarity between the match and the matched value in context. \\n\\n\\nStep 2: Applying time tagger rules only if time elements are present in question\\n\\n        Identify the TIME ELEMENTS in the input question and convert it to a standard format (if not already) by applying the general time tagging rules. If the TIME ELEMENT is already in a standard format, then no need to convert it.\\n        TIME ELEMENT can be either a temporal interval (across months, yoy, mom, qoq, wow, quarterly etc.) or a temporal expression (time points such as specific dates, relative expressions etc.).\\n        Calculate date range for each time points based on the following conditions:\\n        1. For relative time expressions, calculate the date range based on a reference date - By default the reference date is the end_date in date input: {\\'start_date\\': \\'01/01/2020\\', \\'end_date\\': \\'15/09/2023\\'}\\n        2. To calculate the date range for \"last X years\", strictly follow below conditions:\\n                For \"last 1 year\", consider exactly one year before the reference year and set start date as January 1 and end date as Decemebr 31 of that year.\\n                For \"last X years\", where X is greater than 1, consider starting year = (reference year - X+1) and set start date as January 1 of starting year and end date as the reference date.\\n        3. To calculate the date range for \"last X months\", strictly follow below conditions:\\n                Consider reference month as the month in reference date.\\n                For \"last 1 month\", consider exactly one month before the reference month and set start date as first day and end date as last day of that month.\\n                For \"last X months\", where X is greater than 1, consider starting month = (reference month - X+1) and set start date as first day of starting month and end date as the reference date. (Example: if reference date is 14/09/2022, then last 3 months = 01/07/2022 - 14/09/2022)\\n        4. To calculate the date range for \"last X quarters\", strictly follow below conditions:\\n                For \"last 1 quarter\", consider exactly one quarter before the reference quarter and set start date as first day and end date as last day of that quarter .\\n                For \"last X quarter\", where X is greater than 1, consider starting quarter = (reference quarter - X+1) and set start date as first day of starting quarter and end date as the reference date.\\n        5. To calculate the date range for \"last X weeks\", strictly follow the below conditions:\\n                Consider reference week as the week in reference week.\\n                For \"last 1 week\", set start date as Monday and end date as Sunday of the previous week of reference week. (Example: if reference date is 14/09/2022, then last week = 05/09/2022 - 11/09/2022)\\n                For \"last X weeks\", set start date as Monday of reference week and set start date as the Monday of that week and end date as reference date. \\n        6. Provide the date range of each time point in \"start date - end date\" format always.\\n\\n<</SYS>>\\nUser question is : top 5 states by profit for quarter3 2022\\n\\nConverted JSON is as shown below: \\n[/INST]\\n[MQL]\\n[{\\'measure\\': {\\'profit\\': {\\'PROFIT\\': {\\'label\\': \\'Profit in Dollars\\', \\'order\\': \\'desc\\', \\'operator\\': \\'sum\\'}}}, \\'dimension\\': {\\'states\\': {\\'FFP_STATE_NAME\\': {\\'label\\': \\'State\\', \\'limit\\': 5, \\'limit_type\\': \\'num\\'}, \\'AFS_FACILITY_STATE\\': {\\'label\\': \\'Facility State\\', \\'limit\\': 5, \\'limit_type\\': \\'num\\'}}}, \\'date\\': {\\'2022\\': {\\'AFS_SHIFT_DATE_START\\': {\\'label\\': \\'Shift Date Start\\', \\'interval\\': \\'quarter\\', \\'operator\\': \\'histogram\\'}}}, \\'filter\\': {\\'and\\': {\\'range\\': {\\'2022\\': [{\\'gte\\': \\'2022/07/01 00:00:00\\', \\'lte\\': \\'2022/09/30 23:59:59\\'}]}}}, \\'group\\': {\\'states\\': [\\'AFS_FACILITY_STATE\\', \\'FFP_STATE_NAME\\']}, \\'query_type\\': \\'aggregation\\', \\'db_type\\': \\'activity\\', \\'type\\': \\'transaction\\', \\'weight\\': 0.6911111111111111, \\'id\\': \\'leni_633b04ad96687f0001250001_f60422bc9a1d488bbb0ebe2b8a1241ab_0\\', \\'trigger_forecast\\': True, \\'top_flag\\': True, \\'trend_present\\': False, \\'forecast_intent_present\\': False, \\'date_conf\\': \\'Latest Record Date\\', \\'dataset_id\\': \\'63510a2ec778a70001dae8de\\', \\'version\\': 69}]\\n[/MQL]</s>',\n",
       "  '<s>[INST]<<SYS>>\\nYou are an assistant that helps to map the user question to the a particular JSON format which contains info asked by user and also maps it the below CONTEXT. You might also need to act as a time tagger expert to convert the date elements present in the question to a standard format and to find possible date ranges for the same.\\n\\nCONTEXT:[{\\'measure\\': \\'PROFIT\\', \\'measure_label\\': \\'Profit in Dollars\\'}, {\\'dimension\\': \\'FFP_STATE_NAME\\', \\'dimension_label\\': \\'State\\'}, {\\'date\\': \\'AFS_SHIFT_DATE_START\\', \\'date_label\\': \\'Shift Date Start\\'}]\\n\\nStep 1: Identify the n-grams match between question and context\\n\\n        Map the n-gram or their lemma or their inflections from the question with the values in the passed context.\\n        Always consider the longest n-gram match, not the sub-string.\\n        If there are multiple matches for an n-gram with context, return all such ENTITY in response.\\n        If you are returning any match which is not exactly present with the context, make sure that it is a noun phrase and there is a high similarity between the match and the matched value in context. \\n\\n\\nStep 2: Applying time tagger rules only if time elements are present in question\\n\\n        Identify the TIME ELEMENTS in the input question and convert it to a standard format (if not already) by applying the general time tagging rules. If the TIME ELEMENT is already in a standard format, then no need to convert it.\\n        TIME ELEMENT can be either a temporal interval (across months, yoy, mom, qoq, wow, quarterly etc.) or a temporal expression (time points such as specific dates, relative expressions etc.).\\n        Calculate date range for each time points based on the following conditions:\\n        1. For relative time expressions, calculate the date range based on a reference date - By default the reference date is the end_date in date input: {\\'start_date\\': \\'01/01/2020\\', \\'end_date\\': \\'15/09/2023\\'}\\n        2. To calculate the date range for \"last X years\", strictly follow below conditions:\\n                For \"last 1 year\", consider exactly one year before the reference year and set start date as January 1 and end date as Decemebr 31 of that year.\\n                For \"last X years\", where X is greater than 1, consider starting year = (reference year - X+1) and set start date as January 1 of starting year and end date as the reference date.\\n        3. To calculate the date range for \"last X months\", strictly follow below conditions:\\n                Consider reference month as the month in reference date.\\n                For \"last 1 month\", consider exactly one month before the reference month and set start date as first day and end date as last day of that month.\\n                For \"last X months\", where X is greater than 1, consider starting month = (reference month - X+1) and set start date as first day of starting month and end date as the reference date. (Example: if reference date is 14/09/2022, then last 3 months = 01/07/2022 - 14/09/2022)\\n        4. To calculate the date range for \"last X quarters\", strictly follow below conditions:\\n                For \"last 1 quarter\", consider exactly one quarter before the reference quarter and set start date as first day and end date as last day of that quarter .\\n                For \"last X quarter\", where X is greater than 1, consider starting quarter = (reference quarter - X+1) and set start date as first day of starting quarter and end date as the reference date.\\n        5. To calculate the date range for \"last X weeks\", strictly follow the below conditions:\\n                Consider reference week as the week in reference week.\\n                For \"last 1 week\", set start date as Monday and end date as Sunday of the previous week of reference week. (Example: if reference date is 14/09/2022, then last week = 05/09/2022 - 11/09/2022)\\n                For \"last X weeks\", set start date as Monday of reference week and set start date as the Monday of that week and end date as reference date. \\n        6. Provide the date range of each time point in \"start date - end date\" format always.\\n\\n<</SYS>>\\nUser question is : what is monthly trend of profit for texas in quarter3 2022\\n\\nConverted JSON is as shown below: \\n[/INST]\\n[MQL]\\n[{\\'measure\\': {\\'profit\\': {\\'PROFIT\\': {\\'label\\': \\'Profit in Dollars\\', \\'order\\': \\'desc\\', \\'operator\\': \\'sum\\'}}}, \\'dimension\\': {\\'texas\\': {\\'FFP_STATE_NAME\\': {\\'label\\': \\'State\\', \\'order\\': \\'desc\\'}, \\'FSP_STATE_NAME\\': {\\'label\\': \\'State Name\\'}, \\'FPP_MAILING_STATE_NAME\\': {\\'label\\': \\'Mailing State\\'}}}, \\'date\\': {\\'2022\\': {\\'AFS_SHIFT_DATE_START\\': {\\'label\\': \\'Shift Date Start\\', \\'order\\': \\'asc\\', \\'operator\\': \\'histogram\\', \\'interval\\': \\'month\\'}}}, \\'filter\\': {\\'and\\': {\\'range\\': {\\'2022\\': [{\\'gte\\': \\'2022/07/01 00:00:00\\', \\'lte\\': \\'2022/09/30 23:59:59\\'}]}, \\'eq\\': {\\'texas\\': {\\'FPP_MAILING_STATE_NAME\\': [\\'Texas\\'], \\'FSP_STATE_NAME\\': [\\'Texas\\'], \\'FFP_STATE_NAME\\': [\\'Texas\\']}}}}, \\'query_type\\': \\'aggregation\\', \\'db_type\\': \\'activity\\', \\'type\\': \\'transaction\\', \\'weight\\': 0.65, \\'id\\': \\'leni_633b04ad96687f0001250001_e50d3465ca734e56ab1d0eeb080ebed0_0\\', \\'trigger_forecast\\': True, \\'trend_present\\': True, \\'forecast_intent_present\\': False, \\'date_conf\\': \\'Latest Record Date\\', \\'dataset_id\\': \\'63510a2ec778a70001dae8de\\', \\'version\\': 69}]\\n[/MQL]</s>',\n",
       "  '<s>[INST]<<SYS>>\\nYou are an assistant that helps to map the user question to the a particular JSON format which contains info asked by user and also maps it the below CONTEXT. You might also need to act as a time tagger expert to convert the date elements present in the question to a standard format and to find possible date ranges for the same.\\n\\nCONTEXT:[{\\'action_derived_measure_label\\': \\'Number of Facility\\', \\'action_derived_measure\\': None}, {\\'date\\': \\'FFP_CREATED_AT\\', \\'date_label\\': \\'Created At\\'}]\\n\\nStep 1: Identify the n-grams match between question and context\\n\\n        Map the n-gram or their lemma or their inflections from the question with the values in the passed context.\\n        Always consider the longest n-gram match, not the sub-string.\\n        If there are multiple matches for an n-gram with context, return all such ENTITY in response.\\n        If you are returning any match which is not exactly present with the context, make sure that it is a noun phrase and there is a high similarity between the match and the matched value in context. \\n\\n\\nStep 2: Applying time tagger rules only if time elements are present in question\\n\\n        Identify the TIME ELEMENTS in the input question and convert it to a standard format (if not already) by applying the general time tagging rules. If the TIME ELEMENT is already in a standard format, then no need to convert it.\\n        TIME ELEMENT can be either a temporal interval (across months, yoy, mom, qoq, wow, quarterly etc.) or a temporal expression (time points such as specific dates, relative expressions etc.).\\n        Calculate date range for each time points based on the following conditions:\\n        1. For relative time expressions, calculate the date range based on a reference date - By default the reference date is the end_date in date input: {\\'start_date\\': \\'01/01/2020\\', \\'end_date\\': \\'15/09/2023\\'}\\n        2. To calculate the date range for \"last X years\", strictly follow below conditions:\\n                For \"last 1 year\", consider exactly one year before the reference year and set start date as January 1 and end date as Decemebr 31 of that year.\\n                For \"last X years\", where X is greater than 1, consider starting year = (reference year - X+1) and set start date as January 1 of starting year and end date as the reference date.\\n        3. To calculate the date range for \"last X months\", strictly follow below conditions:\\n                Consider reference month as the month in reference date.\\n                For \"last 1 month\", consider exactly one month before the reference month and set start date as first day and end date as last day of that month.\\n                For \"last X months\", where X is greater than 1, consider starting month = (reference month - X+1) and set start date as first day of starting month and end date as the reference date. (Example: if reference date is 14/09/2022, then last 3 months = 01/07/2022 - 14/09/2022)\\n        4. To calculate the date range for \"last X quarters\", strictly follow below conditions:\\n                For \"last 1 quarter\", consider exactly one quarter before the reference quarter and set start date as first day and end date as last day of that quarter .\\n                For \"last X quarter\", where X is greater than 1, consider starting quarter = (reference quarter - X+1) and set start date as first day of starting quarter and end date as the reference date.\\n        5. To calculate the date range for \"last X weeks\", strictly follow the below conditions:\\n                Consider reference week as the week in reference week.\\n                For \"last 1 week\", set start date as Monday and end date as Sunday of the previous week of reference week. (Example: if reference date is 14/09/2022, then last week = 05/09/2022 - 11/09/2022)\\n                For \"last X weeks\", set start date as Monday of reference week and set start date as the Monday of that week and end date as reference date. \\n        6. Provide the date range of each time point in \"start date - end date\" format always.\\n\\n<</SYS>>\\nUser question is : what is trend of number of providers and number of facilities in 2022\\n\\nConverted JSON is as shown below: \\n[/INST]\\n[MQL]\\n[{\\'date\\': {\\'2022\\': {\\'FFP_CREATED_AT\\': {\\'label\\': \\'Created At\\', \\'order\\': \\'asc\\', \\'operator\\': \\'histogram\\', \\'interval\\': \\'month\\'}}}, \\'action\\': {\\'derived_measure\\': {\\'number of facilities\\': {\\'Number of Facility\\': {\\'label\\': \\'Number of Facility\\', \\'order\\': \\'desc\\', \\'operator\\': \\'sum\\', \\'root_variables\\': []}}}, \\'type\\': \\'derived_summarization\\', \\'start_date\\': \\'2020/01/01 00:00:00\\'}, \\'filter\\': {\\'and\\': {\\'range\\': {\\'2022\\': [{\\'gte\\': \\'2022/01/01 00:00:00\\', \\'lte\\': \\'2022/12/31 23:59:59\\'}]}}}, \\'query_type\\': \\'aggregation\\', \\'db_type\\': \\'activity\\', \\'type\\': \\'transaction\\', \\'weight\\': 0.7133333333333333, \\'id\\': \\'leni_633b04ad96687f0001250001_0cd74627559f4c048f98ca08153fa166_0\\', \\'trigger_forecast\\': True, \\'trend_present\\': True, \\'forecast_intent_present\\': False, \\'date_conf\\': \\'Latest Record Date\\', \\'dataset_id\\': \\'6369164ba992e7000164f592\\', \\'version\\': 69}]\\n[/MQL]</s>',\n",
       "  '<s>[INST]<<SYS>>\\nYou are an assistant that helps to map the user question to the a particular JSON format which contains info asked by user and also maps it the below CONTEXT. You might also need to act as a time tagger expert to convert the date elements present in the question to a standard format and to find possible date ranges for the same.\\n\\nCONTEXT:[{\\'action_derived_measure_label\\': \\'Number of Providers\\', \\'action_derived_measure\\': None}, {\\'date\\': \\'FPP_PROVIDER_SINCE\\', \\'date_label\\': \\'Provider Since\\'}]\\n\\nStep 1: Identify the n-grams match between question and context\\n\\n        Map the n-gram or their lemma or their inflections from the question with the values in the passed context.\\n        Always consider the longest n-gram match, not the sub-string.\\n        If there are multiple matches for an n-gram with context, return all such ENTITY in response.\\n        If you are returning any match which is not exactly present with the context, make sure that it is a noun phrase and there is a high similarity between the match and the matched value in context. \\n\\n\\nStep 2: Applying time tagger rules only if time elements are present in question\\n\\n        Identify the TIME ELEMENTS in the input question and convert it to a standard format (if not already) by applying the general time tagging rules. If the TIME ELEMENT is already in a standard format, then no need to convert it.\\n        TIME ELEMENT can be either a temporal interval (across months, yoy, mom, qoq, wow, quarterly etc.) or a temporal expression (time points such as specific dates, relative expressions etc.).\\n        Calculate date range for each time points based on the following conditions:\\n        1. For relative time expressions, calculate the date range based on a reference date - By default the reference date is the end_date in date input: {\\'start_date\\': \\'01/01/2020\\', \\'end_date\\': \\'15/09/2023\\'}\\n        2. To calculate the date range for \"last X years\", strictly follow below conditions:\\n                For \"last 1 year\", consider exactly one year before the reference year and set start date as January 1 and end date as Decemebr 31 of that year.\\n                For \"last X years\", where X is greater than 1, consider starting year = (reference year - X+1) and set start date as January 1 of starting year and end date as the reference date.\\n        3. To calculate the date range for \"last X months\", strictly follow below conditions:\\n                Consider reference month as the month in reference date.\\n                For \"last 1 month\", consider exactly one month before the reference month and set start date as first day and end date as last day of that month.\\n                For \"last X months\", where X is greater than 1, consider starting month = (reference month - X+1) and set start date as first day of starting month and end date as the reference date. (Example: if reference date is 14/09/2022, then last 3 months = 01/07/2022 - 14/09/2022)\\n        4. To calculate the date range for \"last X quarters\", strictly follow below conditions:\\n                For \"last 1 quarter\", consider exactly one quarter before the reference quarter and set start date as first day and end date as last day of that quarter .\\n                For \"last X quarter\", where X is greater than 1, consider starting quarter = (reference quarter - X+1) and set start date as first day of starting quarter and end date as the reference date.\\n        5. To calculate the date range for \"last X weeks\", strictly follow the below conditions:\\n                Consider reference week as the week in reference week.\\n                For \"last 1 week\", set start date as Monday and end date as Sunday of the previous week of reference week. (Example: if reference date is 14/09/2022, then last week = 05/09/2022 - 11/09/2022)\\n                For \"last X weeks\", set start date as Monday of reference week and set start date as the Monday of that week and end date as reference date. \\n        6. Provide the date range of each time point in \"start date - end date\" format always.\\n\\n<</SYS>>\\nUser question is : what is trend of number of providers and number of facilities in 2022\\n\\nConverted JSON is as shown below: \\n[/INST]\\n[MQL]\\n[{\\'date\\': {\\'2022\\': {\\'FPP_PROVIDER_SINCE\\': {\\'label\\': \\'Provider Since\\', \\'order\\': \\'asc\\', \\'operator\\': \\'histogram\\', \\'interval\\': \\'month\\'}}}, \\'action\\': {\\'derived_measure\\': {\\'number of providers\\': {\\'Number of Providers\\': {\\'label\\': \\'Number of Providers\\', \\'order\\': \\'desc\\', \\'operator\\': \\'sum\\', \\'root_variables\\': []}}}, \\'type\\': \\'derived_summarization\\', \\'start_date\\': \\'2020/01/01 00:00:00\\'}, \\'filter\\': {\\'and\\': {\\'range\\': {\\'2022\\': [{\\'gte\\': \\'2022/01/01 00:00:00\\', \\'lte\\': \\'2022/12/31 23:59:59\\'}]}}}, \\'query_type\\': \\'aggregation\\', \\'db_type\\': \\'activity\\', \\'type\\': \\'transaction\\', \\'weight\\': 0.7133333333333333, \\'id\\': \\'leni_633b04ad96687f0001250001_ec862a0e27af42769ed82537552dd439_0\\', \\'trigger_forecast\\': True, \\'trend_present\\': True, \\'forecast_intent_present\\': False, \\'date_conf\\': \\'Latest Record Date\\', \\'dataset_id\\': \\'636913a95537400001f02eee\\', \\'version\\': 69}]\\n[/MQL]</s>',\n",
       "  '<s>[INST]<<SYS>>\\nYou are an assistant that helps to map the user question to the a particular JSON format which contains info asked by user and also maps it the below CONTEXT. You might also need to act as a time tagger expert to convert the date elements present in the question to a standard format and to find possible date ranges for the same.\\n\\nCONTEXT:[{\\'action_derived_measure_label\\': \\'Requested Hours\\', \\'action_derived_measure\\': None}, {\\'date\\': \\'AFS_SHIFT_DATE_START\\', \\'date_label\\': \\'Shift Date Start\\'}]\\n\\nStep 1: Identify the n-grams match between question and context\\n\\n        Map the n-gram or their lemma or their inflections from the question with the values in the passed context.\\n        Always consider the longest n-gram match, not the sub-string.\\n        If there are multiple matches for an n-gram with context, return all such ENTITY in response.\\n        If you are returning any match which is not exactly present with the context, make sure that it is a noun phrase and there is a high similarity between the match and the matched value in context. \\n\\n\\nStep 2: Applying time tagger rules only if time elements are present in question\\n\\n        Identify the TIME ELEMENTS in the input question and convert it to a standard format (if not already) by applying the general time tagging rules. If the TIME ELEMENT is already in a standard format, then no need to convert it.\\n        TIME ELEMENT can be either a temporal interval (across months, yoy, mom, qoq, wow, quarterly etc.) or a temporal expression (time points such as specific dates, relative expressions etc.).\\n        Calculate date range for each time points based on the following conditions:\\n        1. For relative time expressions, calculate the date range based on a reference date - By default the reference date is the end_date in date input: {\\'start_date\\': \\'01/01/2020\\', \\'end_date\\': \\'15/09/2023\\'}\\n        2. To calculate the date range for \"last X years\", strictly follow below conditions:\\n                For \"last 1 year\", consider exactly one year before the reference year and set start date as January 1 and end date as Decemebr 31 of that year.\\n                For \"last X years\", where X is greater than 1, consider starting year = (reference year - X+1) and set start date as January 1 of starting year and end date as the reference date.\\n        3. To calculate the date range for \"last X months\", strictly follow below conditions:\\n                Consider reference month as the month in reference date.\\n                For \"last 1 month\", consider exactly one month before the reference month and set start date as first day and end date as last day of that month.\\n                For \"last X months\", where X is greater than 1, consider starting month = (reference month - X+1) and set start date as first day of starting month and end date as the reference date. (Example: if reference date is 14/09/2022, then last 3 months = 01/07/2022 - 14/09/2022)\\n        4. To calculate the date range for \"last X quarters\", strictly follow below conditions:\\n                For \"last 1 quarter\", consider exactly one quarter before the reference quarter and set start date as first day and end date as last day of that quarter .\\n                For \"last X quarter\", where X is greater than 1, consider starting quarter = (reference quarter - X+1) and set start date as first day of starting quarter and end date as the reference date.\\n        5. To calculate the date range for \"last X weeks\", strictly follow the below conditions:\\n                Consider reference week as the week in reference week.\\n                For \"last 1 week\", set start date as Monday and end date as Sunday of the previous week of reference week. (Example: if reference date is 14/09/2022, then last week = 05/09/2022 - 11/09/2022)\\n                For \"last X weeks\", set start date as Monday of reference week and set start date as the Monday of that week and end date as reference date. \\n        6. Provide the date range of each time point in \"start date - end date\" format always.\\n\\n<</SYS>>\\nUser question is : what is weekly trend of requested hours and worked hours for august 2022\\n\\nConverted JSON is as shown below: \\n[/INST]\\n[MQL]\\n[{\\'date\\': {\\'august 2022\\': {\\'AFS_SHIFT_DATE_START\\': {\\'label\\': \\'Shift Date Start\\', \\'order\\': \\'asc\\', \\'operator\\': \\'histogram\\', \\'interval\\': \\'week\\'}}}, \\'action\\': {\\'derived_measure\\': {\\'requested hours\\': {\\'Requested Hours\\': {\\'label\\': \\'Requested Hours\\', \\'order\\': \\'desc\\', \\'operator\\': \\'sum\\', \\'root_variables\\': []}}, \\'worked hours\\': {\\'Worked Hours\\': {\\'label\\': \\'Worked Hours\\', \\'order\\': \\'desc\\', \\'operator\\': \\'sum\\', \\'root_variables\\': []}}}, \\'type\\': \\'derived_summarization\\', \\'start_date\\': \\'2020/01/01 00:00:00\\'}, \\'filter\\': {\\'and\\': {\\'range\\': {\\'august 2022\\': [{\\'gte\\': \\'2022/08/01 00:00:00\\', \\'lte\\': \\'2022/08/31 23:59:59\\'}]}}}, \\'query_type\\': \\'aggregation\\', \\'db_type\\': \\'activity\\', \\'type\\': \\'transaction\\', \\'weight\\': 0.6647058823529413, \\'id\\': \\'leni_633b04ad96687f0001250001_65be5fcc07494c0cad23930701a51c84_0\\', \\'trigger_forecast\\': True, \\'trend_present\\': True, \\'forecast_intent_present\\': False, \\'date_conf\\': \\'Latest Record Date\\', \\'dataset_id\\': \\'63510a2ec778a70001dae8de\\', \\'version\\': 69}]\\n[/MQL]</s>',\n",
       "  '<s>[INST]<<SYS>>\\nYou are an assistant that helps to map the user question to the a particular JSON format which contains info asked by user and also maps it the below CONTEXT. You might also need to act as a time tagger expert to convert the date elements present in the question to a standard format and to find possible date ranges for the same.\\n\\nCONTEXT:[{\\'dimension\\': \\'FOP_SPECIALTY_NAME\\', \\'dimension_label\\': \\'Specialty Name\\'}, {\\'action_derived_measure_label\\': \\'Number of onboard completions\\', \\'action_derived_measure\\': None}, {\\'date\\': \\'FOP_COMPLETED_ON\\', \\'date_label\\': \\'Completed On\\'}]\\n\\nStep 1: Identify the n-grams match between question and context\\n\\n        Map the n-gram or their lemma or their inflections from the question with the values in the passed context.\\n        Always consider the longest n-gram match, not the sub-string.\\n        If there are multiple matches for an n-gram with context, return all such ENTITY in response.\\n        If you are returning any match which is not exactly present with the context, make sure that it is a noun phrase and there is a high similarity between the match and the matched value in context. \\n\\n\\nStep 2: Applying time tagger rules only if time elements are present in question\\n\\n        Identify the TIME ELEMENTS in the input question and convert it to a standard format (if not already) by applying the general time tagging rules. If the TIME ELEMENT is already in a standard format, then no need to convert it.\\n        TIME ELEMENT can be either a temporal interval (across months, yoy, mom, qoq, wow, quarterly etc.) or a temporal expression (time points such as specific dates, relative expressions etc.).\\n        Calculate date range for each time points based on the following conditions:\\n        1. For relative time expressions, calculate the date range based on a reference date - By default the reference date is the end_date in date input: {\\'start_date\\': \\'01/01/2020\\', \\'end_date\\': \\'15/09/2023\\'}\\n        2. To calculate the date range for \"last X years\", strictly follow below conditions:\\n                For \"last 1 year\", consider exactly one year before the reference year and set start date as January 1 and end date as Decemebr 31 of that year.\\n                For \"last X years\", where X is greater than 1, consider starting year = (reference year - X+1) and set start date as January 1 of starting year and end date as the reference date.\\n        3. To calculate the date range for \"last X months\", strictly follow below conditions:\\n                Consider reference month as the month in reference date.\\n                For \"last 1 month\", consider exactly one month before the reference month and set start date as first day and end date as last day of that month.\\n                For \"last X months\", where X is greater than 1, consider starting month = (reference month - X+1) and set start date as first day of starting month and end date as the reference date. (Example: if reference date is 14/09/2022, then last 3 months = 01/07/2022 - 14/09/2022)\\n        4. To calculate the date range for \"last X quarters\", strictly follow below conditions:\\n                For \"last 1 quarter\", consider exactly one quarter before the reference quarter and set start date as first day and end date as last day of that quarter .\\n                For \"last X quarter\", where X is greater than 1, consider starting quarter = (reference quarter - X+1) and set start date as first day of starting quarter and end date as the reference date.\\n        5. To calculate the date range for \"last X weeks\", strictly follow the below conditions:\\n                Consider reference week as the week in reference week.\\n                For \"last 1 week\", set start date as Monday and end date as Sunday of the previous week of reference week. (Example: if reference date is 14/09/2022, then last week = 05/09/2022 - 11/09/2022)\\n                For \"last X weeks\", set start date as Monday of reference week and set start date as the Monday of that week and end date as reference date. \\n        6. Provide the date range of each time point in \"start date - end date\" format always.\\n\\n<</SYS>>\\nUser question is : what is number of onboard completions by specialty name in quarter2 2022\\n\\nConverted JSON is as shown below: \\n[/INST]\\n[MQL]\\n[{\\'dimension\\': {\\'specialty name\\': {\\'FOP_SPECIALTY_NAME\\': {\\'label\\': \\'Specialty Name\\', \\'order\\': \\'desc\\'}}}, \\'date\\': {\\'2022\\': {\\'FOP_COMPLETED_ON\\': {\\'label\\': \\'Completed On\\', \\'order\\': \\'asc\\', \\'interval\\': \\'quarter\\', \\'operator\\': \\'histogram\\'}}}, \\'action\\': {\\'derived_measure\\': {\\'number of onboard completions\\': {\\'Number of onboard completions\\': {\\'label\\': \\'Number of onboard completions\\', \\'order\\': \\'desc\\', \\'operator\\': \\'sum\\', \\'root_variables\\': []}}}, \\'type\\': \\'derived_summarization\\', \\'start_date\\': \\'2020/01/01 00:00:00\\'}, \\'filter\\': {\\'and\\': {\\'range\\': {\\'2022\\': [{\\'gte\\': \\'2022/04/01 00:00:00\\', \\'lte\\': \\'2022/06/30 23:59:59\\'}]}}}, \\'group\\': {\\'specialty name\\': [\\'FOP_SPECIALTY_NAME\\']}, \\'query_type\\': \\'aggregation\\', \\'db_type\\': \\'activity\\', \\'type\\': \\'transaction\\', \\'weight\\': 0.7133333333333333, \\'id\\': \\'leni_633b04ad96687f0001250001_fc799f2f2f234a76b72f8b8aa4470ee4_0\\', \\'trigger_forecast\\': True, \\'trend_present\\': False, \\'forecast_intent_present\\': False, \\'date_conf\\': \\'Latest Record Date\\', \\'dataset_id\\': \\'63510cd3c778a70001dae97a\\', \\'version\\': 69}]\\n[/MQL]</s>',\n",
       "  '<s>[INST]<<SYS>>\\nYou are an assistant that helps to map the user question to the a particular JSON format which contains info asked by user and also maps it the below CONTEXT. You might also need to act as a time tagger expert to convert the date elements present in the question to a standard format and to find possible date ranges for the same.\\n\\nCONTEXT:[{\\'action_derived_measure_label\\': \\'Growth Rate (in percentage)\\', \\'action_derived_measure\\': \\'profit\\'}, {\\'date\\': \\'AFS_SHIFT_DATE_START\\', \\'date_label\\': \\'Shift Date Start\\'}]\\n\\nStep 1: Identify the n-grams match between question and context\\n\\n        Map the n-gram or their lemma or their inflections from the question with the values in the passed context.\\n        Always consider the longest n-gram match, not the sub-string.\\n        If there are multiple matches for an n-gram with context, return all such ENTITY in response.\\n        If you are returning any match which is not exactly present with the context, make sure that it is a noun phrase and there is a high similarity between the match and the matched value in context. \\n\\n\\nStep 2: Applying time tagger rules only if time elements are present in question\\n\\n        Identify the TIME ELEMENTS in the input question and convert it to a standard format (if not already) by applying the general time tagging rules. If the TIME ELEMENT is already in a standard format, then no need to convert it.\\n        TIME ELEMENT can be either a temporal interval (across months, yoy, mom, qoq, wow, quarterly etc.) or a temporal expression (time points such as specific dates, relative expressions etc.).\\n        Calculate date range for each time points based on the following conditions:\\n        1. For relative time expressions, calculate the date range based on a reference date - By default the reference date is the end_date in date input: {\\'start_date\\': \\'01/01/2020\\', \\'end_date\\': \\'15/09/2023\\'}\\n        2. To calculate the date range for \"last X years\", strictly follow below conditions:\\n                For \"last 1 year\", consider exactly one year before the reference year and set start date as January 1 and end date as Decemebr 31 of that year.\\n                For \"last X years\", where X is greater than 1, consider starting year = (reference year - X+1) and set start date as January 1 of starting year and end date as the reference date.\\n        3. To calculate the date range for \"last X months\", strictly follow below conditions:\\n                Consider reference month as the month in reference date.\\n                For \"last 1 month\", consider exactly one month before the reference month and set start date as first day and end date as last day of that month.\\n                For \"last X months\", where X is greater than 1, consider starting month = (reference month - X+1) and set start date as first day of starting month and end date as the reference date. (Example: if reference date is 14/09/2022, then last 3 months = 01/07/2022 - 14/09/2022)\\n        4. To calculate the date range for \"last X quarters\", strictly follow below conditions:\\n                For \"last 1 quarter\", consider exactly one quarter before the reference quarter and set start date as first day and end date as last day of that quarter .\\n                For \"last X quarter\", where X is greater than 1, consider starting quarter = (reference quarter - X+1) and set start date as first day of starting quarter and end date as the reference date.\\n        5. To calculate the date range for \"last X weeks\", strictly follow the below conditions:\\n                Consider reference week as the week in reference week.\\n                For \"last 1 week\", set start date as Monday and end date as Sunday of the previous week of reference week. (Example: if reference date is 14/09/2022, then last week = 05/09/2022 - 11/09/2022)\\n                For \"last X weeks\", set start date as Monday of reference week and set start date as the Monday of that week and end date as reference date. \\n        6. Provide the date range of each time point in \"start date - end date\" format always.\\n\\n<</SYS>>\\nUser question is : what is weekly growth of profit in quarter3 2022\\n\\nConverted JSON is as shown below: \\n[/INST]\\n[MQL]\\n[{\\'date\\': {\\'2022\\': {\\'AFS_SHIFT_DATE_START\\': {\\'label\\': \\'Shift Date Start\\', \\'order\\': \\'asc\\', \\'operator\\': \\'histogram\\', \\'interval\\': \\'week\\'}}}, \\'action\\': {\\'derived_measure\\': {\\'growth\\': {\\'Growth Rate\\': {\\'label\\': \\'Growth Rate (in percentage)\\', \\'root_variables\\': [{\\'profit\\': {\\'PROFIT\\': {\\'label\\': \\'Profit in Dollars\\', \\'order\\': \\'desc\\', \\'operator\\': \\'sum\\', \\'AttributeType\\': \\'measure\\', \\'variable\\': \\'PROFIT\\'}}}], \\'operator\\': \\'sum\\', \\'order\\': \\'desc\\'}}}, \\'type\\': \\'derived_summarization\\', \\'start_date\\': \\'2020/01/01 00:00:00\\'}, \\'filter\\': {\\'and\\': {\\'range\\': {\\'2022\\': [{\\'gte\\': \\'2022/07/01 00:00:00\\', \\'lte\\': \\'2022/09/30 23:59:59\\'}]}}}, \\'query_type\\': \\'aggregation\\', \\'db_type\\': \\'activity\\', \\'type\\': \\'transaction\\', \\'weight\\': 0.6463768115942029, \\'id\\': \\'leni_633b04ad96687f0001250001_12f06d18b74e452e9239c6fad08e57f7_0\\', \\'trigger_forecast\\': True, \\'trend_present\\': True, \\'forecast_intent_present\\': False, \\'date_conf\\': \\'Latest Record Date\\', \\'dataset_id\\': \\'63510a2ec778a70001dae8de\\', \\'version\\': 69}]\\n[/MQL]</s>',\n",
       "  '<s>[INST]<<SYS>>\\nYou are an assistant that helps to map the user question to the a particular JSON format which contains info asked by user and also maps it the below CONTEXT. You might also need to act as a time tagger expert to convert the date elements present in the question to a standard format and to find possible date ranges for the same.\\n\\nCONTEXT:[{\\'measure\\': \\'PROFIT\\', \\'measure_label\\': \\'Profit in Dollars\\'}, {\\'date\\': \\'AFS_SHIFT_DATE_START\\', \\'date_label\\': \\'Shift Date Start\\'}]\\n\\nStep 1: Identify the n-grams match between question and context\\n\\n        Map the n-gram or their lemma or their inflections from the question with the values in the passed context.\\n        Always consider the longest n-gram match, not the sub-string.\\n        If there are multiple matches for an n-gram with context, return all such ENTITY in response.\\n        If you are returning any match which is not exactly present with the context, make sure that it is a noun phrase and there is a high similarity between the match and the matched value in context. \\n\\n\\nStep 2: Applying time tagger rules only if time elements are present in question\\n\\n        Identify the TIME ELEMENTS in the input question and convert it to a standard format (if not already) by applying the general time tagging rules. If the TIME ELEMENT is already in a standard format, then no need to convert it.\\n        TIME ELEMENT can be either a temporal interval (across months, yoy, mom, qoq, wow, quarterly etc.) or a temporal expression (time points such as specific dates, relative expressions etc.).\\n        Calculate date range for each time points based on the following conditions:\\n        1. For relative time expressions, calculate the date range based on a reference date - By default the reference date is the end_date in date input: {\\'start_date\\': \\'01/01/2020\\', \\'end_date\\': \\'15/09/2023\\'}\\n        2. To calculate the date range for \"last X years\", strictly follow below conditions:\\n                For \"last 1 year\", consider exactly one year before the reference year and set start date as January 1 and end date as Decemebr 31 of that year.\\n                For \"last X years\", where X is greater than 1, consider starting year = (reference year - X+1) and set start date as January 1 of starting year and end date as the reference date.\\n        3. To calculate the date range for \"last X months\", strictly follow below conditions:\\n                Consider reference month as the month in reference date.\\n                For \"last 1 month\", consider exactly one month before the reference month and set start date as first day and end date as last day of that month.\\n                For \"last X months\", where X is greater than 1, consider starting month = (reference month - X+1) and set start date as first day of starting month and end date as the reference date. (Example: if reference date is 14/09/2022, then last 3 months = 01/07/2022 - 14/09/2022)\\n        4. To calculate the date range for \"last X quarters\", strictly follow below conditions:\\n                For \"last 1 quarter\", consider exactly one quarter before the reference quarter and set start date as first day and end date as last day of that quarter .\\n                For \"last X quarter\", where X is greater than 1, consider starting quarter = (reference quarter - X+1) and set start date as first day of starting quarter and end date as the reference date.\\n        5. To calculate the date range for \"last X weeks\", strictly follow the below conditions:\\n                Consider reference week as the week in reference week.\\n                For \"last 1 week\", set start date as Monday and end date as Sunday of the previous week of reference week. (Example: if reference date is 14/09/2022, then last week = 05/09/2022 - 11/09/2022)\\n                For \"last X weeks\", set start date as Monday of reference week and set start date as the Monday of that week and end date as reference date. \\n        6. Provide the date range of each time point in \"start date - end date\" format always.\\n\\n<</SYS>>\\nUser question is : what will be profit in next 3 months\\n\\nConverted JSON is as shown below: \\n[/INST]\\n[MQL]\\n[{\\'measure\\': {\\'profit\\': {\\'PROFIT\\': {\\'label\\': \\'Profit in Dollars\\', \\'order\\': \\'desc\\', \\'operator\\': \\'sum\\'}}}, \\'date\\': {\\'next 3 months\\': {\\'AFS_SHIFT_DATE_START\\': {\\'label\\': \\'Shift Date Start\\', \\'order\\': \\'asc\\', \\'operator\\': \\'histogram\\', \\'interval\\': \\'month\\'}}}, \\'query_type\\': \\'aggregation\\', \\'db_type\\': \\'activity\\', \\'type\\': \\'transaction\\', \\'weight\\': 0.7625, \\'id\\': \\'leni_633b04ad96687f0001250001_d6ad70c282294d7c94949f88fac26dc1_0\\', \\'trigger_forecast\\': True, \\'filter\\': {\\'and\\': {\\'range\\': {\\'next 3 months\\': [{\\'gte\\': \\'2023/03/01 00:00:00\\', \\'lte\\': \\'2023/05/31 23:59:59\\'}]}}}, \\'trend_present\\': False, \\'forecast_intent_present\\': True, \\'date_conf\\': \\'Latest Record Date\\', \\'dataset_id\\': \\'63510a2ec778a70001dae8de\\', \\'version\\': 69}]\\n[/MQL]</s>',\n",
       "  '<s>[INST]<<SYS>>\\nYou are an assistant that helps to map the user question to the a particular JSON format which contains info asked by user and also maps it the below CONTEXT. You might also need to act as a time tagger expert to convert the date elements present in the question to a standard format and to find possible date ranges for the same.\\n\\nCONTEXT:[{\\'measure\\': \\'PROFIT\\', \\'measure_label\\': \\'Profit in Dollars\\'}, {\\'dimension\\': \\'AFS_TERRITORY_NAME\\', \\'dimension_label\\': \\'Territory Name\\'}, {\\'date\\': \\'AFS_SHIFT_DATE_START\\', \\'date_label\\': \\'Shift Date Start\\'}]\\n\\nStep 1: Identify the n-grams match between question and context\\n\\n        Map the n-gram or their lemma or their inflections from the question with the values in the passed context.\\n        Always consider the longest n-gram match, not the sub-string.\\n        If there are multiple matches for an n-gram with context, return all such ENTITY in response.\\n        If you are returning any match which is not exactly present with the context, make sure that it is a noun phrase and there is a high similarity between the match and the matched value in context. \\n\\n\\nStep 2: Applying time tagger rules only if time elements are present in question\\n\\n        Identify the TIME ELEMENTS in the input question and convert it to a standard format (if not already) by applying the general time tagging rules. If the TIME ELEMENT is already in a standard format, then no need to convert it.\\n        TIME ELEMENT can be either a temporal interval (across months, yoy, mom, qoq, wow, quarterly etc.) or a temporal expression (time points such as specific dates, relative expressions etc.).\\n        Calculate date range for each time points based on the following conditions:\\n        1. For relative time expressions, calculate the date range based on a reference date - By default the reference date is the end_date in date input: {\\'start_date\\': \\'01/01/2020\\', \\'end_date\\': \\'15/09/2023\\'}\\n        2. To calculate the date range for \"last X years\", strictly follow below conditions:\\n                For \"last 1 year\", consider exactly one year before the reference year and set start date as January 1 and end date as Decemebr 31 of that year.\\n                For \"last X years\", where X is greater than 1, consider starting year = (reference year - X+1) and set start date as January 1 of starting year and end date as the reference date.\\n        3. To calculate the date range for \"last X months\", strictly follow below conditions:\\n                Consider reference month as the month in reference date.\\n                For \"last 1 month\", consider exactly one month before the reference month and set start date as first day and end date as last day of that month.\\n                For \"last X months\", where X is greater than 1, consider starting month = (reference month - X+1) and set start date as first day of starting month and end date as the reference date. (Example: if reference date is 14/09/2022, then last 3 months = 01/07/2022 - 14/09/2022)\\n        4. To calculate the date range for \"last X quarters\", strictly follow below conditions:\\n                For \"last 1 quarter\", consider exactly one quarter before the reference quarter and set start date as first day and end date as last day of that quarter .\\n                For \"last X quarter\", where X is greater than 1, consider starting quarter = (reference quarter - X+1) and set start date as first day of starting quarter and end date as the reference date.\\n        5. To calculate the date range for \"last X weeks\", strictly follow the below conditions:\\n                Consider reference week as the week in reference week.\\n                For \"last 1 week\", set start date as Monday and end date as Sunday of the previous week of reference week. (Example: if reference date is 14/09/2022, then last week = 05/09/2022 - 11/09/2022)\\n                For \"last X weeks\", set start date as Monday of reference week and set start date as the Monday of that week and end date as reference date. \\n        6. Provide the date range of each time point in \"start date - end date\" format always.\\n\\n<</SYS>>\\nUser question is : why did profit decreased for midwest in feb 2022 for cna\\n\\nConverted JSON is as shown below: \\n[/INST]\\n[MQL]\\n[{\\'measure\\': {\\'profit\\': {\\'PROFIT\\': {\\'label\\': \\'Profit in Dollars\\', \\'order\\': \\'desc\\', \\'operator\\': \\'sum\\'}}}, \\'dimension\\': {\\'midwest\\': {\\'AFS_TERRITORY_NAME\\': {\\'label\\': \\'Territory Name\\', \\'order\\': \\'desc\\'}}, \\'cna\\': {\\'AFS_PROVIDER_SPECIALTY\\': {\\'label\\': \\'Provider Specialty\\', \\'order\\': \\'desc\\'}, \\'AFS_SHIFT_SPECIALTY\\': {\\'label\\': \\'Shift Specialty\\'}}}, \\'date\\': {\\'feb 2022\\': {\\'AFS_SHIFT_DATE_START\\': {\\'label\\': \\'Shift Date Start\\', \\'order\\': \\'asc\\', \\'operator\\': \\'range\\', \\'ranges\\': [{\\'from\\': \\'2022/02/01 00:00:00\\', \\'to\\': \\'2022/02/28 23:59:59\\'}, {\\'from\\': \\'2022/01/01 00:00:00\\', \\'to\\': \\'2022/01/31 23:59:59\\'}], \\'ref_interval\\': \\'month\\'}}}, \\'action\\': {\\'type\\': \\'why_type\\', \\'start_date\\': \\'2020/01/01 00:00:00\\'}, \\'filter\\': {\\'and\\': {\\'range\\': {\\'feb 2022\\': [{\\'gte\\': \\'2022/02/01 00:00:00\\', \\'lte\\': \\'2022/02/28 23:59:59\\'}, {\\'gte\\': \\'2022/01/01 00:00:00\\', \\'lte\\': \\'2022/01/31 23:59:59\\'}]}, \\'eq\\': {\\'midwest\\': {\\'AFS_TERRITORY_NAME\\': [\\'Midwest\\']}, \\'cna\\': {\\'AFS_SHIFT_SPECIALTY\\': [\\'CNA\\'], \\'AFS_PROVIDER_SPECIALTY\\': [\\'CNA\\']}}}}, \\'query_type\\': \\'aggregation\\', \\'db_type\\': \\'activity\\', \\'type\\': \\'transaction\\', \\'weight\\': 0.6784722222222221, \\'id\\': \\'leni_633b04ad96687f0001250001_c53b2c0808924bc09a87f8213ae81092_0\\', \\'trend_present\\': False, \\'forecast_intent_present\\': False, \\'date_conf\\': \\'Latest Record Date\\', \\'dataset_id\\': \\'63510a2ec778a70001dae8de\\', \\'version\\': 69}]\\n[/MQL]</s>',\n",
       "  '<s>[INST]<<SYS>>\\nYou are an assistant that helps to map the user question to the a particular JSON format which contains info asked by user and also maps it the below CONTEXT. You might also need to act as a time tagger expert to convert the date elements present in the question to a standard format and to find possible date ranges for the same.\\n\\nCONTEXT:[{\\'measure\\': \\'PROFIT\\', \\'measure_label\\': \\'Profit in Dollars\\'}, {\\'date\\': \\'AFS_SHIFT_DATE_START\\', \\'date_label\\': \\'Shift Date Start\\'}]\\n\\nStep 1: Identify the n-grams match between question and context\\n\\n        Map the n-gram or their lemma or their inflections from the question with the values in the passed context.\\n        Always consider the longest n-gram match, not the sub-string.\\n        If there are multiple matches for an n-gram with context, return all such ENTITY in response.\\n        If you are returning any match which is not exactly present with the context, make sure that it is a noun phrase and there is a high similarity between the match and the matched value in context. \\n\\n\\nStep 2: Applying time tagger rules only if time elements are present in question\\n\\n        Identify the TIME ELEMENTS in the input question and convert it to a standard format (if not already) by applying the general time tagging rules. If the TIME ELEMENT is already in a standard format, then no need to convert it.\\n        TIME ELEMENT can be either a temporal interval (across months, yoy, mom, qoq, wow, quarterly etc.) or a temporal expression (time points such as specific dates, relative expressions etc.).\\n        Calculate date range for each time points based on the following conditions:\\n        1. For relative time expressions, calculate the date range based on a reference date - By default the reference date is the end_date in date input: {\\'start_date\\': \\'01/01/2020\\', \\'end_date\\': \\'15/09/2023\\'}\\n        2. To calculate the date range for \"last X years\", strictly follow below conditions:\\n                For \"last 1 year\", consider exactly one year before the reference year and set start date as January 1 and end date as Decemebr 31 of that year.\\n                For \"last X years\", where X is greater than 1, consider starting year = (reference year - X+1) and set start date as January 1 of starting year and end date as the reference date.\\n        3. To calculate the date range for \"last X months\", strictly follow below conditions:\\n                Consider reference month as the month in reference date.\\n                For \"last 1 month\", consider exactly one month before the reference month and set start date as first day and end date as last day of that month.\\n                For \"last X months\", where X is greater than 1, consider starting month = (reference month - X+1) and set start date as first day of starting month and end date as the reference date. (Example: if reference date is 14/09/2022, then last 3 months = 01/07/2022 - 14/09/2022)\\n        4. To calculate the date range for \"last X quarters\", strictly follow below conditions:\\n                For \"last 1 quarter\", consider exactly one quarter before the reference quarter and set start date as first day and end date as last day of that quarter .\\n                For \"last X quarter\", where X is greater than 1, consider starting quarter = (reference quarter - X+1) and set start date as first day of starting quarter and end date as the reference date.\\n        5. To calculate the date range for \"last X weeks\", strictly follow the below conditions:\\n                Consider reference week as the week in reference week.\\n                For \"last 1 week\", set start date as Monday and end date as Sunday of the previous week of reference week. (Example: if reference date is 14/09/2022, then last week = 05/09/2022 - 11/09/2022)\\n                For \"last X weeks\", set start date as Monday of reference week and set start date as the Monday of that week and end date as reference date. \\n        6. Provide the date range of each time point in \"start date - end date\" format always.\\n\\n<</SYS>>\\nUser question is : monthly trend f profit\\n\\nConverted JSON is as shown below: \\n[/INST]\\n[MQL]\\n[{\\'measure\\': {\\'profit\\': {\\'PROFIT\\': {\\'label\\': \\'Profit in Dollars\\', \\'order\\': \\'desc\\', \\'operator\\': \\'sum\\'}}}, \\'date\\': {\\'monthly\\': {\\'AFS_SHIFT_DATE_START\\': {\\'label\\': \\'Shift Date Start\\', \\'order\\': \\'asc\\', \\'operator\\': \\'histogram\\', \\'interval\\': \\'month\\'}}}, \\'query_type\\': \\'aggregation\\', \\'db_type\\': \\'activity\\', \\'type\\': \\'transaction\\', \\'weight\\': 0.7133333333333333, \\'id\\': \\'leni_633b04ad96687f0001250001_95adf36da62148ec9c0e4849995cae2a_0\\', \\'trigger_forecast\\': False, \\'trend_present\\': True, \\'forecast_intent_present\\': False, \\'date_conf\\': \\'Latest Record Date\\', \\'dataset_id\\': \\'63510a2ec778a70001dae8de\\', \\'version\\': 69}]\\n[/MQL]</s>',\n",
       "  '<s>[INST]<<SYS>>\\nYou are an assistant that helps to map the user question to the a particular JSON format which contains info asked by user and also maps it the below CONTEXT. You might also need to act as a time tagger expert to convert the date elements present in the question to a standard format and to find possible date ranges for the same.\\n\\nCONTEXT:[{\\'action_derived_measure_label\\': \\'Correlation\\', \\'action_derived_measure\\': \\'profit\\'}]\\n\\nStep 1: Identify the n-grams match between question and context\\n\\n        Map the n-gram or their lemma or their inflections from the question with the values in the passed context.\\n        Always consider the longest n-gram match, not the sub-string.\\n        If there are multiple matches for an n-gram with context, return all such ENTITY in response.\\n        If you are returning any match which is not exactly present with the context, make sure that it is a noun phrase and there is a high similarity between the match and the matched value in context. \\n\\n\\nStep 2: Applying time tagger rules only if time elements are present in question\\n\\n        Identify the TIME ELEMENTS in the input question and convert it to a standard format (if not already) by applying the general time tagging rules. If the TIME ELEMENT is already in a standard format, then no need to convert it.\\n        TIME ELEMENT can be either a temporal interval (across months, yoy, mom, qoq, wow, quarterly etc.) or a temporal expression (time points such as specific dates, relative expressions etc.).\\n        Calculate date range for each time points based on the following conditions:\\n        1. For relative time expressions, calculate the date range based on a reference date - By default the reference date is the end_date in date input: {\\'start_date\\': \\'01/01/2020\\', \\'end_date\\': \\'15/09/2023\\'}\\n        2. To calculate the date range for \"last X years\", strictly follow below conditions:\\n                For \"last 1 year\", consider exactly one year before the reference year and set start date as January 1 and end date as Decemebr 31 of that year.\\n                For \"last X years\", where X is greater than 1, consider starting year = (reference year - X+1) and set start date as January 1 of starting year and end date as the reference date.\\n        3. To calculate the date range for \"last X months\", strictly follow below conditions:\\n                Consider reference month as the month in reference date.\\n                For \"last 1 month\", consider exactly one month before the reference month and set start date as first day and end date as last day of that month.\\n                For \"last X months\", where X is greater than 1, consider starting month = (reference month - X+1) and set start date as first day of starting month and end date as the reference date. (Example: if reference date is 14/09/2022, then last 3 months = 01/07/2022 - 14/09/2022)\\n        4. To calculate the date range for \"last X quarters\", strictly follow below conditions:\\n                For \"last 1 quarter\", consider exactly one quarter before the reference quarter and set start date as first day and end date as last day of that quarter .\\n                For \"last X quarter\", where X is greater than 1, consider starting quarter = (reference quarter - X+1) and set start date as first day of starting quarter and end date as the reference date.\\n        5. To calculate the date range for \"last X weeks\", strictly follow the below conditions:\\n                Consider reference week as the week in reference week.\\n                For \"last 1 week\", set start date as Monday and end date as Sunday of the previous week of reference week. (Example: if reference date is 14/09/2022, then last week = 05/09/2022 - 11/09/2022)\\n                For \"last X weeks\", set start date as Monday of reference week and set start date as the Monday of that week and end date as reference date. \\n        6. Provide the date range of each time point in \"start date - end date\" format always.\\n\\n<</SYS>>\\nUser question is : correlation of profit and number of providers\\n\\nConverted JSON is as shown below: \\n[/INST]\\n[MQL]\\n[{\\'action\\': {\\'derived_measure\\': {\\'correlation\\': {\\'correlation\\': {\\'label\\': \\'Correlation\\', \\'order\\': \\'desc\\', \\'root_variables\\': [{\\'profit\\': {\\'PROFIT\\': {\\'label\\': \\'Profit in Dollars\\', \\'order\\': \\'desc\\', \\'operator\\': \\'sum\\', \\'AttributeType\\': \\'measure\\', \\'variable\\': \\'PROFIT\\'}}}], \\'operator\\': \\'sum\\'}}}, \\'type\\': \\'stats\\', \\'start_date\\': \\'2020/01/01 00:00:00\\'}, \\'query_type\\': \\'aggregation\\', \\'db_type\\': \\'activity\\', \\'type\\': \\'transaction\\', \\'weight\\': 0.8, \\'id\\': \\'leni_633b04ad96687f0001250001_4b5cf2a1ade14cf79af923dc49d26348_0\\', \\'trigger_forecast\\': False, \\'filter\\': {\\'and\\': {}}, \\'trend_present\\': False, \\'forecast_intent_present\\': False, \\'date_conf\\': \\'Latest Record Date\\', \\'dataset_id\\': \\'63510a2ec778a70001dae8de\\', \\'version\\': 69}]\\n[/MQL]</s>',\n",
       "  '<s>[INST]<<SYS>>\\nYou are an assistant that helps to map the user question to the a particular JSON format which contains info asked by user and also maps it the below CONTEXT. You might also need to act as a time tagger expert to convert the date elements present in the question to a standard format and to find possible date ranges for the same.\\n\\nCONTEXT:[{\\'action_derived_measure_label\\': \\'Correlation\\', \\'action_derived_measure\\': \\'Number of Providers\\'}]\\n\\nStep 1: Identify the n-grams match between question and context\\n\\n        Map the n-gram or their lemma or their inflections from the question with the values in the passed context.\\n        Always consider the longest n-gram match, not the sub-string.\\n        If there are multiple matches for an n-gram with context, return all such ENTITY in response.\\n        If you are returning any match which is not exactly present with the context, make sure that it is a noun phrase and there is a high similarity between the match and the matched value in context. \\n\\n\\nStep 2: Applying time tagger rules only if time elements are present in question\\n\\n        Identify the TIME ELEMENTS in the input question and convert it to a standard format (if not already) by applying the general time tagging rules. If the TIME ELEMENT is already in a standard format, then no need to convert it.\\n        TIME ELEMENT can be either a temporal interval (across months, yoy, mom, qoq, wow, quarterly etc.) or a temporal expression (time points such as specific dates, relative expressions etc.).\\n        Calculate date range for each time points based on the following conditions:\\n        1. For relative time expressions, calculate the date range based on a reference date - By default the reference date is the end_date in date input: {\\'start_date\\': \\'01/01/2020\\', \\'end_date\\': \\'15/09/2023\\'}\\n        2. To calculate the date range for \"last X years\", strictly follow below conditions:\\n                For \"last 1 year\", consider exactly one year before the reference year and set start date as January 1 and end date as Decemebr 31 of that year.\\n                For \"last X years\", where X is greater than 1, consider starting year = (reference year - X+1) and set start date as January 1 of starting year and end date as the reference date.\\n        3. To calculate the date range for \"last X months\", strictly follow below conditions:\\n                Consider reference month as the month in reference date.\\n                For \"last 1 month\", consider exactly one month before the reference month and set start date as first day and end date as last day of that month.\\n                For \"last X months\", where X is greater than 1, consider starting month = (reference month - X+1) and set start date as first day of starting month and end date as the reference date. (Example: if reference date is 14/09/2022, then last 3 months = 01/07/2022 - 14/09/2022)\\n        4. To calculate the date range for \"last X quarters\", strictly follow below conditions:\\n                For \"last 1 quarter\", consider exactly one quarter before the reference quarter and set start date as first day and end date as last day of that quarter .\\n                For \"last X quarter\", where X is greater than 1, consider starting quarter = (reference quarter - X+1) and set start date as first day of starting quarter and end date as the reference date.\\n        5. To calculate the date range for \"last X weeks\", strictly follow the below conditions:\\n                Consider reference week as the week in reference week.\\n                For \"last 1 week\", set start date as Monday and end date as Sunday of the previous week of reference week. (Example: if reference date is 14/09/2022, then last week = 05/09/2022 - 11/09/2022)\\n                For \"last X weeks\", set start date as Monday of reference week and set start date as the Monday of that week and end date as reference date. \\n        6. Provide the date range of each time point in \"start date - end date\" format always.\\n\\n<</SYS>>\\nUser question is : correlation of profit and number of providers\\n\\nConverted JSON is as shown below: \\n[/INST]\\n[MQL]\\n[{\\'action\\': {\\'derived_measure\\': {\\'correlation\\': {\\'correlation\\': {\\'label\\': \\'Correlation\\', \\'order\\': \\'desc\\', \\'root_variables\\': [{\\'Number of Providers\\': {\\'Number of Providers\\': {\\'label\\': \\'Number of Providers\\', \\'order\\': \\'desc\\', \\'operator\\': \\'sum\\', \\'AttributeType\\': \\'measure\\', \\'variable\\': \\'Number of Providers\\'}}}], \\'operator\\': \\'sum\\'}}}, \\'type\\': \\'stats\\', \\'start_date\\': \\'2020/01/01 00:00:00\\'}, \\'query_type\\': \\'aggregation\\', \\'db_type\\': \\'activity\\', \\'type\\': \\'transaction\\', \\'weight\\': 0.8, \\'id\\': \\'leni_633b04ad96687f0001250001_5a768e75be9141a0b6f29fb0c6bfb5b9_0\\', \\'trigger_forecast\\': False, \\'filter\\': {\\'and\\': {}}, \\'trend_present\\': False, \\'forecast_intent_present\\': False, \\'date_conf\\': \\'Latest Record Date\\', \\'dataset_id\\': \\'636913a95537400001f02eee\\', \\'version\\': 69}]\\n[/MQL]</s>',\n",
       "  '<s>[INST]<<SYS>>\\nYou are an assistant that helps to map the user question to the a particular JSON format which contains info asked by user and also maps it the below CONTEXT. You might also need to act as a time tagger expert to convert the date elements present in the question to a standard format and to find possible date ranges for the same.\\n\\nCONTEXT:[{\\'action_derived_measure_label\\': \\'Correlation\\', \\'action_derived_measure\\': \\'profit\\'}]\\n\\nStep 1: Identify the n-grams match between question and context\\n\\n        Map the n-gram or their lemma or their inflections from the question with the values in the passed context.\\n        Always consider the longest n-gram match, not the sub-string.\\n        If there are multiple matches for an n-gram with context, return all such ENTITY in response.\\n        If you are returning any match which is not exactly present with the context, make sure that it is a noun phrase and there is a high similarity between the match and the matched value in context. \\n\\n\\nStep 2: Applying time tagger rules only if time elements are present in question\\n\\n        Identify the TIME ELEMENTS in the input question and convert it to a standard format (if not already) by applying the general time tagging rules. If the TIME ELEMENT is already in a standard format, then no need to convert it.\\n        TIME ELEMENT can be either a temporal interval (across months, yoy, mom, qoq, wow, quarterly etc.) or a temporal expression (time points such as specific dates, relative expressions etc.).\\n        Calculate date range for each time points based on the following conditions:\\n        1. For relative time expressions, calculate the date range based on a reference date - By default the reference date is the end_date in date input: {\\'start_date\\': \\'01/01/2020\\', \\'end_date\\': \\'15/09/2023\\'}\\n        2. To calculate the date range for \"last X years\", strictly follow below conditions:\\n                For \"last 1 year\", consider exactly one year before the reference year and set start date as January 1 and end date as Decemebr 31 of that year.\\n                For \"last X years\", where X is greater than 1, consider starting year = (reference year - X+1) and set start date as January 1 of starting year and end date as the reference date.\\n        3. To calculate the date range for \"last X months\", strictly follow below conditions:\\n                Consider reference month as the month in reference date.\\n                For \"last 1 month\", consider exactly one month before the reference month and set start date as first day and end date as last day of that month.\\n                For \"last X months\", where X is greater than 1, consider starting month = (reference month - X+1) and set start date as first day of starting month and end date as the reference date. (Example: if reference date is 14/09/2022, then last 3 months = 01/07/2022 - 14/09/2022)\\n        4. To calculate the date range for \"last X quarters\", strictly follow below conditions:\\n                For \"last 1 quarter\", consider exactly one quarter before the reference quarter and set start date as first day and end date as last day of that quarter .\\n                For \"last X quarter\", where X is greater than 1, consider starting quarter = (reference quarter - X+1) and set start date as first day of starting quarter and end date as the reference date.\\n        5. To calculate the date range for \"last X weeks\", strictly follow the below conditions:\\n                Consider reference week as the week in reference week.\\n                For \"last 1 week\", set start date as Monday and end date as Sunday of the previous week of reference week. (Example: if reference date is 14/09/2022, then last week = 05/09/2022 - 11/09/2022)\\n                For \"last X weeks\", set start date as Monday of reference week and set start date as the Monday of that week and end date as reference date. \\n        6. Provide the date range of each time point in \"start date - end date\" format always.\\n\\n<</SYS>>\\nUser question is : correlation of profit and number of facilities\\n\\nConverted JSON is as shown below: \\n[/INST]\\n[MQL]\\n[{\\'action\\': {\\'derived_measure\\': {\\'correlation\\': {\\'correlation\\': {\\'label\\': \\'Correlation\\', \\'order\\': \\'desc\\', \\'root_variables\\': [{\\'profit\\': {\\'PROFIT\\': {\\'label\\': \\'Profit in Dollars\\', \\'order\\': \\'desc\\', \\'operator\\': \\'sum\\', \\'AttributeType\\': \\'measure\\', \\'variable\\': \\'PROFIT\\'}}}], \\'operator\\': \\'sum\\'}}}, \\'type\\': \\'stats\\', \\'start_date\\': \\'2020/01/01 00:00:00\\'}, \\'query_type\\': \\'aggregation\\', \\'db_type\\': \\'activity\\', \\'type\\': \\'transaction\\', \\'weight\\': 0.8, \\'id\\': \\'leni_633b04ad96687f0001250001_be80c7aaa91a482abdc2927fbf11b9f5_0\\', \\'trigger_forecast\\': False, \\'filter\\': {\\'and\\': {}}, \\'trend_present\\': False, \\'forecast_intent_present\\': False, \\'date_conf\\': \\'Latest Record Date\\', \\'dataset_id\\': \\'63510a2ec778a70001dae8de\\', \\'version\\': 69}]\\n[/MQL]</s>',\n",
       "  '<s>[INST]<<SYS>>\\nYou are an assistant that helps to map the user question to the a particular JSON format which contains info asked by user and also maps it the below CONTEXT. You might also need to act as a time tagger expert to convert the date elements present in the question to a standard format and to find possible date ranges for the same.\\n\\nCONTEXT:[{\\'action_derived_measure_label\\': \\'Correlation\\', \\'action_derived_measure\\': \\'Number of Facility\\'}]\\n\\nStep 1: Identify the n-grams match between question and context\\n\\n        Map the n-gram or their lemma or their inflections from the question with the values in the passed context.\\n        Always consider the longest n-gram match, not the sub-string.\\n        If there are multiple matches for an n-gram with context, return all such ENTITY in response.\\n        If you are returning any match which is not exactly present with the context, make sure that it is a noun phrase and there is a high similarity between the match and the matched value in context. \\n\\n\\nStep 2: Applying time tagger rules only if time elements are present in question\\n\\n        Identify the TIME ELEMENTS in the input question and convert it to a standard format (if not already) by applying the general time tagging rules. If the TIME ELEMENT is already in a standard format, then no need to convert it.\\n        TIME ELEMENT can be either a temporal interval (across months, yoy, mom, qoq, wow, quarterly etc.) or a temporal expression (time points such as specific dates, relative expressions etc.).\\n        Calculate date range for each time points based on the following conditions:\\n        1. For relative time expressions, calculate the date range based on a reference date - By default the reference date is the end_date in date input: {\\'start_date\\': \\'01/01/2020\\', \\'end_date\\': \\'15/09/2023\\'}\\n        2. To calculate the date range for \"last X years\", strictly follow below conditions:\\n                For \"last 1 year\", consider exactly one year before the reference year and set start date as January 1 and end date as Decemebr 31 of that year.\\n                For \"last X years\", where X is greater than 1, consider starting year = (reference year - X+1) and set start date as January 1 of starting year and end date as the reference date.\\n        3. To calculate the date range for \"last X months\", strictly follow below conditions:\\n                Consider reference month as the month in reference date.\\n                For \"last 1 month\", consider exactly one month before the reference month and set start date as first day and end date as last day of that month.\\n                For \"last X months\", where X is greater than 1, consider starting month = (reference month - X+1) and set start date as first day of starting month and end date as the reference date. (Example: if reference date is 14/09/2022, then last 3 months = 01/07/2022 - 14/09/2022)\\n        4. To calculate the date range for \"last X quarters\", strictly follow below conditions:\\n                For \"last 1 quarter\", consider exactly one quarter before the reference quarter and set start date as first day and end date as last day of that quarter .\\n                For \"last X quarter\", where X is greater than 1, consider starting quarter = (reference quarter - X+1) and set start date as first day of starting quarter and end date as the reference date.\\n        5. To calculate the date range for \"last X weeks\", strictly follow the below conditions:\\n                Consider reference week as the week in reference week.\\n                For \"last 1 week\", set start date as Monday and end date as Sunday of the previous week of reference week. (Example: if reference date is 14/09/2022, then last week = 05/09/2022 - 11/09/2022)\\n                For \"last X weeks\", set start date as Monday of reference week and set start date as the Monday of that week and end date as reference date. \\n        6. Provide the date range of each time point in \"start date - end date\" format always.\\n\\n<</SYS>>\\nUser question is : correlation of profit and number of facilities\\n\\nConverted JSON is as shown below: \\n[/INST]\\n[MQL]\\n[{\\'action\\': {\\'derived_measure\\': {\\'correlation\\': {\\'correlation\\': {\\'label\\': \\'Correlation\\', \\'order\\': \\'desc\\', \\'root_variables\\': [{\\'Number of Facility\\': {\\'Number of Facility\\': {\\'label\\': \\'Number of Facility\\', \\'order\\': \\'desc\\', \\'operator\\': \\'sum\\', \\'AttributeType\\': \\'measure\\', \\'variable\\': \\'Number of Facility\\'}}}], \\'operator\\': \\'sum\\'}}}, \\'type\\': \\'stats\\', \\'start_date\\': \\'2020/01/01 00:00:00\\'}, \\'query_type\\': \\'aggregation\\', \\'db_type\\': \\'activity\\', \\'type\\': \\'transaction\\', \\'weight\\': 0.8, \\'id\\': \\'leni_633b04ad96687f0001250001_b26773a1195c47f185f77d0e8bf9bf3c_0\\', \\'trigger_forecast\\': False, \\'filter\\': {\\'and\\': {}}, \\'trend_present\\': False, \\'forecast_intent_present\\': False, \\'date_conf\\': \\'Latest Record Date\\', \\'dataset_id\\': \\'6369164ba992e7000164f592\\', \\'version\\': 69}]\\n[/MQL]</s>',\n",
       "  '<s>[INST]<<SYS>>\\nYou are an assistant that helps to map the user question to the a particular JSON format which contains info asked by user and also maps it the below CONTEXT. You might also need to act as a time tagger expert to convert the date elements present in the question to a standard format and to find possible date ranges for the same.\\n\\nCONTEXT:[{\\'action_derived_measure_label\\': \\'Number of Facility\\', \\'action_derived_measure\\': None}, {\\'date\\': \\'FFP_CREATED_AT\\', \\'date_label\\': \\'Created At\\'}]\\n\\nStep 1: Identify the n-grams match between question and context\\n\\n        Map the n-gram or their lemma or their inflections from the question with the values in the passed context.\\n        Always consider the longest n-gram match, not the sub-string.\\n        If there are multiple matches for an n-gram with context, return all such ENTITY in response.\\n        If you are returning any match which is not exactly present with the context, make sure that it is a noun phrase and there is a high similarity between the match and the matched value in context. \\n\\n\\nStep 2: Applying time tagger rules only if time elements are present in question\\n\\n        Identify the TIME ELEMENTS in the input question and convert it to a standard format (if not already) by applying the general time tagging rules. If the TIME ELEMENT is already in a standard format, then no need to convert it.\\n        TIME ELEMENT can be either a temporal interval (across months, yoy, mom, qoq, wow, quarterly etc.) or a temporal expression (time points such as specific dates, relative expressions etc.).\\n        Calculate date range for each time points based on the following conditions:\\n        1. For relative time expressions, calculate the date range based on a reference date - By default the reference date is the end_date in date input: {\\'start_date\\': \\'01/01/2020\\', \\'end_date\\': \\'15/09/2023\\'}\\n        2. To calculate the date range for \"last X years\", strictly follow below conditions:\\n                For \"last 1 year\", consider exactly one year before the reference year and set start date as January 1 and end date as Decemebr 31 of that year.\\n                For \"last X years\", where X is greater than 1, consider starting year = (reference year - X+1) and set start date as January 1 of starting year and end date as the reference date.\\n        3. To calculate the date range for \"last X months\", strictly follow below conditions:\\n                Consider reference month as the month in reference date.\\n                For \"last 1 month\", consider exactly one month before the reference month and set start date as first day and end date as last day of that month.\\n                For \"last X months\", where X is greater than 1, consider starting month = (reference month - X+1) and set start date as first day of starting month and end date as the reference date. (Example: if reference date is 14/09/2022, then last 3 months = 01/07/2022 - 14/09/2022)\\n        4. To calculate the date range for \"last X quarters\", strictly follow below conditions:\\n                For \"last 1 quarter\", consider exactly one quarter before the reference quarter and set start date as first day and end date as last day of that quarter .\\n                For \"last X quarter\", where X is greater than 1, consider starting quarter = (reference quarter - X+1) and set start date as first day of starting quarter and end date as the reference date.\\n        5. To calculate the date range for \"last X weeks\", strictly follow the below conditions:\\n                Consider reference week as the week in reference week.\\n                For \"last 1 week\", set start date as Monday and end date as Sunday of the previous week of reference week. (Example: if reference date is 14/09/2022, then last week = 05/09/2022 - 11/09/2022)\\n                For \"last X weeks\", set start date as Monday of reference week and set start date as the Monday of that week and end date as reference date. \\n        6. Provide the date range of each time point in \"start date - end date\" format always.\\n\\n<</SYS>>\\nUser question is : trend of number of facilities\\n\\nConverted JSON is as shown below: \\n[/INST]\\n[MQL]\\n[{\\'date\\': {\\'trend\\': {\\'FFP_CREATED_AT\\': {\\'label\\': \\'Created At\\', \\'operator\\': \\'histogram\\', \\'interval\\': \\'month\\', \\'order\\': \\'asc\\'}}}, \\'action\\': {\\'derived_measure\\': {\\'number of facilities\\': {\\'Number of Facility\\': {\\'label\\': \\'Number of Facility\\', \\'order\\': \\'desc\\', \\'operator\\': \\'sum\\', \\'root_variables\\': []}}}, \\'type\\': \\'derived_summarization\\', \\'start_date\\': \\'2020/01/01 00:00:00\\'}, \\'query_type\\': \\'aggregation\\', \\'db_type\\': \\'activity\\', \\'type\\': \\'transaction\\', \\'weight\\': 0.8, \\'id\\': \\'leni_633b04ad96687f0001250001_b95ddc05a4e344e5bc94c43ce8109920_0\\', \\'trigger_forecast\\': False, \\'trend_present\\': True, \\'forecast_intent_present\\': False, \\'date_conf\\': \\'Latest Record Date\\', \\'dataset_id\\': \\'6369164ba992e7000164f592\\', \\'version\\': 69}]\\n[/MQL]</s>',\n",
       "  '<s>[INST]<<SYS>>\\nYou are an assistant that helps to map the user question to the a particular JSON format which contains info asked by user and also maps it the below CONTEXT. You might also need to act as a time tagger expert to convert the date elements present in the question to a standard format and to find possible date ranges for the same.\\n\\nCONTEXT:[{\\'measure\\': \\'PROFIT\\', \\'measure_label\\': \\'Profit in Dollars\\'}, {\\'date\\': \\'AFS_SHIFT_DATE_START\\', \\'date_label\\': \\'Shift Date Start\\'}]\\n\\nStep 1: Identify the n-grams match between question and context\\n\\n        Map the n-gram or their lemma or their inflections from the question with the values in the passed context.\\n        Always consider the longest n-gram match, not the sub-string.\\n        If there are multiple matches for an n-gram with context, return all such ENTITY in response.\\n        If you are returning any match which is not exactly present with the context, make sure that it is a noun phrase and there is a high similarity between the match and the matched value in context. \\n\\n\\nStep 2: Applying time tagger rules only if time elements are present in question\\n\\n        Identify the TIME ELEMENTS in the input question and convert it to a standard format (if not already) by applying the general time tagging rules. If the TIME ELEMENT is already in a standard format, then no need to convert it.\\n        TIME ELEMENT can be either a temporal interval (across months, yoy, mom, qoq, wow, quarterly etc.) or a temporal expression (time points such as specific dates, relative expressions etc.).\\n        Calculate date range for each time points based on the following conditions:\\n        1. For relative time expressions, calculate the date range based on a reference date - By default the reference date is the end_date in date input: {\\'start_date\\': \\'01/01/2020\\', \\'end_date\\': \\'15/09/2023\\'}\\n        2. To calculate the date range for \"last X years\", strictly follow below conditions:\\n                For \"last 1 year\", consider exactly one year before the reference year and set start date as January 1 and end date as Decemebr 31 of that year.\\n                For \"last X years\", where X is greater than 1, consider starting year = (reference year - X+1) and set start date as January 1 of starting year and end date as the reference date.\\n        3. To calculate the date range for \"last X months\", strictly follow below conditions:\\n                Consider reference month as the month in reference date.\\n                For \"last 1 month\", consider exactly one month before the reference month and set start date as first day and end date as last day of that month.\\n                For \"last X months\", where X is greater than 1, consider starting month = (reference month - X+1) and set start date as first day of starting month and end date as the reference date. (Example: if reference date is 14/09/2022, then last 3 months = 01/07/2022 - 14/09/2022)\\n        4. To calculate the date range for \"last X quarters\", strictly follow below conditions:\\n                For \"last 1 quarter\", consider exactly one quarter before the reference quarter and set start date as first day and end date as last day of that quarter .\\n                For \"last X quarter\", where X is greater than 1, consider starting quarter = (reference quarter - X+1) and set start date as first day of starting quarter and end date as the reference date.\\n        5. To calculate the date range for \"last X weeks\", strictly follow the below conditions:\\n                Consider reference week as the week in reference week.\\n                For \"last 1 week\", set start date as Monday and end date as Sunday of the previous week of reference week. (Example: if reference date is 14/09/2022, then last week = 05/09/2022 - 11/09/2022)\\n                For \"last X weeks\", set start date as Monday of reference week and set start date as the Monday of that week and end date as reference date. \\n        6. Provide the date range of each time point in \"start date - end date\" format always.\\n\\n<</SYS>>\\nUser question is : trend of number of profit\\n\\nConverted JSON is as shown below: \\n[/INST]\\n[MQL]\\n[{\\'measure\\': {\\'profit\\': {\\'PROFIT\\': {\\'label\\': \\'Profit in Dollars\\', \\'order\\': \\'desc\\', \\'operator\\': \\'sum\\'}}}, \\'date\\': {\\'trend\\': {\\'AFS_SHIFT_DATE_START\\': {\\'label\\': \\'Shift Date Start\\', \\'operator\\': \\'histogram\\', \\'interval\\': \\'month\\', \\'order\\': \\'asc\\'}}}, \\'query_type\\': \\'aggregation\\', \\'db_type\\': \\'activity\\', \\'type\\': \\'transaction\\', \\'weight\\': 0.8, \\'id\\': \\'leni_633b04ad96687f0001250001_275e653738a748f0b53685ca061af41a_0\\', \\'trigger_forecast\\': False, \\'trend_present\\': True, \\'forecast_intent_present\\': False, \\'date_conf\\': \\'Latest Record Date\\', \\'dataset_id\\': \\'63510a2ec778a70001dae8de\\', \\'version\\': 69}]\\n[/MQL]</s>',\n",
       "  '<s>[INST]<<SYS>>\\nYou are an assistant that helps to map the user question to the a particular JSON format which contains info asked by user and also maps it the below CONTEXT. You might also need to act as a time tagger expert to convert the date elements present in the question to a standard format and to find possible date ranges for the same.\\n\\nCONTEXT:[{\\'measure\\': \\'PROFIT\\', \\'measure_label\\': \\'Profit in Dollars\\'}, {\\'date\\': \\'AFS_SHIFT_DATE_START\\', \\'date_label\\': \\'Shift Date Start\\'}]\\n\\nStep 1: Identify the n-grams match between question and context\\n\\n        Map the n-gram or their lemma or their inflections from the question with the values in the passed context.\\n        Always consider the longest n-gram match, not the sub-string.\\n        If there are multiple matches for an n-gram with context, return all such ENTITY in response.\\n        If you are returning any match which is not exactly present with the context, make sure that it is a noun phrase and there is a high similarity between the match and the matched value in context. \\n\\n\\nStep 2: Applying time tagger rules only if time elements are present in question\\n\\n        Identify the TIME ELEMENTS in the input question and convert it to a standard format (if not already) by applying the general time tagging rules. If the TIME ELEMENT is already in a standard format, then no need to convert it.\\n        TIME ELEMENT can be either a temporal interval (across months, yoy, mom, qoq, wow, quarterly etc.) or a temporal expression (time points such as specific dates, relative expressions etc.).\\n        Calculate date range for each time points based on the following conditions:\\n        1. For relative time expressions, calculate the date range based on a reference date - By default the reference date is the end_date in date input: {\\'start_date\\': \\'01/01/2020\\', \\'end_date\\': \\'15/09/2023\\'}\\n        2. To calculate the date range for \"last X years\", strictly follow below conditions:\\n                For \"last 1 year\", consider exactly one year before the reference year and set start date as January 1 and end date as Decemebr 31 of that year.\\n                For \"last X years\", where X is greater than 1, consider starting year = (reference year - X+1) and set start date as January 1 of starting year and end date as the reference date.\\n        3. To calculate the date range for \"last X months\", strictly follow below conditions:\\n                Consider reference month as the month in reference date.\\n                For \"last 1 month\", consider exactly one month before the reference month and set start date as first day and end date as last day of that month.\\n                For \"last X months\", where X is greater than 1, consider starting month = (reference month - X+1) and set start date as first day of starting month and end date as the reference date. (Example: if reference date is 14/09/2022, then last 3 months = 01/07/2022 - 14/09/2022)\\n        4. To calculate the date range for \"last X quarters\", strictly follow below conditions:\\n                For \"last 1 quarter\", consider exactly one quarter before the reference quarter and set start date as first day and end date as last day of that quarter .\\n                For \"last X quarter\", where X is greater than 1, consider starting quarter = (reference quarter - X+1) and set start date as first day of starting quarter and end date as the reference date.\\n        5. To calculate the date range for \"last X weeks\", strictly follow the below conditions:\\n                Consider reference week as the week in reference week.\\n                For \"last 1 week\", set start date as Monday and end date as Sunday of the previous week of reference week. (Example: if reference date is 14/09/2022, then last week = 05/09/2022 - 11/09/2022)\\n                For \"last X weeks\", set start date as Monday of reference week and set start date as the Monday of that week and end date as reference date. \\n        6. Provide the date range of each time point in \"start date - end date\" format always.\\n\\n<</SYS>>\\nUser question is : what is profit till date\\n\\nConverted JSON is as shown below: \\n[/INST]\\n[MQL]\\n[{\\'measure\\': {\\'profit\\': {\\'PROFIT\\': {\\'label\\': \\'Profit in Dollars\\', \\'order\\': \\'desc\\', \\'operator\\': \\'sum\\'}}}, \\'date\\': {\\'date\\': {\\'AFS_SHIFT_DATE_START\\': {\\'label\\': \\'Shift Date Start\\', \\'operator\\': \\'histogram\\', \\'interval\\': \\'month\\', \\'order\\': \\'asc\\'}}}, \\'query_type\\': \\'aggregation\\', \\'db_type\\': \\'activity\\', \\'type\\': \\'transaction\\', \\'weight\\': 0.8, \\'id\\': \\'leni_633b04ad96687f0001250001_b042229b09fd4c52a61d6e52e41b6034_0\\', \\'trigger_forecast\\': False, \\'trend_present\\': False, \\'forecast_intent_present\\': False, \\'date_conf\\': \\'Latest Record Date\\', \\'dataset_id\\': \\'63510a2ec778a70001dae8de\\', \\'version\\': 69}]\\n[/MQL]</s>',\n",
       "  '<s>[INST]<<SYS>>\\nYou are an assistant that helps to map the user question to the a particular JSON format which contains info asked by user and also maps it the below CONTEXT. You might also need to act as a time tagger expert to convert the date elements present in the question to a standard format and to find possible date ranges for the same.\\n\\nCONTEXT:[{\\'measure\\': \\'PROFIT\\', \\'measure_label\\': \\'Profit in Dollars\\'}, {\\'date\\': \\'AFS_SHIFT_DATE_START\\', \\'date_label\\': \\'Shift Date Start\\'}]\\n\\nStep 1: Identify the n-grams match between question and context\\n\\n        Map the n-gram or their lemma or their inflections from the question with the values in the passed context.\\n        Always consider the longest n-gram match, not the sub-string.\\n        If there are multiple matches for an n-gram with context, return all such ENTITY in response.\\n        If you are returning any match which is not exactly present with the context, make sure that it is a noun phrase and there is a high similarity between the match and the matched value in context. \\n\\n\\nStep 2: Applying time tagger rules only if time elements are present in question\\n\\n        Identify the TIME ELEMENTS in the input question and convert it to a standard format (if not already) by applying the general time tagging rules. If the TIME ELEMENT is already in a standard format, then no need to convert it.\\n        TIME ELEMENT can be either a temporal interval (across months, yoy, mom, qoq, wow, quarterly etc.) or a temporal expression (time points such as specific dates, relative expressions etc.).\\n        Calculate date range for each time points based on the following conditions:\\n        1. For relative time expressions, calculate the date range based on a reference date - By default the reference date is the end_date in date input: {\\'start_date\\': \\'01/01/2020\\', \\'end_date\\': \\'15/09/2023\\'}\\n        2. To calculate the date range for \"last X years\", strictly follow below conditions:\\n                For \"last 1 year\", consider exactly one year before the reference year and set start date as January 1 and end date as Decemebr 31 of that year.\\n                For \"last X years\", where X is greater than 1, consider starting year = (reference year - X+1) and set start date as January 1 of starting year and end date as the reference date.\\n        3. To calculate the date range for \"last X months\", strictly follow below conditions:\\n                Consider reference month as the month in reference date.\\n                For \"last 1 month\", consider exactly one month before the reference month and set start date as first day and end date as last day of that month.\\n                For \"last X months\", where X is greater than 1, consider starting month = (reference month - X+1) and set start date as first day of starting month and end date as the reference date. (Example: if reference date is 14/09/2022, then last 3 months = 01/07/2022 - 14/09/2022)\\n        4. To calculate the date range for \"last X quarters\", strictly follow below conditions:\\n                For \"last 1 quarter\", consider exactly one quarter before the reference quarter and set start date as first day and end date as last day of that quarter .\\n                For \"last X quarter\", where X is greater than 1, consider starting quarter = (reference quarter - X+1) and set start date as first day of starting quarter and end date as the reference date.\\n        5. To calculate the date range for \"last X weeks\", strictly follow the below conditions:\\n                Consider reference week as the week in reference week.\\n                For \"last 1 week\", set start date as Monday and end date as Sunday of the previous week of reference week. (Example: if reference date is 14/09/2022, then last week = 05/09/2022 - 11/09/2022)\\n                For \"last X weeks\", set start date as Monday of reference week and set start date as the Monday of that week and end date as reference date. \\n        6. Provide the date range of each time point in \"start date - end date\" format always.\\n\\n<</SYS>>\\nUser question is : what is profit\\n\\nConverted JSON is as shown below: \\n[/INST]\\n[MQL]\\n[{\\'measure\\': {\\'profit\\': {\\'PROFIT\\': {\\'label\\': \\'Profit in Dollars\\', \\'order\\': \\'desc\\', \\'operator\\': \\'sum\\'}}}, \\'query_type\\': \\'aggregation\\', \\'db_type\\': \\'activity\\', \\'type\\': \\'transaction\\', \\'weight\\': 0.8666666666666667, \\'id\\': \\'leni_633b04ad96687f0001250001_4805bb0a23bd425cbe5839fccee8c359_0\\', \\'trigger_forecast\\': True, \\'date\\': {\\'default time\\': {\\'AFS_SHIFT_DATE_START\\': {\\'label\\': \\'Shift Date Start\\', \\'order\\': \\'asc\\', \\'interval\\': \\'month\\', \\'operator\\': \\'histogram\\'}}}, \\'filter\\': {\\'and\\': {\\'range\\': {\\'default time\\': [{\\'gte\\': \\'2023/02/01 00:00:00\\', \\'lte\\': \\'2023/02/07 23:59:59\\'}]}}}, \\'trend_present\\': False, \\'forecast_intent_present\\': False, \\'date_conf\\': \\'Latest Record Date\\', \\'dataset_id\\': \\'63510a2ec778a70001dae8de\\', \\'version\\': 69}]\\n[/MQL]</s>',\n",
       "  '<s>[INST]<<SYS>>\\nYou are an assistant that helps to map the user question to the a particular JSON format which contains info asked by user and also maps it the below CONTEXT. You might also need to act as a time tagger expert to convert the date elements present in the question to a standard format and to find possible date ranges for the same.\\n\\nCONTEXT:[{\\'measure\\': \\'PROFIT\\', \\'measure_label\\': \\'Profit in Dollars\\'}, {\\'date\\': \\'AFS_SHIFT_DATE_START\\', \\'date_label\\': \\'Shift Date Start\\'}]\\n\\nStep 1: Identify the n-grams match between question and context\\n\\n        Map the n-gram or their lemma or their inflections from the question with the values in the passed context.\\n        Always consider the longest n-gram match, not the sub-string.\\n        If there are multiple matches for an n-gram with context, return all such ENTITY in response.\\n        If you are returning any match which is not exactly present with the context, make sure that it is a noun phrase and there is a high similarity between the match and the matched value in context. \\n\\n\\nStep 2: Applying time tagger rules only if time elements are present in question\\n\\n        Identify the TIME ELEMENTS in the input question and convert it to a standard format (if not already) by applying the general time tagging rules. If the TIME ELEMENT is already in a standard format, then no need to convert it.\\n        TIME ELEMENT can be either a temporal interval (across months, yoy, mom, qoq, wow, quarterly etc.) or a temporal expression (time points such as specific dates, relative expressions etc.).\\n        Calculate date range for each time points based on the following conditions:\\n        1. For relative time expressions, calculate the date range based on a reference date - By default the reference date is the end_date in date input: {\\'start_date\\': \\'01/01/2020\\', \\'end_date\\': \\'15/09/2023\\'}\\n        2. To calculate the date range for \"last X years\", strictly follow below conditions:\\n                For \"last 1 year\", consider exactly one year before the reference year and set start date as January 1 and end date as Decemebr 31 of that year.\\n                For \"last X years\", where X is greater than 1, consider starting year = (reference year - X+1) and set start date as January 1 of starting year and end date as the reference date.\\n        3. To calculate the date range for \"last X months\", strictly follow below conditions:\\n                Consider reference month as the month in reference date.\\n                For \"last 1 month\", consider exactly one month before the reference month and set start date as first day and end date as last day of that month.\\n                For \"last X months\", where X is greater than 1, consider starting month = (reference month - X+1) and set start date as first day of starting month and end date as the reference date. (Example: if reference date is 14/09/2022, then last 3 months = 01/07/2022 - 14/09/2022)\\n        4. To calculate the date range for \"last X quarters\", strictly follow below conditions:\\n                For \"last 1 quarter\", consider exactly one quarter before the reference quarter and set start date as first day and end date as last day of that quarter .\\n                For \"last X quarter\", where X is greater than 1, consider starting quarter = (reference quarter - X+1) and set start date as first day of starting quarter and end date as the reference date.\\n        5. To calculate the date range for \"last X weeks\", strictly follow the below conditions:\\n                Consider reference week as the week in reference week.\\n                For \"last 1 week\", set start date as Monday and end date as Sunday of the previous week of reference week. (Example: if reference date is 14/09/2022, then last week = 05/09/2022 - 11/09/2022)\\n                For \"last X weeks\", set start date as Monday of reference week and set start date as the Monday of that week and end date as reference date. \\n        6. Provide the date range of each time point in \"start date - end date\" format always.\\n\\n<</SYS>>\\nUser question is : what is profit in 2022\\n\\nConverted JSON is as shown below: \\n[/INST]\\n[MQL]\\n[{\\'measure\\': {\\'profit\\': {\\'PROFIT\\': {\\'label\\': \\'Profit in Dollars\\', \\'order\\': \\'desc\\', \\'operator\\': \\'sum\\'}}}, \\'date\\': {\\'2022\\': {\\'AFS_SHIFT_DATE_START\\': {\\'label\\': \\'Shift Date Start\\', \\'order\\': \\'asc\\', \\'interval\\': \\'year\\', \\'operator\\': \\'histogram\\'}}}, \\'filter\\': {\\'and\\': {\\'range\\': {\\'2022\\': [{\\'gte\\': \\'2022/01/01 00:00:00\\', \\'lte\\': \\'2022/12/31 23:59:59\\'}]}}}, \\'query_type\\': \\'aggregation\\', \\'db_type\\': \\'activity\\', \\'type\\': \\'transaction\\', \\'weight\\': 0.7125, \\'id\\': \\'leni_633b04ad96687f0001250001_a06aab82fa7447b98f7f64766c23df0c_0\\', \\'trigger_forecast\\': True, \\'trend_present\\': False, \\'forecast_intent_present\\': False, \\'date_conf\\': \\'Latest Record Date\\', \\'dataset_id\\': \\'63510a2ec778a70001dae8de\\', \\'version\\': 69}]\\n[/MQL]</s>',\n",
       "  '<s>[INST]<<SYS>>\\nYou are an assistant that helps to map the user question to the a particular JSON format which contains info asked by user and also maps it the below CONTEXT. You might also need to act as a time tagger expert to convert the date elements present in the question to a standard format and to find possible date ranges for the same.\\n\\nCONTEXT:[{\\'action_derived_measure_label\\': \\'Correlation\\', \\'action_derived_measure\\': \\'Requested Hours\\'}]\\n\\nStep 1: Identify the n-grams match between question and context\\n\\n        Map the n-gram or their lemma or their inflections from the question with the values in the passed context.\\n        Always consider the longest n-gram match, not the sub-string.\\n        If there are multiple matches for an n-gram with context, return all such ENTITY in response.\\n        If you are returning any match which is not exactly present with the context, make sure that it is a noun phrase and there is a high similarity between the match and the matched value in context. \\n\\n\\nStep 2: Applying time tagger rules only if time elements are present in question\\n\\n        Identify the TIME ELEMENTS in the input question and convert it to a standard format (if not already) by applying the general time tagging rules. If the TIME ELEMENT is already in a standard format, then no need to convert it.\\n        TIME ELEMENT can be either a temporal interval (across months, yoy, mom, qoq, wow, quarterly etc.) or a temporal expression (time points such as specific dates, relative expressions etc.).\\n        Calculate date range for each time points based on the following conditions:\\n        1. For relative time expressions, calculate the date range based on a reference date - By default the reference date is the end_date in date input: {\\'start_date\\': \\'01/01/2020\\', \\'end_date\\': \\'15/09/2023\\'}\\n        2. To calculate the date range for \"last X years\", strictly follow below conditions:\\n                For \"last 1 year\", consider exactly one year before the reference year and set start date as January 1 and end date as Decemebr 31 of that year.\\n                For \"last X years\", where X is greater than 1, consider starting year = (reference year - X+1) and set start date as January 1 of starting year and end date as the reference date.\\n        3. To calculate the date range for \"last X months\", strictly follow below conditions:\\n                Consider reference month as the month in reference date.\\n                For \"last 1 month\", consider exactly one month before the reference month and set start date as first day and end date as last day of that month.\\n                For \"last X months\", where X is greater than 1, consider starting month = (reference month - X+1) and set start date as first day of starting month and end date as the reference date. (Example: if reference date is 14/09/2022, then last 3 months = 01/07/2022 - 14/09/2022)\\n        4. To calculate the date range for \"last X quarters\", strictly follow below conditions:\\n                For \"last 1 quarter\", consider exactly one quarter before the reference quarter and set start date as first day and end date as last day of that quarter .\\n                For \"last X quarter\", where X is greater than 1, consider starting quarter = (reference quarter - X+1) and set start date as first day of starting quarter and end date as the reference date.\\n        5. To calculate the date range for \"last X weeks\", strictly follow the below conditions:\\n                Consider reference week as the week in reference week.\\n                For \"last 1 week\", set start date as Monday and end date as Sunday of the previous week of reference week. (Example: if reference date is 14/09/2022, then last week = 05/09/2022 - 11/09/2022)\\n                For \"last X weeks\", set start date as Monday of reference week and set start date as the Monday of that week and end date as reference date. \\n        6. Provide the date range of each time point in \"start date - end date\" format always.\\n\\n<</SYS>>\\nUser question is : correlation of profit and requested hours\\n\\nConverted JSON is as shown below: \\n[/INST]\\n[MQL]\\n[{\\'action\\': {\\'derived_measure\\': {\\'correlation\\': {\\'correlation\\': {\\'label\\': \\'Correlation\\', \\'order\\': \\'desc\\', \\'root_variables\\': [{\\'Requested Hours\\': {\\'Requested Hours\\': {\\'label\\': \\'Requested Hours\\', \\'order\\': \\'desc\\', \\'operator\\': \\'sum\\', \\'AttributeType\\': \\'measure\\', \\'variable\\': \\'Requested Hours\\'}}, \\'profit\\': {\\'PROFIT\\': {\\'label\\': \\'Profit in Dollars\\', \\'order\\': \\'desc\\', \\'operator\\': \\'sum\\', \\'AttributeType\\': \\'measure\\', \\'variable\\': \\'PROFIT\\'}}}], \\'operator\\': \\'sum\\'}}}, \\'type\\': \\'stats\\', \\'start_date\\': \\'2020/01/01 00:00:00\\'}, \\'query_type\\': \\'aggregation\\', \\'db_type\\': \\'activity\\', \\'type\\': \\'transaction\\', \\'weight\\': 0.7599999999999999, \\'id\\': \\'leni_633b04ad96687f0001250001_c2e1746db3d84d3fa70e6b88a0631545_0\\', \\'trigger_forecast\\': False, \\'filter\\': {\\'and\\': {}}, \\'trend_present\\': False, \\'forecast_intent_present\\': False, \\'date_conf\\': \\'Latest Record Date\\', \\'dataset_id\\': \\'63510a2ec778a70001dae8de\\', \\'version\\': 69}]\\n[/MQL]</s>',\n",
       "  '<s>[INST]<<SYS>>\\nYou are an assistant that helps to map the user question to the a particular JSON format which contains info asked by user and also maps it the below CONTEXT. You might also need to act as a time tagger expert to convert the date elements present in the question to a standard format and to find possible date ranges for the same.\\n\\nCONTEXT:[{\\'action_derived_measure_label\\': \\'Correlation\\', \\'action_derived_measure\\': \\'Worked Hours\\'}]\\n\\nStep 1: Identify the n-grams match between question and context\\n\\n        Map the n-gram or their lemma or their inflections from the question with the values in the passed context.\\n        Always consider the longest n-gram match, not the sub-string.\\n        If there are multiple matches for an n-gram with context, return all such ENTITY in response.\\n        If you are returning any match which is not exactly present with the context, make sure that it is a noun phrase and there is a high similarity between the match and the matched value in context. \\n\\n\\nStep 2: Applying time tagger rules only if time elements are present in question\\n\\n        Identify the TIME ELEMENTS in the input question and convert it to a standard format (if not already) by applying the general time tagging rules. If the TIME ELEMENT is already in a standard format, then no need to convert it.\\n        TIME ELEMENT can be either a temporal interval (across months, yoy, mom, qoq, wow, quarterly etc.) or a temporal expression (time points such as specific dates, relative expressions etc.).\\n        Calculate date range for each time points based on the following conditions:\\n        1. For relative time expressions, calculate the date range based on a reference date - By default the reference date is the end_date in date input: {\\'start_date\\': \\'01/01/2020\\', \\'end_date\\': \\'15/09/2023\\'}\\n        2. To calculate the date range for \"last X years\", strictly follow below conditions:\\n                For \"last 1 year\", consider exactly one year before the reference year and set start date as January 1 and end date as Decemebr 31 of that year.\\n                For \"last X years\", where X is greater than 1, consider starting year = (reference year - X+1) and set start date as January 1 of starting year and end date as the reference date.\\n        3. To calculate the date range for \"last X months\", strictly follow below conditions:\\n                Consider reference month as the month in reference date.\\n                For \"last 1 month\", consider exactly one month before the reference month and set start date as first day and end date as last day of that month.\\n                For \"last X months\", where X is greater than 1, consider starting month = (reference month - X+1) and set start date as first day of starting month and end date as the reference date. (Example: if reference date is 14/09/2022, then last 3 months = 01/07/2022 - 14/09/2022)\\n        4. To calculate the date range for \"last X quarters\", strictly follow below conditions:\\n                For \"last 1 quarter\", consider exactly one quarter before the reference quarter and set start date as first day and end date as last day of that quarter .\\n                For \"last X quarter\", where X is greater than 1, consider starting quarter = (reference quarter - X+1) and set start date as first day of starting quarter and end date as the reference date.\\n        5. To calculate the date range for \"last X weeks\", strictly follow the below conditions:\\n                Consider reference week as the week in reference week.\\n                For \"last 1 week\", set start date as Monday and end date as Sunday of the previous week of reference week. (Example: if reference date is 14/09/2022, then last week = 05/09/2022 - 11/09/2022)\\n                For \"last X weeks\", set start date as Monday of reference week and set start date as the Monday of that week and end date as reference date. \\n        6. Provide the date range of each time point in \"start date - end date\" format always.\\n\\n<</SYS>>\\nUser question is : correlation of profit and worked hours\\n\\nConverted JSON is as shown below: \\n[/INST]\\n[MQL]\\n[{\\'action\\': {\\'derived_measure\\': {\\'correlation\\': {\\'correlation\\': {\\'label\\': \\'Correlation\\', \\'order\\': \\'desc\\', \\'root_variables\\': [{\\'Worked Hours\\': {\\'Worked Hours\\': {\\'label\\': \\'Worked Hours\\', \\'order\\': \\'desc\\', \\'operator\\': \\'sum\\', \\'AttributeType\\': \\'measure\\', \\'variable\\': \\'Worked Hours\\'}}, \\'profit\\': {\\'PROFIT\\': {\\'label\\': \\'Profit in Dollars\\', \\'order\\': \\'desc\\', \\'operator\\': \\'sum\\', \\'AttributeType\\': \\'measure\\', \\'variable\\': \\'PROFIT\\'}}}], \\'operator\\': \\'sum\\'}}}, \\'type\\': \\'stats\\', \\'start_date\\': \\'2020/01/01 00:00:00\\'}, \\'query_type\\': \\'aggregation\\', \\'db_type\\': \\'activity\\', \\'type\\': \\'transaction\\', \\'weight\\': 0.7599999999999999, \\'id\\': \\'leni_633b04ad96687f0001250001_8c5cf31e2e5d4107b7747894bcdf06bc_0\\', \\'trigger_forecast\\': False, \\'filter\\': {\\'and\\': {}}, \\'trend_present\\': False, \\'forecast_intent_present\\': False, \\'date_conf\\': \\'Latest Record Date\\', \\'dataset_id\\': \\'63510a2ec778a70001dae8de\\', \\'version\\': 69}]\\n[/MQL]</s>',\n",
       "  '<s>[INST]<<SYS>>\\nYou are an assistant that helps to map the user question to the a particular JSON format which contains info asked by user and also maps it the below CONTEXT. You might also need to act as a time tagger expert to convert the date elements present in the question to a standard format and to find possible date ranges for the same.\\n\\nCONTEXT:[{\\'action_derived_measure_label\\': \\'Correlation\\', \\'action_derived_measure\\': \\'profit\\'}, {\\'date\\': \\'AFS_SHIFT_DATE_START\\', \\'date_label\\': \\'Shift Date Start\\'}]\\n\\nStep 1: Identify the n-grams match between question and context\\n\\n        Map the n-gram or their lemma or their inflections from the question with the values in the passed context.\\n        Always consider the longest n-gram match, not the sub-string.\\n        If there are multiple matches for an n-gram with context, return all such ENTITY in response.\\n        If you are returning any match which is not exactly present with the context, make sure that it is a noun phrase and there is a high similarity between the match and the matched value in context. \\n\\n\\nStep 2: Applying time tagger rules only if time elements are present in question\\n\\n        Identify the TIME ELEMENTS in the input question and convert it to a standard format (if not already) by applying the general time tagging rules. If the TIME ELEMENT is already in a standard format, then no need to convert it.\\n        TIME ELEMENT can be either a temporal interval (across months, yoy, mom, qoq, wow, quarterly etc.) or a temporal expression (time points such as specific dates, relative expressions etc.).\\n        Calculate date range for each time points based on the following conditions:\\n        1. For relative time expressions, calculate the date range based on a reference date - By default the reference date is the end_date in date input: {\\'start_date\\': \\'01/01/2020\\', \\'end_date\\': \\'15/09/2023\\'}\\n        2. To calculate the date range for \"last X years\", strictly follow below conditions:\\n                For \"last 1 year\", consider exactly one year before the reference year and set start date as January 1 and end date as Decemebr 31 of that year.\\n                For \"last X years\", where X is greater than 1, consider starting year = (reference year - X+1) and set start date as January 1 of starting year and end date as the reference date.\\n        3. To calculate the date range for \"last X months\", strictly follow below conditions:\\n                Consider reference month as the month in reference date.\\n                For \"last 1 month\", consider exactly one month before the reference month and set start date as first day and end date as last day of that month.\\n                For \"last X months\", where X is greater than 1, consider starting month = (reference month - X+1) and set start date as first day of starting month and end date as the reference date. (Example: if reference date is 14/09/2022, then last 3 months = 01/07/2022 - 14/09/2022)\\n        4. To calculate the date range for \"last X quarters\", strictly follow below conditions:\\n                For \"last 1 quarter\", consider exactly one quarter before the reference quarter and set start date as first day and end date as last day of that quarter .\\n                For \"last X quarter\", where X is greater than 1, consider starting quarter = (reference quarter - X+1) and set start date as first day of starting quarter and end date as the reference date.\\n        5. To calculate the date range for \"last X weeks\", strictly follow the below conditions:\\n                Consider reference week as the week in reference week.\\n                For \"last 1 week\", set start date as Monday and end date as Sunday of the previous week of reference week. (Example: if reference date is 14/09/2022, then last week = 05/09/2022 - 11/09/2022)\\n                For \"last X weeks\", set start date as Monday of reference week and set start date as the Monday of that week and end date as reference date. \\n        6. Provide the date range of each time point in \"start date - end date\" format always.\\n\\n<</SYS>>\\nUser question is : correlation of profit and hourly rate\\n\\nConverted JSON is as shown below: \\n[/INST]\\n[MQL]\\n[{\\'date\\': {\\'hourly\\': {\\'AFS_SHIFT_DATE_START\\': {\\'label\\': \\'Shift Date Start\\', \\'order\\': \\'asc\\', \\'operator\\': \\'histogram\\', \\'interval\\': \\'month\\'}}}, \\'action\\': {\\'derived_measure\\': {\\'correlation\\': {\\'correlation\\': {\\'label\\': \\'Correlation\\', \\'order\\': \\'desc\\', \\'root_variables\\': [{\\'profit\\': {\\'PROFIT\\': {\\'label\\': \\'Profit in Dollars\\', \\'order\\': \\'desc\\', \\'operator\\': \\'sum\\', \\'AttributeType\\': \\'measure\\', \\'variable\\': \\'PROFIT\\'}}, \\'rate\\': {\\'AFS_RATE\\': {\\'label\\': \\'Rate\\', \\'order\\': \\'desc\\', \\'operator\\': \\'sum\\', \\'AttributeType\\': \\'measure\\', \\'variable\\': \\'AFS_RATE\\'}}}], \\'operator\\': \\'sum\\'}}}, \\'type\\': \\'stats\\', \\'start_date\\': \\'2020/01/01 00:00:00\\'}, \\'query_type\\': \\'aggregation\\', \\'db_type\\': \\'activity\\', \\'type\\': \\'transaction\\', \\'weight\\': 0.7041666666666666, \\'id\\': \\'leni_633b04ad96687f0001250001_6b5a331748454b33b5a578299d84c5b0_0\\', \\'trigger_forecast\\': False, \\'trend_present\\': False, \\'forecast_intent_present\\': False, \\'date_conf\\': \\'Latest Record Date\\', \\'dataset_id\\': \\'63510a2ec778a70001dae8de\\', \\'version\\': 69}]\\n[/MQL]</s>']}"
      ]
     },
     "execution_count": 48,
     "metadata": {},
     "output_type": "execute_result"
    }
   ],
   "source": [
    "val_dataset[:100]"
   ]
  },
  {
   "cell_type": "code",
   "execution_count": 47,
   "id": "92a7efe8",
   "metadata": {},
   "outputs": [
    {
     "data": {
      "text/plain": [
       "'</s>'"
      ]
     },
     "execution_count": 47,
     "metadata": {},
     "output_type": "execute_result"
    }
   ],
   "source": [
    "tokenizer.decode([2])"
   ]
  },
  {
   "cell_type": "code",
   "execution_count": null,
   "id": "e9379705",
   "metadata": {},
   "outputs": [],
   "source": []
  },
  {
   "cell_type": "code",
   "execution_count": 40,
   "id": "75ffc6f1",
   "metadata": {},
   "outputs": [],
   "source": [
    "# LoRA configuration\n",
    "peft_config = LoraConfig(\n",
    "    lora_alpha=lora_alpha,\n",
    "    lora_dropout=lora_dropout,\n",
    "    target_modules = [\"q_proj\", \"v_proj\"],\n",
    "    r=lora_r,\n",
    "    bias=\"none\",\n",
    "    task_type=\"CAUSAL_LM\",\n",
    ")"
   ]
  },
  {
   "cell_type": "code",
   "execution_count": null,
   "id": "85583ae7",
   "metadata": {},
   "outputs": [],
   "source": []
  },
  {
   "cell_type": "code",
   "execution_count": 41,
   "id": "7e30b281",
   "metadata": {},
   "outputs": [],
   "source": [
    "# Set training parameters\n",
    "training_arguments = TrainingArguments(\n",
    "    output_dir=output_dir,\n",
    "    num_train_epochs=num_train_epochs,\n",
    "    per_device_train_batch_size=per_device_train_batch_size,\n",
    "    gradient_accumulation_steps=gradient_accumulation_steps,\n",
    "    optim=optim,\n",
    "    save_steps=save_steps,\n",
    "    eval_steps=200, # requires when eval_dataset is defined\n",
    "    per_device_eval_batch_size=1, # Batch size for evaluation\n",
    "    evaluation_strategy=\"steps\", # requires when eval_dataset is defined\n",
    "    logging_strategy=\"steps\",\n",
    "    logging_steps=1,\n",
    "    learning_rate=learning_rate,\n",
    "    weight_decay=weight_decay,\n",
    "    fp16=fp16,\n",
    "    bf16=bf16,\n",
    "    max_grad_norm=max_grad_norm,\n",
    "    max_steps=4000,\n",
    "    warmup_ratio=warmup_ratio,\n",
    "    group_by_length=group_by_length,\n",
    "    lr_scheduler_type=lr_scheduler_type,\n",
    "    report_to=\"tensorboard\",\n",
    "    load_best_model_at_end=True,\n",
    "    save_total_limit=1,\n",
    "    metric_for_best_model=\"eval_loss\",\n",
    "    greater_is_better=False\n",
    ")"
   ]
  },
  {
   "cell_type": "code",
   "execution_count": 42,
   "id": "6ee91f4d",
   "metadata": {},
   "outputs": [
    {
     "name": "stdout",
     "output_type": "stream",
     "text": [
      "Memory footprint 4.551360512 GB\n",
      "Flops 21843.947814912 GFLOPs\n"
     ]
    }
   ],
   "source": [
    "## Getting FLOPs of model\n",
    "\n",
    "model_flops = (\n",
    "  model.floating_point_ops(\n",
    "    {\n",
    "       \"input_ids\": torch.zeros(\n",
    "           (1, 512)\n",
    "      )\n",
    "    }\n",
    "  )\n",
    "  * training_arguments.gradient_accumulation_steps\n",
    ")\n",
    "\n",
    "#print(model)\n",
    "print(\"Memory footprint\", model.get_memory_footprint() / 1e9, \"GB\")\n",
    "print(\"Flops\", model_flops / 1e9, \"GFLOPs\")"
   ]
  },
  {
   "cell_type": "code",
   "execution_count": 43,
   "id": "de52effd",
   "metadata": {},
   "outputs": [
    {
     "data": {
      "text/plain": [
       "Dataset({\n",
       "    features: ['fine_tuning_dataset'],\n",
       "    num_rows: 9223\n",
       "})"
      ]
     },
     "execution_count": 43,
     "metadata": {},
     "output_type": "execute_result"
    }
   ],
   "source": [
    "train_dataset"
   ]
  },
  {
   "cell_type": "code",
   "execution_count": 44,
   "id": "e9aa438a",
   "metadata": {
    "scrolled": true
   },
   "outputs": [],
   "source": [
    "#print(torch.cuda.memory_summary(device=None, abbreviated=False))"
   ]
  },
  {
   "cell_type": "code",
   "execution_count": 45,
   "id": "f8bf5981",
   "metadata": {},
   "outputs": [
    {
     "name": "stderr",
     "output_type": "stream",
     "text": [
      "/opt/conda/lib/python3.8/site-packages/peft/utils/other.py:122: FutureWarning: prepare_model_for_int8_training is deprecated and will be removed in a future version. Use prepare_model_for_kbit_training instead.\n",
      "  warnings.warn(\n"
     ]
    },
    {
     "data": {
      "application/vnd.jupyter.widget-view+json": {
       "model_id": "0b3ffd602e7c4d1a95d41e0f8cecfcc3",
       "version_major": 2,
       "version_minor": 0
      },
      "text/plain": [
       "Map:   0%|          | 0/9223 [00:00<?, ? examples/s]"
      ]
     },
     "metadata": {},
     "output_type": "display_data"
    },
    {
     "data": {
      "application/vnd.jupyter.widget-view+json": {
       "model_id": "c74a0bf74785404087630aa0d907ba41",
       "version_major": 2,
       "version_minor": 0
      },
      "text/plain": [
       "Map:   0%|          | 0/337 [00:00<?, ? examples/s]"
      ]
     },
     "metadata": {},
     "output_type": "display_data"
    }
   ],
   "source": [
    "# Set supervised fine-tuning parameters\n",
    "trainer = SFTTrainer(\n",
    "    model=model,\n",
    "    train_dataset=train_dataset,\n",
    "    eval_dataset=val_dataset,\n",
    "    peft_config=peft_config,\n",
    "    dataset_text_field=\"fine_tuning_dataset\",\n",
    "    max_seq_length=256,\n",
    "    tokenizer=tokenizer,\n",
    "    args=training_arguments,\n",
    "    packing=packing,\n",
    ")"
   ]
  },
  {
   "cell_type": "code",
   "execution_count": 46,
   "id": "d942d91c",
   "metadata": {},
   "outputs": [
    {
     "data": {
      "text/plain": [
       "{'fine_tuning_dataset': '<s>[INST]<<SYS>>\\nYou are an advanced template converter that converts user question to a specific template which answers the user question.\\n\\n<</SYS>>\\n\\nQ1 2018 quantity?\\n[/INST]\\n[LUMINTEMPLATE]\\nWhat is the Quantity in Quarter1 2018\\n[/LUMINTEMPLATE]</s>'}"
      ]
     },
     "execution_count": 46,
     "metadata": {},
     "output_type": "execute_result"
    }
   ],
   "source": [
    "val_dataset[0]"
   ]
  },
  {
   "cell_type": "code",
   "execution_count": 47,
   "id": "b5769042",
   "metadata": {
    "scrolled": false
   },
   "outputs": [
    {
     "data": {
      "text/html": [
       "\n",
       "    <div>\n",
       "      \n",
       "      <progress value='4000' max='4000' style='width:300px; height:20px; vertical-align: middle;'></progress>\n",
       "      [4000/4000 4:27:27, Epoch 3/4]\n",
       "    </div>\n",
       "    <table border=\"1\" class=\"dataframe\">\n",
       "  <thead>\n",
       " <tr style=\"text-align: left;\">\n",
       "      <th>Step</th>\n",
       "      <th>Training Loss</th>\n",
       "      <th>Validation Loss</th>\n",
       "    </tr>\n",
       "  </thead>\n",
       "  <tbody>\n",
       "    <tr>\n",
       "      <td>200</td>\n",
       "      <td>0.280700</td>\n",
       "      <td>0.364057</td>\n",
       "    </tr>\n",
       "    <tr>\n",
       "      <td>400</td>\n",
       "      <td>0.252000</td>\n",
       "      <td>0.283258</td>\n",
       "    </tr>\n",
       "    <tr>\n",
       "      <td>600</td>\n",
       "      <td>0.214000</td>\n",
       "      <td>0.252046</td>\n",
       "    </tr>\n",
       "    <tr>\n",
       "      <td>800</td>\n",
       "      <td>0.241900</td>\n",
       "      <td>0.233638</td>\n",
       "    </tr>\n",
       "    <tr>\n",
       "      <td>1000</td>\n",
       "      <td>0.248700</td>\n",
       "      <td>0.222283</td>\n",
       "    </tr>\n",
       "    <tr>\n",
       "      <td>1200</td>\n",
       "      <td>0.226500</td>\n",
       "      <td>0.208451</td>\n",
       "    </tr>\n",
       "    <tr>\n",
       "      <td>1400</td>\n",
       "      <td>0.215000</td>\n",
       "      <td>0.207179</td>\n",
       "    </tr>\n",
       "    <tr>\n",
       "      <td>1600</td>\n",
       "      <td>0.221100</td>\n",
       "      <td>0.196577</td>\n",
       "    </tr>\n",
       "    <tr>\n",
       "      <td>1800</td>\n",
       "      <td>0.247700</td>\n",
       "      <td>0.198251</td>\n",
       "    </tr>\n",
       "    <tr>\n",
       "      <td>2000</td>\n",
       "      <td>0.199700</td>\n",
       "      <td>0.192909</td>\n",
       "    </tr>\n",
       "    <tr>\n",
       "      <td>2200</td>\n",
       "      <td>0.235800</td>\n",
       "      <td>0.192967</td>\n",
       "    </tr>\n",
       "    <tr>\n",
       "      <td>2400</td>\n",
       "      <td>0.201400</td>\n",
       "      <td>0.190515</td>\n",
       "    </tr>\n",
       "    <tr>\n",
       "      <td>2600</td>\n",
       "      <td>0.203300</td>\n",
       "      <td>0.192598</td>\n",
       "    </tr>\n",
       "    <tr>\n",
       "      <td>2800</td>\n",
       "      <td>0.199900</td>\n",
       "      <td>0.189987</td>\n",
       "    </tr>\n",
       "    <tr>\n",
       "      <td>3000</td>\n",
       "      <td>0.218300</td>\n",
       "      <td>0.188591</td>\n",
       "    </tr>\n",
       "    <tr>\n",
       "      <td>3200</td>\n",
       "      <td>0.242400</td>\n",
       "      <td>0.187669</td>\n",
       "    </tr>\n",
       "    <tr>\n",
       "      <td>3400</td>\n",
       "      <td>0.207500</td>\n",
       "      <td>0.187221</td>\n",
       "    </tr>\n",
       "    <tr>\n",
       "      <td>3600</td>\n",
       "      <td>0.184500</td>\n",
       "      <td>0.188440</td>\n",
       "    </tr>\n",
       "    <tr>\n",
       "      <td>3800</td>\n",
       "      <td>0.210800</td>\n",
       "      <td>0.184975</td>\n",
       "    </tr>\n",
       "    <tr>\n",
       "      <td>4000</td>\n",
       "      <td>0.201900</td>\n",
       "      <td>0.189157</td>\n",
       "    </tr>\n",
       "  </tbody>\n",
       "</table><p>"
      ],
      "text/plain": [
       "<IPython.core.display.HTML object>"
      ]
     },
     "metadata": {},
     "output_type": "display_data"
    },
    {
     "data": {
      "text/plain": [
       "TrainOutput(global_step=4000, training_loss=0.2516471045911312, metrics={'train_runtime': 16054.2987, 'train_samples_per_second': 1.993, 'train_steps_per_second': 0.249, 'total_flos': 1.3459230627363226e+17, 'train_loss': 0.2516471045911312, 'epoch': 3.47})"
      ]
     },
     "execution_count": 47,
     "metadata": {},
     "output_type": "execute_result"
    }
   ],
   "source": [
    "# Train model\n",
    "trainer.train()"
   ]
  },
  {
   "cell_type": "code",
   "execution_count": null,
   "id": "06f0633f",
   "metadata": {},
   "outputs": [],
   "source": [
    "# Fine-tuned model name\n",
    "new_model_name = \"mistral-ft-peft-v1-lr-64-with-more-data\""
   ]
  },
  {
   "cell_type": "code",
   "execution_count": null,
   "id": "1b5c3526",
   "metadata": {},
   "outputs": [],
   "source": [
    "# Save trained model\n",
    "trainer.model.save_pretrained(new_model)"
   ]
  },
  {
   "cell_type": "code",
   "execution_count": 41,
   "id": "c5cbfc1f",
   "metadata": {
    "scrolled": true
   },
   "outputs": [
    {
     "data": {
      "text/plain": [
       "PeftModelForCausalLM(\n",
       "  (base_model): LoraModel(\n",
       "    (model): LlamaForCausalLM(\n",
       "      (model): LlamaModel(\n",
       "        (embed_tokens): Embedding(32000, 4096, padding_idx=0)\n",
       "        (layers): ModuleList(\n",
       "          (0-31): 32 x LlamaDecoderLayer(\n",
       "            (self_attn): LlamaAttention(\n",
       "              (q_proj): Linear4bit(\n",
       "                in_features=4096, out_features=4096, bias=False\n",
       "                (lora_dropout): ModuleDict(\n",
       "                  (default): Dropout(p=0.1, inplace=False)\n",
       "                )\n",
       "                (lora_A): ModuleDict(\n",
       "                  (default): Linear(in_features=4096, out_features=8, bias=False)\n",
       "                )\n",
       "                (lora_B): ModuleDict(\n",
       "                  (default): Linear(in_features=8, out_features=4096, bias=False)\n",
       "                )\n",
       "                (lora_embedding_A): ParameterDict()\n",
       "                (lora_embedding_B): ParameterDict()\n",
       "              )\n",
       "              (k_proj): Linear4bit(in_features=4096, out_features=4096, bias=False)\n",
       "              (v_proj): Linear4bit(\n",
       "                in_features=4096, out_features=4096, bias=False\n",
       "                (lora_dropout): ModuleDict(\n",
       "                  (default): Dropout(p=0.1, inplace=False)\n",
       "                )\n",
       "                (lora_A): ModuleDict(\n",
       "                  (default): Linear(in_features=4096, out_features=8, bias=False)\n",
       "                )\n",
       "                (lora_B): ModuleDict(\n",
       "                  (default): Linear(in_features=8, out_features=4096, bias=False)\n",
       "                )\n",
       "                (lora_embedding_A): ParameterDict()\n",
       "                (lora_embedding_B): ParameterDict()\n",
       "              )\n",
       "              (o_proj): Linear4bit(in_features=4096, out_features=4096, bias=False)\n",
       "              (rotary_emb): LlamaRotaryEmbedding()\n",
       "            )\n",
       "            (mlp): LlamaMLP(\n",
       "              (gate_proj): Linear4bit(in_features=4096, out_features=11008, bias=False)\n",
       "              (up_proj): Linear4bit(in_features=4096, out_features=11008, bias=False)\n",
       "              (down_proj): Linear4bit(in_features=11008, out_features=4096, bias=False)\n",
       "              (act_fn): SiLUActivation()\n",
       "            )\n",
       "            (input_layernorm): LlamaRMSNorm()\n",
       "            (post_attention_layernorm): LlamaRMSNorm()\n",
       "          )\n",
       "        )\n",
       "        (norm): LlamaRMSNorm()\n",
       "      )\n",
       "      (lm_head): Linear(in_features=4096, out_features=32000, bias=False)\n",
       "    )\n",
       "  )\n",
       ")"
      ]
     },
     "execution_count": 41,
     "metadata": {},
     "output_type": "execute_result"
    }
   ],
   "source": [
    "trainer.model"
   ]
  },
  {
   "cell_type": "code",
   "execution_count": 43,
   "id": "84916548",
   "metadata": {},
   "outputs": [],
   "source": [
    "from peft import PeftModel, PeftConfig"
   ]
  },
  {
   "cell_type": "code",
   "execution_count": null,
   "id": "e10ab609",
   "metadata": {},
   "outputs": [],
   "source": [
    "del model\n",
    "torch.cuda.empty_cache()\n",
    "\n",
    "from peft import AutoPeftModelForCausalLM\n",
    "\n",
    "model = AutoPeftModelForCausalLM.from_pretrained(new_model_name, device_map=\"auto\", torch_dtype=torch.bfloat16)\n",
    "model = model.merge_and_unload()"
   ]
  },
  {
   "cell_type": "code",
   "execution_count": null,
   "id": "b4ad5254",
   "metadata": {},
   "outputs": [],
   "source": [
    "output_merged_dir = os.path.join(new_model_name, \"final_merged_checkpoint\")\n",
    "model.save_pretrained(output_merged_dir, safe_serialization=True)"
   ]
  },
  {
   "cell_type": "code",
   "execution_count": 45,
   "id": "c83d80e5",
   "metadata": {},
   "outputs": [
    {
     "name": "stdout",
     "output_type": "stream",
     "text": [
      "Memory footprint 4.488974336 GB\n",
      "Flops 4083.474432 GFLOPs\n"
     ]
    }
   ],
   "source": [
    "## Getting FLOPs of model\n",
    "\n",
    "model_flops = (\n",
    "  model_to_merge.floating_point_ops(\n",
    "    {\n",
    "       \"input_ids\": torch.zeros(\n",
    "           (1, 200)\n",
    "      )\n",
    "    }\n",
    "  )\n",
    "  * training_arguments.gradient_accumulation_steps\n",
    ")\n",
    "\n",
    "#print(model)\n",
    "print(\"Memory footprint\", model.get_memory_footprint() / 1e9, \"GB\")\n",
    "print(\"Flops\", model_flops / 1e9, \"GFLOPs\")"
   ]
  },
  {
   "cell_type": "code",
   "execution_count": null,
   "id": "2d4d7fa6",
   "metadata": {},
   "outputs": [],
   "source": []
  },
  {
   "cell_type": "code",
   "execution_count": 12,
   "id": "7be81f79",
   "metadata": {},
   "outputs": [],
   "source": [
    "query_template_v2 = \"\"\"[INST]<<SYS>>\n",
    "You are an advanced template converter that converts user question to a specific template which answers the user question.\n",
    "\n",
    "<</SYS>>\n",
    "\n",
    "{user_query}\n",
    "[/INST]\n",
    "[LUMINTEMPLATE]\"\"\""
   ]
  },
  {
   "cell_type": "code",
   "execution_count": 24,
   "id": "acbc1fd5",
   "metadata": {
    "scrolled": true
   },
   "outputs": [],
   "source": [
    "#model_to_merge.to('cuda')"
   ]
  },
  {
   "cell_type": "code",
   "execution_count": 23,
   "id": "9a20b9a6",
   "metadata": {},
   "outputs": [
    {
     "name": "stdout",
     "output_type": "stream",
     "text": [
      "Collecting ninja\n",
      "\u001b[?25l  Downloading https://files.pythonhosted.org/packages/0f/58/854ce5aab0ff5c33d66e1341b0be42f0330797335011880f7fbd88449996/ninja-1.11.1-py2.py3-none-manylinux_2_12_x86_64.manylinux2010_x86_64.whl (145kB)\n",
      "\u001b[K     |████████████████████████████████| 153kB 6.9MB/s eta 0:00:01\n",
      "\u001b[?25hInstalling collected packages: ninja\n",
      "Successfully installed ninja-1.11.1\n"
     ]
    }
   ],
   "source": [
    "!sudo pip install ninja"
   ]
  },
  {
   "cell_type": "code",
   "execution_count": 24,
   "id": "f253b02c",
   "metadata": {},
   "outputs": [
    {
     "data": {
      "text/plain": [
       "'1.11.1'"
      ]
     },
     "execution_count": 24,
     "metadata": {},
     "output_type": "execute_result"
    }
   ],
   "source": [
    "import ninja\n",
    "ninja.__version__"
   ]
  },
  {
   "cell_type": "code",
   "execution_count": 12,
   "id": "f2b16910",
   "metadata": {},
   "outputs": [
    {
     "ename": "KeyError",
     "evalue": "'mistral'",
     "output_type": "error",
     "traceback": [
      "\u001b[0;31m---------------------------------------------------------------------------\u001b[0m",
      "\u001b[0;31mKeyError\u001b[0m                                  Traceback (most recent call last)",
      "Cell \u001b[0;32mIn[12], line 1\u001b[0m\n\u001b[0;32m----> 1\u001b[0m model \u001b[38;5;241m=\u001b[39m \u001b[43mAutoModelForCausalLM\u001b[49m\u001b[38;5;241;43m.\u001b[39;49m\u001b[43mfrom_pretrained\u001b[49m\u001b[43m(\u001b[49m\u001b[38;5;124;43m'\u001b[39;49m\u001b[38;5;124;43m/data/mistral/oct-3/merged_model\u001b[39;49m\u001b[38;5;124;43m'\u001b[39;49m\u001b[43m,\u001b[49m\u001b[43m \u001b[49m\u001b[43mdevice_map\u001b[49m\u001b[38;5;241;43m=\u001b[39;49m\u001b[38;5;124;43m\"\u001b[39;49m\u001b[38;5;124;43mauto\u001b[39;49m\u001b[38;5;124;43m\"\u001b[39;49m\u001b[43m,\u001b[49m\u001b[43m \u001b[49m\u001b[43mtorch_dtype\u001b[49m\u001b[38;5;241;43m=\u001b[39;49m\u001b[43mtorch\u001b[49m\u001b[38;5;241;43m.\u001b[39;49m\u001b[43mbfloat16\u001b[49m\u001b[43m)\u001b[49m\n",
      "File \u001b[0;32m/opt/conda/lib/python3.8/site-packages/transformers/models/auto/auto_factory.py:461\u001b[0m, in \u001b[0;36m_BaseAutoModelClass.from_pretrained\u001b[0;34m(cls, pretrained_model_name_or_path, *model_args, **kwargs)\u001b[0m\n\u001b[1;32m    458\u001b[0m \u001b[38;5;28;01mif\u001b[39;00m kwargs\u001b[38;5;241m.\u001b[39mget(\u001b[38;5;124m\"\u001b[39m\u001b[38;5;124mtorch_dtype\u001b[39m\u001b[38;5;124m\"\u001b[39m, \u001b[38;5;28;01mNone\u001b[39;00m) \u001b[38;5;241m==\u001b[39m \u001b[38;5;124m\"\u001b[39m\u001b[38;5;124mauto\u001b[39m\u001b[38;5;124m\"\u001b[39m:\n\u001b[1;32m    459\u001b[0m     _ \u001b[38;5;241m=\u001b[39m kwargs\u001b[38;5;241m.\u001b[39mpop(\u001b[38;5;124m\"\u001b[39m\u001b[38;5;124mtorch_dtype\u001b[39m\u001b[38;5;124m\"\u001b[39m)\n\u001b[0;32m--> 461\u001b[0m config, kwargs \u001b[38;5;241m=\u001b[39m \u001b[43mAutoConfig\u001b[49m\u001b[38;5;241;43m.\u001b[39;49m\u001b[43mfrom_pretrained\u001b[49m\u001b[43m(\u001b[49m\n\u001b[1;32m    462\u001b[0m \u001b[43m    \u001b[49m\u001b[43mpretrained_model_name_or_path\u001b[49m\u001b[43m,\u001b[49m\n\u001b[1;32m    463\u001b[0m \u001b[43m    \u001b[49m\u001b[43mreturn_unused_kwargs\u001b[49m\u001b[38;5;241;43m=\u001b[39;49m\u001b[38;5;28;43;01mTrue\u001b[39;49;00m\u001b[43m,\u001b[49m\n\u001b[1;32m    464\u001b[0m \u001b[43m    \u001b[49m\u001b[43mtrust_remote_code\u001b[49m\u001b[38;5;241;43m=\u001b[39;49m\u001b[43mtrust_remote_code\u001b[49m\u001b[43m,\u001b[49m\n\u001b[1;32m    465\u001b[0m \u001b[43m    \u001b[49m\u001b[38;5;241;43m*\u001b[39;49m\u001b[38;5;241;43m*\u001b[39;49m\u001b[43mhub_kwargs\u001b[49m\u001b[43m,\u001b[49m\n\u001b[1;32m    466\u001b[0m \u001b[43m    \u001b[49m\u001b[38;5;241;43m*\u001b[39;49m\u001b[38;5;241;43m*\u001b[39;49m\u001b[43mkwargs\u001b[49m\u001b[43m,\u001b[49m\n\u001b[1;32m    467\u001b[0m \u001b[43m\u001b[49m\u001b[43m)\u001b[49m\n\u001b[1;32m    469\u001b[0m \u001b[38;5;66;03m# if torch_dtype=auto was passed here, ensure to pass it on\u001b[39;00m\n\u001b[1;32m    470\u001b[0m \u001b[38;5;28;01mif\u001b[39;00m kwargs_orig\u001b[38;5;241m.\u001b[39mget(\u001b[38;5;124m\"\u001b[39m\u001b[38;5;124mtorch_dtype\u001b[39m\u001b[38;5;124m\"\u001b[39m, \u001b[38;5;28;01mNone\u001b[39;00m) \u001b[38;5;241m==\u001b[39m \u001b[38;5;124m\"\u001b[39m\u001b[38;5;124mauto\u001b[39m\u001b[38;5;124m\"\u001b[39m:\n",
      "File \u001b[0;32m/opt/conda/lib/python3.8/site-packages/transformers/models/auto/configuration_auto.py:998\u001b[0m, in \u001b[0;36mAutoConfig.from_pretrained\u001b[0;34m(cls, pretrained_model_name_or_path, **kwargs)\u001b[0m\n\u001b[1;32m    996\u001b[0m     \u001b[38;5;28;01mreturn\u001b[39;00m config_class\u001b[38;5;241m.\u001b[39mfrom_pretrained(pretrained_model_name_or_path, \u001b[38;5;241m*\u001b[39m\u001b[38;5;241m*\u001b[39mkwargs)\n\u001b[1;32m    997\u001b[0m \u001b[38;5;28;01melif\u001b[39;00m \u001b[38;5;124m\"\u001b[39m\u001b[38;5;124mmodel_type\u001b[39m\u001b[38;5;124m\"\u001b[39m \u001b[38;5;129;01min\u001b[39;00m config_dict:\n\u001b[0;32m--> 998\u001b[0m     config_class \u001b[38;5;241m=\u001b[39m \u001b[43mCONFIG_MAPPING\u001b[49m\u001b[43m[\u001b[49m\u001b[43mconfig_dict\u001b[49m\u001b[43m[\u001b[49m\u001b[38;5;124;43m\"\u001b[39;49m\u001b[38;5;124;43mmodel_type\u001b[39;49m\u001b[38;5;124;43m\"\u001b[39;49m\u001b[43m]\u001b[49m\u001b[43m]\u001b[49m\n\u001b[1;32m    999\u001b[0m     \u001b[38;5;28;01mreturn\u001b[39;00m config_class\u001b[38;5;241m.\u001b[39mfrom_dict(config_dict, \u001b[38;5;241m*\u001b[39m\u001b[38;5;241m*\u001b[39munused_kwargs)\n\u001b[1;32m   1000\u001b[0m \u001b[38;5;28;01melse\u001b[39;00m:\n\u001b[1;32m   1001\u001b[0m     \u001b[38;5;66;03m# Fallback: use pattern matching on the string.\u001b[39;00m\n\u001b[1;32m   1002\u001b[0m     \u001b[38;5;66;03m# We go from longer names to shorter names to catch roberta before bert (for instance)\u001b[39;00m\n",
      "File \u001b[0;32m/opt/conda/lib/python3.8/site-packages/transformers/models/auto/configuration_auto.py:710\u001b[0m, in \u001b[0;36m_LazyConfigMapping.__getitem__\u001b[0;34m(self, key)\u001b[0m\n\u001b[1;32m    708\u001b[0m     \u001b[38;5;28;01mreturn\u001b[39;00m \u001b[38;5;28mself\u001b[39m\u001b[38;5;241m.\u001b[39m_extra_content[key]\n\u001b[1;32m    709\u001b[0m \u001b[38;5;28;01mif\u001b[39;00m key \u001b[38;5;129;01mnot\u001b[39;00m \u001b[38;5;129;01min\u001b[39;00m \u001b[38;5;28mself\u001b[39m\u001b[38;5;241m.\u001b[39m_mapping:\n\u001b[0;32m--> 710\u001b[0m     \u001b[38;5;28;01mraise\u001b[39;00m \u001b[38;5;167;01mKeyError\u001b[39;00m(key)\n\u001b[1;32m    711\u001b[0m value \u001b[38;5;241m=\u001b[39m \u001b[38;5;28mself\u001b[39m\u001b[38;5;241m.\u001b[39m_mapping[key]\n\u001b[1;32m    712\u001b[0m module_name \u001b[38;5;241m=\u001b[39m model_type_to_module_name(key)\n",
      "\u001b[0;31mKeyError\u001b[0m: 'mistral'"
     ]
    }
   ],
   "source": [
    "model = AutoModelForCausalLM.from_pretrained(output_merged_dir, device_map=\"auto\", torch_dtype=torch.bfloat16)"
   ]
  },
  {
   "cell_type": "code",
   "execution_count": null,
   "id": "e4530b9a",
   "metadata": {},
   "outputs": [],
   "source": []
  },
  {
   "cell_type": "code",
   "execution_count": 15,
   "id": "8a9a2513",
   "metadata": {},
   "outputs": [],
   "source": [
    "def predict_template_query_v3(user_query):\n",
    "    inp = query_template_v2.format(user_query=user_query)\n",
    "    _inputs = tokenizer.encode(inp, return_tensors=\"pt\")\n",
    "    outputs = model.generate(input_ids=_inputs.to('cuda'), max_length= 150, pad_token_id=tokenizer.eos_token_id)\n",
    "    output = tokenizer.decode(outputs[0])\n",
    "    output_new = output.split('[LUMINTEMPLATE]\\n')[1]\n",
    "    return output_new.split('\\n[/LUMINTEMPLATE]')[0]"
   ]
  },
  {
   "cell_type": "code",
   "execution_count": 17,
   "id": "55257a2e",
   "metadata": {},
   "outputs": [
    {
     "name": "stdout",
     "output_type": "stream",
     "text": [
      "CPU times: user 5.09 s, sys: 93.8 ms, total: 5.18 s\n",
      "Wall time: 5.18 s\n"
     ]
    },
    {
     "data": {
      "text/plain": [
       "'List of brands with lowest profit in 2021'"
      ]
     },
     "execution_count": 17,
     "metadata": {},
     "output_type": "execute_result"
    }
   ],
   "source": [
    "%%time\n",
    "predict_template_query_v3('brands least profitable in 2021')"
   ]
  },
  {
   "cell_type": "code",
   "execution_count": 18,
   "id": "be990ba5",
   "metadata": {},
   "outputs": [
    {
     "name": "stdout",
     "output_type": "stream",
     "text": [
      "CPU times: user 5 s, sys: 143 ms, total: 5.14 s\n",
      "Wall time: 5.15 s\n"
     ]
    },
    {
     "data": {
      "text/plain": [
       "'What is the trend of work hours in 2023'"
      ]
     },
     "execution_count": 18,
     "metadata": {},
     "output_type": "execute_result"
    }
   ],
   "source": [
    "%%time\n",
    "predict_template_query_v3('trend of work hours in 2023')"
   ]
  },
  {
   "cell_type": "code",
   "execution_count": 44,
   "id": "da27f85c",
   "metadata": {},
   "outputs": [],
   "source": [
    "model_to_merge = PeftModel.from_pretrained(\n",
    "    model,\n",
    "    '/data/sept-23/checkpoint-810')"
   ]
  },
  {
   "cell_type": "code",
   "execution_count": 49,
   "id": "99617b75",
   "metadata": {},
   "outputs": [],
   "source": [
    "model_to_merge = PeftModel.from_pretrained(\n",
    "    model,\n",
    "    'llama-2-7b-fine-tuned-peft-v2')"
   ]
  },
  {
   "cell_type": "code",
   "execution_count": 19,
   "id": "caa891cb",
   "metadata": {},
   "outputs": [
    {
     "name": "stdout",
     "output_type": "stream",
     "text": [
      "CPU times: user 4.86 s, sys: 205 ms, total: 5.06 s\n",
      "Wall time: 5.06 s\n"
     ]
    },
    {
     "data": {
      "text/plain": [
       "'Which are the top 3 sub category based on sales in 2022'"
      ]
     },
     "execution_count": 19,
     "metadata": {},
     "output_type": "execute_result"
    }
   ],
   "source": [
    "%%time\n",
    "predict_template_query_v3('which are the 3 top selling category by sales in 2022')"
   ]
  },
  {
   "cell_type": "code",
   "execution_count": 20,
   "id": "c7bfd305",
   "metadata": {},
   "outputs": [
    {
     "name": "stdout",
     "output_type": "stream",
     "text": [
      "CPU times: user 4.83 s, sys: 221 ms, total: 5.05 s\n",
      "Wall time: 5.05 s\n"
     ]
    },
    {
     "data": {
      "text/plain": [
       "'Which are the top 3 sub category based on profit in 2022'"
      ]
     },
     "execution_count": 20,
     "metadata": {},
     "output_type": "execute_result"
    }
   ],
   "source": [
    "%%time\n",
    "predict_template_query_v3('which are the 3 top selling category by profit in 2022')"
   ]
  },
  {
   "cell_type": "code",
   "execution_count": 21,
   "id": "afff895e",
   "metadata": {},
   "outputs": [
    {
     "name": "stdout",
     "output_type": "stream",
     "text": [
      "CPU times: user 4.98 s, sys: 214 ms, total: 5.19 s\n",
      "Wall time: 5.19 s\n"
     ]
    },
    {
     "data": {
      "text/plain": [
       "'What is the sales of paper in februaury 2019'"
      ]
     },
     "execution_count": 21,
     "metadata": {},
     "output_type": "execute_result"
    }
   ],
   "source": [
    "%%time\n",
    "predict_template_query_v3(\"In 02/19 What was the sales of paper?\")"
   ]
  },
  {
   "cell_type": "code",
   "execution_count": 35,
   "id": "edbab272",
   "metadata": {},
   "outputs": [
    {
     "name": "stdout",
     "output_type": "stream",
     "text": [
      "CPU times: user 5.07 s, sys: 134 ms, total: 5.2 s\n",
      "Wall time: 5.2 s\n"
     ]
    },
    {
     "data": {
      "text/plain": [
       "'What is the sales of notebook in 2020'"
      ]
     },
     "execution_count": 35,
     "metadata": {},
     "output_type": "execute_result"
    }
   ],
   "source": [
    "%%time\n",
    "predict_template_query_v3(\"notebook sales in '20'?\")"
   ]
  },
  {
   "cell_type": "code",
   "execution_count": 36,
   "id": "43d8ed79",
   "metadata": {},
   "outputs": [
    {
     "name": "stdout",
     "output_type": "stream",
     "text": [
      "CPU times: user 5.3 s, sys: 138 ms, total: 5.44 s\n",
      "Wall time: 5.43 s\n"
     ]
    },
    {
     "data": {
      "text/plain": [
       "'What is the monthly trend of sales'"
      ]
     },
     "execution_count": 36,
     "metadata": {},
     "output_type": "execute_result"
    }
   ],
   "source": [
    "%%time\n",
    "predict_template_query_v3(\"monthly trend of sales\")"
   ]
  },
  {
   "cell_type": "code",
   "execution_count": 28,
   "id": "24d48ca8",
   "metadata": {},
   "outputs": [
    {
     "name": "stdout",
     "output_type": "stream",
     "text": [
      "CPU times: user 5.01 s, sys: 155 ms, total: 5.16 s\n",
      "Wall time: 5.16 s\n"
     ]
    },
    {
     "data": {
      "text/plain": [
       "'top sub category basis sales contribution in 2021'"
      ]
     },
     "execution_count": 28,
     "metadata": {},
     "output_type": "execute_result"
    }
   ],
   "source": [
    "%%time\n",
    "predict_template_query_v3(\"worst sub category in 2021\")"
   ]
  },
  {
   "cell_type": "code",
   "execution_count": 38,
   "id": "5fd067ee",
   "metadata": {},
   "outputs": [
    {
     "name": "stdout",
     "output_type": "stream",
     "text": [
      "CPU times: user 5 s, sys: 195 ms, total: 5.2 s\n",
      "Wall time: 5.2 s\n"
     ]
    },
    {
     "data": {
      "text/plain": [
       "'What is the sales of laptop in quarter4 2011'"
      ]
     },
     "execution_count": 38,
     "metadata": {},
     "output_type": "execute_result"
    }
   ],
   "source": [
    "%%time\n",
    "predict_template_query_v3(\"What was laptop sales in 4th quarter '11?\")"
   ]
  },
  {
   "cell_type": "code",
   "execution_count": 32,
   "id": "8c588a5b",
   "metadata": {},
   "outputs": [
    {
     "name": "stdout",
     "output_type": "stream",
     "text": [
      "CPU times: user 4.98 s, sys: 148 ms, total: 5.13 s\n",
      "Wall time: 5.13 s\n"
     ]
    },
    {
     "data": {
      "text/plain": [
       "'Which are the top 5 brands based on profit contribution in 2021'"
      ]
     },
     "execution_count": 32,
     "metadata": {},
     "output_type": "execute_result"
    }
   ],
   "source": [
    "%%time\n",
    "predict_template_query_v3(\"worst brands basis profit in 2021\")"
   ]
  },
  {
   "cell_type": "code",
   "execution_count": null,
   "id": "1e7932a5",
   "metadata": {},
   "outputs": [],
   "source": []
  },
  {
   "cell_type": "code",
   "execution_count": null,
   "id": "14c74351",
   "metadata": {},
   "outputs": [],
   "source": []
  },
  {
   "cell_type": "code",
   "execution_count": null,
   "id": "24c1d81c",
   "metadata": {},
   "outputs": [],
   "source": []
  },
  {
   "cell_type": "code",
   "execution_count": null,
   "id": "4fbd68c1",
   "metadata": {},
   "outputs": [],
   "source": []
  },
  {
   "cell_type": "code",
   "execution_count": null,
   "id": "d4d65470",
   "metadata": {},
   "outputs": [],
   "source": []
  },
  {
   "cell_type": "code",
   "execution_count": 17,
   "id": "2d569ccf",
   "metadata": {},
   "outputs": [],
   "source": [
    "prompt = query_template_v2.format(user_query='brands least profitable in 2021')"
   ]
  },
  {
   "cell_type": "code",
   "execution_count": 18,
   "id": "4b8cc7d7",
   "metadata": {},
   "outputs": [],
   "source": [
    "tokens = tokenizer.encode(prompt, return_tensors=\"pt\")"
   ]
  },
  {
   "cell_type": "code",
   "execution_count": 22,
   "id": "b2b1c1d4",
   "metadata": {},
   "outputs": [
    {
     "name": "stdout",
     "output_type": "stream",
     "text": [
      "CPU times: user 6.61 s, sys: 135 ms, total: 6.75 s\n",
      "Wall time: 6.75 s\n"
     ]
    }
   ],
   "source": [
    "%%time\n",
    "outputs = model.generate(input_ids=tokens.to('cuda'), max_length= 180, )"
   ]
  },
  {
   "cell_type": "code",
   "execution_count": 23,
   "id": "c00ba884",
   "metadata": {},
   "outputs": [
    {
     "data": {
      "text/plain": [
       "'<s>[INST]<<SYS>>\\nYou are an advanced template converter that converts user question to a specific template which answers the user question.\\n\\n<</SYS>>\\n\\nbrands least profitable in 2021\\n[/INST]\\n[LUMINTEMPLATE]\\nList of brands with lowest profit in 2021\\n[/LUMINTEMPLATE]\\n\\nWhich are the top 5 brands based on profit share in 2021\\n[/LUMINTEMPLATE]\\n\\nWhich are the top 5 brands based on market share in 2021\\n[/LUMINTEMPLATE]\\n\\nWhich are the top 5 brands based on sales share in 2021\\n[/LUMINTEMPLATE]\\n\\nWhich are the top 5'"
      ]
     },
     "execution_count": 23,
     "metadata": {},
     "output_type": "execute_result"
    }
   ],
   "source": [
    "tokenizer.decode(outputs[0])"
   ]
  },
  {
   "cell_type": "code",
   "execution_count": 48,
   "id": "c874042c",
   "metadata": {},
   "outputs": [],
   "source": []
  },
  {
   "cell_type": "code",
   "execution_count": null,
   "id": "ea90dc53",
   "metadata": {},
   "outputs": [],
   "source": []
  },
  {
   "cell_type": "code",
   "execution_count": null,
   "id": "a2945308",
   "metadata": {},
   "outputs": [],
   "source": []
  },
  {
   "cell_type": "code",
   "execution_count": null,
   "id": "6edbc306",
   "metadata": {},
   "outputs": [],
   "source": []
  },
  {
   "cell_type": "code",
   "execution_count": null,
   "id": "21f88861",
   "metadata": {},
   "outputs": [],
   "source": []
  },
  {
   "cell_type": "code",
   "execution_count": null,
   "id": "ec88bd26",
   "metadata": {},
   "outputs": [],
   "source": []
  },
  {
   "cell_type": "code",
   "execution_count": null,
   "id": "08da2299",
   "metadata": {},
   "outputs": [],
   "source": []
  },
  {
   "cell_type": "code",
   "execution_count": 132,
   "id": "bcd79a8f",
   "metadata": {},
   "outputs": [
    {
     "name": "stdout",
     "output_type": "stream",
     "text": [
      "CPU times: user 1min 4s, sys: 30.3 s, total: 1min 34s\n",
      "Wall time: 1min 34s\n"
     ]
    },
    {
     "data": {
      "text/plain": [
       "'What is the growth contribution to overall sales for phone'"
      ]
     },
     "execution_count": 132,
     "metadata": {},
     "output_type": "execute_result"
    }
   ],
   "source": [
    "%%time\n",
    "predict_template_query_v3(\"Growth rate of sales share of phone\")"
   ]
  },
  {
   "cell_type": "code",
   "execution_count": 133,
   "id": "1027b412",
   "metadata": {},
   "outputs": [
    {
     "name": "stdout",
     "output_type": "stream",
     "text": [
      "CPU times: user 1min 2s, sys: 28.8 s, total: 1min 31s\n",
      "Wall time: 1min 31s\n"
     ]
    },
    {
     "data": {
      "text/plain": [
       "'What is the growth contribution to overall sales for phone in 2021'"
      ]
     },
     "execution_count": 133,
     "metadata": {},
     "output_type": "execute_result"
    }
   ],
   "source": [
    "%%time\n",
    "predict_template_query_v3(\"What is the growth contribution to overall sales for phone in 2021\")"
   ]
  },
  {
   "cell_type": "code",
   "execution_count": 134,
   "id": "6535f165",
   "metadata": {},
   "outputs": [
    {
     "name": "stdout",
     "output_type": "stream",
     "text": [
      "CPU times: user 59.8 s, sys: 27.6 s, total: 1min 27s\n",
      "Wall time: 1min 27s\n"
     ]
    },
    {
     "data": {
      "text/plain": [
       "'Which are the top 3 sub category based on contribution to overall sales except paper'"
      ]
     },
     "execution_count": 134,
     "metadata": {},
     "output_type": "execute_result"
    }
   ],
   "source": [
    "%%time\n",
    "predict_template_query_v3(\"Which are the top 3 sub category based on share/contribution of sales across segment except paper\")"
   ]
  },
  {
   "cell_type": "code",
   "execution_count": 135,
   "id": "be5896a0",
   "metadata": {},
   "outputs": [
    {
     "name": "stdout",
     "output_type": "stream",
     "text": [
      "CPU times: user 59.3 s, sys: 26.9 s, total: 1min 26s\n",
      "Wall time: 1min 26s\n"
     ]
    },
    {
     "data": {
      "text/plain": [
       "'Which are the top sub category basis sales in 2023'"
      ]
     },
     "execution_count": 135,
     "metadata": {},
     "output_type": "execute_result"
    }
   ],
   "source": [
    "%%time\n",
    "predict_template_query_v3(\"which are the 5 top selling sub category by sales in 2023\")"
   ]
  },
  {
   "cell_type": "code",
   "execution_count": 136,
   "id": "f1607893",
   "metadata": {},
   "outputs": [
    {
     "name": "stdout",
     "output_type": "stream",
     "text": [
      "CPU times: user 1min 4s, sys: 29.4 s, total: 1min 33s\n",
      "Wall time: 1min 33s\n"
     ]
    },
    {
     "data": {
      "text/plain": [
       "'What is the trend of sales for phone in 2020'"
      ]
     },
     "execution_count": 136,
     "metadata": {},
     "output_type": "execute_result"
    }
   ],
   "source": [
    "%%time\n",
    "predict_template_query_v3(\"how does the sales change for phone in the last year\")"
   ]
  },
  {
   "cell_type": "code",
   "execution_count": 137,
   "id": "a63bdd99",
   "metadata": {},
   "outputs": [
    {
     "name": "stdout",
     "output_type": "stream",
     "text": [
      "CPU times: user 1min 2s, sys: 28.6 s, total: 1min 30s\n",
      "Wall time: 1min 30s\n"
     ]
    },
    {
     "data": {
      "text/plain": [
       "'What is the average monthly share of paper sales over the last 2.5 years'"
      ]
     },
     "execution_count": 137,
     "metadata": {},
     "output_type": "execute_result"
    }
   ],
   "source": [
    "%%time\n",
    "predict_template_query_v3(\"what is the average monthly market share of paper for the last two and a half years\")"
   ]
  },
  {
   "cell_type": "code",
   "execution_count": 138,
   "id": "a0dac6a0",
   "metadata": {},
   "outputs": [
    {
     "name": "stdout",
     "output_type": "stream",
     "text": [
      "CPU times: user 1min 3s, sys: 29 s, total: 1min 32s\n",
      "Wall time: 1min 32s\n"
     ]
    },
    {
     "data": {
      "text/plain": [
       "'When was the last time that sales of paper across months was lowest'"
      ]
     },
     "execution_count": 138,
     "metadata": {},
     "output_type": "execute_result"
    }
   ],
   "source": [
    "%%time\n",
    "predict_template_query_v3(\"when was the monthly selling of paper recorded the lowest?\")"
   ]
  },
  {
   "cell_type": "code",
   "execution_count": null,
   "id": "4d6d84c1",
   "metadata": {},
   "outputs": [],
   "source": []
  },
  {
   "cell_type": "code",
   "execution_count": 49,
   "id": "0769d358",
   "metadata": {},
   "outputs": [
    {
     "name": "stderr",
     "output_type": "stream",
     "text": [
      "/opt/conda/lib/python3.8/site-packages/transformers/generation/utils.py:1270: UserWarning: You have modified the pretrained model configuration to control generation. This is a deprecated strategy to control generation and will be removed soon, in a future version. Please use a generation configuration file (see https://huggingface.co/docs/transformers/main_classes/text_generation )\n",
      "  warnings.warn(\n",
      "/opt/conda/lib/python3.8/site-packages/transformers/generation/utils.py:2415: UserWarning: Specified kernel cache directory could not be created! This disables kernel caching. Specified directory is /home/mosaic-ai/.cache/torch/kernels. This warning will appear only once per process. (Triggered internally at ../aten/src/ATen/native/cuda/jit_utils.cpp:1442.)\n",
      "  next_tokens.tile(eos_token_id_tensor.shape[0], 1).ne(eos_token_id_tensor.unsqueeze(1)).prod(dim=0)\n"
     ]
    },
    {
     "name": "stdout",
     "output_type": "stream",
     "text": [
      "CPU times: user 23.8 s, sys: 5.03 s, total: 28.8 s\n",
      "Wall time: 28.8 s\n"
     ]
    },
    {
     "data": {
      "text/plain": [
       "'What is the sales in 2023'"
      ]
     },
     "execution_count": 49,
     "metadata": {},
     "output_type": "execute_result"
    }
   ],
   "source": [
    "%%time\n",
    "predict_template_query_v3(\"What were the sales in '23?\")"
   ]
  },
  {
   "cell_type": "code",
   "execution_count": 50,
   "id": "8a7e5e92",
   "metadata": {},
   "outputs": [
    {
     "name": "stdout",
     "output_type": "stream",
     "text": [
      "CPU times: user 22.7 s, sys: 5.03 s, total: 27.8 s\n",
      "Wall time: 27.8 s\n"
     ]
    },
    {
     "data": {
      "text/plain": [
       "'What is the sales in 2022'"
      ]
     },
     "execution_count": 50,
     "metadata": {},
     "output_type": "execute_result"
    }
   ],
   "source": [
    "%%time\n",
    "predict_template_query_v3(\"sales number in year 2022?\")"
   ]
  },
  {
   "cell_type": "code",
   "execution_count": 53,
   "id": "1d5bbbb2",
   "metadata": {},
   "outputs": [
    {
     "name": "stdout",
     "output_type": "stream",
     "text": [
      "CPU times: user 1min 4s, sys: 30.3 s, total: 1min 34s\n",
      "Wall time: 1min 34s\n"
     ]
    },
    {
     "data": {
      "text/plain": [
       "'What is the sales in 2020'"
      ]
     },
     "execution_count": 53,
     "metadata": {},
     "output_type": "execute_result"
    }
   ],
   "source": [
    "%%time\n",
    "predict_template_query_v3(\"what was profit for the year 2020?\")"
   ]
  },
  {
   "cell_type": "code",
   "execution_count": 49,
   "id": "54524b28",
   "metadata": {},
   "outputs": [
    {
     "name": "stdout",
     "output_type": "stream",
     "text": [
      "CPU times: user 1min 10s, sys: 33.4 s, total: 1min 43s\n",
      "Wall time: 1min 43s\n"
     ]
    },
    {
     "data": {
      "text/plain": [
       "'What is the sales in 2020'"
      ]
     },
     "execution_count": 49,
     "metadata": {},
     "output_type": "execute_result"
    }
   ],
   "source": [
    "%%time\n",
    "predict_template_query_v3(\"what was sales in 11/20?\")"
   ]
  },
  {
   "cell_type": "code",
   "execution_count": 51,
   "id": "ce37bd02",
   "metadata": {
    "scrolled": true
   },
   "outputs": [
    {
     "name": "stdout",
     "output_type": "stream",
     "text": [
      "CPU times: user 1min 2s, sys: 29.1 s, total: 1min 31s\n",
      "Wall time: 1min 31s\n"
     ]
    },
    {
     "data": {
      "text/plain": [
       "'What is the sales and discount percentage in 1983 vs 1984'"
      ]
     },
     "execution_count": 51,
     "metadata": {},
     "output_type": "execute_result"
    }
   ],
   "source": [
    "%%time\n",
    "predict_template_query_v3(\"Compare 1983 and 1984 sales and discount percentages.\")"
   ]
  },
  {
   "cell_type": "code",
   "execution_count": 54,
   "id": "9753588d",
   "metadata": {},
   "outputs": [
    {
     "name": "stdout",
     "output_type": "stream",
     "text": [
      "CPU times: user 23.9 s, sys: 5.52 s, total: 29.4 s\n",
      "Wall time: 29.4 s\n"
     ]
    },
    {
     "data": {
      "text/plain": [
       "'What is the sales in 2022'"
      ]
     },
     "execution_count": 54,
     "metadata": {},
     "output_type": "execute_result"
    }
   ],
   "source": [
    "%%time\n",
    "predict_template_query_v3(\"what was sales in twenty twenty two?\")"
   ]
  },
  {
   "cell_type": "code",
   "execution_count": 52,
   "id": "9b50d7f1",
   "metadata": {},
   "outputs": [
    {
     "name": "stdout",
     "output_type": "stream",
     "text": [
      "CPU times: user 1min 7s, sys: 31.3 s, total: 1min 38s\n",
      "Wall time: 1min 38s\n"
     ]
    },
    {
     "data": {
      "text/plain": [
       "'What is the monthly trend of profit'"
      ]
     },
     "execution_count": 52,
     "metadata": {},
     "output_type": "execute_result"
    }
   ],
   "source": [
    "%%time\n",
    "predict_template_query_v3(\"what are profit each months\")"
   ]
  },
  {
   "cell_type": "code",
   "execution_count": 45,
   "id": "2b3e9fd1",
   "metadata": {},
   "outputs": [
    {
     "name": "stdout",
     "output_type": "stream",
     "text": [
      "CPU times: user 1min 5s, sys: 29.9 s, total: 1min 35s\n",
      "Wall time: 1min 35s\n"
     ]
    },
    {
     "data": {
      "text/plain": [
       "'When was the last time that sales of phone was lowest'"
      ]
     },
     "execution_count": 45,
     "metadata": {},
     "output_type": "execute_result"
    }
   ],
   "source": [
    "%%time\n",
    "predict_template_query_v3(\"When did the previous low in phone sales take place?\")"
   ]
  },
  {
   "cell_type": "code",
   "execution_count": 46,
   "id": "2053ff2a",
   "metadata": {},
   "outputs": [
    {
     "name": "stdout",
     "output_type": "stream",
     "text": [
      "CPU times: user 1min 8s, sys: 31.8 s, total: 1min 40s\n",
      "Wall time: 1min 40s\n"
     ]
    },
    {
     "data": {
      "text/plain": [
       "'When was the last time that sales of phone was lowest'"
      ]
     },
     "execution_count": 46,
     "metadata": {},
     "output_type": "execute_result"
    }
   ],
   "source": [
    "%%time\n",
    "predict_template_query_v3(\"When was phone sales lowest recently?\")"
   ]
  },
  {
   "cell_type": "code",
   "execution_count": null,
   "id": "17f34064",
   "metadata": {},
   "outputs": [],
   "source": []
  },
  {
   "cell_type": "code",
   "execution_count": null,
   "id": "75bf002e",
   "metadata": {},
   "outputs": [],
   "source": []
  },
  {
   "cell_type": "code",
   "execution_count": 67,
   "id": "ff5b23c6",
   "metadata": {
    "scrolled": true
   },
   "outputs": [
    {
     "name": "stdout",
     "output_type": "stream",
     "text": [
      "CPU times: user 1min 47s, sys: 50 s, total: 2min 37s\n",
      "Wall time: 2min 37s\n"
     ]
    }
   ],
   "source": [
    "%%time\n",
    "\n",
    "inp = 'what are you doing'\n",
    "inp = tokenizer.encode(inp, return_tensors='pt')\n",
    "output = model.generate(input_ids=inp.to('cuda'), max_length= 200)\n",
    "output = tokenizer.decode(outputs[0])"
   ]
  },
  {
   "cell_type": "code",
   "execution_count": 49,
   "id": "cb192915",
   "metadata": {},
   "outputs": [],
   "source": [
    "from tqdm import tqdm"
   ]
  },
  {
   "cell_type": "code",
   "execution_count": 50,
   "id": "c210030a",
   "metadata": {},
   "outputs": [],
   "source": [
    "df2 = pd.read_csv('template_and_user_query.csv')"
   ]
  },
  {
   "cell_type": "code",
   "execution_count": 51,
   "id": "621010b7",
   "metadata": {},
   "outputs": [],
   "source": [
    "val_df2 = df2.iloc[::10,:]\n",
    "val_df2.reset_index(drop=True, inplace=True)\n",
    "df2 = pd.concat([df2,val_df2]).drop_duplicates(keep=False).reset_index()\n",
    "df2.drop(columns=['index'], inplace=True)"
   ]
  },
  {
   "cell_type": "code",
   "execution_count": 57,
   "id": "00927e23",
   "metadata": {
    "scrolled": true
   },
   "outputs": [],
   "source": [
    "df2_new = df2[300:500]"
   ]
  },
  {
   "cell_type": "code",
   "execution_count": 60,
   "id": "eef5a6c3",
   "metadata": {},
   "outputs": [
    {
     "name": "stderr",
     "output_type": "stream",
     "text": [
      "200it [1:42:11, 30.66s/it]"
     ]
    },
    {
     "name": "stdout",
     "output_type": "stream",
     "text": [
      "CPU times: user 1h 21min 28s, sys: 20min 42s, total: 1h 42min 10s\n",
      "Wall time: 1h 42min 11s\n"
     ]
    },
    {
     "name": "stderr",
     "output_type": "stream",
     "text": [
      "\n"
     ]
    }
   ],
   "source": [
    "%%time\n",
    "output_list_300_500 = []\n",
    "for i, row in tqdm(df2_new.iterrows()):\n",
    "    inp = row['user query']\n",
    "    try:\n",
    "        output = predict_template_query_v3(inp)\n",
    "    except:\n",
    "        output = None\n",
    "        print(f\"Got exception while processing : {inp}\")\n",
    "    output_list_300_500.append(output)"
   ]
  },
  {
   "cell_type": "code",
   "execution_count": null,
   "id": "67ef0663",
   "metadata": {},
   "outputs": [],
   "source": []
  },
  {
   "cell_type": "code",
   "execution_count": 62,
   "id": "a21081b2",
   "metadata": {
    "scrolled": true
   },
   "outputs": [],
   "source": [
    "df = pd.DataFrame(output_list_300_500, columns=['predicted_template'])\n",
    "df.to_csv('predict_df_300_500.csv', index=False)"
   ]
  },
  {
   "cell_type": "code",
   "execution_count": 61,
   "id": "02e731ba",
   "metadata": {},
   "outputs": [
    {
     "data": {
      "text/plain": [
       "['What is the sales of phone and paper in 2020',\n",
       " 'What is the sales of phone and paper in 2020',\n",
       " 'What is the sales of phone and paper in 2020',\n",
       " 'What is the sales of phone and paper in 2020',\n",
       " 'What is the sales of phone and paper in 2020',\n",
       " 'What is the sales of phone and paper in 2020',\n",
       " 'What is the sales of phone and paper in 2020',\n",
       " 'What is the sales of phone and paper in 2020',\n",
       " 'What is the sales of phone and paper in 2020',\n",
       " 'What is the sales of phone and paper in 2020',\n",
       " 'What is the sales of phone and paper across months',\n",
       " 'What is the sales of phone and paper across months',\n",
       " 'What is the sales of phone and paper across months',\n",
       " 'What is the sales of phone and paper across months',\n",
       " 'What is the sales of phone and paper across months',\n",
       " 'What is the sales of phone and paper across months',\n",
       " 'What is the sales of phone and paper across months',\n",
       " 'What is the sales of phone and paper across months',\n",
       " 'What is the sales of phone and paper across months',\n",
       " 'What is the sales of phone and paper across months',\n",
       " 'What is the sales of phone and paper across months in 2020',\n",
       " 'What is the sales of phone and paper across months in 2020',\n",
       " 'What is the sales of phone and paper across months in 2020',\n",
       " 'What is the sales of phone and paper across months in 2020',\n",
       " 'What is the sales of phone and paper across months in 2020',\n",
       " 'What is the sales of phone and paper across months in 2020',\n",
       " 'What is the sales of phone and paper across months in 2020',\n",
       " 'What is the sales of phone and paper across months in 2020',\n",
       " 'What is the sales of phone and paper across months in 2020',\n",
       " 'What is the sales of phone and paper across months in 2020',\n",
       " 'List of sub category',\n",
       " 'List of sub category',\n",
       " 'List of sub category',\n",
       " 'List of sub category',\n",
       " 'List of sub category',\n",
       " 'List of sub category',\n",
       " 'List of sub category',\n",
       " 'List of sub category',\n",
       " 'List of sub category',\n",
       " 'List of sub category',\n",
       " 'List of sub category in 2020',\n",
       " 'List of sub category in 2020',\n",
       " 'List of sub category in 2020',\n",
       " 'List of sub category in 2020',\n",
       " 'List of sub category in 2020',\n",
       " 'List of sub category in 2020',\n",
       " 'List of sub category in 2020',\n",
       " 'List of sub category in 2020',\n",
       " 'List of sub category in 2020',\n",
       " 'List of sub category in 2020',\n",
       " 'List of sub category and country',\n",
       " 'List of sub category and country',\n",
       " 'List of sub category and country',\n",
       " 'List of sub category and country',\n",
       " 'List of sub category and country',\n",
       " 'List of sub category and country',\n",
       " 'List of sub category and country',\n",
       " 'List of sub category and country',\n",
       " 'List of sub category and country',\n",
       " 'List of sub category and country',\n",
       " 'List of sub category and country in 2020',\n",
       " 'List of sub category and country in 2020',\n",
       " 'List of sub category and country in 2020',\n",
       " 'List of sub category and country in 2020',\n",
       " 'List of sub category and country in 2020',\n",
       " 'List of sub category and country in 2020',\n",
       " 'List of sub category and country in 2020',\n",
       " 'List of sub category and country in 2020',\n",
       " 'List of sub category and country in 2020',\n",
       " 'List of sub category and country in 2020',\n",
       " 'List of sub category having sales more than 10k',\n",
       " 'List of sub category having sales contribution more than 10k',\n",
       " 'List of sub category having sales contribution more than 10k',\n",
       " 'List of sub category having sales contribution more than 10k',\n",
       " 'List of sub category having sales more than 10k',\n",
       " 'List of sub category having sales more than 10k',\n",
       " 'List of sub category having sales contribution more than 10k',\n",
       " 'List of sub category having sales more than 10k',\n",
       " 'List of sub category having sales more than 10k',\n",
       " 'List of sub category having sales more than 10k',\n",
       " 'List of sub category having sales more than 10k in 2020',\n",
       " 'List of sub category with sales contribution more than 10k in 2020',\n",
       " 'List of sub category having sales more than 10k in 2020',\n",
       " 'List of sub category having sales more than 10k in 2020',\n",
       " 'List of sub category with sales contribution more than 10k in 2020',\n",
       " 'List of sub category having sales more than 10k in 2020',\n",
       " 'List of sub category having sales contribution more than 10k in 2020',\n",
       " 'List of sub category having sales more than 10k in 2020',\n",
       " 'List of sub category having sales more than 10k in 2020',\n",
       " 'List of sub category having sales more than 10k in 2020',\n",
       " 'List of sub category and country having sales more than 10k',\n",
       " 'List of sub category and country having sales more than 10k',\n",
       " 'List of sub category and country having sales more than 10k',\n",
       " 'List of sub category and country having sales more than 10k',\n",
       " 'List of sub category and country having sales more than 10k',\n",
       " 'List of sub category and country having sales more than 10k',\n",
       " 'List of sub category and country having sales more than 10k',\n",
       " 'List of sub category and country having sales more than 10k',\n",
       " 'List of sub category and country having sales more than 10k',\n",
       " 'List of sub category and country having sales more than 10k',\n",
       " 'List of sub category and country having sales more than 10k in 2020',\n",
       " 'List of sub category and country having sales more than 10k in 2020',\n",
       " 'List of sub category and country having sales more than 10k in 2020',\n",
       " 'List of sub category and country having sales more than 10k in 2020',\n",
       " 'List of sub category and country having sales more than 10k in 2020',\n",
       " 'List of sub category and country having sales more than 10k in 2020',\n",
       " 'List of sub category and country having sales more than 10k in 2020',\n",
       " 'List of sub category and country having sales more than 10k in 2020',\n",
       " 'List of sub category and country having sales more than 10k in 2020',\n",
       " 'List of sub category and country having sales more than 10k in 2020',\n",
       " 'List of sub category except chairs',\n",
       " 'List of sub category except chairs',\n",
       " 'List of sub category except chairs',\n",
       " 'List of sub category except chairs',\n",
       " 'List of sub category except chairs',\n",
       " 'List of sub category except chairs',\n",
       " 'List of sub category except chairs',\n",
       " 'List of sub category except chairs',\n",
       " 'List of sub category except chairs',\n",
       " 'List of sub category except chairs',\n",
       " 'List of sub category across months',\n",
       " 'List of sub category across months',\n",
       " 'List of sub category across months',\n",
       " 'List of sub category across months',\n",
       " 'List of sub category across months',\n",
       " 'List of sub category across months',\n",
       " 'List of sub category across months',\n",
       " 'List of sub category across months',\n",
       " 'List of sub category across months',\n",
       " 'List of sub category across months',\n",
       " 'List of sub category except chairs across months',\n",
       " 'List of sub category except chairs across months',\n",
       " 'List of sub category except chairs across months',\n",
       " 'List of sub category except chairs across months',\n",
       " 'List of sub category except chairs across months',\n",
       " 'List of sub category except chairs across months',\n",
       " 'List of sub category except chairs across months',\n",
       " 'List of sub category except chairs across months',\n",
       " 'List of sub category except chairs across months',\n",
       " 'List of sub category except chairs across months',\n",
       " 'How many sub category are there',\n",
       " 'How many sub category are there',\n",
       " 'How many sub category are there',\n",
       " 'How many sub category are there',\n",
       " 'How many sub category are there',\n",
       " 'How many sub category are there',\n",
       " 'How many sub category are there',\n",
       " 'How many sub category are there',\n",
       " 'How many sub category are there',\n",
       " 'How many sub category are there',\n",
       " 'How many sub category across months',\n",
       " 'How many sub category across months',\n",
       " 'How many sub category across months',\n",
       " 'How many sub category across months',\n",
       " 'How many sub category across months',\n",
       " 'How many sub category across months',\n",
       " 'How many sub category across months',\n",
       " 'How many sub category across months',\n",
       " 'How many sub category across months',\n",
       " 'How many sub category across months',\n",
       " 'How many sub category where sales is more than 10k',\n",
       " 'How many sub category where sales is more than 10k',\n",
       " 'How many sub category where sales is more than 10k',\n",
       " 'How many sub category where sales is more than 10k',\n",
       " 'How many sub category where sales is more than 10k',\n",
       " 'How many sub category where sales is more than 10k',\n",
       " 'How many sub category where sales is more than 10k',\n",
       " 'How many sub category where sales is more than 10k',\n",
       " 'How many sub category where sales is more than 10k',\n",
       " 'How many sub category where sales is more than 10k',\n",
       " 'How many sub category across months where sales is more than 10k',\n",
       " 'How many sub category across months where sales is more than 10k',\n",
       " 'How many sub category across months where sales is more than 10k',\n",
       " 'How many sub category across months where sales is more than 10k',\n",
       " 'How many sub category across months where sales is more than 10k',\n",
       " 'How many sub category across months where sales is more than 10k',\n",
       " 'What are the sub category with sales more than 10k across months',\n",
       " 'How many sub category across months where sales is more than 10k',\n",
       " 'How many sub category across months where sales is more than 10k',\n",
       " 'How many sub category across months where sales is more than 10k',\n",
       " 'How many sub category contributing to growth of sales across months',\n",
       " 'How many sub category contributing to growth of sales across months',\n",
       " 'How many sub category contributing to growth of sales across months',\n",
       " 'How many sub category contributing to growth of sales across months',\n",
       " 'How many sub category contributing to growth of sales across months',\n",
       " 'How many sub category contributing to growth of sales across months',\n",
       " 'How many sub category contributing to growth of sales across months',\n",
       " 'How many sub category contributing to growth of sales across months',\n",
       " 'How many sub category contributing to growth of sales across months',\n",
       " 'How many sub category contributing to growth of sales across months',\n",
       " 'When was sales lowest',\n",
       " 'When was sales lowest',\n",
       " 'When was sales lowest',\n",
       " 'When was the last time that sales lowest',\n",
       " 'When was sales lowest',\n",
       " 'When was sales lowest',\n",
       " 'When was sales lowest',\n",
       " 'When was the last time that sales lowest',\n",
       " 'When was sales lowest',\n",
       " 'When was sales lowest']"
      ]
     },
     "execution_count": 61,
     "metadata": {},
     "output_type": "execute_result"
    }
   ],
   "source": [
    "output_list_300_500"
   ]
  },
  {
   "cell_type": "code",
   "execution_count": 86,
   "id": "eb6f4b81",
   "metadata": {
    "scrolled": true
   },
   "outputs": [
    {
     "data": {
      "text/plain": [
       "['What is the sales and discount percentage by sub category across months',\n",
       " 'What is the sales and discount percentage by sub category across months',\n",
       " 'What is the sales and discount percentage by sub category across months',\n",
       " 'What is the sales and discount percentage by sub category across months',\n",
       " 'What is the sales and discount percentage by sub category across months',\n",
       " 'What is the sales and discount percentage by sub category across months',\n",
       " 'What is the sales and discount percentage by sub category across months',\n",
       " 'What is the sales and discount percentage by sub category across months',\n",
       " 'What is the sales and discount percentage by sub category across months',\n",
       " 'What is the sales and discount percentage by sub category across months',\n",
       " 'What is the sales and discount percentage by sub category and country across months',\n",
       " 'What is the sales and discount percentage by sub category and country across months',\n",
       " 'What is the sales and discount percentage by sub category and country across months',\n",
       " 'What is the sales and discount percentage by sub category and country across months',\n",
       " 'What is the sales and discount percentage by sub category and country across months',\n",
       " 'What is the sales and discount percentage by sub category and country across months',\n",
       " 'What is the sales and discount percentage by sub category and country across months',\n",
       " 'What is the sales and discount percentage by sub category and country across months',\n",
       " 'What is the sales and discount percentage by sub category and country across months',\n",
       " 'What is the sales and discount percentage by sub category and country across months',\n",
       " 'List of sub category with sales contribution more than 10k across months',\n",
       " 'List of sub category with sales contribution more than 10k across months',\n",
       " 'List of sub category with sales contribution more than 10k across months',\n",
       " 'List of sub category with sales contribution more than 10k across months',\n",
       " 'Which are the top sub category with sales more than 10k across months',\n",
       " 'List of sub category with sales contribution more than 10k across months',\n",
       " 'What are the sub category with sales more than 10k across months',\n",
       " 'List of sub category with sales contribution more than 10k across months',\n",
       " 'What are the sub category with sales more than 10k across months',\n",
       " 'List of sub category having sales more than 10k across months',\n",
       " 'What is the sales of sub category except chairs across months',\n",
       " 'What is the sales of sub category except chairs across months',\n",
       " 'What is the sales of sub category except chairs across months',\n",
       " 'What is the sales of sub category except chairs across months',\n",
       " 'What is the sales of sub category except chairs across months',\n",
       " 'What is the sales of sub category except chairs across months',\n",
       " 'What is the sales by sub category except chairs across months',\n",
       " 'What is the sales of sub category except chairs across months',\n",
       " 'What is the sales of sub category except chairs across months',\n",
       " 'What is the sales of sub category except chairs across months',\n",
       " 'What is the sales , discount percentage and discount across months',\n",
       " 'What is the sales , discount percentage and discount across months',\n",
       " 'What is the sales , discount percentage and discount across months',\n",
       " 'What is the sales , discount percentage and discount across months',\n",
       " 'What is the sales , discount percentage and discount across months',\n",
       " 'What is the monthly trend of sales , discount percentage and discount',\n",
       " 'What is the sales , discount percentage and discount across months',\n",
       " 'What is the sales , discount percentage and discount across months',\n",
       " 'What is the sales , discount percentage and discount across months',\n",
       " 'What is the sales , discount percentage and discount across months',\n",
       " 'What is the sales , discount percentage and discount by sub category across months',\n",
       " 'What is the sales , discount percentage and discount by sub category across months',\n",
       " 'What is the sales , discount percentage and discount by sub category across months',\n",
       " 'What is the sales , discount percentage and discount by sub category across months',\n",
       " 'What is the sales , discount percentage and discount by sub category across months',\n",
       " 'What is the sales , discount percentage and discount by sub category across months',\n",
       " 'What is the sales , discount percentage and discount by sub category across months',\n",
       " 'What is the sales , discount percentage and discount by sub category across months',\n",
       " 'What is the sales , discount percentage and discount by sub category across months',\n",
       " 'What is the sales , discount percentage and discount by sub category across months',\n",
       " 'What is the sales , discount percentage and discount in 2020',\n",
       " 'What is the sales , discount percentage and discount in 2020',\n",
       " 'What is the sales , discount percentage and discount in 2020',\n",
       " 'What is the sales , discount percentage and discount in 2020',\n",
       " 'What is the sales , discount percentage and discount in 2020',\n",
       " 'What is the sales , discount percentage and discount in 2020',\n",
       " 'What is the sales , discount percentage and discount in 2020',\n",
       " 'Diagnose sales , discount percentage and discount in 2020',\n",
       " 'What is the sales , discount percentage and discount in 2020',\n",
       " 'What is the sales , discount percentage and discount in 2020',\n",
       " 'What is the sales , discount percentage and discount of sub category in 2020',\n",
       " 'What is the sales , discount percentage and discount of sub category in 2020',\n",
       " 'What is the sales , discount percentage and discount of sub category in 2020',\n",
       " 'What is the sales , discount percentage and discount by sub category in 2020',\n",
       " 'What is the sales , discount percentage and discount of sub category in 2020',\n",
       " 'What is the sales , discount percentage and discount of sub category in 2020',\n",
       " 'What is the sales , discount percentage and discount of sub category in 2020',\n",
       " 'What is the sales , discount percentage and discount of sub category in 2020',\n",
       " 'What is the sales , discount percentage and discount by sub category in 2020',\n",
       " 'What is the sales , discount percentage and discount of sub category in 2020',\n",
       " 'Which sub category have sales more than 10k',\n",
       " 'Which sub category have sales more than 10k',\n",
       " 'List the top sub category having sales more than 10k',\n",
       " 'Which sub category have sales more than 10k',\n",
       " 'Which sub category have sales more than 10k',\n",
       " 'Which sub category have sales more than 10k',\n",
       " 'Which sub category have sales more than 10k',\n",
       " 'Which sub category have sales more than 10k',\n",
       " 'Which sub category have sales more than 10k',\n",
       " 'Which sub category have sales more than 10k',\n",
       " 'Which sub category have sales more than 10k in 2020',\n",
       " 'Which sub category have sales more than 10k in 2020',\n",
       " 'List the top sub category having sales more than 10k in 2020',\n",
       " 'Which sub category have sales more than 10k in 2020',\n",
       " 'List the top sub category having sales more than 10k in 2020',\n",
       " 'Which sub category have sales more than 10k in 2020',\n",
       " 'Which sub category have sales more than 10k in 2020',\n",
       " 'Which sub category have sales more than 10k in 2020',\n",
       " 'Which sub category have sales more than 10k in 2020',\n",
       " 'Which sub category have sales more than 10k in 2020']"
      ]
     },
     "execution_count": 86,
     "metadata": {},
     "output_type": "execute_result"
    }
   ],
   "source": [
    "output_list_200_300"
   ]
  },
  {
   "cell_type": "code",
   "execution_count": 81,
   "id": "1a12e330",
   "metadata": {
    "scrolled": true
   },
   "outputs": [
    {
     "data": {
      "text/plain": [
       "['What is the sales and discount percentage by sub category and country in 2020',\n",
       " 'What is the sales and discount percentage by sub category and country in 2020',\n",
       " 'What is the sales and discount percentage by sub category and country in 2020',\n",
       " 'What is the sales and discount percentage by sub category and country in 2020',\n",
       " 'What is the sales and discount percentage by sub category and country in 2020',\n",
       " 'What is the sales and discount percentage by sub category and country in 2020',\n",
       " 'What is the sales and discount percentage by sub category and country in 2020',\n",
       " 'What is the sales and discount percentage by sub category and country in 2020',\n",
       " 'What is the sales and discount percentage by sub category and country in 2020',\n",
       " 'What is the sales and discount percentage by sub category and country in 2020',\n",
       " 'What is the sales and discount percentage in 2020 vs 2021',\n",
       " 'What is the sales and discount percentage in 2020 vs 2021',\n",
       " 'What is the sales and discount percentage in 2020 vs 2021',\n",
       " 'What is the sales and discount percentage in 2020 vs 2021',\n",
       " 'What is the sales and discount percentage in 2020 vs 2021',\n",
       " 'What is the sales and discount percentage in 2020 vs 2021',\n",
       " 'What is the sales and discount percentage in 2020 vs 2021',\n",
       " 'What is the sales and discount percentage change from 2020 to 2021',\n",
       " 'What is the sales and discount percentage in 2020 vs 2021',\n",
       " 'What is the sales and discount percentage in 2020 vs 2021',\n",
       " 'What is the sales and discount percentage by sub category in 2020 vs 2021',\n",
       " 'What is the sales and discount percentage by sub category in 2020 vs 2021',\n",
       " 'What is the sales and discount percentage by sub category in 2020 vs 2021',\n",
       " 'What is the sales and discount percentage by sub category in 2020 vs 2021',\n",
       " 'What is the sales and discount percentage by sub category in 2020 vs 2021',\n",
       " 'What is the sales and discount percentage by sub category in 2020 vs 2021',\n",
       " 'What is the trend of sales and discount percentage by sub category in 2020 vs 2021',\n",
       " 'What is the sales and discount percentage by sub category in 2020 vs 2021',\n",
       " 'What is the sales and discount percentage by sub category in 2020 vs 2021',\n",
       " 'What is the sales and discount percentage by sub category in 2020 vs 2021',\n",
       " 'What is the sales and discount percentage by sub category and country in 2020 vs 2021',\n",
       " 'What is the sales and discount percentage by sub category and country in 2020 vs 2021',\n",
       " 'What is the sales and discount percentage by sub category and country in 2020 vs 2021',\n",
       " 'What is the sales and discount percentage by sub category and country in 2020 vs 2021',\n",
       " 'What is the sales and discount percentage by sub category and country in 2020 vs 2021',\n",
       " 'What is the sales and discount percentage by sub category and country in 2020 vs 2021',\n",
       " 'What is the sales and discount percentage by sub category and country in 2020 vs 2021',\n",
       " 'What is the sales and discount percentage by sub category and country in 2020 vs 2021',\n",
       " 'What is the sales and discount percentage by sub category and country in 2020 vs 2021',\n",
       " 'What is the sales and discount percentage by sub category and country in 2020 vs 2021',\n",
       " 'List of sub category having sales more than 10k',\n",
       " 'List of sub category having sales contribution more than 10k',\n",
       " 'List of sub category having sales contribution more than 10k',\n",
       " 'List of sub category having sales contribution more than 10k',\n",
       " 'How many sub category where sales is more than 10k',\n",
       " 'List of sub category having sales contribution more than 10k',\n",
       " 'List of sub category having sales more than 10k',\n",
       " 'List of sub category having sales more than 10k',\n",
       " 'List of sub category having sales contribution more than 10k',\n",
       " 'What are the sub category with sales contribution more than 10k',\n",
       " 'What is the sales of sub category except chairs',\n",
       " 'What is the sales of sub category except chairs',\n",
       " 'What is the sales of sub category except chairs',\n",
       " 'What is the sales of sub category except chairs',\n",
       " 'What is the sales of sub category except chairs',\n",
       " 'What is the sales of sub category except chairs',\n",
       " 'What is the sales of sub category except chairs',\n",
       " 'What is the sales of sub category except chairs',\n",
       " 'What is the sales of sub category except chairs',\n",
       " 'What is the sales of sub category except chairs',\n",
       " 'What is the sales across months',\n",
       " 'What is the sales across months',\n",
       " 'What is the sales across months',\n",
       " 'What is the sales across months',\n",
       " 'What is the sales across months',\n",
       " 'What is the sales across months',\n",
       " 'What is the sales across months',\n",
       " 'What is the sales across months',\n",
       " 'What is the sales across months',\n",
       " 'What is the sales across months',\n",
       " 'What is the sales by sub category across months',\n",
       " 'What is the sales by sub category across months',\n",
       " 'What is the sales by sub category across months',\n",
       " 'What is the sales by sub category across months',\n",
       " 'What is the sales by sub category across months',\n",
       " 'What is the sales by sub category across months',\n",
       " 'What is the sales by sub category across months',\n",
       " 'What is the sales by sub category across months',\n",
       " 'What is the sales by sub category across months',\n",
       " 'What is the sales by sub category across months',\n",
       " 'What is the sales of phone across months',\n",
       " 'What is the sales of phone across months',\n",
       " 'What is the sales of phone across months',\n",
       " 'What is the sales of phone across months',\n",
       " 'What is the sales of phone across months',\n",
       " 'What is the sales of phone across months',\n",
       " 'What is the sales of phone across months',\n",
       " 'What is the sales of phone across months',\n",
       " 'What is the sales of phone across months',\n",
       " 'What is the sales of phone across months',\n",
       " 'What is the sales and discount percentage across months',\n",
       " 'What is the sales and discount percentage across months',\n",
       " 'What is the sales and discount percentage across months',\n",
       " 'What is the sales and discount percentage across months',\n",
       " 'What is the monthly trend of sales and discount percentage',\n",
       " 'What is the sales and discount percentage across months',\n",
       " 'What is the sales and discount percentage across months',\n",
       " 'What is the sales and discount percentage across months',\n",
       " 'What is the sales and discount percentage across months',\n",
       " 'What is the sales and discount percentage across months']"
      ]
     },
     "execution_count": 81,
     "metadata": {},
     "output_type": "execute_result"
    }
   ],
   "source": [
    "output_list_100_200"
   ]
  },
  {
   "cell_type": "code",
   "execution_count": 78,
   "id": "331e3190",
   "metadata": {
    "scrolled": true
   },
   "outputs": [
    {
     "data": {
      "text/plain": [
       "['What is the sales in 2020',\n",
       " 'What is the sales in 2020',\n",
       " 'What is the sales in 2020',\n",
       " 'What is the sales in 2020',\n",
       " 'What is the sales in 2020',\n",
       " 'What is the sales in 2020',\n",
       " 'What is the sales in 2020',\n",
       " 'What is the sales in 2020',\n",
       " 'What is the sales in 2020',\n",
       " 'What is the sales in 2020',\n",
       " 'What is the sales across months in 2020',\n",
       " 'What is the sales across months in 2020',\n",
       " 'What is the sales across months in 2020',\n",
       " 'What is the sales across months in 2020',\n",
       " 'What is the sales across months in 2020',\n",
       " 'What is the sales across months in 2020',\n",
       " 'What is the sales across months in 2020',\n",
       " 'What is the sales across months in 2020',\n",
       " 'What is the sales across months in 2020',\n",
       " 'What is the sales across months in 2020',\n",
       " 'What is the sales by sub category in 2020',\n",
       " 'What is the sales by sub category in 2020',\n",
       " 'What is the sales by sub category in 2020',\n",
       " 'What is the sales by sub category in 2020',\n",
       " 'What is the sales by sub category in 2020',\n",
       " 'What is the sales by sub category in 2020',\n",
       " 'What is the sales by sub category in 2020',\n",
       " 'What is the sales by sub category in 2020',\n",
       " 'What is the sales by sub category in 2020',\n",
       " 'What is the sales by sub category in 2020',\n",
       " 'What is the sales by sub category across months in 2020',\n",
       " 'What is the sales by sub category across months in 2020',\n",
       " 'What is the sales by sub category across months in 2020',\n",
       " 'What is the sales by sub category across months in 2020',\n",
       " 'What is the sales by sub category across months in 2020',\n",
       " 'What is the sales by sub category across months in 2020',\n",
       " 'What is the sales by sub category across months in 2020',\n",
       " 'What is the sales by sub category across months in 2020',\n",
       " 'What is the sales by sub category across months in 2020',\n",
       " 'What is the sales by sub category across months in 2020',\n",
       " 'What is the sales of phone in 2020',\n",
       " 'What is the sales of phone in 2020',\n",
       " 'What is the sales of phone in 2020',\n",
       " 'What is the sales of phone in 2020',\n",
       " 'What is the sales of phone in 2020',\n",
       " 'What is the sales of phone in 2020',\n",
       " 'What is the sales of phone in 2020',\n",
       " 'What is the sales of phone in 2020',\n",
       " 'What is the sales of phone in 2020',\n",
       " 'What is the sales of phone in 2020',\n",
       " 'What is the sales of phone across months in 2020',\n",
       " 'What is the sales of phone across months in 2020',\n",
       " 'What is the sales of phone across months in 2020',\n",
       " 'What is the sales of phone across months in 2020',\n",
       " 'What is the sales of phone across months in 2020',\n",
       " 'What is the sales of phone across months in 2020',\n",
       " 'What is the sales of phone across months in 2020',\n",
       " 'What is the sales of phone across months in 2020',\n",
       " 'What is the sales of phone across months in 2020',\n",
       " 'What is the sales of phone across months in 2020',\n",
       " 'What is the sales by sub category in 2020 vs 2021',\n",
       " 'What is the sales by sub category in 2020 vs 2021',\n",
       " 'What is the sales by sub category in 2020 vs 2021',\n",
       " 'What is the sales by sub category in 2020 vs 2021',\n",
       " 'What is the sales by sub category in 2020 vs 2021',\n",
       " 'What is the sales by sub category in 2020 vs 2021',\n",
       " 'Diagnose sales by sub category in 2020 vs 2021',\n",
       " 'What is the sales by sub category in 2020 vs 2021',\n",
       " 'What is the trend of sales by sub category in 2020 vs 2021',\n",
       " 'What is the sales by sub category in 2020 vs 2021',\n",
       " 'What is the sales in 2020 vs 2021',\n",
       " 'What is the sales in 2020 vs 2021',\n",
       " 'What is the sales in 2020 vs 2021',\n",
       " 'What is the sales in 2020 vs 2021',\n",
       " 'What is the sales in 2020 vs 2021',\n",
       " 'What is the sales in 2020 vs 2021',\n",
       " 'What is the sales in 2020 vs 2021',\n",
       " 'What is the sales in 2020 vs 2021',\n",
       " 'What is the sales in 2020 vs 2021',\n",
       " 'What is the sales in 2020 vs 2021',\n",
       " 'What is the sales and discount percentage in 2020',\n",
       " 'What is the sales and discount percentage in 2020',\n",
       " 'What is the sales and discount percentage in 2020',\n",
       " 'What is the contribution of sales and discounts in 2020',\n",
       " 'What is the sales and discount percentage in 2020',\n",
       " 'What is the sales and discount percentage in 2020',\n",
       " 'What is the sales and discount percentage in 2020',\n",
       " 'What is the sales and discount percentage in 2020',\n",
       " 'What is the sales and discount percentage in 2020',\n",
       " 'What is the sales and discount percentage in 2020',\n",
       " 'What is the sales and discount percentage by sub category in 2020',\n",
       " 'What is the sales and discount percentage by sub category in 2020',\n",
       " 'What is the sales and discount percentage by sub category in 2020',\n",
       " 'What is the sales and discount percentage by sub category in 2020',\n",
       " 'What is the sales and discount percentage by sub category in 2020',\n",
       " 'What is the sales and discount percentage by sub category in 2020',\n",
       " 'What is the sales and discount percentage by sub category in 2020',\n",
       " 'What is the sales and discount percentage by sub category in 2020',\n",
       " 'What is the sales and discount percentage by sub category in 2020',\n",
       " 'What is the sales and discount percentage by sub category in 2020']"
      ]
     },
     "execution_count": 78,
     "metadata": {},
     "output_type": "execute_result"
    }
   ],
   "source": [
    "output_list"
   ]
  },
  {
   "cell_type": "code",
   "execution_count": null,
   "id": "670ccb24",
   "metadata": {},
   "outputs": [],
   "source": []
  },
  {
   "cell_type": "code",
   "execution_count": null,
   "id": "cd9b8832",
   "metadata": {},
   "outputs": [],
   "source": []
  },
  {
   "cell_type": "code",
   "execution_count": null,
   "id": "eb61f802",
   "metadata": {},
   "outputs": [],
   "source": []
  },
  {
   "cell_type": "code",
   "execution_count": 40,
   "id": "196a3d84",
   "metadata": {},
   "outputs": [],
   "source": [
    "def predict_template_query(user_query):\n",
    "    question = query_template.format(user_query=user_query)\n",
    "    _input = str({'question': question})\n",
    "#     print(_input)\n",
    "    _inputs = tokenizer.encode(_input, return_tensors=\"pt\")\n",
    "#     print(_inputs)\n",
    "#     print(type(_inputs))\n",
    "    outputs = model_to_merge.generate(input_ids=_inputs.to('cuda'), max_length= 200)\n",
    "    output = tokenizer.decode(outputs[0])\n",
    "    # print(output)\n",
    "    # a = output.split(\"_LUMIN_ Answer\",1)[1]\n",
    "    #print(a)\n",
    "    return output"
   ]
  },
  {
   "cell_type": "code",
   "execution_count": null,
   "id": "5a3fb6e7",
   "metadata": {},
   "outputs": [],
   "source": [
    "model_to_merge.to('cuda')"
   ]
  },
  {
   "cell_type": "code",
   "execution_count": 63,
   "id": "7323583f",
   "metadata": {},
   "outputs": [],
   "source": [
    "def process_output(a):\n",
    "    b=a.split(\"### Answer\",1)[1]\n",
    "    return b.split(\"\\n\")[1]"
   ]
  },
  {
   "cell_type": "code",
   "execution_count": null,
   "id": "476faf99",
   "metadata": {},
   "outputs": [],
   "source": []
  },
  {
   "cell_type": "code",
   "execution_count": null,
   "id": "3972fa6e",
   "metadata": {},
   "outputs": [],
   "source": []
  },
  {
   "cell_type": "code",
   "execution_count": null,
   "id": "8c353855",
   "metadata": {},
   "outputs": [],
   "source": []
  },
  {
   "cell_type": "code",
   "execution_count": 5,
   "id": "7a1a7769",
   "metadata": {},
   "outputs": [],
   "source": [
    "# inp = \"why production dropped for bikes in 1st quarter 2022\"\n",
    "# predict_template_query(inp)"
   ]
  },
  {
   "cell_type": "code",
   "execution_count": 4,
   "id": "ac29f8f8",
   "metadata": {
    "scrolled": false
   },
   "outputs": [],
   "source": [
    "# inp = 'why sales of texas increase in 1st quarter 2023'\n",
    "# a = predict_template_query(inp)"
   ]
  },
  {
   "cell_type": "code",
   "execution_count": null,
   "id": "b83e75fc",
   "metadata": {},
   "outputs": [],
   "source": []
  },
  {
   "cell_type": "code",
   "execution_count": null,
   "id": "d2e6bd05",
   "metadata": {},
   "outputs": [],
   "source": []
  },
  {
   "cell_type": "code",
   "execution_count": 2,
   "id": "0e68c1d4",
   "metadata": {
    "scrolled": true
   },
   "outputs": [],
   "source": [
    "# inp = 'drivers of profit'\n",
    "# predict_template_query(inp)"
   ]
  },
  {
   "cell_type": "code",
   "execution_count": 3,
   "id": "b1023e87",
   "metadata": {},
   "outputs": [],
   "source": [
    "# inp = \"why sales dropped for bikes in 1st quarter 2022\"\n",
    "# predict_template_query(inp).split('\\n')[1]"
   ]
  },
  {
   "cell_type": "code",
   "execution_count": null,
   "id": "eba9f621",
   "metadata": {},
   "outputs": [],
   "source": []
  },
  {
   "cell_type": "code",
   "execution_count": null,
   "id": "912f2759",
   "metadata": {},
   "outputs": [],
   "source": []
  }
 ],
 "metadata": {
  "kernelspec": {
   "display_name": "Python 3",
   "language": "python",
   "name": "python3"
  },
  "language_info": {
   "codemirror_mode": {
    "name": "ipython",
    "version": 3
   },
   "file_extension": ".py",
   "mimetype": "text/x-python",
   "name": "python",
   "nbconvert_exporter": "python",
   "pygments_lexer": "ipython3",
   "version": "3.8.16"
  }
 },
 "nbformat": 4,
 "nbformat_minor": 5
}
